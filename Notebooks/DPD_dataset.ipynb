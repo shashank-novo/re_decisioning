{
 "cells": [
  {
   "cell_type": "code",
   "execution_count": 1,
   "metadata": {},
   "outputs": [
    {
     "name": "stdout",
     "output_type": "stream",
     "text": [
      "/Users/shashankgupta/Documents/code/git_project/re_decisioning\n",
      "/Users/shashankgupta/Documents/code/git_project/re_decisioning/Code\n"
     ]
    }
   ],
   "source": [
    "import os \n",
    "cwd = os.getcwd()\n",
    "\n",
    "os.chdir('../')\n",
    "cwd = os.getcwd()\n",
    "print(cwd)\n",
    " \n",
    "os.chdir('./code/')\n",
    "cwd = os.getcwd()\n",
    "print(cwd)\n",
    "\n",
    "import pandas as pd \n",
    "import numpy as np \n",
    "import seaborn as sns\n",
    "\n",
    "import pickle \n",
    "import logging\n",
    "\n",
    "\n",
    "from config.config import SQLQuery\n",
    "querySno = SQLQuery('snowflake')"
   ]
  },
  {
   "cell_type": "code",
   "execution_count": 2,
   "metadata": {},
   "outputs": [],
   "source": [
    "import sys\n",
    "sys.path.insert(0, '/Users/sarfrazahmed/Documents/projects/deposit-model/conf')\n",
    "import pandas as pd\n",
    "import numpy as np\n",
    "import chart_studio.plotly as py \n",
    "from datetime import timedelta\n",
    "import cufflinks as cf\n",
    "import plotly.express as px\n",
    "import plotly.graph_objects as go\n",
    "import plotly.figure_factory as ff\n",
    "import plotly.io as pio\n",
    "from pandas_profiling import ProfileReport\n",
    "pio.templates.default = 'plotly_dark'\n",
    "pd.set_option('display.max_rows', 500)\n",
    "pd.set_option('display.max_columns', 500)\n",
    "color_map = {'high': '#ef553b', 'low': '#636efa'}\n",
    "import datetime\n",
    "import pytz"
   ]
  },
  {
   "cell_type": "code",
   "execution_count": 3,
   "metadata": {},
   "outputs": [],
   "source": [
    "querySno = SQLQuery('snowflake')\n",
    "pilot_df = querySno(r\"\"\"\n",
    "with cashins as (\n",
    "select product_id, business_id,\n",
    "max(case when rnk = 1 then transaction_id else null end) as first_cashin_trans_id,\n",
    "max(case when rnk = 2 then transaction_id else null end) as second_cashin_trans_id,\n",
    "max(case when rnk = 3 then transaction_id else null end) as third_cashin_trans_id,\n",
    "max(case when rnk = 1 then a.created_at else null end) as first_cashin_date,\n",
    "max(case when rnk = 2 then a.created_at else null end) as second_cashin_date,\n",
    "max(case when rnk = 3 then a.created_at else null end) as third_cashin_date\n",
    "--min(transaction_date) as first_squareoff_date\n",
    "\n",
    "from (\n",
    "select * from \n",
    "(select *, row_number() over(partition by product_id order by created_at) rnk\n",
    "from FIVETRAN_DB.PROD_NOVO_API_PUBLIC.LOAN_PRODUCT_TRANSACTIONS\n",
    "where action_type='CASHIN' \n",
    "and (method = 'AUTOMATED' or description ilike 'Cashin done by admin%%')\n",
    "--and created_at < to_date('2022-12-01')\n",
    ")\n",
    "where rnk<4\n",
    ") a \n",
    "join FIVETRAN_DB.PROD_NOVO_API_PUBLIC.LOAN_PRODUCTS b on a.product_id = b.id\n",
    "\n",
    "group by 1,2\n",
    "),\n",
    "\n",
    "first_squareoff as(\n",
    "select product_id,transaction_date as first_squareoff_date from (\n",
    "select a.*,\n",
    "f.transaction_date, row_number() over(partition by a.business_id order by f.transaction_date) rnk\n",
    "from cashins a\n",
    "left join prod_db.data.transactions f on a.business_id = f.business_id\n",
    "where date(f.transaction_date) >= date(a.first_cashin_date)\n",
    "and f.running_balance >= 0\n",
    ")\n",
    "where rnk = 1\n",
    "),\n",
    "\n",
    "second_squareoff as(\n",
    "select product_id,transaction_date as second_squareoff_date from (\n",
    "select a.*,\n",
    "s.transaction_date, row_number() over(partition by a.business_id order by s.transaction_date) rnk\n",
    "from cashins a\n",
    "left join prod_db.data.transactions s on a.business_id = s.business_id\n",
    "where date(s.transaction_date) >= date(a.second_cashin_date)\n",
    "and s.running_balance >= 0\n",
    ")\n",
    "where rnk = 1\n",
    "),\n",
    "\n",
    "third_squareoff as(\n",
    "select product_id,transaction_date as third_squareoff_date from (\n",
    "select a.*,\n",
    "t.transaction_date, row_number() over(partition by a.business_id order by t.transaction_date) rnk\n",
    "from cashins a\n",
    "left join prod_db.data.transactions t on a.business_id = t.business_id\n",
    "where date(t.transaction_date) >= date(a.third_cashin_date)\n",
    "and t.running_balance >= 0\n",
    ")\n",
    "where rnk = 1\n",
    ")\n",
    "\n",
    "select a.product_id, a.business_id,first_cashin_date as pilot_first_due_date, second_cashin_date as pilot_second_due_date,third_cashin_date as pilot_third_due_date,\n",
    "case when f.running_balance < 0 then 1 else 0 end as pilot_fpd,\n",
    "case when s.running_balance < 0 then 1 else 0 end as pilot_spd,\n",
    "case when t.running_balance < 0 then 1 else 0 end as pilot_tpd,\n",
    "datediff(day,a.first_cashin_date,fs.first_squareoff_date) as pilot_first_cure_days,\n",
    "datediff(day,a.second_cashin_date,ss.second_squareoff_date) as pilot_second_cure_days,\n",
    "datediff(day,a.third_cashin_date,ts.third_squareoff_date) as pilot_third_cure_days\n",
    "\n",
    "from \"PROD_DB\".\"ADHOC\".\"LENDING_PILOT\" lp\n",
    "join cashins a on lp.business_id = a.business_id\n",
    "left join first_squareoff fs on a.product_id = fs.product_id\n",
    "left join second_squareoff ss on a.product_id = ss.product_id\n",
    "left join third_squareoff ts on a.product_id = ts.product_id\n",
    "\n",
    "left join prod_db.data.transactions f\n",
    "on a.first_cashin_trans_id = f.transaction_id\n",
    "left join prod_db.data.transactions s \n",
    "on a.second_cashin_trans_id = s.transaction_id\n",
    "left join prod_db.data.transactions t \n",
    "on a.third_cashin_trans_id = t.transaction_id\n",
    "\n",
    "where third_cashin_date is not null\n",
    "\"\"\"\n",
    ")"
   ]
  },
  {
   "cell_type": "code",
   "execution_count": 4,
   "metadata": {},
   "outputs": [
    {
     "data": {
      "text/plain": [
       "(643, 11)"
      ]
     },
     "execution_count": 4,
     "metadata": {},
     "output_type": "execute_result"
    }
   ],
   "source": [
    "pilot_df.shape"
   ]
  },
  {
   "cell_type": "code",
   "execution_count": 5,
   "metadata": {},
   "outputs": [
    {
     "data": {
      "text/html": [
       "<div>\n",
       "<style scoped>\n",
       "    .dataframe tbody tr th:only-of-type {\n",
       "        vertical-align: middle;\n",
       "    }\n",
       "\n",
       "    .dataframe tbody tr th {\n",
       "        vertical-align: top;\n",
       "    }\n",
       "\n",
       "    .dataframe thead th {\n",
       "        text-align: right;\n",
       "    }\n",
       "</style>\n",
       "<table border=\"1\" class=\"dataframe\">\n",
       "  <thead>\n",
       "    <tr style=\"text-align: right;\">\n",
       "      <th></th>\n",
       "      <th>product_id</th>\n",
       "      <th>business_id</th>\n",
       "      <th>pilot_first_due_date</th>\n",
       "      <th>pilot_second_due_date</th>\n",
       "      <th>pilot_third_due_date</th>\n",
       "      <th>pilot_fpd</th>\n",
       "      <th>pilot_spd</th>\n",
       "      <th>pilot_tpd</th>\n",
       "      <th>pilot_first_cure_days</th>\n",
       "      <th>pilot_second_cure_days</th>\n",
       "      <th>pilot_third_cure_days</th>\n",
       "    </tr>\n",
       "  </thead>\n",
       "  <tbody>\n",
       "    <tr>\n",
       "      <th>0</th>\n",
       "      <td>2e7ebed2-1b44-4782-b567-cfbf4317a487</td>\n",
       "      <td>dd7f8b41-4ff5-4011-88ea-e244561bd9d3</td>\n",
       "      <td>2022-10-01 07:01:13.250000+00:00</td>\n",
       "      <td>2022-10-31 07:00:21.799000+00:00</td>\n",
       "      <td>2022-12-01 08:01:29.875000+00:00</td>\n",
       "      <td>1</td>\n",
       "      <td>1</td>\n",
       "      <td>1</td>\n",
       "      <td>2</td>\n",
       "      <td>1</td>\n",
       "      <td>1</td>\n",
       "    </tr>\n",
       "    <tr>\n",
       "      <th>1</th>\n",
       "      <td>1f52805d-dafb-4c32-8596-b94fa76e10a7</td>\n",
       "      <td>8c0c5bfb-95b0-4e1d-838d-66448a08364b</td>\n",
       "      <td>2022-08-04 07:00:00.122000+00:00</td>\n",
       "      <td>2022-08-07 07:00:01.160000+00:00</td>\n",
       "      <td>2022-08-11 07:00:00.439000+00:00</td>\n",
       "      <td>1</td>\n",
       "      <td>1</td>\n",
       "      <td>1</td>\n",
       "      <td>0</td>\n",
       "      <td>9</td>\n",
       "      <td>5</td>\n",
       "    </tr>\n",
       "    <tr>\n",
       "      <th>2</th>\n",
       "      <td>c6e016d4-9f44-42f1-af5d-c5d74f227400</td>\n",
       "      <td>66098cc5-63d3-4ff0-92db-69fb8a61c73b</td>\n",
       "      <td>2022-11-09 08:00:29.822000+00:00</td>\n",
       "      <td>2022-12-01 18:11:56.552000+00:00</td>\n",
       "      <td>2022-12-01 18:11:58.453000+00:00</td>\n",
       "      <td>1</td>\n",
       "      <td>0</td>\n",
       "      <td>1</td>\n",
       "      <td>0</td>\n",
       "      <td>0</td>\n",
       "      <td>0</td>\n",
       "    </tr>\n",
       "    <tr>\n",
       "      <th>3</th>\n",
       "      <td>8ab35049-2579-4b13-9f24-d7de3e2b2d3a</td>\n",
       "      <td>ace6c5d9-e919-4863-8693-c66255201f55</td>\n",
       "      <td>2022-10-30 07:00:51.525000+00:00</td>\n",
       "      <td>2022-11-30 08:00:58.393000+00:00</td>\n",
       "      <td>2022-12-30 08:00:18.329000+00:00</td>\n",
       "      <td>0</td>\n",
       "      <td>0</td>\n",
       "      <td>0</td>\n",
       "      <td>0</td>\n",
       "      <td>0</td>\n",
       "      <td>0</td>\n",
       "    </tr>\n",
       "    <tr>\n",
       "      <th>4</th>\n",
       "      <td>91775784-0aaf-4c93-9565-efb738bb716d</td>\n",
       "      <td>8ae481b2-d99a-4c51-9f95-2abc0c7b2a44</td>\n",
       "      <td>2022-09-26 07:00:30.807000+00:00</td>\n",
       "      <td>2022-10-28 08:20:06.372000+00:00</td>\n",
       "      <td>2022-11-26 08:08:00.041000+00:00</td>\n",
       "      <td>0</td>\n",
       "      <td>0</td>\n",
       "      <td>0</td>\n",
       "      <td>0</td>\n",
       "      <td>0</td>\n",
       "      <td>0</td>\n",
       "    </tr>\n",
       "  </tbody>\n",
       "</table>\n",
       "</div>"
      ],
      "text/plain": [
       "                             product_id                           business_id  \\\n",
       "0  2e7ebed2-1b44-4782-b567-cfbf4317a487  dd7f8b41-4ff5-4011-88ea-e244561bd9d3   \n",
       "1  1f52805d-dafb-4c32-8596-b94fa76e10a7  8c0c5bfb-95b0-4e1d-838d-66448a08364b   \n",
       "2  c6e016d4-9f44-42f1-af5d-c5d74f227400  66098cc5-63d3-4ff0-92db-69fb8a61c73b   \n",
       "3  8ab35049-2579-4b13-9f24-d7de3e2b2d3a  ace6c5d9-e919-4863-8693-c66255201f55   \n",
       "4  91775784-0aaf-4c93-9565-efb738bb716d  8ae481b2-d99a-4c51-9f95-2abc0c7b2a44   \n",
       "\n",
       "              pilot_first_due_date            pilot_second_due_date  \\\n",
       "0 2022-10-01 07:01:13.250000+00:00 2022-10-31 07:00:21.799000+00:00   \n",
       "1 2022-08-04 07:00:00.122000+00:00 2022-08-07 07:00:01.160000+00:00   \n",
       "2 2022-11-09 08:00:29.822000+00:00 2022-12-01 18:11:56.552000+00:00   \n",
       "3 2022-10-30 07:00:51.525000+00:00 2022-11-30 08:00:58.393000+00:00   \n",
       "4 2022-09-26 07:00:30.807000+00:00 2022-10-28 08:20:06.372000+00:00   \n",
       "\n",
       "              pilot_third_due_date  pilot_fpd  pilot_spd  pilot_tpd  \\\n",
       "0 2022-12-01 08:01:29.875000+00:00          1          1          1   \n",
       "1 2022-08-11 07:00:00.439000+00:00          1          1          1   \n",
       "2 2022-12-01 18:11:58.453000+00:00          1          0          1   \n",
       "3 2022-12-30 08:00:18.329000+00:00          0          0          0   \n",
       "4 2022-11-26 08:08:00.041000+00:00          0          0          0   \n",
       "\n",
       "   pilot_first_cure_days  pilot_second_cure_days  pilot_third_cure_days  \n",
       "0                      2                       1                      1  \n",
       "1                      0                       9                      5  \n",
       "2                      0                       0                      0  \n",
       "3                      0                       0                      0  \n",
       "4                      0                       0                      0  "
      ]
     },
     "execution_count": 5,
     "metadata": {},
     "output_type": "execute_result"
    }
   ],
   "source": [
    "pilot_df.head()"
   ]
  },
  {
   "cell_type": "code",
   "execution_count": 6,
   "metadata": {},
   "outputs": [],
   "source": [
    "pilot_df = pilot_df[~pilot_df['pilot_third_due_date'].isnull()]"
   ]
  },
  {
   "cell_type": "code",
   "execution_count": 7,
   "metadata": {},
   "outputs": [
    {
     "data": {
      "text/plain": [
       "(643, 11)"
      ]
     },
     "execution_count": 7,
     "metadata": {},
     "output_type": "execute_result"
    }
   ],
   "source": [
    "pilot_df.shape"
   ]
  },
  {
   "cell_type": "code",
   "execution_count": 8,
   "metadata": {},
   "outputs": [
    {
     "data": {
      "text/plain": [
       "Index(['product_id', 'business_id', 'pilot_first_due_date',\n",
       "       'pilot_second_due_date', 'pilot_third_due_date', 'pilot_fpd',\n",
       "       'pilot_spd', 'pilot_tpd', 'pilot_first_cure_days',\n",
       "       'pilot_second_cure_days', 'pilot_third_cure_days'],\n",
       "      dtype='object')"
      ]
     },
     "execution_count": 8,
     "metadata": {},
     "output_type": "execute_result"
    }
   ],
   "source": [
    "pilot_df.columns"
   ]
  },
  {
   "cell_type": "code",
   "execution_count": 9,
   "metadata": {},
   "outputs": [],
   "source": [
    "pilot_df['FPD_plus_3'] = 0\n",
    "pilot_df['SPD_plus_3'] = 0\n",
    "pilot_df['TPD_plus_3'] = 0\n",
    "pilot_df.loc[(pilot_df['pilot_fpd']==1) & (pilot_df['pilot_first_cure_days']>=3),'FPD_plus_3'] = 1\n",
    "pilot_df.loc[(pilot_df['pilot_spd']==1) & (pilot_df['pilot_second_cure_days']>=3),'SPD_plus_3'] = 1\n",
    "pilot_df.loc[(pilot_df['pilot_tpd']==1) & (pilot_df['pilot_third_cure_days']>=3),'TPD_plus_3'] = 1"
   ]
  },
  {
   "cell_type": "code",
   "execution_count": 10,
   "metadata": {},
   "outputs": [],
   "source": [
    "pilot_df['FPD_plus_15'] = 0\n",
    "pilot_df['SPD_plus_15'] = 0\n",
    "pilot_df['TPD_plus_15'] = 0\n",
    "pilot_df.loc[(pilot_df['pilot_fpd']==1) & (pilot_df['pilot_first_cure_days']>=15),'FPD_plus_15'] = 1\n",
    "pilot_df.loc[(pilot_df['pilot_spd']==1) & (pilot_df['pilot_second_cure_days']>=15),'SPD_plus_15'] = 1\n",
    "pilot_df.loc[(pilot_df['pilot_tpd']==1) & (pilot_df['pilot_third_cure_days']>=15),'TPD_plus_15'] = 1"
   ]
  },
  {
   "cell_type": "code",
   "execution_count": 11,
   "metadata": {},
   "outputs": [],
   "source": [
    "pilot_df['FPD_plus_30'] = 0\n",
    "pilot_df['SPD_plus_30'] = 0\n",
    "pilot_df['TPD_plus_30'] = 0\n",
    "pilot_df.loc[(pilot_df['pilot_fpd']==1) & (pilot_df['pilot_first_cure_days']>=30),'FPD_plus_30'] = 1\n",
    "pilot_df.loc[(pilot_df['pilot_spd']==1) & (pilot_df['pilot_second_cure_days']>=30),'SPD_plus_30'] = 1\n",
    "pilot_df.loc[(pilot_df['pilot_tpd']==1) & (pilot_df['pilot_third_cure_days']>=30),'TPD_plus_30'] = 1"
   ]
  },
  {
   "cell_type": "code",
   "execution_count": 12,
   "metadata": {},
   "outputs": [
    {
     "data": {
      "text/plain": [
       "Index(['product_id', 'business_id', 'pilot_first_due_date',\n",
       "       'pilot_second_due_date', 'pilot_third_due_date', 'pilot_fpd',\n",
       "       'pilot_spd', 'pilot_tpd', 'pilot_first_cure_days',\n",
       "       'pilot_second_cure_days', 'pilot_third_cure_days', 'FPD_plus_3',\n",
       "       'SPD_plus_3', 'TPD_plus_3', 'FPD_plus_15', 'SPD_plus_15', 'TPD_plus_15',\n",
       "       'FPD_plus_30', 'SPD_plus_30', 'TPD_plus_30'],\n",
       "      dtype='object')"
      ]
     },
     "execution_count": 12,
     "metadata": {},
     "output_type": "execute_result"
    }
   ],
   "source": [
    "pilot_df.columns"
   ]
  },
  {
   "cell_type": "code",
   "execution_count": 13,
   "metadata": {},
   "outputs": [],
   "source": [
    "querySno = SQLQuery('snowflake')\n",
    "ga_df = querySno(r\"\"\" \n",
    "with default_flags as (\n",
    "select distinct lending_business_id, business_id,loan_month,\n",
    "max(case when emi_no = 1 then due_date end) over(partition by lending_business_id) as first_duedate, \n",
    "max(case when emi_no = 2 then due_date end) over(partition by lending_business_id) as second_duedate, \n",
    "max(case when emi_no = 3 then due_date end) over(partition by lending_business_id) as third_duedate,\n",
    "max(case when emi_no = 1 then defalt end) over(partition by lending_business_id) as fpd, \n",
    "max(case when emi_no = 2 then defalt end) over(partition by lending_business_id) as spd, \n",
    "max(case when emi_no = 3 then defalt end) over(partition by lending_business_id) as tpd,\n",
    "max(case when emi_no = 1 then total_emi end) over(partition by lending_business_id) as first_emi_amount,\n",
    "max(case when emi_no = 2 then total_emi end) over(partition by lending_business_id) as second_emi_amount,\n",
    "max(case when emi_no = 3 then total_emi end) over(partition by lending_business_id) as third_emi_amount\n",
    "from (\n",
    "select a.*,json_extract_path_text(c.predict_meta, 'business_id') as business_id, month(a.created_at) as month_no,\n",
    "case when paid_on_time = 'true' then 0\n",
    "when paid_on_time = 'false' then 1 else null end as default_flag,\n",
    "dense_rank() over(partition by a.lending_business_id order by due_date) as emi_no,\n",
    "min(a.created_at) over (partition by a.lending_business_id) as min_created_at,\n",
    "month(min_created_at) as loan_month,\n",
    "max(default_flag) over(partition by a.lending_business_id, due_date) as defalt,\n",
    "sum(due_amount) over(partition by a.lending_business_id, due_date) as amount_due,\n",
    "sum(payment) over(partition by a.lending_business_id, due_date) as payment_done,\n",
    "amount_due/100 + payment_done/100 as total_emi\n",
    "from \"FIVETRAN_DB\".\"PROD_NOVO_API_PUBLIC\".\"LENDING_PAYMENT_SCHEDULES\" a\n",
    "join FIVETRAN_DB.PROD_NOVO_API_PUBLIC.LENDING_DECISION_RESULTS c on a.lending_business_id = c.lending_business_id\n",
    "where date(due_date) < date('2023-04-04')\n",
    "-- and a.lending_business_id = '909564ef-6b22-4303-9df5-fc4e892fef01'\n",
    ")\n",
    ")\n",
    ", first_cure as (\n",
    "select *,transaction_date as first_cure_date from (\n",
    "select *, row_number() over(partition by business_id order by transaction_date) rnk\n",
    "from (\n",
    "select b.lending_business_id, t.business_id, t.transaction_date, b.first_emi_amount,b.second_emi_amount,b.third_emi_amount, t.description, \n",
    "running_balance,b.first_duedate,b.second_duedate,b.third_duedate,\n",
    "sum(-amount) over(partition by t.business_id order by transaction_date) as first_amount_cured\n",
    "from default_flags b left join prod_db.data.transactions t on t.business_id = b.business_id\n",
    "where date(transaction_date) >= date(b.first_duedate)\n",
    "-- and date(transaction_date) < date(b.second_duedate)\n",
    "and description ILIKE any('Novo Funding%%')\n",
    "and amount < 0\n",
    ")\n",
    "where first_amount_cured >= first_emi_amount\n",
    ")\n",
    "where rnk = 1\n",
    ")\n",
    ", second_cure as (\n",
    "select *, transaction_date as second_cure_date from (\n",
    "select *, row_number() over(partition by business_id order by transaction_date) as rnk\n",
    "from(\n",
    "select b.lending_business_id, t.business_id, t.transaction_date, b.first_emi_amount,b.second_emi_amount,b.third_emi_amount, t.description, \n",
    "t.running_balance,b.first_duedate,b.second_duedate,b.third_duedate,\n",
    "sum(-amount) over(partition by t.business_id order by transaction_date) as second_amount_cured\n",
    "from default_flags b left join prod_db.data.transactions t on t.business_id = b.business_id\n",
    "-- join first_cure c on b.lending_business_id = c.lending_business_id\n",
    "where date(transaction_date) >= date(b.first_duedate)\n",
    "-- and date(transaction_date) < date(b.second_duedate)\n",
    "and description ILIKE any('Novo Funding%%')\n",
    "and amount < 0\n",
    ")\n",
    "where second_amount_cured >= first_emi_amount + second_emi_amount\n",
    ")\n",
    "where rnk = 1\n",
    ")\n",
    "\n",
    ",third_cure as (\n",
    "select *, transaction_date as third_cure_date from (\n",
    "select *, row_number() over(partition by business_id order by transaction_date) as rnk\n",
    "from(\n",
    "select b.lending_business_id, t.business_id, t.transaction_date, b.first_emi_amount,b.second_emi_amount,b.third_emi_amount, t.description, \n",
    "running_balance,b.first_duedate,b.second_duedate,b.third_duedate,\n",
    "sum(-amount) over(partition by t.business_id order by transaction_date) as third_amount_cured\n",
    "from default_flags b left join prod_db.data.transactions t on t.business_id = b.business_id\n",
    "-- join first_cure c on b.lending_business_id = c.lending_business_id\n",
    "where date(transaction_date) >= date(b.first_duedate)\n",
    "-- and date(transaction_date) < date(b.third_duedate)\n",
    "and description ILIKE any('Novo Funding%%')\n",
    "and amount < 0\n",
    ")\n",
    "where third_amount_cured >= first_emi_amount + second_emi_amount + third_emi_amount\n",
    ")\n",
    "where rnk = 1\n",
    ")\n",
    "\n",
    "select a.lending_business_id, a.business_id, a.first_duedate,date(f.first_cure_date)as first_cure_date, a.second_duedate,date(s.second_cure_date)as second_cure_date, \n",
    "a.third_duedate,date(t.third_cure_date) as third_cure_date, fpd, spd, tpd,\n",
    "case when fpd = 1 and first_amount_cured >= a.first_emi_amount then 1 else 0 end as first_cure_flag,\n",
    "case when spd = 1 and second_amount_cured >= a.first_emi_amount + a.second_emi_amount then 1 else 0 end as second_cure_flag,\n",
    "case when tpd = 1 and third_amount_cured >= a.first_emi_amount + a.second_emi_amount + a.third_emi_amount then 1 else 0 end as third_cure_flag,\n",
    "case when first_cure_flag = 1 then datediff(day,a.first_duedate,f.first_cure_date) else null end as first_cure_days,\n",
    "case when second_cure_flag = 1 then datediff(day,a.second_duedate,s.second_cure_date) else null end as second_cure_days,\n",
    "case when third_cure_flag = 1 then datediff(day,a.third_duedate,t.third_cure_date) else null end as third_cure_days,\n",
    "a.first_emi_amount, f.first_amount_cured, a.second_emi_amount,(s.second_amount_cured - f.first_amount_cured) as second_amt_cured, a.third_emi_amount, \n",
    "(t.third_amount_cured - second_amt_cured) as third_amt_cured\n",
    "from default_flags a \n",
    "left join first_cure f on a.lending_business_id = f.lending_business_id\n",
    "left join second_cure s on a.lending_business_id = s.lending_business_id\n",
    "left join third_cure t on a.lending_business_id = t.lending_business_id\n",
    "where a.first_duedate < date('2023-04-19')\n",
    "-- and a.business_id = '111eb19b-cd06-4943-b9f5-c111ae38189e'\n",
    "order by first_duedate desc\n",
    "\"\"\")"
   ]
  },
  {
   "cell_type": "code",
   "execution_count": 14,
   "metadata": {},
   "outputs": [
    {
     "data": {
      "text/plain": [
       "(1667, 23)"
      ]
     },
     "execution_count": 14,
     "metadata": {},
     "output_type": "execute_result"
    }
   ],
   "source": [
    "ga_df.shape"
   ]
  },
  {
   "cell_type": "code",
   "execution_count": 15,
   "metadata": {},
   "outputs": [
    {
     "data": {
      "text/html": [
       "<div>\n",
       "<style scoped>\n",
       "    .dataframe tbody tr th:only-of-type {\n",
       "        vertical-align: middle;\n",
       "    }\n",
       "\n",
       "    .dataframe tbody tr th {\n",
       "        vertical-align: top;\n",
       "    }\n",
       "\n",
       "    .dataframe thead th {\n",
       "        text-align: right;\n",
       "    }\n",
       "</style>\n",
       "<table border=\"1\" class=\"dataframe\">\n",
       "  <thead>\n",
       "    <tr style=\"text-align: right;\">\n",
       "      <th></th>\n",
       "      <th>lending_business_id</th>\n",
       "      <th>business_id</th>\n",
       "      <th>first_duedate</th>\n",
       "      <th>first_cure_date</th>\n",
       "      <th>second_duedate</th>\n",
       "      <th>second_cure_date</th>\n",
       "      <th>third_duedate</th>\n",
       "      <th>third_cure_date</th>\n",
       "      <th>fpd</th>\n",
       "      <th>spd</th>\n",
       "      <th>tpd</th>\n",
       "      <th>first_cure_flag</th>\n",
       "      <th>second_cure_flag</th>\n",
       "      <th>third_cure_flag</th>\n",
       "      <th>first_cure_days</th>\n",
       "      <th>second_cure_days</th>\n",
       "      <th>third_cure_days</th>\n",
       "      <th>first_emi_amount</th>\n",
       "      <th>first_amount_cured</th>\n",
       "      <th>second_emi_amount</th>\n",
       "      <th>second_amt_cured</th>\n",
       "      <th>third_emi_amount</th>\n",
       "      <th>third_amt_cured</th>\n",
       "    </tr>\n",
       "  </thead>\n",
       "  <tbody>\n",
       "    <tr>\n",
       "      <th>863</th>\n",
       "      <td>23b13461-a98e-4251-a6e9-0a44f498494e</td>\n",
       "      <td>e0ec23ed-d720-4ad4-8183-bbc7c09e199f</td>\n",
       "      <td>2023-02-27</td>\n",
       "      <td>2023-02-27</td>\n",
       "      <td>2023-03-27</td>\n",
       "      <td>2023-03-27</td>\n",
       "      <td>None</td>\n",
       "      <td>None</td>\n",
       "      <td>0</td>\n",
       "      <td>0.0</td>\n",
       "      <td>NaN</td>\n",
       "      <td>0</td>\n",
       "      <td>0</td>\n",
       "      <td>0</td>\n",
       "      <td>NaN</td>\n",
       "      <td>NaN</td>\n",
       "      <td>NaN</td>\n",
       "      <td>1820.83</td>\n",
       "      <td>1820.83</td>\n",
       "      <td>1820.83</td>\n",
       "      <td>1820.83</td>\n",
       "      <td>NaN</td>\n",
       "      <td>NaN</td>\n",
       "    </tr>\n",
       "    <tr>\n",
       "      <th>970</th>\n",
       "      <td>e71bf896-dc1a-42ce-9d42-2ece6d00d0ad</td>\n",
       "      <td>aaa76b70-e929-4d97-9e48-e90778384ec8</td>\n",
       "      <td>2023-02-25</td>\n",
       "      <td>2023-03-08</td>\n",
       "      <td>2023-03-25</td>\n",
       "      <td>2023-03-28</td>\n",
       "      <td>None</td>\n",
       "      <td>None</td>\n",
       "      <td>1</td>\n",
       "      <td>1.0</td>\n",
       "      <td>NaN</td>\n",
       "      <td>1</td>\n",
       "      <td>1</td>\n",
       "      <td>0</td>\n",
       "      <td>11.0</td>\n",
       "      <td>3.0</td>\n",
       "      <td>NaN</td>\n",
       "      <td>1022.66</td>\n",
       "      <td>1057.66</td>\n",
       "      <td>1589.28</td>\n",
       "      <td>1869.46</td>\n",
       "      <td>NaN</td>\n",
       "      <td>NaN</td>\n",
       "    </tr>\n",
       "    <tr>\n",
       "      <th>769</th>\n",
       "      <td>80534a0e-bec1-42e6-a247-6b7f8806a80e</td>\n",
       "      <td>90009ab3-dc99-41c8-8315-19c066ca3c89</td>\n",
       "      <td>2023-02-28</td>\n",
       "      <td>2023-02-28</td>\n",
       "      <td>2023-03-28</td>\n",
       "      <td>2023-03-28</td>\n",
       "      <td>None</td>\n",
       "      <td>None</td>\n",
       "      <td>0</td>\n",
       "      <td>0.0</td>\n",
       "      <td>NaN</td>\n",
       "      <td>0</td>\n",
       "      <td>0</td>\n",
       "      <td>0</td>\n",
       "      <td>NaN</td>\n",
       "      <td>NaN</td>\n",
       "      <td>NaN</td>\n",
       "      <td>322.66</td>\n",
       "      <td>322.66</td>\n",
       "      <td>322.66</td>\n",
       "      <td>322.66</td>\n",
       "      <td>NaN</td>\n",
       "      <td>NaN</td>\n",
       "    </tr>\n",
       "    <tr>\n",
       "      <th>233</th>\n",
       "      <td>18e378a0-0a3a-44e7-adc0-079826725abd</td>\n",
       "      <td>9565b4f4-a773-4fed-a52a-41d0c3bfa131</td>\n",
       "      <td>2023-03-22</td>\n",
       "      <td>None</td>\n",
       "      <td>None</td>\n",
       "      <td>None</td>\n",
       "      <td>None</td>\n",
       "      <td>None</td>\n",
       "      <td>0</td>\n",
       "      <td>NaN</td>\n",
       "      <td>NaN</td>\n",
       "      <td>0</td>\n",
       "      <td>0</td>\n",
       "      <td>0</td>\n",
       "      <td>NaN</td>\n",
       "      <td>NaN</td>\n",
       "      <td>NaN</td>\n",
       "      <td>436.00</td>\n",
       "      <td>NaN</td>\n",
       "      <td>NaN</td>\n",
       "      <td>NaN</td>\n",
       "      <td>NaN</td>\n",
       "      <td>NaN</td>\n",
       "    </tr>\n",
       "    <tr>\n",
       "      <th>1580</th>\n",
       "      <td>bbbe9426-6e6d-45d5-ad7e-2e61734f4898</td>\n",
       "      <td>aac7911b-7b36-41f5-a0a8-59b7572bc237</td>\n",
       "      <td>2023-01-01</td>\n",
       "      <td>2023-01-01</td>\n",
       "      <td>2023-02-01</td>\n",
       "      <td>2023-02-01</td>\n",
       "      <td>2023-03-04</td>\n",
       "      <td>2023-03-04</td>\n",
       "      <td>0</td>\n",
       "      <td>0.0</td>\n",
       "      <td>0.0</td>\n",
       "      <td>0</td>\n",
       "      <td>0</td>\n",
       "      <td>0</td>\n",
       "      <td>NaN</td>\n",
       "      <td>NaN</td>\n",
       "      <td>NaN</td>\n",
       "      <td>2201.33</td>\n",
       "      <td>2201.33</td>\n",
       "      <td>2688.16</td>\n",
       "      <td>2688.16</td>\n",
       "      <td>3132.66</td>\n",
       "      <td>5333.99</td>\n",
       "    </tr>\n",
       "  </tbody>\n",
       "</table>\n",
       "</div>"
      ],
      "text/plain": [
       "                       lending_business_id  \\\n",
       "863   23b13461-a98e-4251-a6e9-0a44f498494e   \n",
       "970   e71bf896-dc1a-42ce-9d42-2ece6d00d0ad   \n",
       "769   80534a0e-bec1-42e6-a247-6b7f8806a80e   \n",
       "233   18e378a0-0a3a-44e7-adc0-079826725abd   \n",
       "1580  bbbe9426-6e6d-45d5-ad7e-2e61734f4898   \n",
       "\n",
       "                               business_id first_duedate first_cure_date  \\\n",
       "863   e0ec23ed-d720-4ad4-8183-bbc7c09e199f    2023-02-27      2023-02-27   \n",
       "970   aaa76b70-e929-4d97-9e48-e90778384ec8    2023-02-25      2023-03-08   \n",
       "769   90009ab3-dc99-41c8-8315-19c066ca3c89    2023-02-28      2023-02-28   \n",
       "233   9565b4f4-a773-4fed-a52a-41d0c3bfa131    2023-03-22            None   \n",
       "1580  aac7911b-7b36-41f5-a0a8-59b7572bc237    2023-01-01      2023-01-01   \n",
       "\n",
       "     second_duedate second_cure_date third_duedate third_cure_date  fpd  spd  \\\n",
       "863      2023-03-27       2023-03-27          None            None    0  0.0   \n",
       "970      2023-03-25       2023-03-28          None            None    1  1.0   \n",
       "769      2023-03-28       2023-03-28          None            None    0  0.0   \n",
       "233            None             None          None            None    0  NaN   \n",
       "1580     2023-02-01       2023-02-01    2023-03-04      2023-03-04    0  0.0   \n",
       "\n",
       "      tpd  first_cure_flag  second_cure_flag  third_cure_flag  \\\n",
       "863   NaN                0                 0                0   \n",
       "970   NaN                1                 1                0   \n",
       "769   NaN                0                 0                0   \n",
       "233   NaN                0                 0                0   \n",
       "1580  0.0                0                 0                0   \n",
       "\n",
       "      first_cure_days  second_cure_days  third_cure_days  first_emi_amount  \\\n",
       "863               NaN               NaN              NaN           1820.83   \n",
       "970              11.0               3.0              NaN           1022.66   \n",
       "769               NaN               NaN              NaN            322.66   \n",
       "233               NaN               NaN              NaN            436.00   \n",
       "1580              NaN               NaN              NaN           2201.33   \n",
       "\n",
       "      first_amount_cured  second_emi_amount  second_amt_cured  \\\n",
       "863              1820.83            1820.83           1820.83   \n",
       "970              1057.66            1589.28           1869.46   \n",
       "769               322.66             322.66            322.66   \n",
       "233                  NaN                NaN               NaN   \n",
       "1580             2201.33            2688.16           2688.16   \n",
       "\n",
       "      third_emi_amount  third_amt_cured  \n",
       "863                NaN              NaN  \n",
       "970                NaN              NaN  \n",
       "769                NaN              NaN  \n",
       "233                NaN              NaN  \n",
       "1580           3132.66          5333.99  "
      ]
     },
     "execution_count": 15,
     "metadata": {},
     "output_type": "execute_result"
    }
   ],
   "source": [
    "ga_df.sample(5)"
   ]
  },
  {
   "cell_type": "code",
   "execution_count": null,
   "metadata": {},
   "outputs": [],
   "source": []
  },
  {
   "cell_type": "code",
   "execution_count": 16,
   "metadata": {},
   "outputs": [],
   "source": [
    "ga_df['FPD_plus_15'] = 0\n",
    "ga_df.loc[(ga_df['fpd']==1) & (ga_df['first_cure_days']>=15),'FPD_plus_15'] = 1"
   ]
  },
  {
   "cell_type": "code",
   "execution_count": 17,
   "metadata": {},
   "outputs": [
    {
     "data": {
      "text/plain": [
       "0.04919016196760648"
      ]
     },
     "execution_count": 17,
     "metadata": {},
     "output_type": "execute_result"
    }
   ],
   "source": [
    "#FPD_plus_15\n",
    "ga_df['FPD_plus_15'].sum()/len(ga_df)"
   ]
  },
  {
   "cell_type": "code",
   "execution_count": 18,
   "metadata": {},
   "outputs": [],
   "source": [
    "ga_df['DPD_plus_15'] = 0\n",
    "ga_df.loc[((ga_df['fpd']==1) & (ga_df['first_cure_days']>=15))| ((ga_df['spd']==1) & (ga_df['second_cure_days']>=15)) | ((ga_df['tpd']==1) & (ga_df['third_cure_days']>=15)),'DPD_plus_15'] = 1"
   ]
  },
  {
   "cell_type": "code",
   "execution_count": 19,
   "metadata": {},
   "outputs": [
    {
     "data": {
      "text/plain": [
       "0.10737852429514097"
      ]
     },
     "execution_count": 19,
     "metadata": {},
     "output_type": "execute_result"
    }
   ],
   "source": [
    "#DPD_plus_15\n",
    "ga_df['DPD_plus_15'].sum()/len(ga_df)"
   ]
  },
  {
   "cell_type": "code",
   "execution_count": 20,
   "metadata": {},
   "outputs": [],
   "source": [
    "ga_df['FPD_plus_30'] = 0\n",
    "ga_df.loc[(ga_df['fpd']==1) & (ga_df['first_cure_days']>=30),'FPD_plus_30'] = 1"
   ]
  },
  {
   "cell_type": "code",
   "execution_count": 21,
   "metadata": {},
   "outputs": [
    {
     "data": {
      "text/plain": [
       "0.02519496100779844"
      ]
     },
     "execution_count": 21,
     "metadata": {},
     "output_type": "execute_result"
    }
   ],
   "source": [
    "#FPD_plus_30\n",
    "ga_df['FPD_plus_30'].sum()/len(ga_df)"
   ]
  },
  {
   "cell_type": "code",
   "execution_count": 22,
   "metadata": {},
   "outputs": [],
   "source": [
    "ga_df['SPD_plus_30'] = 0\n",
    "ga_df['SPD_plus_15'] = 0\n",
    "ga_df.loc[(ga_df['spd']==1) & (ga_df['second_cure_days']>=30),'SPD_plus_30'] = 1\n",
    "ga_df.loc[(ga_df['spd']==1) & (ga_df['second_cure_days']>=15),'SPD_plus_15'] = 1"
   ]
  },
  {
   "cell_type": "code",
   "execution_count": 23,
   "metadata": {},
   "outputs": [],
   "source": [
    "ga_df['TPD_plus_30'] = 0\n",
    "ga_df['TPD_plus_15'] = 0\n",
    "ga_df.loc[(ga_df['tpd']==1) & (ga_df['third_cure_days']>=30),'TPD_plus_30'] = 1\n",
    "ga_df.loc[(ga_df['tpd']==1) & (ga_df['third_cure_days']>=15),'TPD_plus_15'] = 1"
   ]
  },
  {
   "cell_type": "code",
   "execution_count": 24,
   "metadata": {},
   "outputs": [],
   "source": [
    "ga_df['FPD_plus_3'] = 0\n",
    "ga_df['SPD_plus_3'] = 0\n",
    "ga_df['TPD_plus_3'] = 0\n",
    "ga_df.loc[(ga_df['fpd']==1) & (ga_df['first_cure_days']>=3),'FPD_plus_3'] = 1\n",
    "ga_df.loc[(ga_df['spd']==1) & (ga_df['second_cure_days']>=3),'SPD_plus_3'] = 1\n",
    "ga_df.loc[(ga_df['tpd']==1) & (ga_df['third_cure_days']>=3),'TPD_plus_3'] = 1"
   ]
  },
  {
   "cell_type": "code",
   "execution_count": 25,
   "metadata": {},
   "outputs": [],
   "source": [
    "ga_df['DPD_plus_30'] = 0\n",
    "ga_df.loc[((ga_df['fpd']==1) & (ga_df['first_cure_days']>=30))| ((ga_df['spd']==1) & (ga_df['second_cure_days']>=30)) | ((ga_df['tpd']==1) & (ga_df['third_cure_days']>=30)),'DPD_plus_30'] = 1"
   ]
  },
  {
   "cell_type": "code",
   "execution_count": 26,
   "metadata": {},
   "outputs": [
    {
     "data": {
      "text/plain": [
       "0.07018596280743851"
      ]
     },
     "execution_count": 26,
     "metadata": {},
     "output_type": "execute_result"
    }
   ],
   "source": [
    "#DPD_plus_30\n",
    "ga_df['DPD_plus_30'].sum()/len(ga_df)"
   ]
  },
  {
   "cell_type": "code",
   "execution_count": 27,
   "metadata": {},
   "outputs": [
    {
     "data": {
      "text/plain": [
       "Index(['lending_business_id', 'business_id', 'first_duedate',\n",
       "       'first_cure_date', 'second_duedate', 'second_cure_date',\n",
       "       'third_duedate', 'third_cure_date', 'fpd', 'spd', 'tpd',\n",
       "       'first_cure_flag', 'second_cure_flag', 'third_cure_flag',\n",
       "       'first_cure_days', 'second_cure_days', 'third_cure_days',\n",
       "       'first_emi_amount', 'first_amount_cured', 'second_emi_amount',\n",
       "       'second_amt_cured', 'third_emi_amount', 'third_amt_cured',\n",
       "       'FPD_plus_15', 'DPD_plus_15', 'FPD_plus_30', 'SPD_plus_30',\n",
       "       'SPD_plus_15', 'TPD_plus_30', 'TPD_plus_15', 'FPD_plus_3', 'SPD_plus_3',\n",
       "       'TPD_plus_3', 'DPD_plus_30'],\n",
       "      dtype='object')"
      ]
     },
     "execution_count": 27,
     "metadata": {},
     "output_type": "execute_result"
    }
   ],
   "source": [
    "ga_df.columns"
   ]
  },
  {
   "cell_type": "markdown",
   "metadata": {},
   "source": [
    "#### Identify Pilot migrators"
   ]
  },
  {
   "cell_type": "code",
   "execution_count": 28,
   "metadata": {},
   "outputs": [],
   "source": [
    "pilot_mg = ga_df.merge(pilot_df,how='inner', left_on = 'business_id', right_on = 'business_id')"
   ]
  },
  {
   "cell_type": "code",
   "execution_count": 29,
   "metadata": {},
   "outputs": [
    {
     "data": {
      "text/plain": [
       "(331, 53)"
      ]
     },
     "execution_count": 29,
     "metadata": {},
     "output_type": "execute_result"
    }
   ],
   "source": [
    "pilot_mg.shape"
   ]
  },
  {
   "cell_type": "code",
   "execution_count": null,
   "metadata": {},
   "outputs": [],
   "source": []
  },
  {
   "cell_type": "markdown",
   "metadata": {},
   "source": [
    "#### GA STACKING"
   ]
  },
  {
   "cell_type": "code",
   "execution_count": 30,
   "metadata": {},
   "outputs": [],
   "source": [
    "ga_first = ga_df[['business_id','first_duedate','FPD_plus_3','FPD_plus_15','FPD_plus_30']].rename(columns={'first_duedate': 'due_date', 'FPD_plus_3': 'DPD_plus_3','FPD_plus_15': 'DPD_plus_15','FPD_plus_30': 'DPD_plus_30'})\n",
    "ga_second = ga_df[['business_id','second_duedate','SPD_plus_3','SPD_plus_15','SPD_plus_30']].rename(columns={'second_duedate': 'due_date', 'SPD_plus_3': 'DPD_plus_3','SPD_plus_15': 'DPD_plus_15','SPD_plus_30': 'DPD_plus_30'})\n",
    "ga_third = ga_df[['business_id','third_duedate','TPD_plus_3','TPD_plus_15','TPD_plus_30']].rename(columns={'third_duedate': 'due_date', 'TPD_plus_3': 'DPD_plus_3','TPD_plus_15': 'DPD_plus_15','TPD_plus_30': 'DPD_plus_30'})"
   ]
  },
  {
   "cell_type": "code",
   "execution_count": 31,
   "metadata": {},
   "outputs": [],
   "source": [
    "ga_first['emi_no'] = 1\n",
    "ga_second['emi_no'] = 2\n",
    "ga_third['emi_no'] = 3"
   ]
  },
  {
   "cell_type": "code",
   "execution_count": 32,
   "metadata": {},
   "outputs": [],
   "source": [
    "ga_stack = pd.concat([ga_first, ga_second, ga_third], axis = 0, ignore_index = True)"
   ]
  },
  {
   "cell_type": "code",
   "execution_count": 33,
   "metadata": {},
   "outputs": [
    {
     "data": {
      "text/plain": [
       "(1667, 6)"
      ]
     },
     "execution_count": 33,
     "metadata": {},
     "output_type": "execute_result"
    }
   ],
   "source": [
    "ga_first.shape"
   ]
  },
  {
   "cell_type": "code",
   "execution_count": 34,
   "metadata": {},
   "outputs": [
    {
     "data": {
      "text/html": [
       "<div>\n",
       "<style scoped>\n",
       "    .dataframe tbody tr th:only-of-type {\n",
       "        vertical-align: middle;\n",
       "    }\n",
       "\n",
       "    .dataframe tbody tr th {\n",
       "        vertical-align: top;\n",
       "    }\n",
       "\n",
       "    .dataframe thead th {\n",
       "        text-align: right;\n",
       "    }\n",
       "</style>\n",
       "<table border=\"1\" class=\"dataframe\">\n",
       "  <thead>\n",
       "    <tr style=\"text-align: right;\">\n",
       "      <th></th>\n",
       "      <th>business_id</th>\n",
       "      <th>due_date</th>\n",
       "      <th>DPD_plus_3</th>\n",
       "      <th>DPD_plus_15</th>\n",
       "      <th>DPD_plus_30</th>\n",
       "      <th>emi_no</th>\n",
       "    </tr>\n",
       "  </thead>\n",
       "  <tbody>\n",
       "    <tr>\n",
       "      <th>276</th>\n",
       "      <td>a7e6ab3c-5f73-4439-9a94-c67296bb4b1e</td>\n",
       "      <td>None</td>\n",
       "      <td>0</td>\n",
       "      <td>0</td>\n",
       "      <td>0</td>\n",
       "      <td>3</td>\n",
       "    </tr>\n",
       "    <tr>\n",
       "      <th>1371</th>\n",
       "      <td>0c83b0e9-f251-4a57-969b-2880b227aa03</td>\n",
       "      <td>2023-03-22</td>\n",
       "      <td>0</td>\n",
       "      <td>0</td>\n",
       "      <td>0</td>\n",
       "      <td>3</td>\n",
       "    </tr>\n",
       "    <tr>\n",
       "      <th>1144</th>\n",
       "      <td>e9b5cd85-7a04-4ef1-a327-dffa7f9b9765</td>\n",
       "      <td>None</td>\n",
       "      <td>0</td>\n",
       "      <td>0</td>\n",
       "      <td>0</td>\n",
       "      <td>3</td>\n",
       "    </tr>\n",
       "    <tr>\n",
       "      <th>30</th>\n",
       "      <td>298e53b5-58c7-42f1-9a4f-e017bca86460</td>\n",
       "      <td>None</td>\n",
       "      <td>0</td>\n",
       "      <td>0</td>\n",
       "      <td>0</td>\n",
       "      <td>3</td>\n",
       "    </tr>\n",
       "    <tr>\n",
       "      <th>486</th>\n",
       "      <td>fcaf1c99-f15e-44cb-88b7-ba3ad4256077</td>\n",
       "      <td>None</td>\n",
       "      <td>0</td>\n",
       "      <td>0</td>\n",
       "      <td>0</td>\n",
       "      <td>3</td>\n",
       "    </tr>\n",
       "  </tbody>\n",
       "</table>\n",
       "</div>"
      ],
      "text/plain": [
       "                               business_id    due_date  DPD_plus_3  \\\n",
       "276   a7e6ab3c-5f73-4439-9a94-c67296bb4b1e        None           0   \n",
       "1371  0c83b0e9-f251-4a57-969b-2880b227aa03  2023-03-22           0   \n",
       "1144  e9b5cd85-7a04-4ef1-a327-dffa7f9b9765        None           0   \n",
       "30    298e53b5-58c7-42f1-9a4f-e017bca86460        None           0   \n",
       "486   fcaf1c99-f15e-44cb-88b7-ba3ad4256077        None           0   \n",
       "\n",
       "      DPD_plus_15  DPD_plus_30  emi_no  \n",
       "276             0            0       3  \n",
       "1371            0            0       3  \n",
       "1144            0            0       3  \n",
       "30              0            0       3  \n",
       "486             0            0       3  "
      ]
     },
     "execution_count": 34,
     "metadata": {},
     "output_type": "execute_result"
    }
   ],
   "source": [
    "ga_third.sample(5)"
   ]
  },
  {
   "cell_type": "code",
   "execution_count": 35,
   "metadata": {},
   "outputs": [
    {
     "data": {
      "text/html": [
       "<div>\n",
       "<style scoped>\n",
       "    .dataframe tbody tr th:only-of-type {\n",
       "        vertical-align: middle;\n",
       "    }\n",
       "\n",
       "    .dataframe tbody tr th {\n",
       "        vertical-align: top;\n",
       "    }\n",
       "\n",
       "    .dataframe thead th {\n",
       "        text-align: right;\n",
       "    }\n",
       "</style>\n",
       "<table border=\"1\" class=\"dataframe\">\n",
       "  <thead>\n",
       "    <tr style=\"text-align: right;\">\n",
       "      <th></th>\n",
       "      <th>business_id</th>\n",
       "      <th>due_date</th>\n",
       "      <th>DPD_plus_3</th>\n",
       "      <th>DPD_plus_15</th>\n",
       "      <th>DPD_plus_30</th>\n",
       "      <th>emi_no</th>\n",
       "    </tr>\n",
       "  </thead>\n",
       "  <tbody>\n",
       "    <tr>\n",
       "      <th>665</th>\n",
       "      <td>31a72693-4901-487f-bd29-2b87336adb21</td>\n",
       "      <td>2023-03-03</td>\n",
       "      <td>0</td>\n",
       "      <td>0</td>\n",
       "      <td>0</td>\n",
       "      <td>1</td>\n",
       "    </tr>\n",
       "    <tr>\n",
       "      <th>4906</th>\n",
       "      <td>c095b9d2-1a56-437c-bd79-e048ff26fcb7</td>\n",
       "      <td>2023-03-04</td>\n",
       "      <td>0</td>\n",
       "      <td>0</td>\n",
       "      <td>0</td>\n",
       "      <td>3</td>\n",
       "    </tr>\n",
       "    <tr>\n",
       "      <th>3105</th>\n",
       "      <td>21117a18-d563-428d-bff0-f0d263711822</td>\n",
       "      <td>2023-02-09</td>\n",
       "      <td>0</td>\n",
       "      <td>0</td>\n",
       "      <td>0</td>\n",
       "      <td>2</td>\n",
       "    </tr>\n",
       "    <tr>\n",
       "      <th>1170</th>\n",
       "      <td>dc104b9f-340c-4d01-bf4f-91b954be10ce</td>\n",
       "      <td>2023-02-16</td>\n",
       "      <td>0</td>\n",
       "      <td>0</td>\n",
       "      <td>0</td>\n",
       "      <td>1</td>\n",
       "    </tr>\n",
       "    <tr>\n",
       "      <th>282</th>\n",
       "      <td>ec808f21-f944-497c-b9fa-3ad121137f28</td>\n",
       "      <td>2023-03-19</td>\n",
       "      <td>0</td>\n",
       "      <td>0</td>\n",
       "      <td>0</td>\n",
       "      <td>1</td>\n",
       "    </tr>\n",
       "  </tbody>\n",
       "</table>\n",
       "</div>"
      ],
      "text/plain": [
       "                               business_id    due_date  DPD_plus_3  \\\n",
       "665   31a72693-4901-487f-bd29-2b87336adb21  2023-03-03           0   \n",
       "4906  c095b9d2-1a56-437c-bd79-e048ff26fcb7  2023-03-04           0   \n",
       "3105  21117a18-d563-428d-bff0-f0d263711822  2023-02-09           0   \n",
       "1170  dc104b9f-340c-4d01-bf4f-91b954be10ce  2023-02-16           0   \n",
       "282   ec808f21-f944-497c-b9fa-3ad121137f28  2023-03-19           0   \n",
       "\n",
       "      DPD_plus_15  DPD_plus_30  emi_no  \n",
       "665             0            0       1  \n",
       "4906            0            0       3  \n",
       "3105            0            0       2  \n",
       "1170            0            0       1  \n",
       "282             0            0       1  "
      ]
     },
     "execution_count": 35,
     "metadata": {},
     "output_type": "execute_result"
    }
   ],
   "source": [
    "ga_stack.sample(5)"
   ]
  },
  {
   "cell_type": "code",
   "execution_count": 36,
   "metadata": {},
   "outputs": [
    {
     "data": {
      "text/plain": [
       "(1913, 6)"
      ]
     },
     "execution_count": 36,
     "metadata": {},
     "output_type": "execute_result"
    }
   ],
   "source": [
    "ga_stack[ga_stack['due_date'].isnull()].shape"
   ]
  },
  {
   "cell_type": "code",
   "execution_count": 37,
   "metadata": {},
   "outputs": [
    {
     "data": {
      "text/plain": [
       "(5001, 6)"
      ]
     },
     "execution_count": 37,
     "metadata": {},
     "output_type": "execute_result"
    }
   ],
   "source": [
    "ga_stack.shape"
   ]
  },
  {
   "cell_type": "code",
   "execution_count": 38,
   "metadata": {},
   "outputs": [],
   "source": [
    "ga_stack = ga_stack[~ga_stack['due_date'].isnull()]"
   ]
  },
  {
   "cell_type": "code",
   "execution_count": 39,
   "metadata": {},
   "outputs": [
    {
     "data": {
      "text/plain": [
       "(3088, 6)"
      ]
     },
     "execution_count": 39,
     "metadata": {},
     "output_type": "execute_result"
    }
   ],
   "source": [
    "ga_stack.shape"
   ]
  },
  {
   "cell_type": "code",
   "execution_count": null,
   "metadata": {},
   "outputs": [],
   "source": []
  },
  {
   "cell_type": "markdown",
   "metadata": {},
   "source": [
    "#### Pilot Stacking"
   ]
  },
  {
   "cell_type": "code",
   "execution_count": 40,
   "metadata": {},
   "outputs": [
    {
     "data": {
      "text/html": [
       "<div>\n",
       "<style scoped>\n",
       "    .dataframe tbody tr th:only-of-type {\n",
       "        vertical-align: middle;\n",
       "    }\n",
       "\n",
       "    .dataframe tbody tr th {\n",
       "        vertical-align: top;\n",
       "    }\n",
       "\n",
       "    .dataframe thead th {\n",
       "        text-align: right;\n",
       "    }\n",
       "</style>\n",
       "<table border=\"1\" class=\"dataframe\">\n",
       "  <thead>\n",
       "    <tr style=\"text-align: right;\">\n",
       "      <th></th>\n",
       "      <th>product_id</th>\n",
       "      <th>business_id</th>\n",
       "      <th>pilot_first_due_date</th>\n",
       "      <th>pilot_second_due_date</th>\n",
       "      <th>pilot_third_due_date</th>\n",
       "      <th>pilot_fpd</th>\n",
       "      <th>pilot_spd</th>\n",
       "      <th>pilot_tpd</th>\n",
       "      <th>pilot_first_cure_days</th>\n",
       "      <th>pilot_second_cure_days</th>\n",
       "      <th>pilot_third_cure_days</th>\n",
       "      <th>FPD_plus_3</th>\n",
       "      <th>SPD_plus_3</th>\n",
       "      <th>TPD_plus_3</th>\n",
       "      <th>FPD_plus_15</th>\n",
       "      <th>SPD_plus_15</th>\n",
       "      <th>TPD_plus_15</th>\n",
       "      <th>FPD_plus_30</th>\n",
       "      <th>SPD_plus_30</th>\n",
       "      <th>TPD_plus_30</th>\n",
       "    </tr>\n",
       "  </thead>\n",
       "  <tbody>\n",
       "    <tr>\n",
       "      <th>0</th>\n",
       "      <td>23c0016b-6b08-4bed-b4d4-95ba5b9eb659</td>\n",
       "      <td>763f6686-35cb-4578-bf6d-22219d8bcb0e</td>\n",
       "      <td>2022-09-30 07:00:25.667000+00:00</td>\n",
       "      <td>2022-10-30 07:00:43.963000+00:00</td>\n",
       "      <td>2022-11-30 08:00:51.547000+00:00</td>\n",
       "      <td>0</td>\n",
       "      <td>0</td>\n",
       "      <td>1</td>\n",
       "      <td>0</td>\n",
       "      <td>0</td>\n",
       "      <td>60</td>\n",
       "      <td>0</td>\n",
       "      <td>0</td>\n",
       "      <td>1</td>\n",
       "      <td>0</td>\n",
       "      <td>0</td>\n",
       "      <td>1</td>\n",
       "      <td>0</td>\n",
       "      <td>0</td>\n",
       "      <td>1</td>\n",
       "    </tr>\n",
       "    <tr>\n",
       "      <th>1</th>\n",
       "      <td>9b57a45c-754a-4300-ad60-2c4542fef5a5</td>\n",
       "      <td>7922550b-b6a4-47ca-8b53-e56a2c3e49d4</td>\n",
       "      <td>2022-07-05 07:00:00.147000+00:00</td>\n",
       "      <td>2022-08-05 07:00:00.306000+00:00</td>\n",
       "      <td>2022-08-27 07:00:31.631000+00:00</td>\n",
       "      <td>1</td>\n",
       "      <td>0</td>\n",
       "      <td>0</td>\n",
       "      <td>3</td>\n",
       "      <td>0</td>\n",
       "      <td>0</td>\n",
       "      <td>1</td>\n",
       "      <td>0</td>\n",
       "      <td>0</td>\n",
       "      <td>0</td>\n",
       "      <td>0</td>\n",
       "      <td>0</td>\n",
       "      <td>0</td>\n",
       "      <td>0</td>\n",
       "      <td>0</td>\n",
       "    </tr>\n",
       "    <tr>\n",
       "      <th>2</th>\n",
       "      <td>c9391332-013e-4528-9279-2aa561dc6de3</td>\n",
       "      <td>db972854-865b-424a-b264-bdc1c1ac058d</td>\n",
       "      <td>2022-10-02 07:00:40.985000+00:00</td>\n",
       "      <td>2022-11-01 07:00:48.751000+00:00</td>\n",
       "      <td>2022-11-30 18:14:34.996000+00:00</td>\n",
       "      <td>1</td>\n",
       "      <td>1</td>\n",
       "      <td>0</td>\n",
       "      <td>5</td>\n",
       "      <td>22</td>\n",
       "      <td>0</td>\n",
       "      <td>1</td>\n",
       "      <td>1</td>\n",
       "      <td>0</td>\n",
       "      <td>0</td>\n",
       "      <td>1</td>\n",
       "      <td>0</td>\n",
       "      <td>0</td>\n",
       "      <td>0</td>\n",
       "      <td>0</td>\n",
       "    </tr>\n",
       "    <tr>\n",
       "      <th>3</th>\n",
       "      <td>b2c1aeee-166b-4899-a297-20a195313ef4</td>\n",
       "      <td>26be705c-f5da-4ffa-8720-9b40dcdcee44</td>\n",
       "      <td>2022-08-17 07:00:00.406000+00:00</td>\n",
       "      <td>2022-09-17 07:00:00.090000+00:00</td>\n",
       "      <td>2022-10-17 07:00:00.084000+00:00</td>\n",
       "      <td>0</td>\n",
       "      <td>0</td>\n",
       "      <td>0</td>\n",
       "      <td>0</td>\n",
       "      <td>0</td>\n",
       "      <td>0</td>\n",
       "      <td>0</td>\n",
       "      <td>0</td>\n",
       "      <td>0</td>\n",
       "      <td>0</td>\n",
       "      <td>0</td>\n",
       "      <td>0</td>\n",
       "      <td>0</td>\n",
       "      <td>0</td>\n",
       "      <td>0</td>\n",
       "    </tr>\n",
       "    <tr>\n",
       "      <th>4</th>\n",
       "      <td>85a98d0f-5fb3-4dcd-9e47-435cf8555784</td>\n",
       "      <td>ab59e1a9-605b-43b4-8312-880b4123bc28</td>\n",
       "      <td>2022-10-01 07:00:44.111000+00:00</td>\n",
       "      <td>2022-10-15 07:06:47.568000+00:00</td>\n",
       "      <td>2022-10-31 07:00:16.200000+00:00</td>\n",
       "      <td>0</td>\n",
       "      <td>0</td>\n",
       "      <td>1</td>\n",
       "      <td>0</td>\n",
       "      <td>0</td>\n",
       "      <td>0</td>\n",
       "      <td>0</td>\n",
       "      <td>0</td>\n",
       "      <td>0</td>\n",
       "      <td>0</td>\n",
       "      <td>0</td>\n",
       "      <td>0</td>\n",
       "      <td>0</td>\n",
       "      <td>0</td>\n",
       "      <td>0</td>\n",
       "    </tr>\n",
       "  </tbody>\n",
       "</table>\n",
       "</div>"
      ],
      "text/plain": [
       "                             product_id                           business_id  \\\n",
       "0  23c0016b-6b08-4bed-b4d4-95ba5b9eb659  763f6686-35cb-4578-bf6d-22219d8bcb0e   \n",
       "1  9b57a45c-754a-4300-ad60-2c4542fef5a5  7922550b-b6a4-47ca-8b53-e56a2c3e49d4   \n",
       "2  c9391332-013e-4528-9279-2aa561dc6de3  db972854-865b-424a-b264-bdc1c1ac058d   \n",
       "3  b2c1aeee-166b-4899-a297-20a195313ef4  26be705c-f5da-4ffa-8720-9b40dcdcee44   \n",
       "4  85a98d0f-5fb3-4dcd-9e47-435cf8555784  ab59e1a9-605b-43b4-8312-880b4123bc28   \n",
       "\n",
       "              pilot_first_due_date            pilot_second_due_date  \\\n",
       "0 2022-09-30 07:00:25.667000+00:00 2022-10-30 07:00:43.963000+00:00   \n",
       "1 2022-07-05 07:00:00.147000+00:00 2022-08-05 07:00:00.306000+00:00   \n",
       "2 2022-10-02 07:00:40.985000+00:00 2022-11-01 07:00:48.751000+00:00   \n",
       "3 2022-08-17 07:00:00.406000+00:00 2022-09-17 07:00:00.090000+00:00   \n",
       "4 2022-10-01 07:00:44.111000+00:00 2022-10-15 07:06:47.568000+00:00   \n",
       "\n",
       "              pilot_third_due_date  pilot_fpd  pilot_spd  pilot_tpd  \\\n",
       "0 2022-11-30 08:00:51.547000+00:00          0          0          1   \n",
       "1 2022-08-27 07:00:31.631000+00:00          1          0          0   \n",
       "2 2022-11-30 18:14:34.996000+00:00          1          1          0   \n",
       "3 2022-10-17 07:00:00.084000+00:00          0          0          0   \n",
       "4 2022-10-31 07:00:16.200000+00:00          0          0          1   \n",
       "\n",
       "   pilot_first_cure_days  pilot_second_cure_days  pilot_third_cure_days  \\\n",
       "0                      0                       0                     60   \n",
       "1                      3                       0                      0   \n",
       "2                      5                      22                      0   \n",
       "3                      0                       0                      0   \n",
       "4                      0                       0                      0   \n",
       "\n",
       "   FPD_plus_3  SPD_plus_3  TPD_plus_3  FPD_plus_15  SPD_plus_15  TPD_plus_15  \\\n",
       "0           0           0           1            0            0            1   \n",
       "1           1           0           0            0            0            0   \n",
       "2           1           1           0            0            1            0   \n",
       "3           0           0           0            0            0            0   \n",
       "4           0           0           0            0            0            0   \n",
       "\n",
       "   FPD_plus_30  SPD_plus_30  TPD_plus_30  \n",
       "0            0            0            1  \n",
       "1            0            0            0  \n",
       "2            0            0            0  \n",
       "3            0            0            0  \n",
       "4            0            0            0  "
      ]
     },
     "execution_count": 40,
     "metadata": {},
     "output_type": "execute_result"
    }
   ],
   "source": [
    "pilot_df.head()"
   ]
  },
  {
   "cell_type": "code",
   "execution_count": 41,
   "metadata": {},
   "outputs": [],
   "source": [
    "pilot_df['pilot_first_due_date'] = pd.to_datetime(pilot_df['pilot_first_due_date']).dt.date\n",
    "pilot_df['pilot_second_due_date'] = pd.to_datetime(pilot_df['pilot_second_due_date']).dt.date\n",
    "pilot_df['pilot_third_due_date'] = pd.to_datetime(pilot_df['pilot_third_due_date']).dt.date"
   ]
  },
  {
   "cell_type": "code",
   "execution_count": 42,
   "metadata": {},
   "outputs": [
    {
     "data": {
      "text/plain": [
       "Index(['product_id', 'business_id', 'pilot_first_due_date',\n",
       "       'pilot_second_due_date', 'pilot_third_due_date', 'pilot_fpd',\n",
       "       'pilot_spd', 'pilot_tpd', 'pilot_first_cure_days',\n",
       "       'pilot_second_cure_days', 'pilot_third_cure_days', 'FPD_plus_3',\n",
       "       'SPD_plus_3', 'TPD_plus_3', 'FPD_plus_15', 'SPD_plus_15', 'TPD_plus_15',\n",
       "       'FPD_plus_30', 'SPD_plus_30', 'TPD_plus_30'],\n",
       "      dtype='object')"
      ]
     },
     "execution_count": 42,
     "metadata": {},
     "output_type": "execute_result"
    }
   ],
   "source": [
    "pilot_df.columns"
   ]
  },
  {
   "cell_type": "code",
   "execution_count": 43,
   "metadata": {},
   "outputs": [],
   "source": [
    "first = pilot_df[['business_id','pilot_first_due_date','FPD_plus_3','FPD_plus_15','FPD_plus_30']].rename(columns={'pilot_first_due_date': 'due_date', 'FPD_plus_3': 'DPD_plus_3','FPD_plus_15':'DPD_plus_15','FPD_plus_30':'DPD_plus_30'})\n",
    "second = pilot_df[['business_id','pilot_second_due_date','SPD_plus_3','SPD_plus_15','SPD_plus_30']].rename(columns={'pilot_second_due_date': 'due_date', 'SPD_plus_3': 'DPD_plus_3','SPD_plus_15':'DPD_plus_15','SPD_plus_30':'DPD_plus_30'})\n",
    "third = pilot_df[['business_id','pilot_third_due_date','TPD_plus_3','TPD_plus_15','TPD_plus_30']].rename(columns={'pilot_third_due_date': 'due_date', 'TPD_plus_3': 'DPD_plus_3','TPD_plus_15':'DPD_plus_15','TPD_plus_30':'DPD_plus_30'})"
   ]
  },
  {
   "cell_type": "code",
   "execution_count": 44,
   "metadata": {},
   "outputs": [],
   "source": [
    "first['emi_no'] = 1\n",
    "second['emi_no'] = 2\n",
    "third['emi_no'] = 3"
   ]
  },
  {
   "cell_type": "code",
   "execution_count": 45,
   "metadata": {},
   "outputs": [
    {
     "data": {
      "text/plain": [
       "(643, 6)"
      ]
     },
     "execution_count": 45,
     "metadata": {},
     "output_type": "execute_result"
    }
   ],
   "source": [
    "third.shape"
   ]
  },
  {
   "cell_type": "code",
   "execution_count": 46,
   "metadata": {},
   "outputs": [
    {
     "data": {
      "text/html": [
       "<div>\n",
       "<style scoped>\n",
       "    .dataframe tbody tr th:only-of-type {\n",
       "        vertical-align: middle;\n",
       "    }\n",
       "\n",
       "    .dataframe tbody tr th {\n",
       "        vertical-align: top;\n",
       "    }\n",
       "\n",
       "    .dataframe thead th {\n",
       "        text-align: right;\n",
       "    }\n",
       "</style>\n",
       "<table border=\"1\" class=\"dataframe\">\n",
       "  <thead>\n",
       "    <tr style=\"text-align: right;\">\n",
       "      <th></th>\n",
       "      <th>business_id</th>\n",
       "      <th>due_date</th>\n",
       "      <th>DPD_plus_3</th>\n",
       "      <th>DPD_plus_15</th>\n",
       "      <th>DPD_plus_30</th>\n",
       "      <th>emi_no</th>\n",
       "    </tr>\n",
       "  </thead>\n",
       "  <tbody>\n",
       "    <tr>\n",
       "      <th>453</th>\n",
       "      <td>fdd8a93d-a5b6-46ba-a461-aff279e05f17</td>\n",
       "      <td>2022-10-20</td>\n",
       "      <td>1</td>\n",
       "      <td>1</td>\n",
       "      <td>1</td>\n",
       "      <td>3</td>\n",
       "    </tr>\n",
       "    <tr>\n",
       "      <th>333</th>\n",
       "      <td>206dce8f-1527-48ca-b9aa-11fe81ed6c9c</td>\n",
       "      <td>2022-11-30</td>\n",
       "      <td>0</td>\n",
       "      <td>0</td>\n",
       "      <td>0</td>\n",
       "      <td>3</td>\n",
       "    </tr>\n",
       "    <tr>\n",
       "      <th>361</th>\n",
       "      <td>bf8ec046-4e61-4acc-bdf1-992c752d50d3</td>\n",
       "      <td>2022-10-18</td>\n",
       "      <td>0</td>\n",
       "      <td>0</td>\n",
       "      <td>0</td>\n",
       "      <td>3</td>\n",
       "    </tr>\n",
       "    <tr>\n",
       "      <th>202</th>\n",
       "      <td>545b8198-4033-489f-a84f-fc02d8ad19b0</td>\n",
       "      <td>2022-11-08</td>\n",
       "      <td>1</td>\n",
       "      <td>1</td>\n",
       "      <td>1</td>\n",
       "      <td>3</td>\n",
       "    </tr>\n",
       "    <tr>\n",
       "      <th>362</th>\n",
       "      <td>b19b13fd-4860-482c-9588-2b90205decad</td>\n",
       "      <td>2022-09-05</td>\n",
       "      <td>0</td>\n",
       "      <td>0</td>\n",
       "      <td>0</td>\n",
       "      <td>3</td>\n",
       "    </tr>\n",
       "  </tbody>\n",
       "</table>\n",
       "</div>"
      ],
      "text/plain": [
       "                              business_id    due_date  DPD_plus_3  \\\n",
       "453  fdd8a93d-a5b6-46ba-a461-aff279e05f17  2022-10-20           1   \n",
       "333  206dce8f-1527-48ca-b9aa-11fe81ed6c9c  2022-11-30           0   \n",
       "361  bf8ec046-4e61-4acc-bdf1-992c752d50d3  2022-10-18           0   \n",
       "202  545b8198-4033-489f-a84f-fc02d8ad19b0  2022-11-08           1   \n",
       "362  b19b13fd-4860-482c-9588-2b90205decad  2022-09-05           0   \n",
       "\n",
       "     DPD_plus_15  DPD_plus_30  emi_no  \n",
       "453            1            1       3  \n",
       "333            0            0       3  \n",
       "361            0            0       3  \n",
       "202            1            1       3  \n",
       "362            0            0       3  "
      ]
     },
     "execution_count": 46,
     "metadata": {},
     "output_type": "execute_result"
    }
   ],
   "source": [
    "third.sample(5)"
   ]
  },
  {
   "cell_type": "code",
   "execution_count": 47,
   "metadata": {},
   "outputs": [],
   "source": [
    "pilot_stack = pd.concat([first, second, third], axis = 0, ignore_index = True)"
   ]
  },
  {
   "cell_type": "code",
   "execution_count": 48,
   "metadata": {},
   "outputs": [
    {
     "data": {
      "text/html": [
       "<div>\n",
       "<style scoped>\n",
       "    .dataframe tbody tr th:only-of-type {\n",
       "        vertical-align: middle;\n",
       "    }\n",
       "\n",
       "    .dataframe tbody tr th {\n",
       "        vertical-align: top;\n",
       "    }\n",
       "\n",
       "    .dataframe thead th {\n",
       "        text-align: right;\n",
       "    }\n",
       "</style>\n",
       "<table border=\"1\" class=\"dataframe\">\n",
       "  <thead>\n",
       "    <tr style=\"text-align: right;\">\n",
       "      <th></th>\n",
       "      <th>business_id</th>\n",
       "      <th>due_date</th>\n",
       "      <th>DPD_plus_3</th>\n",
       "      <th>DPD_plus_15</th>\n",
       "      <th>DPD_plus_30</th>\n",
       "      <th>emi_no</th>\n",
       "    </tr>\n",
       "  </thead>\n",
       "  <tbody>\n",
       "    <tr>\n",
       "      <th>1568</th>\n",
       "      <td>3d4b951b-84f7-4a04-9614-53b6b1d4a4e5</td>\n",
       "      <td>2022-11-22</td>\n",
       "      <td>0</td>\n",
       "      <td>0</td>\n",
       "      <td>0</td>\n",
       "      <td>3</td>\n",
       "    </tr>\n",
       "    <tr>\n",
       "      <th>1253</th>\n",
       "      <td>100e66f2-6836-4801-ab35-c43d3b01840a</td>\n",
       "      <td>2022-10-01</td>\n",
       "      <td>0</td>\n",
       "      <td>0</td>\n",
       "      <td>0</td>\n",
       "      <td>2</td>\n",
       "    </tr>\n",
       "    <tr>\n",
       "      <th>623</th>\n",
       "      <td>a42abe38-52fc-4dbf-9fde-cda5ef443787</td>\n",
       "      <td>2022-08-22</td>\n",
       "      <td>1</td>\n",
       "      <td>1</td>\n",
       "      <td>0</td>\n",
       "      <td>1</td>\n",
       "    </tr>\n",
       "    <tr>\n",
       "      <th>1394</th>\n",
       "      <td>3608a3f0-5a73-4682-80ca-e680aad3c4ad</td>\n",
       "      <td>2022-11-21</td>\n",
       "      <td>1</td>\n",
       "      <td>1</td>\n",
       "      <td>0</td>\n",
       "      <td>3</td>\n",
       "    </tr>\n",
       "    <tr>\n",
       "      <th>419</th>\n",
       "      <td>d65c3d0f-9eb3-4a2f-bc33-317b86801ef0</td>\n",
       "      <td>2022-08-26</td>\n",
       "      <td>0</td>\n",
       "      <td>0</td>\n",
       "      <td>0</td>\n",
       "      <td>1</td>\n",
       "    </tr>\n",
       "  </tbody>\n",
       "</table>\n",
       "</div>"
      ],
      "text/plain": [
       "                               business_id    due_date  DPD_plus_3  \\\n",
       "1568  3d4b951b-84f7-4a04-9614-53b6b1d4a4e5  2022-11-22           0   \n",
       "1253  100e66f2-6836-4801-ab35-c43d3b01840a  2022-10-01           0   \n",
       "623   a42abe38-52fc-4dbf-9fde-cda5ef443787  2022-08-22           1   \n",
       "1394  3608a3f0-5a73-4682-80ca-e680aad3c4ad  2022-11-21           1   \n",
       "419   d65c3d0f-9eb3-4a2f-bc33-317b86801ef0  2022-08-26           0   \n",
       "\n",
       "      DPD_plus_15  DPD_plus_30  emi_no  \n",
       "1568            0            0       3  \n",
       "1253            0            0       2  \n",
       "623             1            0       1  \n",
       "1394            1            0       3  \n",
       "419             0            0       1  "
      ]
     },
     "execution_count": 48,
     "metadata": {},
     "output_type": "execute_result"
    }
   ],
   "source": [
    "pilot_stack.sample(5)"
   ]
  },
  {
   "cell_type": "code",
   "execution_count": 49,
   "metadata": {},
   "outputs": [
    {
     "data": {
      "text/plain": [
       "(1929, 6)"
      ]
     },
     "execution_count": 49,
     "metadata": {},
     "output_type": "execute_result"
    }
   ],
   "source": [
    "pilot_stack.shape"
   ]
  },
  {
   "cell_type": "markdown",
   "metadata": {},
   "source": [
    "#### Adjusting EMI_NO for pilot migrated accounts"
   ]
  },
  {
   "cell_type": "code",
   "execution_count": 50,
   "metadata": {},
   "outputs": [],
   "source": [
    "\n",
    "ga_stack.loc[(ga_stack['business_id'].isin(list(pilot_mg['business_id']))), 'emi_no'] = ga_stack.loc[(ga_stack['business_id'].isin(list(pilot_mg['business_id']))), 'emi_no'] + 3"
   ]
  },
  {
   "cell_type": "markdown",
   "metadata": {},
   "source": [
    "#### Merging Pilot and GA Stacked"
   ]
  },
  {
   "cell_type": "code",
   "execution_count": 51,
   "metadata": {},
   "outputs": [],
   "source": [
    "dff = pd.concat([ga_stack, pilot_stack], axis = 0, ignore_index = True)"
   ]
  },
  {
   "cell_type": "code",
   "execution_count": 52,
   "metadata": {},
   "outputs": [
    {
     "data": {
      "text/html": [
       "<div>\n",
       "<style scoped>\n",
       "    .dataframe tbody tr th:only-of-type {\n",
       "        vertical-align: middle;\n",
       "    }\n",
       "\n",
       "    .dataframe tbody tr th {\n",
       "        vertical-align: top;\n",
       "    }\n",
       "\n",
       "    .dataframe thead th {\n",
       "        text-align: right;\n",
       "    }\n",
       "</style>\n",
       "<table border=\"1\" class=\"dataframe\">\n",
       "  <thead>\n",
       "    <tr style=\"text-align: right;\">\n",
       "      <th></th>\n",
       "      <th>business_id</th>\n",
       "      <th>due_date</th>\n",
       "      <th>DPD_plus_3</th>\n",
       "      <th>DPD_plus_15</th>\n",
       "      <th>DPD_plus_30</th>\n",
       "      <th>emi_no</th>\n",
       "    </tr>\n",
       "  </thead>\n",
       "  <tbody>\n",
       "    <tr>\n",
       "      <th>327</th>\n",
       "      <td>d50567c6-5050-4747-bf1d-036a62ec42af</td>\n",
       "      <td>2023-03-16</td>\n",
       "      <td>0</td>\n",
       "      <td>0</td>\n",
       "      <td>0</td>\n",
       "      <td>1</td>\n",
       "    </tr>\n",
       "    <tr>\n",
       "      <th>4931</th>\n",
       "      <td>8929c03f-4958-46b4-8b6b-70ec12895c67</td>\n",
       "      <td>2022-11-12</td>\n",
       "      <td>0</td>\n",
       "      <td>0</td>\n",
       "      <td>0</td>\n",
       "      <td>3</td>\n",
       "    </tr>\n",
       "    <tr>\n",
       "      <th>3509</th>\n",
       "      <td>c0c82e1d-9e25-4a01-ba0a-99b8a62c28a0</td>\n",
       "      <td>2022-07-26</td>\n",
       "      <td>0</td>\n",
       "      <td>0</td>\n",
       "      <td>0</td>\n",
       "      <td>1</td>\n",
       "    </tr>\n",
       "    <tr>\n",
       "      <th>1587</th>\n",
       "      <td>b51ef33b-8e92-458b-98c7-b19408b5beff</td>\n",
       "      <td>2023-01-01</td>\n",
       "      <td>0</td>\n",
       "      <td>0</td>\n",
       "      <td>0</td>\n",
       "      <td>4</td>\n",
       "    </tr>\n",
       "    <tr>\n",
       "      <th>4400</th>\n",
       "      <td>7f6308a5-c1bd-4d67-afff-4ca1de634846</td>\n",
       "      <td>2023-01-18</td>\n",
       "      <td>0</td>\n",
       "      <td>0</td>\n",
       "      <td>0</td>\n",
       "      <td>3</td>\n",
       "    </tr>\n",
       "  </tbody>\n",
       "</table>\n",
       "</div>"
      ],
      "text/plain": [
       "                               business_id    due_date  DPD_plus_3  \\\n",
       "327   d50567c6-5050-4747-bf1d-036a62ec42af  2023-03-16           0   \n",
       "4931  8929c03f-4958-46b4-8b6b-70ec12895c67  2022-11-12           0   \n",
       "3509  c0c82e1d-9e25-4a01-ba0a-99b8a62c28a0  2022-07-26           0   \n",
       "1587  b51ef33b-8e92-458b-98c7-b19408b5beff  2023-01-01           0   \n",
       "4400  7f6308a5-c1bd-4d67-afff-4ca1de634846  2023-01-18           0   \n",
       "\n",
       "      DPD_plus_15  DPD_plus_30  emi_no  \n",
       "327             0            0       1  \n",
       "4931            0            0       3  \n",
       "3509            0            0       1  \n",
       "1587            0            0       4  \n",
       "4400            0            0       3  "
      ]
     },
     "execution_count": 52,
     "metadata": {},
     "output_type": "execute_result"
    }
   ],
   "source": [
    "dff.sample(5)"
   ]
  },
  {
   "cell_type": "code",
   "execution_count": 53,
   "metadata": {},
   "outputs": [
    {
     "data": {
      "text/html": [
       "<div>\n",
       "<style scoped>\n",
       "    .dataframe tbody tr th:only-of-type {\n",
       "        vertical-align: middle;\n",
       "    }\n",
       "\n",
       "    .dataframe tbody tr th {\n",
       "        vertical-align: top;\n",
       "    }\n",
       "\n",
       "    .dataframe thead th {\n",
       "        text-align: right;\n",
       "    }\n",
       "</style>\n",
       "<table border=\"1\" class=\"dataframe\">\n",
       "  <thead>\n",
       "    <tr style=\"text-align: right;\">\n",
       "      <th></th>\n",
       "      <th>business_id</th>\n",
       "      <th>due_date</th>\n",
       "      <th>DPD_plus_3</th>\n",
       "      <th>DPD_plus_15</th>\n",
       "      <th>DPD_plus_30</th>\n",
       "      <th>emi_no</th>\n",
       "    </tr>\n",
       "  </thead>\n",
       "  <tbody>\n",
       "    <tr>\n",
       "      <th>947</th>\n",
       "      <td>21678f69-7202-498f-a79a-c708eb5abeae</td>\n",
       "      <td>2023-02-25</td>\n",
       "      <td>0</td>\n",
       "      <td>0</td>\n",
       "      <td>0</td>\n",
       "      <td>1</td>\n",
       "    </tr>\n",
       "    <tr>\n",
       "      <th>4412</th>\n",
       "      <td>edb4bb54-56e9-4849-9975-2f6a5db9c4e7</td>\n",
       "      <td>2022-09-22</td>\n",
       "      <td>0</td>\n",
       "      <td>0</td>\n",
       "      <td>0</td>\n",
       "      <td>3</td>\n",
       "    </tr>\n",
       "    <tr>\n",
       "      <th>4440</th>\n",
       "      <td>d60b8e98-ebbb-4e9b-80c8-02a3e3b58e9f</td>\n",
       "      <td>2022-11-09</td>\n",
       "      <td>0</td>\n",
       "      <td>0</td>\n",
       "      <td>0</td>\n",
       "      <td>3</td>\n",
       "    </tr>\n",
       "    <tr>\n",
       "      <th>3038</th>\n",
       "      <td>162472a9-a6ae-4ea8-89b9-279ec33dca3b</td>\n",
       "      <td>2023-03-03</td>\n",
       "      <td>1</td>\n",
       "      <td>1</td>\n",
       "      <td>1</td>\n",
       "      <td>6</td>\n",
       "    </tr>\n",
       "    <tr>\n",
       "      <th>3218</th>\n",
       "      <td>9af75dbc-53a8-4e52-96bc-aa5fb15a0668</td>\n",
       "      <td>2022-09-11</td>\n",
       "      <td>0</td>\n",
       "      <td>0</td>\n",
       "      <td>0</td>\n",
       "      <td>1</td>\n",
       "    </tr>\n",
       "  </tbody>\n",
       "</table>\n",
       "</div>"
      ],
      "text/plain": [
       "                               business_id    due_date  DPD_plus_3  \\\n",
       "947   21678f69-7202-498f-a79a-c708eb5abeae  2023-02-25           0   \n",
       "4412  edb4bb54-56e9-4849-9975-2f6a5db9c4e7  2022-09-22           0   \n",
       "4440  d60b8e98-ebbb-4e9b-80c8-02a3e3b58e9f  2022-11-09           0   \n",
       "3038  162472a9-a6ae-4ea8-89b9-279ec33dca3b  2023-03-03           1   \n",
       "3218  9af75dbc-53a8-4e52-96bc-aa5fb15a0668  2022-09-11           0   \n",
       "\n",
       "      DPD_plus_15  DPD_plus_30  emi_no  \n",
       "947             0            0       1  \n",
       "4412            0            0       3  \n",
       "4440            0            0       3  \n",
       "3038            1            1       6  \n",
       "3218            0            0       1  "
      ]
     },
     "execution_count": 53,
     "metadata": {},
     "output_type": "execute_result"
    }
   ],
   "source": [
    "dff.sample(5)"
   ]
  },
  {
   "cell_type": "code",
   "execution_count": 54,
   "metadata": {},
   "outputs": [
    {
     "data": {
      "text/plain": [
       "(5017, 6)"
      ]
     },
     "execution_count": 54,
     "metadata": {},
     "output_type": "execute_result"
    }
   ],
   "source": [
    "dff.shape"
   ]
  },
  {
   "cell_type": "code",
   "execution_count": 55,
   "metadata": {},
   "outputs": [],
   "source": [
    "# dff[dff['emi_no']==6].head()"
   ]
  },
  {
   "cell_type": "code",
   "execution_count": 56,
   "metadata": {},
   "outputs": [
    {
     "data": {
      "text/html": [
       "<div>\n",
       "<style scoped>\n",
       "    .dataframe tbody tr th:only-of-type {\n",
       "        vertical-align: middle;\n",
       "    }\n",
       "\n",
       "    .dataframe tbody tr th {\n",
       "        vertical-align: top;\n",
       "    }\n",
       "\n",
       "    .dataframe thead th {\n",
       "        text-align: right;\n",
       "    }\n",
       "</style>\n",
       "<table border=\"1\" class=\"dataframe\">\n",
       "  <thead>\n",
       "    <tr style=\"text-align: right;\">\n",
       "      <th></th>\n",
       "      <th>business_id</th>\n",
       "      <th>due_date</th>\n",
       "      <th>DPD_plus_3</th>\n",
       "      <th>DPD_plus_15</th>\n",
       "      <th>DPD_plus_30</th>\n",
       "      <th>emi_no</th>\n",
       "    </tr>\n",
       "  </thead>\n",
       "  <tbody>\n",
       "    <tr>\n",
       "      <th>917</th>\n",
       "      <td>3ba4a270-25c2-4160-84b7-0a7b6e6bf618</td>\n",
       "      <td>2023-02-26</td>\n",
       "      <td>0</td>\n",
       "      <td>0</td>\n",
       "      <td>0</td>\n",
       "      <td>1</td>\n",
       "    </tr>\n",
       "    <tr>\n",
       "      <th>1992</th>\n",
       "      <td>3ba4a270-25c2-4160-84b7-0a7b6e6bf618</td>\n",
       "      <td>2023-03-26</td>\n",
       "      <td>0</td>\n",
       "      <td>0</td>\n",
       "      <td>0</td>\n",
       "      <td>2</td>\n",
       "    </tr>\n",
       "  </tbody>\n",
       "</table>\n",
       "</div>"
      ],
      "text/plain": [
       "                               business_id    due_date  DPD_plus_3  \\\n",
       "917   3ba4a270-25c2-4160-84b7-0a7b6e6bf618  2023-02-26           0   \n",
       "1992  3ba4a270-25c2-4160-84b7-0a7b6e6bf618  2023-03-26           0   \n",
       "\n",
       "      DPD_plus_15  DPD_plus_30  emi_no  \n",
       "917             0            0       1  \n",
       "1992            0            0       2  "
      ]
     },
     "execution_count": 56,
     "metadata": {},
     "output_type": "execute_result"
    }
   ],
   "source": [
    "dff[dff['business_id']== '3ba4a270-25c2-4160-84b7-0a7b6e6bf618'].sort_values('emi_no')"
   ]
  },
  {
   "cell_type": "code",
   "execution_count": 57,
   "metadata": {},
   "outputs": [
    {
     "data": {
      "text/html": [
       "<div>\n",
       "<style scoped>\n",
       "    .dataframe tbody tr th:only-of-type {\n",
       "        vertical-align: middle;\n",
       "    }\n",
       "\n",
       "    .dataframe tbody tr th {\n",
       "        vertical-align: top;\n",
       "    }\n",
       "\n",
       "    .dataframe thead th {\n",
       "        text-align: right;\n",
       "    }\n",
       "</style>\n",
       "<table border=\"1\" class=\"dataframe\">\n",
       "  <thead>\n",
       "    <tr style=\"text-align: right;\">\n",
       "      <th></th>\n",
       "      <th>business_id</th>\n",
       "      <th>due_date</th>\n",
       "      <th>DPD_plus_3</th>\n",
       "      <th>DPD_plus_15</th>\n",
       "      <th>DPD_plus_30</th>\n",
       "      <th>emi_no</th>\n",
       "    </tr>\n",
       "  </thead>\n",
       "  <tbody>\n",
       "    <tr>\n",
       "      <th>3536</th>\n",
       "      <td>ddc3a22d-3205-4d6e-900a-201605bbfa9c</td>\n",
       "      <td>2022-10-20</td>\n",
       "      <td>0</td>\n",
       "      <td>0</td>\n",
       "      <td>0</td>\n",
       "      <td>1</td>\n",
       "    </tr>\n",
       "    <tr>\n",
       "      <th>4179</th>\n",
       "      <td>ddc3a22d-3205-4d6e-900a-201605bbfa9c</td>\n",
       "      <td>2022-11-20</td>\n",
       "      <td>0</td>\n",
       "      <td>0</td>\n",
       "      <td>0</td>\n",
       "      <td>2</td>\n",
       "    </tr>\n",
       "    <tr>\n",
       "      <th>4822</th>\n",
       "      <td>ddc3a22d-3205-4d6e-900a-201605bbfa9c</td>\n",
       "      <td>2022-12-20</td>\n",
       "      <td>1</td>\n",
       "      <td>0</td>\n",
       "      <td>0</td>\n",
       "      <td>3</td>\n",
       "    </tr>\n",
       "    <tr>\n",
       "      <th>1332</th>\n",
       "      <td>ddc3a22d-3205-4d6e-900a-201605bbfa9c</td>\n",
       "      <td>2023-02-03</td>\n",
       "      <td>1</td>\n",
       "      <td>1</td>\n",
       "      <td>1</td>\n",
       "      <td>4</td>\n",
       "    </tr>\n",
       "    <tr>\n",
       "      <th>2407</th>\n",
       "      <td>ddc3a22d-3205-4d6e-900a-201605bbfa9c</td>\n",
       "      <td>2023-03-06</td>\n",
       "      <td>0</td>\n",
       "      <td>0</td>\n",
       "      <td>0</td>\n",
       "      <td>5</td>\n",
       "    </tr>\n",
       "    <tr>\n",
       "      <th>2753</th>\n",
       "      <td>ddc3a22d-3205-4d6e-900a-201605bbfa9c</td>\n",
       "      <td>2023-04-03</td>\n",
       "      <td>0</td>\n",
       "      <td>0</td>\n",
       "      <td>0</td>\n",
       "      <td>6</td>\n",
       "    </tr>\n",
       "  </tbody>\n",
       "</table>\n",
       "</div>"
      ],
      "text/plain": [
       "                               business_id    due_date  DPD_plus_3  \\\n",
       "3536  ddc3a22d-3205-4d6e-900a-201605bbfa9c  2022-10-20           0   \n",
       "4179  ddc3a22d-3205-4d6e-900a-201605bbfa9c  2022-11-20           0   \n",
       "4822  ddc3a22d-3205-4d6e-900a-201605bbfa9c  2022-12-20           1   \n",
       "1332  ddc3a22d-3205-4d6e-900a-201605bbfa9c  2023-02-03           1   \n",
       "2407  ddc3a22d-3205-4d6e-900a-201605bbfa9c  2023-03-06           0   \n",
       "2753  ddc3a22d-3205-4d6e-900a-201605bbfa9c  2023-04-03           0   \n",
       "\n",
       "      DPD_plus_15  DPD_plus_30  emi_no  \n",
       "3536            0            0       1  \n",
       "4179            0            0       2  \n",
       "4822            0            0       3  \n",
       "1332            1            1       4  \n",
       "2407            0            0       5  \n",
       "2753            0            0       6  "
      ]
     },
     "execution_count": 57,
     "metadata": {},
     "output_type": "execute_result"
    }
   ],
   "source": [
    "dff[dff['business_id']== 'ddc3a22d-3205-4d6e-900a-201605bbfa9c'].sort_values('emi_no')"
   ]
  },
  {
   "cell_type": "code",
   "execution_count": 58,
   "metadata": {},
   "outputs": [
    {
     "data": {
      "text/plain": [
       "1    1979\n",
       "2    1397\n",
       "3     706\n",
       "4     331\n",
       "5     321\n",
       "6     283\n",
       "Name: emi_no, dtype: int64"
      ]
     },
     "execution_count": 58,
     "metadata": {},
     "output_type": "execute_result"
    }
   ],
   "source": [
    "dff['emi_no'].value_counts()"
   ]
  },
  {
   "cell_type": "code",
   "execution_count": 59,
   "metadata": {},
   "outputs": [
    {
     "data": {
      "text/plain": [
       "0.14351205899940203"
      ]
     },
     "execution_count": 59,
     "metadata": {},
     "output_type": "execute_result"
    }
   ],
   "source": [
    "dff['DPD_plus_3'].sum()/len(dff)"
   ]
  },
  {
   "cell_type": "code",
   "execution_count": 60,
   "metadata": {},
   "outputs": [
    {
     "data": {
      "text/html": [
       "<div>\n",
       "<style scoped>\n",
       "    .dataframe tbody tr th:only-of-type {\n",
       "        vertical-align: middle;\n",
       "    }\n",
       "\n",
       "    .dataframe tbody tr th {\n",
       "        vertical-align: top;\n",
       "    }\n",
       "\n",
       "    .dataframe thead th {\n",
       "        text-align: right;\n",
       "    }\n",
       "</style>\n",
       "<table border=\"1\" class=\"dataframe\">\n",
       "  <thead>\n",
       "    <tr style=\"text-align: right;\">\n",
       "      <th></th>\n",
       "      <th>business_id</th>\n",
       "      <th>due_date</th>\n",
       "      <th>DPD_plus_3</th>\n",
       "      <th>DPD_plus_15</th>\n",
       "      <th>DPD_plus_30</th>\n",
       "      <th>emi_no</th>\n",
       "    </tr>\n",
       "  </thead>\n",
       "  <tbody>\n",
       "    <tr>\n",
       "      <th>0</th>\n",
       "      <td>e2a8d148-50d0-4d89-b515-cc29815b03ff</td>\n",
       "      <td>2023-04-03</td>\n",
       "      <td>0</td>\n",
       "      <td>0</td>\n",
       "      <td>0</td>\n",
       "      <td>1</td>\n",
       "    </tr>\n",
       "    <tr>\n",
       "      <th>1</th>\n",
       "      <td>e6a7d2a0-2583-446a-8c25-889077271ef0</td>\n",
       "      <td>2023-04-03</td>\n",
       "      <td>0</td>\n",
       "      <td>0</td>\n",
       "      <td>0</td>\n",
       "      <td>1</td>\n",
       "    </tr>\n",
       "    <tr>\n",
       "      <th>2</th>\n",
       "      <td>d3314f96-5e59-4e28-b7bc-0cc6332691d0</td>\n",
       "      <td>2023-04-03</td>\n",
       "      <td>0</td>\n",
       "      <td>0</td>\n",
       "      <td>0</td>\n",
       "      <td>1</td>\n",
       "    </tr>\n",
       "    <tr>\n",
       "      <th>3</th>\n",
       "      <td>e6e256db-28d2-42f3-9962-63afc6897641</td>\n",
       "      <td>2023-04-03</td>\n",
       "      <td>0</td>\n",
       "      <td>0</td>\n",
       "      <td>0</td>\n",
       "      <td>1</td>\n",
       "    </tr>\n",
       "    <tr>\n",
       "      <th>4</th>\n",
       "      <td>e26e86ab-42ab-422c-8ee6-bd57eb20032d</td>\n",
       "      <td>2023-04-03</td>\n",
       "      <td>0</td>\n",
       "      <td>0</td>\n",
       "      <td>0</td>\n",
       "      <td>1</td>\n",
       "    </tr>\n",
       "    <tr>\n",
       "      <th>...</th>\n",
       "      <td>...</td>\n",
       "      <td>...</td>\n",
       "      <td>...</td>\n",
       "      <td>...</td>\n",
       "      <td>...</td>\n",
       "      <td>...</td>\n",
       "    </tr>\n",
       "    <tr>\n",
       "      <th>3726</th>\n",
       "      <td>fd09139f-a3e5-4f10-bc85-07c9037088ad</td>\n",
       "      <td>2022-10-11</td>\n",
       "      <td>0</td>\n",
       "      <td>0</td>\n",
       "      <td>0</td>\n",
       "      <td>1</td>\n",
       "    </tr>\n",
       "    <tr>\n",
       "      <th>3727</th>\n",
       "      <td>8dad6e58-4c7d-42b0-87f6-0ab0eef2306d</td>\n",
       "      <td>2022-09-29</td>\n",
       "      <td>0</td>\n",
       "      <td>0</td>\n",
       "      <td>0</td>\n",
       "      <td>1</td>\n",
       "    </tr>\n",
       "    <tr>\n",
       "      <th>3728</th>\n",
       "      <td>1872a8e8-ed78-4387-8d9a-99bc0e848790</td>\n",
       "      <td>2022-10-10</td>\n",
       "      <td>0</td>\n",
       "      <td>0</td>\n",
       "      <td>0</td>\n",
       "      <td>1</td>\n",
       "    </tr>\n",
       "    <tr>\n",
       "      <th>3729</th>\n",
       "      <td>2223f662-f3ad-42e7-b5a6-4a62221dd726</td>\n",
       "      <td>2022-08-28</td>\n",
       "      <td>0</td>\n",
       "      <td>0</td>\n",
       "      <td>0</td>\n",
       "      <td>1</td>\n",
       "    </tr>\n",
       "    <tr>\n",
       "      <th>3730</th>\n",
       "      <td>3e48b368-a42f-4358-a0c6-ac86074ece0d</td>\n",
       "      <td>2022-07-22</td>\n",
       "      <td>0</td>\n",
       "      <td>0</td>\n",
       "      <td>0</td>\n",
       "      <td>1</td>\n",
       "    </tr>\n",
       "  </tbody>\n",
       "</table>\n",
       "<p>1979 rows × 6 columns</p>\n",
       "</div>"
      ],
      "text/plain": [
       "                               business_id    due_date  DPD_plus_3  \\\n",
       "0     e2a8d148-50d0-4d89-b515-cc29815b03ff  2023-04-03           0   \n",
       "1     e6a7d2a0-2583-446a-8c25-889077271ef0  2023-04-03           0   \n",
       "2     d3314f96-5e59-4e28-b7bc-0cc6332691d0  2023-04-03           0   \n",
       "3     e6e256db-28d2-42f3-9962-63afc6897641  2023-04-03           0   \n",
       "4     e26e86ab-42ab-422c-8ee6-bd57eb20032d  2023-04-03           0   \n",
       "...                                    ...         ...         ...   \n",
       "3726  fd09139f-a3e5-4f10-bc85-07c9037088ad  2022-10-11           0   \n",
       "3727  8dad6e58-4c7d-42b0-87f6-0ab0eef2306d  2022-09-29           0   \n",
       "3728  1872a8e8-ed78-4387-8d9a-99bc0e848790  2022-10-10           0   \n",
       "3729  2223f662-f3ad-42e7-b5a6-4a62221dd726  2022-08-28           0   \n",
       "3730  3e48b368-a42f-4358-a0c6-ac86074ece0d  2022-07-22           0   \n",
       "\n",
       "      DPD_plus_15  DPD_plus_30  emi_no  \n",
       "0               0            0       1  \n",
       "1               0            0       1  \n",
       "2               0            0       1  \n",
       "3               0            0       1  \n",
       "4               0            0       1  \n",
       "...           ...          ...     ...  \n",
       "3726            0            0       1  \n",
       "3727            0            0       1  \n",
       "3728            0            0       1  \n",
       "3729            0            0       1  \n",
       "3730            0            0       1  \n",
       "\n",
       "[1979 rows x 6 columns]"
      ]
     },
     "execution_count": 60,
     "metadata": {},
     "output_type": "execute_result"
    }
   ],
   "source": [
    "dff[dff['emi_no']==1]"
   ]
  },
  {
   "cell_type": "code",
   "execution_count": 61,
   "metadata": {},
   "outputs": [],
   "source": [
    "# querySno = SQLQuery('snowflake')\n",
    "# ga_flat = querySno(r\"\"\" \n",
    "# select distinct business_id, emi_no, due_date, defalt from (\n",
    "# select a.*,json_extract_path_text(c.predict_meta, 'business_id') as business_id, month(a.created_at) as month_no,\n",
    "# case when paid_on_time = 'true' then 0\n",
    "# when paid_on_time = 'false' then 1 else null end as default_flag,\n",
    "# dense_rank() over(partition by a.lending_business_id order by due_date) as emi_no,\n",
    "# min(a.created_at) over (partition by a.lending_business_id) as min_created_at,\n",
    "# month(min_created_at) as loan_month,\n",
    "# max(default_flag) over(partition by a.lending_business_id, due_date) as defalt,\n",
    "# sum(due_amount) over(partition by a.lending_business_id, due_date) as amount_due,\n",
    "# sum(payment) over(partition by a.lending_business_id, due_date) as payment_done,\n",
    "# amount_due/100 + payment_done/100 as total_emi\n",
    "# from \"FIVETRAN_DB\".\"PROD_NOVO_API_PUBLIC\".\"LENDING_PAYMENT_SCHEDULES\" a\n",
    "# join FIVETRAN_DB.PROD_NOVO_API_PUBLIC.LENDING_DECISION_RESULTS c on a.lending_business_id = c.lending_business_id\n",
    "# where date(due_date) < dateadd(month,2,date('2023-04-19'))\n",
    "# -- and a.lending_business_id = '909564ef-6b22-4303-9df5-fc4e892fef01'\n",
    "# )\n",
    "# where defalt is not null\n",
    "# order by 1,2,3\n",
    "\n",
    "\n",
    "# \"\"\")"
   ]
  },
  {
   "cell_type": "code",
   "execution_count": 62,
   "metadata": {},
   "outputs": [],
   "source": [
    "# from sqlalchemy.types import NVARCHAR\n",
    "# # from conf.config import SQLQuery\n",
    "# q = SQLQuery('snowflake')\n",
    "\n",
    "# dff.to_sql(name='lending_dpd_data_pilot_ga',\n",
    "#                  con=q.engine, \n",
    "#                  schema='prod_db.adhoc',\n",
    "#                  if_exists='append', \n",
    "#                  index=False, \n",
    "#                  chunksize=16000, \n",
    "#                  method='multi',\n",
    "#                  dtype={col_name: NVARCHAR for col_name in dff})"
   ]
  }
 ],
 "metadata": {
  "kernelspec": {
   "display_name": "Python 3.10.5 64-bit",
   "language": "python",
   "name": "python3"
  },
  "language_info": {
   "codemirror_mode": {
    "name": "ipython",
    "version": 3
   },
   "file_extension": ".py",
   "mimetype": "text/x-python",
   "name": "python",
   "nbconvert_exporter": "python",
   "pygments_lexer": "ipython3",
   "version": "3.10.5"
  },
  "orig_nbformat": 4,
  "vscode": {
   "interpreter": {
    "hash": "aee8b7b246df8f9039afb4144a1f6fd8d2ca17a180786b69acc140d282b71a49"
   }
  }
 },
 "nbformat": 4,
 "nbformat_minor": 2
}
