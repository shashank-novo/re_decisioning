{
 "cells": [
  {
   "cell_type": "code",
   "execution_count": 1,
   "metadata": {},
   "outputs": [
    {
     "name": "stdout",
     "output_type": "stream",
     "text": [
      "/Users/shashankgupta/Documents/code/git_project/re_decisioning\n",
      "/Users/shashankgupta/Documents/code/git_project/re_decisioning/Code\n"
     ]
    }
   ],
   "source": [
    "# core libraries\n",
    "import pickle\n",
    "import pandas as pd\n",
    "import numpy as np\n",
    "import warnings \n",
    "warnings.filterwarnings(\"ignore\")\n",
    "from datetime import datetime\n",
    "\n",
    "\n",
    "from queries import final_features\n",
    "from score_funcs import Score\n",
    "sc = Score()\n"
   ]
  },
  {
   "cell_type": "code",
   "execution_count": 2,
   "metadata": {},
   "outputs": [
    {
     "name": "stdout",
     "output_type": "stream",
     "text": [
      "/Users/shashankgupta/Documents/code/git_project/re_decisioning\n",
      "/Users/shashankgupta/Documents/code/git_project/re_decisioning/Code\n"
     ]
    }
   ],
   "source": [
    "os.chdir('../')\n",
    "cwd = os.getcwd()\n",
    "print(cwd)\n",
    " \n",
    "os.chdir('./code/')\n",
    "cwd = os.getcwd()\n",
    "print(cwd)\n",
    "\n",
    "from config.config import SQLQuery\n",
    "querySno = SQLQuery('snowflake')"
   ]
  },
  {
   "cell_type": "markdown",
   "metadata": {},
   "source": [
    "#### Data pull for scoring "
   ]
  },
  {
   "cell_type": "code",
   "execution_count": 3,
   "metadata": {},
   "outputs": [],
   "source": [
    "querySno = SQLQuery('snowflake')\n",
    "df = querySno(final_features)"
   ]
  },
  {
   "cell_type": "code",
   "execution_count": 4,
   "metadata": {},
   "outputs": [
    {
     "data": {
      "text/html": [
       "<div>\n",
       "<style scoped>\n",
       "    .dataframe tbody tr th:only-of-type {\n",
       "        vertical-align: middle;\n",
       "    }\n",
       "\n",
       "    .dataframe tbody tr th {\n",
       "        vertical-align: top;\n",
       "    }\n",
       "\n",
       "    .dataframe thead th {\n",
       "        text-align: right;\n",
       "    }\n",
       "</style>\n",
       "<table border=\"1\" class=\"dataframe\">\n",
       "  <thead>\n",
       "    <tr style=\"text-align: right;\">\n",
       "      <th></th>\n",
       "      <th>business_id</th>\n",
       "      <th>due_date</th>\n",
       "      <th>median_running_balance_2nd_m</th>\n",
       "      <th>median_amount_debited_2m</th>\n",
       "      <th>distinct_debit_txns_1m</th>\n",
       "      <th>ratio_debit_credit_2m</th>\n",
       "      <th>ratio_ach_credit_freq_total_credit_1m</th>\n",
       "      <th>ratio_amt_drawn_mom</th>\n",
       "      <th>ratio_ach_debit_credit_freq_1m</th>\n",
       "      <th>ratio_amt_cashin_mom</th>\n",
       "      <th>ratio_revenue_1m_2m</th>\n",
       "      <th>distinct_cashins_1m_prev</th>\n",
       "    </tr>\n",
       "  </thead>\n",
       "  <tbody>\n",
       "    <tr>\n",
       "      <th>0</th>\n",
       "      <td>e48c2153-6bec-4711-92b6-04f1fcbf8b62</td>\n",
       "      <td>2022-12-23</td>\n",
       "      <td>114.89</td>\n",
       "      <td>2.00</td>\n",
       "      <td>42</td>\n",
       "      <td>1.305130</td>\n",
       "      <td>0.736842</td>\n",
       "      <td>0.000000</td>\n",
       "      <td>0.000000</td>\n",
       "      <td>0.000000</td>\n",
       "      <td>0.177905</td>\n",
       "      <td>0.0</td>\n",
       "    </tr>\n",
       "    <tr>\n",
       "      <th>1</th>\n",
       "      <td>4a95d0ac-791c-4c26-ba04-27529cf78788</td>\n",
       "      <td>2022-12-24</td>\n",
       "      <td>57.47</td>\n",
       "      <td>0.00</td>\n",
       "      <td>14</td>\n",
       "      <td>0.621232</td>\n",
       "      <td>0.062500</td>\n",
       "      <td>0.089158</td>\n",
       "      <td>0.000000</td>\n",
       "      <td>1.979837</td>\n",
       "      <td>0.043739</td>\n",
       "      <td>7.5</td>\n",
       "    </tr>\n",
       "    <tr>\n",
       "      <th>2</th>\n",
       "      <td>4a95d0ac-791c-4c26-ba04-27529cf78788</td>\n",
       "      <td>2022-12-29</td>\n",
       "      <td>77.47</td>\n",
       "      <td>0.00</td>\n",
       "      <td>9</td>\n",
       "      <td>0.621232</td>\n",
       "      <td>0.043478</td>\n",
       "      <td>0.089158</td>\n",
       "      <td>0.000000</td>\n",
       "      <td>1.979837</td>\n",
       "      <td>0.043739</td>\n",
       "      <td>7.5</td>\n",
       "    </tr>\n",
       "    <tr>\n",
       "      <th>3</th>\n",
       "      <td>c2feb1d5-f5a9-4fde-b74a-09775639b486</td>\n",
       "      <td>2022-12-31</td>\n",
       "      <td>131.92</td>\n",
       "      <td>27.94</td>\n",
       "      <td>39</td>\n",
       "      <td>2.329286</td>\n",
       "      <td>0.692308</td>\n",
       "      <td>0.000000</td>\n",
       "      <td>0.600000</td>\n",
       "      <td>0.000000</td>\n",
       "      <td>2.871674</td>\n",
       "      <td>0.0</td>\n",
       "    </tr>\n",
       "    <tr>\n",
       "      <th>4</th>\n",
       "      <td>0171a1ff-d47d-4029-b4b2-c1d2b579b857</td>\n",
       "      <td>2022-12-31</td>\n",
       "      <td>4905.99</td>\n",
       "      <td>33.54</td>\n",
       "      <td>42</td>\n",
       "      <td>0.876278</td>\n",
       "      <td>0.625000</td>\n",
       "      <td>0.000000</td>\n",
       "      <td>1.166667</td>\n",
       "      <td>393.330000</td>\n",
       "      <td>0.568249</td>\n",
       "      <td>1.0</td>\n",
       "    </tr>\n",
       "  </tbody>\n",
       "</table>\n",
       "</div>"
      ],
      "text/plain": [
       "                            business_id    due_date  \\\n",
       "0  e48c2153-6bec-4711-92b6-04f1fcbf8b62  2022-12-23   \n",
       "1  4a95d0ac-791c-4c26-ba04-27529cf78788  2022-12-24   \n",
       "2  4a95d0ac-791c-4c26-ba04-27529cf78788  2022-12-29   \n",
       "3  c2feb1d5-f5a9-4fde-b74a-09775639b486  2022-12-31   \n",
       "4  0171a1ff-d47d-4029-b4b2-c1d2b579b857  2022-12-31   \n",
       "\n",
       "   median_running_balance_2nd_m  median_amount_debited_2m  \\\n",
       "0                        114.89                      2.00   \n",
       "1                         57.47                      0.00   \n",
       "2                         77.47                      0.00   \n",
       "3                        131.92                     27.94   \n",
       "4                       4905.99                     33.54   \n",
       "\n",
       "   distinct_debit_txns_1m  ratio_debit_credit_2m  \\\n",
       "0                      42               1.305130   \n",
       "1                      14               0.621232   \n",
       "2                       9               0.621232   \n",
       "3                      39               2.329286   \n",
       "4                      42               0.876278   \n",
       "\n",
       "   ratio_ach_credit_freq_total_credit_1m  ratio_amt_drawn_mom  \\\n",
       "0                               0.736842             0.000000   \n",
       "1                               0.062500             0.089158   \n",
       "2                               0.043478             0.089158   \n",
       "3                               0.692308             0.000000   \n",
       "4                               0.625000             0.000000   \n",
       "\n",
       "   ratio_ach_debit_credit_freq_1m  ratio_amt_cashin_mom  ratio_revenue_1m_2m  \\\n",
       "0                        0.000000              0.000000             0.177905   \n",
       "1                        0.000000              1.979837             0.043739   \n",
       "2                        0.000000              1.979837             0.043739   \n",
       "3                        0.600000              0.000000             2.871674   \n",
       "4                        1.166667            393.330000             0.568249   \n",
       "\n",
       "   distinct_cashins_1m_prev  \n",
       "0                       0.0  \n",
       "1                       7.5  \n",
       "2                       7.5  \n",
       "3                       0.0  \n",
       "4                       1.0  "
      ]
     },
     "execution_count": 4,
     "metadata": {},
     "output_type": "execute_result"
    }
   ],
   "source": [
    "df.head()"
   ]
  },
  {
   "cell_type": "code",
   "execution_count": 5,
   "metadata": {},
   "outputs": [
    {
     "data": {
      "text/plain": [
       "(5725, 12)"
      ]
     },
     "execution_count": 5,
     "metadata": {},
     "output_type": "execute_result"
    }
   ],
   "source": [
    "df.shape"
   ]
  },
  {
   "cell_type": "code",
   "execution_count": 6,
   "metadata": {},
   "outputs": [],
   "source": [
    "data_params = pd.read_pickle('/Users/shashankgupta/Documents/code/git_project/re_decisioning/models/data_params_v2.pkl')\n",
    "model = pd.read_pickle('/Users/shashankgupta/Documents/code/git_project/re_decisioning/models/redec_3.pkl')\n",
    "transformer = pd.read_pickle('/Users/shashankgupta/Documents/code/git_project/re_decisioning/models/scale_train_object.pkl')"
   ]
  },
  {
   "cell_type": "code",
   "execution_count": 7,
   "metadata": {},
   "outputs": [
    {
     "data": {
      "text/html": [
       "<div>\n",
       "<style scoped>\n",
       "    .dataframe tbody tr th:only-of-type {\n",
       "        vertical-align: middle;\n",
       "    }\n",
       "\n",
       "    .dataframe tbody tr th {\n",
       "        vertical-align: top;\n",
       "    }\n",
       "\n",
       "    .dataframe thead th {\n",
       "        text-align: right;\n",
       "    }\n",
       "</style>\n",
       "<table border=\"1\" class=\"dataframe\">\n",
       "  <thead>\n",
       "    <tr style=\"text-align: right;\">\n",
       "      <th></th>\n",
       "      <th>feature</th>\n",
       "      <th>median</th>\n",
       "      <th>lower_limit</th>\n",
       "      <th>upper_limit</th>\n",
       "    </tr>\n",
       "  </thead>\n",
       "  <tbody>\n",
       "    <tr>\n",
       "      <th>45</th>\n",
       "      <td>distinct_debit_txns_1m</td>\n",
       "      <td>40.000000</td>\n",
       "      <td>1.0000</td>\n",
       "      <td>815.000000</td>\n",
       "    </tr>\n",
       "    <tr>\n",
       "      <th>52</th>\n",
       "      <td>median_amount_debited_2m</td>\n",
       "      <td>11.590000</td>\n",
       "      <td>0.0000</td>\n",
       "      <td>263.691700</td>\n",
       "    </tr>\n",
       "    <tr>\n",
       "      <th>56</th>\n",
       "      <td>ratio_debit_credit_2m</td>\n",
       "      <td>1.021660</td>\n",
       "      <td>0.4622</td>\n",
       "      <td>3.647596</td>\n",
       "    </tr>\n",
       "    <tr>\n",
       "      <th>70</th>\n",
       "      <td>ratio_ach_credit_freq_total_credit_1m</td>\n",
       "      <td>0.522774</td>\n",
       "      <td>0.0000</td>\n",
       "      <td>0.963411</td>\n",
       "    </tr>\n",
       "    <tr>\n",
       "      <th>80</th>\n",
       "      <td>ratio_ach_debit_credit_freq_1m</td>\n",
       "      <td>0.750000</td>\n",
       "      <td>0.0000</td>\n",
       "      <td>11.000000</td>\n",
       "    </tr>\n",
       "    <tr>\n",
       "      <th>93</th>\n",
       "      <td>median_running_balance_2nd_m</td>\n",
       "      <td>971.005000</td>\n",
       "      <td>-240.9432</td>\n",
       "      <td>28671.967000</td>\n",
       "    </tr>\n",
       "    <tr>\n",
       "      <th>99</th>\n",
       "      <td>ratio_revenue_1m_2m</td>\n",
       "      <td>0.998223</td>\n",
       "      <td>0.0000</td>\n",
       "      <td>772.812175</td>\n",
       "    </tr>\n",
       "    <tr>\n",
       "      <th>107</th>\n",
       "      <td>distinct_cashins_1m_prev</td>\n",
       "      <td>1.000000</td>\n",
       "      <td>0.0000</td>\n",
       "      <td>12.000000</td>\n",
       "    </tr>\n",
       "    <tr>\n",
       "      <th>109</th>\n",
       "      <td>ratio_amt_drawn_mom</td>\n",
       "      <td>0.000000</td>\n",
       "      <td>0.0000</td>\n",
       "      <td>8115.000000</td>\n",
       "    </tr>\n",
       "    <tr>\n",
       "      <th>110</th>\n",
       "      <td>ratio_amt_cashin_mom</td>\n",
       "      <td>1.161163</td>\n",
       "      <td>0.0000</td>\n",
       "      <td>4497.300000</td>\n",
       "    </tr>\n",
       "  </tbody>\n",
       "</table>\n",
       "</div>"
      ],
      "text/plain": [
       "                                   feature      median  lower_limit  \\\n",
       "45                  distinct_debit_txns_1m   40.000000       1.0000   \n",
       "52                median_amount_debited_2m   11.590000       0.0000   \n",
       "56                   ratio_debit_credit_2m    1.021660       0.4622   \n",
       "70   ratio_ach_credit_freq_total_credit_1m    0.522774       0.0000   \n",
       "80          ratio_ach_debit_credit_freq_1m    0.750000       0.0000   \n",
       "93            median_running_balance_2nd_m  971.005000    -240.9432   \n",
       "99                     ratio_revenue_1m_2m    0.998223       0.0000   \n",
       "107               distinct_cashins_1m_prev    1.000000       0.0000   \n",
       "109                    ratio_amt_drawn_mom    0.000000       0.0000   \n",
       "110                   ratio_amt_cashin_mom    1.161163       0.0000   \n",
       "\n",
       "      upper_limit  \n",
       "45     815.000000  \n",
       "52     263.691700  \n",
       "56       3.647596  \n",
       "70       0.963411  \n",
       "80      11.000000  \n",
       "93   28671.967000  \n",
       "99     772.812175  \n",
       "107     12.000000  \n",
       "109   8115.000000  \n",
       "110   4497.300000  "
      ]
     },
     "execution_count": 7,
     "metadata": {},
     "output_type": "execute_result"
    }
   ],
   "source": [
    "data_params"
   ]
  },
  {
   "cell_type": "code",
   "execution_count": 8,
   "metadata": {},
   "outputs": [
    {
     "data": {
      "text/plain": [
       "business_id                                0\n",
       "due_date                                   0\n",
       "median_running_balance_2nd_m               0\n",
       "median_amount_debited_2m                   0\n",
       "distinct_debit_txns_1m                     0\n",
       "ratio_debit_credit_2m                      0\n",
       "ratio_ach_credit_freq_total_credit_1m      0\n",
       "ratio_amt_drawn_mom                      125\n",
       "ratio_ach_debit_credit_freq_1m             0\n",
       "ratio_amt_cashin_mom                     125\n",
       "ratio_revenue_1m_2m                       76\n",
       "distinct_cashins_1m_prev                 125\n",
       "dtype: int64"
      ]
     },
     "execution_count": 8,
     "metadata": {},
     "output_type": "execute_result"
    }
   ],
   "source": [
    "df.isnull().sum()"
   ]
  },
  {
   "cell_type": "code",
   "execution_count": 9,
   "metadata": {},
   "outputs": [],
   "source": [
    "df0 = sc.preprocess(df,sc.features,data_params,transformer)"
   ]
  },
  {
   "cell_type": "code",
   "execution_count": 10,
   "metadata": {},
   "outputs": [],
   "source": [
    "df0 = sc.model_scoring_redec(df0,sc.features,model)"
   ]
  },
  {
   "cell_type": "code",
   "execution_count": 12,
   "metadata": {},
   "outputs": [
    {
     "data": {
      "text/html": [
       "<div>\n",
       "<style scoped>\n",
       "    .dataframe tbody tr th:only-of-type {\n",
       "        vertical-align: middle;\n",
       "    }\n",
       "\n",
       "    .dataframe tbody tr th {\n",
       "        vertical-align: top;\n",
       "    }\n",
       "\n",
       "    .dataframe thead th {\n",
       "        text-align: right;\n",
       "    }\n",
       "</style>\n",
       "<table border=\"1\" class=\"dataframe\">\n",
       "  <thead>\n",
       "    <tr style=\"text-align: right;\">\n",
       "      <th></th>\n",
       "      <th>business_id</th>\n",
       "      <th>due_date</th>\n",
       "      <th>median_running_balance_2nd_m</th>\n",
       "      <th>median_amount_debited_2m</th>\n",
       "      <th>distinct_debit_txns_1m</th>\n",
       "      <th>ratio_debit_credit_2m</th>\n",
       "      <th>ratio_ach_credit_freq_total_credit_1m</th>\n",
       "      <th>ratio_amt_drawn_mom</th>\n",
       "      <th>ratio_ach_debit_credit_freq_1m</th>\n",
       "      <th>ratio_amt_cashin_mom</th>\n",
       "      <th>ratio_revenue_1m_2m</th>\n",
       "      <th>distinct_cashins_1m_prev</th>\n",
       "      <th>redec_proba</th>\n",
       "      <th>redec_score</th>\n",
       "      <th>redec_bin</th>\n",
       "    </tr>\n",
       "  </thead>\n",
       "  <tbody>\n",
       "    <tr>\n",
       "      <th>0</th>\n",
       "      <td>e48c2153-6bec-4711-92b6-04f1fcbf8b62</td>\n",
       "      <td>2022-12-23</td>\n",
       "      <td>-0.551024</td>\n",
       "      <td>-0.505696</td>\n",
       "      <td>-0.280372</td>\n",
       "      <td>0.457713</td>\n",
       "      <td>0.805573</td>\n",
       "      <td>-0.275490</td>\n",
       "      <td>-0.732551</td>\n",
       "      <td>-0.350400</td>\n",
       "      <td>-0.155074</td>\n",
       "      <td>-1.054347</td>\n",
       "      <td>0.568455</td>\n",
       "      <td>431.545022</td>\n",
       "      <td>2</td>\n",
       "    </tr>\n",
       "    <tr>\n",
       "      <th>1</th>\n",
       "      <td>4a95d0ac-791c-4c26-ba04-27529cf78788</td>\n",
       "      <td>2022-12-24</td>\n",
       "      <td>-0.563283</td>\n",
       "      <td>-0.554756</td>\n",
       "      <td>-0.498307</td>\n",
       "      <td>-1.195758</td>\n",
       "      <td>-1.656611</td>\n",
       "      <td>-0.275416</td>\n",
       "      <td>-0.732551</td>\n",
       "      <td>-0.347744</td>\n",
       "      <td>-0.156665</td>\n",
       "      <td>2.881640</td>\n",
       "      <td>0.579811</td>\n",
       "      <td>420.188937</td>\n",
       "      <td>2</td>\n",
       "    </tr>\n",
       "    <tr>\n",
       "      <th>2</th>\n",
       "      <td>4a95d0ac-791c-4c26-ba04-27529cf78788</td>\n",
       "      <td>2022-12-29</td>\n",
       "      <td>-0.559013</td>\n",
       "      <td>-0.554756</td>\n",
       "      <td>-0.537224</td>\n",
       "      <td>-1.195758</td>\n",
       "      <td>-1.726065</td>\n",
       "      <td>-0.275416</td>\n",
       "      <td>-0.732551</td>\n",
       "      <td>-0.347744</td>\n",
       "      <td>-0.156665</td>\n",
       "      <td>2.881640</td>\n",
       "      <td>0.578490</td>\n",
       "      <td>421.509705</td>\n",
       "      <td>2</td>\n",
       "    </tr>\n",
       "    <tr>\n",
       "      <th>3</th>\n",
       "      <td>c2feb1d5-f5a9-4fde-b74a-09775639b486</td>\n",
       "      <td>2022-12-31</td>\n",
       "      <td>-0.547388</td>\n",
       "      <td>0.130604</td>\n",
       "      <td>-0.303722</td>\n",
       "      <td>2.933831</td>\n",
       "      <td>0.642969</td>\n",
       "      <td>-0.275490</td>\n",
       "      <td>-0.393512</td>\n",
       "      <td>-0.350400</td>\n",
       "      <td>-0.123138</td>\n",
       "      <td>-1.054347</td>\n",
       "      <td>0.612093</td>\n",
       "      <td>387.906989</td>\n",
       "      <td>1</td>\n",
       "    </tr>\n",
       "    <tr>\n",
       "      <th>4</th>\n",
       "      <td>0171a1ff-d47d-4029-b4b2-c1d2b579b857</td>\n",
       "      <td>2022-12-31</td>\n",
       "      <td>0.471843</td>\n",
       "      <td>0.267970</td>\n",
       "      <td>-0.280372</td>\n",
       "      <td>-0.579129</td>\n",
       "      <td>0.397211</td>\n",
       "      <td>-0.275490</td>\n",
       "      <td>-0.073307</td>\n",
       "      <td>0.177338</td>\n",
       "      <td>-0.150446</td>\n",
       "      <td>-0.529549</td>\n",
       "      <td>0.215790</td>\n",
       "      <td>784.210014</td>\n",
       "      <td>4</td>\n",
       "    </tr>\n",
       "  </tbody>\n",
       "</table>\n",
       "</div>"
      ],
      "text/plain": [
       "                            business_id    due_date  \\\n",
       "0  e48c2153-6bec-4711-92b6-04f1fcbf8b62  2022-12-23   \n",
       "1  4a95d0ac-791c-4c26-ba04-27529cf78788  2022-12-24   \n",
       "2  4a95d0ac-791c-4c26-ba04-27529cf78788  2022-12-29   \n",
       "3  c2feb1d5-f5a9-4fde-b74a-09775639b486  2022-12-31   \n",
       "4  0171a1ff-d47d-4029-b4b2-c1d2b579b857  2022-12-31   \n",
       "\n",
       "   median_running_balance_2nd_m  median_amount_debited_2m  \\\n",
       "0                     -0.551024                 -0.505696   \n",
       "1                     -0.563283                 -0.554756   \n",
       "2                     -0.559013                 -0.554756   \n",
       "3                     -0.547388                  0.130604   \n",
       "4                      0.471843                  0.267970   \n",
       "\n",
       "   distinct_debit_txns_1m  ratio_debit_credit_2m  \\\n",
       "0               -0.280372               0.457713   \n",
       "1               -0.498307              -1.195758   \n",
       "2               -0.537224              -1.195758   \n",
       "3               -0.303722               2.933831   \n",
       "4               -0.280372              -0.579129   \n",
       "\n",
       "   ratio_ach_credit_freq_total_credit_1m  ratio_amt_drawn_mom  \\\n",
       "0                               0.805573            -0.275490   \n",
       "1                              -1.656611            -0.275416   \n",
       "2                              -1.726065            -0.275416   \n",
       "3                               0.642969            -0.275490   \n",
       "4                               0.397211            -0.275490   \n",
       "\n",
       "   ratio_ach_debit_credit_freq_1m  ratio_amt_cashin_mom  ratio_revenue_1m_2m  \\\n",
       "0                       -0.732551             -0.350400            -0.155074   \n",
       "1                       -0.732551             -0.347744            -0.156665   \n",
       "2                       -0.732551             -0.347744            -0.156665   \n",
       "3                       -0.393512             -0.350400            -0.123138   \n",
       "4                       -0.073307              0.177338            -0.150446   \n",
       "\n",
       "   distinct_cashins_1m_prev  redec_proba  redec_score  redec_bin  \n",
       "0                 -1.054347     0.568455   431.545022          2  \n",
       "1                  2.881640     0.579811   420.188937          2  \n",
       "2                  2.881640     0.578490   421.509705          2  \n",
       "3                 -1.054347     0.612093   387.906989          1  \n",
       "4                 -0.529549     0.215790   784.210014          4  "
      ]
     },
     "execution_count": 12,
     "metadata": {},
     "output_type": "execute_result"
    }
   ],
   "source": [
    "df0.head()"
   ]
  },
  {
   "cell_type": "code",
   "execution_count": 13,
   "metadata": {},
   "outputs": [],
   "source": [
    "# df0.to_pickle('/Users/shashankgupta/Documents/code/git_project/re_decisioning/data/scored_dataset.pkl')"
   ]
  },
  {
   "cell_type": "code",
   "execution_count": 17,
   "metadata": {},
   "outputs": [],
   "source": [
    "# from sqlalchemy.types import NVARCHAR\n",
    "# # from conf.config import SQLQuery\n",
    "# q = SQLQuery('snowflake')\n",
    "\n",
    "# df0.to_sql(name='redec_scored_dataset',\n",
    "#                  con=q.engine, \n",
    "#                  schema='prod_db.adhoc',\n",
    "#                  if_exists='append', \n",
    "#                  index=False, \n",
    "#                  chunksize=16000, \n",
    "#                  method='multi',\n",
    "#                  dtype={col_name: NVARCHAR for col_name in df0})"
   ]
  },
  {
   "cell_type": "code",
   "execution_count": 14,
   "metadata": {},
   "outputs": [
    {
     "data": {
      "text/plain": [
       "2    1455\n",
       "3    1309\n",
       "5    1264\n",
       "4     898\n",
       "1     799\n",
       "Name: redec_bin, dtype: int64"
      ]
     },
     "execution_count": 14,
     "metadata": {},
     "output_type": "execute_result"
    }
   ],
   "source": [
    "df0['redec_bin'].value_counts()"
   ]
  },
  {
   "cell_type": "code",
   "execution_count": 15,
   "metadata": {},
   "outputs": [
    {
     "data": {
      "text/plain": [
       "2282"
      ]
     },
     "execution_count": 15,
     "metadata": {},
     "output_type": "execute_result"
    }
   ],
   "source": [
    "len(df0['business_id'].unique())"
   ]
  },
  {
   "cell_type": "code",
   "execution_count": 16,
   "metadata": {},
   "outputs": [
    {
     "data": {
      "text/plain": [
       "(5725, 15)"
      ]
     },
     "execution_count": 16,
     "metadata": {},
     "output_type": "execute_result"
    }
   ],
   "source": [
    "df0.shape"
   ]
  },
  {
   "cell_type": "code",
   "execution_count": null,
   "metadata": {},
   "outputs": [],
   "source": []
  }
 ],
 "metadata": {
  "kernelspec": {
   "display_name": "Python 3.10.5 64-bit",
   "language": "python",
   "name": "python3"
  },
  "language_info": {
   "codemirror_mode": {
    "name": "ipython",
    "version": 3
   },
   "file_extension": ".py",
   "mimetype": "text/x-python",
   "name": "python",
   "nbconvert_exporter": "python",
   "pygments_lexer": "ipython3",
   "version": "3.10.5"
  },
  "orig_nbformat": 4,
  "vscode": {
   "interpreter": {
    "hash": "aee8b7b246df8f9039afb4144a1f6fd8d2ca17a180786b69acc140d282b71a49"
   }
  }
 },
 "nbformat": 4,
 "nbformat_minor": 2
}
