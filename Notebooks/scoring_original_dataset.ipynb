{
 "cells": [
  {
   "cell_type": "code",
   "execution_count": 1,
   "metadata": {},
   "outputs": [
    {
     "name": "stdout",
     "output_type": "stream",
     "text": [
      "/Users/shashankgupta/Documents/code/git_project/redec/re_decisioning\n",
      "/Users/shashankgupta/Documents/code/git_project/redec/re_decisioning/Code\n"
     ]
    }
   ],
   "source": [
    "# core libraries\n",
    "import pickle\n",
    "import pandas as pd\n",
    "import numpy as np\n",
    "import warnings \n",
    "warnings.filterwarnings(\"ignore\")\n",
    "from datetime import datetime\n",
    "\n",
    "\n",
    "from queries import final_features\n",
    "from score_funcs import Score\n",
    "sc = Score()\n"
   ]
  },
  {
   "cell_type": "code",
   "execution_count": 2,
   "metadata": {},
   "outputs": [
    {
     "name": "stdout",
     "output_type": "stream",
     "text": [
      "/Users/shashankgupta/Documents/code/git_project/redec/re_decisioning\n",
      "/Users/shashankgupta/Documents/code/git_project/redec/re_decisioning/Code\n"
     ]
    }
   ],
   "source": [
    "os.chdir('../')\n",
    "cwd = os.getcwd()\n",
    "print(cwd)\n",
    " \n",
    "os.chdir('./code/')\n",
    "cwd = os.getcwd()\n",
    "print(cwd)\n",
    "\n",
    "from config.config import SQLQuery\n",
    "querySno = SQLQuery('snowflake')"
   ]
  },
  {
   "cell_type": "markdown",
   "metadata": {},
   "source": [
    "#### Data pull for scoring "
   ]
  },
  {
   "cell_type": "code",
   "execution_count": 3,
   "metadata": {},
   "outputs": [],
   "source": [
    "df = pd.read_pickle(f'/Users/shashankgupta/Documents/code/git_project/redec/re_decisioning/data/dataset_21.pkl')"
   ]
  },
  {
   "cell_type": "code",
   "execution_count": 4,
   "metadata": {},
   "outputs": [],
   "source": [
    "t = df[['business_id','emi_no'] + sc.features]"
   ]
  },
  {
   "cell_type": "code",
   "execution_count": 5,
   "metadata": {},
   "outputs": [
    {
     "data": {
      "text/html": [
       "<div>\n",
       "<style scoped>\n",
       "    .dataframe tbody tr th:only-of-type {\n",
       "        vertical-align: middle;\n",
       "    }\n",
       "\n",
       "    .dataframe tbody tr th {\n",
       "        vertical-align: top;\n",
       "    }\n",
       "\n",
       "    .dataframe thead th {\n",
       "        text-align: right;\n",
       "    }\n",
       "</style>\n",
       "<table border=\"1\" class=\"dataframe\">\n",
       "  <thead>\n",
       "    <tr style=\"text-align: right;\">\n",
       "      <th></th>\n",
       "      <th>business_id</th>\n",
       "      <th>due_date</th>\n",
       "      <th>DPD_plus_15_next</th>\n",
       "      <th>DPD_plus_3_last_2</th>\n",
       "      <th>DPD_plus_15_prev</th>\n",
       "      <th>emi_no</th>\n",
       "      <th>DPD_plus_3</th>\n",
       "      <th>count_pd_deposit_1m</th>\n",
       "      <th>count_ach_debit_1m</th>\n",
       "      <th>count_ach_credit_1m</th>\n",
       "      <th>...</th>\n",
       "      <th>ratio_amt_cashin_mom</th>\n",
       "      <th>ratio_count_drawn_mom</th>\n",
       "      <th>ratio_count_cashin_mom</th>\n",
       "      <th>pilot_flag</th>\n",
       "      <th>pilot_period_flag</th>\n",
       "      <th>rs2_bin</th>\n",
       "      <th>rs2_score</th>\n",
       "      <th>fico_score</th>\n",
       "      <th>rs1_score</th>\n",
       "      <th>rs1_bin</th>\n",
       "    </tr>\n",
       "  </thead>\n",
       "  <tbody>\n",
       "    <tr>\n",
       "      <th>0</th>\n",
       "      <td>c616b39b-aef7-4156-973a-08278aa74536</td>\n",
       "      <td>2023-04-03</td>\n",
       "      <td>0.0</td>\n",
       "      <td>0.0</td>\n",
       "      <td>0.0</td>\n",
       "      <td>1</td>\n",
       "      <td>0</td>\n",
       "      <td>0.0</td>\n",
       "      <td>1.0</td>\n",
       "      <td>0.0</td>\n",
       "      <td>...</td>\n",
       "      <td>2884.000000</td>\n",
       "      <td>0.25</td>\n",
       "      <td>2.000000</td>\n",
       "      <td>0</td>\n",
       "      <td>0</td>\n",
       "      <td>5</td>\n",
       "      <td>971.0</td>\n",
       "      <td>749.0</td>\n",
       "      <td>966.614760</td>\n",
       "      <td>5</td>\n",
       "    </tr>\n",
       "    <tr>\n",
       "      <th>1</th>\n",
       "      <td>cc861415-fd34-4654-8b97-dab0794938dc</td>\n",
       "      <td>2023-04-03</td>\n",
       "      <td>0.0</td>\n",
       "      <td>0.0</td>\n",
       "      <td>0.0</td>\n",
       "      <td>1</td>\n",
       "      <td>0</td>\n",
       "      <td>0.0</td>\n",
       "      <td>14.0</td>\n",
       "      <td>4.0</td>\n",
       "      <td>...</td>\n",
       "      <td>2433.330000</td>\n",
       "      <td>0.50</td>\n",
       "      <td>2.000000</td>\n",
       "      <td>0</td>\n",
       "      <td>0</td>\n",
       "      <td>5</td>\n",
       "      <td>822.0</td>\n",
       "      <td>670.0</td>\n",
       "      <td>886.233904</td>\n",
       "      <td>5</td>\n",
       "    </tr>\n",
       "    <tr>\n",
       "      <th>2</th>\n",
       "      <td>4d7e9b73-dd94-4fdc-9611-51ec641b8e19</td>\n",
       "      <td>2023-04-03</td>\n",
       "      <td>0.0</td>\n",
       "      <td>1.0</td>\n",
       "      <td>0.0</td>\n",
       "      <td>1</td>\n",
       "      <td>1</td>\n",
       "      <td>0.0</td>\n",
       "      <td>1.0</td>\n",
       "      <td>0.0</td>\n",
       "      <td>...</td>\n",
       "      <td>2196.830000</td>\n",
       "      <td>0.00</td>\n",
       "      <td>2.000000</td>\n",
       "      <td>0</td>\n",
       "      <td>0</td>\n",
       "      <td>5</td>\n",
       "      <td>850.0</td>\n",
       "      <td>722.0</td>\n",
       "      <td>810.794650</td>\n",
       "      <td>5</td>\n",
       "    </tr>\n",
       "    <tr>\n",
       "      <th>3</th>\n",
       "      <td>2e3c32e2-1f1b-4d0f-a7c2-8dcdb11c6317</td>\n",
       "      <td>2023-04-03</td>\n",
       "      <td>0.0</td>\n",
       "      <td>0.0</td>\n",
       "      <td>0.0</td>\n",
       "      <td>1</td>\n",
       "      <td>0</td>\n",
       "      <td>3.0</td>\n",
       "      <td>19.0</td>\n",
       "      <td>21.0</td>\n",
       "      <td>...</td>\n",
       "      <td>0.949472</td>\n",
       "      <td>0.00</td>\n",
       "      <td>0.833333</td>\n",
       "      <td>0</td>\n",
       "      <td>0</td>\n",
       "      <td>5</td>\n",
       "      <td>795.0</td>\n",
       "      <td>721.0</td>\n",
       "      <td>908.033142</td>\n",
       "      <td>5</td>\n",
       "    </tr>\n",
       "    <tr>\n",
       "      <th>4</th>\n",
       "      <td>57948378-e103-4f19-972e-a911082a16c2</td>\n",
       "      <td>2023-04-03</td>\n",
       "      <td>0.0</td>\n",
       "      <td>0.0</td>\n",
       "      <td>0.0</td>\n",
       "      <td>1</td>\n",
       "      <td>0</td>\n",
       "      <td>17.0</td>\n",
       "      <td>2.0</td>\n",
       "      <td>19.0</td>\n",
       "      <td>...</td>\n",
       "      <td>363.000000</td>\n",
       "      <td>0.00</td>\n",
       "      <td>1.000000</td>\n",
       "      <td>0</td>\n",
       "      <td>0</td>\n",
       "      <td>3</td>\n",
       "      <td>551.0</td>\n",
       "      <td>652.0</td>\n",
       "      <td>712.696282</td>\n",
       "      <td>5</td>\n",
       "    </tr>\n",
       "  </tbody>\n",
       "</table>\n",
       "<p>5 rows × 127 columns</p>\n",
       "</div>"
      ],
      "text/plain": [
       "                            business_id    due_date  DPD_plus_15_next  \\\n",
       "0  c616b39b-aef7-4156-973a-08278aa74536  2023-04-03               0.0   \n",
       "1  cc861415-fd34-4654-8b97-dab0794938dc  2023-04-03               0.0   \n",
       "2  4d7e9b73-dd94-4fdc-9611-51ec641b8e19  2023-04-03               0.0   \n",
       "3  2e3c32e2-1f1b-4d0f-a7c2-8dcdb11c6317  2023-04-03               0.0   \n",
       "4  57948378-e103-4f19-972e-a911082a16c2  2023-04-03               0.0   \n",
       "\n",
       "   DPD_plus_3_last_2  DPD_plus_15_prev  emi_no  DPD_plus_3  \\\n",
       "0                0.0               0.0       1           0   \n",
       "1                0.0               0.0       1           0   \n",
       "2                1.0               0.0       1           1   \n",
       "3                0.0               0.0       1           0   \n",
       "4                0.0               0.0       1           0   \n",
       "\n",
       "   count_pd_deposit_1m  count_ach_debit_1m  count_ach_credit_1m  ...  \\\n",
       "0                  0.0                 1.0                  0.0  ...   \n",
       "1                  0.0                14.0                  4.0  ...   \n",
       "2                  0.0                 1.0                  0.0  ...   \n",
       "3                  3.0                19.0                 21.0  ...   \n",
       "4                 17.0                 2.0                 19.0  ...   \n",
       "\n",
       "   ratio_amt_cashin_mom  ratio_count_drawn_mom  ratio_count_cashin_mom  \\\n",
       "0           2884.000000                   0.25                2.000000   \n",
       "1           2433.330000                   0.50                2.000000   \n",
       "2           2196.830000                   0.00                2.000000   \n",
       "3              0.949472                   0.00                0.833333   \n",
       "4            363.000000                   0.00                1.000000   \n",
       "\n",
       "   pilot_flag  pilot_period_flag  rs2_bin  rs2_score  fico_score   rs1_score  \\\n",
       "0           0                  0        5      971.0       749.0  966.614760   \n",
       "1           0                  0        5      822.0       670.0  886.233904   \n",
       "2           0                  0        5      850.0       722.0  810.794650   \n",
       "3           0                  0        5      795.0       721.0  908.033142   \n",
       "4           0                  0        3      551.0       652.0  712.696282   \n",
       "\n",
       "   rs1_bin  \n",
       "0        5  \n",
       "1        5  \n",
       "2        5  \n",
       "3        5  \n",
       "4        5  \n",
       "\n",
       "[5 rows x 127 columns]"
      ]
     },
     "execution_count": 5,
     "metadata": {},
     "output_type": "execute_result"
    }
   ],
   "source": [
    "df.head()"
   ]
  },
  {
   "cell_type": "code",
   "execution_count": 6,
   "metadata": {},
   "outputs": [
    {
     "data": {
      "text/plain": [
       "(4925, 127)"
      ]
     },
     "execution_count": 6,
     "metadata": {},
     "output_type": "execute_result"
    }
   ],
   "source": [
    "df.shape"
   ]
  },
  {
   "cell_type": "code",
   "execution_count": 7,
   "metadata": {},
   "outputs": [],
   "source": [
    "data_params = pd.read_pickle('/Users/shashankgupta/Documents/code/git_project/redec/re_decisioning/models/data_params_v2.pkl')\n",
    "model = pd.read_pickle('/Users/shashankgupta/Documents/code/git_project/redec/re_decisioning/models/redec_3.pkl')\n",
    "transformer = pd.read_pickle('/Users/shashankgupta/Documents/code/git_project/redec/re_decisioning/models/scale_train_object.pkl')"
   ]
  },
  {
   "cell_type": "code",
   "execution_count": null,
   "metadata": {},
   "outputs": [],
   "source": [
    "sc.features"
   ]
  },
  {
   "cell_type": "code",
   "execution_count": null,
   "metadata": {},
   "outputs": [],
   "source": [
    "df['emi_no'].value_counts()"
   ]
  },
  {
   "cell_type": "code",
   "execution_count": 8,
   "metadata": {},
   "outputs": [],
   "source": [
    "df0 = sc.preprocess(df,sc.features,data_params,transformer)"
   ]
  },
  {
   "cell_type": "code",
   "execution_count": 9,
   "metadata": {},
   "outputs": [],
   "source": [
    "df0 = sc.model_scoring_redec(df0,sc.features,model)"
   ]
  },
  {
   "cell_type": "code",
   "execution_count": 10,
   "metadata": {},
   "outputs": [
    {
     "data": {
      "text/html": [
       "<div>\n",
       "<style scoped>\n",
       "    .dataframe tbody tr th:only-of-type {\n",
       "        vertical-align: middle;\n",
       "    }\n",
       "\n",
       "    .dataframe tbody tr th {\n",
       "        vertical-align: top;\n",
       "    }\n",
       "\n",
       "    .dataframe thead th {\n",
       "        text-align: right;\n",
       "    }\n",
       "</style>\n",
       "<table border=\"1\" class=\"dataframe\">\n",
       "  <thead>\n",
       "    <tr style=\"text-align: right;\">\n",
       "      <th></th>\n",
       "      <th>business_id</th>\n",
       "      <th>due_date</th>\n",
       "      <th>DPD_plus_15_next</th>\n",
       "      <th>DPD_plus_3_last_2</th>\n",
       "      <th>DPD_plus_15_prev</th>\n",
       "      <th>emi_no</th>\n",
       "      <th>DPD_plus_3</th>\n",
       "      <th>count_pd_deposit_1m</th>\n",
       "      <th>count_ach_debit_1m</th>\n",
       "      <th>count_ach_credit_1m</th>\n",
       "      <th>...</th>\n",
       "      <th>pilot_flag</th>\n",
       "      <th>pilot_period_flag</th>\n",
       "      <th>rs2_bin</th>\n",
       "      <th>rs2_score</th>\n",
       "      <th>fico_score</th>\n",
       "      <th>rs1_score</th>\n",
       "      <th>rs1_bin</th>\n",
       "      <th>redec_proba</th>\n",
       "      <th>redec_score</th>\n",
       "      <th>redec_bin</th>\n",
       "    </tr>\n",
       "  </thead>\n",
       "  <tbody>\n",
       "    <tr>\n",
       "      <th>0</th>\n",
       "      <td>c616b39b-aef7-4156-973a-08278aa74536</td>\n",
       "      <td>2023-04-03</td>\n",
       "      <td>0.0</td>\n",
       "      <td>0.0</td>\n",
       "      <td>0.0</td>\n",
       "      <td>1</td>\n",
       "      <td>0</td>\n",
       "      <td>0.0</td>\n",
       "      <td>1.0</td>\n",
       "      <td>0.0</td>\n",
       "      <td>...</td>\n",
       "      <td>0</td>\n",
       "      <td>0</td>\n",
       "      <td>5</td>\n",
       "      <td>971.0</td>\n",
       "      <td>749.0</td>\n",
       "      <td>966.614760</td>\n",
       "      <td>5</td>\n",
       "      <td>0.031045</td>\n",
       "      <td>968.955142</td>\n",
       "      <td>5</td>\n",
       "    </tr>\n",
       "    <tr>\n",
       "      <th>1</th>\n",
       "      <td>cc861415-fd34-4654-8b97-dab0794938dc</td>\n",
       "      <td>2023-04-03</td>\n",
       "      <td>0.0</td>\n",
       "      <td>0.0</td>\n",
       "      <td>0.0</td>\n",
       "      <td>1</td>\n",
       "      <td>0</td>\n",
       "      <td>0.0</td>\n",
       "      <td>14.0</td>\n",
       "      <td>4.0</td>\n",
       "      <td>...</td>\n",
       "      <td>0</td>\n",
       "      <td>0</td>\n",
       "      <td>5</td>\n",
       "      <td>822.0</td>\n",
       "      <td>670.0</td>\n",
       "      <td>886.233904</td>\n",
       "      <td>5</td>\n",
       "      <td>0.154239</td>\n",
       "      <td>845.760620</td>\n",
       "      <td>4</td>\n",
       "    </tr>\n",
       "    <tr>\n",
       "      <th>2</th>\n",
       "      <td>4d7e9b73-dd94-4fdc-9611-51ec641b8e19</td>\n",
       "      <td>2023-04-03</td>\n",
       "      <td>0.0</td>\n",
       "      <td>1.0</td>\n",
       "      <td>0.0</td>\n",
       "      <td>1</td>\n",
       "      <td>1</td>\n",
       "      <td>0.0</td>\n",
       "      <td>1.0</td>\n",
       "      <td>0.0</td>\n",
       "      <td>...</td>\n",
       "      <td>0</td>\n",
       "      <td>0</td>\n",
       "      <td>5</td>\n",
       "      <td>850.0</td>\n",
       "      <td>722.0</td>\n",
       "      <td>810.794650</td>\n",
       "      <td>5</td>\n",
       "      <td>0.010144</td>\n",
       "      <td>989.855778</td>\n",
       "      <td>5</td>\n",
       "    </tr>\n",
       "    <tr>\n",
       "      <th>3</th>\n",
       "      <td>2e3c32e2-1f1b-4d0f-a7c2-8dcdb11c6317</td>\n",
       "      <td>2023-04-03</td>\n",
       "      <td>0.0</td>\n",
       "      <td>0.0</td>\n",
       "      <td>0.0</td>\n",
       "      <td>1</td>\n",
       "      <td>0</td>\n",
       "      <td>3.0</td>\n",
       "      <td>19.0</td>\n",
       "      <td>21.0</td>\n",
       "      <td>...</td>\n",
       "      <td>0</td>\n",
       "      <td>0</td>\n",
       "      <td>5</td>\n",
       "      <td>795.0</td>\n",
       "      <td>721.0</td>\n",
       "      <td>908.033142</td>\n",
       "      <td>5</td>\n",
       "      <td>0.348148</td>\n",
       "      <td>651.852262</td>\n",
       "      <td>3</td>\n",
       "    </tr>\n",
       "    <tr>\n",
       "      <th>4</th>\n",
       "      <td>57948378-e103-4f19-972e-a911082a16c2</td>\n",
       "      <td>2023-04-03</td>\n",
       "      <td>0.0</td>\n",
       "      <td>0.0</td>\n",
       "      <td>0.0</td>\n",
       "      <td>1</td>\n",
       "      <td>0</td>\n",
       "      <td>17.0</td>\n",
       "      <td>2.0</td>\n",
       "      <td>19.0</td>\n",
       "      <td>...</td>\n",
       "      <td>0</td>\n",
       "      <td>0</td>\n",
       "      <td>3</td>\n",
       "      <td>551.0</td>\n",
       "      <td>652.0</td>\n",
       "      <td>712.696282</td>\n",
       "      <td>5</td>\n",
       "      <td>0.434676</td>\n",
       "      <td>565.323852</td>\n",
       "      <td>3</td>\n",
       "    </tr>\n",
       "  </tbody>\n",
       "</table>\n",
       "<p>5 rows × 130 columns</p>\n",
       "</div>"
      ],
      "text/plain": [
       "                            business_id    due_date  DPD_plus_15_next  \\\n",
       "0  c616b39b-aef7-4156-973a-08278aa74536  2023-04-03               0.0   \n",
       "1  cc861415-fd34-4654-8b97-dab0794938dc  2023-04-03               0.0   \n",
       "2  4d7e9b73-dd94-4fdc-9611-51ec641b8e19  2023-04-03               0.0   \n",
       "3  2e3c32e2-1f1b-4d0f-a7c2-8dcdb11c6317  2023-04-03               0.0   \n",
       "4  57948378-e103-4f19-972e-a911082a16c2  2023-04-03               0.0   \n",
       "\n",
       "   DPD_plus_3_last_2  DPD_plus_15_prev  emi_no  DPD_plus_3  \\\n",
       "0                0.0               0.0       1           0   \n",
       "1                0.0               0.0       1           0   \n",
       "2                1.0               0.0       1           1   \n",
       "3                0.0               0.0       1           0   \n",
       "4                0.0               0.0       1           0   \n",
       "\n",
       "   count_pd_deposit_1m  count_ach_debit_1m  count_ach_credit_1m  ...  \\\n",
       "0                  0.0                 1.0                  0.0  ...   \n",
       "1                  0.0                14.0                  4.0  ...   \n",
       "2                  0.0                 1.0                  0.0  ...   \n",
       "3                  3.0                19.0                 21.0  ...   \n",
       "4                 17.0                 2.0                 19.0  ...   \n",
       "\n",
       "   pilot_flag  pilot_period_flag  rs2_bin  rs2_score  fico_score   rs1_score  \\\n",
       "0           0                  0        5      971.0       749.0  966.614760   \n",
       "1           0                  0        5      822.0       670.0  886.233904   \n",
       "2           0                  0        5      850.0       722.0  810.794650   \n",
       "3           0                  0        5      795.0       721.0  908.033142   \n",
       "4           0                  0        3      551.0       652.0  712.696282   \n",
       "\n",
       "   rs1_bin  redec_proba  redec_score  redec_bin  \n",
       "0        5     0.031045   968.955142          5  \n",
       "1        5     0.154239   845.760620          4  \n",
       "2        5     0.010144   989.855778          5  \n",
       "3        5     0.348148   651.852262          3  \n",
       "4        5     0.434676   565.323852          3  \n",
       "\n",
       "[5 rows x 130 columns]"
      ]
     },
     "execution_count": 10,
     "metadata": {},
     "output_type": "execute_result"
    }
   ],
   "source": [
    "df0.head()"
   ]
  },
  {
   "cell_type": "code",
   "execution_count": 11,
   "metadata": {},
   "outputs": [],
   "source": [
    "dff = df0.copy()"
   ]
  },
  {
   "cell_type": "code",
   "execution_count": 12,
   "metadata": {},
   "outputs": [
    {
     "data": {
      "text/plain": [
       "1381"
      ]
     },
     "execution_count": 12,
     "metadata": {},
     "output_type": "execute_result"
    }
   ],
   "source": [
    "len(dff.loc[dff['emi_no'].isin([2,3,4,5]),'business_id'].unique())"
   ]
  },
  {
   "cell_type": "code",
   "execution_count": null,
   "metadata": {},
   "outputs": [],
   "source": [
    "# dff.to_pickle('/Users/shashankgupta/Documents/code/git_project/redec/re_decisioning/data/dataset_scored_original.pkl')"
   ]
  },
  {
   "cell_type": "code",
   "execution_count": 13,
   "metadata": {},
   "outputs": [],
   "source": [
    "tdf = dff[['business_id','emi_no','redec_proba','redec_score','redec_bin']].merge(t,left_on=['business_id','emi_no'],right_on=['business_id','emi_no'])"
   ]
  },
  {
   "cell_type": "code",
   "execution_count": 14,
   "metadata": {},
   "outputs": [
    {
     "data": {
      "text/html": [
       "<div>\n",
       "<style scoped>\n",
       "    .dataframe tbody tr th:only-of-type {\n",
       "        vertical-align: middle;\n",
       "    }\n",
       "\n",
       "    .dataframe tbody tr th {\n",
       "        vertical-align: top;\n",
       "    }\n",
       "\n",
       "    .dataframe thead th {\n",
       "        text-align: right;\n",
       "    }\n",
       "</style>\n",
       "<table border=\"1\" class=\"dataframe\">\n",
       "  <thead>\n",
       "    <tr style=\"text-align: right;\">\n",
       "      <th></th>\n",
       "      <th>business_id</th>\n",
       "      <th>emi_no</th>\n",
       "      <th>redec_proba</th>\n",
       "      <th>redec_score</th>\n",
       "      <th>redec_bin</th>\n",
       "      <th>distinct_debit_txns_1m</th>\n",
       "      <th>median_amount_debited_2m</th>\n",
       "      <th>ratio_debit_credit_2m</th>\n",
       "      <th>ratio_ach_credit_freq_total_credit_1m</th>\n",
       "      <th>ratio_ach_debit_credit_freq_1m</th>\n",
       "      <th>median_running_balance_2nd_m</th>\n",
       "      <th>ratio_revenue_1m_2m</th>\n",
       "      <th>distinct_cashins_1m_prev</th>\n",
       "      <th>ratio_amt_drawn_mom</th>\n",
       "      <th>ratio_amt_cashin_mom</th>\n",
       "    </tr>\n",
       "  </thead>\n",
       "  <tbody>\n",
       "    <tr>\n",
       "      <th>0</th>\n",
       "      <td>c616b39b-aef7-4156-973a-08278aa74536</td>\n",
       "      <td>1</td>\n",
       "      <td>0.031045</td>\n",
       "      <td>968.955142</td>\n",
       "      <td>5</td>\n",
       "      <td>36.0</td>\n",
       "      <td>42.995</td>\n",
       "      <td>1.570221</td>\n",
       "      <td>0.000000</td>\n",
       "      <td>1.000000</td>\n",
       "      <td>21236.060</td>\n",
       "      <td>12494.280000</td>\n",
       "      <td>2.0</td>\n",
       "      <td>0.357015</td>\n",
       "      <td>2884.000000</td>\n",
       "    </tr>\n",
       "    <tr>\n",
       "      <th>1</th>\n",
       "      <td>cc861415-fd34-4654-8b97-dab0794938dc</td>\n",
       "      <td>1</td>\n",
       "      <td>0.154239</td>\n",
       "      <td>845.760620</td>\n",
       "      <td>4</td>\n",
       "      <td>62.0</td>\n",
       "      <td>101.750</td>\n",
       "      <td>0.987481</td>\n",
       "      <td>0.666667</td>\n",
       "      <td>2.800000</td>\n",
       "      <td>2122.430</td>\n",
       "      <td>0.806541</td>\n",
       "      <td>2.0</td>\n",
       "      <td>0.519896</td>\n",
       "      <td>2433.330000</td>\n",
       "    </tr>\n",
       "    <tr>\n",
       "      <th>2</th>\n",
       "      <td>4d7e9b73-dd94-4fdc-9611-51ec641b8e19</td>\n",
       "      <td>1</td>\n",
       "      <td>0.010144</td>\n",
       "      <td>989.855778</td>\n",
       "      <td>5</td>\n",
       "      <td>17.0</td>\n",
       "      <td>828.440</td>\n",
       "      <td>1.124376</td>\n",
       "      <td>0.000000</td>\n",
       "      <td>1.000000</td>\n",
       "      <td>5080.880</td>\n",
       "      <td>0.159984</td>\n",
       "      <td>2.0</td>\n",
       "      <td>0.000000</td>\n",
       "      <td>2196.830000</td>\n",
       "    </tr>\n",
       "    <tr>\n",
       "      <th>3</th>\n",
       "      <td>2e3c32e2-1f1b-4d0f-a7c2-8dcdb11c6317</td>\n",
       "      <td>1</td>\n",
       "      <td>0.348148</td>\n",
       "      <td>651.852262</td>\n",
       "      <td>3</td>\n",
       "      <td>72.0</td>\n",
       "      <td>19.000</td>\n",
       "      <td>1.142170</td>\n",
       "      <td>0.677419</td>\n",
       "      <td>0.863636</td>\n",
       "      <td>3749.750</td>\n",
       "      <td>1.101293</td>\n",
       "      <td>5.0</td>\n",
       "      <td>0.000000</td>\n",
       "      <td>0.949472</td>\n",
       "    </tr>\n",
       "    <tr>\n",
       "      <th>4</th>\n",
       "      <td>57948378-e103-4f19-972e-a911082a16c2</td>\n",
       "      <td>1</td>\n",
       "      <td>0.434676</td>\n",
       "      <td>565.323852</td>\n",
       "      <td>3</td>\n",
       "      <td>9.0</td>\n",
       "      <td>0.000</td>\n",
       "      <td>0.975947</td>\n",
       "      <td>0.950000</td>\n",
       "      <td>0.100000</td>\n",
       "      <td>1077.775</td>\n",
       "      <td>6.283541</td>\n",
       "      <td>1.0</td>\n",
       "      <td>0.000000</td>\n",
       "      <td>363.000000</td>\n",
       "    </tr>\n",
       "  </tbody>\n",
       "</table>\n",
       "</div>"
      ],
      "text/plain": [
       "                            business_id  emi_no  redec_proba  redec_score  \\\n",
       "0  c616b39b-aef7-4156-973a-08278aa74536       1     0.031045   968.955142   \n",
       "1  cc861415-fd34-4654-8b97-dab0794938dc       1     0.154239   845.760620   \n",
       "2  4d7e9b73-dd94-4fdc-9611-51ec641b8e19       1     0.010144   989.855778   \n",
       "3  2e3c32e2-1f1b-4d0f-a7c2-8dcdb11c6317       1     0.348148   651.852262   \n",
       "4  57948378-e103-4f19-972e-a911082a16c2       1     0.434676   565.323852   \n",
       "\n",
       "   redec_bin  distinct_debit_txns_1m  median_amount_debited_2m  \\\n",
       "0          5                    36.0                    42.995   \n",
       "1          4                    62.0                   101.750   \n",
       "2          5                    17.0                   828.440   \n",
       "3          3                    72.0                    19.000   \n",
       "4          3                     9.0                     0.000   \n",
       "\n",
       "   ratio_debit_credit_2m  ratio_ach_credit_freq_total_credit_1m  \\\n",
       "0               1.570221                               0.000000   \n",
       "1               0.987481                               0.666667   \n",
       "2               1.124376                               0.000000   \n",
       "3               1.142170                               0.677419   \n",
       "4               0.975947                               0.950000   \n",
       "\n",
       "   ratio_ach_debit_credit_freq_1m  median_running_balance_2nd_m  \\\n",
       "0                        1.000000                     21236.060   \n",
       "1                        2.800000                      2122.430   \n",
       "2                        1.000000                      5080.880   \n",
       "3                        0.863636                      3749.750   \n",
       "4                        0.100000                      1077.775   \n",
       "\n",
       "   ratio_revenue_1m_2m  distinct_cashins_1m_prev  ratio_amt_drawn_mom  \\\n",
       "0         12494.280000                       2.0             0.357015   \n",
       "1             0.806541                       2.0             0.519896   \n",
       "2             0.159984                       2.0             0.000000   \n",
       "3             1.101293                       5.0             0.000000   \n",
       "4             6.283541                       1.0             0.000000   \n",
       "\n",
       "   ratio_amt_cashin_mom  \n",
       "0           2884.000000  \n",
       "1           2433.330000  \n",
       "2           2196.830000  \n",
       "3              0.949472  \n",
       "4            363.000000  "
      ]
     },
     "execution_count": 14,
     "metadata": {},
     "output_type": "execute_result"
    }
   ],
   "source": [
    "tdf.head()"
   ]
  },
  {
   "cell_type": "code",
   "execution_count": 15,
   "metadata": {},
   "outputs": [],
   "source": [
    "# tdf.head(500).to_csv('/Users/shashankgupta/Documents/code/git_project/redec/re_decisioning/data/testing_data.csv')"
   ]
  },
  {
   "cell_type": "code",
   "execution_count": null,
   "metadata": {},
   "outputs": [],
   "source": [
    "pd.crosstab(dff['rs2_bin'],dff['DPD_plus_15_next']).to_clipboard()"
   ]
  },
  {
   "cell_type": "code",
   "execution_count": null,
   "metadata": {},
   "outputs": [],
   "source": [
    "pd.crosstab(dff['rs1_bin'],dff['DPD_plus_15_next']).to_clipboard()"
   ]
  },
  {
   "cell_type": "code",
   "execution_count": null,
   "metadata": {},
   "outputs": [],
   "source": [
    "pd.crosstab(dff['redec_bin'],dff['DPD_plus_15_next']).to_clipboard()"
   ]
  },
  {
   "cell_type": "code",
   "execution_count": null,
   "metadata": {},
   "outputs": [],
   "source": [
    "dff[dff['DPD_plus_15_next']==1].shape"
   ]
  },
  {
   "cell_type": "code",
   "execution_count": null,
   "metadata": {},
   "outputs": [],
   "source": [
    "dff.loc[dff['DPD_plus_15_next']==1,'emi_no'].value_counts()"
   ]
  },
  {
   "cell_type": "code",
   "execution_count": null,
   "metadata": {},
   "outputs": [],
   "source": [
    "pd.crosstab(dff['emi_no'],dff['DPD_plus_15_next']).to_clipboard()"
   ]
  },
  {
   "cell_type": "code",
   "execution_count": null,
   "metadata": {},
   "outputs": [],
   "source": [
    "temp = dff[dff['emi_no'].isin([2,3,4,5])]"
   ]
  },
  {
   "cell_type": "code",
   "execution_count": null,
   "metadata": {},
   "outputs": [],
   "source": [
    "temp.shape"
   ]
  },
  {
   "cell_type": "code",
   "execution_count": null,
   "metadata": {},
   "outputs": [],
   "source": [
    "pd.crosstab(temp['rs2_bin'],temp['DPD_plus_15_next']).to_clipboard()"
   ]
  },
  {
   "cell_type": "code",
   "execution_count": null,
   "metadata": {},
   "outputs": [],
   "source": [
    "tdf = dff.groupby('redec_bin',as_index=False)['DPD_plus_15_next'].agg(['sum','count'])\n",
    "tdf['volume%'] = np.round(tdf['count']*100/len(dff),1)\n",
    "tdf['default_rate'] = np.round(tdf['sum']*100/tdf['count'],1)\n",
    "tdf.to_clipboard()"
   ]
  },
  {
   "cell_type": "code",
   "execution_count": null,
   "metadata": {},
   "outputs": [],
   "source": [
    "tdf = dff.groupby('rs2_bin',as_index=False)['DPD_plus_15_next'].agg(['sum','count'])\n",
    "tdf['volume%'] = np.round(tdf['count']*100/len(dff),1)\n",
    "tdf['default_rate'] = np.round(tdf['sum']*100/tdf['count'],1)\n",
    "tdf.to_clipboard()"
   ]
  },
  {
   "cell_type": "code",
   "execution_count": null,
   "metadata": {},
   "outputs": [],
   "source": [
    "tdf = dff.groupby('rs1_bin',as_index=False)['DPD_plus_15_next'].agg(['sum','count'])\n",
    "tdf['volume%'] = np.round(tdf['count']*100/len(dff),1)\n",
    "tdf['default_rate'] = np.round(tdf['sum']*100/tdf['count'],1)\n",
    "tdf.to_clipboard()"
   ]
  },
  {
   "cell_type": "code",
   "execution_count": null,
   "metadata": {},
   "outputs": [],
   "source": [
    "tdf = dff.groupby(['rs2_bin','redec_bin'],as_index=False)['DPD_plus_15_next'].agg(['sum','count'])\n",
    "tdf['volume%'] = np.round(tdf['count']*100/len(dff),1)\n",
    "tdf['default_rate'] = np.round(tdf['sum']*100/tdf['count'],1)\n",
    "tdf.to_clipboard()"
   ]
  },
  {
   "cell_type": "code",
   "execution_count": null,
   "metadata": {},
   "outputs": [],
   "source": [
    "tdf = dff[dff['emi_no'].isin([2,3,4,5])].groupby(['redec_bin','emi_no'],as_index=False)['DPD_plus_15_next'].agg(['sum','count'])\n",
    "tdf['volume%'] = np.round(tdf['count']*100/len(dff),1)\n",
    "tdf['default_rate'] = np.round(tdf['sum']*100/tdf['count'],1)\n",
    "tdf.to_clipboard()"
   ]
  },
  {
   "cell_type": "code",
   "execution_count": null,
   "metadata": {},
   "outputs": [],
   "source": [
    "tdf = dff.groupby(['redec_bin','DPD_plus_3'],as_index=False)['DPD_plus_15_next'].agg(['sum','count'])\n",
    "tdf['volume%'] = np.round(tdf['count']*100/len(dff),1)\n",
    "tdf['default_rate'] = np.round(tdf['sum']*100/tdf['count'],1)\n",
    "tdf"
   ]
  },
  {
   "cell_type": "code",
   "execution_count": null,
   "metadata": {},
   "outputs": [],
   "source": []
  },
  {
   "cell_type": "markdown",
   "metadata": {},
   "source": [
    "#### Binning from new dataset"
   ]
  },
  {
   "cell_type": "code",
   "execution_count": null,
   "metadata": {},
   "outputs": [],
   "source": [
    "def new_buckets(x):\n",
    "    if x > 0.6:\n",
    "        return 1\n",
    "    if x > 0.46:\n",
    "        return 2\n",
    "    if x > 0.31:\n",
    "        return 3\n",
    "    if x > 0.08:\n",
    "        return 4\n",
    "    return 5"
   ]
  },
  {
   "cell_type": "code",
   "execution_count": null,
   "metadata": {},
   "outputs": [],
   "source": [
    "# def new_buckets(x):\n",
    "#     if x > 0.7:\n",
    "#         return 1\n",
    "#     if x > 0.48:\n",
    "#         return 2\n",
    "#     if x > 0.35:\n",
    "#         return 3\n",
    "#     if x > 0.1:\n",
    "#         return 4\n",
    "#     return 5"
   ]
  },
  {
   "cell_type": "code",
   "execution_count": null,
   "metadata": {},
   "outputs": [],
   "source": [
    "df0 = dff.copy()"
   ]
  },
  {
   "cell_type": "code",
   "execution_count": null,
   "metadata": {},
   "outputs": [],
   "source": [
    "df0['rds_bin'] = df0['redec_proba'].apply(lambda x: new_buckets(x))"
   ]
  },
  {
   "cell_type": "code",
   "execution_count": null,
   "metadata": {},
   "outputs": [],
   "source": [
    "ttdf = df0.groupby('rds_bin',as_index=False)['DPD_plus_15_next'].agg(['sum','count'])\n",
    "ttdf['volume%'] = np.round(ttdf['count']*100/len(df0),1)\n",
    "ttdf['default_rate'] = np.round(ttdf['sum']*100/ttdf['count'],1)\n",
    "ttdf"
   ]
  },
  {
   "cell_type": "code",
   "execution_count": null,
   "metadata": {},
   "outputs": [],
   "source": [
    "ttdf.to_clipboard()"
   ]
  },
  {
   "cell_type": "code",
   "execution_count": null,
   "metadata": {},
   "outputs": [],
   "source": []
  },
  {
   "cell_type": "code",
   "execution_count": null,
   "metadata": {},
   "outputs": [],
   "source": []
  },
  {
   "cell_type": "code",
   "execution_count": null,
   "metadata": {},
   "outputs": [],
   "source": []
  },
  {
   "cell_type": "code",
   "execution_count": null,
   "metadata": {},
   "outputs": [],
   "source": []
  },
  {
   "cell_type": "markdown",
   "metadata": {},
   "source": [
    "#### Saving"
   ]
  },
  {
   "cell_type": "code",
   "execution_count": null,
   "metadata": {},
   "outputs": [],
   "source": [
    "# df0.to_pickle('/Users/shashankgupta/Documents/code/git_project/re_decisioning/data/scored_dataset.pkl')"
   ]
  },
  {
   "cell_type": "code",
   "execution_count": null,
   "metadata": {},
   "outputs": [],
   "source": [
    "# from sqlalchemy.types import NVARCHAR\n",
    "# # from conf.config import SQLQuery\n",
    "# q = SQLQuery('snowflake')\n",
    "\n",
    "# df0.to_sql(name='redec_scored_dataset',\n",
    "#                  con=q.engine, \n",
    "#                  schema='prod_db.adhoc',\n",
    "#                  if_exists='append', \n",
    "#                  index=False, \n",
    "#                  chunksize=16000, \n",
    "#                  method='multi',\n",
    "#                  dtype={col_name: NVARCHAR for col_name in df0})"
   ]
  },
  {
   "cell_type": "code",
   "execution_count": null,
   "metadata": {},
   "outputs": [],
   "source": [
    "df0['redec_bin'].value_counts()"
   ]
  },
  {
   "cell_type": "code",
   "execution_count": null,
   "metadata": {},
   "outputs": [],
   "source": [
    "len(df0['business_id'].unique())"
   ]
  },
  {
   "cell_type": "code",
   "execution_count": null,
   "metadata": {},
   "outputs": [],
   "source": [
    "df0.shape"
   ]
  },
  {
   "cell_type": "code",
   "execution_count": null,
   "metadata": {},
   "outputs": [],
   "source": []
  }
 ],
 "metadata": {
  "kernelspec": {
   "display_name": "Python 3.10.5 64-bit",
   "language": "python",
   "name": "python3"
  },
  "language_info": {
   "codemirror_mode": {
    "name": "ipython",
    "version": 3
   },
   "file_extension": ".py",
   "mimetype": "text/x-python",
   "name": "python",
   "nbconvert_exporter": "python",
   "pygments_lexer": "ipython3",
   "version": "3.10.5"
  },
  "orig_nbformat": 4,
  "vscode": {
   "interpreter": {
    "hash": "aee8b7b246df8f9039afb4144a1f6fd8d2ca17a180786b69acc140d282b71a49"
   }
  }
 },
 "nbformat": 4,
 "nbformat_minor": 2
}
