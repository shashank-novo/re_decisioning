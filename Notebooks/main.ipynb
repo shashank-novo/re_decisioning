{
 "cells": [
  {
   "cell_type": "code",
   "execution_count": 1,
   "metadata": {},
   "outputs": [],
   "source": [
    "corr_arr = 0.3 # pearson correlation coefficient\n",
    "vif_arr = 5 # vif coefficient\n",
    "features_arr = 10 # total number of features to be selected from backward feature selection\n",
    "iv_upper_limit = 0.5 # upper threshold of iv\n",
    "iv_lower_limit = 0.02 # lower threshold of iv\n",
    "seed = 17\n",
    "class_weight_dict = {0:0.08,1:0.92}"
   ]
  },
  {
   "cell_type": "code",
   "execution_count": 2,
   "metadata": {},
   "outputs": [
    {
     "ename": "NameError",
     "evalue": "name 'seed' is not defined",
     "output_type": "error",
     "traceback": [
      "\u001b[0;31m---------------------------------------------------------------------------\u001b[0m",
      "\u001b[0;31mNameError\u001b[0m                                 Traceback (most recent call last)",
      "\u001b[1;32m/Users/shashankgupta/Documents/code/git_project/redec/re_decisioning/Notebooks/main.ipynb Cell 2\u001b[0m in \u001b[0;36m<cell line: 15>\u001b[0;34m()\u001b[0m\n\u001b[1;32m     <a href='vscode-notebook-cell:/Users/shashankgupta/Documents/code/git_project/redec/re_decisioning/Notebooks/main.ipynb#W1sZmlsZQ%3D%3D?line=10'>11</a>\u001b[0m \u001b[39m# os.environ['PYTHONHASHSEED']=str(42)\u001b[39;00m\n\u001b[1;32m     <a href='vscode-notebook-cell:/Users/shashankgupta/Documents/code/git_project/redec/re_decisioning/Notebooks/main.ipynb#W1sZmlsZQ%3D%3D?line=11'>12</a>\u001b[0m \n\u001b[1;32m     <a href='vscode-notebook-cell:/Users/shashankgupta/Documents/code/git_project/redec/re_decisioning/Notebooks/main.ipynb#W1sZmlsZQ%3D%3D?line=12'>13</a>\u001b[0m \u001b[39m# 2. Set `python` built-in pseudo-random generator at a fixed value\u001b[39;00m\n\u001b[1;32m     <a href='vscode-notebook-cell:/Users/shashankgupta/Documents/code/git_project/redec/re_decisioning/Notebooks/main.ipynb#W1sZmlsZQ%3D%3D?line=13'>14</a>\u001b[0m \u001b[39mimport\u001b[39;00m \u001b[39mrandom\u001b[39;00m\n\u001b[0;32m---> <a href='vscode-notebook-cell:/Users/shashankgupta/Documents/code/git_project/redec/re_decisioning/Notebooks/main.ipynb#W1sZmlsZQ%3D%3D?line=14'>15</a>\u001b[0m random\u001b[39m.\u001b[39mseed(seed)\n\u001b[1;32m     <a href='vscode-notebook-cell:/Users/shashankgupta/Documents/code/git_project/redec/re_decisioning/Notebooks/main.ipynb#W1sZmlsZQ%3D%3D?line=16'>17</a>\u001b[0m \u001b[39m# 3. Set `numpy` pseudo-random generator at a fixed value\u001b[39;00m\n\u001b[1;32m     <a href='vscode-notebook-cell:/Users/shashankgupta/Documents/code/git_project/redec/re_decisioning/Notebooks/main.ipynb#W1sZmlsZQ%3D%3D?line=17'>18</a>\u001b[0m \u001b[39mimport\u001b[39;00m \u001b[39mnumpy\u001b[39;00m \u001b[39mas\u001b[39;00m \u001b[39mnp\u001b[39;00m\n",
      "\u001b[0;31mNameError\u001b[0m: name 'seed' is not defined"
     ]
    }
   ],
   "source": [
    "# Import Packages \n",
    "import sys\n",
    "import pandas as pd \n",
    "import os \n",
    "import json\n",
    "import pickle\n",
    "import plotly.express as px\n",
    "\n",
    "# 1. Set `PYTHONHASHSEED` environment variable at a fixed value\n",
    "import os\n",
    "# os.environ['PYTHONHASHSEED']=str(42)\n",
    "\n",
    "# 2. Set `python` built-in pseudo-random generator at a fixed value\n",
    "import random\n",
    "random.seed(seed)\n",
    "\n",
    "# 3. Set `numpy` pseudo-random generator at a fixed value\n",
    "import numpy as np\n",
    "np.random.seed(seed)\n",
    "\n",
    "import os \n",
    "cwd = os.getcwd()\n",
    "\n",
    "# move to previous direc\n",
    "os.chdir('../')\n",
    "cwd = os.getcwd()\n",
    "print(cwd)\n",
    "\n",
    "# move to data direc\n",
    "os.chdir('./data')\n",
    "cwd = os.getcwd()\n",
    "print(cwd)\n",
    "\n",
    "\n",
    "from datetime import date\n",
    "today = date.today()\n",
    "\n",
    "# Reading Raw Data \n",
    "df = pd.read_pickle(f'/Users/shashankgupta/Documents/code/git_project/redec/re_decisioning/data/dataset_2.pkl')\n",
    "# df2 = pd.read_pickle('')\n",
    "print(f\"raw data file loaded with shape : {df.shape} \")"
   ]
  },
  {
   "cell_type": "code",
   "execution_count": 3,
   "metadata": {},
   "outputs": [
    {
     "name": "stdout",
     "output_type": "stream",
     "text": [
      "/Users/shashankgupta/Documents/code/git_project/redec/re_decisioning\n",
      "/Users/shashankgupta/Documents/code/git_project/redec/re_decisioning/Code/src\n",
      "params file loaded ..\n",
      "params file loaded ..\n",
      "{'seed': 42, 'test_size': 0.3, 'target': 'DPD_plus_15', 'corr_thresh': 0.3, 'vif_thresh': 7, 'model': LogisticRegression(), 'forward_move': True, 'num_features': 10, 'bins': 5, 'upper_iv': 0.5, 'lower_iv': 0.02, 'params_log_reg': {'penalty': 'l1', 'random_state': 42, 'solver': 'liblinear', 'class_weight': {0: 0.1, 1: 0.9}}, 'pipeline_os': {'scale_type': StandardScaler(), 'target': 'DPD_plus_15'}}\n",
      "utils module loaded ..\n",
      "custom novo ds modules loaded ..\n",
      "all objects inititated ..\n",
      "\n",
      "Basic Flow : \n",
      "\n",
      "    Preprocess -> Transform -> Model Building -> Metrics \n",
      "\n",
      "\n",
      "/Users/shashankgupta/Documents/code/git_project/redec/re_decisioning/Code/src/modules\n",
      "/Users/shashankgupta/Documents/code/git_project/redec/re_decisioning/Code/src/modules\n",
      "custom novo ds modules loaded ..\n",
      "all objects inititated ..\n",
      "\n",
      "Basic Flow : \n",
      "\n",
      "    Preprocess -> Transform -> Model Building -> Metrics \n",
      "\n",
      "\n",
      "custom novo ds modules loaded ..\n",
      "/Users/shashankgupta/Documents/code/git_project/redec/re_decisioning/Code/src\n",
      "/Users/shashankgupta/Documents/code/git_project/redec/re_decisioning/Code\n",
      "/Users/shashankgupta/Documents/code/git_project/redec/re_decisioning/Code/params\n",
      "params file loaded ..\n",
      "{'seed': 17, 'test_size': 0.3, 'target': 'DPD_plus_15', 'corr_thresh': 0.3, 'vif_thresh': 7, 'model': LogisticRegression(), 'forward_move': True, 'num_features': 10, 'bins': 5, 'upper_iv': 0.5, 'lower_iv': 0.02, 'params_log_reg': {'penalty': 'l1', 'random_state': 42, 'solver': 'liblinear', 'class_weight': {0: 0.08, 1: 0.92}}, 'pipeline_os': {'scale_type': StandardScaler(), 'target': 'DPD_plus_15'}}\n"
     ]
    }
   ],
   "source": [
    "# Import Sklearn Modules \n",
    "from sklearn.preprocessing import MinMaxScaler, StandardScaler, RobustScaler, Normalizer\n",
    "from sklearn.linear_model import LogisticRegression\n",
    "from sklearn.model_selection import train_test_split\n",
    "import numpy as np\n",
    "\n",
    "# move to previous direc\n",
    "os.chdir('../')\n",
    "cwd = os.getcwd()\n",
    "print(cwd)\n",
    "\n",
    "# move to code/src direc\n",
    "os.chdir('./code/src')\n",
    "cwd = os.getcwd()\n",
    "print(cwd)\n",
    "\n",
    "from utils import Utils\n",
    "from pipeline_blocks import PipelineBlocks\n",
    "from pipeline import PipelineTypes, PipelineTest\n",
    "\n",
    "# move to modules direc\n",
    "os.chdir('./modules')\n",
    "cwd = os.getcwd()\n",
    "print(cwd)\n",
    "\n",
    "os.chdir('/Users/shashankgupta/Documents/code/git_project/redec/re_decisioning/code/src/modules')\n",
    "cwd = os.getcwd()\n",
    "print(cwd)\n",
    "\n",
    "# Import Other Modules\n",
    "from preprocess import Convert, MissingValues, Outlier, FeatureSelection\n",
    "from transform import Scaler, Transform, Selection\n",
    "from modeling import ModelBuild, ModelMetric\n",
    "from gridsearch import Grid\n",
    "print(f\"custom novo ds modules loaded ..\")\n",
    "\n",
    "\n",
    "# Opening Params Json File\n",
    "\n",
    "# move to previous direc\n",
    "os.chdir('../')\n",
    "cwd = os.getcwd()\n",
    "print(cwd)\n",
    "\n",
    "# move to previous direc\n",
    "os.chdir('../')\n",
    "cwd = os.getcwd()\n",
    "print(cwd)\n",
    "\n",
    "# move to params folder\n",
    "os.chdir('./params')\n",
    "cwd = os.getcwd()\n",
    "print(cwd)\n",
    "\n",
    "f = open('params.txt')\n",
    "params_data = json.load(f)\n",
    "print(f\"params file loaded ..\")\n",
    "params_data['model'] = LogisticRegression()\n",
    "\n",
    "params_data['forward_move'] = True\n",
    "params_data['params_log_reg']['class_weight'] = class_weight_dict\n",
    "params_data['pipeline_os']['scale_type']= StandardScaler()\n",
    "params_data['seed'] = seed\n",
    "print(f\"{params_data}\")"
   ]
  },
  {
   "cell_type": "code",
   "execution_count": 4,
   "metadata": {},
   "outputs": [
    {
     "name": "stdout",
     "output_type": "stream",
     "text": [
      "all objects inititated ..\n"
     ]
    }
   ],
   "source": [
    "# Object Initiation \n",
    "sc_min_max = Scaler(MinMaxScaler())\n",
    "sc_std_scaler = Scaler(StandardScaler())\n",
    "sc_robust_scaler = Scaler(RobustScaler())\n",
    "sc_norm = Scaler(Normalizer())\n",
    "\n",
    "cv = Convert()\n",
    "mv = MissingValues()\n",
    "ot = Outlier()\n",
    "ut = Utils()\n",
    "\n",
    "tf = Transform()\n",
    "sel = Selection()\n",
    "ft = FeatureSelection()\n",
    "\n",
    "mb = ModelBuild()\n",
    "mm = ModelMetric()\n",
    "\n",
    "pb = PipelineBlocks()\n",
    "pt = PipelineTypes()\n",
    "ptest = PipelineTest()\n",
    "\n",
    "gr = Grid()\n",
    "\n",
    "\n",
    "print(f\"all objects inititated ..\")"
   ]
  },
  {
   "cell_type": "code",
   "execution_count": 5,
   "metadata": {},
   "outputs": [
    {
     "data": {
      "text/html": [
       "<div>\n",
       "<style scoped>\n",
       "    .dataframe tbody tr th:only-of-type {\n",
       "        vertical-align: middle;\n",
       "    }\n",
       "\n",
       "    .dataframe tbody tr th {\n",
       "        vertical-align: top;\n",
       "    }\n",
       "\n",
       "    .dataframe thead th {\n",
       "        text-align: right;\n",
       "    }\n",
       "</style>\n",
       "<table border=\"1\" class=\"dataframe\">\n",
       "  <thead>\n",
       "    <tr style=\"text-align: right;\">\n",
       "      <th></th>\n",
       "      <th>business_id</th>\n",
       "      <th>due_date</th>\n",
       "      <th>DPD_plus_15_next</th>\n",
       "      <th>DPD_plus_3_last_2</th>\n",
       "      <th>DPD_plus_15_prev</th>\n",
       "      <th>emi_no</th>\n",
       "      <th>DPD_plus_3</th>\n",
       "      <th>count_pd_deposit_1m</th>\n",
       "      <th>count_ach_debit_1m</th>\n",
       "      <th>count_ach_credit_1m</th>\n",
       "      <th>...</th>\n",
       "      <th>distinct_cashins_2m_prev</th>\n",
       "      <th>ratio_amt_drawn_mom</th>\n",
       "      <th>ratio_amt_cashin_mom</th>\n",
       "      <th>ratio_count_drawn_mom</th>\n",
       "      <th>ratio_count_cashin_mom</th>\n",
       "      <th>pilot_flag</th>\n",
       "      <th>pilot_period_flag</th>\n",
       "      <th>fico_score</th>\n",
       "      <th>rs2_bin</th>\n",
       "      <th>rs2_score</th>\n",
       "    </tr>\n",
       "  </thead>\n",
       "  <tbody>\n",
       "    <tr>\n",
       "      <th>0</th>\n",
       "      <td>c616b39b-aef7-4156-973a-08278aa74536</td>\n",
       "      <td>2023-04-03</td>\n",
       "      <td>0.0</td>\n",
       "      <td>0.0</td>\n",
       "      <td>0.0</td>\n",
       "      <td>1</td>\n",
       "      <td>0</td>\n",
       "      <td>0.0</td>\n",
       "      <td>1.0</td>\n",
       "      <td>0.0</td>\n",
       "      <td>...</td>\n",
       "      <td>0.0</td>\n",
       "      <td>0.357015</td>\n",
       "      <td>2884.000000</td>\n",
       "      <td>0.25</td>\n",
       "      <td>2.000000</td>\n",
       "      <td>0</td>\n",
       "      <td>0</td>\n",
       "      <td>749</td>\n",
       "      <td>5.0</td>\n",
       "      <td>971.0</td>\n",
       "    </tr>\n",
       "    <tr>\n",
       "      <th>1</th>\n",
       "      <td>cc861415-fd34-4654-8b97-dab0794938dc</td>\n",
       "      <td>2023-04-03</td>\n",
       "      <td>0.0</td>\n",
       "      <td>0.0</td>\n",
       "      <td>0.0</td>\n",
       "      <td>1</td>\n",
       "      <td>0</td>\n",
       "      <td>0.0</td>\n",
       "      <td>14.0</td>\n",
       "      <td>4.0</td>\n",
       "      <td>...</td>\n",
       "      <td>0.0</td>\n",
       "      <td>0.519896</td>\n",
       "      <td>2433.330000</td>\n",
       "      <td>0.50</td>\n",
       "      <td>2.000000</td>\n",
       "      <td>0</td>\n",
       "      <td>0</td>\n",
       "      <td>670</td>\n",
       "      <td>5.0</td>\n",
       "      <td>822.0</td>\n",
       "    </tr>\n",
       "    <tr>\n",
       "      <th>2</th>\n",
       "      <td>4d7e9b73-dd94-4fdc-9611-51ec641b8e19</td>\n",
       "      <td>2023-04-03</td>\n",
       "      <td>0.0</td>\n",
       "      <td>1.0</td>\n",
       "      <td>0.0</td>\n",
       "      <td>1</td>\n",
       "      <td>1</td>\n",
       "      <td>0.0</td>\n",
       "      <td>1.0</td>\n",
       "      <td>0.0</td>\n",
       "      <td>...</td>\n",
       "      <td>0.0</td>\n",
       "      <td>0.000000</td>\n",
       "      <td>2196.830000</td>\n",
       "      <td>0.00</td>\n",
       "      <td>2.000000</td>\n",
       "      <td>0</td>\n",
       "      <td>0</td>\n",
       "      <td>722</td>\n",
       "      <td>5.0</td>\n",
       "      <td>850.0</td>\n",
       "    </tr>\n",
       "    <tr>\n",
       "      <th>3</th>\n",
       "      <td>2e3c32e2-1f1b-4d0f-a7c2-8dcdb11c6317</td>\n",
       "      <td>2023-04-03</td>\n",
       "      <td>0.0</td>\n",
       "      <td>0.0</td>\n",
       "      <td>0.0</td>\n",
       "      <td>1</td>\n",
       "      <td>0</td>\n",
       "      <td>3.0</td>\n",
       "      <td>19.0</td>\n",
       "      <td>21.0</td>\n",
       "      <td>...</td>\n",
       "      <td>5.0</td>\n",
       "      <td>0.000000</td>\n",
       "      <td>0.949472</td>\n",
       "      <td>0.00</td>\n",
       "      <td>0.833333</td>\n",
       "      <td>0</td>\n",
       "      <td>0</td>\n",
       "      <td>721</td>\n",
       "      <td>5.0</td>\n",
       "      <td>795.0</td>\n",
       "    </tr>\n",
       "    <tr>\n",
       "      <th>4</th>\n",
       "      <td>57948378-e103-4f19-972e-a911082a16c2</td>\n",
       "      <td>2023-04-03</td>\n",
       "      <td>0.0</td>\n",
       "      <td>0.0</td>\n",
       "      <td>0.0</td>\n",
       "      <td>1</td>\n",
       "      <td>0</td>\n",
       "      <td>17.0</td>\n",
       "      <td>2.0</td>\n",
       "      <td>19.0</td>\n",
       "      <td>...</td>\n",
       "      <td>0.0</td>\n",
       "      <td>0.000000</td>\n",
       "      <td>363.000000</td>\n",
       "      <td>0.00</td>\n",
       "      <td>1.000000</td>\n",
       "      <td>0</td>\n",
       "      <td>0</td>\n",
       "      <td>652</td>\n",
       "      <td>3.0</td>\n",
       "      <td>551.0</td>\n",
       "    </tr>\n",
       "  </tbody>\n",
       "</table>\n",
       "<p>5 rows × 125 columns</p>\n",
       "</div>"
      ],
      "text/plain": [
       "                            business_id    due_date  DPD_plus_15_next  \\\n",
       "0  c616b39b-aef7-4156-973a-08278aa74536  2023-04-03               0.0   \n",
       "1  cc861415-fd34-4654-8b97-dab0794938dc  2023-04-03               0.0   \n",
       "2  4d7e9b73-dd94-4fdc-9611-51ec641b8e19  2023-04-03               0.0   \n",
       "3  2e3c32e2-1f1b-4d0f-a7c2-8dcdb11c6317  2023-04-03               0.0   \n",
       "4  57948378-e103-4f19-972e-a911082a16c2  2023-04-03               0.0   \n",
       "\n",
       "   DPD_plus_3_last_2  DPD_plus_15_prev  emi_no  DPD_plus_3  \\\n",
       "0                0.0               0.0       1           0   \n",
       "1                0.0               0.0       1           0   \n",
       "2                1.0               0.0       1           1   \n",
       "3                0.0               0.0       1           0   \n",
       "4                0.0               0.0       1           0   \n",
       "\n",
       "   count_pd_deposit_1m  count_ach_debit_1m  count_ach_credit_1m  ...  \\\n",
       "0                  0.0                 1.0                  0.0  ...   \n",
       "1                  0.0                14.0                  4.0  ...   \n",
       "2                  0.0                 1.0                  0.0  ...   \n",
       "3                  3.0                19.0                 21.0  ...   \n",
       "4                 17.0                 2.0                 19.0  ...   \n",
       "\n",
       "   distinct_cashins_2m_prev  ratio_amt_drawn_mom  ratio_amt_cashin_mom  \\\n",
       "0                       0.0             0.357015           2884.000000   \n",
       "1                       0.0             0.519896           2433.330000   \n",
       "2                       0.0             0.000000           2196.830000   \n",
       "3                       5.0             0.000000              0.949472   \n",
       "4                       0.0             0.000000            363.000000   \n",
       "\n",
       "   ratio_count_drawn_mom  ratio_count_cashin_mom  pilot_flag  \\\n",
       "0                   0.25                2.000000           0   \n",
       "1                   0.50                2.000000           0   \n",
       "2                   0.00                2.000000           0   \n",
       "3                   0.00                0.833333           0   \n",
       "4                   0.00                1.000000           0   \n",
       "\n",
       "   pilot_period_flag  fico_score  rs2_bin  rs2_score  \n",
       "0                  0         749      5.0      971.0  \n",
       "1                  0         670      5.0      822.0  \n",
       "2                  0         722      5.0      850.0  \n",
       "3                  0         721      5.0      795.0  \n",
       "4                  0         652      3.0      551.0  \n",
       "\n",
       "[5 rows x 125 columns]"
      ]
     },
     "execution_count": 5,
     "metadata": {},
     "output_type": "execute_result"
    }
   ],
   "source": [
    "df.head()"
   ]
  },
  {
   "cell_type": "code",
   "execution_count": 6,
   "metadata": {},
   "outputs": [
    {
     "data": {
      "text/plain": [
       "1    1971\n",
       "2    1376\n",
       "3     662\n",
       "4     331\n",
       "5     315\n",
       "6     270\n",
       "Name: emi_no, dtype: int64"
      ]
     },
     "execution_count": 6,
     "metadata": {},
     "output_type": "execute_result"
    }
   ],
   "source": [
    "# df.drop(['business_id','due_date'],axis=1,inplace=True)\n",
    "df['emi_no'].value_counts()"
   ]
  },
  {
   "cell_type": "code",
   "execution_count": 7,
   "metadata": {},
   "outputs": [],
   "source": [
    "df = df[~(df['emi_no'].isin([1,6]))]"
   ]
  },
  {
   "cell_type": "code",
   "execution_count": 8,
   "metadata": {},
   "outputs": [
    {
     "data": {
      "text/plain": [
       "(2684, 125)"
      ]
     },
     "execution_count": 8,
     "metadata": {},
     "output_type": "execute_result"
    }
   ],
   "source": [
    "df.shape"
   ]
  },
  {
   "cell_type": "code",
   "execution_count": 9,
   "metadata": {},
   "outputs": [],
   "source": [
    "df['DPD_plus_15'] = df['DPD_plus_15_next']\n",
    "df.drop(['DPD_plus_15_next','fico_score'],axis=1,inplace=True)"
   ]
  },
  {
   "cell_type": "code",
   "execution_count": 10,
   "metadata": {},
   "outputs": [
    {
     "data": {
      "text/plain": [
       "0.0    2474\n",
       "1.0     210\n",
       "Name: DPD_plus_15, dtype: int64"
      ]
     },
     "execution_count": 10,
     "metadata": {},
     "output_type": "execute_result"
    }
   ],
   "source": [
    "df['DPD_plus_15'].value_counts()"
   ]
  },
  {
   "cell_type": "code",
   "execution_count": 11,
   "metadata": {},
   "outputs": [
    {
     "data": {
      "text/html": [
       "<div>\n",
       "<style scoped>\n",
       "    .dataframe tbody tr th:only-of-type {\n",
       "        vertical-align: middle;\n",
       "    }\n",
       "\n",
       "    .dataframe tbody tr th {\n",
       "        vertical-align: top;\n",
       "    }\n",
       "\n",
       "    .dataframe thead th {\n",
       "        text-align: right;\n",
       "    }\n",
       "</style>\n",
       "<table border=\"1\" class=\"dataframe\">\n",
       "  <thead>\n",
       "    <tr style=\"text-align: right;\">\n",
       "      <th></th>\n",
       "      <th>business_id</th>\n",
       "      <th>due_date</th>\n",
       "      <th>DPD_plus_3_last_2</th>\n",
       "      <th>DPD_plus_15_prev</th>\n",
       "      <th>emi_no</th>\n",
       "      <th>DPD_plus_3</th>\n",
       "      <th>count_pd_deposit_1m</th>\n",
       "      <th>count_ach_debit_1m</th>\n",
       "      <th>count_ach_credit_1m</th>\n",
       "      <th>count_card_withdrawal_1m</th>\n",
       "      <th>...</th>\n",
       "      <th>distinct_cashins_2m_prev</th>\n",
       "      <th>ratio_amt_drawn_mom</th>\n",
       "      <th>ratio_amt_cashin_mom</th>\n",
       "      <th>ratio_count_drawn_mom</th>\n",
       "      <th>ratio_count_cashin_mom</th>\n",
       "      <th>pilot_flag</th>\n",
       "      <th>pilot_period_flag</th>\n",
       "      <th>rs2_bin</th>\n",
       "      <th>rs2_score</th>\n",
       "      <th>DPD_plus_15</th>\n",
       "    </tr>\n",
       "  </thead>\n",
       "  <tbody>\n",
       "    <tr>\n",
       "      <th>13</th>\n",
       "      <td>939e1e8c-47d5-4600-b379-bf855be187f7</td>\n",
       "      <td>2023-04-03</td>\n",
       "      <td>0.0</td>\n",
       "      <td>0.0</td>\n",
       "      <td>4</td>\n",
       "      <td>0</td>\n",
       "      <td>0.0</td>\n",
       "      <td>0.0</td>\n",
       "      <td>3.0</td>\n",
       "      <td>6.0</td>\n",
       "      <td>...</td>\n",
       "      <td>0.0</td>\n",
       "      <td>0.0</td>\n",
       "      <td>523.32</td>\n",
       "      <td>0.0</td>\n",
       "      <td>3.0</td>\n",
       "      <td>1</td>\n",
       "      <td>0</td>\n",
       "      <td>2.0</td>\n",
       "      <td>330.0</td>\n",
       "      <td>0.0</td>\n",
       "    </tr>\n",
       "    <tr>\n",
       "      <th>114</th>\n",
       "      <td>3d4b951b-84f7-4a04-9614-53b6b1d4a4e5</td>\n",
       "      <td>2023-03-31</td>\n",
       "      <td>0.0</td>\n",
       "      <td>0.0</td>\n",
       "      <td>4</td>\n",
       "      <td>0</td>\n",
       "      <td>0.0</td>\n",
       "      <td>4.0</td>\n",
       "      <td>1.0</td>\n",
       "      <td>11.0</td>\n",
       "      <td>...</td>\n",
       "      <td>0.0</td>\n",
       "      <td>0.0</td>\n",
       "      <td>996.66</td>\n",
       "      <td>0.0</td>\n",
       "      <td>1.0</td>\n",
       "      <td>1</td>\n",
       "      <td>0</td>\n",
       "      <td>3.0</td>\n",
       "      <td>498.0</td>\n",
       "      <td>0.0</td>\n",
       "    </tr>\n",
       "    <tr>\n",
       "      <th>130</th>\n",
       "      <td>189d5476-cfbb-4e70-a09f-a27602bb2a51</td>\n",
       "      <td>2023-03-27</td>\n",
       "      <td>0.0</td>\n",
       "      <td>0.0</td>\n",
       "      <td>4</td>\n",
       "      <td>0</td>\n",
       "      <td>0.0</td>\n",
       "      <td>11.0</td>\n",
       "      <td>12.0</td>\n",
       "      <td>11.0</td>\n",
       "      <td>...</td>\n",
       "      <td>0.0</td>\n",
       "      <td>0.0</td>\n",
       "      <td>699.00</td>\n",
       "      <td>0.0</td>\n",
       "      <td>1.0</td>\n",
       "      <td>1</td>\n",
       "      <td>0</td>\n",
       "      <td>4.0</td>\n",
       "      <td>687.0</td>\n",
       "      <td>0.0</td>\n",
       "    </tr>\n",
       "    <tr>\n",
       "      <th>171</th>\n",
       "      <td>6c712e37-ec28-4e2a-8178-e85a78960cc9</td>\n",
       "      <td>2023-03-24</td>\n",
       "      <td>0.0</td>\n",
       "      <td>0.0</td>\n",
       "      <td>4</td>\n",
       "      <td>0</td>\n",
       "      <td>0.0</td>\n",
       "      <td>9.0</td>\n",
       "      <td>2.0</td>\n",
       "      <td>16.0</td>\n",
       "      <td>...</td>\n",
       "      <td>0.0</td>\n",
       "      <td>0.0</td>\n",
       "      <td>908.00</td>\n",
       "      <td>0.0</td>\n",
       "      <td>1.0</td>\n",
       "      <td>1</td>\n",
       "      <td>0</td>\n",
       "      <td>4.0</td>\n",
       "      <td>625.0</td>\n",
       "      <td>0.0</td>\n",
       "    </tr>\n",
       "    <tr>\n",
       "      <th>211</th>\n",
       "      <td>7e0e44c5-deba-47dc-900b-7af1f321686f</td>\n",
       "      <td>2023-03-22</td>\n",
       "      <td>0.0</td>\n",
       "      <td>0.0</td>\n",
       "      <td>4</td>\n",
       "      <td>0</td>\n",
       "      <td>0.0</td>\n",
       "      <td>0.0</td>\n",
       "      <td>1.0</td>\n",
       "      <td>33.0</td>\n",
       "      <td>...</td>\n",
       "      <td>0.0</td>\n",
       "      <td>0.0</td>\n",
       "      <td>196.66</td>\n",
       "      <td>0.0</td>\n",
       "      <td>2.0</td>\n",
       "      <td>1</td>\n",
       "      <td>0</td>\n",
       "      <td>2.0</td>\n",
       "      <td>326.0</td>\n",
       "      <td>0.0</td>\n",
       "    </tr>\n",
       "  </tbody>\n",
       "</table>\n",
       "<p>5 rows × 124 columns</p>\n",
       "</div>"
      ],
      "text/plain": [
       "                              business_id    due_date  DPD_plus_3_last_2  \\\n",
       "13   939e1e8c-47d5-4600-b379-bf855be187f7  2023-04-03                0.0   \n",
       "114  3d4b951b-84f7-4a04-9614-53b6b1d4a4e5  2023-03-31                0.0   \n",
       "130  189d5476-cfbb-4e70-a09f-a27602bb2a51  2023-03-27                0.0   \n",
       "171  6c712e37-ec28-4e2a-8178-e85a78960cc9  2023-03-24                0.0   \n",
       "211  7e0e44c5-deba-47dc-900b-7af1f321686f  2023-03-22                0.0   \n",
       "\n",
       "     DPD_plus_15_prev  emi_no  DPD_plus_3  count_pd_deposit_1m  \\\n",
       "13                0.0       4           0                  0.0   \n",
       "114               0.0       4           0                  0.0   \n",
       "130               0.0       4           0                  0.0   \n",
       "171               0.0       4           0                  0.0   \n",
       "211               0.0       4           0                  0.0   \n",
       "\n",
       "     count_ach_debit_1m  count_ach_credit_1m  count_card_withdrawal_1m  ...  \\\n",
       "13                  0.0                  3.0                       6.0  ...   \n",
       "114                 4.0                  1.0                      11.0  ...   \n",
       "130                11.0                 12.0                      11.0  ...   \n",
       "171                 9.0                  2.0                      16.0  ...   \n",
       "211                 0.0                  1.0                      33.0  ...   \n",
       "\n",
       "     distinct_cashins_2m_prev  ratio_amt_drawn_mom  ratio_amt_cashin_mom  \\\n",
       "13                        0.0                  0.0                523.32   \n",
       "114                       0.0                  0.0                996.66   \n",
       "130                       0.0                  0.0                699.00   \n",
       "171                       0.0                  0.0                908.00   \n",
       "211                       0.0                  0.0                196.66   \n",
       "\n",
       "     ratio_count_drawn_mom  ratio_count_cashin_mom  pilot_flag  \\\n",
       "13                     0.0                     3.0           1   \n",
       "114                    0.0                     1.0           1   \n",
       "130                    0.0                     1.0           1   \n",
       "171                    0.0                     1.0           1   \n",
       "211                    0.0                     2.0           1   \n",
       "\n",
       "     pilot_period_flag  rs2_bin  rs2_score  DPD_plus_15  \n",
       "13                   0      2.0      330.0          0.0  \n",
       "114                  0      3.0      498.0          0.0  \n",
       "130                  0      4.0      687.0          0.0  \n",
       "171                  0      4.0      625.0          0.0  \n",
       "211                  0      2.0      326.0          0.0  \n",
       "\n",
       "[5 rows x 124 columns]"
      ]
     },
     "execution_count": 11,
     "metadata": {},
     "output_type": "execute_result"
    }
   ],
   "source": [
    "df_raw = df.copy()\n",
    "df2 = df.copy()\n",
    "df_raw.head()"
   ]
  },
  {
   "cell_type": "markdown",
   "metadata": {},
   "source": [
    "#### Data Preprocessing"
   ]
  },
  {
   "cell_type": "code",
   "execution_count": 12,
   "metadata": {},
   "outputs": [
    {
     "name": "stdout",
     "output_type": "stream",
     "text": [
      "x_train.shape = (1878, 123) | y_train.shape = (1878,) | x_test.shape = (806, 123) | y_test.shape = (806,)\n"
     ]
    }
   ],
   "source": [
    "x_train, y_train, x_test, y_test = mb.split_test_train(df_raw, target_column='DPD_plus_15', test_size=0.3, random_state = seed)\n",
    "print(f'{x_train.shape = }', '|' ,f'{y_train.shape = }', '|' ,f'{x_test.shape = }', '|' ,f'{y_test.shape = }')\n",
    "\n",
    "\n",
    "# copy to df\n",
    "df = x_train.copy(deep=True)"
   ]
  },
  {
   "cell_type": "code",
   "execution_count": 13,
   "metadata": {},
   "outputs": [],
   "source": [
    "df.drop(['business_id','due_date','emi_no','pilot_flag','pilot_period_flag','rs2_bin','rs2_score'],axis=1,inplace=True)"
   ]
  },
  {
   "cell_type": "code",
   "execution_count": 14,
   "metadata": {},
   "outputs": [
    {
     "data": {
      "text/plain": [
       "{'int64': 5, 'float64': 111}"
      ]
     },
     "execution_count": 14,
     "metadata": {},
     "output_type": "execute_result"
    }
   ],
   "source": [
    "# get datatypes frequency\n",
    "def get_datatypes_freq(df):\n",
    "    type_dct = {str(k): list(v) for k, v in df.groupby(df.dtypes, axis=1)}\n",
    "    type_dct_info = {k: len(v) for k, v in type_dct.items()}\n",
    "    return type_dct, type_dct_info\n",
    "\n",
    "type_dct, type_dct_info = get_datatypes_freq(df)\n",
    "type_dct_info"
   ]
  },
  {
   "cell_type": "markdown",
   "metadata": {},
   "source": [
    "#### Treat missing features"
   ]
  },
  {
   "cell_type": "code",
   "execution_count": 15,
   "metadata": {},
   "outputs": [
    {
     "data": {
      "text/plain": [
       "(0, 1)"
      ]
     },
     "execution_count": 15,
     "metadata": {},
     "output_type": "execute_result"
    }
   ],
   "source": [
    "null_df = pd.DataFrame(df.isnull().sum().sort_values(ascending=False),columns = ['null_count'])\n",
    "null_df = null_df[null_df['null_count']>0]\n",
    "null_df.shape"
   ]
  },
  {
   "cell_type": "markdown",
   "metadata": {},
   "source": [
    "#### Columns except for booleans"
   ]
  },
  {
   "cell_type": "code",
   "execution_count": 16,
   "metadata": {},
   "outputs": [
    {
     "data": {
      "text/plain": [
       "113"
      ]
     },
     "execution_count": 16,
     "metadata": {},
     "output_type": "execute_result"
    }
   ],
   "source": [
    "# get boolean columns\n",
    "def findbool(df):\n",
    "    bool_arr = []\n",
    "    for col in df.columns: \n",
    "        if (len(df[col].unique())<=2):\n",
    "            bool_arr.append(col)\n",
    "    return(bool_arr)\n",
    "\n",
    "bool_col_list = findbool(df)\n",
    "len(bool_col_list)\n",
    "\n",
    "type_dct, type_dct_info = get_datatypes_freq(df)\n",
    "col_list = (type_dct['int64'] + type_dct['float64'])\n",
    "col_list_excpt_bool = [column for column in col_list if column not in bool_col_list]\n",
    "len(col_list_excpt_bool)"
   ]
  },
  {
   "cell_type": "markdown",
   "metadata": {},
   "source": [
    "#### Store train data params for substitution in test"
   ]
  },
  {
   "cell_type": "code",
   "execution_count": 17,
   "metadata": {},
   "outputs": [],
   "source": [
    "data_params = pd.DataFrame(columns=['feature', 'median', 'lower_limit', 'upper_limit'])\n",
    "data_params['feature'] = col_list_excpt_bool\n",
    "data_params['median'] = df[col_list_excpt_bool].median().values\n",
    "data_params['lower_limit'] = df[col_list_excpt_bool].quantile([0.01, 0.99]).values[0]\n",
    "data_params['upper_limit'] = df[col_list_excpt_bool].quantile([0.01, 0.99]).values[1]"
   ]
  },
  {
   "cell_type": "markdown",
   "metadata": {},
   "source": [
    "#### Min Max Capping"
   ]
  },
  {
   "cell_type": "code",
   "execution_count": 18,
   "metadata": {},
   "outputs": [],
   "source": [
    "df_info = pd.DataFrame(columns=['feature', 'lower_cap', 'upper_cap', 'lower_values_capped', 'upper_values_capped'])\n",
    "df_info['feature'] = col_list_excpt_bool\n",
    "for col in col_list_excpt_bool:\n",
    "    percentiles = df[col].quantile([0.01, 0.99]).values\n",
    "    df_info.loc[df_info['feature'] == col, 'lower_cap'] = percentiles[0]\n",
    "    df_info.loc[df_info['feature'] == col, 'upper_cap'] = percentiles[1]\n",
    "    df_info.loc[df_info['feature'] == col, 'lower_values_capped'] = df[col][df[col] < percentiles[0]].shape[0]/df.shape[0]\n",
    "    df_info.loc[df_info['feature'] == col, 'upper_values_capped'] = df[col][df[col] > percentiles[1]].shape[0]/df.shape[0]\n",
    "    df[col][df[col] < percentiles[0]] = percentiles[0]\n",
    "    df[col][df[col] > percentiles[1]] = percentiles[1]"
   ]
  },
  {
   "cell_type": "code",
   "execution_count": 19,
   "metadata": {},
   "outputs": [
    {
     "data": {
      "text/html": [
       "<div>\n",
       "<style scoped>\n",
       "    .dataframe tbody tr th:only-of-type {\n",
       "        vertical-align: middle;\n",
       "    }\n",
       "\n",
       "    .dataframe tbody tr th {\n",
       "        vertical-align: top;\n",
       "    }\n",
       "\n",
       "    .dataframe thead th {\n",
       "        text-align: right;\n",
       "    }\n",
       "</style>\n",
       "<table border=\"1\" class=\"dataframe\">\n",
       "  <thead>\n",
       "    <tr style=\"text-align: right;\">\n",
       "      <th></th>\n",
       "      <th>feature</th>\n",
       "      <th>lower_cap</th>\n",
       "      <th>upper_cap</th>\n",
       "      <th>lower_values_capped</th>\n",
       "      <th>upper_values_capped</th>\n",
       "    </tr>\n",
       "  </thead>\n",
       "  <tbody>\n",
       "    <tr>\n",
       "      <th>56</th>\n",
       "      <td>ratio_debit_credit_2m</td>\n",
       "      <td>0.4622</td>\n",
       "      <td>3.647596</td>\n",
       "      <td>0.010117</td>\n",
       "      <td>0.010117</td>\n",
       "    </tr>\n",
       "    <tr>\n",
       "      <th>49</th>\n",
       "      <td>amount_debited_2m</td>\n",
       "      <td>565.0342</td>\n",
       "      <td>298531.42</td>\n",
       "      <td>0.010117</td>\n",
       "      <td>0.00852</td>\n",
       "    </tr>\n",
       "    <tr>\n",
       "      <th>41</th>\n",
       "      <td>credit_size_2m</td>\n",
       "      <td>61.51805</td>\n",
       "      <td>6498.483636</td>\n",
       "      <td>0.010117</td>\n",
       "      <td>0.010117</td>\n",
       "    </tr>\n",
       "    <tr>\n",
       "      <th>43</th>\n",
       "      <td>stddev_amount_credited_2m</td>\n",
       "      <td>29.609353</td>\n",
       "      <td>6554.908214</td>\n",
       "      <td>0.010117</td>\n",
       "      <td>0.004792</td>\n",
       "    </tr>\n",
       "    <tr>\n",
       "      <th>44</th>\n",
       "      <td>amount_debited_1m</td>\n",
       "      <td>23.6652</td>\n",
       "      <td>185308.56</td>\n",
       "      <td>0.010117</td>\n",
       "      <td>0.009052</td>\n",
       "    </tr>\n",
       "    <tr>\n",
       "      <th>...</th>\n",
       "      <td>...</td>\n",
       "      <td>...</td>\n",
       "      <td>...</td>\n",
       "      <td>...</td>\n",
       "      <td>...</td>\n",
       "    </tr>\n",
       "    <tr>\n",
       "      <th>30</th>\n",
       "      <td>pd_deposit_size_2m</td>\n",
       "      <td>0.0</td>\n",
       "      <td>3786.78484</td>\n",
       "      <td>0.0</td>\n",
       "      <td>0.010117</td>\n",
       "    </tr>\n",
       "    <tr>\n",
       "      <th>29</th>\n",
       "      <td>mrdc_credit_size_1m</td>\n",
       "      <td>0.0</td>\n",
       "      <td>5405.598</td>\n",
       "      <td>0.0</td>\n",
       "      <td>0.010117</td>\n",
       "    </tr>\n",
       "    <tr>\n",
       "      <th>28</th>\n",
       "      <td>card_withdrawal_size_1m</td>\n",
       "      <td>0.0</td>\n",
       "      <td>613.204797</td>\n",
       "      <td>0.0</td>\n",
       "      <td>0.010117</td>\n",
       "    </tr>\n",
       "    <tr>\n",
       "      <th>27</th>\n",
       "      <td>ach_credit_size_1m</td>\n",
       "      <td>0.0</td>\n",
       "      <td>6738.905795</td>\n",
       "      <td>0.0</td>\n",
       "      <td>0.010117</td>\n",
       "    </tr>\n",
       "    <tr>\n",
       "      <th>112</th>\n",
       "      <td>ratio_count_cashin_mom</td>\n",
       "      <td>0.0</td>\n",
       "      <td>7.0</td>\n",
       "      <td>0.0</td>\n",
       "      <td>0.007987</td>\n",
       "    </tr>\n",
       "  </tbody>\n",
       "</table>\n",
       "<p>113 rows × 5 columns</p>\n",
       "</div>"
      ],
      "text/plain": [
       "                       feature  lower_cap    upper_cap lower_values_capped  \\\n",
       "56       ratio_debit_credit_2m     0.4622     3.647596            0.010117   \n",
       "49           amount_debited_2m   565.0342    298531.42            0.010117   \n",
       "41              credit_size_2m   61.51805  6498.483636            0.010117   \n",
       "43   stddev_amount_credited_2m  29.609353  6554.908214            0.010117   \n",
       "44           amount_debited_1m    23.6652    185308.56            0.010117   \n",
       "..                         ...        ...          ...                 ...   \n",
       "30          pd_deposit_size_2m        0.0   3786.78484                 0.0   \n",
       "29         mrdc_credit_size_1m        0.0     5405.598                 0.0   \n",
       "28     card_withdrawal_size_1m        0.0   613.204797                 0.0   \n",
       "27          ach_credit_size_1m        0.0  6738.905795                 0.0   \n",
       "112     ratio_count_cashin_mom        0.0          7.0                 0.0   \n",
       "\n",
       "    upper_values_capped  \n",
       "56             0.010117  \n",
       "49              0.00852  \n",
       "41             0.010117  \n",
       "43             0.004792  \n",
       "44             0.009052  \n",
       "..                  ...  \n",
       "30             0.010117  \n",
       "29             0.010117  \n",
       "28             0.010117  \n",
       "27             0.010117  \n",
       "112            0.007987  \n",
       "\n",
       "[113 rows x 5 columns]"
      ]
     },
     "execution_count": 19,
     "metadata": {},
     "output_type": "execute_result"
    }
   ],
   "source": [
    "df_info.sort_values(by='lower_values_capped', ascending=False)"
   ]
  },
  {
   "cell_type": "markdown",
   "metadata": {},
   "source": [
    "#### Standardisation"
   ]
  },
  {
   "cell_type": "code",
   "execution_count": 20,
   "metadata": {},
   "outputs": [
    {
     "data": {
      "text/plain": [
       "(1878, 116)"
      ]
     },
     "execution_count": 20,
     "metadata": {},
     "output_type": "execute_result"
    }
   ],
   "source": [
    "# reset index\n",
    "df.reset_index(drop=True, inplace=True)\n",
    "df_trans = df.copy()\n",
    "# scaling\n",
    "transformer = StandardScaler().fit(df[col_list_excpt_bool])\n",
    "\n",
    "df[col_list_excpt_bool] = pd.DataFrame(transformer.transform(df[col_list_excpt_bool]), columns=col_list_excpt_bool)\n",
    "df.shape"
   ]
  },
  {
   "cell_type": "markdown",
   "metadata": {},
   "source": [
    "#### IV & WOE"
   ]
  },
  {
   "cell_type": "code",
   "execution_count": 21,
   "metadata": {},
   "outputs": [
    {
     "name": "stdout",
     "output_type": "stream",
     "text": [
      "Information value of od_count_1m is 0.704274\n",
      "Information value of zero_balance_count_1m is 0.996243\n",
      "Information value of od_count_2m is 0.940708\n",
      "Information value of zero_balance_count_2m is 0.986883\n",
      "Information value of DPD_plus_3_last_2 is 0.731365\n",
      "Information value of count_pd_deposit_1m is 0.048168\n",
      "Information value of count_ach_debit_1m is 0.022856\n",
      "Information value of count_ach_credit_1m is 0.050983\n",
      "Information value of count_card_withdrawal_1m is 0.336178\n",
      "Information value of count_mrdc_credit_1m is 0.02997\n",
      "Information value of count_pd_deposit_2m is 0.065731\n",
      "Information value of count_ach_debit_2m is 0.027075\n",
      "Information value of count_ach_credit_2m is 0.024976\n",
      "Information value of count_card_withdrawal_2m is 0.360557\n",
      "Information value of count_mrdc_credit_2m is 0.014754\n",
      "Information value of amount_pd_deposit_1m is 0.065939\n",
      "Information value of amount_ach_debit_1m is 0.014522\n",
      "Information value of amount_ach_credit_1m is 0.020795\n",
      "Information value of amount_card_withdrawal_1m is 0.263874\n",
      "Information value of amount_mrdc_credit_1m is 0.006761\n",
      "Information value of amount_pd_deposit_2m is 0.049648\n",
      "Information value of amount_ach_debit_2m is 0.012973\n",
      "Information value of amount_ach_credit_2m is 0.032501\n",
      "Information value of amount_card_withdrawal_2m is 0.227671\n",
      "Information value of amount_mrdc_credit_2m is 4.3e-05\n",
      "Information value of pd_deposit_size_1m is 0.070694\n",
      "Information value of ach_debit_size_1m is 0.02117\n",
      "Information value of ach_credit_size_1m is 0.025044\n",
      "Information value of card_withdrawal_size_1m is 0.081298\n",
      "Information value of mrdc_credit_size_1m is 0.007497\n",
      "Information value of pd_deposit_size_2m is 0.058986\n",
      "Information value of ach_debit_size_2m is 0.039885\n",
      "Information value of ach_credit_size_2m is 0.027713\n",
      "Information value of card_withdrawal_size_2m is 0.043647\n",
      "Information value of mrdc_credit_size_2m is 0.010239\n",
      "Information value of amount_credited_1m is 0.046219\n",
      "Information value of distinct_credit_txns_1m is 0.093434\n",
      "Information value of credit_size_1m is 0.067625\n",
      "Information value of stddev_amount_credited_1m is 0.090008\n",
      "Information value of amount_credited_2m is 0.019811\n",
      "Information value of distinct_credit_txns_2m is 0.08789\n",
      "Information value of credit_size_2m is 0.023002\n",
      "Information value of median_amount_credited_2m is 0.0\n",
      "Information value of stddev_amount_credited_2m is 0.081397\n",
      "Information value of amount_debited_1m is 0.041928\n",
      "Information value of distinct_debit_txns_1m is 0.285996\n",
      "Information value of debit_size_1m is 0.203242\n",
      "Information value of median_amount_debited_1m is 0.0\n",
      "Information value of stddev_amount_debited_1m is 0.05722\n",
      "Information value of amount_debited_2m is 0.051683\n",
      "Information value of distinct_debit_txns_2m is 0.264013\n",
      "Information value of debit_size_2m is 0.200935\n",
      "Information value of median_amount_debited_2m is 0.188216\n",
      "Information value of stddev_amount_debited_2m is 0.032326\n",
      "Information value of ratio_debit_credit_1m is 0.089498\n",
      "Information value of ratio_debit_credit_frequency_1m is 0.249338\n",
      "Information value of ratio_debit_credit_2m is 0.140431\n",
      "Information value of ratio_debit_credit_frequency_2m is 0.270636\n",
      "Information value of ratio_pd_amt_total_credit_1m is 0.06637\n",
      "Information value of ratio_ach_debit_total_debit_1m is 0.050227\n",
      "Information value of ratio_ach_credit_total_credit_1m is 0.188269\n",
      "Information value of ratio_card_withdrawal_total_debit_1m is 0.182999\n",
      "Information value of ratio_mrdc_credit_total_credit_1m is 0.001056\n",
      "Information value of ratio_pd_amt_total_credit_2m is 0.077636\n",
      "Information value of ratio_ach_debit_total_debit_2m is 0.163293\n",
      "Information value of ratio_ach_credit_total_credit_2m is 0.092751\n",
      "Information value of ratio_card_withdrawal_total_debit_2m is 0.231176\n",
      "Information value of ratio_mrdc_credit_total_credit_2m is 0.000709\n",
      "Information value of ratio_pd_freq_total_credit_1m is 0.062634\n",
      "Information value of ratio_ach_debit_freq_total_debit_1m is 0.239675\n",
      "Information value of ratio_ach_credit_freq_total_credit_1m is 0.260095\n",
      "Information value of ratio_card_withdrawal_freq_total_debit_1m is 0.231162\n",
      "Information value of ratio_mrdc_credit_freq_total_credit_1m is 0.003996\n",
      "Information value of ratio_pd_freq_total_credit_2m is 0.035199\n",
      "Information value of ratio_ach_debit_freq_total_debit_2m is 0.266496\n",
      "Information value of ratio_ach_credit_freq_total_credit_2m is 0.187111\n",
      "Information value of ratio_card_withdrawal_freq_total_debit_2m is 0.293664\n",
      "Information value of ratio_mrdc_credit_freq_total_credit_2m is 0.014622\n",
      "Information value of ratio_ach_debit_credit_1m is 0.017591\n",
      "Information value of ratio_ach_debit_credit_2m is 0.038966\n",
      "Information value of ratio_ach_debit_credit_freq_1m is 0.022145\n",
      "Information value of ratio_ach_debit_credit_freq_2m is 0.039874\n",
      "Information value of ach_d_size_1m is 0.02117\n",
      "Information value of ach_d_size_2m is 0.039885\n",
      "Information value of ach_c_size_1m is 0.025044\n",
      "Information value of ach_c_size_2m is 0.027713\n",
      "Information value of avg_running_balance_1m is 0.862653\n",
      "Information value of median_running_balance_1m is 0.735591\n",
      "Information value of stddev_running_balance_1m is 0.188989\n",
      "Information value of avg_running_balance_2m is 0.893858\n",
      "Information value of median_running_balance_2m is 0.738832\n",
      "Information value of stddev_running_balance_2m is 0.182767\n",
      "Information value of avg_running_balance_2nd_m is 0.439062\n",
      "Information value of median_running_balance_2nd_m is 0.405415\n",
      "Information value of stddev_running_balance_2nd_m is 0.107237\n",
      "Information value of ratio_avg_running_balance_1m_2m is 0.591977\n",
      "Information value of revenue_past_1m is 0.452699\n",
      "Information value of revenue_past_2m is 0.169676\n",
      "Information value of total_revenue_2m is 0.395987\n",
      "Information value of ratio_revenue_1m_2m is 0.183264\n",
      "Information value of credit_limit is 0.283816\n",
      "Information value of amount_drawn_1m_prev is 0.036836\n",
      "Information value of amount_drawn_2m_prev is 0.118625\n",
      "Information value of amount_cashin_1m_prev is 0.034489\n",
      "Information value of amount_cashin_2m_prev is 0.106413\n",
      "Information value of distinct_draws_1m_prev is 0.037574\n",
      "Information value of distinct_draws_2m_prev is 0.104665\n",
      "Information value of distinct_cashins_1m_prev is 0.024139\n",
      "Information value of distinct_cashins_2m_prev is 0.182335\n",
      "Information value of ratio_amt_drawn_mom is 0.022221\n",
      "Information value of ratio_amt_cashin_mom is 0.15615\n",
      "Information value of ratio_count_drawn_mom is 0.011138\n",
      "Information value of ratio_count_cashin_mom is 0.119286\n"
     ]
    },
    {
     "data": {
      "text/plain": [
       "87"
      ]
     },
     "execution_count": 21,
     "metadata": {},
     "output_type": "execute_result"
    }
   ],
   "source": [
    "def iv_woe(data, target, bins=10, show_woe=False):\n",
    "    \n",
    "    #Empty Dataframe\n",
    "    newDF,woeDF = pd.DataFrame(), pd.DataFrame()\n",
    "    \n",
    "    #Extract Column Names\n",
    "    cols = data.columns\n",
    "    \n",
    "    #Run WOE and IV on all the independent variables\n",
    "    for ivars in cols[~cols.isin([target])]:\n",
    "        if (data[ivars].dtype.kind in 'bifc') and (len(np.unique(data[ivars]))>10):\n",
    "            binned_x = pd.qcut(data[ivars], bins,  duplicates='drop')\n",
    "            d0 = pd.DataFrame({'x': binned_x, 'y': data[target]})\n",
    "        else:\n",
    "            d0 = pd.DataFrame({'x': data[ivars], 'y': data[target]})\n",
    "\n",
    "        \n",
    "        # Calculate the number of events in each group (bin)\n",
    "        d = d0.groupby(\"x\", as_index=False).agg({\"y\": [\"count\", \"sum\"]})\n",
    "        d.columns = ['Cutoff', 'N', 'Events']\n",
    "        \n",
    "        # Calculate % of events in each group.\n",
    "        d['% of Events'] = np.maximum(d['Events'], 0.5) / d['Events'].sum()\n",
    "\n",
    "        # Calculate the non events in each group.\n",
    "        d['Non-Events'] = d['N'] - d['Events']\n",
    "        # Calculate % of non events in each group.\n",
    "        d['% of Non-Events'] = np.maximum(d['Non-Events'], 0.5) / d['Non-Events'].sum()\n",
    "\n",
    "        # Calculate WOE by taking natural log of division of % of non-events and % of events\n",
    "        d['WoE'] = np.log(d['% of Events']/d['% of Non-Events'])\n",
    "        d['IV'] = d['WoE'] * (d['% of Events'] - d['% of Non-Events'])\n",
    "        d.insert(loc=0, column='Variable', value=ivars)\n",
    "        print(\"Information value of \" + ivars + \" is \" + str(round(d['IV'].sum(),6)))\n",
    "        temp =pd.DataFrame({\"Variable\" : [ivars], \"IV\" : [d['IV'].sum()]}, columns = [\"Variable\", \"IV\"])\n",
    "        newDF=pd.concat([newDF,temp], axis=0)\n",
    "        woeDF=pd.concat([woeDF,d], axis=0)\n",
    "\n",
    "        #Show WOE Table\n",
    "        if show_woe == True:\n",
    "            print(d)\n",
    "    return newDF, woeDF\n",
    "\n",
    "# remove features on basis of IV\n",
    "y_train.reset_index(drop=True, inplace=True)\n",
    "df['DPD_plus_15'] = y_train\n",
    "temp = df.copy()\n",
    "t1, t2 = iv_woe(temp[np.append(col_list_excpt_bool,['DPD_plus_15'])], 'DPD_plus_15', bins=5, show_woe=False)\n",
    "feature_list = list(t1[ (t1['IV']<iv_upper_limit) & (t1['IV']>iv_lower_limit) ]['Variable'].values)\n",
    "len(feature_list)"
   ]
  },
  {
   "cell_type": "markdown",
   "metadata": {},
   "source": [
    "#### Correlation & VIF"
   ]
  },
  {
   "cell_type": "code",
   "execution_count": 22,
   "metadata": {},
   "outputs": [
    {
     "data": {
      "text/html": [
       "<div>\n",
       "<style scoped>\n",
       "    .dataframe tbody tr th:only-of-type {\n",
       "        vertical-align: middle;\n",
       "    }\n",
       "\n",
       "    .dataframe tbody tr th {\n",
       "        vertical-align: top;\n",
       "    }\n",
       "\n",
       "    .dataframe thead th {\n",
       "        text-align: right;\n",
       "    }\n",
       "</style>\n",
       "<table border=\"1\" class=\"dataframe\">\n",
       "  <thead>\n",
       "    <tr style=\"text-align: right;\">\n",
       "      <th></th>\n",
       "      <th>feature_1</th>\n",
       "      <th>feature_2</th>\n",
       "      <th>corr</th>\n",
       "    </tr>\n",
       "  </thead>\n",
       "  <tbody>\n",
       "    <tr>\n",
       "      <th>0</th>\n",
       "      <td>count_pd_deposit_1m</td>\n",
       "      <td>count_ach_debit_1m</td>\n",
       "      <td>0.461816</td>\n",
       "    </tr>\n",
       "    <tr>\n",
       "      <th>1</th>\n",
       "      <td>count_pd_deposit_1m</td>\n",
       "      <td>count_ach_credit_1m</td>\n",
       "      <td>0.671690</td>\n",
       "    </tr>\n",
       "    <tr>\n",
       "      <th>2</th>\n",
       "      <td>count_pd_deposit_1m</td>\n",
       "      <td>count_card_withdrawal_1m</td>\n",
       "      <td>0.438705</td>\n",
       "    </tr>\n",
       "    <tr>\n",
       "      <th>3</th>\n",
       "      <td>count_pd_deposit_1m</td>\n",
       "      <td>count_pd_deposit_2m</td>\n",
       "      <td>0.974215</td>\n",
       "    </tr>\n",
       "    <tr>\n",
       "      <th>4</th>\n",
       "      <td>count_pd_deposit_1m</td>\n",
       "      <td>count_ach_debit_2m</td>\n",
       "      <td>0.435830</td>\n",
       "    </tr>\n",
       "    <tr>\n",
       "      <th>...</th>\n",
       "      <td>...</td>\n",
       "      <td>...</td>\n",
       "      <td>...</td>\n",
       "    </tr>\n",
       "    <tr>\n",
       "      <th>1769</th>\n",
       "      <td>ratio_amt_cashin_mom</td>\n",
       "      <td>ratio_count_cashin_mom</td>\n",
       "      <td>0.512433</td>\n",
       "    </tr>\n",
       "    <tr>\n",
       "      <th>1770</th>\n",
       "      <td>ratio_count_cashin_mom</td>\n",
       "      <td>amount_drawn_2m_prev</td>\n",
       "      <td>0.324400</td>\n",
       "    </tr>\n",
       "    <tr>\n",
       "      <th>1771</th>\n",
       "      <td>ratio_count_cashin_mom</td>\n",
       "      <td>distinct_draws_2m_prev</td>\n",
       "      <td>0.374013</td>\n",
       "    </tr>\n",
       "    <tr>\n",
       "      <th>1772</th>\n",
       "      <td>ratio_count_cashin_mom</td>\n",
       "      <td>distinct_cashins_1m_prev</td>\n",
       "      <td>0.774902</td>\n",
       "    </tr>\n",
       "    <tr>\n",
       "      <th>1773</th>\n",
       "      <td>ratio_count_cashin_mom</td>\n",
       "      <td>ratio_amt_cashin_mom</td>\n",
       "      <td>0.512433</td>\n",
       "    </tr>\n",
       "  </tbody>\n",
       "</table>\n",
       "<p>1774 rows × 3 columns</p>\n",
       "</div>"
      ],
      "text/plain": [
       "                   feature_1                 feature_2      corr\n",
       "0        count_pd_deposit_1m        count_ach_debit_1m  0.461816\n",
       "1        count_pd_deposit_1m       count_ach_credit_1m  0.671690\n",
       "2        count_pd_deposit_1m  count_card_withdrawal_1m  0.438705\n",
       "3        count_pd_deposit_1m       count_pd_deposit_2m  0.974215\n",
       "4        count_pd_deposit_1m        count_ach_debit_2m  0.435830\n",
       "...                      ...                       ...       ...\n",
       "1769    ratio_amt_cashin_mom    ratio_count_cashin_mom  0.512433\n",
       "1770  ratio_count_cashin_mom      amount_drawn_2m_prev  0.324400\n",
       "1771  ratio_count_cashin_mom    distinct_draws_2m_prev  0.374013\n",
       "1772  ratio_count_cashin_mom  distinct_cashins_1m_prev  0.774902\n",
       "1773  ratio_count_cashin_mom      ratio_amt_cashin_mom  0.512433\n",
       "\n",
       "[1774 rows x 3 columns]"
      ]
     },
     "execution_count": 22,
     "metadata": {},
     "output_type": "execute_result"
    }
   ],
   "source": [
    "# view correlation\n",
    "corr_df, subset_df = sel.get_correlated_features(df, feature_list, thresh=corr_arr)\n",
    "corr_df"
   ]
  },
  {
   "cell_type": "code",
   "execution_count": 23,
   "metadata": {},
   "outputs": [
    {
     "data": {
      "text/plain": [
       "18"
      ]
     },
     "execution_count": 23,
     "metadata": {},
     "output_type": "execute_result"
    }
   ],
   "source": [
    "# remove correlated features\n",
    "feature_list = sel.corr_iter(df, np.array(feature_list), thresh=corr_arr)\n",
    "feature_list = list(feature_list)\n",
    "len(feature_list)"
   ]
  },
  {
   "cell_type": "code",
   "execution_count": 24,
   "metadata": {},
   "outputs": [
    {
     "data": {
      "text/plain": [
       "17"
      ]
     },
     "execution_count": 24,
     "metadata": {},
     "output_type": "execute_result"
    }
   ],
   "source": [
    "# get feature list after iterative VIF elimination\n",
    "from statsmodels.stats.outliers_influence import variance_inflation_factor\n",
    "\n",
    "def vif_iter(df, iv, threshold=10):\n",
    "    vif_data = pd.DataFrame()\n",
    "    vif_data[\"feature\"] = iv\n",
    "    vif_data[\"VIF\"] = [variance_inflation_factor(df[iv].values, i) for i in range(len(iv))]\n",
    "    if len(vif_data[vif_data['VIF'] == np.inf]) > 0:\n",
    "        feature = vif_data[vif_data['VIF'] == np.inf]['feature'].iloc[0]\n",
    "        iv.remove(feature)\n",
    "        vif_iter(df, iv, threshold)\n",
    "    elif len(vif_data[vif_data['VIF'] > threshold]) > 0:\n",
    "        feature = vif_data.sort_values(by='VIF', ascending=False)['feature'].iloc[0]\n",
    "        iv.remove(feature)\n",
    "        vif_iter(df, iv, threshold)\n",
    "    vif_data = pd.DataFrame()\n",
    "    vif_data[\"feature\"] = iv\n",
    "    vif_data[\"VIF\"] = [variance_inflation_factor(df[iv].values, i) for i in range(len(iv))]\n",
    "    return iv, vif_data\n",
    "\n",
    "feature_list, vif_df = vif_iter(df, feature_list, threshold=vif_arr)\n",
    "len(feature_list)"
   ]
  },
  {
   "cell_type": "markdown",
   "metadata": {},
   "source": [
    "#### Forward Feature Selection"
   ]
  },
  {
   "cell_type": "code",
   "execution_count": 25,
   "metadata": {},
   "outputs": [
    {
     "data": {
      "text/plain": [
       "['distinct_debit_txns_1m',\n",
       " 'median_amount_debited_2m',\n",
       " 'ratio_debit_credit_2m',\n",
       " 'ratio_ach_credit_freq_total_credit_1m',\n",
       " 'ratio_ach_debit_credit_freq_1m',\n",
       " 'median_running_balance_2nd_m',\n",
       " 'ratio_revenue_1m_2m',\n",
       " 'distinct_cashins_1m_prev',\n",
       " 'ratio_amt_drawn_mom',\n",
       " 'ratio_amt_cashin_mom']"
      ]
     },
     "execution_count": 25,
     "metadata": {},
     "output_type": "execute_result"
    }
   ],
   "source": [
    "logit = LogisticRegression(penalty='l2', solver='liblinear', class_weight = class_weight_dict, random_state = seed)\n",
    "feat_list = ft.move_feature_selection(df[feature_list], y_train, num_features=features_arr,model=logit,forward = True)\n",
    "feat_list"
   ]
  },
  {
   "cell_type": "code",
   "execution_count": 26,
   "metadata": {},
   "outputs": [],
   "source": [
    "# feat_list = ['card_withdrawal_size_2m',\n",
    "#  'distinct_debit_txns_2m',\n",
    "#  'ratio_debit_credit_2m',\n",
    "#  'ratio_ach_debit_total_debit_2m',\n",
    "#  'ratio_ach_credit_total_credit_2m',\n",
    "#  'ratio_pd_freq_total_credit_1m',\n",
    "#  'avg_running_balance_2nd_m',\n",
    "#  'distinct_cashins_2m_prev',\n",
    "#  'ratio_amt_drawn_mom']"
   ]
  },
  {
   "cell_type": "markdown",
   "metadata": {},
   "source": [
    "#### Fit Model"
   ]
  },
  {
   "cell_type": "code",
   "execution_count": 27,
   "metadata": {},
   "outputs": [],
   "source": [
    "# hyperparameters\n",
    "params_log_reg = {'penalty': 'l2',\n",
    "                  'random_state': seed,\n",
    "                  'solver': 'liblinear',\n",
    "                  'class_weight': class_weight_dict}\n",
    "\n",
    "# model fit\n",
    "logreg_model = mb.classification_models(df[feat_list], y_train, params_log_reg, models=['log_reg'])"
   ]
  },
  {
   "cell_type": "code",
   "execution_count": 28,
   "metadata": {},
   "outputs": [
    {
     "name": "stdout",
     "output_type": "stream",
     "text": [
      "CV Scores - [0.67 0.73 0.77 0.82 0.67]\n",
      "Mean of CV Scores - 0.73\n"
     ]
    }
   ],
   "source": [
    "# train cv scores\n",
    "cv_scores = mm.cross_validation(logreg_model, df[feat_list], y_train, scoring='roc_auc', folds=5, seed=seed)\n",
    "print('CV Scores -',np.round(cv_scores, 2))\n",
    "print('Mean of CV Scores -',np.round(np.mean(cv_scores),2))"
   ]
  },
  {
   "cell_type": "code",
   "execution_count": 29,
   "metadata": {},
   "outputs": [
    {
     "name": "stdout",
     "output_type": "stream",
     "text": [
      "Accuracy Score: 0.66 \n",
      "\n",
      "AUC: 0.7 \n",
      "\n"
     ]
    },
    {
     "data": {
      "text/plain": [
       "{'df_tag': 1,\n",
       " 'accuracy_score': 0.66,\n",
       " 'FPR': 0.35,\n",
       " 'TPR': 0.76,\n",
       " 'AUC': 0.7,\n",
       " 'Sensitivity': 0.76,\n",
       " 'Specificity': 0.65,\n",
       " 'KS Stat': KstestResult(statistic=0.30724174653887115, pvalue=1.1803173784725213e-78)}"
      ]
     },
     "execution_count": 29,
     "metadata": {},
     "output_type": "execute_result"
    }
   ],
   "source": [
    "# train score\n",
    "mm.model_metrics(logreg_model.predict(df[feat_list]), np.array(y_train), logreg_model.predict_proba(df[feat_list]),tag=1)"
   ]
  },
  {
   "cell_type": "markdown",
   "metadata": {},
   "source": [
    "#### Feature Importance"
   ]
  },
  {
   "cell_type": "code",
   "execution_count": 30,
   "metadata": {},
   "outputs": [
    {
     "data": {
      "application/vnd.plotly.v1+json": {
       "config": {
        "plotlyServerURL": "https://plot.ly"
       },
       "data": [
        {
         "alignmentgroup": "True",
         "hovertemplate": "variable=importance<br>value=%{x}<br>index=%{y}<extra></extra>",
         "legendgroup": "importance",
         "marker": {
          "color": "#636efa",
          "pattern": {
           "shape": ""
          }
         },
         "name": "importance",
         "offsetgroup": "importance",
         "orientation": "h",
         "showlegend": true,
         "textposition": "auto",
         "type": "bar",
         "x": [
          0.42226451792799147,
          -0.7483493775012703,
          0.2810466142365417,
          -0.20423502885615102,
          -0.16754040052730074,
          -0.7425412698601659,
          -0.09420363828910315,
          0.013702846808320691,
          -0.1719971174142356,
          0.15967326734289436
         ],
         "xaxis": "x",
         "y": [
          "distinct_debit_txns_1m",
          "median_amount_debited_2m",
          "ratio_debit_credit_2m",
          "ratio_ach_credit_freq_total_credit_1m",
          "ratio_ach_debit_credit_freq_1m",
          "median_running_balance_2nd_m",
          "ratio_revenue_1m_2m",
          "distinct_cashins_1m_prev",
          "ratio_amt_drawn_mom",
          "ratio_amt_cashin_mom"
         ],
         "yaxis": "y"
        }
       ],
       "layout": {
        "barmode": "relative",
        "legend": {
         "title": {
          "text": "variable"
         },
         "tracegroupgap": 0
        },
        "margin": {
         "t": 60
        },
        "template": {
         "data": {
          "bar": [
           {
            "error_x": {
             "color": "#2a3f5f"
            },
            "error_y": {
             "color": "#2a3f5f"
            },
            "marker": {
             "line": {
              "color": "#E5ECF6",
              "width": 0.5
             },
             "pattern": {
              "fillmode": "overlay",
              "size": 10,
              "solidity": 0.2
             }
            },
            "type": "bar"
           }
          ],
          "barpolar": [
           {
            "marker": {
             "line": {
              "color": "#E5ECF6",
              "width": 0.5
             },
             "pattern": {
              "fillmode": "overlay",
              "size": 10,
              "solidity": 0.2
             }
            },
            "type": "barpolar"
           }
          ],
          "carpet": [
           {
            "aaxis": {
             "endlinecolor": "#2a3f5f",
             "gridcolor": "white",
             "linecolor": "white",
             "minorgridcolor": "white",
             "startlinecolor": "#2a3f5f"
            },
            "baxis": {
             "endlinecolor": "#2a3f5f",
             "gridcolor": "white",
             "linecolor": "white",
             "minorgridcolor": "white",
             "startlinecolor": "#2a3f5f"
            },
            "type": "carpet"
           }
          ],
          "choropleth": [
           {
            "colorbar": {
             "outlinewidth": 0,
             "ticks": ""
            },
            "type": "choropleth"
           }
          ],
          "contour": [
           {
            "colorbar": {
             "outlinewidth": 0,
             "ticks": ""
            },
            "colorscale": [
             [
              0,
              "#0d0887"
             ],
             [
              0.1111111111111111,
              "#46039f"
             ],
             [
              0.2222222222222222,
              "#7201a8"
             ],
             [
              0.3333333333333333,
              "#9c179e"
             ],
             [
              0.4444444444444444,
              "#bd3786"
             ],
             [
              0.5555555555555556,
              "#d8576b"
             ],
             [
              0.6666666666666666,
              "#ed7953"
             ],
             [
              0.7777777777777778,
              "#fb9f3a"
             ],
             [
              0.8888888888888888,
              "#fdca26"
             ],
             [
              1,
              "#f0f921"
             ]
            ],
            "type": "contour"
           }
          ],
          "contourcarpet": [
           {
            "colorbar": {
             "outlinewidth": 0,
             "ticks": ""
            },
            "type": "contourcarpet"
           }
          ],
          "heatmap": [
           {
            "colorbar": {
             "outlinewidth": 0,
             "ticks": ""
            },
            "colorscale": [
             [
              0,
              "#0d0887"
             ],
             [
              0.1111111111111111,
              "#46039f"
             ],
             [
              0.2222222222222222,
              "#7201a8"
             ],
             [
              0.3333333333333333,
              "#9c179e"
             ],
             [
              0.4444444444444444,
              "#bd3786"
             ],
             [
              0.5555555555555556,
              "#d8576b"
             ],
             [
              0.6666666666666666,
              "#ed7953"
             ],
             [
              0.7777777777777778,
              "#fb9f3a"
             ],
             [
              0.8888888888888888,
              "#fdca26"
             ],
             [
              1,
              "#f0f921"
             ]
            ],
            "type": "heatmap"
           }
          ],
          "heatmapgl": [
           {
            "colorbar": {
             "outlinewidth": 0,
             "ticks": ""
            },
            "colorscale": [
             [
              0,
              "#0d0887"
             ],
             [
              0.1111111111111111,
              "#46039f"
             ],
             [
              0.2222222222222222,
              "#7201a8"
             ],
             [
              0.3333333333333333,
              "#9c179e"
             ],
             [
              0.4444444444444444,
              "#bd3786"
             ],
             [
              0.5555555555555556,
              "#d8576b"
             ],
             [
              0.6666666666666666,
              "#ed7953"
             ],
             [
              0.7777777777777778,
              "#fb9f3a"
             ],
             [
              0.8888888888888888,
              "#fdca26"
             ],
             [
              1,
              "#f0f921"
             ]
            ],
            "type": "heatmapgl"
           }
          ],
          "histogram": [
           {
            "marker": {
             "pattern": {
              "fillmode": "overlay",
              "size": 10,
              "solidity": 0.2
             }
            },
            "type": "histogram"
           }
          ],
          "histogram2d": [
           {
            "colorbar": {
             "outlinewidth": 0,
             "ticks": ""
            },
            "colorscale": [
             [
              0,
              "#0d0887"
             ],
             [
              0.1111111111111111,
              "#46039f"
             ],
             [
              0.2222222222222222,
              "#7201a8"
             ],
             [
              0.3333333333333333,
              "#9c179e"
             ],
             [
              0.4444444444444444,
              "#bd3786"
             ],
             [
              0.5555555555555556,
              "#d8576b"
             ],
             [
              0.6666666666666666,
              "#ed7953"
             ],
             [
              0.7777777777777778,
              "#fb9f3a"
             ],
             [
              0.8888888888888888,
              "#fdca26"
             ],
             [
              1,
              "#f0f921"
             ]
            ],
            "type": "histogram2d"
           }
          ],
          "histogram2dcontour": [
           {
            "colorbar": {
             "outlinewidth": 0,
             "ticks": ""
            },
            "colorscale": [
             [
              0,
              "#0d0887"
             ],
             [
              0.1111111111111111,
              "#46039f"
             ],
             [
              0.2222222222222222,
              "#7201a8"
             ],
             [
              0.3333333333333333,
              "#9c179e"
             ],
             [
              0.4444444444444444,
              "#bd3786"
             ],
             [
              0.5555555555555556,
              "#d8576b"
             ],
             [
              0.6666666666666666,
              "#ed7953"
             ],
             [
              0.7777777777777778,
              "#fb9f3a"
             ],
             [
              0.8888888888888888,
              "#fdca26"
             ],
             [
              1,
              "#f0f921"
             ]
            ],
            "type": "histogram2dcontour"
           }
          ],
          "mesh3d": [
           {
            "colorbar": {
             "outlinewidth": 0,
             "ticks": ""
            },
            "type": "mesh3d"
           }
          ],
          "parcoords": [
           {
            "line": {
             "colorbar": {
              "outlinewidth": 0,
              "ticks": ""
             }
            },
            "type": "parcoords"
           }
          ],
          "pie": [
           {
            "automargin": true,
            "type": "pie"
           }
          ],
          "scatter": [
           {
            "fillpattern": {
             "fillmode": "overlay",
             "size": 10,
             "solidity": 0.2
            },
            "type": "scatter"
           }
          ],
          "scatter3d": [
           {
            "line": {
             "colorbar": {
              "outlinewidth": 0,
              "ticks": ""
             }
            },
            "marker": {
             "colorbar": {
              "outlinewidth": 0,
              "ticks": ""
             }
            },
            "type": "scatter3d"
           }
          ],
          "scattercarpet": [
           {
            "marker": {
             "colorbar": {
              "outlinewidth": 0,
              "ticks": ""
             }
            },
            "type": "scattercarpet"
           }
          ],
          "scattergeo": [
           {
            "marker": {
             "colorbar": {
              "outlinewidth": 0,
              "ticks": ""
             }
            },
            "type": "scattergeo"
           }
          ],
          "scattergl": [
           {
            "marker": {
             "colorbar": {
              "outlinewidth": 0,
              "ticks": ""
             }
            },
            "type": "scattergl"
           }
          ],
          "scattermapbox": [
           {
            "marker": {
             "colorbar": {
              "outlinewidth": 0,
              "ticks": ""
             }
            },
            "type": "scattermapbox"
           }
          ],
          "scatterpolar": [
           {
            "marker": {
             "colorbar": {
              "outlinewidth": 0,
              "ticks": ""
             }
            },
            "type": "scatterpolar"
           }
          ],
          "scatterpolargl": [
           {
            "marker": {
             "colorbar": {
              "outlinewidth": 0,
              "ticks": ""
             }
            },
            "type": "scatterpolargl"
           }
          ],
          "scatterternary": [
           {
            "marker": {
             "colorbar": {
              "outlinewidth": 0,
              "ticks": ""
             }
            },
            "type": "scatterternary"
           }
          ],
          "surface": [
           {
            "colorbar": {
             "outlinewidth": 0,
             "ticks": ""
            },
            "colorscale": [
             [
              0,
              "#0d0887"
             ],
             [
              0.1111111111111111,
              "#46039f"
             ],
             [
              0.2222222222222222,
              "#7201a8"
             ],
             [
              0.3333333333333333,
              "#9c179e"
             ],
             [
              0.4444444444444444,
              "#bd3786"
             ],
             [
              0.5555555555555556,
              "#d8576b"
             ],
             [
              0.6666666666666666,
              "#ed7953"
             ],
             [
              0.7777777777777778,
              "#fb9f3a"
             ],
             [
              0.8888888888888888,
              "#fdca26"
             ],
             [
              1,
              "#f0f921"
             ]
            ],
            "type": "surface"
           }
          ],
          "table": [
           {
            "cells": {
             "fill": {
              "color": "#EBF0F8"
             },
             "line": {
              "color": "white"
             }
            },
            "header": {
             "fill": {
              "color": "#C8D4E3"
             },
             "line": {
              "color": "white"
             }
            },
            "type": "table"
           }
          ]
         },
         "layout": {
          "annotationdefaults": {
           "arrowcolor": "#2a3f5f",
           "arrowhead": 0,
           "arrowwidth": 1
          },
          "autotypenumbers": "strict",
          "coloraxis": {
           "colorbar": {
            "outlinewidth": 0,
            "ticks": ""
           }
          },
          "colorscale": {
           "diverging": [
            [
             0,
             "#8e0152"
            ],
            [
             0.1,
             "#c51b7d"
            ],
            [
             0.2,
             "#de77ae"
            ],
            [
             0.3,
             "#f1b6da"
            ],
            [
             0.4,
             "#fde0ef"
            ],
            [
             0.5,
             "#f7f7f7"
            ],
            [
             0.6,
             "#e6f5d0"
            ],
            [
             0.7,
             "#b8e186"
            ],
            [
             0.8,
             "#7fbc41"
            ],
            [
             0.9,
             "#4d9221"
            ],
            [
             1,
             "#276419"
            ]
           ],
           "sequential": [
            [
             0,
             "#0d0887"
            ],
            [
             0.1111111111111111,
             "#46039f"
            ],
            [
             0.2222222222222222,
             "#7201a8"
            ],
            [
             0.3333333333333333,
             "#9c179e"
            ],
            [
             0.4444444444444444,
             "#bd3786"
            ],
            [
             0.5555555555555556,
             "#d8576b"
            ],
            [
             0.6666666666666666,
             "#ed7953"
            ],
            [
             0.7777777777777778,
             "#fb9f3a"
            ],
            [
             0.8888888888888888,
             "#fdca26"
            ],
            [
             1,
             "#f0f921"
            ]
           ],
           "sequentialminus": [
            [
             0,
             "#0d0887"
            ],
            [
             0.1111111111111111,
             "#46039f"
            ],
            [
             0.2222222222222222,
             "#7201a8"
            ],
            [
             0.3333333333333333,
             "#9c179e"
            ],
            [
             0.4444444444444444,
             "#bd3786"
            ],
            [
             0.5555555555555556,
             "#d8576b"
            ],
            [
             0.6666666666666666,
             "#ed7953"
            ],
            [
             0.7777777777777778,
             "#fb9f3a"
            ],
            [
             0.8888888888888888,
             "#fdca26"
            ],
            [
             1,
             "#f0f921"
            ]
           ]
          },
          "colorway": [
           "#636efa",
           "#EF553B",
           "#00cc96",
           "#ab63fa",
           "#FFA15A",
           "#19d3f3",
           "#FF6692",
           "#B6E880",
           "#FF97FF",
           "#FECB52"
          ],
          "font": {
           "color": "#2a3f5f"
          },
          "geo": {
           "bgcolor": "white",
           "lakecolor": "white",
           "landcolor": "#E5ECF6",
           "showlakes": true,
           "showland": true,
           "subunitcolor": "white"
          },
          "hoverlabel": {
           "align": "left"
          },
          "hovermode": "closest",
          "mapbox": {
           "style": "light"
          },
          "paper_bgcolor": "white",
          "plot_bgcolor": "#E5ECF6",
          "polar": {
           "angularaxis": {
            "gridcolor": "white",
            "linecolor": "white",
            "ticks": ""
           },
           "bgcolor": "#E5ECF6",
           "radialaxis": {
            "gridcolor": "white",
            "linecolor": "white",
            "ticks": ""
           }
          },
          "scene": {
           "xaxis": {
            "backgroundcolor": "#E5ECF6",
            "gridcolor": "white",
            "gridwidth": 2,
            "linecolor": "white",
            "showbackground": true,
            "ticks": "",
            "zerolinecolor": "white"
           },
           "yaxis": {
            "backgroundcolor": "#E5ECF6",
            "gridcolor": "white",
            "gridwidth": 2,
            "linecolor": "white",
            "showbackground": true,
            "ticks": "",
            "zerolinecolor": "white"
           },
           "zaxis": {
            "backgroundcolor": "#E5ECF6",
            "gridcolor": "white",
            "gridwidth": 2,
            "linecolor": "white",
            "showbackground": true,
            "ticks": "",
            "zerolinecolor": "white"
           }
          },
          "shapedefaults": {
           "line": {
            "color": "#2a3f5f"
           }
          },
          "ternary": {
           "aaxis": {
            "gridcolor": "white",
            "linecolor": "white",
            "ticks": ""
           },
           "baxis": {
            "gridcolor": "white",
            "linecolor": "white",
            "ticks": ""
           },
           "bgcolor": "#E5ECF6",
           "caxis": {
            "gridcolor": "white",
            "linecolor": "white",
            "ticks": ""
           }
          },
          "title": {
           "x": 0.05
          },
          "xaxis": {
           "automargin": true,
           "gridcolor": "white",
           "linecolor": "white",
           "ticks": "",
           "title": {
            "standoff": 15
           },
           "zerolinecolor": "white",
           "zerolinewidth": 2
          },
          "yaxis": {
           "automargin": true,
           "gridcolor": "white",
           "linecolor": "white",
           "ticks": "",
           "title": {
            "standoff": 15
           },
           "zerolinecolor": "white",
           "zerolinewidth": 2
          }
         }
        },
        "xaxis": {
         "anchor": "y",
         "domain": [
          0,
          1
         ],
         "title": {
          "text": "value"
         }
        },
        "yaxis": {
         "anchor": "x",
         "categoryorder": "total ascending",
         "domain": [
          0,
          1
         ],
         "title": {
          "text": "index"
         }
        }
       }
      }
     },
     "metadata": {},
     "output_type": "display_data"
    }
   ],
   "source": [
    "feat_imp = mm.feature_importance(logreg_model, df[feat_list])"
   ]
  },
  {
   "cell_type": "code",
   "execution_count": 31,
   "metadata": {},
   "outputs": [],
   "source": [
    "feature_list = list(feat_imp.index)"
   ]
  },
  {
   "cell_type": "code",
   "execution_count": 72,
   "metadata": {},
   "outputs": [
    {
     "data": {
      "text/html": [
       "<div>\n",
       "<style scoped>\n",
       "    .dataframe tbody tr th:only-of-type {\n",
       "        vertical-align: middle;\n",
       "    }\n",
       "\n",
       "    .dataframe tbody tr th {\n",
       "        vertical-align: top;\n",
       "    }\n",
       "\n",
       "    .dataframe thead th {\n",
       "        text-align: right;\n",
       "    }\n",
       "</style>\n",
       "<table border=\"1\" class=\"dataframe\">\n",
       "  <thead>\n",
       "    <tr style=\"text-align: right;\">\n",
       "      <th></th>\n",
       "      <th>importance</th>\n",
       "      <th>abs_imp</th>\n",
       "    </tr>\n",
       "  </thead>\n",
       "  <tbody>\n",
       "    <tr>\n",
       "      <th>median_amount_debited_2m</th>\n",
       "      <td>-0.748349</td>\n",
       "      <td>0.748349</td>\n",
       "    </tr>\n",
       "    <tr>\n",
       "      <th>median_running_balance_2nd_m</th>\n",
       "      <td>-0.742541</td>\n",
       "      <td>0.742541</td>\n",
       "    </tr>\n",
       "    <tr>\n",
       "      <th>distinct_debit_txns_1m</th>\n",
       "      <td>0.422265</td>\n",
       "      <td>0.422265</td>\n",
       "    </tr>\n",
       "    <tr>\n",
       "      <th>ratio_debit_credit_2m</th>\n",
       "      <td>0.281047</td>\n",
       "      <td>0.281047</td>\n",
       "    </tr>\n",
       "    <tr>\n",
       "      <th>ratio_ach_credit_freq_total_credit_1m</th>\n",
       "      <td>-0.204235</td>\n",
       "      <td>0.204235</td>\n",
       "    </tr>\n",
       "    <tr>\n",
       "      <th>ratio_amt_drawn_mom</th>\n",
       "      <td>-0.171997</td>\n",
       "      <td>0.171997</td>\n",
       "    </tr>\n",
       "    <tr>\n",
       "      <th>ratio_ach_debit_credit_freq_1m</th>\n",
       "      <td>-0.167540</td>\n",
       "      <td>0.167540</td>\n",
       "    </tr>\n",
       "    <tr>\n",
       "      <th>ratio_amt_cashin_mom</th>\n",
       "      <td>0.159673</td>\n",
       "      <td>0.159673</td>\n",
       "    </tr>\n",
       "    <tr>\n",
       "      <th>ratio_revenue_1m_2m</th>\n",
       "      <td>-0.094204</td>\n",
       "      <td>0.094204</td>\n",
       "    </tr>\n",
       "    <tr>\n",
       "      <th>distinct_cashins_1m_prev</th>\n",
       "      <td>0.013703</td>\n",
       "      <td>0.013703</td>\n",
       "    </tr>\n",
       "  </tbody>\n",
       "</table>\n",
       "</div>"
      ],
      "text/plain": [
       "                                       importance   abs_imp\n",
       "median_amount_debited_2m                -0.748349  0.748349\n",
       "median_running_balance_2nd_m            -0.742541  0.742541\n",
       "distinct_debit_txns_1m                   0.422265  0.422265\n",
       "ratio_debit_credit_2m                    0.281047  0.281047\n",
       "ratio_ach_credit_freq_total_credit_1m   -0.204235  0.204235\n",
       "ratio_amt_drawn_mom                     -0.171997  0.171997\n",
       "ratio_ach_debit_credit_freq_1m          -0.167540  0.167540\n",
       "ratio_amt_cashin_mom                     0.159673  0.159673\n",
       "ratio_revenue_1m_2m                     -0.094204  0.094204\n",
       "distinct_cashins_1m_prev                 0.013703  0.013703"
      ]
     },
     "execution_count": 72,
     "metadata": {},
     "output_type": "execute_result"
    }
   ],
   "source": [
    "feat_imp['abs_imp'] = abs(feat_imp['importance'])\n",
    "feat_imp.sort_values(by='abs_imp', ascending=False)"
   ]
  },
  {
   "cell_type": "markdown",
   "metadata": {},
   "source": [
    "#### Test Model"
   ]
  },
  {
   "cell_type": "code",
   "execution_count": 34,
   "metadata": {},
   "outputs": [
    {
     "data": {
      "text/plain": [
       "(806, 123)"
      ]
     },
     "execution_count": 34,
     "metadata": {},
     "output_type": "execute_result"
    }
   ],
   "source": [
    "# reset index\n",
    "x_test.reset_index(drop=True, inplace=True)\n",
    "\n",
    "# treat missing values\n",
    "for col in x_test.columns[x_test.isnull().any(axis=0)]:\n",
    "    x_test[col].fillna(data_params[data_params['feature'] == col]['median'].values[0], inplace=True)\n",
    "\n",
    "# min max capping\n",
    "for col in col_list_excpt_bool:\n",
    "    lower_cap = data_params[data_params['feature'] == col]['lower_limit'].values[0]\n",
    "    upper_cap = data_params[data_params['feature'] == col]['upper_limit'].values[0]\n",
    "    x_test[col][x_test[col] < lower_cap] = lower_cap\n",
    "    x_test[col][x_test[col] > upper_cap] = upper_cap\n",
    "\n",
    "# scaling\n",
    "x_test[col_list_excpt_bool] = pd.DataFrame(transformer.transform(x_test[col_list_excpt_bool]), columns=col_list_excpt_bool)\n",
    "x_test.shape"
   ]
  },
  {
   "cell_type": "code",
   "execution_count": 35,
   "metadata": {},
   "outputs": [
    {
     "name": "stdout",
     "output_type": "stream",
     "text": [
      "CV Scores - [0.73 0.74 0.84 0.73 0.77]\n",
      "Mean of CV Scores - 0.76\n"
     ]
    }
   ],
   "source": [
    "# test cv scores\n",
    "cv_scores = mm.cross_validation(logreg_model, x_test[feat_list], y_test, scoring='roc_auc', folds=5, seed=seed)\n",
    "print('CV Scores -',np.round(cv_scores, 2))\n",
    "print('Mean of CV Scores -',np.round(np.mean(cv_scores),2))"
   ]
  },
  {
   "cell_type": "code",
   "execution_count": 36,
   "metadata": {},
   "outputs": [
    {
     "name": "stdout",
     "output_type": "stream",
     "text": [
      "Accuracy Score: 0.67 \n",
      "\n",
      "AUC: 0.72 \n",
      "\n"
     ]
    },
    {
     "data": {
      "text/plain": [
       "{'df_tag': 1,\n",
       " 'accuracy_score': 0.67,\n",
       " 'FPR': 0.34,\n",
       " 'TPR': 0.78,\n",
       " 'AUC': 0.72,\n",
       " 'Sensitivity': 0.78,\n",
       " 'Specificity': 0.66,\n",
       " 'KS Stat': KstestResult(statistic=0.29404466501240695, pvalue=4.011736248500619e-31)}"
      ]
     },
     "execution_count": 36,
     "metadata": {},
     "output_type": "execute_result"
    }
   ],
   "source": [
    "# test score\n",
    "mm.model_metrics(logreg_model.predict(x_test[feat_list]), np.array(y_test), logreg_model.predict_proba(x_test[feat_list]),tag = 1)"
   ]
  },
  {
   "cell_type": "markdown",
   "metadata": {},
   "source": [
    "#### Probability Distribution"
   ]
  },
  {
   "cell_type": "code",
   "execution_count": 37,
   "metadata": {},
   "outputs": [],
   "source": [
    "import plotly.express as px"
   ]
  },
  {
   "cell_type": "code",
   "execution_count": 38,
   "metadata": {},
   "outputs": [
    {
     "data": {
      "application/vnd.plotly.v1+json": {
       "config": {
        "plotlyServerURL": "https://plot.ly"
       },
       "data": [
        {
         "alignmentgroup": "True",
         "bingroup": "x",
         "hovertemplate": "variable=proba<br>value=%{x}<br>count=%{y}<extra></extra>",
         "legendgroup": "proba",
         "marker": {
          "color": "#636efa",
          "pattern": {
           "shape": ""
          }
         },
         "name": "proba",
         "nbinsx": 100,
         "offsetgroup": "proba",
         "orientation": "v",
         "showlegend": true,
         "type": "histogram",
         "x": [
          0.5475571006337311,
          0.46311786528456744,
          0.398575490105126,
          0.5802832092498502,
          0.6558297027849339,
          0.10266372326159977,
          0.5130604821716745,
          0.6528343238380614,
          0.5624734584663283,
          0.6001334103445428,
          0.3387431420913181,
          0.4953701495424717,
          0.81356832834738,
          0.40126454029351455,
          0.6286646206201802,
          0.4801660716853037,
          0.4727272550369054,
          0.6435992111106631,
          0.4365899371404357,
          0.5131447998960031,
          0.5312374169926254,
          0.6192197689448846,
          0.6238771844010029,
          0.7290974199469926,
          0.7494048921256311,
          0.6852383023091441,
          0.5719803647790586,
          0.6051719082326477,
          0.600671988431887,
          0.7561717330473362,
          0.7461173215866346,
          0.3782837434310337,
          0.5557631959074174,
          0.6290109857429507,
          0.46090867660001544,
          0.36088573906105215,
          0.5974529205092829,
          0.6856628628006324,
          0.5541069749495727,
          0.6157130192129755,
          0.6258025070361058,
          0.1643222833042741,
          0.6501536641263905,
          0.6639539444150144,
          0.48247983016588697,
          0.4912201670283739,
          0.44325934205016604,
          0.5930757359640275,
          0.6686022814739938,
          0.49345139563540197,
          0.5520666442938142,
          0.5893456225810119,
          0.2462275632920892,
          0.4266101784062492,
          0.6790489872281116,
          0.6971724613293142,
          0.6076066453742136,
          0.5340187373843998,
          0.5520667100923803,
          0.34016592605611,
          0.4044913268583699,
          0.7569629716976014,
          0.41833722694626496,
          0.4920268574448366,
          0.5099995714496245,
          0.6348953136378338,
          0.44599581105604924,
          0.477268350850351,
          0.5610533508408633,
          0.4335406439727895,
          0.5919830842163717,
          0.5471040229031847,
          0.6045498683115738,
          0.5843906539353093,
          0.6635367710036716,
          0.6346481289058794,
          0.4522402078144531,
          0.057946859710583394,
          0.550675477538273,
          0.676763374029645,
          0.4076468911616058,
          0.3871488808904856,
          0.4945536597305677,
          0.30197233172424015,
          0.5957239077751919,
          0.17175006245531196,
          0.6456668809865537,
          0.6294070340669494,
          0.4623111400660736,
          0.48860814198170377,
          0.5872675406097205,
          0.6233521549568328,
          0.38038119985986024,
          0.6102853472997825,
          0.5863891966459746,
          0.49912880478302935,
          0.5677082674911313,
          0.6347742784203912,
          0.5545759760759142,
          0.5596067313902126,
          0.4881505166397567,
          0.12360340971709917,
          0.6171979153726389,
          0.30508178914424056,
          0.5619961907697673,
          0.6304876996768158,
          0.6477432350914267,
          0.5810582770883334,
          0.4813447872051036,
          0.4590390749210377,
          0.5884772169004869,
          0.5750300348748708,
          0.3190183061720072,
          0.34891678083742583,
          0.5494875599968854,
          0.7696966055642981,
          0.6634066760102376,
          0.5866641105597536,
          0.5829432283308232,
          0.611383219487635,
          0.43031275313474315,
          0.4481365720514205,
          0.6310365205268981,
          0.5157005389361935,
          0.6003996901799284,
          0.6089407760989847,
          0.5858235149746551,
          0.48109502150619543,
          0.6320354477716214,
          0.5264102942640965,
          0.17129929156929805,
          0.6824286582468929,
          0.7278849347235519,
          0.7107117845132632,
          0.5905189037235626,
          0.7642263750557345,
          0.520766824277507,
          0.6368452929704855,
          0.6277551300053211,
          0.430190228427336,
          0.5862488268441827,
          0.6448479446641148,
          0.523168558458173,
          0.5271126317393765,
          0.6008091648203819,
          0.5585829829339702,
          0.5406438566573162,
          0.4142965189529551,
          0.5025690497845656,
          0.47193050824829635,
          0.7119905159236221,
          0.6220598607595668,
          0.3950794774621111,
          0.3644914313851138,
          0.507702429804805,
          0.5066747134027647,
          0.2693879678988262,
          0.6678506850532798,
          0.5363304932000452,
          0.4958924132325134,
          0.5371094951610237,
          0.8291453201199215,
          0.5297075670573776,
          0.5262154031466671,
          0.5673719318482704,
          0.523272049984581,
          0.4589131057117564,
          0.7063343515768775,
          0.5038864795487256,
          0.42305265357049815,
          0.01779468716968059,
          0.5678489643531174,
          0.5939480965533592,
          0.6568376781168771,
          0.6204805321308342,
          0.4225246876969993,
          0.1451914001339727,
          0.607622234283929,
          0.3056159574787932,
          0.6459021680943761,
          0.5184510173602132,
          0.5139972236039011,
          0.071080890436081,
          0.5882856228363746,
          0.1933934218527211,
          0.5829776904176442,
          0.583693840962156,
          0.33698917291743824,
          0.671408503056463,
          0.4954273736016984,
          0.5989974564272221,
          0.5925726393071645,
          0.5757975758861551,
          0.24615713766456965,
          0.5517248218289954,
          0.11332994728137483,
          0.5523254532485785,
          0.6108245624253832,
          0.6060373216291892,
          0.19599586494020013,
          0.5371178124237924,
          0.4684770505762654,
          0.3670696212010656,
          0.504220426282131,
          0.44095108162592356,
          0.5856274898866279,
          0.5388086396883247,
          0.5889643476264755,
          0.5520816987189657,
          0.7997210397868643,
          0.6802495296898394,
          0.7280787454912045,
          0.5608509076581871,
          0.5390342563837037,
          0.4440136704777661,
          0.5160561380432366,
          0.4291683660507365,
          0.7374720747607778,
          0.5387425551099299,
          0.397342524161342,
          0.44148755150165814,
          0.5612629463172446,
          0.6542553538530359,
          0.6196622038716235,
          0.4796968450428207,
          0.5113326314326241,
          0.46705759533880403,
          0.2947744209316653,
          0.09205715597972532,
          0.6691856032221577,
          0.4237123718392575,
          0.5773038823665338,
          0.5748271480587818,
          0.815425453131317,
          0.565127873349418,
          0.43726746435298713,
          0.5420475759754988,
          0.7120557448629795,
          0.25374386355808753,
          0.552619117320248,
          0.6967751874010965,
          0.3629226959567545,
          0.6122038075078486,
          0.6126110581842885,
          0.4120258469273584,
          0.4151261189075589,
          0.5071548500174415,
          0.6650270739154097,
          0.5392222537803603,
          0.5297765218020413,
          0.6074471005339793,
          0.6177421341587684,
          0.6399866028788829,
          0.5914882258391865,
          0.6931659175013832,
          0.4822754041480894,
          0.4178193964521589,
          0.32169540603259983,
          0.5912033816887551,
          0.6839156153484409,
          0.38071105476578243,
          0.5187334232834245,
          0.6035331408576103,
          0.38906047291288026,
          0.5944148967017049,
          0.3645632982118801,
          0.48539583927386537,
          0.5696408545267739,
          0.6201802861522905,
          0.1456281643049171,
          0.6240067591439783,
          0.6191595883788038,
          0.5530307878067304,
          0.3224699141605026,
          0.545197058944375,
          0.5205460335870875,
          0.5269974799870552,
          0.21526354200408043,
          0.46784172143524455,
          0.5335154962487512,
          0.32490162332046746,
          0.3550104891593266,
          0.6292725890023507,
          0.41198653915441313,
          0.5899343205446963,
          0.4600793153310122,
          0.604558031621937,
          0.4922152511603874,
          0.5825502781798523,
          0.7024803495538974,
          0.49863923671190524,
          0.7036179861825328,
          0.44887088813959314,
          0.47596243371823976,
          0.5158884186159985,
          0.5277372048743025,
          0.30030255754034324,
          0.5425076877196513,
          0.4034308527903839,
          0.5997186171695226,
          0.5854098792173427,
          0.5400025731404327,
          0.5206236165293441,
          0.7205905067680874,
          0.5390032706003476,
          0.6090964959567189,
          0.24338271987137608,
          0.5222797619338483,
          0.007394551499394636,
          0.5285817633219085,
          0.6142038337739423,
          0.5644817790801947,
          0.5599393724276779,
          0.4790630122218887,
          0.38495637224786006,
          0.6097629068856465,
          0.5695192982734704,
          0.22535744666054497,
          0.42042183672628625,
          0.6223865905464715,
          0.5995394506662851,
          0.5043672936612206,
          0.5033947919381226,
          0.49727866778304824,
          0.397033244151391,
          0.43892513388368626,
          0.4375730338087098,
          0.5428464196961036,
          0.6587297587386556,
          0.48127188271036137,
          0.446145574666217,
          0.4577380191038414,
          0.40434265841143646,
          0.3828190760274706,
          0.019700392299992542,
          0.3525949405275215,
          0.13765471299922183,
          0.3644145365873203,
          0.3340687232208987,
          0.10676399989751165,
          0.2787050257371187,
          0.24848215938445287,
          0.07402335013570187,
          0.1435878133222625,
          0.3816353711556688,
          0.1587356932394744,
          0.16228689339718502,
          0.4179167169025964,
          0.25453701230904596,
          0.4827862210054066,
          0.4812570769065827,
          0.09498037556979275,
          0.006235733398195198,
          0.4057683445258448,
          0.3297257986781487,
          0.08845674672521629,
          0.3275543495782385,
          0.5393483000869574,
          0.009815234013087353,
          0.1957453107322553,
          0.48233410987055786,
          0.5422983856718923,
          0.0045593774634297935,
          0.19246074267189772,
          0.4086820087363598,
          0.4959112396795545,
          0.3731094582758863,
          0.19681021706865498,
          0.4374873152994865,
          0.2712804587670524,
          0.4721328147105099,
          0.025398963875481746,
          0.27375471210494806,
          0.2984256531811395,
          0.16365964857931453,
          0.48684721784939533,
          0.2342832269302383,
          0.3048403339196955,
          0.083088090753573,
          0.4128472663995565,
          0.01715925014901575,
          0.4902861143637494,
          0.1744595905453546,
          0.21759056295117188,
          0.4207194948118973,
          0.4347923948216613,
          0.3176039095410296,
          0.39249775072431803,
          0.06012227913530162,
          0.5154473478204387,
          0.42765070925149046,
          0.1670309496913038,
          0.4333671221695781,
          0.30816790165774166,
          0.5614667169634578,
          0.4472145391408961,
          0.5474677044378237,
          0.06995168840665615,
          0.19656229155879495,
          0.26785130391851847,
          0.29486444498353187,
          0.49745389872837786,
          0.376738507468723,
          0.6003616246623567,
          0.13398761730578312,
          0.49484938979756304,
          0.1920333583774046,
          0.40969102262180646,
          0.007743582270002978,
          0.3765851543569508,
          0.4864425733844087,
          0.5576085113857786,
          0.41009116158240183,
          0.5937608524309095,
          0.09160625528480468,
          0.6314953856567155,
          0.27747269284649334,
          0.2805706895940136,
          0.38469007124105703,
          0.6162070677993511,
          0.35788458536455114,
          0.04599668910602899,
          0.3213339589733211,
          0.4179724169216349,
          0.39728517288967785,
          0.3023828588825527,
          0.2972336950359283,
          0.33922722892524015,
          0.5412857372865713,
          0.004827882646505881,
          0.00341514775405102,
          0.3207846371639037,
          0.4411051756539963,
          0.5036726452699478,
          0.14320688158905978,
          0.3965923679804839,
          0.3384039551311357,
          0.12968482560041317,
          0.007378083973122621,
          0.5168663883873117,
          0.33407534661273197,
          0.7051758901740861,
          0.48893874796117,
          0.3340390227930607,
          0.5270170462822666,
          0.3774253882926579,
          0.1100739921075259,
          0.3071497907808678,
          0.5083682922318188,
          0.45543917059060174,
          0.43875414993089973,
          0.27759526495932135,
          0.6626788830310244,
          0.23489812092551737,
          0.24665626497705612,
          0.16858986950579097,
          0.39447031078445655,
          0.5083805114094586,
          0.28900805959325504,
          0.527611585834828,
          0.4367925816084934,
          0.2609121088051144,
          0.24412352447024896,
          0.5221885857524067,
          0.3978377478917219,
          0.3820257700066141,
          0.20059664572799027,
          0.006096836863779623,
          0.6741412444213266,
          0.5683546687464024,
          0.4358834187296298,
          0.683934088634506,
          0.44457916034593653,
          0.1285122248181803,
          0.6287100009498373,
          0.14413500477952867,
          0.010719085300523153,
          0.7826866954515194,
          0.5470347726451048,
          0.34850942403637286,
          0.15809202490111537,
          0.3706582661870613,
          0.6696307267206354,
          0.07944422575846402,
          0.49768949453144484,
          0.3932995203995341,
          0.5892532275179027,
          0.014931685291891351,
          0.3070380977937957,
          0.20972435503160258,
          0.21022816969137,
          0.5659573431513155,
          0.010211820043993227,
          0.5242648694880145,
          0.04819473098495518,
          0.5058114295668908,
          0.3757303668693652,
          0.5752488409547133,
          0.22292446388764295,
          0.29700587412579327,
          0.467299836524545,
          0.7748701442501906,
          0.045191861492266575,
          0.00906187283214298,
          0.31830737570546924,
          0.3637021900057982,
          0.022996620476373738,
          0.3973479119978786,
          0.4114935151646652,
          0.3918869044373079,
          0.10191746273663876,
          0.3671660465323683,
          0.35779300336601166,
          0.40982795902830177,
          0.09251057753909325,
          0.031402778907487335,
          0.2732609707571734,
          0.2630000344821046,
          0.21396909894969296,
          0.3938163179386395,
          0.5430962320955415,
          0.18222894803687048,
          0.389113204503478,
          0.585533513820035,
          0.3806416456687469,
          0.33599009748758374,
          0.05202413654268243,
          0.5392009165155673,
          0.3664943368073221,
          0.4526935809913054,
          0.46879327169760987,
          0.3169801157630851,
          0.3189362965933682,
          0.007434553873372984,
          0.1679419837239466,
          0.4965610240732932,
          0.3410617797120633,
          0.4285879275011183,
          0.28799528002264024,
          0.4266018944425847,
          0.24259906261787112,
          0.39860150224136826,
          0.09011257239446155,
          0.43200756712916727,
          0.16910792149099868,
          0.17444866394726913,
          0.3808723446241212,
          0.18597053833933444,
          0.3930182197155342,
          0.4484976601417043,
          0.3594411391400966,
          0.4029930380535228,
          0.14620045404400178,
          0.2910692620323559,
          0.13508239990090715,
          0.18795384125322517,
          0.4157952045790477,
          0.45016661732348856,
          0.2309809704520838,
          0.38761171676548056,
          0.4090215522309014,
          0.4037266352999457,
          0.4325026856550775,
          0.5836889721930001,
          0.40143197888488347,
          0.24551123568179528,
          0.004965367884441385,
          0.1701896956807048,
          0.277473224007115,
          0.5714664637981195,
          0.38814488672152897,
          0.4754420677561191,
          0.34866325473444576,
          0.48196950255284454,
          0.001380326489631221,
          0.41610142484055007,
          0.018293484997954485,
          0.4353448636639318,
          0.0076020551921942865,
          0.40873542521436307,
          0.10828458939348723,
          0.1416724105284175,
          0.37907511791194803,
          0.0018638500613737125,
          0.0021932428066928147,
          0.43177535240887815,
          0.0013591738770324898,
          0.23477088604516438,
          0.31994470982425516,
          0.38570363286652554,
          0.010948436683770048,
          0.38347068485898395,
          0.13971825393790135,
          0.4278303970712438,
          0.4631013199750497,
          0.07149507716158766,
          0.41240573895306976,
          0.3758697856542024,
          0.47986548342326696,
          0.41047390309547505,
          0.014264718020714265,
          0.1811233408339922,
          0.07394630193907052,
          0.4752723504962101,
          0.31944071471062574,
          0.4268689246377227,
          0.4871888666427791,
          0.0031156942421593442,
          0.39815187913580224,
          0.3272659497324128,
          0.24975510497954886,
          0.4430150971744503,
          0.12891511062616845,
          0.39418914501563507,
          0.24916799338971682,
          0.4309230403957267,
          0.07768001960928632,
          0.3189151465575488,
          0.49963597493821577,
          0.28505266614358016,
          0.2585837889393528,
          0.0021637256545725125,
          0.2063608938400871,
          0.03183018564892898,
          0.10086324680871649,
          0.2526288738307889,
          0.1344284981880179,
          0.23759291229165858,
          0.3042562409567327,
          0.3975074144500482,
          0.467471627775895,
          0.5920316714643448,
          0.3311014632202685,
          0.00007091755489685217,
          0.5065771401329802,
          0.42969796905437446,
          0.4614479918631333,
          0.3815506170853216,
          0.4904504087474141,
          0.469951725921653,
          0.29069997581152923,
          0.5095289023651719,
          0.32846543307013937,
          0.3843602554041611,
          0.30161036869236474,
          0.23267375147039127,
          0.04923980768366494,
          0.21332395307959354,
          0.012842696595369454,
          0.21193487156382762,
          0.010792708731002956,
          0.3339422212353697,
          0.1024794610390003,
          0.359156245479641,
          0.187197690531655,
          0.1265574185056436,
          0.10303159012515027,
          0.6505950892123898,
          0.4116824553690059,
          0.39634143329294635,
          0.04471709252898946,
          0.17686622714575168,
          0.37428393023990997,
          0.23814625563606046,
          0.44593402189489884,
          0.22884529784076799,
          0.08188886954817771,
          0.5959871978028689,
          0.608311571854226,
          0.022845695996378312,
          0.4472587916920927,
          0.13517433807266468,
          0.39161448156177175,
          0.000542897418085538,
          0.32142494809896544,
          0.4525707700197851,
          0.2909677619515443,
          0.011224262906912074,
          0.2961123011768028,
          0.1959702295071919,
          0.3785073415144324,
          0.07781640670452637,
          0.4068335817795538,
          0.3164667309396233,
          0.46893790714584266,
          0.3017146360421566,
          0.4833968017252045,
          0.3528053205223386,
          0.0780047124059329,
          0.4140860939999052,
          0.3850617371117848,
          0.4397121859268535,
          0.49718442515875344,
          0.45504362917131563,
          0.41817479087435516,
          0.23051333477923933,
          0.2903473663756814,
          0.027344679235516173,
          0.43708186107892977,
          0.03904152296267109,
          0.4324958701511007,
          0.5149458294705057,
          0.4821019976502615,
          0.2952212698109737,
          0.3151387483864831,
          0.2526136842170001,
          0.2773894457459191,
          0.4607984312502281,
          0.45494882585271557,
          0.494784433435249,
          0.4649738776311521,
          0.24098318988255224,
          0.5560669742974251,
          0.4090796720536793,
          0.4215797841128599,
          0.09941116253178413,
          0.3776826903622623,
          0.33563688685616283,
          0.1730239996980301,
          0.37447655323782697,
          0.4926552276056688,
          0.4765262594773821,
          0.08025079626393516,
          0.3921131408901058,
          0.21739040870961016,
          0.4386083167315331,
          0.21816234606997972,
          0.0028035005480133933,
          0.6534189655928615,
          0.3333739731798822,
          0.3235678814209765,
          0.4161368656656025,
          0.1464625572932457,
          0.3616458643398925,
          0.08356713480699816,
          0.2728771895610799,
          0.46674960567836954,
          0.4251717015189168,
          0.27115247225429734,
          0.37181929573874256,
          0.3593421967032879,
          0.3724374497266616,
          0.3975944592709058,
          0.31651031003243324,
          0.008323982676350102,
          0.0018472974016862664,
          0.23435470180924234,
          0.3635956090804926,
          0.28592509831242785,
          0.34344734729474446,
          0.19496165950820685,
          0.26398949768091157,
          0.2126152003439825,
          0.4205684535552398,
          0.0371599577491941,
          0.25845081261967556,
          0.29597141488316414,
          0.37259733235757125,
          0.44330777136791893,
          0.38210231652422766,
          0.0057875356482968605,
          0.6395309808012624,
          0.45969854381604813,
          0.4907164661091966,
          0.4095773922618029,
          0.00827986355796386,
          0.054639713528257826,
          0.4781111638748599,
          0.5917526587526685,
          0.46424303680721796,
          0.1672790671621966,
          0.5988732697667496,
          0.37434446083060685,
          0.01106787725894976,
          0.057123126231969905,
          0.3774419180562163,
          0.4161791940075897,
          0.35907010782610754,
          0.2587417894009982,
          0.18266173923295817,
          0.5090446728520485,
          0.3062078451401035,
          0.11908657118833985,
          0.10933068156594783,
          0.25128603678368105,
          0.38059868587165374,
          0.43125800880273535,
          0.3806876072686875,
          0.22174569888005102,
          0.2519321191317563,
          0.5566262221426121,
          0.3938085524949616,
          0.40023311376603465,
          0.09197835297450181,
          0.40703979704204757,
          0.3203415859643803,
          0.5398889569399526,
          0.006882164063072569,
          0.08646760644623668,
          0.5650220463030864,
          0.3880306979048599,
          0.20003550673272197,
          0.2390409464071271,
          0.5017127465042619,
          0.4691303038358974,
          0.44305971456081544,
          0.4288819050289785,
          0.11340128996738352,
          0.3520014019814285,
          0.39605220538838154,
          0.22700619981146056,
          0.383693937755756,
          0.40220004555316496,
          0.2656037081273382,
          0.3105487504040239,
          0.13796815235877752,
          0.4414148118726998,
          0.15124032960256836,
          0.34073765259336175,
          0.3240809114050491,
          0.0027924715696126773,
          0.5046536507241002,
          0.005880496110515917,
          0.18374309463326358,
          0.18536674271239675,
          0.103488720261121,
          0.538329080259731,
          0.4764904666082066,
          0.4666591252792468,
          0.648917640582201,
          0.5452105449939062,
          0.5323393361493353,
          0.3669407235640468,
          0.25234535122284985,
          0.3213182427391015,
          0.39781847120112457,
          0.3752032102358569,
          0.49266575469961144,
          0.4288290876765551,
          0.6504991653718077,
          0.3466647883960588,
          0.5602362731623869,
          0.00006399517176465598,
          0.0044295238897965805,
          0.3530567979030901,
          0.3169836713187833,
          0.4069074130004733,
          0.01031707177473706,
          0.6788434388794782,
          0.514610133844011,
          0.49759206111079324,
          0.016747654887240553,
          0.10296024905517868,
          0.3632499710300444,
          0.18845205542528165,
          0.00014062258700243862,
          0.280704088562336,
          0.42004424078656727,
          0.10509382177145193,
          0.006281301360144952,
          0.18175363790852436,
          0.3792494899074847,
          0.06456411870441174,
          0.6177124063641911,
          0.12145339973436449,
          0.0035898209354153173,
          0.2499768041707867,
          0.32545028957392186,
          0.28259369267476414,
          0.4421764242939528,
          0.6066476056151525,
          0.3321865903038803,
          0.011819820759678268,
          0.14903514237477342,
          0.05258154989436606,
          0.5558885143328047,
          0.47062847276835384,
          0.37381337024307004,
          0.2536957644937395,
          0.1698141537597536,
          0.17669286786401409,
          0.31632938718458653,
          0.10614363148849196,
          0.5410519743959382,
          0.1138425088914289,
          0.5427930817774709,
          0.21532026260550566,
          0.3709980172710512,
          0.27658516267035177,
          0.30083698722543917,
          0.14306656325451006,
          0.4363444019570351,
          0.6475883017199872,
          0.3762614888152409,
          0.3761486443248495,
          0.3374301054531891,
          0.43550485291115326,
          0.3151051888109366,
          0.39378483888150784,
          0.1578525392902649,
          0.11627436461566582,
          0.5325739106969705,
          0.007777632258942711,
          0.4921024580760295,
          0.38268817721393067,
          0.014749103120878154,
          0.49179724280953263,
          0.39736504457117633,
          0.031895216468171915,
          0.1807423505830299,
          0.3979821294186714,
          0.3491243700612502,
          0.5198016153054446,
          0.08984074789747952,
          0.19328547185349668,
          0.34416820913437934,
          0.06087688623510285,
          0.5476264976681184,
          0.3127589985423328,
          0.1452539553353073,
          0.09468198947355662,
          0.18241660820279545,
          0.4866037459213855,
          0.44787786564628024,
          0.2399441029923688,
          0.6128434204987991,
          0.25128513491643517,
          0.2704312622451803,
          0.001389302447641129,
          0.1567015798744197,
          0.5331148029992965,
          0.33480189074194044,
          0.03084996445394019,
          0.02157126485107966,
          0.7441273732999737,
          0.15407009801184085,
          0.2739654451774606,
          0.5970176866233918,
          0.3009648068074577,
          0.4372878270780392,
          0.3958054801259291,
          0.007123737749986554,
          0.46797771676799277,
          0.4704919319144587,
          0.4828034583695882,
          0.24450316921393933,
          0.45489851853902913,
          0.5098026925394558,
          0.36191453469436113,
          0.49199617163557885,
          0.469865681387675,
          0.29527557415535577,
          0.008683727242717224,
          0.3495690779952806,
          0.0003331589066647526,
          0.6652302980665183,
          0.4276098575196213,
          0.3045860952023974,
          0.24504116665759546,
          0.02632990518575562,
          0.1504790652643371,
          0.39268464338968767,
          0.14758656667641953,
          0.47424566456085254,
          0.3281377422841985,
          0.23657031067435497,
          0.5153308656682762,
          0.32042537792993614,
          0.45516706748035635,
          0.44843292356219017,
          0.37370808009129697,
          0.09435320985866785,
          0.03536157401419566,
          0.33876153810185544,
          0.2189475605970367,
          0.40236286843182034,
          0.3210028406150144,
          0.041299206078776844,
          0.38813311752823965,
          0.5389332138200844,
          0.3841515992742778,
          0.6541426393142531,
          0.5551530550804368,
          0.5258745641577054,
          0.18497912063396826,
          0.0009653036106388067,
          0.4034204262007078,
          0.4242115459970895,
          0.5166056525900722,
          0.301235432710986,
          0.021905586355303826,
          0.1080516236275995,
          0.0050243048819385875,
          0.5308210318959513,
          0.4395800367270063,
          0.3773222926172816,
          0.08837218699456306,
          0.4479451221079852,
          0.2460927526600116,
          0.28728722720025585,
          0.267411989389985,
          0.26393538875957256,
          0.19868904148743377,
          0.5165478765011585,
          0.033722583668093706,
          0.4498078741142372,
          0.36045376531448886,
          0.24929875281977223,
          0.39336977809997525,
          0.07398832689023865,
          0.35887870405140115,
          0.32974108093068333,
          0.4819041681699358,
          0.3925135309141896,
          0.36501430958067993,
          0.5787631966059141,
          0.048682392154573595,
          0.003894247289075713,
          0.1228056634029091,
          0.47835920889619626,
          0.005357497936886214,
          0.3640202947694169,
          0.5245206507197253,
          0.3791162322490962,
          0.45430160756438337,
          0.31091682081688293,
          0.49345165862754453,
          0.8212110588760514,
          0.04063110541171476,
          0.4812012452678657,
          0.4689920090777375,
          0.41883906179539115,
          0.596391490024828,
          0.16137493655441895,
          0.7584319260537395,
          0.0562418947177215,
          0.3337221768220683,
          0.5942848617806306,
          0.45506818201002813,
          0.626686316732258,
          0.16911873190968063,
          0.4802121608115017,
          0.5822669679629816,
          0.21774615715037057,
          0.23141284105447296,
          0.07333481496303523,
          0.23908544318528133,
          0.2968571181939284,
          0.4718536481622734,
          0.38297306145164234,
          0.3578294875674094,
          0.5929120634257866,
          0.0010701632747351923,
          0.5617582175361574,
          0.5163214829791597,
          0.6466331969410377,
          0.5015106636111333,
          0.09581920823749172,
          0.5318668903838051,
          0.5817989745023319,
          0.6336676210658782,
          0.37846875972532057,
          0.12111435022264706,
          0.3945703121381543,
          0.4393651692922113,
          0.3092528702928036,
          0.34792212460562194,
          0.4506419975939873,
          0.11182405720190398,
          0.505023554303205,
          0.7848423267343605,
          0.347424429038894,
          0.6111255671116601,
          0.7392537259556673,
          0.7600637491836897,
          0.15908755651739478,
          0.07318264019039657,
          0.5477485663220956,
          0.8397421652746011,
          0.2826805095429686,
          0.7241758606638867,
          0.4250842626192111,
          0.5568330602488063,
          0.6666727002321102,
          0.49280816740334266,
          0.46440595243168264,
          0.38344993881535744,
          0.3419492292226233,
          0.5210577891240861,
          0.41668799655703553,
          0.6087842954577893,
          0.5774820395083882,
          0.40071701710216406,
          0.41537131541770866,
          0.568263034460324,
          0.4294908905496157,
          0.052637305507793664,
          0.49885185133407584,
          0.6339873352063842,
          0.1265063848209469,
          0.4550742119040112,
          0.25496132334088806,
          0.48059211676693236,
          0.4880480534098346,
          0.8933125408862648,
          0.6316007203566099,
          0.5285078464299834,
          0.6175612878007825,
          0.39914320447129886,
          0.7511652662483215,
          0.39070043899095785,
          0.579172683138803,
          0.30981571039966926,
          0.4592932923983735,
          0.44762852310134355,
          0.4639947340483847,
          0.5367042268849552,
          0.5323680333713569,
          0.2815218936308157,
          0.402948336653169,
          0.5937286185933389,
          0.6381482604071758,
          0.13861478233166827,
          0.4900268780653254,
          0.5229448762563134,
          0.2012847690881923,
          0.6228019445118151,
          0.3109642270977396,
          0.12881266479833997,
          0.4648546119397051,
          0.5865054129167693,
          0.5475327941430473,
          0.4689515858152949,
          0.44760183954317123,
          0.47611078275759866,
          0.39637529198688287,
          0.4829435230433377,
          0.7266967384103914,
          0.5406719395290097,
          0.24672393402597,
          0.5054951034259277,
          0.6724513893639816,
          0.5862960222973943,
          0.22151044601930275,
          0.4958671358841091,
          0.6374609328674301,
          0.3292818804035631,
          0.5316084957650697,
          0.4301478565745693,
          0.5659003057201731,
          0.6343922853062157,
          0.5775037514116427,
          0.5012977328689328,
          0.39325985319742013,
          0.2954000252662303,
          0.6085513812401996,
          0.44825275309617063,
          0.5629926123088923,
          0.21593871524245717,
          0.011191679345034743,
          0.6242462120310465,
          0.6004554997330906,
          0.5951953915761184,
          0.7172378632192906,
          0.6543437160487146,
          0.5209608225367679,
          0.589069269692014,
          0.5317505738248328,
          0.10575573337725648,
          0.6985255614272043,
          0.5123429194683219,
          0.6061036756986051,
          0.5092251909400072,
          0.024869021304741248,
          0.5026584431775781,
          0.540602053020402,
          0.15093591862755254,
          0.5303063479837034,
          0.38319274863507635,
          0.36754274564413486,
          0.6339713069014036,
          0.6745004010725013,
          0.6301663969873175,
          0.08614579328763185,
          0.305700624329299,
          0.58515151418271,
          0.5156748211522367,
          0.35154918940664026,
          0.43435864478896447,
          0.5368056964344825,
          0.515561404781411,
          0.034508787599112856,
          0.42692178525890273,
          0.6661758748153211,
          0.8726688435290986,
          0.4571881777096358,
          0.5134074165752012,
          0.29996425740503296,
          0.4970034061885044,
          0.18843544546702223,
          0.4682919369017584,
          0.5212744429477402,
          0.5137611287259073,
          0.5710912001239846,
          0.00751306027183641,
          0.4848489635736448,
          0.5673908002734703,
          0.5256062930132804,
          0.4695348454475785,
          0.5458356268474441,
          0.5937528187452116,
          0.21318756407081468,
          0.09056404007955514,
          0.5371846169934429,
          0.5263686786732914,
          0.5873765798405982,
          0.27982412927459516,
          0.5165979592959187,
          0.5082469225537046,
          0.5490979423189344,
          0.015769951153573207,
          0.11455961093747284,
          0.538142404162944,
          0.18390120337673366,
          0.6034364118802554,
          0.6315470745803095,
          0.3423816585016826,
          0.3160934452688958,
          0.5521846677293829,
          0.5467027601709736,
          0.4479338795809021,
          0.8823873203607631,
          0.8172120997619723,
          0.5346164451588374,
          0.05422626039882141,
          0.49821797414830643,
          0.06575355680645165,
          0.4934448152321702,
          0.47551326361427193,
          0.5873245321608608,
          0.17473842633673234,
          0.571013058372563,
          0.3663963240009735,
          0.4311521586563443,
          0.5155056166870882,
          0.389051395265888,
          0.642020229963293,
          0.32488659889058874,
          0.19379287412204166,
          0.6800639372299793,
          0.565073229677659,
          0.11043171574680895,
          0.47922966694366276,
          0.5652103352041012,
          0.6056708506617994,
          0.3764146576534835,
          0.47531900998556015,
          0.4486708942005707,
          0.4827482650050843,
          0.5494407071513102,
          0.35790265589670955,
          0.616211640168721,
          0.3726835401929694,
          0.5279353877718973,
          0.4378979160720819,
          0.6545737033169513,
          0.46519331406489767,
          0.4531025972878443,
          0.6224632894930898,
          0.5726946405592062,
          0.28711547726054876,
          0.03400453170579163,
          0.1072205289109557,
          0.5624222446468201,
          0.34660033615891284,
          0.47037477751217754,
          0.5005226883102987,
          0.6439735521378662,
          0.5243622604351312,
          0.4820800612980455,
          0.5188784664093433,
          0.5549622862329648,
          0.4878691768502413,
          0.48787312876970756,
          0.4678448511003524,
          0.487832801350528,
          0.4901296895199629,
          0.3903814765907832,
          0.5658019977187984,
          0.01016543015197778,
          0.3753293960813189,
          0.2975906947049328,
          0.5769398984244708,
          0.8949922877848139,
          0.3980623627599146,
          0.5077470010924754,
          0.5084799200257237,
          0.49064006880680194,
          0.6292181744356484,
          0.25685359979436617,
          0.5283122884023372,
          0.4303379348482307,
          0.3467682516034749,
          0.42544138100642837,
          0.5288605188457676,
          0.5098384435690191,
          0.39735770077531746,
          0.1675613790088395,
          0.41394324955513756,
          0.5518878807877607,
          0.3765644802387179,
          0.712761187695293,
          0.3600769057091355,
          0.4012917463784838,
          0.5535351856985833,
          0.00794384453946712,
          0.577135601896536,
          0.7623520791060272,
          0.08695315051677797,
          0.48670377594954733,
          0.8475488580169098,
          0.3211614585465709,
          0.32485422412400083,
          0.4009822857246912,
          0.625644398605397,
          0.6117931868813581,
          0.2835451233128796,
          0.4298949623269219,
          0.5990306520511752,
          0.1622133258560757,
          0.4380905100267853,
          0.2741985441727988,
          0.5318774937064834,
          0.30784447261981923,
          0.6221245405920195,
          0.6183195586859704,
          0.5501336997259928,
          0.38736874189148474,
          0.5270262551382894,
          0.5727143096238256,
          0.66187519010292,
          0.5428641275476602,
          0.5297496233653535,
          0.45189465935085216,
          0.44493420744456513,
          0.604413863597533,
          0.32091611250237445,
          0.41948157732974733,
          0.5860646864135558,
          0.7508920516725639,
          0.6604489336753248,
          0.40075216244908,
          0.04987786109209158,
          0.5997587569398893,
          0.4295627107192774,
          0.42076383425892677,
          0.5190213898597258,
          0.6646193184949352,
          0.2693808161605941,
          0.24630706977099062,
          0.4424030888289352,
          0.5096812389546599,
          0.006499120343631788,
          0.48051087877624266,
          0.33764743284374,
          0.6840711196566084,
          0.5852320598348896,
          0.6070909388661911,
          0.41724700855624547,
          0.558620215376857,
          0.5549275796729132,
          0.13536699262368515,
          0.4724189936306042,
          0.542857404184223,
          0.4244532645508294,
          0.578802769576305,
          0.5992452078954621,
          0.3462543154288903,
          0.48754215157947384,
          0.5460325108760082,
          0.48163441081670905,
          0.11556424873330606,
          0.6452168799132226,
          0.583660213396338,
          0.4515803897216627,
          0.4912552148871178,
          0.5214972594347841,
          0.0442630860331894,
          0.756684346792304,
          0.5506377209762531,
          0.09480990151869165,
          0.4332650330379299,
          0.8284276489778427,
          0.49470046237024823,
          0.5242015115827047,
          0.49837212054619534,
          0.5785192363461734,
          0.27685022100814755,
          0.14594910493966187,
          0.40092976993017737,
          0.37576547499721863,
          0.3686997580493234,
          0.48359716262243446,
          0.2366664195022258,
          0.30681376034411356,
          0.4806564970421244,
          0.45454032835732805,
          0.5370963327920152,
          0.5313469616135842,
          0.5522944062315353,
          0.4110248775609357,
          0.5596135232485899,
          0.478280314397795,
          0.11442881224459553,
          0.12722332111362364,
          0.12947504386374878,
          0.4478834586152567,
          0.47387768327819363,
          0.5537441284006029,
          0.5685732464883214,
          0.39413973056780205,
          0.5036966768318599,
          0.5181136904118199,
          0.059433775398811735,
          0.4873048810856823,
          0.5294774050480273,
          0.4348505103189708,
          0.2767148295527047,
          0.3699263527969616,
          0.5458987881125337,
          0.11503966679232144,
          0.3284907793974119,
          0.21963546235346643,
          0.6060484963158846,
          0.4488649490278722,
          0.4325962837563349,
          0.15204266657197443,
          0.34219902595844415,
          0.6593683633918656,
          0.6367144780631611,
          0.07865096679230928,
          0.49157964515914937,
          0.3249213987515208,
          0.5875224712621337,
          0.6444290418480055,
          0.6278482408334781,
          0.4590223652986186,
          0.4367796721382683,
          0.6806032859408809,
          0.2978501437362309,
          0.6230556732978579,
          0.38817299855559745,
          0.15933385091380978,
          0.08123138807778812,
          0.43440323867852537,
          0.543193891865628,
          0.014427484490946838,
          0.3718387923356543,
          0.32014220051465847,
          0.6670098827764533,
          0.23615778619170935,
          0.3887248411212095,
          0.4600823111093963,
          0.4312469130884167,
          0.3031589844114035,
          0.41966915795208976,
          0.7183995853781994,
          0.00013440895234321555,
          0.6707289925536356,
          0.4398277120339449,
          0.8448441191726327,
          0.3050258716086103,
          0.6248134484093439,
          0.5477142948450556,
          0.43965442364347507,
          0.6716080199768834,
          0.6393470227622594,
          0.379021126887453,
          0.27933155438699786,
          0.42846012035272474,
          0.4016345278257745,
          0.6130465982052036,
          0.338130532097738,
          0.2750532072228548,
          0.2555367090796819,
          0.5519881375044621,
          0.5158005169489357,
          0.4771796629623943,
          0.4052252142684125,
          0.12418567504673868,
          0.5153700863716099,
          0.09815308904492757,
          0.45216481805233205,
          0.38943319880973626,
          0.5063480295646476,
          0.2618146230916427,
          0.5674984081442415,
          0.8894232386790812,
          0.43765704239768904,
          0.21597762909348311,
          0.6709326020047028,
          0.8998106251124746,
          0.44748583612135745,
          0.5525085853694415,
          0.3634742714534149,
          0.2825798004816756,
          0.1804084646254229,
          0.8163455826663749,
          0.029519003054797707,
          0.052229635970142844,
          0.4456081302677127,
          0.23382985975751597,
          0.7260304126540209,
          0.5629524532258866,
          0.04882443804207503,
          0.911057327158759,
          0.542378529515538,
          0.5483119530580126,
          0.36657284290495307,
          0.3997373739081671,
          0.5656309212228554,
          0.6063481776401803,
          0.5210361571737658,
          0.5422242440016369,
          0.6239649165614812,
          0.23196676038775008,
          0.35703451365815,
          0.509438135407909,
          0.47720289409344224,
          0.41753386825097516,
          0.43281424109966216,
          0.4930633001425303,
          0.7264855275505429,
          0.19473982127862974,
          0.5820137373607253,
          0.6376653078250778,
          0.0001631491811187456,
          0.09653700622137991,
          0.22827395249612165,
          0.504457503909267,
          0.5724975779976149,
          0.46346041208548006,
          0.28560166878212917,
          0.35673491039082483,
          0.8498815150816369,
          0.3342237188885426,
          0.47448651218807686,
          0.37926445457212615,
          0.23080127064586584,
          0.43897459622185064,
          0.8215687266338814,
          0.45940886128456554,
          0.572372889953501,
          0.7639559247553488,
          0.44635979801257264,
          0.027365543303289278,
          0.29644982628245287,
          0.8572289746417624,
          0.3139087163993833,
          0.06503224325018418,
          0.31655733858235385,
          0.5767136792072495,
          0.7083390727667412,
          0.2698345758922873,
          0.8611484144730884,
          0.918141800906308,
          0.11185568052665741,
          0.5918475718665065,
          0.4125106119879805,
          0.5053681614324795,
          0.8550647505001355,
          0.6576663319513535,
          0.12940214459315305,
          0.5308758554173554,
          0.4438499866316939,
          0.5807662344466589,
          0.06590574320223669,
          0.00337644207775859,
          0.401552642950985,
          0.5765627895349258,
          0.3774196454843255,
          0.39505180671466944,
          0.5916690180846521,
          0.17509442221759386,
          0.49931080964736374,
          0.09999746955152565,
          0.10287885487666379,
          0.00693303487754676,
          0.32749540769331087,
          0.4037940660205737,
          0.7049811623863692,
          0.8684160313171941,
          0.916032377757883,
          0.011139812524753606,
          0.5844567653749083,
          0.6351746211889021,
          0.6541485887008359,
          0.29480022817442036,
          0.391059835593293,
          0.24583926592901248,
          0.3897490970580288,
          0.4745365682742723,
          0.28928562523705087,
          0.8113781471703404,
          0.5602532804617939,
          0.5497567992244836,
          0.4110503563382091,
          0.3944823720947707,
          0.3233184590273115,
          0.4672723446830697,
          0.6087182779077062,
          0.43842277487291453,
          0.49529552494358375,
          0.34000997186481624,
          0.2658866170055041,
          0.7976558933781951,
          0.3787934786582927,
          0.4559614265684758,
          0.4091010873595574,
          0.5610059490808655,
          0.8072014365587353,
          0.5766366780721616,
          0.14218447896582148,
          0.4005522445493526,
          0.7627861247488343,
          0.13722342325448914,
          0.5904188570467959,
          0.25271561584112956,
          0.4728256738743468,
          0.4818770869324789,
          0.7504248363113587,
          0.42156712793790135,
          0.5904312673470371,
          0.3816709107119496,
          0.29126893378496443,
          0.3885496954481949,
          0.24183804233821954,
          0.5575591279224068,
          0.6322926389096131,
          0.2847456907610163,
          0.5192380141432976,
          0.1841628425494005,
          0.48167315736648464,
          0.8337298412877329,
          0.10794258067178537,
          0.0064090247101895705,
          0.4772993285540421,
          0.3179171174649363,
          0.07272336062832092,
          0.7215920252998711,
          0.36893532099647686,
          0.3783008687816936,
          0.352288488304482,
          0.46282276491021956,
          0.24531040048051303,
          0.006113724750582835,
          0.02654343498321844,
          0.2859464518159972,
          0.5583076930503647,
          0.32275762645437384,
          0.20629000842677805,
          0.5961608579602808,
          0.6871179257791463,
          0.02594680866470552,
          0.25868972332722845,
          0.2638164400390309,
          0.02067482258978292,
          0.003600112048268628,
          0.10886196598946339,
          0.53078690986561,
          0.8537881333220719,
          0.5097436881274864,
          0.6870707300929764,
          0.5523229485910206,
          0.49305234712284035,
          0.0685109112432325,
          0.517788931281134,
          0.5058599578470067,
          0.5427027124531787,
          0.5364524709337635,
          0.8734028811988036,
          0.025385036412673822,
          0.3265145138675302,
          0.5159531403727492,
          0.4848971812913046,
          0.5885850544640743,
          0.5227152177257728,
          0.7769235764212559,
          0.3801944919586176,
          0.2563780997400634,
          0.5429932691982534,
          0.43978795824150846,
          0.03470373748407318,
          0.27159382218720773,
          0.011176323214210911,
          0.5314368363241008,
          0.5033488887282213,
          0.8475245911153366,
          0.6665719783618028,
          0.10139013741226513,
          0.12863698005874763,
          0.32511497967520936,
          0.5376791048722588,
          0.3931926512884326,
          0.4453729045302141,
          0.6680657905493577,
          0.8592770480903391,
          0.0017192608577003099,
          0.4941272934402306,
          0.5496736828509753,
          0.527359214410907,
          0.09156089209066048,
          0.4664374795391592,
          0.3972253873279673,
          0.6437448055068647,
          0.5369734325535263,
          0.4967391953901248,
          0.010245505890393065,
          0.5654024842499206,
          0.22063784283022833,
          0.5269683274433198,
          0.5813636109913503,
          0.817384405089721,
          0.41017076313325196,
          0.15383879801425104,
          0.29033156681919114,
          0.3668240210990112,
          0.6305675226412906,
          0.4898056206972575,
          0.5433085280643458,
          0.8812376637861143,
          0.4727858191182994,
          0.6577553095558887,
          0.3217747515335916,
          0.4737690116542581,
          0.7744322067932328,
          0.6150619563181348,
          0.5394717455191853,
          0.45337935129533286,
          0.6079571718751214,
          0.11488086705370405,
          0.3802124659668343,
          0.48552971209515333,
          0.7789804014960083,
          0.8589751879319948,
          0.534150286205543,
          0.6041739326186039,
          0.12741372630062509,
          0.7932604896255426,
          0.008023387183416842,
          0.4087933294392386,
          0.10432478212004133,
          0.2533139575028539,
          0.6418699392748217,
          0.20895280384454698,
          0.4963583458175636,
          0.4535309534836279,
          0.40544873861352676,
          0.40806507660661256,
          0.4566040588359737,
          0.6692474749288291,
          0.0976409702141922,
          0.8516772705159552,
          0.26895561274938684,
          0.42627664459511716,
          0.6787929503539691,
          0.7829229585397247,
          0.7107465654826005,
          0.6223164721061755,
          0.3377266475832394,
          0.48786238414769767,
          0.513359768329712,
          0.6906489986429605,
          0.47841550364376934,
          0.40055521989775594,
          0.9133262314104454,
          0.5955267179192157,
          0.48097694864723484,
          0.8687142798840068,
          0.545758994603577,
          0.19903890766530458,
          0.6617823360081249,
          0.15417922091619132,
          0.457694840960646,
          0.5864553798614199,
          0.4863654823936572,
          0.4875566857920667,
          0.29352603042213693,
          0.4051410426829733,
          0.004248023218859574,
          0.3417904289088779,
          0.48410450507356706,
          0.5571316700627688,
          0.049682942476467484,
          0.4660098287953712,
          0.43582715691929064,
          0.3214208043813412,
          0.22425040629604007,
          0.12762204275647215,
          0.45278549231064086,
          0.5218268793672098,
          0.5380171666691052,
          0.8107843512201091,
          0.58456278000047,
          0.3597345272622222,
          0.45890237595887057,
          0.42129678504394497,
          0.5295275189603541,
          0.6281779317659025,
          0.46990556161980696,
          0.6288769130367314,
          0.6942780281656127,
          0.282352897652299,
          0.02758694804702092,
          0.27968467154577253,
          0.5627450262892303,
          0.5101005270634222,
          0.5117838817049878,
          0.39482330810651084,
          0.615914430223295,
          0.47856868760370413,
          0.38921628335288994,
          0.3966526024128065,
          0.6531348198859821,
          0.38357965507149455,
          0.5576753404296863,
          0.5148425544718283,
          0.39387270941764496,
          0.3884268057297868,
          0.404884469702356,
          0.6496668014690156,
          0.34186839246096,
          0.4636416408648096,
          0.014711955740335632,
          0.4414166735047593,
          0.3042350179853489,
          0.5164338640074836,
          0.004388829168466595,
          0.6823041948648207,
          0.7119272215995041,
          0.310255541442654,
          0.4181263034766392,
          0.06155862976320339,
          0.6017705549645703,
          0.8961971195568612,
          0.6397851596965591,
          0.5670866808567443,
          0.5237458030874027,
          0.3685854176007624,
          0.20938718507478035,
          0.5879195674650275,
          0.38203797479372836,
          0.4125446687292993,
          0.5786111622273526,
          0.18529628526621197,
          0.832242210030151,
          0.006758426657515217,
          0.6698230820317685,
          0.5236274642987502,
          0.8909967059642228,
          0.07274417630185244,
          0.4557582371197018,
          0.8453594921474119,
          0.4416100160620312,
          0.8313256575565355,
          0.6090132358326873,
          0.5545244459119102,
          0.1811581706783499,
          0.4535498133212848,
          0.3003940131464392,
          0.37259735589887816,
          0.4530666620797478,
          0.5004907413591442,
          0.5818717702693023,
          0.39797407082358077,
          0.18668209255704615,
          0.5806884085424184,
          0.05013580674625305,
          0.39462330460523076,
          0.02910870064560886,
          0.6326029046832016,
          0.42441024246790526,
          0.6099996906351624,
          0.2193008652053577,
          0.22626495139636268,
          0.41994735497086166,
          0.22919802763646438,
          0.5527763453630609,
          0.6105198716341745,
          0.4929127235114662,
          0.5570585218839509,
          0.8937277233887325,
          0.6158101962504295,
          0.338504847323613,
          0.6302141454129364,
          0.4979196971637855,
          0.5350225285515315,
          0.4584649735422766,
          0.6323150680548838,
          0.363877377587735,
          0.4540314145828098,
          0.7501720515896413,
          0.23549264554642704,
          0.6472316719218045,
          0.4155392570071707,
          0.5262258136739871,
          0.8370901464890232,
          0.1466964569243438,
          0.008580060706743907,
          0.5018509797838722,
          0.24305341440426867,
          0.8903407803185696,
          0.6044681715968586,
          0.3389016711333366,
          0.5103294822937802,
          0.3384891130129961,
          0.3952249880862172,
          0.405071176524252,
          0.8552349360475607,
          0.6247776991256139,
          0.4004659457170347,
          0.6035417405872996,
          0.6350308147550504,
          0.004359865117984579,
          0.0737473854656919,
          0.23038295632832825,
          0.617816096289242,
          0.41960014116667593,
          0.009319734181077828,
          0.00616737549657303,
          0.8180087314814847,
          0.11777133754507084,
          0.5860832358494202,
          0.45068436651132976,
          0.3838548337914993,
          0.42260689439699045,
          0.6070123589426134,
          0.44036583175577665,
          0.15123645600430707,
          0.3331621339378251,
          0.1525892775244188,
          0.011391767034232517,
          0.15758483637100754,
          0.9147164245803742,
          0.5459317950732158,
          0.328451805845597,
          0.444102791557669,
          0.8768246402909412,
          0.5152416830664475,
          0.06983814810616891,
          0.7408479920028461,
          0.6122512057104057,
          0.5188676289795592,
          0.5651911614864876,
          0.023563617666039177,
          0.393709959197112,
          0.35478385638009424,
          0.3100676248998322,
          0.8985840927346603,
          0.5607219969121414,
          0.33406102470945936,
          0.5438115946946682,
          0.3022184083415948,
          0.15805387542206747,
          0.7966312667776287,
          0.5349427354147415,
          0.6147036208692335,
          0.4012044398684,
          0.5872480549846825,
          0.18909163971856602,
          0.465268961451268,
          0.4819113233490181,
          0.5337012162181861,
          0.6440861766567921,
          0.4946581976101315,
          0.43682052540338484,
          0.32500730158506647,
          0.42902686793099515,
          0.35310796659588706,
          0.4887787440335073,
          0.8601799530584632,
          0.26624894337905936,
          0.5401364573314215,
          0.37691762924956457,
          0.5807961106135576,
          0.4222494716048134,
          0.2394111948457074,
          0.5355467460852932,
          0.5232859820474153,
          0.3916073304769495,
          0.8470945966138583,
          0.47793760916426936,
          0.46104610027186443,
          0.6220610888983124,
          0.005538830805968517,
          0.685582564877414,
          0.786994077787382,
          0.4824522004434665,
          0.4572347990247107,
          0.0663158708340914,
          0.08213644596795977,
          0.5635783637458066,
          0.44355887156967094,
          0.4786602176139338,
          0.34329356049245996,
          0.5788786523248393,
          0.031757464257020515,
          0.38172575312217477,
          0.4576035861954251,
          0.25769835503749333,
          0.9121666681561476,
          0.33281412003276545,
          0.37135926901612404,
          0.6498144409856267,
          0.30987057320361877,
          0.49440045675986766,
          0.466015545607808,
          0.45642471201673573,
          0.6904384746979999,
          0.35342480940966703,
          0.40718777768878783,
          0.16116153113880635,
          0.4604460661197469,
          0.9146170031373532,
          0.5137863103845463,
          0.6170947692712321,
          0.05787395422494888,
          0.29512486862472814,
          0.13800559137401341,
          0.6167729662386954,
          0.39291008207979766,
          0.1470084465830863,
          0.7478835474858948,
          0.6420643293767953,
          0.5308432690528623,
          0.03426602432613681,
          0.38929626319373883,
          0.00563420479777157,
          0.11761074608775197,
          0.5636146385036602,
          0.17380051670870844,
          0.1297233062393227,
          0.6197112108864862,
          0.3714728017999998,
          0.30350055919803376,
          0.047498089777065954,
          0.42015057706067716,
          0.47733043449470386,
          0.46956203875223873,
          0.6257392686378541,
          0.4345143326693063,
          0.6092900377920845,
          0.5484966979063481,
          0.5400723956301329,
          0.4267590548698471,
          0.24879282961729662,
          0.7319831360635703,
          0.7755893809115988,
          0.2917380951087375,
          0.13395828979459798,
          0.5338633399648195,
          0.3716490811884334,
          0.8448540353501583,
          0.35277826804934864,
          0.4538911318813675,
          0.33941454727790193,
          0.4156096766263797,
          0.2289647141339886,
          0.008119522681213623,
          0.3914191397439473,
          0.619016335575638,
          0.31710693428696746,
          0.48417763414299436,
          0.3950439744867578,
          0.4855563657465741,
          0.09896844137749897,
          0.3111306116321257,
          0.11575003302512732,
          0.8979475666328713,
          0.6756188269867603,
          0.06671449908953239,
          0.042995337441442835,
          0.327976205935702,
          0.4128285052083202,
          0.3327171248205146,
          0.8992462304674909,
          0.26527287663083116,
          0.4878901301481518,
          0.022278386363178273,
          0.05212925806717174,
          0.0716596448363099,
          0.4440080606570145,
          0.5302576143820243,
          0.606472427250392,
          0.2759674542387282,
          0.36581459218456946,
          0.2798636417711887,
          0.7264601862493301,
          0.8821262662749644,
          0.6664831326438989,
          0.6532770751028306,
          0.021760905313858395,
          0.5140350763533338,
          0.351717172549414,
          0.8358077751484483,
          0.5289058343827366,
          0.5997159175878808,
          0.6940579938064688,
          0.6619562129964742,
          0.7326356874957818,
          0.48608754641938634,
          0.08068448540073275,
          0.4408031355857599,
          0.3844353474502714,
          0.6283984366499924,
          0.41669534005895303,
          0.31817712051239166,
          0.29614970932926943,
          0.5909621330227778,
          0.5913061389541163,
          0.592245002844406,
          0.32515943431527494,
          0.5856501795322717,
          0.5041499268647582,
          0.44402826152439384,
          0.4682467260661325,
          0.20502966487005145,
          0.5048839656669296,
          0.8853214067583814,
          0.37159967704531066,
          0.398958645374683,
          0.8705359712604287,
          0.8827265276459311,
          0.4342297627910747,
          0.6143748692437561,
          0.4560047495717274,
          0.19161015723281058,
          0.6089840732570135,
          0.40725330890669015,
          0.2399107492642193,
          0.30172602786602426,
          0.5305021526692114,
          0.5820413478762748,
          0.661816136199852,
          0.49071801964693296,
          0.5782246547146991,
          0.574247717301694,
          0.46866570271439817,
          0.5914545272033387,
          0.4578534949254214,
          0.5917973261731969,
          0.547995453638595,
          0.4901867665712625,
          0.34800159746445675,
          0.47770086998565076,
          0.506032944783172,
          0.5077048686859461,
          0.5322428439187236,
          0.41159964214561884,
          0.5617150038983559,
          0.687956794832565,
          0.5083642348742462,
          0.6431590392350602,
          0.6042897750260177,
          0.0724204914566579,
          0.04909107523917507,
          0.16418631810539427,
          0.7717062044426961,
          0.7208128075908136,
          0.579096855200051,
          0.4059397197170961,
          0.41346498593639786,
          0.761580657517466,
          0.12453086469392587,
          0.4562848915833853,
          0.40114470870204133,
          0.6065189085061741,
          0.455356661694658,
          0.6511625897834336,
          0.636287961406332,
          0.5003095797240837,
          0.40084197092260976,
          0.8516233952780254,
          0.2621830918703416,
          0.11617940969189233,
          0.4401163771354992,
          0.47167123461377913,
          0.7021902110750278,
          0.43954254395990694,
          0.16879612904592983,
          0.6485004224332481,
          0.31339277866344933,
          0.5021093003890713,
          0.48219443147484387,
          0.6596836008515488,
          0.3455172740573804,
          0.5254094371117262,
          0.5765194047560244,
          0.6379032165500204,
          0.26174746498768603,
          0.2548536635754625,
          0.6727442323065457,
          0.6370798707204823,
          0.5485346860854151,
          0.43840428788811625,
          0.472026281017736,
          0.23501044093762385,
          0.41570658026004514,
          0.3036133782186167,
          0.24861168757866572,
          0.3079817162130638,
          0.5057960675422265,
          0.6699293076382568,
          0.8712501230756413,
          0.01085595410698247,
          0.570551875615158,
          0.4727808740894472,
          0.5335384558996067,
          0.245012438515614,
          0.30299371438612055,
          0.3996424151812593,
          0.5354366176913073,
          0.7061474349221334,
          0.6520622998034318,
          0.5663004900156223,
          0.3289384851256966,
          0.4539493549964182,
          0.41422454032744715,
          0.40562273694844964,
          0.6892717829994921,
          0.40449694538034153,
          0.445133046222005,
          0.3169549659127622,
          0.413433275707885,
          0.6358147539542682,
          0.4314861226966328,
          0.44571251054448374,
          0.5585017052168957,
          0.8202770963594157,
          0.38346309773712495,
          0.2331166138792046,
          0.5407371757712189,
          0.913715746508268,
          0.1509028530445965,
          0.8725756165835908,
          0.3318403123966768,
          0.5709983538066946,
          0.542026617911582,
          0.5626511610183317,
          0.3870460278249873,
          0.5607902105682435,
          0.25089814670432004,
          0.14538764502133095,
          0.45530604627830285,
          0.16387067360652743,
          0.6063141169833232,
          0.5601825504753214,
          0.3964718576853637,
          0.4492970462602356,
          0.9021895683140133,
          0.5226129302727298,
          0.5700132280745127,
          0.30861861950475655,
          0.10787627994748158,
          0.5549456841931709,
          0.46607768835163427,
          0.10727062273572997,
          0.7201769665027755,
          0.3488603139965064,
          0.4990624860529693,
          0.3476726762337481,
          0.5048857169293929,
          0.19957491020951765,
          0.010754774089218714,
          0.06461289773571957,
          0.6009348073377296,
          0.4809415727202828,
          0.43046230624018317,
          0.4367877399328739,
          0.6569438936430494,
          0.5342894019569179,
          0.025088370698037973,
          0.4661240881057394,
          0.5561314674141473,
          0.12612411229765846,
          0.004455535954793165,
          0.343028593901914,
          0.6071225206269313,
          0.6838816028268468,
          0.4728497083332584,
          0.6489216711349898,
          0.5457427332104935,
          0.5156882845429074,
          0.613242230362259,
          0.553327943054282,
          0.520523364517543,
          0.49527231110944,
          0.3383510317344237,
          0.6128249267672196,
          0.41491376305815236,
          0.281566786471066,
          0.5169106204447439,
          0.6381988118617721,
          0.40432058473688026,
          0.8803022968611509,
          0.4831897540605404,
          0.3616240031504874,
          0.5630016009017863,
          0.5494494722838237,
          0.03894017260958115,
          0.6244793846057934,
          0.010926737934859378,
          0.6319772390277478,
          0.8918708795964485,
          0.6273302229276319,
          0.5490506230501855,
          0.20225244708621018,
          0.23563780816227414,
          0.5351215764490741,
          0.5162840323690914,
          0.43613722938498173,
          0.37625389751574884,
          0.5379998166833507,
          0.7654438798788545,
          0.17376636239054416,
          0.2797148740027727,
          0.45931515261666384,
          0.5306627180116952,
          0.33998959383104954,
          0.5226462228742306,
          0.3724523442889576,
          0.8911912429813867,
          0.5087236190979364,
          0.2401518812138931,
          0.015456351795510036,
          0.6360186175282596,
          0.376462515652385,
          0.4819322323619679,
          0.5874931706532357,
          0.4707474785775015,
          0.5407740473385225,
          0.07558061087121089,
          0.3289240880019213,
          0.3817752733442629,
          0.6194254484201854,
          0.5625597774955395,
          0.5193390432623874,
          0.651000977081556,
          0.42519209436390387,
          0.35242282118058216,
          0.3203549483587277,
          0.3941409049901005,
          0.5386342123238224,
          0.6738070975671602,
          0.6118673052187993,
          0.45136917361523193,
          0.4813197802983019,
          0.6602174678941398,
          0.11187775521372034,
          0.5360198291253208,
          0.2857601581416293,
          0.674448003398564,
          0.8419083757683707,
          0.5681643026553448,
          0.7491991559639386,
          0.2075016718151441,
          0.6036286458984096,
          0.010105300162638222,
          0.3856771827700957,
          0.04334405597283571,
          0.513780354081621,
          0.5407097732824375,
          0.42855439642301507,
          0.49072431281516055,
          0.47420837175136094,
          0.5354054321668968,
          0.3949894408031813,
          0.7639989386295595,
          0.5485454658329377,
          0.32751806690102847,
          0.4832695743422623,
          0.598012947248722,
          0.49730813372470173,
          0.4810902591050412,
          0.800094715841324,
          0.906874796784813,
          0.6615566840669226,
          0.3779444992488908,
          0.8487473364095505,
          0.5071114937130954,
          0.46894073271412645,
          0.5421212940673031,
          0.8922560087426874,
          0.581299751781139,
          0.570508377952907,
          0.5843242455572806,
          0.39000163404517973,
          0.6267773225007834,
          0.5644226720226777,
          0.4489413275119757,
          0.568579521979982,
          0.5149434249072519,
          0.48440900742270554,
          0.3757541390724885,
          0.2744803607508501,
          0.41892978859930596,
          0.4115252395136397,
          0.5056058255523311,
          0.5651026328999552,
          0.4157664901515946,
          0.5182179202443921,
          0.4265993166692013,
          0.3024756043020395,
          0.09051983267610454,
          0.5004272918671681,
          0.609308908873815,
          0.6556859028820361,
          0.5779558143250615,
          0.6277111334132761,
          0.6406471072671253,
          0.30186754295024026,
          0.4092266091135148,
          0.3382552211120632,
          0.29937671780959463,
          0.5328406710879703,
          0.6081169113311004,
          0.45428374671981314,
          0.679825575954896,
          0.4999261600643064,
          0.4448484126979007,
          0.08937258613761806,
          0.29235246131336085,
          0.5666209438966616,
          0.45781087788396985,
          0.42935513079070237,
          0.5988389135358592,
          0.6038989554107002,
          0.45880156668428806,
          0.4530933555093959,
          0.4895236157065368,
          0.6615163635711567,
          0.3748335545582417,
          0.5557978855566041,
          0.550111790657529,
          0.4362338594687436,
          0.38330559477633397,
          0.3331038271560543,
          0.6497824424347642,
          0.3511163390034911,
          0.8081498147436234,
          0.3247070391116925,
          0.4477882682704079,
          0.3187119860237667,
          0.4122384055752761,
          0.6650860521970807,
          0.8416427780753208,
          0.4120313206798552,
          0.9018779479581678,
          0.15610399921592621,
          0.4392078764048933,
          0.41059869590249254,
          0.4742573051259836,
          0.5851682644697342,
          0.3885543929251227,
          0.1449799576413686,
          0.35456198272146483,
          0.5695518340444367,
          0.4495994468246975,
          0.4196362940638072,
          0.4574599170775708,
          0.8758834820196137,
          0.02073622782312435,
          0.8629201449409042,
          0.5242245033720656,
          0.5917325253284009,
          0.19954200216709075,
          0.48970734957765166,
          0.6301537268346684,
          0.4959013488202978,
          0.8475689535306,
          0.6970592501792838,
          0.316217045447729,
          0.4273620107611058,
          0.30776757941167854,
          0.4580936124633763,
          0.5500695468343407,
          0.48144109599158214,
          0.5182101579132358,
          0.48008243913860077,
          0.549883811240753,
          0.5752536553925613,
          0.09329743927211005,
          0.4385047431724093,
          0.03659491386667363,
          0.5350686737540271,
          0.3785336489354515,
          0.31757276989039773,
          0.33660314744684416,
          0.6439557178826699,
          0.5262490865795285,
          0.34572777283484435,
          0.6611622971262985,
          0.5704045681768719,
          0.47207492605908913,
          0.6010855533961899,
          0.5716894594373989,
          0.6939681364419878,
          0.6186619150946236,
          0.6574890517691119,
          0.49258551764822434,
          0.5485225682666266,
          0.6081037036901011,
          0.46008129733772035,
          0.5830473146383665,
          0.4297066958608952,
          0.673792813300312,
          0.4583557567884475,
          0.8990449371309023,
          0.4359434817709332,
          0.4867939337794608,
          0.6270151150781947,
          0.8757074837378729,
          0.21824373327664762,
          0.5997573263643357,
          0.35772110712624067,
          0.615574680696662,
          0.6115538852519729,
          0.4210499419622298,
          0.3536084800038799,
          0.40979839737211604,
          0.4720443225183074,
          0.5358674716485321,
          0.62107321857223,
          0.419558395476883,
          0.5527907372838661,
          0.538421806482028,
          0.06725659948272804,
          0.15448024227104887,
          0.6046466458964884,
          0.29966681172510956,
          0.22333517653714158,
          0.005278754458668483,
          0.6322571924730189,
          0.03785683440257286,
          0.5537558776453312,
          0.42106047582196404,
          0.46145051604321674,
          0.43109427940678885,
          0.5456560315293675,
          0.46224036106899724,
          0.31233193900498957,
          0.5267117655826764,
          0.5157093307209439,
          0.019579289099259434,
          0.42491046854137066,
          0.8919419241894985,
          0.5215448103180814,
          0.3823934430217115,
          0.4717698992296634,
          0.6036593249534473,
          0.4917029656422905,
          0.4522546834154888,
          0.5113269070128231,
          0.5679934638670391,
          0.6137747992238329,
          0.47779292515141164,
          0.6065611883160886,
          0.06498081316525381,
          0.3891672996841575,
          0.489282417946746,
          0.33547953099743966,
          0.6035893259318548,
          0.5685825194396529,
          0.5495787775652644,
          0.5158151713709459,
          0.32372112570586065,
          0.28037352624294404,
          0.5069103555924591,
          0.888419570047514,
          0.3964498464382612,
          0.45904011813430773,
          0.5355158574752666,
          0.38479797507715,
          0.4683307779856908,
          0.49569963715283777,
          0.4756670490013084,
          0.5537498773206888,
          0.3950311814199886,
          0.42029121326799423,
          0.44184089189941017,
          0.6379749723876585,
          0.22457594132987663,
          0.8626610531801737,
          0.3645691016991473,
          0.6037818898652398,
          0.24829698533378552,
          0.4683532503174637,
          0.5868123858085708,
          0.43141867904528053,
          0.5805477456839342,
          0.6275205155904535,
          0.4889772808443379,
          0.5561737367029095,
          0.6096086603886416,
          0.006162285152250822,
          0.4852408314259108,
          0.6724658125775994,
          0.5023605513791346,
          0.640733094631138,
          0.42436366058121394,
          0.07414252923764593,
          0.5616567132566197,
          0.5074159740336148,
          0.4405396234175421,
          0.5250230832759075,
          0.5485834571620134,
          0.14328692693898482,
          0.8673168244682545,
          0.5560349626210083,
          0.6156914404691277,
          0.319267113920889,
          0.703585030888092,
          0.383977784143395,
          0.4108886422808619,
          0.3521319051370062,
          0.5087556461439916,
          0.37471369946588406,
          0.45545761209387475,
          0.4703462700987718,
          0.4321099665653327,
          0.8613234207757049,
          0.9009624548189009,
          0.5355791021448962,
          0.07473934699534912,
          0.4086022901789212,
          0.45776329942712357,
          0.58441657139991,
          0.3757793096118858,
          0.5267211942948058,
          0.6674676217835128,
          0.8370433750944765,
          0.5209122219965807,
          0.035645737440693694,
          0.03714479536644806,
          0.012754629538495533,
          0.20546168819052346,
          0.39054255461937937,
          0.43517951553461404,
          0.6493941730169089,
          0.47340276215968813,
          0.3087898286659317,
          0.07371016116056907,
          0.5131658367528562,
          0.3057679905492624,
          0.6487345977362715,
          0.37377874387788873,
          0.3899710488795798,
          0.42630321327122317,
          0.43774858978678066,
          0.40476770933309275,
          0.5720547499216281,
          0.5108363998458236,
          0.28579120076808623,
          0.3997948445454082,
          0.42221643492552313,
          0.3785160000383381,
          0.3912165796062781,
          0.6361168734168704,
          0.5601105583912516,
          0.4750766742001147,
          0.18789210465241638,
          0.00813883580371322,
          0.3892395329670894,
          0.5827899992862047,
          0.4119070419363522,
          0.4688617943170997,
          0.6361719884049631,
          0.7913755547168618,
          0.015420078167557073,
          0.44936904647820225,
          0.4876472613114697,
          0.694842122650307,
          0.9112298572724684,
          0.14242782204389537
         ],
         "xaxis": "x",
         "yaxis": "y"
        }
       ],
       "layout": {
        "barmode": "relative",
        "legend": {
         "title": {
          "text": "variable"
         },
         "tracegroupgap": 0
        },
        "margin": {
         "t": 60
        },
        "template": {
         "data": {
          "bar": [
           {
            "error_x": {
             "color": "#2a3f5f"
            },
            "error_y": {
             "color": "#2a3f5f"
            },
            "marker": {
             "line": {
              "color": "#E5ECF6",
              "width": 0.5
             },
             "pattern": {
              "fillmode": "overlay",
              "size": 10,
              "solidity": 0.2
             }
            },
            "type": "bar"
           }
          ],
          "barpolar": [
           {
            "marker": {
             "line": {
              "color": "#E5ECF6",
              "width": 0.5
             },
             "pattern": {
              "fillmode": "overlay",
              "size": 10,
              "solidity": 0.2
             }
            },
            "type": "barpolar"
           }
          ],
          "carpet": [
           {
            "aaxis": {
             "endlinecolor": "#2a3f5f",
             "gridcolor": "white",
             "linecolor": "white",
             "minorgridcolor": "white",
             "startlinecolor": "#2a3f5f"
            },
            "baxis": {
             "endlinecolor": "#2a3f5f",
             "gridcolor": "white",
             "linecolor": "white",
             "minorgridcolor": "white",
             "startlinecolor": "#2a3f5f"
            },
            "type": "carpet"
           }
          ],
          "choropleth": [
           {
            "colorbar": {
             "outlinewidth": 0,
             "ticks": ""
            },
            "type": "choropleth"
           }
          ],
          "contour": [
           {
            "colorbar": {
             "outlinewidth": 0,
             "ticks": ""
            },
            "colorscale": [
             [
              0,
              "#0d0887"
             ],
             [
              0.1111111111111111,
              "#46039f"
             ],
             [
              0.2222222222222222,
              "#7201a8"
             ],
             [
              0.3333333333333333,
              "#9c179e"
             ],
             [
              0.4444444444444444,
              "#bd3786"
             ],
             [
              0.5555555555555556,
              "#d8576b"
             ],
             [
              0.6666666666666666,
              "#ed7953"
             ],
             [
              0.7777777777777778,
              "#fb9f3a"
             ],
             [
              0.8888888888888888,
              "#fdca26"
             ],
             [
              1,
              "#f0f921"
             ]
            ],
            "type": "contour"
           }
          ],
          "contourcarpet": [
           {
            "colorbar": {
             "outlinewidth": 0,
             "ticks": ""
            },
            "type": "contourcarpet"
           }
          ],
          "heatmap": [
           {
            "colorbar": {
             "outlinewidth": 0,
             "ticks": ""
            },
            "colorscale": [
             [
              0,
              "#0d0887"
             ],
             [
              0.1111111111111111,
              "#46039f"
             ],
             [
              0.2222222222222222,
              "#7201a8"
             ],
             [
              0.3333333333333333,
              "#9c179e"
             ],
             [
              0.4444444444444444,
              "#bd3786"
             ],
             [
              0.5555555555555556,
              "#d8576b"
             ],
             [
              0.6666666666666666,
              "#ed7953"
             ],
             [
              0.7777777777777778,
              "#fb9f3a"
             ],
             [
              0.8888888888888888,
              "#fdca26"
             ],
             [
              1,
              "#f0f921"
             ]
            ],
            "type": "heatmap"
           }
          ],
          "heatmapgl": [
           {
            "colorbar": {
             "outlinewidth": 0,
             "ticks": ""
            },
            "colorscale": [
             [
              0,
              "#0d0887"
             ],
             [
              0.1111111111111111,
              "#46039f"
             ],
             [
              0.2222222222222222,
              "#7201a8"
             ],
             [
              0.3333333333333333,
              "#9c179e"
             ],
             [
              0.4444444444444444,
              "#bd3786"
             ],
             [
              0.5555555555555556,
              "#d8576b"
             ],
             [
              0.6666666666666666,
              "#ed7953"
             ],
             [
              0.7777777777777778,
              "#fb9f3a"
             ],
             [
              0.8888888888888888,
              "#fdca26"
             ],
             [
              1,
              "#f0f921"
             ]
            ],
            "type": "heatmapgl"
           }
          ],
          "histogram": [
           {
            "marker": {
             "pattern": {
              "fillmode": "overlay",
              "size": 10,
              "solidity": 0.2
             }
            },
            "type": "histogram"
           }
          ],
          "histogram2d": [
           {
            "colorbar": {
             "outlinewidth": 0,
             "ticks": ""
            },
            "colorscale": [
             [
              0,
              "#0d0887"
             ],
             [
              0.1111111111111111,
              "#46039f"
             ],
             [
              0.2222222222222222,
              "#7201a8"
             ],
             [
              0.3333333333333333,
              "#9c179e"
             ],
             [
              0.4444444444444444,
              "#bd3786"
             ],
             [
              0.5555555555555556,
              "#d8576b"
             ],
             [
              0.6666666666666666,
              "#ed7953"
             ],
             [
              0.7777777777777778,
              "#fb9f3a"
             ],
             [
              0.8888888888888888,
              "#fdca26"
             ],
             [
              1,
              "#f0f921"
             ]
            ],
            "type": "histogram2d"
           }
          ],
          "histogram2dcontour": [
           {
            "colorbar": {
             "outlinewidth": 0,
             "ticks": ""
            },
            "colorscale": [
             [
              0,
              "#0d0887"
             ],
             [
              0.1111111111111111,
              "#46039f"
             ],
             [
              0.2222222222222222,
              "#7201a8"
             ],
             [
              0.3333333333333333,
              "#9c179e"
             ],
             [
              0.4444444444444444,
              "#bd3786"
             ],
             [
              0.5555555555555556,
              "#d8576b"
             ],
             [
              0.6666666666666666,
              "#ed7953"
             ],
             [
              0.7777777777777778,
              "#fb9f3a"
             ],
             [
              0.8888888888888888,
              "#fdca26"
             ],
             [
              1,
              "#f0f921"
             ]
            ],
            "type": "histogram2dcontour"
           }
          ],
          "mesh3d": [
           {
            "colorbar": {
             "outlinewidth": 0,
             "ticks": ""
            },
            "type": "mesh3d"
           }
          ],
          "parcoords": [
           {
            "line": {
             "colorbar": {
              "outlinewidth": 0,
              "ticks": ""
             }
            },
            "type": "parcoords"
           }
          ],
          "pie": [
           {
            "automargin": true,
            "type": "pie"
           }
          ],
          "scatter": [
           {
            "fillpattern": {
             "fillmode": "overlay",
             "size": 10,
             "solidity": 0.2
            },
            "type": "scatter"
           }
          ],
          "scatter3d": [
           {
            "line": {
             "colorbar": {
              "outlinewidth": 0,
              "ticks": ""
             }
            },
            "marker": {
             "colorbar": {
              "outlinewidth": 0,
              "ticks": ""
             }
            },
            "type": "scatter3d"
           }
          ],
          "scattercarpet": [
           {
            "marker": {
             "colorbar": {
              "outlinewidth": 0,
              "ticks": ""
             }
            },
            "type": "scattercarpet"
           }
          ],
          "scattergeo": [
           {
            "marker": {
             "colorbar": {
              "outlinewidth": 0,
              "ticks": ""
             }
            },
            "type": "scattergeo"
           }
          ],
          "scattergl": [
           {
            "marker": {
             "colorbar": {
              "outlinewidth": 0,
              "ticks": ""
             }
            },
            "type": "scattergl"
           }
          ],
          "scattermapbox": [
           {
            "marker": {
             "colorbar": {
              "outlinewidth": 0,
              "ticks": ""
             }
            },
            "type": "scattermapbox"
           }
          ],
          "scatterpolar": [
           {
            "marker": {
             "colorbar": {
              "outlinewidth": 0,
              "ticks": ""
             }
            },
            "type": "scatterpolar"
           }
          ],
          "scatterpolargl": [
           {
            "marker": {
             "colorbar": {
              "outlinewidth": 0,
              "ticks": ""
             }
            },
            "type": "scatterpolargl"
           }
          ],
          "scatterternary": [
           {
            "marker": {
             "colorbar": {
              "outlinewidth": 0,
              "ticks": ""
             }
            },
            "type": "scatterternary"
           }
          ],
          "surface": [
           {
            "colorbar": {
             "outlinewidth": 0,
             "ticks": ""
            },
            "colorscale": [
             [
              0,
              "#0d0887"
             ],
             [
              0.1111111111111111,
              "#46039f"
             ],
             [
              0.2222222222222222,
              "#7201a8"
             ],
             [
              0.3333333333333333,
              "#9c179e"
             ],
             [
              0.4444444444444444,
              "#bd3786"
             ],
             [
              0.5555555555555556,
              "#d8576b"
             ],
             [
              0.6666666666666666,
              "#ed7953"
             ],
             [
              0.7777777777777778,
              "#fb9f3a"
             ],
             [
              0.8888888888888888,
              "#fdca26"
             ],
             [
              1,
              "#f0f921"
             ]
            ],
            "type": "surface"
           }
          ],
          "table": [
           {
            "cells": {
             "fill": {
              "color": "#EBF0F8"
             },
             "line": {
              "color": "white"
             }
            },
            "header": {
             "fill": {
              "color": "#C8D4E3"
             },
             "line": {
              "color": "white"
             }
            },
            "type": "table"
           }
          ]
         },
         "layout": {
          "annotationdefaults": {
           "arrowcolor": "#2a3f5f",
           "arrowhead": 0,
           "arrowwidth": 1
          },
          "autotypenumbers": "strict",
          "coloraxis": {
           "colorbar": {
            "outlinewidth": 0,
            "ticks": ""
           }
          },
          "colorscale": {
           "diverging": [
            [
             0,
             "#8e0152"
            ],
            [
             0.1,
             "#c51b7d"
            ],
            [
             0.2,
             "#de77ae"
            ],
            [
             0.3,
             "#f1b6da"
            ],
            [
             0.4,
             "#fde0ef"
            ],
            [
             0.5,
             "#f7f7f7"
            ],
            [
             0.6,
             "#e6f5d0"
            ],
            [
             0.7,
             "#b8e186"
            ],
            [
             0.8,
             "#7fbc41"
            ],
            [
             0.9,
             "#4d9221"
            ],
            [
             1,
             "#276419"
            ]
           ],
           "sequential": [
            [
             0,
             "#0d0887"
            ],
            [
             0.1111111111111111,
             "#46039f"
            ],
            [
             0.2222222222222222,
             "#7201a8"
            ],
            [
             0.3333333333333333,
             "#9c179e"
            ],
            [
             0.4444444444444444,
             "#bd3786"
            ],
            [
             0.5555555555555556,
             "#d8576b"
            ],
            [
             0.6666666666666666,
             "#ed7953"
            ],
            [
             0.7777777777777778,
             "#fb9f3a"
            ],
            [
             0.8888888888888888,
             "#fdca26"
            ],
            [
             1,
             "#f0f921"
            ]
           ],
           "sequentialminus": [
            [
             0,
             "#0d0887"
            ],
            [
             0.1111111111111111,
             "#46039f"
            ],
            [
             0.2222222222222222,
             "#7201a8"
            ],
            [
             0.3333333333333333,
             "#9c179e"
            ],
            [
             0.4444444444444444,
             "#bd3786"
            ],
            [
             0.5555555555555556,
             "#d8576b"
            ],
            [
             0.6666666666666666,
             "#ed7953"
            ],
            [
             0.7777777777777778,
             "#fb9f3a"
            ],
            [
             0.8888888888888888,
             "#fdca26"
            ],
            [
             1,
             "#f0f921"
            ]
           ]
          },
          "colorway": [
           "#636efa",
           "#EF553B",
           "#00cc96",
           "#ab63fa",
           "#FFA15A",
           "#19d3f3",
           "#FF6692",
           "#B6E880",
           "#FF97FF",
           "#FECB52"
          ],
          "font": {
           "color": "#2a3f5f"
          },
          "geo": {
           "bgcolor": "white",
           "lakecolor": "white",
           "landcolor": "#E5ECF6",
           "showlakes": true,
           "showland": true,
           "subunitcolor": "white"
          },
          "hoverlabel": {
           "align": "left"
          },
          "hovermode": "closest",
          "mapbox": {
           "style": "light"
          },
          "paper_bgcolor": "white",
          "plot_bgcolor": "#E5ECF6",
          "polar": {
           "angularaxis": {
            "gridcolor": "white",
            "linecolor": "white",
            "ticks": ""
           },
           "bgcolor": "#E5ECF6",
           "radialaxis": {
            "gridcolor": "white",
            "linecolor": "white",
            "ticks": ""
           }
          },
          "scene": {
           "xaxis": {
            "backgroundcolor": "#E5ECF6",
            "gridcolor": "white",
            "gridwidth": 2,
            "linecolor": "white",
            "showbackground": true,
            "ticks": "",
            "zerolinecolor": "white"
           },
           "yaxis": {
            "backgroundcolor": "#E5ECF6",
            "gridcolor": "white",
            "gridwidth": 2,
            "linecolor": "white",
            "showbackground": true,
            "ticks": "",
            "zerolinecolor": "white"
           },
           "zaxis": {
            "backgroundcolor": "#E5ECF6",
            "gridcolor": "white",
            "gridwidth": 2,
            "linecolor": "white",
            "showbackground": true,
            "ticks": "",
            "zerolinecolor": "white"
           }
          },
          "shapedefaults": {
           "line": {
            "color": "#2a3f5f"
           }
          },
          "ternary": {
           "aaxis": {
            "gridcolor": "white",
            "linecolor": "white",
            "ticks": ""
           },
           "baxis": {
            "gridcolor": "white",
            "linecolor": "white",
            "ticks": ""
           },
           "bgcolor": "#E5ECF6",
           "caxis": {
            "gridcolor": "white",
            "linecolor": "white",
            "ticks": ""
           }
          },
          "title": {
           "x": 0.05
          },
          "xaxis": {
           "automargin": true,
           "gridcolor": "white",
           "linecolor": "white",
           "ticks": "",
           "title": {
            "standoff": 15
           },
           "zerolinecolor": "white",
           "zerolinewidth": 2
          },
          "yaxis": {
           "automargin": true,
           "gridcolor": "white",
           "linecolor": "white",
           "ticks": "",
           "title": {
            "standoff": 15
           },
           "zerolinecolor": "white",
           "zerolinewidth": 2
          }
         }
        },
        "xaxis": {
         "anchor": "y",
         "domain": [
          0,
          1
         ],
         "title": {
          "text": "value"
         }
        },
        "yaxis": {
         "anchor": "x",
         "domain": [
          0,
          1
         ],
         "title": {
          "text": "count"
         }
        }
       }
      }
     },
     "metadata": {},
     "output_type": "display_data"
    }
   ],
   "source": [
    "# copy df\n",
    "df_all = df_raw.copy()\n",
    "\n",
    "# reset index\n",
    "df_all.reset_index(drop=True, inplace=True)\n",
    "\n",
    "# treat missing values\n",
    "for col in df_all.columns[df_all.isnull().any(axis=0)]:\n",
    "    df_all[col].fillna(data_params[data_params['feature'] == col]['median'].values[0], inplace=True)\n",
    "\n",
    "# min max capping\n",
    "for col in col_list_excpt_bool:\n",
    "    lower_cap = data_params[data_params['feature'] == col]['lower_limit'].values[0]\n",
    "    upper_cap = data_params[data_params['feature'] == col]['upper_limit'].values[0]\n",
    "    df_all[col][df_all[col] < lower_cap] = lower_cap\n",
    "    df_all[col][df_all[col] > upper_cap] = upper_cap\n",
    "\n",
    "# scaling\n",
    "df_all[col_list_excpt_bool] = pd.DataFrame(transformer.transform(df_all[col_list_excpt_bool]), columns=col_list_excpt_bool)\n",
    "df_all.shape\n",
    "\n",
    "predicted_probas = logreg_model.predict_proba(df_all[feat_list])\n",
    "df_all['proba'] = predicted_probas[:,1:].flatten()\n",
    "px.histogram(df_all['proba'], nbins=100)"
   ]
  },
  {
   "cell_type": "markdown",
   "metadata": {},
   "source": [
    "#### Cross Validation"
   ]
  },
  {
   "cell_type": "code",
   "execution_count": 39,
   "metadata": {},
   "outputs": [
    {
     "name": "stdout",
     "output_type": "stream",
     "text": [
      "CV Scores - [0.68 0.72 0.72 0.74 0.78]\n",
      "Mean of CV Scores - 0.73\n"
     ]
    }
   ],
   "source": [
    "cv_scores = mm.cross_validation(logreg_model, df_raw[feat_list], df_raw['DPD_plus_15'], scoring='roc_auc', folds=5, seed=seed)\n",
    "print('CV Scores -',np.round(cv_scores, 2))\n",
    "print('Mean of CV Scores -',np.round(np.mean(cv_scores),2))"
   ]
  },
  {
   "cell_type": "markdown",
   "metadata": {},
   "source": [
    "#### Rank Ordering"
   ]
  },
  {
   "cell_type": "code",
   "execution_count": 40,
   "metadata": {},
   "outputs": [
    {
     "data": {
      "text/html": [
       "<div>\n",
       "<style scoped>\n",
       "    .dataframe tbody tr th:only-of-type {\n",
       "        vertical-align: middle;\n",
       "    }\n",
       "\n",
       "    .dataframe tbody tr th {\n",
       "        vertical-align: top;\n",
       "    }\n",
       "\n",
       "    .dataframe thead th {\n",
       "        text-align: right;\n",
       "    }\n",
       "</style>\n",
       "<table border=\"1\" class=\"dataframe\">\n",
       "  <thead>\n",
       "    <tr style=\"text-align: right;\">\n",
       "      <th></th>\n",
       "      <th>DPD_plus_15</th>\n",
       "      <th>volume</th>\n",
       "    </tr>\n",
       "    <tr>\n",
       "      <th>DecileRank</th>\n",
       "      <th></th>\n",
       "      <th></th>\n",
       "    </tr>\n",
       "  </thead>\n",
       "  <tbody>\n",
       "    <tr>\n",
       "      <th>(-0.001, 0.309]</th>\n",
       "      <td>0.017831</td>\n",
       "      <td>673</td>\n",
       "    </tr>\n",
       "    <tr>\n",
       "      <th>(0.309, 0.448]</th>\n",
       "      <td>0.034380</td>\n",
       "      <td>669</td>\n",
       "    </tr>\n",
       "    <tr>\n",
       "      <th>(0.448, 0.56]</th>\n",
       "      <td>0.077037</td>\n",
       "      <td>675</td>\n",
       "    </tr>\n",
       "    <tr>\n",
       "      <th>(0.56, 0.918]</th>\n",
       "      <td>0.184408</td>\n",
       "      <td>667</td>\n",
       "    </tr>\n",
       "  </tbody>\n",
       "</table>\n",
       "</div>"
      ],
      "text/plain": [
       "                 DPD_plus_15  volume\n",
       "DecileRank                          \n",
       "(-0.001, 0.309]     0.017831     673\n",
       "(0.309, 0.448]      0.034380     669\n",
       "(0.448, 0.56]       0.077037     675\n",
       "(0.56, 0.918]       0.184408     667"
      ]
     },
     "execution_count": 40,
     "metadata": {},
     "output_type": "execute_result"
    }
   ],
   "source": [
    "# complete dataset\n",
    "df_all['proba'] = np.round(df_all['proba'], 3)\n",
    "df_all['DecileRank']= pd.qcut(df_all['proba'], q = 4)\n",
    "df_stats = pd.DataFrame(df_all.groupby(by='DecileRank')['DPD_plus_15'].mean())\n",
    "df_stats['volume'] = df_all.groupby(by='DecileRank')['DPD_plus_15'].count()\n",
    "df_stats"
   ]
  },
  {
   "cell_type": "code",
   "execution_count": 41,
   "metadata": {},
   "outputs": [
    {
     "data": {
      "text/html": [
       "<div>\n",
       "<style scoped>\n",
       "    .dataframe tbody tr th:only-of-type {\n",
       "        vertical-align: middle;\n",
       "    }\n",
       "\n",
       "    .dataframe tbody tr th {\n",
       "        vertical-align: top;\n",
       "    }\n",
       "\n",
       "    .dataframe thead th {\n",
       "        text-align: right;\n",
       "    }\n",
       "</style>\n",
       "<table border=\"1\" class=\"dataframe\">\n",
       "  <thead>\n",
       "    <tr style=\"text-align: right;\">\n",
       "      <th></th>\n",
       "      <th>DPD_plus_15</th>\n",
       "      <th>volume</th>\n",
       "    </tr>\n",
       "    <tr>\n",
       "      <th>DecileRank</th>\n",
       "      <th></th>\n",
       "      <th></th>\n",
       "    </tr>\n",
       "  </thead>\n",
       "  <tbody>\n",
       "    <tr>\n",
       "      <th>(-0.001, 0.316]</th>\n",
       "      <td>0.014862</td>\n",
       "      <td>471</td>\n",
       "    </tr>\n",
       "    <tr>\n",
       "      <th>(0.316, 0.453]</th>\n",
       "      <td>0.035941</td>\n",
       "      <td>473</td>\n",
       "    </tr>\n",
       "    <tr>\n",
       "      <th>(0.453, 0.557]</th>\n",
       "      <td>0.075269</td>\n",
       "      <td>465</td>\n",
       "    </tr>\n",
       "    <tr>\n",
       "      <th>(0.557, 0.918]</th>\n",
       "      <td>0.187633</td>\n",
       "      <td>469</td>\n",
       "    </tr>\n",
       "  </tbody>\n",
       "</table>\n",
       "</div>"
      ],
      "text/plain": [
       "                 DPD_plus_15  volume\n",
       "DecileRank                          \n",
       "(-0.001, 0.316]     0.014862     471\n",
       "(0.316, 0.453]      0.035941     473\n",
       "(0.453, 0.557]      0.075269     465\n",
       "(0.557, 0.918]      0.187633     469"
      ]
     },
     "execution_count": 41,
     "metadata": {},
     "output_type": "execute_result"
    }
   ],
   "source": [
    "# train\n",
    "x_train = df.copy()\n",
    "x_train.reset_index(drop=True,inplace=True)\n",
    "y_train.reset_index(drop=True,inplace=True)\n",
    "\n",
    "df_train = x_train.copy()\n",
    "df_train['DPD_plus_15'] = y_train\n",
    "df_train['proba'] = logreg_model.predict_proba(x_train[feat_list])[:,1:].flatten()\n",
    "\n",
    "df_train['proba'] = np.round(df_train['proba'], 3)\n",
    "df_train['DecileRank']= pd.qcut(df_train['proba'], q = 4)\n",
    "df_stats = pd.DataFrame(df_train.groupby(by='DecileRank')['DPD_plus_15'].mean())\n",
    "df_stats['volume'] = df_train.groupby(by='DecileRank')['DPD_plus_15'].count()\n",
    "df_stats"
   ]
  },
  {
   "cell_type": "code",
   "execution_count": 42,
   "metadata": {},
   "outputs": [
    {
     "data": {
      "text/html": [
       "<div>\n",
       "<style scoped>\n",
       "    .dataframe tbody tr th:only-of-type {\n",
       "        vertical-align: middle;\n",
       "    }\n",
       "\n",
       "    .dataframe tbody tr th {\n",
       "        vertical-align: top;\n",
       "    }\n",
       "\n",
       "    .dataframe thead th {\n",
       "        text-align: right;\n",
       "    }\n",
       "</style>\n",
       "<table border=\"1\" class=\"dataframe\">\n",
       "  <thead>\n",
       "    <tr style=\"text-align: right;\">\n",
       "      <th></th>\n",
       "      <th>DPD_plus_15</th>\n",
       "      <th>volume</th>\n",
       "    </tr>\n",
       "    <tr>\n",
       "      <th>DecileRank</th>\n",
       "      <th></th>\n",
       "      <th></th>\n",
       "    </tr>\n",
       "  </thead>\n",
       "  <tbody>\n",
       "    <tr>\n",
       "      <th>(-0.001, 0.298]</th>\n",
       "      <td>0.024631</td>\n",
       "      <td>203</td>\n",
       "    </tr>\n",
       "    <tr>\n",
       "      <th>(0.298, 0.443]</th>\n",
       "      <td>0.029557</td>\n",
       "      <td>203</td>\n",
       "    </tr>\n",
       "    <tr>\n",
       "      <th>(0.443, 0.563]</th>\n",
       "      <td>0.070707</td>\n",
       "      <td>198</td>\n",
       "    </tr>\n",
       "    <tr>\n",
       "      <th>(0.563, 0.915]</th>\n",
       "      <td>0.188119</td>\n",
       "      <td>202</td>\n",
       "    </tr>\n",
       "  </tbody>\n",
       "</table>\n",
       "</div>"
      ],
      "text/plain": [
       "                 DPD_plus_15  volume\n",
       "DecileRank                          \n",
       "(-0.001, 0.298]     0.024631     203\n",
       "(0.298, 0.443]      0.029557     203\n",
       "(0.443, 0.563]      0.070707     198\n",
       "(0.563, 0.915]      0.188119     202"
      ]
     },
     "execution_count": 42,
     "metadata": {},
     "output_type": "execute_result"
    }
   ],
   "source": [
    "# test\n",
    "x_test.reset_index(drop=True,inplace=True)\n",
    "y_test.reset_index(drop=True,inplace=True)\n",
    "\n",
    "df_test = x_test.copy()\n",
    "df_test['DPD_plus_15'] = y_test\n",
    "df_test['proba'] = logreg_model.predict_proba(x_test[feat_list])[:,1:].flatten()\n",
    "\n",
    "df_test['proba'] = np.round(df_test['proba'], 3)\n",
    "df_test['DecileRank']= pd.qcut(df_test['proba'], q = 4)\n",
    "df_stats = pd.DataFrame(df_test.groupby(by='DecileRank')['DPD_plus_15'].mean())\n",
    "df_stats['volume'] = df_test.groupby(by='DecileRank')['DPD_plus_15'].count()\n",
    "df_stats"
   ]
  },
  {
   "cell_type": "markdown",
   "metadata": {},
   "source": [
    "#### Saving scale transaformer"
   ]
  },
  {
   "cell_type": "code",
   "execution_count": 43,
   "metadata": {},
   "outputs": [
    {
     "data": {
      "text/html": [
       "<div>\n",
       "<style scoped>\n",
       "    .dataframe tbody tr th:only-of-type {\n",
       "        vertical-align: middle;\n",
       "    }\n",
       "\n",
       "    .dataframe tbody tr th {\n",
       "        vertical-align: top;\n",
       "    }\n",
       "\n",
       "    .dataframe thead th {\n",
       "        text-align: right;\n",
       "    }\n",
       "</style>\n",
       "<table border=\"1\" class=\"dataframe\">\n",
       "  <thead>\n",
       "    <tr style=\"text-align: right;\">\n",
       "      <th></th>\n",
       "      <th>DPD_plus_3_last_2</th>\n",
       "      <th>DPD_plus_15_prev</th>\n",
       "      <th>DPD_plus_3</th>\n",
       "      <th>count_pd_deposit_1m</th>\n",
       "      <th>count_ach_debit_1m</th>\n",
       "      <th>count_ach_credit_1m</th>\n",
       "      <th>count_card_withdrawal_1m</th>\n",
       "      <th>count_mrdc_credit_1m</th>\n",
       "      <th>count_pd_deposit_2m</th>\n",
       "      <th>count_ach_debit_2m</th>\n",
       "      <th>...</th>\n",
       "      <th>amount_cashin_1m_prev</th>\n",
       "      <th>amount_cashin_2m_prev</th>\n",
       "      <th>distinct_draws_1m_prev</th>\n",
       "      <th>distinct_draws_2m_prev</th>\n",
       "      <th>distinct_cashins_1m_prev</th>\n",
       "      <th>distinct_cashins_2m_prev</th>\n",
       "      <th>ratio_amt_drawn_mom</th>\n",
       "      <th>ratio_amt_cashin_mom</th>\n",
       "      <th>ratio_count_drawn_mom</th>\n",
       "      <th>ratio_count_cashin_mom</th>\n",
       "    </tr>\n",
       "  </thead>\n",
       "  <tbody>\n",
       "    <tr>\n",
       "      <th>0</th>\n",
       "      <td>0.0</td>\n",
       "      <td>0.0</td>\n",
       "      <td>0</td>\n",
       "      <td>3.0</td>\n",
       "      <td>8.0</td>\n",
       "      <td>14.0</td>\n",
       "      <td>52.0</td>\n",
       "      <td>1.0</td>\n",
       "      <td>3.0</td>\n",
       "      <td>23.0</td>\n",
       "      <td>...</td>\n",
       "      <td>1045.00</td>\n",
       "      <td>1000.00</td>\n",
       "      <td>1.0</td>\n",
       "      <td>1.0</td>\n",
       "      <td>1.0</td>\n",
       "      <td>1.0</td>\n",
       "      <td>0.566478</td>\n",
       "      <td>1.043956</td>\n",
       "      <td>0.500000</td>\n",
       "      <td>0.500000</td>\n",
       "    </tr>\n",
       "    <tr>\n",
       "      <th>1</th>\n",
       "      <td>0.0</td>\n",
       "      <td>0.0</td>\n",
       "      <td>0</td>\n",
       "      <td>7.0</td>\n",
       "      <td>0.0</td>\n",
       "      <td>4.0</td>\n",
       "      <td>122.0</td>\n",
       "      <td>0.0</td>\n",
       "      <td>7.0</td>\n",
       "      <td>1.0</td>\n",
       "      <td>...</td>\n",
       "      <td>634.99</td>\n",
       "      <td>0.00</td>\n",
       "      <td>1.0</td>\n",
       "      <td>2.0</td>\n",
       "      <td>1.0</td>\n",
       "      <td>0.0</td>\n",
       "      <td>0.133289</td>\n",
       "      <td>634.990000</td>\n",
       "      <td>0.333333</td>\n",
       "      <td>1.000000</td>\n",
       "    </tr>\n",
       "    <tr>\n",
       "      <th>2</th>\n",
       "      <td>0.0</td>\n",
       "      <td>0.0</td>\n",
       "      <td>0</td>\n",
       "      <td>2.0</td>\n",
       "      <td>13.0</td>\n",
       "      <td>4.0</td>\n",
       "      <td>0.0</td>\n",
       "      <td>0.0</td>\n",
       "      <td>6.0</td>\n",
       "      <td>19.0</td>\n",
       "      <td>...</td>\n",
       "      <td>3746.67</td>\n",
       "      <td>373.33</td>\n",
       "      <td>0.0</td>\n",
       "      <td>1.0</td>\n",
       "      <td>1.0</td>\n",
       "      <td>1.0</td>\n",
       "      <td>0.000000</td>\n",
       "      <td>10.009003</td>\n",
       "      <td>0.000000</td>\n",
       "      <td>0.500000</td>\n",
       "    </tr>\n",
       "    <tr>\n",
       "      <th>3</th>\n",
       "      <td>2.0</td>\n",
       "      <td>0.0</td>\n",
       "      <td>1</td>\n",
       "      <td>12.0</td>\n",
       "      <td>7.0</td>\n",
       "      <td>5.0</td>\n",
       "      <td>106.0</td>\n",
       "      <td>0.0</td>\n",
       "      <td>20.0</td>\n",
       "      <td>11.0</td>\n",
       "      <td>...</td>\n",
       "      <td>3157.98</td>\n",
       "      <td>3646.65</td>\n",
       "      <td>1.0</td>\n",
       "      <td>1.0</td>\n",
       "      <td>2.0</td>\n",
       "      <td>6.0</td>\n",
       "      <td>1.191849</td>\n",
       "      <td>0.865757</td>\n",
       "      <td>0.500000</td>\n",
       "      <td>0.285714</td>\n",
       "    </tr>\n",
       "    <tr>\n",
       "      <th>4</th>\n",
       "      <td>1.0</td>\n",
       "      <td>0.0</td>\n",
       "      <td>1</td>\n",
       "      <td>3.0</td>\n",
       "      <td>8.0</td>\n",
       "      <td>14.0</td>\n",
       "      <td>52.0</td>\n",
       "      <td>1.0</td>\n",
       "      <td>3.0</td>\n",
       "      <td>23.0</td>\n",
       "      <td>...</td>\n",
       "      <td>363.33</td>\n",
       "      <td>696.67</td>\n",
       "      <td>0.0</td>\n",
       "      <td>1.0</td>\n",
       "      <td>1.0</td>\n",
       "      <td>2.0</td>\n",
       "      <td>0.000000</td>\n",
       "      <td>0.520776</td>\n",
       "      <td>0.000000</td>\n",
       "      <td>0.333333</td>\n",
       "    </tr>\n",
       "  </tbody>\n",
       "</table>\n",
       "<p>5 rows × 116 columns</p>\n",
       "</div>"
      ],
      "text/plain": [
       "   DPD_plus_3_last_2  DPD_plus_15_prev  DPD_plus_3  count_pd_deposit_1m  \\\n",
       "0                0.0               0.0           0                  3.0   \n",
       "1                0.0               0.0           0                  7.0   \n",
       "2                0.0               0.0           0                  2.0   \n",
       "3                2.0               0.0           1                 12.0   \n",
       "4                1.0               0.0           1                  3.0   \n",
       "\n",
       "   count_ach_debit_1m  count_ach_credit_1m  count_card_withdrawal_1m  \\\n",
       "0                 8.0                 14.0                      52.0   \n",
       "1                 0.0                  4.0                     122.0   \n",
       "2                13.0                  4.0                       0.0   \n",
       "3                 7.0                  5.0                     106.0   \n",
       "4                 8.0                 14.0                      52.0   \n",
       "\n",
       "   count_mrdc_credit_1m  count_pd_deposit_2m  count_ach_debit_2m  ...  \\\n",
       "0                   1.0                  3.0                23.0  ...   \n",
       "1                   0.0                  7.0                 1.0  ...   \n",
       "2                   0.0                  6.0                19.0  ...   \n",
       "3                   0.0                 20.0                11.0  ...   \n",
       "4                   1.0                  3.0                23.0  ...   \n",
       "\n",
       "   amount_cashin_1m_prev  amount_cashin_2m_prev  distinct_draws_1m_prev  \\\n",
       "0                1045.00                1000.00                     1.0   \n",
       "1                 634.99                   0.00                     1.0   \n",
       "2                3746.67                 373.33                     0.0   \n",
       "3                3157.98                3646.65                     1.0   \n",
       "4                 363.33                 696.67                     0.0   \n",
       "\n",
       "   distinct_draws_2m_prev  distinct_cashins_1m_prev  distinct_cashins_2m_prev  \\\n",
       "0                     1.0                       1.0                       1.0   \n",
       "1                     2.0                       1.0                       0.0   \n",
       "2                     1.0                       1.0                       1.0   \n",
       "3                     1.0                       2.0                       6.0   \n",
       "4                     1.0                       1.0                       2.0   \n",
       "\n",
       "   ratio_amt_drawn_mom  ratio_amt_cashin_mom  ratio_count_drawn_mom  \\\n",
       "0             0.566478              1.043956               0.500000   \n",
       "1             0.133289            634.990000               0.333333   \n",
       "2             0.000000             10.009003               0.000000   \n",
       "3             1.191849              0.865757               0.500000   \n",
       "4             0.000000              0.520776               0.000000   \n",
       "\n",
       "   ratio_count_cashin_mom  \n",
       "0                0.500000  \n",
       "1                1.000000  \n",
       "2                0.500000  \n",
       "3                0.285714  \n",
       "4                0.333333  \n",
       "\n",
       "[5 rows x 116 columns]"
      ]
     },
     "execution_count": 43,
     "metadata": {},
     "output_type": "execute_result"
    }
   ],
   "source": [
    "df_trans.head()"
   ]
  },
  {
   "cell_type": "code",
   "execution_count": 44,
   "metadata": {},
   "outputs": [
    {
     "data": {
      "text/plain": [
       "(1878, 116)"
      ]
     },
     "execution_count": 44,
     "metadata": {},
     "output_type": "execute_result"
    }
   ],
   "source": [
    "# scaling for selected features\n",
    "transformer_object = StandardScaler().fit(df_trans[feature_list])\n",
    "\n",
    "df_trans[feature_list] = pd.DataFrame(transformer_object.transform(df[feature_list]), columns=feature_list)\n",
    "df_trans.shape"
   ]
  },
  {
   "cell_type": "code",
   "execution_count": 45,
   "metadata": {},
   "outputs": [],
   "source": [
    "# # save transaformer\n",
    "# file_name = 'scale_train_object.pkl'\n",
    "# path = '/Users/shashankgupta/Documents/code/git_project/redec/re_decisioning/Models/'\n",
    "# pickle.dump(transformer_object, open(path + file_name, 'wb'))"
   ]
  },
  {
   "cell_type": "code",
   "execution_count": 46,
   "metadata": {},
   "outputs": [
    {
     "data": {
      "text/plain": [
       "0.07816377171215881"
      ]
     },
     "execution_count": 46,
     "metadata": {},
     "output_type": "execute_result"
    }
   ],
   "source": [
    "df_test['DPD_plus_15'].sum()/len(df_test)"
   ]
  },
  {
   "cell_type": "code",
   "execution_count": 47,
   "metadata": {},
   "outputs": [
    {
     "data": {
      "text/html": [
       "<div>\n",
       "<style scoped>\n",
       "    .dataframe tbody tr th:only-of-type {\n",
       "        vertical-align: middle;\n",
       "    }\n",
       "\n",
       "    .dataframe tbody tr th {\n",
       "        vertical-align: top;\n",
       "    }\n",
       "\n",
       "    .dataframe thead th {\n",
       "        text-align: right;\n",
       "    }\n",
       "</style>\n",
       "<table border=\"1\" class=\"dataframe\">\n",
       "  <thead>\n",
       "    <tr style=\"text-align: right;\">\n",
       "      <th></th>\n",
       "      <th>business_id</th>\n",
       "      <th>due_date</th>\n",
       "      <th>DPD_plus_3_last_2</th>\n",
       "      <th>DPD_plus_15_prev</th>\n",
       "      <th>emi_no</th>\n",
       "      <th>DPD_plus_3</th>\n",
       "      <th>count_pd_deposit_1m</th>\n",
       "      <th>count_ach_debit_1m</th>\n",
       "      <th>count_ach_credit_1m</th>\n",
       "      <th>count_card_withdrawal_1m</th>\n",
       "      <th>...</th>\n",
       "      <th>ratio_amt_cashin_mom</th>\n",
       "      <th>ratio_count_drawn_mom</th>\n",
       "      <th>ratio_count_cashin_mom</th>\n",
       "      <th>pilot_flag</th>\n",
       "      <th>pilot_period_flag</th>\n",
       "      <th>rs2_bin</th>\n",
       "      <th>rs2_score</th>\n",
       "      <th>DPD_plus_15</th>\n",
       "      <th>proba</th>\n",
       "      <th>DecileRank</th>\n",
       "    </tr>\n",
       "  </thead>\n",
       "  <tbody>\n",
       "    <tr>\n",
       "      <th>0</th>\n",
       "      <td>7e6263bb-4693-4158-8474-dca0e5fd4190</td>\n",
       "      <td>2023-03-09</td>\n",
       "      <td>-0.520620</td>\n",
       "      <td>0.0</td>\n",
       "      <td>3</td>\n",
       "      <td>0</td>\n",
       "      <td>1.114191</td>\n",
       "      <td>-0.579907</td>\n",
       "      <td>-0.264586</td>\n",
       "      <td>-0.258053</td>\n",
       "      <td>...</td>\n",
       "      <td>-0.349065</td>\n",
       "      <td>-0.725138</td>\n",
       "      <td>-0.508729</td>\n",
       "      <td>0</td>\n",
       "      <td>0</td>\n",
       "      <td>2.0</td>\n",
       "      <td>362.000000</td>\n",
       "      <td>0.0</td>\n",
       "      <td>0.569</td>\n",
       "      <td>(0.563, 0.915]</td>\n",
       "    </tr>\n",
       "    <tr>\n",
       "      <th>1</th>\n",
       "      <td>235e4d44-d733-4341-995a-dbc3e3be9524</td>\n",
       "      <td>2022-11-19</td>\n",
       "      <td>2.850845</td>\n",
       "      <td>1.0</td>\n",
       "      <td>3</td>\n",
       "      <td>1</td>\n",
       "      <td>0.299464</td>\n",
       "      <td>1.108773</td>\n",
       "      <td>0.207521</td>\n",
       "      <td>0.298637</td>\n",
       "      <td>...</td>\n",
       "      <td>-0.348776</td>\n",
       "      <td>-0.725138</td>\n",
       "      <td>-0.062685</td>\n",
       "      <td>1</td>\n",
       "      <td>1</td>\n",
       "      <td>1.0</td>\n",
       "      <td>81.285056</td>\n",
       "      <td>0.0</td>\n",
       "      <td>0.604</td>\n",
       "      <td>(0.563, 0.915]</td>\n",
       "    </tr>\n",
       "    <tr>\n",
       "      <th>2</th>\n",
       "      <td>d948b75d-7d6d-49ed-9bcf-7b4c9e909e61</td>\n",
       "      <td>2022-11-03</td>\n",
       "      <td>-0.520620</td>\n",
       "      <td>0.0</td>\n",
       "      <td>2</td>\n",
       "      <td>0</td>\n",
       "      <td>-0.515262</td>\n",
       "      <td>0.086677</td>\n",
       "      <td>-0.500639</td>\n",
       "      <td>-0.521216</td>\n",
       "      <td>...</td>\n",
       "      <td>-0.347825</td>\n",
       "      <td>0.104460</td>\n",
       "      <td>-0.062685</td>\n",
       "      <td>1</td>\n",
       "      <td>1</td>\n",
       "      <td>4.0</td>\n",
       "      <td>732.000000</td>\n",
       "      <td>0.0</td>\n",
       "      <td>0.006</td>\n",
       "      <td>(-0.001, 0.298]</td>\n",
       "    </tr>\n",
       "    <tr>\n",
       "      <th>3</th>\n",
       "      <td>e4b4b8a4-83fc-45e4-836c-c6333c54ef6c</td>\n",
       "      <td>2022-10-10</td>\n",
       "      <td>-0.520620</td>\n",
       "      <td>0.0</td>\n",
       "      <td>2</td>\n",
       "      <td>0</td>\n",
       "      <td>-0.515262</td>\n",
       "      <td>0.086677</td>\n",
       "      <td>-0.677679</td>\n",
       "      <td>-0.187202</td>\n",
       "      <td>...</td>\n",
       "      <td>-0.348806</td>\n",
       "      <td>0.104460</td>\n",
       "      <td>-0.508729</td>\n",
       "      <td>1</td>\n",
       "      <td>1</td>\n",
       "      <td>3.0</td>\n",
       "      <td>642.000000</td>\n",
       "      <td>0.0</td>\n",
       "      <td>0.058</td>\n",
       "      <td>(-0.001, 0.298]</td>\n",
       "    </tr>\n",
       "    <tr>\n",
       "      <th>4</th>\n",
       "      <td>e1be9bf5-64f0-4a15-b25e-371411296348</td>\n",
       "      <td>2022-10-03</td>\n",
       "      <td>-0.520620</td>\n",
       "      <td>0.0</td>\n",
       "      <td>2</td>\n",
       "      <td>0</td>\n",
       "      <td>2.394475</td>\n",
       "      <td>1.330968</td>\n",
       "      <td>0.856667</td>\n",
       "      <td>0.501070</td>\n",
       "      <td>...</td>\n",
       "      <td>-0.344978</td>\n",
       "      <td>0.104460</td>\n",
       "      <td>0.829404</td>\n",
       "      <td>1</td>\n",
       "      <td>1</td>\n",
       "      <td>3.0</td>\n",
       "      <td>625.000000</td>\n",
       "      <td>0.0</td>\n",
       "      <td>0.353</td>\n",
       "      <td>(0.298, 0.443]</td>\n",
       "    </tr>\n",
       "  </tbody>\n",
       "</table>\n",
       "<p>5 rows × 126 columns</p>\n",
       "</div>"
      ],
      "text/plain": [
       "                            business_id    due_date  DPD_plus_3_last_2  \\\n",
       "0  7e6263bb-4693-4158-8474-dca0e5fd4190  2023-03-09          -0.520620   \n",
       "1  235e4d44-d733-4341-995a-dbc3e3be9524  2022-11-19           2.850845   \n",
       "2  d948b75d-7d6d-49ed-9bcf-7b4c9e909e61  2022-11-03          -0.520620   \n",
       "3  e4b4b8a4-83fc-45e4-836c-c6333c54ef6c  2022-10-10          -0.520620   \n",
       "4  e1be9bf5-64f0-4a15-b25e-371411296348  2022-10-03          -0.520620   \n",
       "\n",
       "   DPD_plus_15_prev  emi_no  DPD_plus_3  count_pd_deposit_1m  \\\n",
       "0               0.0       3           0             1.114191   \n",
       "1               1.0       3           1             0.299464   \n",
       "2               0.0       2           0            -0.515262   \n",
       "3               0.0       2           0            -0.515262   \n",
       "4               0.0       2           0             2.394475   \n",
       "\n",
       "   count_ach_debit_1m  count_ach_credit_1m  count_card_withdrawal_1m  ...  \\\n",
       "0           -0.579907            -0.264586                 -0.258053  ...   \n",
       "1            1.108773             0.207521                  0.298637  ...   \n",
       "2            0.086677            -0.500639                 -0.521216  ...   \n",
       "3            0.086677            -0.677679                 -0.187202  ...   \n",
       "4            1.330968             0.856667                  0.501070  ...   \n",
       "\n",
       "   ratio_amt_cashin_mom  ratio_count_drawn_mom  ratio_count_cashin_mom  \\\n",
       "0             -0.349065              -0.725138               -0.508729   \n",
       "1             -0.348776              -0.725138               -0.062685   \n",
       "2             -0.347825               0.104460               -0.062685   \n",
       "3             -0.348806               0.104460               -0.508729   \n",
       "4             -0.344978               0.104460                0.829404   \n",
       "\n",
       "   pilot_flag  pilot_period_flag  rs2_bin   rs2_score  DPD_plus_15  proba  \\\n",
       "0           0                  0      2.0  362.000000          0.0  0.569   \n",
       "1           1                  1      1.0   81.285056          0.0  0.604   \n",
       "2           1                  1      4.0  732.000000          0.0  0.006   \n",
       "3           1                  1      3.0  642.000000          0.0  0.058   \n",
       "4           1                  1      3.0  625.000000          0.0  0.353   \n",
       "\n",
       "        DecileRank  \n",
       "0   (0.563, 0.915]  \n",
       "1   (0.563, 0.915]  \n",
       "2  (-0.001, 0.298]  \n",
       "3  (-0.001, 0.298]  \n",
       "4   (0.298, 0.443]  \n",
       "\n",
       "[5 rows x 126 columns]"
      ]
     },
     "execution_count": 47,
     "metadata": {},
     "output_type": "execute_result"
    }
   ],
   "source": [
    "df_test.head()"
   ]
  },
  {
   "cell_type": "code",
   "execution_count": 48,
   "metadata": {},
   "outputs": [],
   "source": [
    "def target_bucket(x):\n",
    "    if x > 0.56:\n",
    "        return 4\n",
    "    if x > 0.431:\n",
    "        return 3\n",
    "    if x > 0.255:\n",
    "        return 2\n",
    "    return 1"
   ]
  },
  {
   "cell_type": "code",
   "execution_count": 49,
   "metadata": {},
   "outputs": [],
   "source": [
    "def prob_bucket(x):\n",
    "    if x > 0.8:\n",
    "        return '>0.8'\n",
    "    if x > 0.6:\n",
    "        return '0.6-0.8'\n",
    "    if x > 0.5:\n",
    "        return '0.5-0.6'\n",
    "    return '<0.5'\n"
   ]
  },
  {
   "cell_type": "code",
   "execution_count": 50,
   "metadata": {},
   "outputs": [],
   "source": [
    "df_all['prob_bucket'] = df_all['proba'].apply(lambda x: prob_bucket(x))\n"
   ]
  },
  {
   "cell_type": "code",
   "execution_count": 51,
   "metadata": {},
   "outputs": [],
   "source": [
    "df_all['proba_bucket'] = df_all['proba'].apply(lambda x: target_bucket(x))"
   ]
  },
  {
   "cell_type": "code",
   "execution_count": 52,
   "metadata": {},
   "outputs": [
    {
     "data": {
      "text/html": [
       "<div>\n",
       "<style scoped>\n",
       "    .dataframe tbody tr th:only-of-type {\n",
       "        vertical-align: middle;\n",
       "    }\n",
       "\n",
       "    .dataframe tbody tr th {\n",
       "        vertical-align: top;\n",
       "    }\n",
       "\n",
       "    .dataframe thead th {\n",
       "        text-align: right;\n",
       "    }\n",
       "</style>\n",
       "<table border=\"1\" class=\"dataframe\">\n",
       "  <thead>\n",
       "    <tr style=\"text-align: right;\">\n",
       "      <th></th>\n",
       "      <th></th>\n",
       "      <th>sum</th>\n",
       "      <th>count</th>\n",
       "    </tr>\n",
       "    <tr>\n",
       "      <th>proba_bucket</th>\n",
       "      <th>emi_no</th>\n",
       "      <th></th>\n",
       "      <th></th>\n",
       "    </tr>\n",
       "  </thead>\n",
       "  <tbody>\n",
       "    <tr>\n",
       "      <th rowspan=\"4\" valign=\"top\">1</th>\n",
       "      <th>2</th>\n",
       "      <td>7.0</td>\n",
       "      <td>394</td>\n",
       "    </tr>\n",
       "    <tr>\n",
       "      <th>3</th>\n",
       "      <td>1.0</td>\n",
       "      <td>88</td>\n",
       "    </tr>\n",
       "    <tr>\n",
       "      <th>4</th>\n",
       "      <td>2.0</td>\n",
       "      <td>21</td>\n",
       "    </tr>\n",
       "    <tr>\n",
       "      <th>5</th>\n",
       "      <td>0.0</td>\n",
       "      <td>31</td>\n",
       "    </tr>\n",
       "    <tr>\n",
       "      <th rowspan=\"4\" valign=\"top\">2</th>\n",
       "      <th>2</th>\n",
       "      <td>9.0</td>\n",
       "      <td>441</td>\n",
       "    </tr>\n",
       "    <tr>\n",
       "      <th>3</th>\n",
       "      <td>5.0</td>\n",
       "      <td>159</td>\n",
       "    </tr>\n",
       "    <tr>\n",
       "      <th>4</th>\n",
       "      <td>1.0</td>\n",
       "      <td>48</td>\n",
       "    </tr>\n",
       "    <tr>\n",
       "      <th>5</th>\n",
       "      <td>2.0</td>\n",
       "      <td>58</td>\n",
       "    </tr>\n",
       "    <tr>\n",
       "      <th rowspan=\"4\" valign=\"top\">3</th>\n",
       "      <th>2</th>\n",
       "      <td>26.0</td>\n",
       "      <td>323</td>\n",
       "    </tr>\n",
       "    <tr>\n",
       "      <th>3</th>\n",
       "      <td>15.0</td>\n",
       "      <td>218</td>\n",
       "    </tr>\n",
       "    <tr>\n",
       "      <th>4</th>\n",
       "      <td>10.0</td>\n",
       "      <td>115</td>\n",
       "    </tr>\n",
       "    <tr>\n",
       "      <th>5</th>\n",
       "      <td>9.0</td>\n",
       "      <td>121</td>\n",
       "    </tr>\n",
       "    <tr>\n",
       "      <th rowspan=\"4\" valign=\"top\">4</th>\n",
       "      <th>2</th>\n",
       "      <td>62.0</td>\n",
       "      <td>218</td>\n",
       "    </tr>\n",
       "    <tr>\n",
       "      <th>3</th>\n",
       "      <td>13.0</td>\n",
       "      <td>197</td>\n",
       "    </tr>\n",
       "    <tr>\n",
       "      <th>4</th>\n",
       "      <td>41.0</td>\n",
       "      <td>147</td>\n",
       "    </tr>\n",
       "    <tr>\n",
       "      <th>5</th>\n",
       "      <td>7.0</td>\n",
       "      <td>105</td>\n",
       "    </tr>\n",
       "  </tbody>\n",
       "</table>\n",
       "</div>"
      ],
      "text/plain": [
       "                      sum  count\n",
       "proba_bucket emi_no             \n",
       "1            2        7.0    394\n",
       "             3        1.0     88\n",
       "             4        2.0     21\n",
       "             5        0.0     31\n",
       "2            2        9.0    441\n",
       "             3        5.0    159\n",
       "             4        1.0     48\n",
       "             5        2.0     58\n",
       "3            2       26.0    323\n",
       "             3       15.0    218\n",
       "             4       10.0    115\n",
       "             5        9.0    121\n",
       "4            2       62.0    218\n",
       "             3       13.0    197\n",
       "             4       41.0    147\n",
       "             5        7.0    105"
      ]
     },
     "execution_count": 52,
     "metadata": {},
     "output_type": "execute_result"
    }
   ],
   "source": [
    "df_all.groupby(['proba_bucket','emi_no'],as_index=False)['DPD_plus_15'].agg(['sum','count']).sort_values(['proba_bucket','emi_no'])"
   ]
  },
  {
   "cell_type": "code",
   "execution_count": 53,
   "metadata": {},
   "outputs": [
    {
     "data": {
      "text/html": [
       "<div>\n",
       "<style scoped>\n",
       "    .dataframe tbody tr th:only-of-type {\n",
       "        vertical-align: middle;\n",
       "    }\n",
       "\n",
       "    .dataframe tbody tr th {\n",
       "        vertical-align: top;\n",
       "    }\n",
       "\n",
       "    .dataframe thead th {\n",
       "        text-align: right;\n",
       "    }\n",
       "</style>\n",
       "<table border=\"1\" class=\"dataframe\">\n",
       "  <thead>\n",
       "    <tr style=\"text-align: right;\">\n",
       "      <th></th>\n",
       "      <th></th>\n",
       "      <th>sum</th>\n",
       "      <th>count</th>\n",
       "    </tr>\n",
       "    <tr>\n",
       "      <th>proba_bucket</th>\n",
       "      <th>DPD_plus_3</th>\n",
       "      <th></th>\n",
       "      <th></th>\n",
       "    </tr>\n",
       "  </thead>\n",
       "  <tbody>\n",
       "    <tr>\n",
       "      <th rowspan=\"2\" valign=\"top\">1</th>\n",
       "      <th>0</th>\n",
       "      <td>7.0</td>\n",
       "      <td>513</td>\n",
       "    </tr>\n",
       "    <tr>\n",
       "      <th>1</th>\n",
       "      <td>3.0</td>\n",
       "      <td>21</td>\n",
       "    </tr>\n",
       "    <tr>\n",
       "      <th rowspan=\"2\" valign=\"top\">2</th>\n",
       "      <th>0</th>\n",
       "      <td>13.0</td>\n",
       "      <td>659</td>\n",
       "    </tr>\n",
       "    <tr>\n",
       "      <th>1</th>\n",
       "      <td>4.0</td>\n",
       "      <td>47</td>\n",
       "    </tr>\n",
       "    <tr>\n",
       "      <th rowspan=\"2\" valign=\"top\">3</th>\n",
       "      <th>0</th>\n",
       "      <td>33.0</td>\n",
       "      <td>651</td>\n",
       "    </tr>\n",
       "    <tr>\n",
       "      <th>1</th>\n",
       "      <td>27.0</td>\n",
       "      <td>126</td>\n",
       "    </tr>\n",
       "    <tr>\n",
       "      <th rowspan=\"2\" valign=\"top\">4</th>\n",
       "      <th>0</th>\n",
       "      <td>47.0</td>\n",
       "      <td>408</td>\n",
       "    </tr>\n",
       "    <tr>\n",
       "      <th>1</th>\n",
       "      <td>76.0</td>\n",
       "      <td>259</td>\n",
       "    </tr>\n",
       "  </tbody>\n",
       "</table>\n",
       "</div>"
      ],
      "text/plain": [
       "                          sum  count\n",
       "proba_bucket DPD_plus_3             \n",
       "1            0            7.0    513\n",
       "             1            3.0     21\n",
       "2            0           13.0    659\n",
       "             1            4.0     47\n",
       "3            0           33.0    651\n",
       "             1           27.0    126\n",
       "4            0           47.0    408\n",
       "             1           76.0    259"
      ]
     },
     "execution_count": 53,
     "metadata": {},
     "output_type": "execute_result"
    }
   ],
   "source": [
    "df_all.groupby(['proba_bucket','DPD_plus_3'],as_index=False)['DPD_plus_15'].agg(['sum','count']).sort_values(['proba_bucket','DPD_plus_3'])"
   ]
  },
  {
   "cell_type": "code",
   "execution_count": 54,
   "metadata": {},
   "outputs": [
    {
     "data": {
      "text/html": [
       "<div>\n",
       "<style scoped>\n",
       "    .dataframe tbody tr th:only-of-type {\n",
       "        vertical-align: middle;\n",
       "    }\n",
       "\n",
       "    .dataframe tbody tr th {\n",
       "        vertical-align: top;\n",
       "    }\n",
       "\n",
       "    .dataframe thead th {\n",
       "        text-align: right;\n",
       "    }\n",
       "</style>\n",
       "<table border=\"1\" class=\"dataframe\">\n",
       "  <thead>\n",
       "    <tr style=\"text-align: right;\">\n",
       "      <th></th>\n",
       "      <th>sum</th>\n",
       "      <th>count</th>\n",
       "    </tr>\n",
       "    <tr>\n",
       "      <th>emi_no</th>\n",
       "      <th></th>\n",
       "      <th></th>\n",
       "    </tr>\n",
       "  </thead>\n",
       "  <tbody>\n",
       "    <tr>\n",
       "      <th>2</th>\n",
       "      <td>104.0</td>\n",
       "      <td>1376</td>\n",
       "    </tr>\n",
       "    <tr>\n",
       "      <th>3</th>\n",
       "      <td>34.0</td>\n",
       "      <td>662</td>\n",
       "    </tr>\n",
       "    <tr>\n",
       "      <th>4</th>\n",
       "      <td>54.0</td>\n",
       "      <td>331</td>\n",
       "    </tr>\n",
       "    <tr>\n",
       "      <th>5</th>\n",
       "      <td>18.0</td>\n",
       "      <td>315</td>\n",
       "    </tr>\n",
       "  </tbody>\n",
       "</table>\n",
       "</div>"
      ],
      "text/plain": [
       "          sum  count\n",
       "emi_no              \n",
       "2       104.0   1376\n",
       "3        34.0    662\n",
       "4        54.0    331\n",
       "5        18.0    315"
      ]
     },
     "execution_count": 54,
     "metadata": {},
     "output_type": "execute_result"
    }
   ],
   "source": [
    "df_all.groupby('emi_no')['DPD_plus_15'].agg(['sum','count']).sort_values('emi_no')"
   ]
  },
  {
   "cell_type": "code",
   "execution_count": 55,
   "metadata": {},
   "outputs": [
    {
     "data": {
      "text/html": [
       "<div>\n",
       "<style scoped>\n",
       "    .dataframe tbody tr th:only-of-type {\n",
       "        vertical-align: middle;\n",
       "    }\n",
       "\n",
       "    .dataframe tbody tr th {\n",
       "        vertical-align: top;\n",
       "    }\n",
       "\n",
       "    .dataframe thead th {\n",
       "        text-align: right;\n",
       "    }\n",
       "</style>\n",
       "<table border=\"1\" class=\"dataframe\">\n",
       "  <thead>\n",
       "    <tr style=\"text-align: right;\">\n",
       "      <th></th>\n",
       "      <th></th>\n",
       "      <th></th>\n",
       "      <th>sum</th>\n",
       "      <th>count</th>\n",
       "    </tr>\n",
       "    <tr>\n",
       "      <th>pilot_flag</th>\n",
       "      <th>pilot_period_flag</th>\n",
       "      <th>emi_no</th>\n",
       "      <th></th>\n",
       "      <th></th>\n",
       "    </tr>\n",
       "  </thead>\n",
       "  <tbody>\n",
       "    <tr>\n",
       "      <th rowspan=\"2\" valign=\"top\">0</th>\n",
       "      <th rowspan=\"2\" valign=\"top\">0</th>\n",
       "      <th>2</th>\n",
       "      <td>3.0</td>\n",
       "      <td>722</td>\n",
       "    </tr>\n",
       "    <tr>\n",
       "      <th>3</th>\n",
       "      <td>0.0</td>\n",
       "      <td>40</td>\n",
       "    </tr>\n",
       "    <tr>\n",
       "      <th rowspan=\"6\" valign=\"top\">1</th>\n",
       "      <th rowspan=\"4\" valign=\"top\">0</th>\n",
       "      <th>2</th>\n",
       "      <td>0.0</td>\n",
       "      <td>21</td>\n",
       "    </tr>\n",
       "    <tr>\n",
       "      <th>3</th>\n",
       "      <td>1.0</td>\n",
       "      <td>50</td>\n",
       "    </tr>\n",
       "    <tr>\n",
       "      <th>4</th>\n",
       "      <td>54.0</td>\n",
       "      <td>331</td>\n",
       "    </tr>\n",
       "    <tr>\n",
       "      <th>5</th>\n",
       "      <td>18.0</td>\n",
       "      <td>315</td>\n",
       "    </tr>\n",
       "    <tr>\n",
       "      <th rowspan=\"2\" valign=\"top\">1</th>\n",
       "      <th>2</th>\n",
       "      <td>101.0</td>\n",
       "      <td>633</td>\n",
       "    </tr>\n",
       "    <tr>\n",
       "      <th>3</th>\n",
       "      <td>33.0</td>\n",
       "      <td>572</td>\n",
       "    </tr>\n",
       "  </tbody>\n",
       "</table>\n",
       "</div>"
      ],
      "text/plain": [
       "                                       sum  count\n",
       "pilot_flag pilot_period_flag emi_no              \n",
       "0          0                 2         3.0    722\n",
       "                             3         0.0     40\n",
       "1          0                 2         0.0     21\n",
       "                             3         1.0     50\n",
       "                             4        54.0    331\n",
       "                             5        18.0    315\n",
       "           1                 2       101.0    633\n",
       "                             3        33.0    572"
      ]
     },
     "execution_count": 55,
     "metadata": {},
     "output_type": "execute_result"
    }
   ],
   "source": [
    "df_all.groupby(['pilot_flag','pilot_period_flag','emi_no'])['DPD_plus_15'].agg(['sum','count']).sort_values(['pilot_flag','pilot_period_flag','emi_no'])"
   ]
  },
  {
   "cell_type": "markdown",
   "metadata": {},
   "source": [
    "#### prob bucket"
   ]
  },
  {
   "cell_type": "code",
   "execution_count": 56,
   "metadata": {},
   "outputs": [
    {
     "data": {
      "text/html": [
       "<div>\n",
       "<style scoped>\n",
       "    .dataframe tbody tr th:only-of-type {\n",
       "        vertical-align: middle;\n",
       "    }\n",
       "\n",
       "    .dataframe tbody tr th {\n",
       "        vertical-align: top;\n",
       "    }\n",
       "\n",
       "    .dataframe thead th {\n",
       "        text-align: right;\n",
       "    }\n",
       "</style>\n",
       "<table border=\"1\" class=\"dataframe\">\n",
       "  <thead>\n",
       "    <tr style=\"text-align: right;\">\n",
       "      <th></th>\n",
       "      <th>sum</th>\n",
       "      <th>count</th>\n",
       "    </tr>\n",
       "    <tr>\n",
       "      <th>prob_bucket</th>\n",
       "      <th></th>\n",
       "      <th></th>\n",
       "    </tr>\n",
       "  </thead>\n",
       "  <tbody>\n",
       "    <tr>\n",
       "      <th>0.5-0.6</th>\n",
       "      <td>67.0</td>\n",
       "      <td>551</td>\n",
       "    </tr>\n",
       "    <tr>\n",
       "      <th>0.6-0.8</th>\n",
       "      <td>72.0</td>\n",
       "      <td>377</td>\n",
       "    </tr>\n",
       "    <tr>\n",
       "      <th>&lt;0.5</th>\n",
       "      <td>49.0</td>\n",
       "      <td>1663</td>\n",
       "    </tr>\n",
       "    <tr>\n",
       "      <th>&gt;0.8</th>\n",
       "      <td>22.0</td>\n",
       "      <td>93</td>\n",
       "    </tr>\n",
       "  </tbody>\n",
       "</table>\n",
       "</div>"
      ],
      "text/plain": [
       "              sum  count\n",
       "prob_bucket             \n",
       "0.5-0.6      67.0    551\n",
       "0.6-0.8      72.0    377\n",
       "<0.5         49.0   1663\n",
       ">0.8         22.0     93"
      ]
     },
     "execution_count": 56,
     "metadata": {},
     "output_type": "execute_result"
    }
   ],
   "source": [
    "df_all.groupby(['prob_bucket'],as_index=False)['DPD_plus_15'].agg(['sum','count']).sort_values(['prob_bucket'])"
   ]
  },
  {
   "cell_type": "code",
   "execution_count": 57,
   "metadata": {},
   "outputs": [
    {
     "name": "stdout",
     "output_type": "stream",
     "text": [
      "(806, 126)\n",
      "(150, 126)\n",
      "(57, 126)\n",
      "(30, 126)\n",
      "(3, 126)\n"
     ]
    }
   ],
   "source": [
    "print(df_test.shape)\n",
    "print(df_test[df_test['proba']>0.6].shape)\n",
    "print(df_test[df_test['proba']>0.7].shape)\n",
    "print(df_test[df_test['proba']>0.8].shape)\n",
    "print(df_test[df_test['proba']>0.9].shape)"
   ]
  },
  {
   "cell_type": "code",
   "execution_count": 58,
   "metadata": {},
   "outputs": [
    {
     "data": {
      "text/html": [
       "<div>\n",
       "<style scoped>\n",
       "    .dataframe tbody tr th:only-of-type {\n",
       "        vertical-align: middle;\n",
       "    }\n",
       "\n",
       "    .dataframe tbody tr th {\n",
       "        vertical-align: top;\n",
       "    }\n",
       "\n",
       "    .dataframe thead th {\n",
       "        text-align: right;\n",
       "    }\n",
       "</style>\n",
       "<table border=\"1\" class=\"dataframe\">\n",
       "  <thead>\n",
       "    <tr style=\"text-align: right;\">\n",
       "      <th></th>\n",
       "      <th>sum</th>\n",
       "      <th>count</th>\n",
       "    </tr>\n",
       "    <tr>\n",
       "      <th>emi_no</th>\n",
       "      <th></th>\n",
       "      <th></th>\n",
       "    </tr>\n",
       "  </thead>\n",
       "  <tbody>\n",
       "    <tr>\n",
       "      <th>2</th>\n",
       "      <td>42.0</td>\n",
       "      <td>434</td>\n",
       "    </tr>\n",
       "    <tr>\n",
       "      <th>3</th>\n",
       "      <td>7.0</td>\n",
       "      <td>188</td>\n",
       "    </tr>\n",
       "    <tr>\n",
       "      <th>4</th>\n",
       "      <td>10.0</td>\n",
       "      <td>93</td>\n",
       "    </tr>\n",
       "    <tr>\n",
       "      <th>5</th>\n",
       "      <td>4.0</td>\n",
       "      <td>91</td>\n",
       "    </tr>\n",
       "  </tbody>\n",
       "</table>\n",
       "</div>"
      ],
      "text/plain": [
       "         sum  count\n",
       "emi_no             \n",
       "2       42.0    434\n",
       "3        7.0    188\n",
       "4       10.0     93\n",
       "5        4.0     91"
      ]
     },
     "execution_count": 58,
     "metadata": {},
     "output_type": "execute_result"
    }
   ],
   "source": [
    "df_test.groupby(['emi_no'],as_index=False)['DPD_plus_15'].agg(['sum','count'])"
   ]
  },
  {
   "cell_type": "code",
   "execution_count": 59,
   "metadata": {},
   "outputs": [
    {
     "name": "stdout",
     "output_type": "stream",
     "text": [
      "Delinquency rate for (Prob > 0.6) - 0.21 & proportion = 18.61%\n",
      "Delinquency rate for (Prob > 0.7) - 0.26 & proportion = 7.07%\n",
      "Delinquency rate for (Prob > 0.8) - 0.27 & proportion = 3.72%\n",
      "Delinquency rate for (Prob > 0.9) - 0.33 & proportion = 0.37%\n"
     ]
    }
   ],
   "source": [
    "print('Delinquency rate for (Prob > {}) - {} & proportion = {}%'.format(0.6,np.round(df_test.loc[df_test['proba']>0.6,'DPD_plus_15'].sum()/len(df_test[df_test['proba']>0.6]),2), np.round(len(df_test[df_test['proba']>0.6])*100/len(df_test),2)))\n",
    "print('Delinquency rate for (Prob > {}) - {} & proportion = {}%'.format(0.7,np.round(df_test.loc[df_test['proba']>0.7,'DPD_plus_15'].sum()/len(df_test[df_test['proba']>0.7]),2), np.round(len(df_test[df_test['proba']>0.7])*100/len(df_test),2)))\n",
    "print('Delinquency rate for (Prob > {}) - {} & proportion = {}%'.format(0.8,np.round(df_test.loc[df_test['proba']>0.8,'DPD_plus_15'].sum()/len(df_test[df_test['proba']>0.8]),2), np.round(len(df_test[df_test['proba']>0.8])*100/len(df_test),2)))\n",
    "print('Delinquency rate for (Prob > {}) - {} & proportion = {}%'.format(0.9,np.round(df_test.loc[df_test['proba']>0.9,'DPD_plus_15'].sum()/len(df_test[df_test['proba']>0.9]),2), np.round(len(df_test[df_test['proba']>0.9])*100/len(df_test),2)))"
   ]
  },
  {
   "cell_type": "code",
   "execution_count": 60,
   "metadata": {},
   "outputs": [
    {
     "data": {
      "text/plain": [
       "0.018092444844754224"
      ]
     },
     "execution_count": 60,
     "metadata": {},
     "output_type": "execute_result"
    }
   ],
   "source": [
    "df_all['amount_debited_2m'].mean()"
   ]
  },
  {
   "cell_type": "markdown",
   "metadata": {},
   "source": [
    "#### Save model object"
   ]
  },
  {
   "cell_type": "code",
   "execution_count": 61,
   "metadata": {},
   "outputs": [],
   "source": [
    "# # save data parameters\n",
    "# data_params = data_params[data_params['feature'].isin(feat_list)]\n",
    "# file_name = 'data_params_v2.pkl'\n",
    "# path = '/Users/shashankgupta/Documents/code/git_project/redec/re_decisioning/Models/'\n",
    "# data_params.to_pickle(path + file_name)\n",
    "\n",
    "\n",
    "# # save logit model\n",
    "# file_name = 'redec_3.pkl'\n",
    "# path = '/Users/shashankgupta/Documents/code/git_project/redec/re_decisioning/Models/'\n",
    "# pickle.dump(logreg_model, open(path + file_name,'wb'))"
   ]
  },
  {
   "cell_type": "markdown",
   "metadata": {},
   "source": [
    "#### Scoring"
   ]
  },
  {
   "cell_type": "code",
   "execution_count": 62,
   "metadata": {},
   "outputs": [
    {
     "data": {
      "text/html": [
       "<div>\n",
       "<style scoped>\n",
       "    .dataframe tbody tr th:only-of-type {\n",
       "        vertical-align: middle;\n",
       "    }\n",
       "\n",
       "    .dataframe tbody tr th {\n",
       "        vertical-align: top;\n",
       "    }\n",
       "\n",
       "    .dataframe thead th {\n",
       "        text-align: right;\n",
       "    }\n",
       "</style>\n",
       "<table border=\"1\" class=\"dataframe\">\n",
       "  <thead>\n",
       "    <tr style=\"text-align: right;\">\n",
       "      <th></th>\n",
       "      <th>business_id</th>\n",
       "      <th>due_date</th>\n",
       "      <th>DPD_plus_3_last_2</th>\n",
       "      <th>DPD_plus_15_prev</th>\n",
       "      <th>emi_no</th>\n",
       "      <th>DPD_plus_3</th>\n",
       "      <th>count_pd_deposit_1m</th>\n",
       "      <th>count_ach_debit_1m</th>\n",
       "      <th>count_ach_credit_1m</th>\n",
       "      <th>count_card_withdrawal_1m</th>\n",
       "      <th>...</th>\n",
       "      <th>ratio_count_cashin_mom</th>\n",
       "      <th>pilot_flag</th>\n",
       "      <th>pilot_period_flag</th>\n",
       "      <th>rs2_bin</th>\n",
       "      <th>rs2_score</th>\n",
       "      <th>DPD_plus_15</th>\n",
       "      <th>proba</th>\n",
       "      <th>DecileRank</th>\n",
       "      <th>prob_bucket</th>\n",
       "      <th>proba_bucket</th>\n",
       "    </tr>\n",
       "  </thead>\n",
       "  <tbody>\n",
       "    <tr>\n",
       "      <th>0</th>\n",
       "      <td>939e1e8c-47d5-4600-b379-bf855be187f7</td>\n",
       "      <td>2023-04-03</td>\n",
       "      <td>-0.52062</td>\n",
       "      <td>0.0</td>\n",
       "      <td>4</td>\n",
       "      <td>0</td>\n",
       "      <td>-0.515262</td>\n",
       "      <td>-0.579907</td>\n",
       "      <td>-0.500639</td>\n",
       "      <td>-0.500973</td>\n",
       "      <td>...</td>\n",
       "      <td>1.721493</td>\n",
       "      <td>1</td>\n",
       "      <td>0</td>\n",
       "      <td>2.0</td>\n",
       "      <td>330.0</td>\n",
       "      <td>0.0</td>\n",
       "      <td>0.548</td>\n",
       "      <td>(0.448, 0.56]</td>\n",
       "      <td>0.5-0.6</td>\n",
       "      <td>3</td>\n",
       "    </tr>\n",
       "    <tr>\n",
       "      <th>1</th>\n",
       "      <td>3d4b951b-84f7-4a04-9614-53b6b1d4a4e5</td>\n",
       "      <td>2023-03-31</td>\n",
       "      <td>-0.52062</td>\n",
       "      <td>0.0</td>\n",
       "      <td>4</td>\n",
       "      <td>0</td>\n",
       "      <td>-0.515262</td>\n",
       "      <td>-0.402151</td>\n",
       "      <td>-0.618666</td>\n",
       "      <td>-0.450365</td>\n",
       "      <td>...</td>\n",
       "      <td>-0.062685</td>\n",
       "      <td>1</td>\n",
       "      <td>0</td>\n",
       "      <td>3.0</td>\n",
       "      <td>498.0</td>\n",
       "      <td>0.0</td>\n",
       "      <td>0.463</td>\n",
       "      <td>(0.448, 0.56]</td>\n",
       "      <td>&lt;0.5</td>\n",
       "      <td>3</td>\n",
       "    </tr>\n",
       "    <tr>\n",
       "      <th>2</th>\n",
       "      <td>189d5476-cfbb-4e70-a09f-a27602bb2a51</td>\n",
       "      <td>2023-03-27</td>\n",
       "      <td>-0.52062</td>\n",
       "      <td>0.0</td>\n",
       "      <td>4</td>\n",
       "      <td>0</td>\n",
       "      <td>-0.515262</td>\n",
       "      <td>-0.091079</td>\n",
       "      <td>0.030481</td>\n",
       "      <td>-0.450365</td>\n",
       "      <td>...</td>\n",
       "      <td>-0.062685</td>\n",
       "      <td>1</td>\n",
       "      <td>0</td>\n",
       "      <td>4.0</td>\n",
       "      <td>687.0</td>\n",
       "      <td>0.0</td>\n",
       "      <td>0.399</td>\n",
       "      <td>(0.309, 0.448]</td>\n",
       "      <td>&lt;0.5</td>\n",
       "      <td>2</td>\n",
       "    </tr>\n",
       "    <tr>\n",
       "      <th>3</th>\n",
       "      <td>6c712e37-ec28-4e2a-8178-e85a78960cc9</td>\n",
       "      <td>2023-03-24</td>\n",
       "      <td>-0.52062</td>\n",
       "      <td>0.0</td>\n",
       "      <td>4</td>\n",
       "      <td>0</td>\n",
       "      <td>-0.515262</td>\n",
       "      <td>-0.179956</td>\n",
       "      <td>-0.559652</td>\n",
       "      <td>-0.399756</td>\n",
       "      <td>...</td>\n",
       "      <td>-0.062685</td>\n",
       "      <td>1</td>\n",
       "      <td>0</td>\n",
       "      <td>4.0</td>\n",
       "      <td>625.0</td>\n",
       "      <td>0.0</td>\n",
       "      <td>0.580</td>\n",
       "      <td>(0.56, 0.918]</td>\n",
       "      <td>0.5-0.6</td>\n",
       "      <td>4</td>\n",
       "    </tr>\n",
       "    <tr>\n",
       "      <th>4</th>\n",
       "      <td>7e0e44c5-deba-47dc-900b-7af1f321686f</td>\n",
       "      <td>2023-03-22</td>\n",
       "      <td>-0.52062</td>\n",
       "      <td>0.0</td>\n",
       "      <td>4</td>\n",
       "      <td>0</td>\n",
       "      <td>-0.515262</td>\n",
       "      <td>-0.579907</td>\n",
       "      <td>-0.618666</td>\n",
       "      <td>-0.227688</td>\n",
       "      <td>...</td>\n",
       "      <td>0.829404</td>\n",
       "      <td>1</td>\n",
       "      <td>0</td>\n",
       "      <td>2.0</td>\n",
       "      <td>326.0</td>\n",
       "      <td>0.0</td>\n",
       "      <td>0.656</td>\n",
       "      <td>(0.56, 0.918]</td>\n",
       "      <td>0.6-0.8</td>\n",
       "      <td>4</td>\n",
       "    </tr>\n",
       "  </tbody>\n",
       "</table>\n",
       "<p>5 rows × 128 columns</p>\n",
       "</div>"
      ],
      "text/plain": [
       "                            business_id    due_date  DPD_plus_3_last_2  \\\n",
       "0  939e1e8c-47d5-4600-b379-bf855be187f7  2023-04-03           -0.52062   \n",
       "1  3d4b951b-84f7-4a04-9614-53b6b1d4a4e5  2023-03-31           -0.52062   \n",
       "2  189d5476-cfbb-4e70-a09f-a27602bb2a51  2023-03-27           -0.52062   \n",
       "3  6c712e37-ec28-4e2a-8178-e85a78960cc9  2023-03-24           -0.52062   \n",
       "4  7e0e44c5-deba-47dc-900b-7af1f321686f  2023-03-22           -0.52062   \n",
       "\n",
       "   DPD_plus_15_prev  emi_no  DPD_plus_3  count_pd_deposit_1m  \\\n",
       "0               0.0       4           0            -0.515262   \n",
       "1               0.0       4           0            -0.515262   \n",
       "2               0.0       4           0            -0.515262   \n",
       "3               0.0       4           0            -0.515262   \n",
       "4               0.0       4           0            -0.515262   \n",
       "\n",
       "   count_ach_debit_1m  count_ach_credit_1m  count_card_withdrawal_1m  ...  \\\n",
       "0           -0.579907            -0.500639                 -0.500973  ...   \n",
       "1           -0.402151            -0.618666                 -0.450365  ...   \n",
       "2           -0.091079             0.030481                 -0.450365  ...   \n",
       "3           -0.179956            -0.559652                 -0.399756  ...   \n",
       "4           -0.579907            -0.618666                 -0.227688  ...   \n",
       "\n",
       "   ratio_count_cashin_mom  pilot_flag  pilot_period_flag  rs2_bin  rs2_score  \\\n",
       "0                1.721493           1                  0      2.0      330.0   \n",
       "1               -0.062685           1                  0      3.0      498.0   \n",
       "2               -0.062685           1                  0      4.0      687.0   \n",
       "3               -0.062685           1                  0      4.0      625.0   \n",
       "4                0.829404           1                  0      2.0      326.0   \n",
       "\n",
       "   DPD_plus_15  proba      DecileRank  prob_bucket  proba_bucket  \n",
       "0          0.0  0.548   (0.448, 0.56]      0.5-0.6             3  \n",
       "1          0.0  0.463   (0.448, 0.56]         <0.5             3  \n",
       "2          0.0  0.399  (0.309, 0.448]         <0.5             2  \n",
       "3          0.0  0.580   (0.56, 0.918]      0.5-0.6             4  \n",
       "4          0.0  0.656   (0.56, 0.918]      0.6-0.8             4  \n",
       "\n",
       "[5 rows x 128 columns]"
      ]
     },
     "execution_count": 62,
     "metadata": {},
     "output_type": "execute_result"
    }
   ],
   "source": [
    "df_all.head()"
   ]
  },
  {
   "cell_type": "code",
   "execution_count": 63,
   "metadata": {},
   "outputs": [
    {
     "data": {
      "text/html": [
       "<div>\n",
       "<style scoped>\n",
       "    .dataframe tbody tr th:only-of-type {\n",
       "        vertical-align: middle;\n",
       "    }\n",
       "\n",
       "    .dataframe tbody tr th {\n",
       "        vertical-align: top;\n",
       "    }\n",
       "\n",
       "    .dataframe thead th {\n",
       "        text-align: right;\n",
       "    }\n",
       "</style>\n",
       "<table border=\"1\" class=\"dataframe\">\n",
       "  <thead>\n",
       "    <tr style=\"text-align: right;\">\n",
       "      <th></th>\n",
       "      <th>sum</th>\n",
       "      <th>count</th>\n",
       "    </tr>\n",
       "    <tr>\n",
       "      <th>rs2_bin</th>\n",
       "      <th></th>\n",
       "      <th></th>\n",
       "    </tr>\n",
       "  </thead>\n",
       "  <tbody>\n",
       "    <tr>\n",
       "      <th>1.0</th>\n",
       "      <td>137.0</td>\n",
       "      <td>551</td>\n",
       "    </tr>\n",
       "    <tr>\n",
       "      <th>2.0</th>\n",
       "      <td>34.0</td>\n",
       "      <td>431</td>\n",
       "    </tr>\n",
       "    <tr>\n",
       "      <th>3.0</th>\n",
       "      <td>30.0</td>\n",
       "      <td>754</td>\n",
       "    </tr>\n",
       "    <tr>\n",
       "      <th>4.0</th>\n",
       "      <td>7.0</td>\n",
       "      <td>439</td>\n",
       "    </tr>\n",
       "    <tr>\n",
       "      <th>5.0</th>\n",
       "      <td>2.0</td>\n",
       "      <td>509</td>\n",
       "    </tr>\n",
       "  </tbody>\n",
       "</table>\n",
       "</div>"
      ],
      "text/plain": [
       "           sum  count\n",
       "rs2_bin              \n",
       "1.0      137.0    551\n",
       "2.0       34.0    431\n",
       "3.0       30.0    754\n",
       "4.0        7.0    439\n",
       "5.0        2.0    509"
      ]
     },
     "execution_count": 63,
     "metadata": {},
     "output_type": "execute_result"
    }
   ],
   "source": [
    "df_all.groupby('rs2_bin')['DPD_plus_15'].agg(['sum','count'])"
   ]
  },
  {
   "cell_type": "code",
   "execution_count": 64,
   "metadata": {},
   "outputs": [
    {
     "data": {
      "text/plain": [
       "rs2_bin\n",
       "1.0    0.587\n",
       "2.0    0.488\n",
       "3.0    0.447\n",
       "4.0    0.383\n",
       "5.0    0.266\n",
       "Name: proba, dtype: float64"
      ]
     },
     "execution_count": 64,
     "metadata": {},
     "output_type": "execute_result"
    }
   ],
   "source": [
    "df_all.groupby('rs2_bin')['proba'].median()"
   ]
  },
  {
   "cell_type": "code",
   "execution_count": 65,
   "metadata": {},
   "outputs": [],
   "source": [
    "def buckets(x):\n",
    "    if x > 0.58:\n",
    "        return 1\n",
    "    if x > 0.46:\n",
    "        return 2\n",
    "    if x > 0.35:\n",
    "        return 3\n",
    "    if x > 0.20:\n",
    "        return 4\n",
    "    return 5"
   ]
  },
  {
   "cell_type": "code",
   "execution_count": 66,
   "metadata": {},
   "outputs": [],
   "source": [
    "# def buckets(x):\n",
    "#     if x > 0.587:\n",
    "#         return 1\n",
    "#     if x > 0.488:\n",
    "#         return 2\n",
    "#     if x > 0.383:\n",
    "#         return 3\n",
    "#     if x > 0.266:\n",
    "#         return 4\n",
    "#     return 5"
   ]
  },
  {
   "cell_type": "code",
   "execution_count": 67,
   "metadata": {},
   "outputs": [],
   "source": [
    "df_all['redec_bucket'] = df_all['proba'].apply(lambda x: buckets(x))"
   ]
  },
  {
   "cell_type": "code",
   "execution_count": 68,
   "metadata": {},
   "outputs": [],
   "source": [
    "df_all.groupby('redec_bucket')['DPD_plus_15'].agg(['sum','count']).to_clipboard()"
   ]
  },
  {
   "cell_type": "code",
   "execution_count": 69,
   "metadata": {},
   "outputs": [],
   "source": [
    "df_all['redec_score'] = (1 - df_all['proba'])*1000"
   ]
  },
  {
   "cell_type": "code",
   "execution_count": 70,
   "metadata": {},
   "outputs": [
    {
     "data": {
      "text/html": [
       "<div>\n",
       "<style scoped>\n",
       "    .dataframe tbody tr th:only-of-type {\n",
       "        vertical-align: middle;\n",
       "    }\n",
       "\n",
       "    .dataframe tbody tr th {\n",
       "        vertical-align: top;\n",
       "    }\n",
       "\n",
       "    .dataframe thead th {\n",
       "        text-align: right;\n",
       "    }\n",
       "</style>\n",
       "<table border=\"1\" class=\"dataframe\">\n",
       "  <thead>\n",
       "    <tr style=\"text-align: right;\">\n",
       "      <th></th>\n",
       "      <th>business_id</th>\n",
       "      <th>due_date</th>\n",
       "      <th>DPD_plus_3_last_2</th>\n",
       "      <th>DPD_plus_15_prev</th>\n",
       "      <th>emi_no</th>\n",
       "      <th>DPD_plus_3</th>\n",
       "      <th>count_pd_deposit_1m</th>\n",
       "      <th>count_ach_debit_1m</th>\n",
       "      <th>count_ach_credit_1m</th>\n",
       "      <th>count_card_withdrawal_1m</th>\n",
       "      <th>...</th>\n",
       "      <th>pilot_period_flag</th>\n",
       "      <th>rs2_bin</th>\n",
       "      <th>rs2_score</th>\n",
       "      <th>DPD_plus_15</th>\n",
       "      <th>proba</th>\n",
       "      <th>DecileRank</th>\n",
       "      <th>prob_bucket</th>\n",
       "      <th>proba_bucket</th>\n",
       "      <th>redec_bucket</th>\n",
       "      <th>redec_score</th>\n",
       "    </tr>\n",
       "  </thead>\n",
       "  <tbody>\n",
       "    <tr>\n",
       "      <th>0</th>\n",
       "      <td>939e1e8c-47d5-4600-b379-bf855be187f7</td>\n",
       "      <td>2023-04-03</td>\n",
       "      <td>-0.52062</td>\n",
       "      <td>0.0</td>\n",
       "      <td>4</td>\n",
       "      <td>0</td>\n",
       "      <td>-0.515262</td>\n",
       "      <td>-0.579907</td>\n",
       "      <td>-0.500639</td>\n",
       "      <td>-0.500973</td>\n",
       "      <td>...</td>\n",
       "      <td>0</td>\n",
       "      <td>2.0</td>\n",
       "      <td>330.0</td>\n",
       "      <td>0.0</td>\n",
       "      <td>0.548</td>\n",
       "      <td>(0.448, 0.56]</td>\n",
       "      <td>0.5-0.6</td>\n",
       "      <td>3</td>\n",
       "      <td>2</td>\n",
       "      <td>452.0</td>\n",
       "    </tr>\n",
       "    <tr>\n",
       "      <th>1</th>\n",
       "      <td>3d4b951b-84f7-4a04-9614-53b6b1d4a4e5</td>\n",
       "      <td>2023-03-31</td>\n",
       "      <td>-0.52062</td>\n",
       "      <td>0.0</td>\n",
       "      <td>4</td>\n",
       "      <td>0</td>\n",
       "      <td>-0.515262</td>\n",
       "      <td>-0.402151</td>\n",
       "      <td>-0.618666</td>\n",
       "      <td>-0.450365</td>\n",
       "      <td>...</td>\n",
       "      <td>0</td>\n",
       "      <td>3.0</td>\n",
       "      <td>498.0</td>\n",
       "      <td>0.0</td>\n",
       "      <td>0.463</td>\n",
       "      <td>(0.448, 0.56]</td>\n",
       "      <td>&lt;0.5</td>\n",
       "      <td>3</td>\n",
       "      <td>2</td>\n",
       "      <td>537.0</td>\n",
       "    </tr>\n",
       "    <tr>\n",
       "      <th>2</th>\n",
       "      <td>189d5476-cfbb-4e70-a09f-a27602bb2a51</td>\n",
       "      <td>2023-03-27</td>\n",
       "      <td>-0.52062</td>\n",
       "      <td>0.0</td>\n",
       "      <td>4</td>\n",
       "      <td>0</td>\n",
       "      <td>-0.515262</td>\n",
       "      <td>-0.091079</td>\n",
       "      <td>0.030481</td>\n",
       "      <td>-0.450365</td>\n",
       "      <td>...</td>\n",
       "      <td>0</td>\n",
       "      <td>4.0</td>\n",
       "      <td>687.0</td>\n",
       "      <td>0.0</td>\n",
       "      <td>0.399</td>\n",
       "      <td>(0.309, 0.448]</td>\n",
       "      <td>&lt;0.5</td>\n",
       "      <td>2</td>\n",
       "      <td>3</td>\n",
       "      <td>601.0</td>\n",
       "    </tr>\n",
       "    <tr>\n",
       "      <th>3</th>\n",
       "      <td>6c712e37-ec28-4e2a-8178-e85a78960cc9</td>\n",
       "      <td>2023-03-24</td>\n",
       "      <td>-0.52062</td>\n",
       "      <td>0.0</td>\n",
       "      <td>4</td>\n",
       "      <td>0</td>\n",
       "      <td>-0.515262</td>\n",
       "      <td>-0.179956</td>\n",
       "      <td>-0.559652</td>\n",
       "      <td>-0.399756</td>\n",
       "      <td>...</td>\n",
       "      <td>0</td>\n",
       "      <td>4.0</td>\n",
       "      <td>625.0</td>\n",
       "      <td>0.0</td>\n",
       "      <td>0.580</td>\n",
       "      <td>(0.56, 0.918]</td>\n",
       "      <td>0.5-0.6</td>\n",
       "      <td>4</td>\n",
       "      <td>2</td>\n",
       "      <td>420.0</td>\n",
       "    </tr>\n",
       "    <tr>\n",
       "      <th>4</th>\n",
       "      <td>7e0e44c5-deba-47dc-900b-7af1f321686f</td>\n",
       "      <td>2023-03-22</td>\n",
       "      <td>-0.52062</td>\n",
       "      <td>0.0</td>\n",
       "      <td>4</td>\n",
       "      <td>0</td>\n",
       "      <td>-0.515262</td>\n",
       "      <td>-0.579907</td>\n",
       "      <td>-0.618666</td>\n",
       "      <td>-0.227688</td>\n",
       "      <td>...</td>\n",
       "      <td>0</td>\n",
       "      <td>2.0</td>\n",
       "      <td>326.0</td>\n",
       "      <td>0.0</td>\n",
       "      <td>0.656</td>\n",
       "      <td>(0.56, 0.918]</td>\n",
       "      <td>0.6-0.8</td>\n",
       "      <td>4</td>\n",
       "      <td>1</td>\n",
       "      <td>344.0</td>\n",
       "    </tr>\n",
       "  </tbody>\n",
       "</table>\n",
       "<p>5 rows × 130 columns</p>\n",
       "</div>"
      ],
      "text/plain": [
       "                            business_id    due_date  DPD_plus_3_last_2  \\\n",
       "0  939e1e8c-47d5-4600-b379-bf855be187f7  2023-04-03           -0.52062   \n",
       "1  3d4b951b-84f7-4a04-9614-53b6b1d4a4e5  2023-03-31           -0.52062   \n",
       "2  189d5476-cfbb-4e70-a09f-a27602bb2a51  2023-03-27           -0.52062   \n",
       "3  6c712e37-ec28-4e2a-8178-e85a78960cc9  2023-03-24           -0.52062   \n",
       "4  7e0e44c5-deba-47dc-900b-7af1f321686f  2023-03-22           -0.52062   \n",
       "\n",
       "   DPD_plus_15_prev  emi_no  DPD_plus_3  count_pd_deposit_1m  \\\n",
       "0               0.0       4           0            -0.515262   \n",
       "1               0.0       4           0            -0.515262   \n",
       "2               0.0       4           0            -0.515262   \n",
       "3               0.0       4           0            -0.515262   \n",
       "4               0.0       4           0            -0.515262   \n",
       "\n",
       "   count_ach_debit_1m  count_ach_credit_1m  count_card_withdrawal_1m  ...  \\\n",
       "0           -0.579907            -0.500639                 -0.500973  ...   \n",
       "1           -0.402151            -0.618666                 -0.450365  ...   \n",
       "2           -0.091079             0.030481                 -0.450365  ...   \n",
       "3           -0.179956            -0.559652                 -0.399756  ...   \n",
       "4           -0.579907            -0.618666                 -0.227688  ...   \n",
       "\n",
       "   pilot_period_flag  rs2_bin  rs2_score  DPD_plus_15  proba      DecileRank  \\\n",
       "0                  0      2.0      330.0          0.0  0.548   (0.448, 0.56]   \n",
       "1                  0      3.0      498.0          0.0  0.463   (0.448, 0.56]   \n",
       "2                  0      4.0      687.0          0.0  0.399  (0.309, 0.448]   \n",
       "3                  0      4.0      625.0          0.0  0.580   (0.56, 0.918]   \n",
       "4                  0      2.0      326.0          0.0  0.656   (0.56, 0.918]   \n",
       "\n",
       "   prob_bucket  proba_bucket  redec_bucket  redec_score  \n",
       "0      0.5-0.6             3             2        452.0  \n",
       "1         <0.5             3             2        537.0  \n",
       "2         <0.5             2             3        601.0  \n",
       "3      0.5-0.6             4             2        420.0  \n",
       "4      0.6-0.8             4             1        344.0  \n",
       "\n",
       "[5 rows x 130 columns]"
      ]
     },
     "execution_count": 70,
     "metadata": {},
     "output_type": "execute_result"
    }
   ],
   "source": [
    "df_all.head()"
   ]
  },
  {
   "cell_type": "code",
   "execution_count": null,
   "metadata": {},
   "outputs": [],
   "source": []
  }
 ],
 "metadata": {
  "kernelspec": {
   "display_name": "Python 3.10.5 64-bit",
   "language": "python",
   "name": "python3"
  },
  "language_info": {
   "codemirror_mode": {
    "name": "ipython",
    "version": 3
   },
   "file_extension": ".py",
   "mimetype": "text/x-python",
   "name": "python",
   "nbconvert_exporter": "python",
   "pygments_lexer": "ipython3",
   "version": "3.10.5"
  },
  "orig_nbformat": 4,
  "vscode": {
   "interpreter": {
    "hash": "aee8b7b246df8f9039afb4144a1f6fd8d2ca17a180786b69acc140d282b71a49"
   }
  }
 },
 "nbformat": 4,
 "nbformat_minor": 2
}
