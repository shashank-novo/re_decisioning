{
 "cells": [
  {
   "cell_type": "code",
   "execution_count": 1,
   "metadata": {},
   "outputs": [
    {
     "name": "stdout",
     "output_type": "stream",
     "text": [
      "/Users/shashankgupta/Documents/code/git_project/redec/re_decisioning\n",
      "/Users/shashankgupta/Documents/code/git_project/redec/re_decisioning/Code\n"
     ]
    }
   ],
   "source": [
    "# core libraries\n",
    "import pickle\n",
    "import pandas as pd\n",
    "import numpy as np\n",
    "import warnings \n",
    "warnings.filterwarnings(\"ignore\")\n",
    "from datetime import datetime\n",
    "\n",
    "\n",
    "from queries import final_features\n",
    "from score_funcs import Score\n",
    "sc = Score()\n"
   ]
  },
  {
   "cell_type": "code",
   "execution_count": 2,
   "metadata": {},
   "outputs": [
    {
     "name": "stdout",
     "output_type": "stream",
     "text": [
      "/Users/shashankgupta/Documents/code/git_project/redec/re_decisioning\n",
      "/Users/shashankgupta/Documents/code/git_project/redec/re_decisioning/Code\n"
     ]
    }
   ],
   "source": [
    "os.chdir('../')\n",
    "cwd = os.getcwd()\n",
    "print(cwd)\n",
    " \n",
    "os.chdir('./code/')\n",
    "cwd = os.getcwd()\n",
    "print(cwd)\n",
    "\n",
    "from config.config import SQLQuery\n",
    "querySno = SQLQuery('snowflake')"
   ]
  },
  {
   "cell_type": "markdown",
   "metadata": {},
   "source": [
    "#### Data pull for scoring "
   ]
  },
  {
   "cell_type": "code",
   "execution_count": 3,
   "metadata": {},
   "outputs": [],
   "source": [
    "querySno = SQLQuery('snowflake')\n",
    "df = querySno(final_features)"
   ]
  },
  {
   "cell_type": "code",
   "execution_count": 4,
   "metadata": {},
   "outputs": [
    {
     "data": {
      "text/html": [
       "<div>\n",
       "<style scoped>\n",
       "    .dataframe tbody tr th:only-of-type {\n",
       "        vertical-align: middle;\n",
       "    }\n",
       "\n",
       "    .dataframe tbody tr th {\n",
       "        vertical-align: top;\n",
       "    }\n",
       "\n",
       "    .dataframe thead th {\n",
       "        text-align: right;\n",
       "    }\n",
       "</style>\n",
       "<table border=\"1\" class=\"dataframe\">\n",
       "  <thead>\n",
       "    <tr style=\"text-align: right;\">\n",
       "      <th></th>\n",
       "      <th>business_id</th>\n",
       "      <th>due_date</th>\n",
       "      <th>emi_no</th>\n",
       "      <th>median_running_balance_2nd_m</th>\n",
       "      <th>median_amount_debited_2m</th>\n",
       "      <th>distinct_debit_txns_1m</th>\n",
       "      <th>ratio_debit_credit_2m</th>\n",
       "      <th>ratio_ach_credit_freq_total_credit_1m</th>\n",
       "      <th>ratio_amt_drawn_mom</th>\n",
       "      <th>ratio_ach_debit_credit_freq_1m</th>\n",
       "      <th>ratio_amt_cashin_mom</th>\n",
       "      <th>ratio_revenue_1m_2m</th>\n",
       "      <th>distinct_cashins_1m_prev</th>\n",
       "    </tr>\n",
       "  </thead>\n",
       "  <tbody>\n",
       "    <tr>\n",
       "      <th>0</th>\n",
       "      <td>e48c2153-6bec-4711-92b6-04f1fcbf8b62</td>\n",
       "      <td>2022-12-23</td>\n",
       "      <td>1</td>\n",
       "      <td>114.89</td>\n",
       "      <td>2.0</td>\n",
       "      <td>42</td>\n",
       "      <td>1.305130</td>\n",
       "      <td>0.736842</td>\n",
       "      <td>0.000000</td>\n",
       "      <td>0.000000</td>\n",
       "      <td>0.000000</td>\n",
       "      <td>0.177905</td>\n",
       "      <td>0.0</td>\n",
       "    </tr>\n",
       "    <tr>\n",
       "      <th>1</th>\n",
       "      <td>4a95d0ac-791c-4c26-ba04-27529cf78788</td>\n",
       "      <td>2022-12-24</td>\n",
       "      <td>1</td>\n",
       "      <td>57.47</td>\n",
       "      <td>0.0</td>\n",
       "      <td>14</td>\n",
       "      <td>0.621232</td>\n",
       "      <td>0.062500</td>\n",
       "      <td>0.089158</td>\n",
       "      <td>0.000000</td>\n",
       "      <td>1.979837</td>\n",
       "      <td>0.043739</td>\n",
       "      <td>7.5</td>\n",
       "    </tr>\n",
       "    <tr>\n",
       "      <th>2</th>\n",
       "      <td>4a95d0ac-791c-4c26-ba04-27529cf78788</td>\n",
       "      <td>2022-12-29</td>\n",
       "      <td>2</td>\n",
       "      <td>77.47</td>\n",
       "      <td>0.0</td>\n",
       "      <td>9</td>\n",
       "      <td>0.621232</td>\n",
       "      <td>0.043478</td>\n",
       "      <td>0.089158</td>\n",
       "      <td>0.000000</td>\n",
       "      <td>1.979837</td>\n",
       "      <td>0.043739</td>\n",
       "      <td>7.5</td>\n",
       "    </tr>\n",
       "    <tr>\n",
       "      <th>3</th>\n",
       "      <td>aff2ee7d-3db8-4952-b153-cfa11ee2ea0f</td>\n",
       "      <td>2022-12-31</td>\n",
       "      <td>1</td>\n",
       "      <td>2930.33</td>\n",
       "      <td>25.0</td>\n",
       "      <td>46</td>\n",
       "      <td>1.046365</td>\n",
       "      <td>0.500000</td>\n",
       "      <td>0.612804</td>\n",
       "      <td>0.600000</td>\n",
       "      <td>1966.660000</td>\n",
       "      <td>0.870828</td>\n",
       "      <td>1.0</td>\n",
       "    </tr>\n",
       "    <tr>\n",
       "      <th>4</th>\n",
       "      <td>04b9db4e-162b-41c4-8434-2187cab6e927</td>\n",
       "      <td>2022-12-31</td>\n",
       "      <td>1</td>\n",
       "      <td>4235.39</td>\n",
       "      <td>25.0</td>\n",
       "      <td>47</td>\n",
       "      <td>1.353830</td>\n",
       "      <td>0.480000</td>\n",
       "      <td>0.000000</td>\n",
       "      <td>0.461538</td>\n",
       "      <td>806.000000</td>\n",
       "      <td>0.996367</td>\n",
       "      <td>1.0</td>\n",
       "    </tr>\n",
       "  </tbody>\n",
       "</table>\n",
       "</div>"
      ],
      "text/plain": [
       "                            business_id    due_date  emi_no  \\\n",
       "0  e48c2153-6bec-4711-92b6-04f1fcbf8b62  2022-12-23       1   \n",
       "1  4a95d0ac-791c-4c26-ba04-27529cf78788  2022-12-24       1   \n",
       "2  4a95d0ac-791c-4c26-ba04-27529cf78788  2022-12-29       2   \n",
       "3  aff2ee7d-3db8-4952-b153-cfa11ee2ea0f  2022-12-31       1   \n",
       "4  04b9db4e-162b-41c4-8434-2187cab6e927  2022-12-31       1   \n",
       "\n",
       "   median_running_balance_2nd_m  median_amount_debited_2m  \\\n",
       "0                        114.89                       2.0   \n",
       "1                         57.47                       0.0   \n",
       "2                         77.47                       0.0   \n",
       "3                       2930.33                      25.0   \n",
       "4                       4235.39                      25.0   \n",
       "\n",
       "   distinct_debit_txns_1m  ratio_debit_credit_2m  \\\n",
       "0                      42               1.305130   \n",
       "1                      14               0.621232   \n",
       "2                       9               0.621232   \n",
       "3                      46               1.046365   \n",
       "4                      47               1.353830   \n",
       "\n",
       "   ratio_ach_credit_freq_total_credit_1m  ratio_amt_drawn_mom  \\\n",
       "0                               0.736842             0.000000   \n",
       "1                               0.062500             0.089158   \n",
       "2                               0.043478             0.089158   \n",
       "3                               0.500000             0.612804   \n",
       "4                               0.480000             0.000000   \n",
       "\n",
       "   ratio_ach_debit_credit_freq_1m  ratio_amt_cashin_mom  ratio_revenue_1m_2m  \\\n",
       "0                        0.000000              0.000000             0.177905   \n",
       "1                        0.000000              1.979837             0.043739   \n",
       "2                        0.000000              1.979837             0.043739   \n",
       "3                        0.600000           1966.660000             0.870828   \n",
       "4                        0.461538            806.000000             0.996367   \n",
       "\n",
       "   distinct_cashins_1m_prev  \n",
       "0                       0.0  \n",
       "1                       7.5  \n",
       "2                       7.5  \n",
       "3                       1.0  \n",
       "4                       1.0  "
      ]
     },
     "execution_count": 4,
     "metadata": {},
     "output_type": "execute_result"
    }
   ],
   "source": [
    "df.head()"
   ]
  },
  {
   "cell_type": "code",
   "execution_count": 5,
   "metadata": {},
   "outputs": [
    {
     "data": {
      "text/plain": [
       "(5725, 13)"
      ]
     },
     "execution_count": 5,
     "metadata": {},
     "output_type": "execute_result"
    }
   ],
   "source": [
    "df.shape"
   ]
  },
  {
   "cell_type": "code",
   "execution_count": 6,
   "metadata": {},
   "outputs": [],
   "source": [
    "data_params = pd.read_pickle('/Users/shashankgupta/Documents/code/git_project/redec/re_decisioning/models/data_params_v2.pkl')\n",
    "model = pd.read_pickle('/Users/shashankgupta/Documents/code/git_project/redec/re_decisioning/models/redec_3.pkl')\n",
    "transformer = pd.read_pickle('/Users/shashankgupta/Documents/code/git_project/redec/re_decisioning/models/scale_train_object.pkl')"
   ]
  },
  {
   "cell_type": "code",
   "execution_count": null,
   "metadata": {},
   "outputs": [],
   "source": [
    "# df.isnull().sum()"
   ]
  },
  {
   "cell_type": "code",
   "execution_count": 7,
   "metadata": {},
   "outputs": [
    {
     "data": {
      "text/plain": [
       "['distinct_debit_txns_1m',\n",
       " 'median_amount_debited_2m',\n",
       " 'ratio_debit_credit_2m',\n",
       " 'ratio_ach_credit_freq_total_credit_1m',\n",
       " 'ratio_ach_debit_credit_freq_1m',\n",
       " 'median_running_balance_2nd_m',\n",
       " 'ratio_revenue_1m_2m',\n",
       " 'distinct_cashins_1m_prev',\n",
       " 'ratio_amt_drawn_mom',\n",
       " 'ratio_amt_cashin_mom']"
      ]
     },
     "execution_count": 7,
     "metadata": {},
     "output_type": "execute_result"
    }
   ],
   "source": [
    "sc.features"
   ]
  },
  {
   "cell_type": "code",
   "execution_count": 8,
   "metadata": {},
   "outputs": [
    {
     "data": {
      "text/plain": [
       "1     2280\n",
       "2     1713\n",
       "3     1167\n",
       "4      363\n",
       "5      197\n",
       "6        1\n",
       "7        1\n",
       "8        1\n",
       "9        1\n",
       "10       1\n",
       "Name: emi_no, dtype: int64"
      ]
     },
     "execution_count": 8,
     "metadata": {},
     "output_type": "execute_result"
    }
   ],
   "source": [
    "df['emi_no'].value_counts()"
   ]
  },
  {
   "cell_type": "code",
   "execution_count": null,
   "metadata": {},
   "outputs": [],
   "source": [
    "# df = df[df['emi_no'].isin([2,3,4])]"
   ]
  },
  {
   "cell_type": "code",
   "execution_count": 9,
   "metadata": {},
   "outputs": [],
   "source": [
    "df0 = sc.preprocess(df,sc.features,data_params,transformer)"
   ]
  },
  {
   "cell_type": "code",
   "execution_count": 10,
   "metadata": {},
   "outputs": [],
   "source": [
    "df0 = sc.model_scoring_redec(df0,sc.features,model)"
   ]
  },
  {
   "cell_type": "code",
   "execution_count": 11,
   "metadata": {},
   "outputs": [
    {
     "data": {
      "text/html": [
       "<div>\n",
       "<style scoped>\n",
       "    .dataframe tbody tr th:only-of-type {\n",
       "        vertical-align: middle;\n",
       "    }\n",
       "\n",
       "    .dataframe tbody tr th {\n",
       "        vertical-align: top;\n",
       "    }\n",
       "\n",
       "    .dataframe thead th {\n",
       "        text-align: right;\n",
       "    }\n",
       "</style>\n",
       "<table border=\"1\" class=\"dataframe\">\n",
       "  <thead>\n",
       "    <tr style=\"text-align: right;\">\n",
       "      <th></th>\n",
       "      <th>business_id</th>\n",
       "      <th>due_date</th>\n",
       "      <th>emi_no</th>\n",
       "      <th>median_running_balance_2nd_m</th>\n",
       "      <th>median_amount_debited_2m</th>\n",
       "      <th>distinct_debit_txns_1m</th>\n",
       "      <th>ratio_debit_credit_2m</th>\n",
       "      <th>ratio_ach_credit_freq_total_credit_1m</th>\n",
       "      <th>ratio_amt_drawn_mom</th>\n",
       "      <th>ratio_ach_debit_credit_freq_1m</th>\n",
       "      <th>ratio_amt_cashin_mom</th>\n",
       "      <th>ratio_revenue_1m_2m</th>\n",
       "      <th>distinct_cashins_1m_prev</th>\n",
       "      <th>redec_proba</th>\n",
       "      <th>redec_score</th>\n",
       "      <th>redec_bin</th>\n",
       "    </tr>\n",
       "  </thead>\n",
       "  <tbody>\n",
       "    <tr>\n",
       "      <th>0</th>\n",
       "      <td>e48c2153-6bec-4711-92b6-04f1fcbf8b62</td>\n",
       "      <td>2022-12-23</td>\n",
       "      <td>1</td>\n",
       "      <td>-0.551024</td>\n",
       "      <td>-0.505696</td>\n",
       "      <td>-0.280372</td>\n",
       "      <td>0.457713</td>\n",
       "      <td>0.805573</td>\n",
       "      <td>-0.275490</td>\n",
       "      <td>-0.732551</td>\n",
       "      <td>-0.350400</td>\n",
       "      <td>-0.155074</td>\n",
       "      <td>-1.054347</td>\n",
       "      <td>0.568455</td>\n",
       "      <td>431.545022</td>\n",
       "      <td>2</td>\n",
       "    </tr>\n",
       "    <tr>\n",
       "      <th>1</th>\n",
       "      <td>4a95d0ac-791c-4c26-ba04-27529cf78788</td>\n",
       "      <td>2022-12-24</td>\n",
       "      <td>1</td>\n",
       "      <td>-0.563283</td>\n",
       "      <td>-0.554756</td>\n",
       "      <td>-0.498307</td>\n",
       "      <td>-1.195758</td>\n",
       "      <td>-1.656611</td>\n",
       "      <td>-0.275416</td>\n",
       "      <td>-0.732551</td>\n",
       "      <td>-0.347744</td>\n",
       "      <td>-0.156665</td>\n",
       "      <td>2.881640</td>\n",
       "      <td>0.579811</td>\n",
       "      <td>420.188937</td>\n",
       "      <td>2</td>\n",
       "    </tr>\n",
       "    <tr>\n",
       "      <th>2</th>\n",
       "      <td>4a95d0ac-791c-4c26-ba04-27529cf78788</td>\n",
       "      <td>2022-12-29</td>\n",
       "      <td>2</td>\n",
       "      <td>-0.559013</td>\n",
       "      <td>-0.554756</td>\n",
       "      <td>-0.537224</td>\n",
       "      <td>-1.195758</td>\n",
       "      <td>-1.726065</td>\n",
       "      <td>-0.275416</td>\n",
       "      <td>-0.732551</td>\n",
       "      <td>-0.347744</td>\n",
       "      <td>-0.156665</td>\n",
       "      <td>2.881640</td>\n",
       "      <td>0.578490</td>\n",
       "      <td>421.509705</td>\n",
       "      <td>2</td>\n",
       "    </tr>\n",
       "    <tr>\n",
       "      <th>3</th>\n",
       "      <td>aff2ee7d-3db8-4952-b153-cfa11ee2ea0f</td>\n",
       "      <td>2022-12-31</td>\n",
       "      <td>1</td>\n",
       "      <td>0.050053</td>\n",
       "      <td>0.058486</td>\n",
       "      <td>-0.249238</td>\n",
       "      <td>-0.167908</td>\n",
       "      <td>-0.059194</td>\n",
       "      <td>-0.274980</td>\n",
       "      <td>-0.393512</td>\n",
       "      <td>2.288304</td>\n",
       "      <td>-0.146859</td>\n",
       "      <td>-0.529549</td>\n",
       "      <td>0.448140</td>\n",
       "      <td>551.860057</td>\n",
       "      <td>3</td>\n",
       "    </tr>\n",
       "    <tr>\n",
       "      <th>4</th>\n",
       "      <td>04b9db4e-162b-41c4-8434-2187cab6e927</td>\n",
       "      <td>2022-12-31</td>\n",
       "      <td>1</td>\n",
       "      <td>0.328674</td>\n",
       "      <td>0.058486</td>\n",
       "      <td>-0.241455</td>\n",
       "      <td>0.575456</td>\n",
       "      <td>-0.132219</td>\n",
       "      <td>-0.275490</td>\n",
       "      <td>-0.471752</td>\n",
       "      <td>0.731025</td>\n",
       "      <td>-0.145371</td>\n",
       "      <td>-0.529549</td>\n",
       "      <td>0.395666</td>\n",
       "      <td>604.333794</td>\n",
       "      <td>3</td>\n",
       "    </tr>\n",
       "  </tbody>\n",
       "</table>\n",
       "</div>"
      ],
      "text/plain": [
       "                            business_id    due_date  emi_no  \\\n",
       "0  e48c2153-6bec-4711-92b6-04f1fcbf8b62  2022-12-23       1   \n",
       "1  4a95d0ac-791c-4c26-ba04-27529cf78788  2022-12-24       1   \n",
       "2  4a95d0ac-791c-4c26-ba04-27529cf78788  2022-12-29       2   \n",
       "3  aff2ee7d-3db8-4952-b153-cfa11ee2ea0f  2022-12-31       1   \n",
       "4  04b9db4e-162b-41c4-8434-2187cab6e927  2022-12-31       1   \n",
       "\n",
       "   median_running_balance_2nd_m  median_amount_debited_2m  \\\n",
       "0                     -0.551024                 -0.505696   \n",
       "1                     -0.563283                 -0.554756   \n",
       "2                     -0.559013                 -0.554756   \n",
       "3                      0.050053                  0.058486   \n",
       "4                      0.328674                  0.058486   \n",
       "\n",
       "   distinct_debit_txns_1m  ratio_debit_credit_2m  \\\n",
       "0               -0.280372               0.457713   \n",
       "1               -0.498307              -1.195758   \n",
       "2               -0.537224              -1.195758   \n",
       "3               -0.249238              -0.167908   \n",
       "4               -0.241455               0.575456   \n",
       "\n",
       "   ratio_ach_credit_freq_total_credit_1m  ratio_amt_drawn_mom  \\\n",
       "0                               0.805573            -0.275490   \n",
       "1                              -1.656611            -0.275416   \n",
       "2                              -1.726065            -0.275416   \n",
       "3                              -0.059194            -0.274980   \n",
       "4                              -0.132219            -0.275490   \n",
       "\n",
       "   ratio_ach_debit_credit_freq_1m  ratio_amt_cashin_mom  ratio_revenue_1m_2m  \\\n",
       "0                       -0.732551             -0.350400            -0.155074   \n",
       "1                       -0.732551             -0.347744            -0.156665   \n",
       "2                       -0.732551             -0.347744            -0.156665   \n",
       "3                       -0.393512              2.288304            -0.146859   \n",
       "4                       -0.471752              0.731025            -0.145371   \n",
       "\n",
       "   distinct_cashins_1m_prev  redec_proba  redec_score  redec_bin  \n",
       "0                 -1.054347     0.568455   431.545022          2  \n",
       "1                  2.881640     0.579811   420.188937          2  \n",
       "2                  2.881640     0.578490   421.509705          2  \n",
       "3                 -0.529549     0.448140   551.860057          3  \n",
       "4                 -0.529549     0.395666   604.333794          3  "
      ]
     },
     "execution_count": 11,
     "metadata": {},
     "output_type": "execute_result"
    }
   ],
   "source": [
    "df0.head()"
   ]
  },
  {
   "cell_type": "code",
   "execution_count": 16,
   "metadata": {},
   "outputs": [
    {
     "data": {
      "text/plain": [
       "(3243, 16)"
      ]
     },
     "execution_count": 16,
     "metadata": {},
     "output_type": "execute_result"
    }
   ],
   "source": [
    "# df0 = df0[df0['emi_no'].isin([2,3,4])]\n",
    "# df0.shape"
   ]
  },
  {
   "cell_type": "code",
   "execution_count": 12,
   "metadata": {},
   "outputs": [],
   "source": [
    "ddf = pd.read_pickle(f'/Users/shashankgupta/Documents/code/git_project/redec/re_decisioning/data/new_DPD_dataset.pkl')"
   ]
  },
  {
   "cell_type": "code",
   "execution_count": 13,
   "metadata": {},
   "outputs": [
    {
     "data": {
      "text/plain": [
       "(5314, 12)"
      ]
     },
     "execution_count": 13,
     "metadata": {},
     "output_type": "execute_result"
    }
   ],
   "source": [
    "ddf.shape"
   ]
  },
  {
   "cell_type": "code",
   "execution_count": 14,
   "metadata": {},
   "outputs": [
    {
     "data": {
      "text/html": [
       "<div>\n",
       "<style scoped>\n",
       "    .dataframe tbody tr th:only-of-type {\n",
       "        vertical-align: middle;\n",
       "    }\n",
       "\n",
       "    .dataframe tbody tr th {\n",
       "        vertical-align: top;\n",
       "    }\n",
       "\n",
       "    .dataframe thead th {\n",
       "        text-align: right;\n",
       "    }\n",
       "</style>\n",
       "<table border=\"1\" class=\"dataframe\">\n",
       "  <thead>\n",
       "    <tr style=\"text-align: right;\">\n",
       "      <th></th>\n",
       "      <th>business_id</th>\n",
       "      <th>due_date</th>\n",
       "      <th>DPD_plus_3</th>\n",
       "      <th>DPD_plus_15</th>\n",
       "      <th>DPD_plus_30</th>\n",
       "      <th>emi_no</th>\n",
       "      <th>DPD_plus_15_next</th>\n",
       "      <th>rs2_bin</th>\n",
       "      <th>rs2_score</th>\n",
       "      <th>fico_score</th>\n",
       "      <th>rs1_score</th>\n",
       "      <th>rs1_bin</th>\n",
       "    </tr>\n",
       "  </thead>\n",
       "  <tbody>\n",
       "    <tr>\n",
       "      <th>0</th>\n",
       "      <td>979c67cc-8eac-42f2-a507-e02eb211b1a7</td>\n",
       "      <td>2023-05-04</td>\n",
       "      <td>0</td>\n",
       "      <td>0</td>\n",
       "      <td>0</td>\n",
       "      <td>1</td>\n",
       "      <td>0.0</td>\n",
       "      <td>3</td>\n",
       "      <td>576.0</td>\n",
       "      <td>706</td>\n",
       "      <td>829.7607925</td>\n",
       "      <td>5</td>\n",
       "    </tr>\n",
       "    <tr>\n",
       "      <th>1</th>\n",
       "      <td>252c9a3f-338f-43fc-893f-87e4c8184e8c</td>\n",
       "      <td>2023-05-04</td>\n",
       "      <td>0</td>\n",
       "      <td>0</td>\n",
       "      <td>0</td>\n",
       "      <td>1</td>\n",
       "      <td>0.0</td>\n",
       "      <td>5</td>\n",
       "      <td>850.0</td>\n",
       "      <td>846</td>\n",
       "      <td>983.9164071</td>\n",
       "      <td>5</td>\n",
       "    </tr>\n",
       "    <tr>\n",
       "      <th>2</th>\n",
       "      <td>366f04c0-96de-466e-a500-ef43e7de7ab1</td>\n",
       "      <td>2023-05-04</td>\n",
       "      <td>0</td>\n",
       "      <td>0</td>\n",
       "      <td>0</td>\n",
       "      <td>1</td>\n",
       "      <td>0.0</td>\n",
       "      <td>5</td>\n",
       "      <td>810.0</td>\n",
       "      <td>693</td>\n",
       "      <td>904.1735203</td>\n",
       "      <td>5</td>\n",
       "    </tr>\n",
       "    <tr>\n",
       "      <th>3</th>\n",
       "      <td>0e04e84c-edcc-4809-92b3-4e8ba5a8c7e5</td>\n",
       "      <td>2023-05-04</td>\n",
       "      <td>0</td>\n",
       "      <td>0</td>\n",
       "      <td>0</td>\n",
       "      <td>1</td>\n",
       "      <td>0.0</td>\n",
       "      <td>5</td>\n",
       "      <td>998.0</td>\n",
       "      <td>737</td>\n",
       "      <td>925.3730837</td>\n",
       "      <td>5</td>\n",
       "    </tr>\n",
       "    <tr>\n",
       "      <th>4</th>\n",
       "      <td>dffa16f0-15c0-475f-b391-29726ee1e2f3</td>\n",
       "      <td>2023-05-04</td>\n",
       "      <td>0</td>\n",
       "      <td>0</td>\n",
       "      <td>0</td>\n",
       "      <td>1</td>\n",
       "      <td>0.0</td>\n",
       "      <td>4</td>\n",
       "      <td>663.0</td>\n",
       "      <td>674</td>\n",
       "      <td>769.8091898</td>\n",
       "      <td>5</td>\n",
       "    </tr>\n",
       "  </tbody>\n",
       "</table>\n",
       "</div>"
      ],
      "text/plain": [
       "                            business_id   due_date  DPD_plus_3  DPD_plus_15  \\\n",
       "0  979c67cc-8eac-42f2-a507-e02eb211b1a7 2023-05-04           0            0   \n",
       "1  252c9a3f-338f-43fc-893f-87e4c8184e8c 2023-05-04           0            0   \n",
       "2  366f04c0-96de-466e-a500-ef43e7de7ab1 2023-05-04           0            0   \n",
       "3  0e04e84c-edcc-4809-92b3-4e8ba5a8c7e5 2023-05-04           0            0   \n",
       "4  dffa16f0-15c0-475f-b391-29726ee1e2f3 2023-05-04           0            0   \n",
       "\n",
       "   DPD_plus_30  emi_no  DPD_plus_15_next rs2_bin  rs2_score fico_score  \\\n",
       "0            0       1               0.0       3      576.0        706   \n",
       "1            0       1               0.0       5      850.0        846   \n",
       "2            0       1               0.0       5      810.0        693   \n",
       "3            0       1               0.0       5      998.0        737   \n",
       "4            0       1               0.0       4      663.0        674   \n",
       "\n",
       "     rs1_score  rs1_bin  \n",
       "0  829.7607925        5  \n",
       "1  983.9164071        5  \n",
       "2  904.1735203        5  \n",
       "3  925.3730837        5  \n",
       "4  769.8091898        5  "
      ]
     },
     "execution_count": 14,
     "metadata": {},
     "output_type": "execute_result"
    }
   ],
   "source": [
    "ddf.head()"
   ]
  },
  {
   "cell_type": "code",
   "execution_count": 17,
   "metadata": {},
   "outputs": [],
   "source": [
    "# df0 = df0[['business_id','due_date','redec_proba','redec_score','redec_bin']]\n",
    "df0[\"due_date\"] = df0[\"due_date\"].astype('datetime64[ns]')"
   ]
  },
  {
   "cell_type": "code",
   "execution_count": 18,
   "metadata": {},
   "outputs": [],
   "source": [
    "ddf = ddf[['business_id','due_date','DPD_plus_15_next']]"
   ]
  },
  {
   "cell_type": "code",
   "execution_count": 22,
   "metadata": {},
   "outputs": [],
   "source": [
    "dff = ddf.merge(df0,how='inner',left_on = ['business_id','due_date'], right_on = ['business_id','due_date'])"
   ]
  },
  {
   "cell_type": "code",
   "execution_count": 23,
   "metadata": {},
   "outputs": [
    {
     "data": {
      "text/plain": [
       "(3079, 17)"
      ]
     },
     "execution_count": 23,
     "metadata": {},
     "output_type": "execute_result"
    }
   ],
   "source": [
    "dff.shape"
   ]
  },
  {
   "cell_type": "code",
   "execution_count": 24,
   "metadata": {},
   "outputs": [
    {
     "data": {
      "text/html": [
       "<div>\n",
       "<style scoped>\n",
       "    .dataframe tbody tr th:only-of-type {\n",
       "        vertical-align: middle;\n",
       "    }\n",
       "\n",
       "    .dataframe tbody tr th {\n",
       "        vertical-align: top;\n",
       "    }\n",
       "\n",
       "    .dataframe thead th {\n",
       "        text-align: right;\n",
       "    }\n",
       "</style>\n",
       "<table border=\"1\" class=\"dataframe\">\n",
       "  <thead>\n",
       "    <tr style=\"text-align: right;\">\n",
       "      <th></th>\n",
       "      <th>business_id</th>\n",
       "      <th>due_date</th>\n",
       "      <th>DPD_plus_15_next</th>\n",
       "      <th>emi_no</th>\n",
       "      <th>median_running_balance_2nd_m</th>\n",
       "      <th>median_amount_debited_2m</th>\n",
       "      <th>distinct_debit_txns_1m</th>\n",
       "      <th>ratio_debit_credit_2m</th>\n",
       "      <th>ratio_ach_credit_freq_total_credit_1m</th>\n",
       "      <th>ratio_amt_drawn_mom</th>\n",
       "      <th>ratio_ach_debit_credit_freq_1m</th>\n",
       "      <th>ratio_amt_cashin_mom</th>\n",
       "      <th>ratio_revenue_1m_2m</th>\n",
       "      <th>distinct_cashins_1m_prev</th>\n",
       "      <th>redec_proba</th>\n",
       "      <th>redec_score</th>\n",
       "      <th>redec_bin</th>\n",
       "    </tr>\n",
       "  </thead>\n",
       "  <tbody>\n",
       "    <tr>\n",
       "      <th>0</th>\n",
       "      <td>4a95d0ac-791c-4c26-ba04-27529cf78788</td>\n",
       "      <td>2022-12-29</td>\n",
       "      <td>0.0</td>\n",
       "      <td>2</td>\n",
       "      <td>-0.559013</td>\n",
       "      <td>-0.554756</td>\n",
       "      <td>-0.537224</td>\n",
       "      <td>-1.195758</td>\n",
       "      <td>-1.726065</td>\n",
       "      <td>-0.275416</td>\n",
       "      <td>-0.732551</td>\n",
       "      <td>-0.347744</td>\n",
       "      <td>-0.156665</td>\n",
       "      <td>2.881640</td>\n",
       "      <td>0.578490</td>\n",
       "      <td>421.509705</td>\n",
       "      <td>2</td>\n",
       "    </tr>\n",
       "    <tr>\n",
       "      <th>1</th>\n",
       "      <td>939e1e8c-47d5-4600-b379-bf855be187f7</td>\n",
       "      <td>2023-05-04</td>\n",
       "      <td>0.0</td>\n",
       "      <td>2</td>\n",
       "      <td>-0.568955</td>\n",
       "      <td>-0.549359</td>\n",
       "      <td>-0.552790</td>\n",
       "      <td>-0.398808</td>\n",
       "      <td>0.853616</td>\n",
       "      <td>0.057691</td>\n",
       "      <td>-0.591285</td>\n",
       "      <td>-0.350400</td>\n",
       "      <td>-0.157183</td>\n",
       "      <td>-1.054347</td>\n",
       "      <td>0.468840</td>\n",
       "      <td>531.160143</td>\n",
       "      <td>2</td>\n",
       "    </tr>\n",
       "    <tr>\n",
       "      <th>2</th>\n",
       "      <td>5f46481b-1a69-43f7-9389-fb4887c17545</td>\n",
       "      <td>2023-05-04</td>\n",
       "      <td>0.0</td>\n",
       "      <td>2</td>\n",
       "      <td>-0.131378</td>\n",
       "      <td>4.807189</td>\n",
       "      <td>-0.179188</td>\n",
       "      <td>-0.343359</td>\n",
       "      <td>0.853616</td>\n",
       "      <td>1.390415</td>\n",
       "      <td>3.929247</td>\n",
       "      <td>-0.347017</td>\n",
       "      <td>-0.146627</td>\n",
       "      <td>-0.004751</td>\n",
       "      <td>0.005181</td>\n",
       "      <td>994.819278</td>\n",
       "      <td>5</td>\n",
       "    </tr>\n",
       "    <tr>\n",
       "      <th>3</th>\n",
       "      <td>4697e8dd-4b6a-4ee6-99d3-a8bbca6c1f8d</td>\n",
       "      <td>2023-05-04</td>\n",
       "      <td>0.0</td>\n",
       "      <td>2</td>\n",
       "      <td>1.419429</td>\n",
       "      <td>2.045391</td>\n",
       "      <td>-0.498307</td>\n",
       "      <td>-1.580253</td>\n",
       "      <td>0.853616</td>\n",
       "      <td>-0.275490</td>\n",
       "      <td>1.245181</td>\n",
       "      <td>-0.348842</td>\n",
       "      <td>-0.155337</td>\n",
       "      <td>-0.529549</td>\n",
       "      <td>0.016380</td>\n",
       "      <td>983.620092</td>\n",
       "      <td>5</td>\n",
       "    </tr>\n",
       "    <tr>\n",
       "      <th>4</th>\n",
       "      <td>ace8b476-54fe-4172-bf90-eb201d6b22af</td>\n",
       "      <td>2023-05-04</td>\n",
       "      <td>0.0</td>\n",
       "      <td>2</td>\n",
       "      <td>-0.083098</td>\n",
       "      <td>4.594640</td>\n",
       "      <td>-0.381556</td>\n",
       "      <td>-0.041520</td>\n",
       "      <td>0.438704</td>\n",
       "      <td>-0.275490</td>\n",
       "      <td>0.397582</td>\n",
       "      <td>-0.348948</td>\n",
       "      <td>-0.145762</td>\n",
       "      <td>-0.004751</td>\n",
       "      <td>0.015180</td>\n",
       "      <td>984.819536</td>\n",
       "      <td>5</td>\n",
       "    </tr>\n",
       "  </tbody>\n",
       "</table>\n",
       "</div>"
      ],
      "text/plain": [
       "                            business_id   due_date  DPD_plus_15_next  emi_no  \\\n",
       "0  4a95d0ac-791c-4c26-ba04-27529cf78788 2022-12-29               0.0       2   \n",
       "1  939e1e8c-47d5-4600-b379-bf855be187f7 2023-05-04               0.0       2   \n",
       "2  5f46481b-1a69-43f7-9389-fb4887c17545 2023-05-04               0.0       2   \n",
       "3  4697e8dd-4b6a-4ee6-99d3-a8bbca6c1f8d 2023-05-04               0.0       2   \n",
       "4  ace8b476-54fe-4172-bf90-eb201d6b22af 2023-05-04               0.0       2   \n",
       "\n",
       "   median_running_balance_2nd_m  median_amount_debited_2m  \\\n",
       "0                     -0.559013                 -0.554756   \n",
       "1                     -0.568955                 -0.549359   \n",
       "2                     -0.131378                  4.807189   \n",
       "3                      1.419429                  2.045391   \n",
       "4                     -0.083098                  4.594640   \n",
       "\n",
       "   distinct_debit_txns_1m  ratio_debit_credit_2m  \\\n",
       "0               -0.537224              -1.195758   \n",
       "1               -0.552790              -0.398808   \n",
       "2               -0.179188              -0.343359   \n",
       "3               -0.498307              -1.580253   \n",
       "4               -0.381556              -0.041520   \n",
       "\n",
       "   ratio_ach_credit_freq_total_credit_1m  ratio_amt_drawn_mom  \\\n",
       "0                              -1.726065            -0.275416   \n",
       "1                               0.853616             0.057691   \n",
       "2                               0.853616             1.390415   \n",
       "3                               0.853616            -0.275490   \n",
       "4                               0.438704            -0.275490   \n",
       "\n",
       "   ratio_ach_debit_credit_freq_1m  ratio_amt_cashin_mom  ratio_revenue_1m_2m  \\\n",
       "0                       -0.732551             -0.347744            -0.156665   \n",
       "1                       -0.591285             -0.350400            -0.157183   \n",
       "2                        3.929247             -0.347017            -0.146627   \n",
       "3                        1.245181             -0.348842            -0.155337   \n",
       "4                        0.397582             -0.348948            -0.145762   \n",
       "\n",
       "   distinct_cashins_1m_prev  redec_proba  redec_score  redec_bin  \n",
       "0                  2.881640     0.578490   421.509705          2  \n",
       "1                 -1.054347     0.468840   531.160143          2  \n",
       "2                 -0.004751     0.005181   994.819278          5  \n",
       "3                 -0.529549     0.016380   983.620092          5  \n",
       "4                 -0.004751     0.015180   984.819536          5  "
      ]
     },
     "execution_count": 24,
     "metadata": {},
     "output_type": "execute_result"
    }
   ],
   "source": [
    "dff.head()"
   ]
  },
  {
   "cell_type": "code",
   "execution_count": 25,
   "metadata": {},
   "outputs": [],
   "source": [
    "# dff.to_pickle('/Users/shashankgupta/Documents/code/git_project/redec/re_decisioning/data/test_dataset.pkl')"
   ]
  },
  {
   "cell_type": "code",
   "execution_count": null,
   "metadata": {},
   "outputs": [],
   "source": [
    "pd.crosstab(dff['rs2_bin'],dff['DPD_plus_15_next']).to_clipboard()"
   ]
  },
  {
   "cell_type": "code",
   "execution_count": null,
   "metadata": {},
   "outputs": [],
   "source": [
    "pd.crosstab(dff['rs1_bin'],dff['DPD_plus_15_next']).to_clipboard()"
   ]
  },
  {
   "cell_type": "code",
   "execution_count": null,
   "metadata": {},
   "outputs": [],
   "source": [
    "pd.crosstab(dff['redec_bin'],dff['DPD_plus_15_next']).to_clipboard()"
   ]
  },
  {
   "cell_type": "code",
   "execution_count": null,
   "metadata": {},
   "outputs": [],
   "source": [
    "dff.loc[dff['DPD_plus_15_next']==1,'emi_no'].value_counts()"
   ]
  },
  {
   "cell_type": "code",
   "execution_count": null,
   "metadata": {},
   "outputs": [],
   "source": [
    "pd.crosstab(dff['emi_no'],dff['DPD_plus_15_next']).to_clipboard()"
   ]
  },
  {
   "cell_type": "code",
   "execution_count": null,
   "metadata": {},
   "outputs": [],
   "source": [
    "temp = dff[dff['emi_no'].isin([2,3])]"
   ]
  },
  {
   "cell_type": "code",
   "execution_count": null,
   "metadata": {},
   "outputs": [],
   "source": [
    "temp.shape"
   ]
  },
  {
   "cell_type": "code",
   "execution_count": null,
   "metadata": {},
   "outputs": [],
   "source": [
    "pd.crosstab(temp['rs2_bin'],temp['DPD_plus_15_next']).to_clipboard()"
   ]
  },
  {
   "cell_type": "code",
   "execution_count": null,
   "metadata": {},
   "outputs": [],
   "source": [
    "dff['redec_bin'].value_counts()"
   ]
  },
  {
   "cell_type": "code",
   "execution_count": null,
   "metadata": {},
   "outputs": [],
   "source": [
    "tdf = dff.groupby('redec_bin',as_index=False)['DPD_plus_15_next'].agg(['sum','count'])\n",
    "tdf['volume%'] = np.round(tdf['count']*100/len(dff),1)\n",
    "tdf['default_rate'] = np.round(tdf['sum']*100/tdf['count'],1)\n",
    "tdf"
   ]
  },
  {
   "cell_type": "code",
   "execution_count": null,
   "metadata": {},
   "outputs": [],
   "source": [
    "tdf = dff.groupby('rs2_bin',as_index=False)['DPD_plus_15_next'].agg(['sum','count'])\n",
    "tdf['volume%'] = np.round(tdf['count']*100/len(dff),1)\n",
    "tdf['default_rate'] = np.round(tdf['sum']*100/tdf['count'],1)\n",
    "tdf.to_clipboard()"
   ]
  },
  {
   "cell_type": "code",
   "execution_count": null,
   "metadata": {},
   "outputs": [],
   "source": [
    "tdf = dff.groupby('rs1_bin',as_index=False)['DPD_plus_15_next'].agg(['sum','count'])\n",
    "tdf['volume%'] = np.round(tdf['count']*100/len(dff),1)\n",
    "tdf['default_rate'] = np.round(tdf['sum']*100/tdf['count'],1)\n",
    "tdf.to_clipboard()"
   ]
  },
  {
   "cell_type": "code",
   "execution_count": null,
   "metadata": {},
   "outputs": [],
   "source": [
    "tdf = dff.groupby(['rs2_bin','redec_bin'],as_index=False)['DPD_plus_15_next'].agg(['sum','count'])\n",
    "tdf['volume%'] = np.round(tdf['count']*100/len(dff),1)\n",
    "tdf['default_rate'] = np.round(tdf['sum']*100/tdf['count'],1)\n",
    "tdf.to_clipboard()"
   ]
  },
  {
   "cell_type": "code",
   "execution_count": null,
   "metadata": {},
   "outputs": [],
   "source": [
    "tdf = dff[dff['emi_no'].isin([2,3])].groupby(['redec_bin','emi_no'],as_index=False)['DPD_plus_15_next'].agg(['sum','count'])\n",
    "tdf['volume%'] = np.round(tdf['count']*100/len(dff),1)\n",
    "tdf['default_rate'] = np.round(tdf['sum']*100/tdf['count'],1)\n",
    "tdf.to_clipboard()"
   ]
  },
  {
   "cell_type": "code",
   "execution_count": null,
   "metadata": {},
   "outputs": [],
   "source": [
    "tdf = dff.groupby(['redec_bin','DPD_plus_3'],as_index=False)['DPD_plus_15_next'].agg(['sum','count'])\n",
    "tdf['volume%'] = np.round(tdf['count']*100/len(dff),1)\n",
    "tdf['default_rate'] = np.round(tdf['sum']*100/tdf['count'],1)\n",
    "tdf"
   ]
  },
  {
   "cell_type": "code",
   "execution_count": null,
   "metadata": {},
   "outputs": [],
   "source": []
  },
  {
   "cell_type": "markdown",
   "metadata": {},
   "source": [
    "#### Bucketing on GA dataset"
   ]
  },
  {
   "cell_type": "code",
   "execution_count": null,
   "metadata": {},
   "outputs": [],
   "source": [
    "dff.shape"
   ]
  },
  {
   "cell_type": "code",
   "execution_count": null,
   "metadata": {},
   "outputs": [],
   "source": [
    "tdf = dff.groupby('rs2_bin',as_index=False)['DPD_plus_15_next'].agg(['sum','count'])\n",
    "tdf['default_rate'] = np.round(tdf['sum']*100/tdf['count'],1)\n",
    "tdf"
   ]
  },
  {
   "cell_type": "code",
   "execution_count": null,
   "metadata": {},
   "outputs": [],
   "source": [
    "ttdf = dff.groupby('redec_bin',as_index=False)['DPD_plus_15_next'].agg(['sum','count'])\n",
    "ttdf['default_rate'] = np.round(ttdf['sum']*100/ttdf['count'],1)\n",
    "ttdf"
   ]
  },
  {
   "cell_type": "code",
   "execution_count": null,
   "metadata": {},
   "outputs": [],
   "source": [
    "dff[(dff['redec_proba'] > 0.7)].shape[0]/len(dff)"
   ]
  },
  {
   "cell_type": "code",
   "execution_count": null,
   "metadata": {},
   "outputs": [],
   "source": [
    "dff[(dff['redec_proba'] <= 0.1)].shape[0]/len(dff)"
   ]
  },
  {
   "cell_type": "code",
   "execution_count": null,
   "metadata": {},
   "outputs": [],
   "source": [
    "dff[(dff['redec_proba'] > 0.35) & (dff['redec_proba'] <= 0.48)].shape[0]/len(dff)"
   ]
  },
  {
   "cell_type": "code",
   "execution_count": null,
   "metadata": {},
   "outputs": [],
   "source": [
    "def new_buckets(x):\n",
    "    if x > 0.6:\n",
    "        return 1\n",
    "    if x > 0.46:\n",
    "        return 2\n",
    "    if x > 0.31:\n",
    "        return 3\n",
    "    if x > 0.08:\n",
    "        return 4\n",
    "    return 5"
   ]
  },
  {
   "cell_type": "code",
   "execution_count": null,
   "metadata": {},
   "outputs": [],
   "source": [
    "# def new_buckets(x):\n",
    "#     if x > 0.7:\n",
    "#         return 1\n",
    "#     if x > 0.48:\n",
    "#         return 2\n",
    "#     if x > 0.35:\n",
    "#         return 3\n",
    "#     if x > 0.1:\n",
    "#         return 4\n",
    "#     return 5"
   ]
  },
  {
   "cell_type": "code",
   "execution_count": null,
   "metadata": {},
   "outputs": [],
   "source": [
    "# def rs2_buckets(x):\n",
    "#     if x > 0.7:\n",
    "#         return 1\n",
    "#     if x > 0.59:\n",
    "#         return 2\n",
    "#     if x > 0.46:\n",
    "#         return 3\n",
    "#     if x > 0.15:\n",
    "#         return 4\n",
    "#     return 5"
   ]
  },
  {
   "cell_type": "code",
   "execution_count": null,
   "metadata": {},
   "outputs": [],
   "source": [
    "df0 = dff.copy()"
   ]
  },
  {
   "cell_type": "code",
   "execution_count": null,
   "metadata": {},
   "outputs": [],
   "source": [
    "df0['rds_bin'] = df0['redec_proba'].apply(lambda x: new_buckets(x))"
   ]
  },
  {
   "cell_type": "code",
   "execution_count": null,
   "metadata": {},
   "outputs": [],
   "source": [
    "ttdf = df0.groupby('rds_bin',as_index=False)['DPD_plus_15_next'].agg(['sum','count'])\n",
    "ttdf['volume%'] = np.round(ttdf['count']*100/len(df0),1)\n",
    "ttdf['default_rate'] = np.round(ttdf['sum']*100/ttdf['count'],1)\n",
    "ttdf"
   ]
  },
  {
   "cell_type": "code",
   "execution_count": null,
   "metadata": {},
   "outputs": [],
   "source": [
    "ttdf.to_clipboard()"
   ]
  },
  {
   "cell_type": "code",
   "execution_count": null,
   "metadata": {},
   "outputs": [],
   "source": []
  },
  {
   "cell_type": "code",
   "execution_count": null,
   "metadata": {},
   "outputs": [],
   "source": []
  },
  {
   "cell_type": "markdown",
   "metadata": {},
   "source": [
    "#### Saving scored dataset"
   ]
  },
  {
   "cell_type": "code",
   "execution_count": null,
   "metadata": {},
   "outputs": [],
   "source": [
    "df0.drop('redec_bin',axis=1,inplace=True)"
   ]
  },
  {
   "cell_type": "code",
   "execution_count": null,
   "metadata": {},
   "outputs": [],
   "source": [
    "df0.shape"
   ]
  },
  {
   "cell_type": "code",
   "execution_count": null,
   "metadata": {},
   "outputs": [],
   "source": [
    "df0.head()"
   ]
  },
  {
   "cell_type": "code",
   "execution_count": null,
   "metadata": {},
   "outputs": [],
   "source": [
    "# df0.to_pickle('/Users/shashankgupta/Documents/code/git_project/redec/re_decisioning/data/new_dataset_scored.pkl')"
   ]
  },
  {
   "cell_type": "code",
   "execution_count": null,
   "metadata": {},
   "outputs": [],
   "source": [
    "# from sqlalchemy.types import NVARCHAR\n",
    "# # from conf.config import SQLQuery\n",
    "# q = SQLQuery('snowflake')\n",
    "\n",
    "# df0.to_sql(name='rds1_GA_scored_dataset',\n",
    "#                  con=q.engine, \n",
    "#                  schema='prod_db.adhoc',\n",
    "#                  if_exists='append', \n",
    "#                  index=False, \n",
    "#                  chunksize=16000, \n",
    "#                  method='multi',\n",
    "#                  dtype={col_name: NVARCHAR for col_name in df0})"
   ]
  },
  {
   "cell_type": "code",
   "execution_count": null,
   "metadata": {},
   "outputs": [],
   "source": []
  }
 ],
 "metadata": {
  "kernelspec": {
   "display_name": "Python 3.10.5 64-bit",
   "language": "python",
   "name": "python3"
  },
  "language_info": {
   "codemirror_mode": {
    "name": "ipython",
    "version": 3
   },
   "file_extension": ".py",
   "mimetype": "text/x-python",
   "name": "python",
   "nbconvert_exporter": "python",
   "pygments_lexer": "ipython3",
   "version": "3.10.5"
  },
  "orig_nbformat": 4,
  "vscode": {
   "interpreter": {
    "hash": "aee8b7b246df8f9039afb4144a1f6fd8d2ca17a180786b69acc140d282b71a49"
   }
  }
 },
 "nbformat": 4,
 "nbformat_minor": 2
}
