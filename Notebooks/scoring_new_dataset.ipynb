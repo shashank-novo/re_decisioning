{
 "cells": [
  {
   "cell_type": "code",
   "execution_count": 1,
   "metadata": {},
   "outputs": [
    {
     "name": "stdout",
     "output_type": "stream",
     "text": [
      "/Users/shashankgupta/Documents/code/git_project/redec/re_decisioning\n",
      "/Users/shashankgupta/Documents/code/git_project/redec/re_decisioning/Code\n"
     ]
    }
   ],
   "source": [
    "# core libraries\n",
    "import pickle\n",
    "import pandas as pd\n",
    "import numpy as np\n",
    "import warnings \n",
    "warnings.filterwarnings(\"ignore\")\n",
    "from datetime import datetime\n",
    "\n",
    "\n",
    "from queries import final_features\n",
    "from score_funcs import Score\n",
    "sc = Score()\n"
   ]
  },
  {
   "cell_type": "code",
   "execution_count": 2,
   "metadata": {},
   "outputs": [
    {
     "name": "stdout",
     "output_type": "stream",
     "text": [
      "/Users/shashankgupta/Documents/code/git_project/redec/re_decisioning\n",
      "/Users/shashankgupta/Documents/code/git_project/redec/re_decisioning/Code\n"
     ]
    }
   ],
   "source": [
    "os.chdir('../')\n",
    "cwd = os.getcwd()\n",
    "print(cwd)\n",
    " \n",
    "os.chdir('./code/')\n",
    "cwd = os.getcwd()\n",
    "print(cwd)\n",
    "\n",
    "from config.config import SQLQuery\n",
    "querySno = SQLQuery('snowflake')"
   ]
  },
  {
   "cell_type": "markdown",
   "metadata": {},
   "source": [
    "#### Data pull for scoring "
   ]
  },
  {
   "cell_type": "code",
   "execution_count": 3,
   "metadata": {},
   "outputs": [],
   "source": [
    "querySno = SQLQuery('snowflake')\n",
    "df = querySno(final_features)"
   ]
  },
  {
   "cell_type": "code",
   "execution_count": 4,
   "metadata": {},
   "outputs": [
    {
     "data": {
      "text/html": [
       "<div>\n",
       "<style scoped>\n",
       "    .dataframe tbody tr th:only-of-type {\n",
       "        vertical-align: middle;\n",
       "    }\n",
       "\n",
       "    .dataframe tbody tr th {\n",
       "        vertical-align: top;\n",
       "    }\n",
       "\n",
       "    .dataframe thead th {\n",
       "        text-align: right;\n",
       "    }\n",
       "</style>\n",
       "<table border=\"1\" class=\"dataframe\">\n",
       "  <thead>\n",
       "    <tr style=\"text-align: right;\">\n",
       "      <th></th>\n",
       "      <th>business_id</th>\n",
       "      <th>due_date</th>\n",
       "      <th>emi_no</th>\n",
       "      <th>median_running_balance_2nd_m</th>\n",
       "      <th>median_amount_debited_2m</th>\n",
       "      <th>distinct_debit_txns_1m</th>\n",
       "      <th>ratio_debit_credit_2m</th>\n",
       "      <th>ratio_ach_credit_freq_total_credit_1m</th>\n",
       "      <th>ratio_amt_drawn_mom</th>\n",
       "      <th>ratio_ach_debit_credit_freq_1m</th>\n",
       "      <th>ratio_amt_cashin_mom</th>\n",
       "      <th>ratio_revenue_1m_2m</th>\n",
       "      <th>distinct_cashins_1m_prev</th>\n",
       "    </tr>\n",
       "  </thead>\n",
       "  <tbody>\n",
       "    <tr>\n",
       "      <th>0</th>\n",
       "      <td>e48c2153-6bec-4711-92b6-04f1fcbf8b62</td>\n",
       "      <td>2022-12-23</td>\n",
       "      <td>1</td>\n",
       "      <td>114.89</td>\n",
       "      <td>2.000</td>\n",
       "      <td>42</td>\n",
       "      <td>1.305130</td>\n",
       "      <td>0.736842</td>\n",
       "      <td>0.000000</td>\n",
       "      <td>0.000000</td>\n",
       "      <td>0.000000</td>\n",
       "      <td>0.177905</td>\n",
       "      <td>0.0</td>\n",
       "    </tr>\n",
       "    <tr>\n",
       "      <th>1</th>\n",
       "      <td>4a95d0ac-791c-4c26-ba04-27529cf78788</td>\n",
       "      <td>2022-12-24</td>\n",
       "      <td>1</td>\n",
       "      <td>57.47</td>\n",
       "      <td>0.000</td>\n",
       "      <td>14</td>\n",
       "      <td>0.621232</td>\n",
       "      <td>0.062500</td>\n",
       "      <td>0.089158</td>\n",
       "      <td>0.000000</td>\n",
       "      <td>1.979837</td>\n",
       "      <td>0.043739</td>\n",
       "      <td>7.5</td>\n",
       "    </tr>\n",
       "    <tr>\n",
       "      <th>2</th>\n",
       "      <td>4a95d0ac-791c-4c26-ba04-27529cf78788</td>\n",
       "      <td>2022-12-29</td>\n",
       "      <td>2</td>\n",
       "      <td>77.47</td>\n",
       "      <td>0.000</td>\n",
       "      <td>9</td>\n",
       "      <td>0.621232</td>\n",
       "      <td>0.043478</td>\n",
       "      <td>0.089158</td>\n",
       "      <td>0.000000</td>\n",
       "      <td>1.979837</td>\n",
       "      <td>0.043739</td>\n",
       "      <td>7.5</td>\n",
       "    </tr>\n",
       "    <tr>\n",
       "      <th>3</th>\n",
       "      <td>206dce8f-1527-48ca-b9aa-11fe81ed6c9c</td>\n",
       "      <td>2022-12-31</td>\n",
       "      <td>1</td>\n",
       "      <td>672.72</td>\n",
       "      <td>29.570</td>\n",
       "      <td>63</td>\n",
       "      <td>0.994326</td>\n",
       "      <td>0.357143</td>\n",
       "      <td>0.427960</td>\n",
       "      <td>0.166667</td>\n",
       "      <td>184.310000</td>\n",
       "      <td>1.824128</td>\n",
       "      <td>1.0</td>\n",
       "    </tr>\n",
       "    <tr>\n",
       "      <th>4</th>\n",
       "      <td>a848a226-51a3-4afb-a156-26513964b8e3</td>\n",
       "      <td>2022-12-31</td>\n",
       "      <td>1</td>\n",
       "      <td>1461.55</td>\n",
       "      <td>25.215</td>\n",
       "      <td>17</td>\n",
       "      <td>1.074374</td>\n",
       "      <td>0.333333</td>\n",
       "      <td>0.000000</td>\n",
       "      <td>0.000000</td>\n",
       "      <td>423.330000</td>\n",
       "      <td>6.590467</td>\n",
       "      <td>1.0</td>\n",
       "    </tr>\n",
       "  </tbody>\n",
       "</table>\n",
       "</div>"
      ],
      "text/plain": [
       "                            business_id    due_date  emi_no  \\\n",
       "0  e48c2153-6bec-4711-92b6-04f1fcbf8b62  2022-12-23       1   \n",
       "1  4a95d0ac-791c-4c26-ba04-27529cf78788  2022-12-24       1   \n",
       "2  4a95d0ac-791c-4c26-ba04-27529cf78788  2022-12-29       2   \n",
       "3  206dce8f-1527-48ca-b9aa-11fe81ed6c9c  2022-12-31       1   \n",
       "4  a848a226-51a3-4afb-a156-26513964b8e3  2022-12-31       1   \n",
       "\n",
       "   median_running_balance_2nd_m  median_amount_debited_2m  \\\n",
       "0                        114.89                     2.000   \n",
       "1                         57.47                     0.000   \n",
       "2                         77.47                     0.000   \n",
       "3                        672.72                    29.570   \n",
       "4                       1461.55                    25.215   \n",
       "\n",
       "   distinct_debit_txns_1m  ratio_debit_credit_2m  \\\n",
       "0                      42               1.305130   \n",
       "1                      14               0.621232   \n",
       "2                       9               0.621232   \n",
       "3                      63               0.994326   \n",
       "4                      17               1.074374   \n",
       "\n",
       "   ratio_ach_credit_freq_total_credit_1m  ratio_amt_drawn_mom  \\\n",
       "0                               0.736842             0.000000   \n",
       "1                               0.062500             0.089158   \n",
       "2                               0.043478             0.089158   \n",
       "3                               0.357143             0.427960   \n",
       "4                               0.333333             0.000000   \n",
       "\n",
       "   ratio_ach_debit_credit_freq_1m  ratio_amt_cashin_mom  ratio_revenue_1m_2m  \\\n",
       "0                        0.000000              0.000000             0.177905   \n",
       "1                        0.000000              1.979837             0.043739   \n",
       "2                        0.000000              1.979837             0.043739   \n",
       "3                        0.166667            184.310000             1.824128   \n",
       "4                        0.000000            423.330000             6.590467   \n",
       "\n",
       "   distinct_cashins_1m_prev  \n",
       "0                       0.0  \n",
       "1                       7.5  \n",
       "2                       7.5  \n",
       "3                       1.0  \n",
       "4                       1.0  "
      ]
     },
     "execution_count": 4,
     "metadata": {},
     "output_type": "execute_result"
    }
   ],
   "source": [
    "df.head()"
   ]
  },
  {
   "cell_type": "code",
   "execution_count": 5,
   "metadata": {},
   "outputs": [
    {
     "data": {
      "text/plain": [
       "(5725, 13)"
      ]
     },
     "execution_count": 5,
     "metadata": {},
     "output_type": "execute_result"
    }
   ],
   "source": [
    "df.shape"
   ]
  },
  {
   "cell_type": "code",
   "execution_count": 6,
   "metadata": {},
   "outputs": [],
   "source": [
    "data_params = pd.read_pickle('/Users/shashankgupta/Documents/code/git_project/redec/re_decisioning/models/data_params_v2.pkl')\n",
    "model = pd.read_pickle('/Users/shashankgupta/Documents/code/git_project/redec/re_decisioning/models/redec_3.pkl')\n",
    "transformer = pd.read_pickle('/Users/shashankgupta/Documents/code/git_project/redec/re_decisioning/models/scale_train_object.pkl')"
   ]
  },
  {
   "cell_type": "code",
   "execution_count": null,
   "metadata": {},
   "outputs": [],
   "source": [
    "# df.isnull().sum()"
   ]
  },
  {
   "cell_type": "code",
   "execution_count": 8,
   "metadata": {},
   "outputs": [
    {
     "data": {
      "text/plain": [
       "['distinct_debit_txns_1m',\n",
       " 'median_amount_debited_2m',\n",
       " 'ratio_debit_credit_2m',\n",
       " 'ratio_ach_credit_freq_total_credit_1m',\n",
       " 'ratio_ach_debit_credit_freq_1m',\n",
       " 'median_running_balance_2nd_m',\n",
       " 'ratio_revenue_1m_2m',\n",
       " 'distinct_cashins_1m_prev',\n",
       " 'ratio_amt_drawn_mom',\n",
       " 'ratio_amt_cashin_mom']"
      ]
     },
     "execution_count": 8,
     "metadata": {},
     "output_type": "execute_result"
    }
   ],
   "source": [
    "sc.features"
   ]
  },
  {
   "cell_type": "code",
   "execution_count": 11,
   "metadata": {},
   "outputs": [
    {
     "data": {
      "text/plain": [
       "2    1713\n",
       "3    1167\n",
       "4     363\n",
       "Name: emi_no, dtype: int64"
      ]
     },
     "execution_count": 11,
     "metadata": {},
     "output_type": "execute_result"
    }
   ],
   "source": [
    "df['emi_no'].value_counts()"
   ]
  },
  {
   "cell_type": "code",
   "execution_count": 10,
   "metadata": {},
   "outputs": [],
   "source": [
    "df = df[df['emi_no'].isin([2,3,4])]"
   ]
  },
  {
   "cell_type": "code",
   "execution_count": 12,
   "metadata": {},
   "outputs": [],
   "source": [
    "df0 = sc.preprocess(df,sc.features,data_params,transformer)"
   ]
  },
  {
   "cell_type": "code",
   "execution_count": 13,
   "metadata": {},
   "outputs": [],
   "source": [
    "df0 = sc.model_scoring_redec(df0,sc.features,model)"
   ]
  },
  {
   "cell_type": "code",
   "execution_count": 14,
   "metadata": {},
   "outputs": [
    {
     "data": {
      "text/html": [
       "<div>\n",
       "<style scoped>\n",
       "    .dataframe tbody tr th:only-of-type {\n",
       "        vertical-align: middle;\n",
       "    }\n",
       "\n",
       "    .dataframe tbody tr th {\n",
       "        vertical-align: top;\n",
       "    }\n",
       "\n",
       "    .dataframe thead th {\n",
       "        text-align: right;\n",
       "    }\n",
       "</style>\n",
       "<table border=\"1\" class=\"dataframe\">\n",
       "  <thead>\n",
       "    <tr style=\"text-align: right;\">\n",
       "      <th></th>\n",
       "      <th>business_id</th>\n",
       "      <th>due_date</th>\n",
       "      <th>emi_no</th>\n",
       "      <th>median_running_balance_2nd_m</th>\n",
       "      <th>median_amount_debited_2m</th>\n",
       "      <th>distinct_debit_txns_1m</th>\n",
       "      <th>ratio_debit_credit_2m</th>\n",
       "      <th>ratio_ach_credit_freq_total_credit_1m</th>\n",
       "      <th>ratio_amt_drawn_mom</th>\n",
       "      <th>ratio_ach_debit_credit_freq_1m</th>\n",
       "      <th>ratio_amt_cashin_mom</th>\n",
       "      <th>ratio_revenue_1m_2m</th>\n",
       "      <th>distinct_cashins_1m_prev</th>\n",
       "      <th>redec_proba</th>\n",
       "      <th>redec_score</th>\n",
       "      <th>redec_bin</th>\n",
       "    </tr>\n",
       "  </thead>\n",
       "  <tbody>\n",
       "    <tr>\n",
       "      <th>0</th>\n",
       "      <td>4a95d0ac-791c-4c26-ba04-27529cf78788</td>\n",
       "      <td>2022-12-29</td>\n",
       "      <td>2</td>\n",
       "      <td>-0.559013</td>\n",
       "      <td>-0.554756</td>\n",
       "      <td>-0.537224</td>\n",
       "      <td>-1.195758</td>\n",
       "      <td>-1.726065</td>\n",
       "      <td>-0.275416</td>\n",
       "      <td>-0.732551</td>\n",
       "      <td>-0.347744</td>\n",
       "      <td>-0.156665</td>\n",
       "      <td>2.881640</td>\n",
       "      <td>0.578490</td>\n",
       "      <td>421.509705</td>\n",
       "      <td>2</td>\n",
       "    </tr>\n",
       "    <tr>\n",
       "      <th>1</th>\n",
       "      <td>e48c2153-6bec-4711-92b6-04f1fcbf8b62</td>\n",
       "      <td>2023-01-23</td>\n",
       "      <td>2</td>\n",
       "      <td>-0.517349</td>\n",
       "      <td>-0.505696</td>\n",
       "      <td>-0.327072</td>\n",
       "      <td>0.376055</td>\n",
       "      <td>1.310021</td>\n",
       "      <td>-0.275490</td>\n",
       "      <td>-0.732551</td>\n",
       "      <td>-0.348842</td>\n",
       "      <td>-0.143452</td>\n",
       "      <td>-0.529549</td>\n",
       "      <td>0.527770</td>\n",
       "      <td>472.229921</td>\n",
       "      <td>2</td>\n",
       "    </tr>\n",
       "    <tr>\n",
       "      <th>2</th>\n",
       "      <td>4a95d0ac-791c-4c26-ba04-27529cf78788</td>\n",
       "      <td>2023-01-24</td>\n",
       "      <td>3</td>\n",
       "      <td>-0.156862</td>\n",
       "      <td>-0.554756</td>\n",
       "      <td>-0.545007</td>\n",
       "      <td>-0.891120</td>\n",
       "      <td>-1.884814</td>\n",
       "      <td>-0.275490</td>\n",
       "      <td>-0.732551</td>\n",
       "      <td>-0.348754</td>\n",
       "      <td>-0.082612</td>\n",
       "      <td>-0.004751</td>\n",
       "      <td>0.521497</td>\n",
       "      <td>478.502741</td>\n",
       "      <td>2</td>\n",
       "    </tr>\n",
       "    <tr>\n",
       "      <th>3</th>\n",
       "      <td>4a95d0ac-791c-4c26-ba04-27529cf78788</td>\n",
       "      <td>2023-01-29</td>\n",
       "      <td>4</td>\n",
       "      <td>-0.154727</td>\n",
       "      <td>-0.554756</td>\n",
       "      <td>-0.552790</td>\n",
       "      <td>-1.304407</td>\n",
       "      <td>-1.884814</td>\n",
       "      <td>-0.275490</td>\n",
       "      <td>-0.732551</td>\n",
       "      <td>-0.348754</td>\n",
       "      <td>-0.082612</td>\n",
       "      <td>-0.004751</td>\n",
       "      <td>0.491255</td>\n",
       "      <td>508.744785</td>\n",
       "      <td>2</td>\n",
       "    </tr>\n",
       "    <tr>\n",
       "      <th>4</th>\n",
       "      <td>16112c0e-9725-46b7-8f73-7c33242b93b6</td>\n",
       "      <td>2023-01-31</td>\n",
       "      <td>2</td>\n",
       "      <td>-0.575033</td>\n",
       "      <td>0.107546</td>\n",
       "      <td>-0.552790</td>\n",
       "      <td>0.000725</td>\n",
       "      <td>-1.884814</td>\n",
       "      <td>-0.275490</td>\n",
       "      <td>0.397582</td>\n",
       "      <td>-0.348842</td>\n",
       "      <td>0.046020</td>\n",
       "      <td>-0.529549</td>\n",
       "      <td>0.484909</td>\n",
       "      <td>515.091488</td>\n",
       "      <td>2</td>\n",
       "    </tr>\n",
       "  </tbody>\n",
       "</table>\n",
       "</div>"
      ],
      "text/plain": [
       "                            business_id    due_date  emi_no  \\\n",
       "0  4a95d0ac-791c-4c26-ba04-27529cf78788  2022-12-29       2   \n",
       "1  e48c2153-6bec-4711-92b6-04f1fcbf8b62  2023-01-23       2   \n",
       "2  4a95d0ac-791c-4c26-ba04-27529cf78788  2023-01-24       3   \n",
       "3  4a95d0ac-791c-4c26-ba04-27529cf78788  2023-01-29       4   \n",
       "4  16112c0e-9725-46b7-8f73-7c33242b93b6  2023-01-31       2   \n",
       "\n",
       "   median_running_balance_2nd_m  median_amount_debited_2m  \\\n",
       "0                     -0.559013                 -0.554756   \n",
       "1                     -0.517349                 -0.505696   \n",
       "2                     -0.156862                 -0.554756   \n",
       "3                     -0.154727                 -0.554756   \n",
       "4                     -0.575033                  0.107546   \n",
       "\n",
       "   distinct_debit_txns_1m  ratio_debit_credit_2m  \\\n",
       "0               -0.537224              -1.195758   \n",
       "1               -0.327072               0.376055   \n",
       "2               -0.545007              -0.891120   \n",
       "3               -0.552790              -1.304407   \n",
       "4               -0.552790               0.000725   \n",
       "\n",
       "   ratio_ach_credit_freq_total_credit_1m  ratio_amt_drawn_mom  \\\n",
       "0                              -1.726065            -0.275416   \n",
       "1                               1.310021            -0.275490   \n",
       "2                              -1.884814            -0.275490   \n",
       "3                              -1.884814            -0.275490   \n",
       "4                              -1.884814            -0.275490   \n",
       "\n",
       "   ratio_ach_debit_credit_freq_1m  ratio_amt_cashin_mom  ratio_revenue_1m_2m  \\\n",
       "0                       -0.732551             -0.347744            -0.156665   \n",
       "1                       -0.732551             -0.348842            -0.143452   \n",
       "2                       -0.732551             -0.348754            -0.082612   \n",
       "3                       -0.732551             -0.348754            -0.082612   \n",
       "4                        0.397582             -0.348842             0.046020   \n",
       "\n",
       "   distinct_cashins_1m_prev  redec_proba  redec_score  redec_bin  \n",
       "0                  2.881640     0.578490   421.509705          2  \n",
       "1                 -0.529549     0.527770   472.229921          2  \n",
       "2                 -0.004751     0.521497   478.502741          2  \n",
       "3                 -0.004751     0.491255   508.744785          2  \n",
       "4                 -0.529549     0.484909   515.091488          2  "
      ]
     },
     "execution_count": 14,
     "metadata": {},
     "output_type": "execute_result"
    }
   ],
   "source": [
    "df0.head()"
   ]
  },
  {
   "cell_type": "code",
   "execution_count": null,
   "metadata": {},
   "outputs": [],
   "source": [
    "# df0.to_pickle('/Users/shashankgupta/Documents/code/git_project/redec/re_decisioning/data/new_dataset_scored.pkl')"
   ]
  },
  {
   "cell_type": "code",
   "execution_count": null,
   "metadata": {},
   "outputs": [],
   "source": [
    "# from sqlalchemy.types import NVARCHAR\n",
    "# # from conf.config import SQLQuery\n",
    "# q = SQLQuery('snowflake')\n",
    "\n",
    "# df0.to_sql(name='redec_scored_dataset',\n",
    "#                  con=q.engine, \n",
    "#                  schema='prod_db.adhoc',\n",
    "#                  if_exists='append', \n",
    "#                  index=False, \n",
    "#                  chunksize=16000, \n",
    "#                  method='multi',\n",
    "#                  dtype={col_name: NVARCHAR for col_name in df0})"
   ]
  },
  {
   "cell_type": "code",
   "execution_count": 15,
   "metadata": {},
   "outputs": [
    {
     "data": {
      "text/plain": [
       "2    873\n",
       "3    793\n",
       "5    649\n",
       "4    522\n",
       "1    406\n",
       "Name: redec_bin, dtype: int64"
      ]
     },
     "execution_count": 15,
     "metadata": {},
     "output_type": "execute_result"
    }
   ],
   "source": [
    "df0['redec_bin'].value_counts()"
   ]
  },
  {
   "cell_type": "code",
   "execution_count": 16,
   "metadata": {},
   "outputs": [
    {
     "data": {
      "text/plain": [
       "1713"
      ]
     },
     "execution_count": 16,
     "metadata": {},
     "output_type": "execute_result"
    }
   ],
   "source": [
    "len(df0['business_id'].unique())"
   ]
  },
  {
   "cell_type": "code",
   "execution_count": 17,
   "metadata": {},
   "outputs": [
    {
     "data": {
      "text/plain": [
       "(3243, 16)"
      ]
     },
     "execution_count": 17,
     "metadata": {},
     "output_type": "execute_result"
    }
   ],
   "source": [
    "df0.shape"
   ]
  },
  {
   "cell_type": "code",
   "execution_count": null,
   "metadata": {},
   "outputs": [],
   "source": []
  }
 ],
 "metadata": {
  "kernelspec": {
   "display_name": "Python 3.10.5 64-bit",
   "language": "python",
   "name": "python3"
  },
  "language_info": {
   "codemirror_mode": {
    "name": "ipython",
    "version": 3
   },
   "file_extension": ".py",
   "mimetype": "text/x-python",
   "name": "python",
   "nbconvert_exporter": "python",
   "pygments_lexer": "ipython3",
   "version": "3.10.5"
  },
  "orig_nbformat": 4,
  "vscode": {
   "interpreter": {
    "hash": "aee8b7b246df8f9039afb4144a1f6fd8d2ca17a180786b69acc140d282b71a49"
   }
  }
 },
 "nbformat": 4,
 "nbformat_minor": 2
}
