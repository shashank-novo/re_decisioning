{
 "cells": [
  {
   "cell_type": "code",
   "execution_count": 1,
   "metadata": {},
   "outputs": [
    {
     "name": "stdout",
     "output_type": "stream",
     "text": [
      "/Users/shashankgupta/Documents/code/git_project/re_decisioning\n",
      "/Users/shashankgupta/Documents/code/git_project/re_decisioning/Code\n"
     ]
    }
   ],
   "source": [
    "import os \n",
    "cwd = os.getcwd()\n",
    "\n",
    "os.chdir('../')\n",
    "cwd = os.getcwd()\n",
    "print(cwd)\n",
    " \n",
    "os.chdir('./code/')\n",
    "cwd = os.getcwd()\n",
    "print(cwd)\n",
    "\n",
    "import pandas as pd \n",
    "import numpy as np \n",
    "import seaborn as sns\n",
    "\n",
    "import pickle \n",
    "import logging\n",
    "\n",
    "\n",
    "from config.config import SQLQuery\n",
    "querySno = SQLQuery('snowflake')"
   ]
  },
  {
   "cell_type": "code",
   "execution_count": 2,
   "metadata": {},
   "outputs": [],
   "source": [
    "import sys\n",
    "sys.path.insert(0, '/Users/sarfrazahmed/Documents/projects/deposit-model/conf')\n",
    "import pandas as pd\n",
    "import numpy as np\n",
    "import chart_studio.plotly as py \n",
    "from datetime import timedelta\n",
    "import cufflinks as cf\n",
    "import plotly.express as px\n",
    "import plotly.graph_objects as go\n",
    "import plotly.figure_factory as ff\n",
    "import plotly.io as pio\n",
    "from pandas_profiling import ProfileReport\n",
    "pio.templates.default = 'plotly_dark'\n",
    "pd.set_option('display.max_rows', 500)\n",
    "pd.set_option('display.max_columns', 500)\n",
    "color_map = {'high': '#ef553b', 'low': '#636efa'}\n",
    "import datetime\n",
    "import pytz"
   ]
  },
  {
   "cell_type": "code",
   "execution_count": 3,
   "metadata": {},
   "outputs": [],
   "source": [
    "querySno = SQLQuery('snowflake')\n",
    "rev_df = querySno(r\"\"\"\n",
    "with lending_data as (\n",
    "select business_id, due_date \n",
    "FROM (select distinct business_id, due_date from PROD_DB.ADHOC.LENDING_DPD_DATA_PILOT_GA) pay\n",
    "\n",
    "-- and pay.lending_business_id = 'cf6d8b20-574f-4362-b1f5-274bb2231c05'\n",
    "order by due_date\n",
    ")\n",
    "\n",
    ",txns_with_categories AS (\n",
    "select a.business_id, d.due_date,DATEDIFF(month, TRANSACTION_DATE, d.due_date) AS txn_month, amount, description,\n",
    "\t\t\tREGEXP_REPLACE(REGEXP_REPLACE(lower(description), ':',' '), '[^a-z ]', '') AS description_processed, transaction_date,\n",
    "\t\t\t            CASE WHEN description_processed ILIKE any(\n",
    "                                                '%%novo funding%%',\n",
    "\t\t\t            \t\t\t\t\t\t'%% earninactivehours %%', \n",
    "                                                'earninactivehours %%',\n",
    "                                                '%% earninactivehours',\n",
    "                                                'earninactivehours',\n",
    "\t\t\t            \t\t\t\t\t\t'%% activehours %%', \n",
    "                                                'activehours %%', \n",
    "                                                '%% activehours', \n",
    "                                                'activehours', \n",
    "\t\t\t            \t\t\t\t\t\t'%% navchek %%', \n",
    "                                                'navchek %%', \n",
    "                                                '%% navchek', \n",
    "                                                'navchek', \n",
    "\t\t\t            \t\t\t\t\t\t'%% loan %%', \n",
    "                                                'loan %%',\n",
    "                                                '%% loan',\n",
    "                                                'loan',\n",
    "\t\t\t            \t\t\t\t\t\t'%% earnin %%',\n",
    "                                                'earnin %%',\n",
    "                                                '%% earnin',\n",
    "                                                'earnin', \n",
    "\t\t\t            \t\t\t\t\t\t'%% advance %%',\n",
    "                                                '%% advance',\n",
    "                                                'advance %%',\n",
    "                                                'advance'\n",
    "\t\t\t            ) THEN 1 ELSE 0 END AS LOANS,\n",
    "\t\t\t            CASE WHEN description_processed ILIKE any(\n",
    "\t\t\t            \t\t\t\t\t\t'%% hcclaimpmt %%',\n",
    "                                                '%% hcclaimpmt',\n",
    "                                                'hcclaimpmt %%',\n",
    "                                                'hcclaimpmt',\n",
    "\t\t\t\t\t\t\t\t\t\t\t\t '%% unitedhealthcare %%',\n",
    "                                                 'unitedhealthcare %%',\n",
    "                                                 '%% unitedhealthcare',\n",
    "                                                 'unitedhealthcare',\n",
    "\t\t\t\t\t\t\t\t\t\t\t\t '%% bcbs %%',\n",
    "                                                 '%% bcbs',\n",
    "                                                 'bcbs %%',\n",
    "                                                 'bcbs',\n",
    "\t\t\t\t\t\t\t\t\t\t\t\t '%% cigna %%',\n",
    "                                                 'cigna %%',\n",
    "                                                 '%% cigna',\n",
    "                                                 'cigna',\n",
    "\t\t\t\t\t\t\t\t\t\t\t\t '%% govt %%',\n",
    "                                                 '%% govt',\n",
    "                                                 'govt %%',\n",
    "                                                 'govt',\n",
    "\t\t\t\t\t\t\t\t\t\t\t\t '%% humana %%',\n",
    "                                                 '%% humana',\n",
    "                                                 'humana %%',\n",
    "                                                 'humana',\n",
    "\t\t\t\t\t\t\t\t\t\t\t\t '%% aetna %%',\n",
    "                                                 'aetna %%',\n",
    "                                                 '%% aetna',\n",
    "                                                 'aetna',\n",
    "\t\t\t\t\t\t\t\t\t\t\t\t '%% insurance %%',\n",
    "                                                 'insurance %%',\n",
    "                                                 '%% insurance',\n",
    "                                                 'insurance',\n",
    "\t\t\t\t\t\t\t\t\t\t\t\t '%% life %%',\n",
    "                                                 'life %%',\n",
    "                                                 '%% life',\n",
    "                                                 'life',\n",
    "\t\t\t\t\t\t\t\t\t\t\t\t '%% blue %%',\n",
    "                                                 '%% blue',\n",
    "                                                 'blue %%',\n",
    "                                                 'blue'\n",
    "\t\t\t\t\t\t) THEN 1 ELSE 0 END AS INSURANCE,\n",
    "\t\t\t\t\t\tCASE WHEN description_processed ILIKE any(\n",
    "\t\t\t\t\t\t\t\t\t\t\t\t'%% sbtpg %%',\n",
    "                                                '%% sbtpg',\n",
    "                                                'sbtpg %%',\n",
    "                                                'sbtpg', \n",
    "\t\t\t\t\t\t\t\t\t\t\t\t'%% xxtaxeip %%',\n",
    "                                                'xxtaxeip %%',\n",
    "                                                '%% xxtaxeip',\n",
    "                                                'xxtaxeip', \n",
    "\t\t\t\t\t\t\t\t\t\t\t\t'%% tax %%', \n",
    "                                                'tax %%', \n",
    "                                                '%% tax', \n",
    "                                                'tax', \n",
    "\t\t\t\t\t\t\t\t\t\t\t\t'%% irs %%', \n",
    "                                                '%% irs', \n",
    "                                                'irs %%', \n",
    "                                                'irs', \n",
    "\t\t\t\t\t\t\t\t\t\t\t\t'%% treas %%', \n",
    "                                                '%% treas', \n",
    "                                                'treas %%', \n",
    "                                                'treas', \n",
    "\t\t\t\t\t\t\t\t\t\t\t\t'%% taxrfd %%',\n",
    "                                                '%% taxrfd',\n",
    "                                                'taxrfd %%',\n",
    "                                                'taxrfd'\n",
    "\t\t\t\t\t\t) THEN 1 ELSE 0 END AS TAX\n",
    "from fivetran_db.PROD_NOVO_API_PUBLIC.transactions a inner join lending_data d on a.business_id = d.business_id\n",
    "\t\t   WHERE datediff(MONTH ,TRANSACTION_DATE,d.due_date) < 2 and datediff(MONTH ,TRANSACTION_DATE,d.due_date) >= 0\n",
    "           AND status='active' AND TYPE = 'credit'     \n",
    ")\n",
    ",all_credits AS (\n",
    "SELECT a.BUSINESS_ID, due_date,txn_month,\n",
    "               sum(amount)  AS total_credit_amount, \n",
    "               sum(CASE WHEN LOANS = 1 THEN amount ELSE 0 end) AS total_loan_credit_amount, \n",
    "               sum(CASE WHEN INSURANCE = 1 THEN amount ELSE 0 END) AS total_insurance_credit_amount, \n",
    "               sum(CASE WHEN TAX = 1 THEN amount ELSE 0 end) AS total_tax_credit_amount\n",
    "FROM  txns_with_categories a\n",
    "GROUP BY 1,2,3\n",
    "),\n",
    "all_txn_credits AS (\n",
    "SELECT business_id, due_date,txn_month, \n",
    "               COALESCE(total_credit_amount, 0) AS total_credit_amount,\n",
    "               COALESCE(total_loan_credit_amount, 0) AS total_loan_credit_amount,\n",
    "               COALESCE(total_insurance_credit_amount, 0) AS total_insurance_credit_amount,\n",
    "               COALESCE(total_tax_credit_amount, 0) AS total_tax_credit_amount\n",
    "            --   COALESCE(TOTAL_CREDIT_AMOUNT_PLAID, 0) AS TOTAL_CREDIT_AMOUNT_PLAID,\n",
    "            --   COALESCE(TOTAL_LOAN_CREDIT_AMT_PLAID, 0) AS TOTAL_LOAN_CREDIT_AMT_PLAID,\n",
    "            --   COALESCE(TOTAL_INSURANCE_CREDIT_AMT_PLAID, 0) AS TOTAL_INSURANCE_CREDIT_AMT_PLAID,\n",
    "            --   COALESCE(TOTAL_TAX_CREDIT_AMT_PLAID, 0) AS TOTAL_TAX_CREDIT_AMT_PLAID\n",
    "FROM all_credits \n",
    ")\n",
    ",last_6mnth_revenue as (\n",
    "SELECT business_id, due_date,\n",
    "       CASE WHEN txn_month = 0 THEN 'past_1month_rev'\n",
    "            WHEN txn_month = 1 THEN 'past_2month_rev'\n",
    "            WHEN txn_month = 2 THEN 'past_3month_rev'\n",
    "            WHEN txn_month in (4,5,6) THEN 'past_furthest_3months'\n",
    "       END as month,\n",
    "       ((total_credit_amount-total_loan_credit_amount-total_insurance_credit_amount-total_tax_credit_amount)\n",
    "\t           ) AS revenue\n",
    "FROM all_txn_credits\n",
    "where txn_month <= 1)\n",
    "\n",
    "SELECT business_id, due_date, revenue_past_1m, revenue_past_2m, revenue_past_1m + revenue_past_2m as total_revenue_2m, revenue_past_1m/(1 + revenue_past_2m) as ratio_revenue_1m_2m from (\n",
    "select business_id,due_date, revenue as revenue_past_1m, lead(revenue) over(order by business_id, due_date, month) as revenue_past_2m,\n",
    "row_number() over(partition by business_id, due_date order by month) rnk\n",
    "from (\n",
    "select business_id, due_date, month, sum(revenue) revenue\n",
    "from last_6mnth_revenue\n",
    "-- where business_id = '0d39a85e-12dc-4487-904a-55cc24c397bf'\n",
    "group by 1,2,3\n",
    "order by 1,2,3\n",
    ")\n",
    ")\n",
    "where rnk = 1\n",
    "\"\"\"\n",
    ")"
   ]
  },
  {
   "cell_type": "code",
   "execution_count": 4,
   "metadata": {},
   "outputs": [
    {
     "data": {
      "text/html": [
       "<div>\n",
       "<style scoped>\n",
       "    .dataframe tbody tr th:only-of-type {\n",
       "        vertical-align: middle;\n",
       "    }\n",
       "\n",
       "    .dataframe tbody tr th {\n",
       "        vertical-align: top;\n",
       "    }\n",
       "\n",
       "    .dataframe thead th {\n",
       "        text-align: right;\n",
       "    }\n",
       "</style>\n",
       "<table border=\"1\" class=\"dataframe\">\n",
       "  <thead>\n",
       "    <tr style=\"text-align: right;\">\n",
       "      <th></th>\n",
       "      <th>business_id</th>\n",
       "      <th>due_date</th>\n",
       "      <th>revenue_past_1m</th>\n",
       "      <th>revenue_past_2m</th>\n",
       "      <th>total_revenue_2m</th>\n",
       "      <th>ratio_revenue_1m_2m</th>\n",
       "    </tr>\n",
       "  </thead>\n",
       "  <tbody>\n",
       "    <tr>\n",
       "      <th>0</th>\n",
       "      <td>84d80cf9-adc2-4e04-9248-0c6dc5a398b7</td>\n",
       "      <td>2022-11-02</td>\n",
       "      <td>654.33</td>\n",
       "      <td>529.41</td>\n",
       "      <td>1183.74</td>\n",
       "      <td>1.233631</td>\n",
       "    </tr>\n",
       "    <tr>\n",
       "      <th>1</th>\n",
       "      <td>efe8f866-4a39-4550-82c9-77dcec91cdd1</td>\n",
       "      <td>2023-03-05</td>\n",
       "      <td>14823.67</td>\n",
       "      <td>6995.16</td>\n",
       "      <td>21818.83</td>\n",
       "      <td>2.118829</td>\n",
       "    </tr>\n",
       "    <tr>\n",
       "      <th>2</th>\n",
       "      <td>6c45c434-a32a-499e-9155-3d48c1724649</td>\n",
       "      <td>2023-03-13</td>\n",
       "      <td>11491.66</td>\n",
       "      <td>11494.97</td>\n",
       "      <td>22986.63</td>\n",
       "      <td>0.999625</td>\n",
       "    </tr>\n",
       "    <tr>\n",
       "      <th>3</th>\n",
       "      <td>6c5c8be7-f46b-4f7a-98d0-cb777add49fd</td>\n",
       "      <td>2022-10-27</td>\n",
       "      <td>1184.09</td>\n",
       "      <td>1091.15</td>\n",
       "      <td>2275.24</td>\n",
       "      <td>1.084183</td>\n",
       "    </tr>\n",
       "    <tr>\n",
       "      <th>4</th>\n",
       "      <td>24d94434-ca7c-4e2c-a8d9-ea03d348c30a</td>\n",
       "      <td>2022-09-21</td>\n",
       "      <td>2695.10</td>\n",
       "      <td>2370.79</td>\n",
       "      <td>5065.89</td>\n",
       "      <td>1.136315</td>\n",
       "    </tr>\n",
       "  </tbody>\n",
       "</table>\n",
       "</div>"
      ],
      "text/plain": [
       "                            business_id    due_date  revenue_past_1m  \\\n",
       "0  84d80cf9-adc2-4e04-9248-0c6dc5a398b7  2022-11-02           654.33   \n",
       "1  efe8f866-4a39-4550-82c9-77dcec91cdd1  2023-03-05         14823.67   \n",
       "2  6c45c434-a32a-499e-9155-3d48c1724649  2023-03-13         11491.66   \n",
       "3  6c5c8be7-f46b-4f7a-98d0-cb777add49fd  2022-10-27          1184.09   \n",
       "4  24d94434-ca7c-4e2c-a8d9-ea03d348c30a  2022-09-21          2695.10   \n",
       "\n",
       "   revenue_past_2m  total_revenue_2m  ratio_revenue_1m_2m  \n",
       "0           529.41           1183.74             1.233631  \n",
       "1          6995.16          21818.83             2.118829  \n",
       "2         11494.97          22986.63             0.999625  \n",
       "3          1091.15           2275.24             1.084183  \n",
       "4          2370.79           5065.89             1.136315  "
      ]
     },
     "execution_count": 4,
     "metadata": {},
     "output_type": "execute_result"
    }
   ],
   "source": [
    "rev_df.head()"
   ]
  },
  {
   "cell_type": "code",
   "execution_count": 5,
   "metadata": {},
   "outputs": [
    {
     "data": {
      "text/plain": [
       "(4967, 6)"
      ]
     },
     "execution_count": 5,
     "metadata": {},
     "output_type": "execute_result"
    }
   ],
   "source": [
    "rev_df.shape"
   ]
  },
  {
   "cell_type": "code",
   "execution_count": 6,
   "metadata": {},
   "outputs": [],
   "source": [
    "txn_df = querySno(r\"\"\"\n",
    "select business_id, due_date, \n",
    "avg(count_pd_deposit_1m)count_pd_deposit_1m, avg(count_ach_debit_1m)count_ach_debit_1m, avg(count_ach_credit_1m)count_ach_credit_1m, avg(count_card_withdrawal_1m)count_card_withdrawal_1m, avg(count_mrdc_credit_1m)count_mrdc_credit_1m,\n",
    "avg(count_pd_deposit_2m)count_pd_deposit_2m, avg(count_ach_debit_2m)count_ach_debit_2m, avg(count_ach_credit_2m)count_ach_credit_2m, avg(count_card_withdrawal_2m)count_card_withdrawal_2m, avg(count_mrdc_credit_2m)count_mrdc_credit_2m,\n",
    "avg(amount_pd_deposit_1m)amount_pd_deposit_1m, avg(amount_ach_debit_1m)amount_ach_debit_1m, avg(amount_ach_credit_1m)amount_ach_credit_1m, avg(amount_card_withdrawal_1m)amount_card_withdrawal_1m, avg(amount_mrdc_credit_1m)amount_mrdc_credit_1m, \n",
    "avg(amount_pd_deposit_2m)amount_pd_deposit_2m, avg(amount_ach_debit_2m)amount_ach_debit_2m, avg(amount_ach_credit_2m)amount_ach_credit_2m, avg(amount_card_withdrawal_2m)amount_card_withdrawal_2m, avg(amount_mrdc_credit_2m)amount_mrdc_credit_2m,\n",
    "avg(pd_deposit_size_1m)pd_deposit_size_1m, avg(ach_debit_size_1m)ach_debit_size_1m, avg(ach_credit_size_1m)ach_credit_size_1m, avg(card_withdrawal_size_1m)card_withdrawal_size_1m, avg(mrdc_credit_size_1m)mrdc_credit_size_1m, \n",
    "avg(pd_deposit_size_2m)pd_deposit_size_2m, avg(ach_debit_size_2m)ach_debit_size_2m, avg(ach_credit_size_2m)ach_credit_size_2m, avg(card_withdrawal_size_2m)card_withdrawal_size_2m, avg(mrdc_credit_size_2m)mrdc_credit_size_2m,\n",
    "avg(amount_credited_1m)amount_credited_1m, avg(distinct_credit_txns_1m)distinct_credit_txns_1m, avg(credit_size_1m)credit_size_1m, avg(median_amount_credited_1m)median_amount_credited_1m, avg(stddev_amount_credited_1m)stddev_amount_credited_1m, \n",
    "avg(amount_credited_2m)amount_credited_2m, avg(distinct_credit_txns_2m)distinct_credit_txns_2m, avg(credit_size_2m)credit_size_2m, avg(median_amount_credited_2m)median_amount_credited_2m, avg(stddev_amount_credited_2m)stddev_amount_credited_2m,\n",
    "avg(amount_debited_1m)amount_debited_1m, avg(distinct_debit_txns_1m)distinct_debit_txns_1m, avg(debit_size_1m)debit_size_1m, avg(median_amount_debited_1m)median_amount_debited_1m, avg(stddev_amount_debited_1m)stddev_amount_debited_1m, \n",
    "avg(amount_debited_2m)amount_debited_2m, avg(distinct_debit_txns_2m)distinct_debit_txns_2m, avg(debit_size_2m)debit_size_2m, avg(median_amount_debited_2m)median_amount_debited_2m, avg(stddev_amount_debited_2m)stddev_amount_debited_2m,\n",
    "avg(ratio_debit_credit_1m)ratio_debit_credit_1m, avg(ratio_debit_credit_frequency_1m)ratio_debit_credit_frequency_1m, avg(ratio_debit_credit_2m)ratio_debit_credit_2m, avg(ratio_debit_credit_frequency_2m)ratio_debit_credit_frequency_2m,\n",
    "avg(ratio_pd_amt_total_credit_1m)ratio_pd_amt_total_credit_1m, avg(ratio_ach_debit_total_debit_1m)ratio_ach_debit_total_debit_1m, avg(ratio_ach_credit_total_credit_1m)ratio_ach_credit_total_credit_1m, avg(ratio_card_withdrawal_total_debit_1m)ratio_card_withdrawal_total_debit_1m, avg(ratio_mrdc_credit_total_credit_1m)ratio_mrdc_credit_total_credit_1m, \n",
    "avg(ratio_pd_amt_total_credit_2m)ratio_pd_amt_total_credit_2m, avg(ratio_ach_debit_total_debit_2m)ratio_ach_debit_total_debit_2m, avg(ratio_ach_credit_total_credit_2m)ratio_ach_credit_total_credit_2m, avg(ratio_card_withdrawal_total_debit_2m)ratio_card_withdrawal_total_debit_2m, avg(ratio_mrdc_credit_total_credit_2m)ratio_mrdc_credit_total_credit_2m,\n",
    "avg(ratio_pd_freq_total_credit_1m)ratio_pd_freq_total_credit_1m, avg(ratio_ach_debit_freq_total_debit_1m)ratio_ach_debit_freq_total_debit_1m, avg(ratio_ach_credit_freq_total_credit_1m)ratio_ach_credit_freq_total_credit_1m, avg(ratio_card_withdrawal_freq_total_debit_1m)ratio_card_withdrawal_freq_total_debit_1m, avg(ratio_mrdc_credit_freq_total_credit_1m)ratio_mrdc_credit_freq_total_credit_1m, \n",
    "avg(ratio_pd_freq_total_credit_2m)ratio_pd_freq_total_credit_2m, avg(ratio_ach_debit_freq_total_debit_2m)ratio_ach_debit_freq_total_debit_2m, avg(ratio_ach_credit_freq_total_credit_2m)ratio_ach_credit_freq_total_credit_2m, avg(ratio_card_withdrawal_freq_total_debit_2m)ratio_card_withdrawal_freq_total_debit_2m, avg(ratio_mrdc_credit_freq_total_credit_2m)ratio_mrdc_credit_freq_total_credit_2m,\n",
    "avg(ratio_ach_debit_credit_1m)ratio_ach_debit_credit_1m, avg(ratio_ach_debit_credit_2m)ratio_ach_debit_credit_2m,\n",
    "avg(ratio_ach_debit_credit_freq_1m)ratio_ach_debit_credit_freq_1m, avg(ratio_ach_debit_credit_freq_2m)ratio_ach_debit_credit_freq_2m,\n",
    "avg(ach_d_size_1m)ach_d_size_1m, avg(ach_d_size_2m)ach_d_size_2m, avg(ach_c_size_1m)ach_c_size_1m, avg(ach_c_size_2m)ach_c_size_2m\n",
    "\n",
    "\n",
    "from (\n",
    "select pay.business_id, pay.due_date, t.transaction_date, t.amount, t.type, t.running_balance, pay.min_created_at,\n",
    "datediff(day, t.transaction_date, pay.due_date) as DaysFromDueDate, datediff(day, pay.min_created_at, t.transaction_date) as DaysSinceLoanTaken,\n",
    "CASE WHEN TYPE = 'credit' and DESCRIPTION  ILIKE ANY(\n",
    "\t                    '%%AMAZON%%'\n",
    "\t                    , '%%AMZN%%'\n",
    "\t                    , '%%STRIPE%%'\n",
    "\t                    , '%%SQUARE INC%%'\n",
    "\t                    , '%%SHOPIFY%%'\n",
    "\t                    , '%%SHOPPAY%%'\n",
    "\t                    )\n",
    "                    AND NOT(\n",
    "\t                    description ILIKE ANY(\n",
    "\t                        '%%LYFT'\n",
    "\t                        , '%%OfferUp%%'\n",
    "\t                        , '%%Gumroad%%'\n",
    "\t                        , '%%FB%%Fundrai%%'\n",
    "\t                        , '%%Verify%%'\n",
    "\t                        , '%%CASH%%'\n",
    "\t                        , '%%PAYROLL%%'\n",
    "\t                        , '%%VRFY%%'\n",
    "\t                        , '%%CAPITAL%%'\n",
    "\t                        , '%%REFUND%%'\n",
    "\t                    ) ) THEN 1 ELSE 0 END as PD_DEPOSIT_TXN,\n",
    "CASE WHEN TYPE ='debit' AND MEDIUM  ILIKE ANY('%%external withdrawal%%', '%%iat withdrawal%%') THEN 1 ELSE 0 END AS ach_debit_txn,\n",
    "CASE WHEN type = 'credit'  AND medium ILIKE ANY('%%external deposit%%', '%%iat deposit%%') THEN 1 ELSE 0 END AS ach_credit_txn,\n",
    "CASE WHEN medium = 'POS Withdrawal' THEN 1 ELSE 0 END AS card_withdrawal_txn,\n",
    "CASE WHEN TYPE = 'credit' AND description='Mobile Check Deposit' THEN 1 ELSE 0 END AS mrdc_credit_txn,\n",
    "\n",
    "sum(case when daysFromDueDate <= 30 then PD_DEPOSIT_TXN else 0 end) over (partition by biz.id, due_date) as count_pd_deposit_1m,\n",
    "sum(case when daysFromDueDate <= 30 then ach_debit_txn else 0 end) over (partition by biz.id, due_date) as count_ach_debit_1m,\n",
    "sum(case when daysFromDueDate <= 30 then ach_credit_txn else 0 end) over (partition by biz.id, due_date) as count_ach_credit_1m,\n",
    "sum(case when daysFromDueDate <= 30 then card_withdrawal_txn else 0 end) over (partition by biz.id, due_date) as count_card_withdrawal_1m,\n",
    "sum(case when daysFromDueDate <= 30 then mrdc_credit_txn else 0 end) over (partition by biz.id, due_date) as count_mrdc_credit_1m,\n",
    "\n",
    "sum(case when daysFromDueDate <= 60 then PD_DEPOSIT_TXN else 0 end) over (partition by biz.id, due_date) as count_pd_deposit_2m,\n",
    "sum(case when daysFromDueDate <= 60 then ach_debit_txn else 0 end) over (partition by biz.id, due_date) as count_ach_debit_2m,\n",
    "sum(case when daysFromDueDate <= 60 then ach_credit_txn else 0 end) over (partition by biz.id, due_date) as count_ach_credit_2m,\n",
    "sum(case when daysFromDueDate <= 60 then card_withdrawal_txn else 0 end) over (partition by biz.id, due_date) as count_card_withdrawal_2m,\n",
    "sum(case when daysFromDueDate <= 60 then mrdc_credit_txn else 0 end) over (partition by biz.id, due_date) as count_mrdc_credit_2m,\n",
    "\n",
    "sum(case when daysFromDueDate <= 90 then PD_DEPOSIT_TXN else 0 end) over (partition by biz.id, due_date) as count_pd_deposit_3m,\n",
    "sum(case when daysFromDueDate <= 90 then ach_debit_txn else 0 end) over (partition by biz.id, due_date) as count_ach_debit_3m,\n",
    "sum(case when daysFromDueDate <= 90 then ach_credit_txn else 0 end) over (partition by biz.id, due_date) as count_ach_credit_3m,\n",
    "sum(case when daysFromDueDate <= 90 then card_withdrawal_txn else 0 end) over (partition by biz.id, due_date) as count_card_withdrawal_3m,\n",
    "sum(case when daysFromDueDate <= 90 then mrdc_credit_txn else 0 end) over (partition by biz.id, due_date) as count_mrdc_credit_3m,\n",
    "\n",
    "sum(case when daysFromDueDate <= 30 and PD_DEPOSIT_TXN = 1 then amount else 0 end) over (partition by biz.id, due_date) as amount_pd_deposit_1m,\n",
    "sum(case when daysFromDueDate <= 30 and ach_debit_txn = 1 then -amount else 0 end) over (partition by biz.id, due_date) as amount_ach_debit_1m,\n",
    "sum(case when daysFromDueDate <= 30 and ach_credit_txn = 1 then amount else 0 end) over (partition by biz.id, due_date) as amount_ach_credit_1m,\n",
    "sum(case when daysFromDueDate <= 30 and card_withdrawal_txn = 1 then -amount else 0 end) over (partition by biz.id, due_date) as amount_card_withdrawal_1m,\n",
    "sum(case when daysFromDueDate <= 30 and mrdc_credit_txn = 1 then amount else 0 end) over (partition by biz.id, due_date) as amount_mrdc_credit_1m,\n",
    "\n",
    "sum(case when daysFromDueDate <= 60 and PD_DEPOSIT_TXN = 1 then amount else 0 end) over (partition by biz.id, due_date) as amount_pd_deposit_2m,\n",
    "sum(case when daysFromDueDate <= 60 and ach_debit_txn = 1 then -amount else 0 end) over (partition by biz.id, due_date) as amount_ach_debit_2m,\n",
    "sum(case when daysFromDueDate <= 60 and ach_credit_txn = 1 then amount else 0 end) over (partition by biz.id, due_date) as amount_ach_credit_2m,\n",
    "sum(case when daysFromDueDate <= 60 and card_withdrawal_txn = 1 then -amount else 0 end) over (partition by biz.id, due_date) as amount_card_withdrawal_2m,\n",
    "sum(case when daysFromDueDate <= 60 and mrdc_credit_txn = 1 then amount else 0 end) over (partition by biz.id, due_date) as amount_mrdc_credit_2m,\n",
    "\n",
    "sum(case when daysFromDueDate <= 90 and PD_DEPOSIT_TXN = 1 then amount else 0 end) over (partition by biz.id, due_date) as amount_pd_deposit_3m,\n",
    "sum(case when daysFromDueDate <= 90 and ach_debit_txn = 1 then -amount else 0 end) over (partition by biz.id, due_date) as amount_ach_debit_3m,\n",
    "sum(case when daysFromDueDate <= 90 and ach_credit_txn = 1 then amount else 0 end) over (partition by biz.id, due_date) as amount_ach_credit_3m,\n",
    "sum(case when daysFromDueDate <= 90 and card_withdrawal_txn = 1 then -amount else 0 end) over (partition by biz.id, due_date) as amount_card_withdrawal_3m,\n",
    "sum(case when daysFromDueDate <= 90 and mrdc_credit_txn = 1 then amount else 0 end) over (partition by biz.id, due_date) as amount_mrdc_credit_3m,\n",
    "\n",
    "amount_pd_deposit_1m/(1 + count_pd_deposit_1m) as pd_deposit_size_1m, amount_pd_deposit_2m/(1 + count_pd_deposit_2m) as pd_deposit_size_2m, amount_pd_deposit_3m/(1 + count_pd_deposit_3m) as pd_deposit_size_3m,\n",
    "amount_ach_debit_1m/(count_ach_debit_1m + 1) as ach_debit_size_1m, amount_ach_debit_2m/(count_ach_debit_2m + 1) as ach_debit_size_2m, amount_ach_debit_3m/(count_ach_debit_3m + 1) as ach_debit_size_3m,\n",
    "amount_ach_credit_1m/(count_ach_credit_1m + 1) as ach_credit_size_1m, amount_ach_credit_2m/(count_ach_credit_2m + 1) as ach_credit_size_2m, amount_ach_credit_3m/(count_ach_credit_3m + 1) as ach_credit_size_3m,\n",
    "amount_card_withdrawal_1m/(count_card_withdrawal_1m + 1) as card_withdrawal_size_1m, amount_card_withdrawal_2m/(count_card_withdrawal_2m + 1) as card_withdrawal_size_2m, amount_card_withdrawal_3m/(count_card_withdrawal_3m + 1) as card_withdrawal_size_3m,\n",
    "amount_mrdc_credit_1m/(count_mrdc_credit_1m + 1) as mrdc_credit_size_1m, amount_mrdc_credit_2m/(count_mrdc_credit_2m + 1) as mrdc_credit_size_2m, amount_mrdc_credit_3m/(count_mrdc_credit_3m + 1) as mrdc_credit_size_3m,\n",
    "\n",
    "sum(case when running_balance < 0 and daysFromDueDate <= 30 then 1 else 0 end) over (partition by biz.id, due_date) as od_count_1m,\n",
    "sum(case when running_balance = 0 and daysFromDueDate <= 30 then 1 else 0 end) over (partition by biz.id, due_date) as zero_balance_count_1m,\n",
    "avg(case when daysFromDueDate <= 30 then running_balance else 0 end) over (partition by biz.id, due_date) as avg_running_balance_1m,\n",
    "median(case when daysFromDueDate <= 30 then running_balance else 0 end) over (partition by biz.id, due_date) as median_running_balance_1m,\n",
    "stddev(case when daysFromDueDate <= 30 then running_balance else 0 end) over (partition by biz.id, due_date) as stddev_running_balance_1m,\n",
    "\n",
    "sum(case when running_balance < 0 and daysFromDueDate <= 60 then 1 else 0 end) over (partition by biz.id, due_date) as od_count_2m,\n",
    "sum(case when running_balance = 0 and daysFromDueDate <= 60 then 1 else 0 end) over (partition by biz.id, due_date) as zero_balance_count_2m,\n",
    "avg(case when daysFromDueDate <= 60 then running_balance else 0 end) over (partition by biz.id, due_date) as avg_running_balance_2m,\n",
    "median(case when daysFromDueDate <= 60 then running_balance else 0 end) over (partition by biz.id, due_date) as median_running_balance_2m,\n",
    "stddev(case when daysFromDueDate <= 60 then running_balance else 0 end) over (partition by biz.id, due_date) as stddev_running_balance_2m,\n",
    "\n",
    "sum(case when running_balance < 0 and daysFromDueDate <= 90 then 1 else 0 end) over (partition by biz.id, due_date) as od_count_3m,\n",
    "sum(case when running_balance = 0 and daysFromDueDate <= 90 then 1 else 0 end) over (partition by biz.id, due_date) as zero_balance_count_3m,\n",
    "avg(case when daysFromDueDate <= 90 then running_balance else 0 end) over (partition by biz.id, due_date) as avg_running_balance_3m,\n",
    "median(case when daysFromDueDate <= 90 then running_balance else 0 end) over (partition by biz.id, due_date) as median_running_balance_3m,\n",
    "stddev(case when daysFromDueDate <= 90 then running_balance else 0 end) over (partition by biz.id, due_date) as stddev_running_balance_3m,\n",
    "\n",
    "sum(case when daysFromDueDate <= 30 and type = 'credit' then amount else 0 end) over (partition by biz.id, due_date) as amount_credited_1m,\n",
    "sum(case when daysFromDueDate <= 30 and type = 'credit' then 1 else 0 end) over (partition by biz.id, due_date) as distinct_credit_txns_1m,\n",
    "amount_credited_1m/(distinct_credit_txns_1m + 1) as credit_size_1m,\n",
    "median(case when daysFromDueDate <= 30 and type = 'credit' then amount else 0 end) over (partition by biz.id, due_date) as median_amount_credited_1m,\n",
    "stddev(case when daysFromDueDate <= 30 and type = 'credit' then amount else 0 end) over (partition by biz.id, due_date) as stddev_amount_credited_1m,\n",
    "\n",
    "sum(case when daysFromDueDate <= 30 and type = 'debit' then -amount else 0 end) over (partition by biz.id, due_date) as amount_debited_1m,\n",
    "sum(case when daysFromDueDate <= 30 and type = 'debit' then 1 else 0 end) over (partition by biz.id, due_date) as distinct_debit_txns_1m,\n",
    "amount_debited_1m/(distinct_debit_txns_1m + 1) as debit_size_1m,\n",
    "median(case when daysFromDueDate <= 30 and type = 'debit' then -amount else 0 end) over (partition by biz.id, due_date) as median_amount_debited_1m,\n",
    "stddev(case when daysFromDueDate <= 30 and type = 'debit' then -amount else 0 end) over (partition by biz.id, due_date) as stddev_amount_debited_1m,\n",
    "\n",
    "amount_debited_1m/(amount_credited_1m + 1) as ratio_debit_credit_1m,\n",
    "distinct_debit_txns_1m/(distinct_credit_txns_1m + 1) as ratio_debit_credit_frequency_1m,\n",
    "\n",
    "sum(case when daysFromDueDate <= 60 and type = 'credit' then amount else 0 end) over (partition by biz.id, due_date) as amount_credited_2m,\n",
    "sum(case when daysFromDueDate <= 60 and type = 'credit' then 1 else 0 end) over (partition by biz.id, due_date) as distinct_credit_txns_2m,\n",
    "amount_credited_2m/(distinct_credit_txns_2m + 1) as credit_size_2m,\n",
    "median(case when daysFromDueDate <= 60 and type = 'credit' then amount else 0 end) over (partition by biz.id, due_date) as median_amount_credited_2m,\n",
    "stddev(case when daysFromDueDate <= 60 and type = 'credit' then amount else 0 end) over (partition by biz.id, due_date) as stddev_amount_credited_2m,\n",
    "\n",
    "sum(case when daysFromDueDate <= 60 and type = 'debit' then -amount else 0 end) over (partition by biz.id, due_date) as amount_debited_2m,\n",
    "sum(case when daysFromDueDate <= 60 and type = 'debit' then 1 else 0 end) over (partition by biz.id, due_date) as distinct_debit_txns_2m,\n",
    "amount_debited_2m/(distinct_debit_txns_2m + 1) as debit_size_2m,\n",
    "median(case when daysFromDueDate <= 60 and type = 'debit' then -amount else 0 end) over (partition by biz.id, due_date) as median_amount_debited_2m,\n",
    "stddev(case when daysFromDueDate <= 60 and type = 'debit' then -amount else 0 end) over (partition by biz.id, due_date) as stddev_amount_debited_2m,\n",
    "\n",
    "amount_debited_2m/(amount_credited_2m + 1) as ratio_debit_credit_2m,\n",
    "distinct_debit_txns_2m/(distinct_credit_txns_2m + 1) as ratio_debit_credit_frequency_2m,\n",
    "\n",
    "sum(case when daysFromDueDate <= 90 and type = 'credit' then amount else 0 end) over (partition by biz.id, due_date) as amount_credited_3m,\n",
    "sum(case when daysFromDueDate <= 90 and type = 'credit' then 1 else 0 end) over (partition by biz.id, due_date) as distinct_credit_txns_3m,\n",
    "amount_credited_3m/(distinct_credit_txns_3m + 1) as credit_size_3m,\n",
    "median(case when daysFromDueDate <= 90 and type = 'credit' then amount else 0 end) over (partition by biz.id, due_date) as median_amount_credited_3m,\n",
    "stddev(case when daysFromDueDate <= 90 and type = 'credit' then amount else 0 end) over (partition by biz.id, due_date) as stddev_amount_credited_3m,\n",
    "\n",
    "sum(case when daysFromDueDate <= 90 and type = 'debit' then -amount else 0 end) over (partition by biz.id, due_date) as amount_debited_3m,\n",
    "sum(case when daysFromDueDate <= 90 and type = 'debit' then 1 else 0 end) over (partition by biz.id, due_date) as distinct_debit_txns_3m,\n",
    "amount_debited_3m/(distinct_debit_txns_3m + 1) as debit_size_3m,\n",
    "median(case when daysFromDueDate <= 90 and type = 'debit' then -amount else 0 end) over (partition by biz.id, due_date) as median_amount_debited_3m,\n",
    "stddev(case when daysFromDueDate <= 90 and type = 'debit' then -amount else 0 end) over (partition by biz.id, due_date) as stddev_amount_debited_3m,\n",
    "\n",
    "amount_debited_3m/(amount_credited_3m + 1) as ratio_debit_credit_3m,\n",
    "distinct_debit_txns_3m/(distinct_credit_txns_3m + 1) as ratio_debit_credit_frequency_3m,\n",
    "\n",
    "COALESCE(amount_pd_deposit_1m/NULLIF(amount_credited_1m, 0), 0) as ratio_pd_amt_total_credit_1m, COALESCE(amount_pd_deposit_2m/NULLIF(amount_credited_2m, 0), 0) as ratio_pd_amt_total_credit_2m,\n",
    "COALESCE(amount_ach_debit_1m/NULLIF(amount_debited_1m, 0), 0) as ratio_ach_debit_total_debit_1m, COALESCE(amount_ach_debit_2m/NULLIF(amount_debited_2m, 0), 0) as ratio_ach_debit_total_debit_2m,\n",
    "COALESCE(amount_ach_credit_1m/NULLIF(amount_credited_1m, 0), 0) as ratio_ach_credit_total_credit_1m, COALESCE(amount_ach_credit_2m/NULLIF(amount_credited_2m, 0), 0) as ratio_ach_credit_total_credit_2m,\n",
    "COALESCE(amount_card_withdrawal_1m/NULLIF(amount_debited_1m, 0), 0) as ratio_card_withdrawal_total_debit_1m, COALESCE(amount_card_withdrawal_2m/NULLIF(amount_debited_2m, 0), 0) as ratio_card_withdrawal_total_debit_2m,\n",
    "COALESCE(amount_mrdc_credit_1m/NULLIF(amount_credited_1m, 0), 0) as ratio_mrdc_credit_total_credit_1m, COALESCE(amount_mrdc_credit_2m/NULLIF(amount_credited_2m, 0), 0) as ratio_mrdc_credit_total_credit_2m,\n",
    "\n",
    "count_pd_deposit_1m/(distinct_credit_txns_1m + 1) as ratio_pd_freq_total_credit_1m, count_pd_deposit_2m/(distinct_credit_txns_2m + 1) as ratio_pd_freq_total_credit_2m,\n",
    "count_ach_debit_1m/(distinct_debit_txns_1m + 1) as ratio_ach_debit_freq_total_debit_1m, count_ach_debit_2m/(distinct_debit_txns_2m + 1) as ratio_ach_debit_freq_total_debit_2m,\n",
    "count_ach_credit_1m/(distinct_credit_txns_1m + 1) as ratio_ach_credit_freq_total_credit_1m, count_ach_credit_2m/(distinct_credit_txns_2m + 1) as ratio_ach_credit_freq_total_credit_2m,\n",
    "count_card_withdrawal_1m/(distinct_debit_txns_1m + 1) as ratio_card_withdrawal_freq_total_debit_1m, count_card_withdrawal_2m/(distinct_debit_txns_2m + 1) as ratio_card_withdrawal_freq_total_debit_2m,\n",
    "count_mrdc_credit_1m/(distinct_credit_txns_1m + 1) as ratio_mrdc_credit_freq_total_credit_1m, count_mrdc_credit_2m/(distinct_credit_txns_2m + 1) as ratio_mrdc_credit_freq_total_credit_2m,\n",
    "\n",
    "amount_ach_debit_1m/(amount_ach_credit_1m + 1) as ratio_ach_debit_credit_1m, amount_ach_debit_2m/(amount_ach_credit_2m + 1) as ratio_ach_debit_credit_2m,\n",
    "count_ach_debit_1m/(count_ach_credit_1m + 1) as ratio_ach_debit_credit_freq_1m, count_ach_debit_2m/(count_ach_credit_2m + 1) as ratio_ach_debit_credit_freq_2m,\n",
    "amount_ach_debit_1m/(count_ach_debit_1m + 1) as ach_d_size_1m, amount_ach_debit_2m/(count_ach_debit_2m + 1) as ach_d_size_2m,\n",
    "amount_ach_credit_1m/(count_ach_credit_1m + 1) as ach_c_size_1m, amount_ach_credit_2m/(count_ach_credit_2m + 1) as ach_c_size_2m\n",
    "\n",
    "FROM (select distinct business_id, due_date, min(dateadd(month,-1,due_date)) over(partition by business_id) as min_created_at from PROD_DB.ADHOC.LENDING_DPD_DATA_PILOT_GA) pay\n",
    "left join \"FIVETRAN_DB\".\"PROD_NOVO_API_PUBLIC\".\"LENDING_BUSINESSES\" biz on pay.business_id = biz.business_id\n",
    "-- left join (select LENDING_BUSINESS_ID, min(created_at) as min_created_at, min(due_date) as first_due_date from \"FIVETRAN_DB\".\"PROD_NOVO_API_PUBLIC\".\"LENDING_PAYMENT_SCHEDULES\"\n",
    "-- group by 1) p on biz.id = p.lending_business_id\n",
    "left join FIVETRAN_DB.PROD_NOVO_API_PUBLIC.\"TRANSACTIONS\" t on pay.business_id = t.business_id\n",
    "where t.status = 'active'  AND  daysFromDueDate <=180 AND daysFromDueDate > 0 and DaysSinceLoanTaken >= 0\n",
    "-- and pay.lending_business_id = '48cd97e3-f301-4958-bd0d-703ec133fb0b' \n",
    "order by transaction_date, pay.due_date\n",
    ")\n",
    "group by 1,2\n",
    "\n",
    "\n",
    "\"\"\")"
   ]
  },
  {
   "cell_type": "code",
   "execution_count": 7,
   "metadata": {},
   "outputs": [
    {
     "data": {
      "text/html": [
       "<div>\n",
       "<style scoped>\n",
       "    .dataframe tbody tr th:only-of-type {\n",
       "        vertical-align: middle;\n",
       "    }\n",
       "\n",
       "    .dataframe tbody tr th {\n",
       "        vertical-align: top;\n",
       "    }\n",
       "\n",
       "    .dataframe thead th {\n",
       "        text-align: right;\n",
       "    }\n",
       "</style>\n",
       "<table border=\"1\" class=\"dataframe\">\n",
       "  <thead>\n",
       "    <tr style=\"text-align: right;\">\n",
       "      <th></th>\n",
       "      <th>business_id</th>\n",
       "      <th>due_date</th>\n",
       "      <th>count_pd_deposit_1m</th>\n",
       "      <th>count_ach_debit_1m</th>\n",
       "      <th>count_ach_credit_1m</th>\n",
       "      <th>count_card_withdrawal_1m</th>\n",
       "      <th>count_mrdc_credit_1m</th>\n",
       "      <th>count_pd_deposit_2m</th>\n",
       "      <th>count_ach_debit_2m</th>\n",
       "      <th>count_ach_credit_2m</th>\n",
       "      <th>count_card_withdrawal_2m</th>\n",
       "      <th>count_mrdc_credit_2m</th>\n",
       "      <th>amount_pd_deposit_1m</th>\n",
       "      <th>amount_ach_debit_1m</th>\n",
       "      <th>amount_ach_credit_1m</th>\n",
       "      <th>amount_card_withdrawal_1m</th>\n",
       "      <th>amount_mrdc_credit_1m</th>\n",
       "      <th>amount_pd_deposit_2m</th>\n",
       "      <th>amount_ach_debit_2m</th>\n",
       "      <th>amount_ach_credit_2m</th>\n",
       "      <th>amount_card_withdrawal_2m</th>\n",
       "      <th>amount_mrdc_credit_2m</th>\n",
       "      <th>pd_deposit_size_1m</th>\n",
       "      <th>ach_debit_size_1m</th>\n",
       "      <th>ach_credit_size_1m</th>\n",
       "      <th>card_withdrawal_size_1m</th>\n",
       "      <th>mrdc_credit_size_1m</th>\n",
       "      <th>pd_deposit_size_2m</th>\n",
       "      <th>ach_debit_size_2m</th>\n",
       "      <th>ach_credit_size_2m</th>\n",
       "      <th>card_withdrawal_size_2m</th>\n",
       "      <th>mrdc_credit_size_2m</th>\n",
       "      <th>amount_credited_1m</th>\n",
       "      <th>distinct_credit_txns_1m</th>\n",
       "      <th>credit_size_1m</th>\n",
       "      <th>median_amount_credited_1m</th>\n",
       "      <th>stddev_amount_credited_1m</th>\n",
       "      <th>amount_credited_2m</th>\n",
       "      <th>distinct_credit_txns_2m</th>\n",
       "      <th>credit_size_2m</th>\n",
       "      <th>median_amount_credited_2m</th>\n",
       "      <th>stddev_amount_credited_2m</th>\n",
       "      <th>amount_debited_1m</th>\n",
       "      <th>distinct_debit_txns_1m</th>\n",
       "      <th>debit_size_1m</th>\n",
       "      <th>median_amount_debited_1m</th>\n",
       "      <th>stddev_amount_debited_1m</th>\n",
       "      <th>amount_debited_2m</th>\n",
       "      <th>distinct_debit_txns_2m</th>\n",
       "      <th>debit_size_2m</th>\n",
       "      <th>median_amount_debited_2m</th>\n",
       "      <th>stddev_amount_debited_2m</th>\n",
       "      <th>ratio_debit_credit_1m</th>\n",
       "      <th>ratio_debit_credit_frequency_1m</th>\n",
       "      <th>ratio_debit_credit_2m</th>\n",
       "      <th>ratio_debit_credit_frequency_2m</th>\n",
       "      <th>ratio_pd_amt_total_credit_1m</th>\n",
       "      <th>ratio_ach_debit_total_debit_1m</th>\n",
       "      <th>ratio_ach_credit_total_credit_1m</th>\n",
       "      <th>ratio_card_withdrawal_total_debit_1m</th>\n",
       "      <th>ratio_mrdc_credit_total_credit_1m</th>\n",
       "      <th>ratio_pd_amt_total_credit_2m</th>\n",
       "      <th>ratio_ach_debit_total_debit_2m</th>\n",
       "      <th>ratio_ach_credit_total_credit_2m</th>\n",
       "      <th>ratio_card_withdrawal_total_debit_2m</th>\n",
       "      <th>ratio_mrdc_credit_total_credit_2m</th>\n",
       "      <th>ratio_pd_freq_total_credit_1m</th>\n",
       "      <th>ratio_ach_debit_freq_total_debit_1m</th>\n",
       "      <th>ratio_ach_credit_freq_total_credit_1m</th>\n",
       "      <th>ratio_card_withdrawal_freq_total_debit_1m</th>\n",
       "      <th>ratio_mrdc_credit_freq_total_credit_1m</th>\n",
       "      <th>ratio_pd_freq_total_credit_2m</th>\n",
       "      <th>ratio_ach_debit_freq_total_debit_2m</th>\n",
       "      <th>ratio_ach_credit_freq_total_credit_2m</th>\n",
       "      <th>ratio_card_withdrawal_freq_total_debit_2m</th>\n",
       "      <th>ratio_mrdc_credit_freq_total_credit_2m</th>\n",
       "      <th>ratio_ach_debit_credit_1m</th>\n",
       "      <th>ratio_ach_debit_credit_2m</th>\n",
       "      <th>ratio_ach_debit_credit_freq_1m</th>\n",
       "      <th>ratio_ach_debit_credit_freq_2m</th>\n",
       "      <th>ach_d_size_1m</th>\n",
       "      <th>ach_d_size_2m</th>\n",
       "      <th>ach_c_size_1m</th>\n",
       "      <th>ach_c_size_2m</th>\n",
       "    </tr>\n",
       "  </thead>\n",
       "  <tbody>\n",
       "    <tr>\n",
       "      <th>0</th>\n",
       "      <td>114457cb-957e-437f-a7ce-bc8ea43bcf5b</td>\n",
       "      <td>2022-07-22</td>\n",
       "      <td>5.0</td>\n",
       "      <td>2.0</td>\n",
       "      <td>5.0</td>\n",
       "      <td>36.0</td>\n",
       "      <td>0.0</td>\n",
       "      <td>6.0</td>\n",
       "      <td>6.0</td>\n",
       "      <td>6.0</td>\n",
       "      <td>42.0</td>\n",
       "      <td>0.0</td>\n",
       "      <td>381.42</td>\n",
       "      <td>153.16</td>\n",
       "      <td>381.42</td>\n",
       "      <td>933.97</td>\n",
       "      <td>0.00</td>\n",
       "      <td>438.77</td>\n",
       "      <td>529.31</td>\n",
       "      <td>438.77</td>\n",
       "      <td>1599.21</td>\n",
       "      <td>0.00</td>\n",
       "      <td>63.570000</td>\n",
       "      <td>51.053333</td>\n",
       "      <td>63.570000</td>\n",
       "      <td>25.242432</td>\n",
       "      <td>0.00000</td>\n",
       "      <td>62.681429</td>\n",
       "      <td>75.615714</td>\n",
       "      <td>62.681429</td>\n",
       "      <td>37.190930</td>\n",
       "      <td>0.000000</td>\n",
       "      <td>781.42</td>\n",
       "      <td>6.0</td>\n",
       "      <td>111.631429</td>\n",
       "      <td>0.0</td>\n",
       "      <td>56.265891</td>\n",
       "      <td>2438.77</td>\n",
       "      <td>8.0</td>\n",
       "      <td>270.974444</td>\n",
       "      <td>0.0</td>\n",
       "      <td>215.688435</td>\n",
       "      <td>1771.96</td>\n",
       "      <td>40.0</td>\n",
       "      <td>43.218537</td>\n",
       "      <td>9.975</td>\n",
       "      <td>78.855042</td>\n",
       "      <td>2813.35</td>\n",
       "      <td>50.0</td>\n",
       "      <td>55.163725</td>\n",
       "      <td>19.04</td>\n",
       "      <td>85.966454</td>\n",
       "      <td>2.264717</td>\n",
       "      <td>5.714286</td>\n",
       "      <td>1.153121</td>\n",
       "      <td>5.555556</td>\n",
       "      <td>0.488111</td>\n",
       "      <td>0.086435</td>\n",
       "      <td>0.488111</td>\n",
       "      <td>0.527083</td>\n",
       "      <td>0.000000</td>\n",
       "      <td>0.179914</td>\n",
       "      <td>0.188142</td>\n",
       "      <td>0.179914</td>\n",
       "      <td>0.568436</td>\n",
       "      <td>0.000000</td>\n",
       "      <td>0.714286</td>\n",
       "      <td>0.048780</td>\n",
       "      <td>0.714286</td>\n",
       "      <td>0.878049</td>\n",
       "      <td>0.000000</td>\n",
       "      <td>0.666667</td>\n",
       "      <td>0.117647</td>\n",
       "      <td>0.666667</td>\n",
       "      <td>0.823529</td>\n",
       "      <td>0.000000</td>\n",
       "      <td>0.400502</td>\n",
       "      <td>1.203606</td>\n",
       "      <td>0.333333</td>\n",
       "      <td>0.857143</td>\n",
       "      <td>51.053333</td>\n",
       "      <td>75.615714</td>\n",
       "      <td>63.570000</td>\n",
       "      <td>62.681429</td>\n",
       "    </tr>\n",
       "    <tr>\n",
       "      <th>1</th>\n",
       "      <td>2a364bf3-30f1-4054-86c2-2d3369f3bb89</td>\n",
       "      <td>2022-08-13</td>\n",
       "      <td>0.0</td>\n",
       "      <td>2.0</td>\n",
       "      <td>22.0</td>\n",
       "      <td>8.0</td>\n",
       "      <td>0.0</td>\n",
       "      <td>0.0</td>\n",
       "      <td>7.0</td>\n",
       "      <td>42.0</td>\n",
       "      <td>24.0</td>\n",
       "      <td>1.0</td>\n",
       "      <td>0.00</td>\n",
       "      <td>1647.84</td>\n",
       "      <td>10916.33</td>\n",
       "      <td>3003.15</td>\n",
       "      <td>0.00</td>\n",
       "      <td>0.00</td>\n",
       "      <td>3493.42</td>\n",
       "      <td>19854.89</td>\n",
       "      <td>22781.80</td>\n",
       "      <td>19000.00</td>\n",
       "      <td>0.000000</td>\n",
       "      <td>549.280000</td>\n",
       "      <td>474.623043</td>\n",
       "      <td>333.683333</td>\n",
       "      <td>0.00000</td>\n",
       "      <td>0.000000</td>\n",
       "      <td>436.677500</td>\n",
       "      <td>461.741628</td>\n",
       "      <td>911.272000</td>\n",
       "      <td>9500.000000</td>\n",
       "      <td>12016.33</td>\n",
       "      <td>23.0</td>\n",
       "      <td>500.680417</td>\n",
       "      <td>0.0</td>\n",
       "      <td>274.331438</td>\n",
       "      <td>41331.53</td>\n",
       "      <td>46.0</td>\n",
       "      <td>879.394255</td>\n",
       "      <td>146.3</td>\n",
       "      <td>2037.006592</td>\n",
       "      <td>5559.32</td>\n",
       "      <td>11.0</td>\n",
       "      <td>463.276667</td>\n",
       "      <td>0.000</td>\n",
       "      <td>235.822204</td>\n",
       "      <td>39091.88</td>\n",
       "      <td>34.0</td>\n",
       "      <td>1116.910857</td>\n",
       "      <td>0.00</td>\n",
       "      <td>1493.834533</td>\n",
       "      <td>0.462609</td>\n",
       "      <td>0.458333</td>\n",
       "      <td>0.945790</td>\n",
       "      <td>0.723404</td>\n",
       "      <td>0.000000</td>\n",
       "      <td>0.296410</td>\n",
       "      <td>0.908458</td>\n",
       "      <td>0.540201</td>\n",
       "      <td>0.000000</td>\n",
       "      <td>0.000000</td>\n",
       "      <td>0.089364</td>\n",
       "      <td>0.480381</td>\n",
       "      <td>0.582776</td>\n",
       "      <td>0.459697</td>\n",
       "      <td>0.000000</td>\n",
       "      <td>0.166667</td>\n",
       "      <td>0.916667</td>\n",
       "      <td>0.666667</td>\n",
       "      <td>0.000000</td>\n",
       "      <td>0.000000</td>\n",
       "      <td>0.200000</td>\n",
       "      <td>0.893617</td>\n",
       "      <td>0.685714</td>\n",
       "      <td>0.021277</td>\n",
       "      <td>0.150938</td>\n",
       "      <td>0.175939</td>\n",
       "      <td>0.086957</td>\n",
       "      <td>0.162791</td>\n",
       "      <td>549.280000</td>\n",
       "      <td>436.677500</td>\n",
       "      <td>474.623043</td>\n",
       "      <td>461.741628</td>\n",
       "    </tr>\n",
       "    <tr>\n",
       "      <th>2</th>\n",
       "      <td>3e48b368-a42f-4358-a0c6-ac86074ece0d</td>\n",
       "      <td>2022-09-11</td>\n",
       "      <td>10.0</td>\n",
       "      <td>6.0</td>\n",
       "      <td>16.0</td>\n",
       "      <td>200.0</td>\n",
       "      <td>7.0</td>\n",
       "      <td>26.0</td>\n",
       "      <td>14.0</td>\n",
       "      <td>32.0</td>\n",
       "      <td>325.0</td>\n",
       "      <td>13.0</td>\n",
       "      <td>1289.28</td>\n",
       "      <td>551.07</td>\n",
       "      <td>3834.68</td>\n",
       "      <td>10150.86</td>\n",
       "      <td>2031.99</td>\n",
       "      <td>4425.61</td>\n",
       "      <td>1572.74</td>\n",
       "      <td>6971.01</td>\n",
       "      <td>14081.24</td>\n",
       "      <td>3463.98</td>\n",
       "      <td>117.207273</td>\n",
       "      <td>78.724286</td>\n",
       "      <td>225.569412</td>\n",
       "      <td>50.501791</td>\n",
       "      <td>253.99875</td>\n",
       "      <td>163.911481</td>\n",
       "      <td>104.849333</td>\n",
       "      <td>211.242727</td>\n",
       "      <td>43.193988</td>\n",
       "      <td>247.427143</td>\n",
       "      <td>12151.86</td>\n",
       "      <td>26.0</td>\n",
       "      <td>450.068889</td>\n",
       "      <td>0.0</td>\n",
       "      <td>180.996127</td>\n",
       "      <td>17123.18</td>\n",
       "      <td>50.0</td>\n",
       "      <td>335.748627</td>\n",
       "      <td>0.0</td>\n",
       "      <td>187.426323</td>\n",
       "      <td>11045.27</td>\n",
       "      <td>208.0</td>\n",
       "      <td>52.848182</td>\n",
       "      <td>0.000</td>\n",
       "      <td>121.423027</td>\n",
       "      <td>17089.82</td>\n",
       "      <td>348.0</td>\n",
       "      <td>48.967966</td>\n",
       "      <td>7.01</td>\n",
       "      <td>129.676306</td>\n",
       "      <td>0.908862</td>\n",
       "      <td>7.703704</td>\n",
       "      <td>0.997993</td>\n",
       "      <td>6.823529</td>\n",
       "      <td>0.106097</td>\n",
       "      <td>0.049892</td>\n",
       "      <td>0.315563</td>\n",
       "      <td>0.919023</td>\n",
       "      <td>0.167216</td>\n",
       "      <td>0.258457</td>\n",
       "      <td>0.092028</td>\n",
       "      <td>0.407110</td>\n",
       "      <td>0.823955</td>\n",
       "      <td>0.202298</td>\n",
       "      <td>0.370370</td>\n",
       "      <td>0.028708</td>\n",
       "      <td>0.592593</td>\n",
       "      <td>0.956938</td>\n",
       "      <td>0.259259</td>\n",
       "      <td>0.509804</td>\n",
       "      <td>0.040115</td>\n",
       "      <td>0.627451</td>\n",
       "      <td>0.931232</td>\n",
       "      <td>0.254902</td>\n",
       "      <td>0.143669</td>\n",
       "      <td>0.225579</td>\n",
       "      <td>0.352941</td>\n",
       "      <td>0.424242</td>\n",
       "      <td>78.724286</td>\n",
       "      <td>104.849333</td>\n",
       "      <td>225.569412</td>\n",
       "      <td>211.242727</td>\n",
       "    </tr>\n",
       "    <tr>\n",
       "      <th>3</th>\n",
       "      <td>3e2d4987-7c57-46d8-aced-ef32b838b5c9</td>\n",
       "      <td>2022-08-08</td>\n",
       "      <td>6.0</td>\n",
       "      <td>4.0</td>\n",
       "      <td>7.0</td>\n",
       "      <td>40.0</td>\n",
       "      <td>0.0</td>\n",
       "      <td>6.0</td>\n",
       "      <td>4.0</td>\n",
       "      <td>8.0</td>\n",
       "      <td>49.0</td>\n",
       "      <td>0.0</td>\n",
       "      <td>1133.32</td>\n",
       "      <td>1189.79</td>\n",
       "      <td>7630.12</td>\n",
       "      <td>5017.43</td>\n",
       "      <td>0.00</td>\n",
       "      <td>1133.32</td>\n",
       "      <td>1189.79</td>\n",
       "      <td>7650.74</td>\n",
       "      <td>5580.72</td>\n",
       "      <td>0.00</td>\n",
       "      <td>161.902857</td>\n",
       "      <td>237.958000</td>\n",
       "      <td>953.765000</td>\n",
       "      <td>122.376341</td>\n",
       "      <td>0.00000</td>\n",
       "      <td>161.902857</td>\n",
       "      <td>237.958000</td>\n",
       "      <td>850.082222</td>\n",
       "      <td>111.614400</td>\n",
       "      <td>0.000000</td>\n",
       "      <td>9981.44</td>\n",
       "      <td>15.0</td>\n",
       "      <td>623.840000</td>\n",
       "      <td>0.0</td>\n",
       "      <td>767.828531</td>\n",
       "      <td>15002.06</td>\n",
       "      <td>18.0</td>\n",
       "      <td>789.582105</td>\n",
       "      <td>0.0</td>\n",
       "      <td>862.912025</td>\n",
       "      <td>12529.79</td>\n",
       "      <td>55.0</td>\n",
       "      <td>223.746250</td>\n",
       "      <td>31.730</td>\n",
       "      <td>277.300641</td>\n",
       "      <td>15449.08</td>\n",
       "      <td>67.0</td>\n",
       "      <td>227.192353</td>\n",
       "      <td>46.01</td>\n",
       "      <td>296.830854</td>\n",
       "      <td>1.255183</td>\n",
       "      <td>3.437500</td>\n",
       "      <td>1.029729</td>\n",
       "      <td>3.526316</td>\n",
       "      <td>0.113543</td>\n",
       "      <td>0.094957</td>\n",
       "      <td>0.764431</td>\n",
       "      <td>0.400440</td>\n",
       "      <td>0.000000</td>\n",
       "      <td>0.075544</td>\n",
       "      <td>0.077014</td>\n",
       "      <td>0.509979</td>\n",
       "      <td>0.361233</td>\n",
       "      <td>0.000000</td>\n",
       "      <td>0.375000</td>\n",
       "      <td>0.071429</td>\n",
       "      <td>0.437500</td>\n",
       "      <td>0.714286</td>\n",
       "      <td>0.000000</td>\n",
       "      <td>0.315789</td>\n",
       "      <td>0.058824</td>\n",
       "      <td>0.421053</td>\n",
       "      <td>0.720588</td>\n",
       "      <td>0.000000</td>\n",
       "      <td>0.155913</td>\n",
       "      <td>0.155493</td>\n",
       "      <td>0.500000</td>\n",
       "      <td>0.444444</td>\n",
       "      <td>237.958000</td>\n",
       "      <td>237.958000</td>\n",
       "      <td>953.765000</td>\n",
       "      <td>850.082222</td>\n",
       "    </tr>\n",
       "    <tr>\n",
       "      <th>4</th>\n",
       "      <td>f75b703a-6831-44ad-9ffd-9d6f8fc6090e</td>\n",
       "      <td>2022-09-06</td>\n",
       "      <td>4.0</td>\n",
       "      <td>1.0</td>\n",
       "      <td>2.0</td>\n",
       "      <td>0.0</td>\n",
       "      <td>0.0</td>\n",
       "      <td>10.0</td>\n",
       "      <td>2.0</td>\n",
       "      <td>5.0</td>\n",
       "      <td>0.0</td>\n",
       "      <td>0.0</td>\n",
       "      <td>28084.95</td>\n",
       "      <td>35.00</td>\n",
       "      <td>18084.95</td>\n",
       "      <td>0.00</td>\n",
       "      <td>0.00</td>\n",
       "      <td>51069.30</td>\n",
       "      <td>845.88</td>\n",
       "      <td>31069.30</td>\n",
       "      <td>0.00</td>\n",
       "      <td>0.00</td>\n",
       "      <td>5616.990000</td>\n",
       "      <td>17.500000</td>\n",
       "      <td>6028.316667</td>\n",
       "      <td>0.000000</td>\n",
       "      <td>0.00000</td>\n",
       "      <td>4642.663636</td>\n",
       "      <td>281.960000</td>\n",
       "      <td>5178.216667</td>\n",
       "      <td>0.000000</td>\n",
       "      <td>0.000000</td>\n",
       "      <td>31941.33</td>\n",
       "      <td>7.0</td>\n",
       "      <td>3992.666250</td>\n",
       "      <td>0.0</td>\n",
       "      <td>1705.431746</td>\n",
       "      <td>54929.18</td>\n",
       "      <td>14.0</td>\n",
       "      <td>3661.945333</td>\n",
       "      <td>0.0</td>\n",
       "      <td>2051.741814</td>\n",
       "      <td>22411.88</td>\n",
       "      <td>20.0</td>\n",
       "      <td>1067.232381</td>\n",
       "      <td>0.000</td>\n",
       "      <td>993.095053</td>\n",
       "      <td>53717.47</td>\n",
       "      <td>42.0</td>\n",
       "      <td>1249.243488</td>\n",
       "      <td>20.00</td>\n",
       "      <td>1372.093191</td>\n",
       "      <td>0.701636</td>\n",
       "      <td>2.500000</td>\n",
       "      <td>0.977923</td>\n",
       "      <td>2.800000</td>\n",
       "      <td>0.879267</td>\n",
       "      <td>0.001562</td>\n",
       "      <td>0.566193</td>\n",
       "      <td>0.000000</td>\n",
       "      <td>0.000000</td>\n",
       "      <td>0.929730</td>\n",
       "      <td>0.015747</td>\n",
       "      <td>0.565625</td>\n",
       "      <td>0.000000</td>\n",
       "      <td>0.000000</td>\n",
       "      <td>0.500000</td>\n",
       "      <td>0.047619</td>\n",
       "      <td>0.250000</td>\n",
       "      <td>0.000000</td>\n",
       "      <td>0.000000</td>\n",
       "      <td>0.666667</td>\n",
       "      <td>0.046512</td>\n",
       "      <td>0.333333</td>\n",
       "      <td>0.000000</td>\n",
       "      <td>0.000000</td>\n",
       "      <td>0.001935</td>\n",
       "      <td>0.027225</td>\n",
       "      <td>0.333333</td>\n",
       "      <td>0.333333</td>\n",
       "      <td>17.500000</td>\n",
       "      <td>281.960000</td>\n",
       "      <td>6028.316667</td>\n",
       "      <td>5178.216667</td>\n",
       "    </tr>\n",
       "  </tbody>\n",
       "</table>\n",
       "</div>"
      ],
      "text/plain": [
       "                            business_id    due_date  count_pd_deposit_1m  \\\n",
       "0  114457cb-957e-437f-a7ce-bc8ea43bcf5b  2022-07-22                  5.0   \n",
       "1  2a364bf3-30f1-4054-86c2-2d3369f3bb89  2022-08-13                  0.0   \n",
       "2  3e48b368-a42f-4358-a0c6-ac86074ece0d  2022-09-11                 10.0   \n",
       "3  3e2d4987-7c57-46d8-aced-ef32b838b5c9  2022-08-08                  6.0   \n",
       "4  f75b703a-6831-44ad-9ffd-9d6f8fc6090e  2022-09-06                  4.0   \n",
       "\n",
       "   count_ach_debit_1m  count_ach_credit_1m  count_card_withdrawal_1m  \\\n",
       "0                 2.0                  5.0                      36.0   \n",
       "1                 2.0                 22.0                       8.0   \n",
       "2                 6.0                 16.0                     200.0   \n",
       "3                 4.0                  7.0                      40.0   \n",
       "4                 1.0                  2.0                       0.0   \n",
       "\n",
       "   count_mrdc_credit_1m  count_pd_deposit_2m  count_ach_debit_2m  \\\n",
       "0                   0.0                  6.0                 6.0   \n",
       "1                   0.0                  0.0                 7.0   \n",
       "2                   7.0                 26.0                14.0   \n",
       "3                   0.0                  6.0                 4.0   \n",
       "4                   0.0                 10.0                 2.0   \n",
       "\n",
       "   count_ach_credit_2m  count_card_withdrawal_2m  count_mrdc_credit_2m  \\\n",
       "0                  6.0                      42.0                   0.0   \n",
       "1                 42.0                      24.0                   1.0   \n",
       "2                 32.0                     325.0                  13.0   \n",
       "3                  8.0                      49.0                   0.0   \n",
       "4                  5.0                       0.0                   0.0   \n",
       "\n",
       "   amount_pd_deposit_1m  amount_ach_debit_1m  amount_ach_credit_1m  \\\n",
       "0                381.42               153.16                381.42   \n",
       "1                  0.00              1647.84              10916.33   \n",
       "2               1289.28               551.07               3834.68   \n",
       "3               1133.32              1189.79               7630.12   \n",
       "4              28084.95                35.00              18084.95   \n",
       "\n",
       "   amount_card_withdrawal_1m  amount_mrdc_credit_1m  amount_pd_deposit_2m  \\\n",
       "0                     933.97                   0.00                438.77   \n",
       "1                    3003.15                   0.00                  0.00   \n",
       "2                   10150.86                2031.99               4425.61   \n",
       "3                    5017.43                   0.00               1133.32   \n",
       "4                       0.00                   0.00              51069.30   \n",
       "\n",
       "   amount_ach_debit_2m  amount_ach_credit_2m  amount_card_withdrawal_2m  \\\n",
       "0               529.31                438.77                    1599.21   \n",
       "1              3493.42              19854.89                   22781.80   \n",
       "2              1572.74               6971.01                   14081.24   \n",
       "3              1189.79               7650.74                    5580.72   \n",
       "4               845.88              31069.30                       0.00   \n",
       "\n",
       "   amount_mrdc_credit_2m  pd_deposit_size_1m  ach_debit_size_1m  \\\n",
       "0                   0.00           63.570000          51.053333   \n",
       "1               19000.00            0.000000         549.280000   \n",
       "2                3463.98          117.207273          78.724286   \n",
       "3                   0.00          161.902857         237.958000   \n",
       "4                   0.00         5616.990000          17.500000   \n",
       "\n",
       "   ach_credit_size_1m  card_withdrawal_size_1m  mrdc_credit_size_1m  \\\n",
       "0           63.570000                25.242432              0.00000   \n",
       "1          474.623043               333.683333              0.00000   \n",
       "2          225.569412                50.501791            253.99875   \n",
       "3          953.765000               122.376341              0.00000   \n",
       "4         6028.316667                 0.000000              0.00000   \n",
       "\n",
       "   pd_deposit_size_2m  ach_debit_size_2m  ach_credit_size_2m  \\\n",
       "0           62.681429          75.615714           62.681429   \n",
       "1            0.000000         436.677500          461.741628   \n",
       "2          163.911481         104.849333          211.242727   \n",
       "3          161.902857         237.958000          850.082222   \n",
       "4         4642.663636         281.960000         5178.216667   \n",
       "\n",
       "   card_withdrawal_size_2m  mrdc_credit_size_2m  amount_credited_1m  \\\n",
       "0                37.190930             0.000000              781.42   \n",
       "1               911.272000          9500.000000            12016.33   \n",
       "2                43.193988           247.427143            12151.86   \n",
       "3               111.614400             0.000000             9981.44   \n",
       "4                 0.000000             0.000000            31941.33   \n",
       "\n",
       "   distinct_credit_txns_1m  credit_size_1m  median_amount_credited_1m  \\\n",
       "0                      6.0      111.631429                        0.0   \n",
       "1                     23.0      500.680417                        0.0   \n",
       "2                     26.0      450.068889                        0.0   \n",
       "3                     15.0      623.840000                        0.0   \n",
       "4                      7.0     3992.666250                        0.0   \n",
       "\n",
       "   stddev_amount_credited_1m  amount_credited_2m  distinct_credit_txns_2m  \\\n",
       "0                  56.265891             2438.77                      8.0   \n",
       "1                 274.331438            41331.53                     46.0   \n",
       "2                 180.996127            17123.18                     50.0   \n",
       "3                 767.828531            15002.06                     18.0   \n",
       "4                1705.431746            54929.18                     14.0   \n",
       "\n",
       "   credit_size_2m  median_amount_credited_2m  stddev_amount_credited_2m  \\\n",
       "0      270.974444                        0.0                 215.688435   \n",
       "1      879.394255                      146.3                2037.006592   \n",
       "2      335.748627                        0.0                 187.426323   \n",
       "3      789.582105                        0.0                 862.912025   \n",
       "4     3661.945333                        0.0                2051.741814   \n",
       "\n",
       "   amount_debited_1m  distinct_debit_txns_1m  debit_size_1m  \\\n",
       "0            1771.96                    40.0      43.218537   \n",
       "1            5559.32                    11.0     463.276667   \n",
       "2           11045.27                   208.0      52.848182   \n",
       "3           12529.79                    55.0     223.746250   \n",
       "4           22411.88                    20.0    1067.232381   \n",
       "\n",
       "   median_amount_debited_1m  stddev_amount_debited_1m  amount_debited_2m  \\\n",
       "0                     9.975                 78.855042            2813.35   \n",
       "1                     0.000                235.822204           39091.88   \n",
       "2                     0.000                121.423027           17089.82   \n",
       "3                    31.730                277.300641           15449.08   \n",
       "4                     0.000                993.095053           53717.47   \n",
       "\n",
       "   distinct_debit_txns_2m  debit_size_2m  median_amount_debited_2m  \\\n",
       "0                    50.0      55.163725                     19.04   \n",
       "1                    34.0    1116.910857                      0.00   \n",
       "2                   348.0      48.967966                      7.01   \n",
       "3                    67.0     227.192353                     46.01   \n",
       "4                    42.0    1249.243488                     20.00   \n",
       "\n",
       "   stddev_amount_debited_2m  ratio_debit_credit_1m  \\\n",
       "0                 85.966454               2.264717   \n",
       "1               1493.834533               0.462609   \n",
       "2                129.676306               0.908862   \n",
       "3                296.830854               1.255183   \n",
       "4               1372.093191               0.701636   \n",
       "\n",
       "   ratio_debit_credit_frequency_1m  ratio_debit_credit_2m  \\\n",
       "0                         5.714286               1.153121   \n",
       "1                         0.458333               0.945790   \n",
       "2                         7.703704               0.997993   \n",
       "3                         3.437500               1.029729   \n",
       "4                         2.500000               0.977923   \n",
       "\n",
       "   ratio_debit_credit_frequency_2m  ratio_pd_amt_total_credit_1m  \\\n",
       "0                         5.555556                      0.488111   \n",
       "1                         0.723404                      0.000000   \n",
       "2                         6.823529                      0.106097   \n",
       "3                         3.526316                      0.113543   \n",
       "4                         2.800000                      0.879267   \n",
       "\n",
       "   ratio_ach_debit_total_debit_1m  ratio_ach_credit_total_credit_1m  \\\n",
       "0                        0.086435                          0.488111   \n",
       "1                        0.296410                          0.908458   \n",
       "2                        0.049892                          0.315563   \n",
       "3                        0.094957                          0.764431   \n",
       "4                        0.001562                          0.566193   \n",
       "\n",
       "   ratio_card_withdrawal_total_debit_1m  ratio_mrdc_credit_total_credit_1m  \\\n",
       "0                              0.527083                           0.000000   \n",
       "1                              0.540201                           0.000000   \n",
       "2                              0.919023                           0.167216   \n",
       "3                              0.400440                           0.000000   \n",
       "4                              0.000000                           0.000000   \n",
       "\n",
       "   ratio_pd_amt_total_credit_2m  ratio_ach_debit_total_debit_2m  \\\n",
       "0                      0.179914                        0.188142   \n",
       "1                      0.000000                        0.089364   \n",
       "2                      0.258457                        0.092028   \n",
       "3                      0.075544                        0.077014   \n",
       "4                      0.929730                        0.015747   \n",
       "\n",
       "   ratio_ach_credit_total_credit_2m  ratio_card_withdrawal_total_debit_2m  \\\n",
       "0                          0.179914                              0.568436   \n",
       "1                          0.480381                              0.582776   \n",
       "2                          0.407110                              0.823955   \n",
       "3                          0.509979                              0.361233   \n",
       "4                          0.565625                              0.000000   \n",
       "\n",
       "   ratio_mrdc_credit_total_credit_2m  ratio_pd_freq_total_credit_1m  \\\n",
       "0                           0.000000                       0.714286   \n",
       "1                           0.459697                       0.000000   \n",
       "2                           0.202298                       0.370370   \n",
       "3                           0.000000                       0.375000   \n",
       "4                           0.000000                       0.500000   \n",
       "\n",
       "   ratio_ach_debit_freq_total_debit_1m  ratio_ach_credit_freq_total_credit_1m  \\\n",
       "0                             0.048780                               0.714286   \n",
       "1                             0.166667                               0.916667   \n",
       "2                             0.028708                               0.592593   \n",
       "3                             0.071429                               0.437500   \n",
       "4                             0.047619                               0.250000   \n",
       "\n",
       "   ratio_card_withdrawal_freq_total_debit_1m  \\\n",
       "0                                   0.878049   \n",
       "1                                   0.666667   \n",
       "2                                   0.956938   \n",
       "3                                   0.714286   \n",
       "4                                   0.000000   \n",
       "\n",
       "   ratio_mrdc_credit_freq_total_credit_1m  ratio_pd_freq_total_credit_2m  \\\n",
       "0                                0.000000                       0.666667   \n",
       "1                                0.000000                       0.000000   \n",
       "2                                0.259259                       0.509804   \n",
       "3                                0.000000                       0.315789   \n",
       "4                                0.000000                       0.666667   \n",
       "\n",
       "   ratio_ach_debit_freq_total_debit_2m  ratio_ach_credit_freq_total_credit_2m  \\\n",
       "0                             0.117647                               0.666667   \n",
       "1                             0.200000                               0.893617   \n",
       "2                             0.040115                               0.627451   \n",
       "3                             0.058824                               0.421053   \n",
       "4                             0.046512                               0.333333   \n",
       "\n",
       "   ratio_card_withdrawal_freq_total_debit_2m  \\\n",
       "0                                   0.823529   \n",
       "1                                   0.685714   \n",
       "2                                   0.931232   \n",
       "3                                   0.720588   \n",
       "4                                   0.000000   \n",
       "\n",
       "   ratio_mrdc_credit_freq_total_credit_2m  ratio_ach_debit_credit_1m  \\\n",
       "0                                0.000000                   0.400502   \n",
       "1                                0.021277                   0.150938   \n",
       "2                                0.254902                   0.143669   \n",
       "3                                0.000000                   0.155913   \n",
       "4                                0.000000                   0.001935   \n",
       "\n",
       "   ratio_ach_debit_credit_2m  ratio_ach_debit_credit_freq_1m  \\\n",
       "0                   1.203606                        0.333333   \n",
       "1                   0.175939                        0.086957   \n",
       "2                   0.225579                        0.352941   \n",
       "3                   0.155493                        0.500000   \n",
       "4                   0.027225                        0.333333   \n",
       "\n",
       "   ratio_ach_debit_credit_freq_2m  ach_d_size_1m  ach_d_size_2m  \\\n",
       "0                        0.857143      51.053333      75.615714   \n",
       "1                        0.162791     549.280000     436.677500   \n",
       "2                        0.424242      78.724286     104.849333   \n",
       "3                        0.444444     237.958000     237.958000   \n",
       "4                        0.333333      17.500000     281.960000   \n",
       "\n",
       "   ach_c_size_1m  ach_c_size_2m  \n",
       "0      63.570000      62.681429  \n",
       "1     474.623043     461.741628  \n",
       "2     225.569412     211.242727  \n",
       "3     953.765000     850.082222  \n",
       "4    6028.316667    5178.216667  "
      ]
     },
     "execution_count": 7,
     "metadata": {},
     "output_type": "execute_result"
    }
   ],
   "source": [
    "txn_df.head()"
   ]
  },
  {
   "cell_type": "code",
   "execution_count": 8,
   "metadata": {},
   "outputs": [
    {
     "data": {
      "text/plain": [
       "(4997, 84)"
      ]
     },
     "execution_count": 8,
     "metadata": {},
     "output_type": "execute_result"
    }
   ],
   "source": [
    "txn_df.shape"
   ]
  },
  {
   "cell_type": "code",
   "execution_count": 9,
   "metadata": {},
   "outputs": [],
   "source": [
    "rb_df = querySno(r\"\"\"\n",
    "with txns_post_lending as (\n",
    "select  pay.business_id, pay.due_date, t.transaction_date,pay.min_created_at, amount, type, t.status, running_balance, \n",
    "datediff(day, pay.min_created_at, TRANSACTION_DATE) AS daySinceLoanTaken,\n",
    "datediff(day, TRANSACTION_DATE, pay.due_date) AS daysFromDueDate\n",
    "FROM (select distinct business_id, due_date, min(dateadd(month,-1,due_date)) over(partition by business_id) as min_created_at from PROD_DB.ADHOC.LENDING_DPD_DATA_PILOT_GA) pay\n",
    "left join \"FIVETRAN_DB\".\"PROD_NOVO_API_PUBLIC\".\"LENDING_BUSINESSES\" biz on pay.business_id = biz.business_id\n",
    "-- left join (select lending_business_id, min(created_at) as min_created_at from \"FIVETRAN_DB\".\"PROD_NOVO_API_PUBLIC\".\"LENDING_PAYMENT_SCHEDULES\" group by 1) p \n",
    "-- on biz.id = p.id\n",
    "left join FIVETRAN_DB.PROD_NOVO_API_PUBLIC.\"TRANSACTIONS\" t on t.business_id = pay.business_id\n",
    "where t.status = 'active'  AND  daySinceLoanTaken <=180 AND daySinceLoanTaken > 0 and daysFromDueDate > 0\n",
    "-- and pay.lending_business_id = 'cf6d8b20-574f-4362-b1f5-274bb2231c05'\n",
    "order by due_date\n",
    ")\n",
    ",cal_dates_1 AS (\n",
    "\t\t\tSELECT DATEADD(DAY, SEQ4(), '2021-06-01') AS CAL_DATE\n",
    "\t\t\t FROM TABLE(GENERATOR(ROWCOUNT=>960)) \n",
    "\t\t\t ORDER BY CAL_DATE DESC),\n",
    "biz_dates_1 AS (\n",
    "\t\t\tSELECT a.BUSINESS_ID, MIN(a.transaction_date) AS FIRST_TXN_DATE\n",
    "\t\t\tfrom FIVETRAN_DB.PROD_NOVO_API_PUBLIC.\"TRANSACTIONS\"  a \n",
    "\t\t\tGROUP BY a.BUSINESS_ID),\n",
    "PILOT_BIZ_DATES_TEMP AS (\n",
    "\t\tSELECT *\n",
    "\t\tFROM  cal_dates_1 A LEFT JOIN\n",
    "\t\tbiz_dates_1 B ON\n",
    "\t\tdate(A.CAL_DATE) >= date(B.FIRST_TXN_DATE)\n",
    "\t\tORDER BY CAL_DATE ASC)\n",
    ",PILOT_BIZ_TXN_TEMP AS (\n",
    "\t\tSELECT   Business_id ,TRANSACTION_DATE,running_balance\n",
    "\t\tFROM\n",
    "\t\t        (SELECT *, RANK () OVER (PARTITION BY BUSINESS_ID,TRANSACTION_DATE ORDER BY TRANSACTION_DATE DESC) RANKS\n",
    "\t\t         FROM FIVETRAN_DB.PROD_NOVO_API_PUBLIC.\"TRANSACTIONS\" \n",
    "                 where 1=1\n",
    "                 and status='active'\n",
    "\t\t         )\n",
    "\t\tWHERE RANKS=1\n",
    "\t\torder by Business_id, TRANSACTION_DATE)\n",
    ",PILOT_DAILY_BALANCES_1  AS (\n",
    "\t\tSELECT BUSINESS_ID,FIRST_TXN_DATE, CAL_DATE,TRANSACTION_DATE,RUNNING_BALANCE,\n",
    "\t\tfirst_value(RUNNING_BALANCE) OVER (PARTITION BY BUSINESS_ID,GROUPER ORDER BY cal_date asc, TRANSACTION_DATE desc, RUNNING_BALANCE asc nulls last) as RUNNING_BALANCE_2\n",
    "\t\tFROM (\n",
    "\t\tSELECT A.BUSINESS_ID,A.CAL_DATE,A.FIRST_TXN_DATE,\n",
    "\t\t        B.TRANSACTION_DATE,B.RUNNING_BALANCE,\n",
    "\t\t         COUNT(running_balance) OVER (PARTITION BY a.BUSINESS_ID ORDER BY cal_date asc) as grouper\n",
    "\t\t        FROM PILOT_BIZ_DATES_TEMP A LEFT JOIN\n",
    "\t\t        PILOT_BIZ_TXN_TEMP B ON\n",
    "\t\t        A.BUSINESS_ID=B.BUSINESS_ID AND\n",
    "\t\t        date(A.CAL_DATE)= date(B.TRANSACTION_DATE)\n",
    "\t\t        ORDER BY A.CAL_DATE ASC)\n",
    "\t\tORDER BY BUSINESS_ID,CAL_DATE)\n",
    ",final_daily_running_balance AS (\n",
    "\t\t SELECT distinct a.business_id, b.due_date, datediff(day, a.cal_date, b.due_date) as daysFromDueDate, cal_date, running_balance_2 AS running_balance_daily\n",
    "\t\t           FROM  PILOT_DAILY_BALANCES_1  a join txns_post_lending b \n",
    "\t\t           on a.business_id = b.business_id\n",
    "\t\t          WHERE daysFromDueDate > 0 AND daysFromDueDate <= 180\n",
    "\t\tORDER BY a.business_id, daysFromDueDate)\n",
    ",oneMonth_rb AS (\t\n",
    "\t\t\t\tSELECT business_id, due_date, min(cal_date) as min_txn_date_1mo_rb, max(cal_date) as max_txn_date_1mo_rb,\n",
    "\t\t\t\t               sum(CASE WHEN running_balance_daily < 0 THEN  1 ELSE 0 end) AS od_count_1m, \n",
    "\t\t\t\t               sum(CASE WHEN running_balance_daily = 0 THEN  1 ELSE 0 end) AS zero_balance_count_1m,\n",
    "\t\t\t\t               AVG(running_balance_daily) as Avg_running_balance_1m,\n",
    "  \t\t\t\t\t\t\t   Median(running_balance_daily) as Median_running_balance_1m,\n",
    "\t\t\t\t\t\t\t   STDDEV(running_balance_daily) as STDDEV_running_balance_1m\n",
    "\t\t\t\tFROM final_daily_running_balance\n",
    "\t\t\t\tWHERE daysFromDueDate <=30\n",
    "\t\t\t\tGROUP BY 1,2)\n",
    ",twoMonth_rb AS (\t\n",
    "\t\t\t\tSELECT business_id, due_date, min(cal_date) as min_txn_date_2mo_rb, max(cal_date) as max_txn_date_2mo_rb,\n",
    "\t\t\t\t               sum(CASE WHEN running_balance_daily < 0 THEN  1 ELSE 0 end) AS od_count_2m, \n",
    "\t\t\t\t               sum(CASE WHEN running_balance_daily = 0 THEN  1 ELSE 0 end) AS zero_balance_count_2m,\n",
    "\t\t\t\t               AVG(running_balance_daily) as Avg_running_balance_2m,\n",
    "  \t\t\t\t\t\t\t   Median(running_balance_daily) as Median_running_balance_2m,\n",
    "\t\t\t\t\t\t\t   STDDEV(running_balance_daily) as STDDEV_running_balance_2m\n",
    "\t\t\t\tFROM final_daily_running_balance\n",
    "\t\t\t\tWHERE daysFromDueDate <=60\n",
    "\t\t\t\tGROUP BY 1,2)\n",
    "\t\t\t\t\n",
    ",second_last_month_rb as (\t\n",
    "\t\t\t\tSELECT business_id, due_date, \n",
    "\t\t\t\t               AVG(running_balance_daily) as Avg_running_balance_2nd_m,\n",
    "  \t\t\t\t\t\t\t   Median(running_balance_daily) as Median_running_balance_2nd_m,\n",
    "\t\t\t\t\t\t\t   STDDEV(running_balance_daily) as STDDEV_running_balance_2nd_m\n",
    "\t\t\t\tFROM final_daily_running_balance\n",
    "\t\t\t\tWHERE daysFromDueDate <=60 and daysFromDueDate > 30\n",
    "\t\t\t\tGROUP BY 1,2)\n",
    "-- select count(*) from (\n",
    "select a.business_id, a.due_date, od_count_1m, zero_balance_count_1m, Avg_running_balance_1m, Median_running_balance_1m, STDDEV_running_balance_1m,\n",
    "od_count_2m, zero_balance_count_2m, Avg_running_balance_2m, Median_running_balance_2m, STDDEV_running_balance_2m, Avg_running_balance_2nd_m, Median_running_balance_2nd_m, STDDEV_running_balance_2nd_m,\n",
    "Avg_running_balance_1m/(Avg_running_balance_2nd_m + 1) as ratio_avg_running_balance_1M_2M\n",
    "from oneMonth_rb a left join twoMonth_rb b on a.business_id = b.business_id and a.due_date = b.due_date\n",
    "left join second_last_month_rb c on a.business_id = c.business_id and a.due_date = c.due_date\n",
    "-- )\n",
    "\"\"\"\n",
    ")"
   ]
  },
  {
   "cell_type": "code",
   "execution_count": 10,
   "metadata": {},
   "outputs": [
    {
     "data": {
      "text/html": [
       "<div>\n",
       "<style scoped>\n",
       "    .dataframe tbody tr th:only-of-type {\n",
       "        vertical-align: middle;\n",
       "    }\n",
       "\n",
       "    .dataframe tbody tr th {\n",
       "        vertical-align: top;\n",
       "    }\n",
       "\n",
       "    .dataframe thead th {\n",
       "        text-align: right;\n",
       "    }\n",
       "</style>\n",
       "<table border=\"1\" class=\"dataframe\">\n",
       "  <thead>\n",
       "    <tr style=\"text-align: right;\">\n",
       "      <th></th>\n",
       "      <th>business_id</th>\n",
       "      <th>due_date</th>\n",
       "      <th>od_count_1m</th>\n",
       "      <th>zero_balance_count_1m</th>\n",
       "      <th>avg_running_balance_1m</th>\n",
       "      <th>median_running_balance_1m</th>\n",
       "      <th>stddev_running_balance_1m</th>\n",
       "      <th>od_count_2m</th>\n",
       "      <th>zero_balance_count_2m</th>\n",
       "      <th>avg_running_balance_2m</th>\n",
       "      <th>median_running_balance_2m</th>\n",
       "      <th>stddev_running_balance_2m</th>\n",
       "      <th>avg_running_balance_2nd_m</th>\n",
       "      <th>median_running_balance_2nd_m</th>\n",
       "      <th>stddev_running_balance_2nd_m</th>\n",
       "      <th>ratio_avg_running_balance_1m_2m</th>\n",
       "    </tr>\n",
       "  </thead>\n",
       "  <tbody>\n",
       "    <tr>\n",
       "      <th>0</th>\n",
       "      <td>ad83cb39-0e5c-4e2e-b4c8-320a98010b3c</td>\n",
       "      <td>2022-11-01</td>\n",
       "      <td>25</td>\n",
       "      <td>22</td>\n",
       "      <td>308.321292</td>\n",
       "      <td>64.77</td>\n",
       "      <td>705.669042</td>\n",
       "      <td>25</td>\n",
       "      <td>22</td>\n",
       "      <td>347.474303</td>\n",
       "      <td>64.77</td>\n",
       "      <td>775.249045</td>\n",
       "      <td>963.481667</td>\n",
       "      <td>375.780</td>\n",
       "      <td>1370.322649</td>\n",
       "      <td>0.319676</td>\n",
       "    </tr>\n",
       "    <tr>\n",
       "      <th>1</th>\n",
       "      <td>1eb68c4c-ac56-4c38-97b9-6686accb5f34</td>\n",
       "      <td>2023-03-23</td>\n",
       "      <td>0</td>\n",
       "      <td>0</td>\n",
       "      <td>10492.407848</td>\n",
       "      <td>9833.71</td>\n",
       "      <td>1594.991972</td>\n",
       "      <td>0</td>\n",
       "      <td>0</td>\n",
       "      <td>10854.589028</td>\n",
       "      <td>9833.71</td>\n",
       "      <td>1964.289303</td>\n",
       "      <td>14838.582000</td>\n",
       "      <td>14459.625</td>\n",
       "      <td>995.639406</td>\n",
       "      <td>0.707055</td>\n",
       "    </tr>\n",
       "    <tr>\n",
       "      <th>2</th>\n",
       "      <td>2253a00b-c479-460d-b4b9-26110517a2e7</td>\n",
       "      <td>2023-03-27</td>\n",
       "      <td>0</td>\n",
       "      <td>0</td>\n",
       "      <td>993.017883</td>\n",
       "      <td>1102.08</td>\n",
       "      <td>271.081306</td>\n",
       "      <td>0</td>\n",
       "      <td>0</td>\n",
       "      <td>956.153343</td>\n",
       "      <td>1102.08</td>\n",
       "      <td>301.784880</td>\n",
       "      <td>555.558667</td>\n",
       "      <td>456.030</td>\n",
       "      <td>331.732458</td>\n",
       "      <td>1.784211</td>\n",
       "    </tr>\n",
       "    <tr>\n",
       "      <th>3</th>\n",
       "      <td>a9a77d6b-cbd2-4ee3-9d97-3ba57aea0f4c</td>\n",
       "      <td>2023-03-18</td>\n",
       "      <td>0</td>\n",
       "      <td>0</td>\n",
       "      <td>8769.878060</td>\n",
       "      <td>8633.97</td>\n",
       "      <td>697.363743</td>\n",
       "      <td>0</td>\n",
       "      <td>0</td>\n",
       "      <td>8639.283589</td>\n",
       "      <td>8633.97</td>\n",
       "      <td>819.168762</td>\n",
       "      <td>7180.978667</td>\n",
       "      <td>7219.670</td>\n",
       "      <td>651.656621</td>\n",
       "      <td>1.221095</td>\n",
       "    </tr>\n",
       "    <tr>\n",
       "      <th>4</th>\n",
       "      <td>ff34ba0d-908c-4a5e-bc07-1f67c30925db</td>\n",
       "      <td>2023-03-31</td>\n",
       "      <td>0</td>\n",
       "      <td>0</td>\n",
       "      <td>1166.306242</td>\n",
       "      <td>730.91</td>\n",
       "      <td>1068.222187</td>\n",
       "      <td>0</td>\n",
       "      <td>0</td>\n",
       "      <td>1485.272869</td>\n",
       "      <td>730.91</td>\n",
       "      <td>1536.093006</td>\n",
       "      <td>4908.848000</td>\n",
       "      <td>5368.075</td>\n",
       "      <td>1635.113988</td>\n",
       "      <td>0.237544</td>\n",
       "    </tr>\n",
       "  </tbody>\n",
       "</table>\n",
       "</div>"
      ],
      "text/plain": [
       "                            business_id    due_date  od_count_1m  \\\n",
       "0  ad83cb39-0e5c-4e2e-b4c8-320a98010b3c  2022-11-01           25   \n",
       "1  1eb68c4c-ac56-4c38-97b9-6686accb5f34  2023-03-23            0   \n",
       "2  2253a00b-c479-460d-b4b9-26110517a2e7  2023-03-27            0   \n",
       "3  a9a77d6b-cbd2-4ee3-9d97-3ba57aea0f4c  2023-03-18            0   \n",
       "4  ff34ba0d-908c-4a5e-bc07-1f67c30925db  2023-03-31            0   \n",
       "\n",
       "   zero_balance_count_1m  avg_running_balance_1m  median_running_balance_1m  \\\n",
       "0                     22              308.321292                      64.77   \n",
       "1                      0            10492.407848                    9833.71   \n",
       "2                      0              993.017883                    1102.08   \n",
       "3                      0             8769.878060                    8633.97   \n",
       "4                      0             1166.306242                     730.91   \n",
       "\n",
       "   stddev_running_balance_1m  od_count_2m  zero_balance_count_2m  \\\n",
       "0                 705.669042           25                     22   \n",
       "1                1594.991972            0                      0   \n",
       "2                 271.081306            0                      0   \n",
       "3                 697.363743            0                      0   \n",
       "4                1068.222187            0                      0   \n",
       "\n",
       "   avg_running_balance_2m  median_running_balance_2m  \\\n",
       "0              347.474303                      64.77   \n",
       "1            10854.589028                    9833.71   \n",
       "2              956.153343                    1102.08   \n",
       "3             8639.283589                    8633.97   \n",
       "4             1485.272869                     730.91   \n",
       "\n",
       "   stddev_running_balance_2m  avg_running_balance_2nd_m  \\\n",
       "0                 775.249045                 963.481667   \n",
       "1                1964.289303               14838.582000   \n",
       "2                 301.784880                 555.558667   \n",
       "3                 819.168762                7180.978667   \n",
       "4                1536.093006                4908.848000   \n",
       "\n",
       "   median_running_balance_2nd_m  stddev_running_balance_2nd_m  \\\n",
       "0                       375.780                   1370.322649   \n",
       "1                     14459.625                    995.639406   \n",
       "2                       456.030                    331.732458   \n",
       "3                      7219.670                    651.656621   \n",
       "4                      5368.075                   1635.113988   \n",
       "\n",
       "   ratio_avg_running_balance_1m_2m  \n",
       "0                         0.319676  \n",
       "1                         0.707055  \n",
       "2                         1.784211  \n",
       "3                         1.221095  \n",
       "4                         0.237544  "
      ]
     },
     "execution_count": 10,
     "metadata": {},
     "output_type": "execute_result"
    }
   ],
   "source": [
    "rb_df.head()"
   ]
  },
  {
   "cell_type": "code",
   "execution_count": 11,
   "metadata": {},
   "outputs": [
    {
     "data": {
      "text/plain": [
       "(4994, 16)"
      ]
     },
     "execution_count": 11,
     "metadata": {},
     "output_type": "execute_result"
    }
   ],
   "source": [
    "rb_df.shape"
   ]
  },
  {
   "cell_type": "code",
   "execution_count": 12,
   "metadata": {},
   "outputs": [],
   "source": [
    "mom_df = querySno(r\"\"\"\n",
    "select * from \n",
    "(\n",
    "select business_id, due_date, credit_limit, avg(amount_drawn_1m_prev)amount_drawn_1m_prev, avg(amount_drawn_2m_prev)amount_drawn_2m_prev, avg(amount_cashin_1m_prev)amount_cashin_1m_prev, \n",
    "avg(amount_cashin_2m_prev)amount_cashin_2m_prev, avg(distinct_draws_1m_prev)distinct_draws_1m_prev, avg(distinct_draws_2m_prev)distinct_draws_2m_prev, avg(distinct_cashins_1m_prev)distinct_cashins_1m_prev, avg(distinct_cashins_2m_prev)distinct_cashins_2m_prev,\n",
    "avg(ratio_amt_drawn_mom)ratio_amt_drawn_mom, avg(ratio_amt_cashin_mom)ratio_amt_cashin_mom, avg(ratio_count_drawn_mom)ratio_count_drawn_mom, avg(ratio_count_cashin_mom)ratio_count_cashin_mom\n",
    "from (\n",
    "select b.lending_business_id,a.business_id, due_date,b.created_at,credit_limit/100 as credit_limit , datediff(month, b.created_at, due_date) as txn_month, b.amount, type,\n",
    "sum(case when txn_month = 0 and type = 'draw' then amount/100 else 0 end) over(partition by b.lending_business_id, due_date) as amount_drawn_1m_prev,\n",
    "sum(case when txn_month = 1 and type = 'draw' then amount/100 else 0 end) over(partition by b.lending_business_id, due_date) as amount_drawn_2m_prev,\n",
    "sum(case when txn_month = 0 and type = 'cash_in' then amount/100 else 0 end) over(partition by b.lending_business_id, due_date) as amount_cashin_1m_prev,\n",
    "sum(case when txn_month = 1 and type = 'cash_in' then amount/100 else 0 end) over(partition by b.lending_business_id, due_date) as amount_cashin_2m_prev,\n",
    "\n",
    "count(distinct case when txn_month = 0 and type = 'draw' then trace_number end) over(partition by b.lending_business_id, due_date) as distinct_draws_1m_prev,\n",
    "count(distinct case when txn_month = 1 and type = 'draw' then trace_number end) over(partition by b.lending_business_id, due_date) as distinct_draws_2m_prev,\n",
    "count(distinct case when txn_month = 0 and type = 'cash_in' then trace_number end) over(partition by b.lending_business_id, due_date) as distinct_cashins_1m_prev,\n",
    "count(distinct case when txn_month = 1 and type = 'cash_in' then trace_number end) over(partition by b.lending_business_id, due_date) as distinct_cashins_2m_prev,\n",
    "\n",
    "amount_drawn_1m_prev/(amount_drawn_2m_prev + 1) as ratio_amt_drawn_mom, \n",
    "amount_cashin_1m_prev/(amount_cashin_2m_prev + 1) as ratio_amt_cashin_mom, \n",
    "distinct_draws_1m_prev/(distinct_draws_2m_prev + 1) as ratio_count_drawn_mom, \n",
    "distinct_cashins_1m_prev/(distinct_cashins_2m_prev + 1) as ratio_count_cashin_mom\n",
    "\n",
    "from \"FIVETRAN_DB\".\"PROD_NOVO_API_PUBLIC\".\"LENDING_TRANSACTIONS\" b \n",
    "join \n",
    "(select distinct business_id, due_date from PROD_DB.ADHOC.LENDING_DPD_DATA_PILOT_GA) a\n",
    "on a.business_id = b.business_id\n",
    "left join \"FIVETRAN_DB\".\"PROD_NOVO_API_PUBLIC\".\"LENDING_BUSINESSES\" c on b.lending_business_id = c.id\n",
    "where txn_month >= 0 and txn_month <2\n",
    "-- and b.lending_business_id = '005da9f7-5939-4d37-bac8-4956a2a9e419'\n",
    "order by due_date\n",
    ")\n",
    "group by 1,2,3\n",
    "order by 1,2,3\n",
    ")\n",
    "\n",
    "UNION\n",
    "\n",
    "(\n",
    "select business_id, due_date, credit_limit, avg(amount_drawn_1m_prev)amount_drawn_1m_prev, avg(amount_drawn_2m_prev)amount_drawn_2m_prev, avg(amount_cashin_1m_prev)amount_cashin_1m_prev, \n",
    "avg(amount_cashin_2m_prev)amount_cashin_2m_prev, avg(distinct_draws_1m_prev)distinct_draws_1m_prev, avg(distinct_draws_2m_prev)distinct_draws_2m_prev, avg(distinct_cashins_1m_prev)distinct_cashins_1m_prev, avg(distinct_cashins_2m_prev)distinct_cashins_2m_prev,\n",
    "avg(ratio_amt_drawn_mom)ratio_amt_drawn_mom, avg(ratio_amt_cashin_mom)ratio_amt_cashin_mom, avg(ratio_count_drawn_mom)ratio_count_drawn_mom, avg(ratio_count_cashin_mom)ratio_count_cashin_mom\n",
    "from (\n",
    "select p.business_id, b.due_date,a.created_at,p.credit_limit , datediff(month, t.transaction_date, b.due_date) as txn_month, t.amount, a.action_type,\n",
    "sum(case when txn_month = 0 and action_type = 'DRAW' then t.amount else 0 end) over(partition by b.business_id, b.due_date) as amount_drawn_1m_prev,\n",
    "sum(case when txn_month = 1 and action_type = 'DRAW' then t.amount else 0 end) over(partition by b.business_id, b.due_date) as amount_drawn_2m_prev,\n",
    "sum(case when txn_month = 0 and action_type = 'CASHIN' then -t.amount else 0 end) over(partition by b.business_id, b.due_date) as amount_cashin_1m_prev,\n",
    "sum(case when txn_month = 1 and action_type = 'CASHIN' then -t.amount else 0 end) over(partition by b.business_id, b.due_date) as amount_cashin_2m_prev,\n",
    "\n",
    "count(distinct case when txn_month = 0 and action_type = 'DRAW' then a.transaction_id end) over(partition by b.business_id, b.due_date) as distinct_draws_1m_prev,\n",
    "count(distinct case when txn_month = 1 and action_type = 'DRAW' then a.transaction_id end) over(partition by b.business_id, b.due_date) as distinct_draws_2m_prev,\n",
    "count(distinct case when txn_month = 0 and action_type = 'CASHIN' then a.transaction_id end) over(partition by b.business_id, b.due_date) as distinct_cashins_1m_prev,\n",
    "count(distinct case when txn_month = 1 and action_type = 'CASHIN' then a.transaction_id end) over(partition by b.business_id, b.due_date) as distinct_cashins_2m_prev,\n",
    "\n",
    "amount_drawn_1m_prev/(amount_drawn_2m_prev + 1) as ratio_amt_drawn_mom, \n",
    "amount_cashin_1m_prev/(amount_cashin_2m_prev + 1) as ratio_amt_cashin_mom, \n",
    "distinct_draws_1m_prev/(distinct_draws_2m_prev + 1) as ratio_count_drawn_mom, \n",
    "distinct_cashins_1m_prev/(distinct_cashins_2m_prev + 1) as ratio_count_cashin_mom\n",
    "\n",
    "from FIVETRAN_DB.PROD_NOVO_API_PUBLIC.LOAN_PRODUCT_TRANSACTIONS a \n",
    "join \"FIVETRAN_DB\".\"PROD_NOVO_API_PUBLIC\".\"LOAN_PRODUCTS\" p on a.product_id = p.id\n",
    "join \n",
    "(select distinct business_id, due_date from PROD_DB.ADHOC.LENDING_DPD_DATA_PILOT_GA\n",
    "where due_date < date('2023-01-01')) b \n",
    "on p.business_id = b.business_id\n",
    "left join prod_db.data.transactions t on a.transaction_id = t.transaction_id\n",
    "where txn_month >= 0 and txn_month <2\n",
    "-- and b.lending_business_id = '005da9f7-5939-4d37-bac8-4956a2a9e419'\n",
    "order by due_date\n",
    ")\n",
    "group by 1,2,3\n",
    "order by 1,2,3\n",
    ")\n",
    "\"\"\"\n",
    ")"
   ]
  },
  {
   "cell_type": "code",
   "execution_count": 13,
   "metadata": {},
   "outputs": [
    {
     "data": {
      "text/html": [
       "<div>\n",
       "<style scoped>\n",
       "    .dataframe tbody tr th:only-of-type {\n",
       "        vertical-align: middle;\n",
       "    }\n",
       "\n",
       "    .dataframe tbody tr th {\n",
       "        vertical-align: top;\n",
       "    }\n",
       "\n",
       "    .dataframe thead th {\n",
       "        text-align: right;\n",
       "    }\n",
       "</style>\n",
       "<table border=\"1\" class=\"dataframe\">\n",
       "  <thead>\n",
       "    <tr style=\"text-align: right;\">\n",
       "      <th></th>\n",
       "      <th>business_id</th>\n",
       "      <th>due_date</th>\n",
       "      <th>credit_limit</th>\n",
       "      <th>amount_drawn_1m_prev</th>\n",
       "      <th>amount_drawn_2m_prev</th>\n",
       "      <th>amount_cashin_1m_prev</th>\n",
       "      <th>amount_cashin_2m_prev</th>\n",
       "      <th>distinct_draws_1m_prev</th>\n",
       "      <th>distinct_draws_2m_prev</th>\n",
       "      <th>distinct_cashins_1m_prev</th>\n",
       "      <th>distinct_cashins_2m_prev</th>\n",
       "      <th>ratio_amt_drawn_mom</th>\n",
       "      <th>ratio_amt_cashin_mom</th>\n",
       "      <th>ratio_count_drawn_mom</th>\n",
       "      <th>ratio_count_cashin_mom</th>\n",
       "    </tr>\n",
       "  </thead>\n",
       "  <tbody>\n",
       "    <tr>\n",
       "      <th>0</th>\n",
       "      <td>0feebcf0-4e46-46fd-b8c9-dd2d81f2f339</td>\n",
       "      <td>2023-02-27</td>\n",
       "      <td>5600.0</td>\n",
       "      <td>0.0</td>\n",
       "      <td>800.0</td>\n",
       "      <td>155.33</td>\n",
       "      <td>0.00</td>\n",
       "      <td>0.0</td>\n",
       "      <td>1.0</td>\n",
       "      <td>1.0</td>\n",
       "      <td>0.0</td>\n",
       "      <td>0.000000</td>\n",
       "      <td>155.330000</td>\n",
       "      <td>0.0</td>\n",
       "      <td>1.000</td>\n",
       "    </tr>\n",
       "    <tr>\n",
       "      <th>1</th>\n",
       "      <td>1117adea-76d9-46c1-bfc6-6ec754267cea</td>\n",
       "      <td>2023-01-30</td>\n",
       "      <td>10000.0</td>\n",
       "      <td>4000.0</td>\n",
       "      <td>2000.0</td>\n",
       "      <td>1149.99</td>\n",
       "      <td>0.00</td>\n",
       "      <td>1.0</td>\n",
       "      <td>1.0</td>\n",
       "      <td>1.0</td>\n",
       "      <td>0.0</td>\n",
       "      <td>1.999000</td>\n",
       "      <td>1149.990000</td>\n",
       "      <td>0.5</td>\n",
       "      <td>1.000</td>\n",
       "    </tr>\n",
       "    <tr>\n",
       "      <th>2</th>\n",
       "      <td>12b3f26a-767b-46b3-a49f-fa6725745a37</td>\n",
       "      <td>2023-02-06</td>\n",
       "      <td>5000.0</td>\n",
       "      <td>0.0</td>\n",
       "      <td>2000.0</td>\n",
       "      <td>93.89</td>\n",
       "      <td>2396.42</td>\n",
       "      <td>0.0</td>\n",
       "      <td>2.0</td>\n",
       "      <td>1.0</td>\n",
       "      <td>7.0</td>\n",
       "      <td>0.000000</td>\n",
       "      <td>0.039163</td>\n",
       "      <td>0.0</td>\n",
       "      <td>0.125</td>\n",
       "    </tr>\n",
       "    <tr>\n",
       "      <th>3</th>\n",
       "      <td>176ca682-79fb-47bd-b08e-10cc4155a8c5</td>\n",
       "      <td>2023-03-28</td>\n",
       "      <td>2900.0</td>\n",
       "      <td>500.0</td>\n",
       "      <td>0.0</td>\n",
       "      <td>300.00</td>\n",
       "      <td>189.16</td>\n",
       "      <td>1.0</td>\n",
       "      <td>0.0</td>\n",
       "      <td>1.0</td>\n",
       "      <td>1.0</td>\n",
       "      <td>500.000000</td>\n",
       "      <td>1.577619</td>\n",
       "      <td>1.0</td>\n",
       "      <td>0.500</td>\n",
       "    </tr>\n",
       "    <tr>\n",
       "      <th>4</th>\n",
       "      <td>100e66f2-6836-4801-ab35-c43d3b01840a</td>\n",
       "      <td>2023-01-31</td>\n",
       "      <td>7000.0</td>\n",
       "      <td>4100.0</td>\n",
       "      <td>1000.0</td>\n",
       "      <td>668.66</td>\n",
       "      <td>668.66</td>\n",
       "      <td>1.0</td>\n",
       "      <td>1.0</td>\n",
       "      <td>1.0</td>\n",
       "      <td>1.0</td>\n",
       "      <td>4.095904</td>\n",
       "      <td>0.998507</td>\n",
       "      <td>0.5</td>\n",
       "      <td>0.500</td>\n",
       "    </tr>\n",
       "  </tbody>\n",
       "</table>\n",
       "</div>"
      ],
      "text/plain": [
       "                            business_id    due_date  credit_limit  \\\n",
       "0  0feebcf0-4e46-46fd-b8c9-dd2d81f2f339  2023-02-27        5600.0   \n",
       "1  1117adea-76d9-46c1-bfc6-6ec754267cea  2023-01-30       10000.0   \n",
       "2  12b3f26a-767b-46b3-a49f-fa6725745a37  2023-02-06        5000.0   \n",
       "3  176ca682-79fb-47bd-b08e-10cc4155a8c5  2023-03-28        2900.0   \n",
       "4  100e66f2-6836-4801-ab35-c43d3b01840a  2023-01-31        7000.0   \n",
       "\n",
       "   amount_drawn_1m_prev  amount_drawn_2m_prev  amount_cashin_1m_prev  \\\n",
       "0                   0.0                 800.0                 155.33   \n",
       "1                4000.0                2000.0                1149.99   \n",
       "2                   0.0                2000.0                  93.89   \n",
       "3                 500.0                   0.0                 300.00   \n",
       "4                4100.0                1000.0                 668.66   \n",
       "\n",
       "   amount_cashin_2m_prev  distinct_draws_1m_prev  distinct_draws_2m_prev  \\\n",
       "0                   0.00                     0.0                     1.0   \n",
       "1                   0.00                     1.0                     1.0   \n",
       "2                2396.42                     0.0                     2.0   \n",
       "3                 189.16                     1.0                     0.0   \n",
       "4                 668.66                     1.0                     1.0   \n",
       "\n",
       "   distinct_cashins_1m_prev  distinct_cashins_2m_prev  ratio_amt_drawn_mom  \\\n",
       "0                       1.0                       0.0             0.000000   \n",
       "1                       1.0                       0.0             1.999000   \n",
       "2                       1.0                       7.0             0.000000   \n",
       "3                       1.0                       1.0           500.000000   \n",
       "4                       1.0                       1.0             4.095904   \n",
       "\n",
       "   ratio_amt_cashin_mom  ratio_count_drawn_mom  ratio_count_cashin_mom  \n",
       "0            155.330000                    0.0                   1.000  \n",
       "1           1149.990000                    0.5                   1.000  \n",
       "2              0.039163                    0.0                   0.125  \n",
       "3              1.577619                    1.0                   0.500  \n",
       "4              0.998507                    0.5                   0.500  "
      ]
     },
     "execution_count": 13,
     "metadata": {},
     "output_type": "execute_result"
    }
   ],
   "source": [
    "mom_df.head()"
   ]
  },
  {
   "cell_type": "code",
   "execution_count": 14,
   "metadata": {},
   "outputs": [
    {
     "data": {
      "text/plain": [
       "(5117, 15)"
      ]
     },
     "execution_count": 14,
     "metadata": {},
     "output_type": "execute_result"
    }
   ],
   "source": [
    "mom_df.shape"
   ]
  },
  {
   "cell_type": "code",
   "execution_count": 15,
   "metadata": {},
   "outputs": [],
   "source": [
    "mom_df = mom_df.drop_duplicates(subset = ['business_id','due_date'])"
   ]
  },
  {
   "cell_type": "code",
   "execution_count": 16,
   "metadata": {},
   "outputs": [
    {
     "name": "stdout",
     "output_type": "stream",
     "text": [
      "(4967, 6)\n",
      "(4997, 84)\n",
      "(4994, 16)\n",
      "(4957, 15)\n"
     ]
    }
   ],
   "source": [
    "print (rev_df.shape)\n",
    "print (txn_df.shape)\n",
    "print (rb_df.shape)\n",
    "print (mom_df.shape)"
   ]
  },
  {
   "cell_type": "code",
   "execution_count": 17,
   "metadata": {},
   "outputs": [],
   "source": [
    "df1 = txn_df.merge(rb_df,how='inner',left_on = ['business_id','due_date'], right_on = ['business_id','due_date'])\n",
    "df2 = df1.merge(rev_df,how='inner',left_on = ['business_id','due_date'], right_on = ['business_id','due_date'])\n",
    "df = df2.merge(mom_df,how='inner',left_on = ['business_id','due_date'], right_on = ['business_id','due_date'])"
   ]
  },
  {
   "cell_type": "code",
   "execution_count": 18,
   "metadata": {},
   "outputs": [
    {
     "data": {
      "text/plain": [
       "(4925, 115)"
      ]
     },
     "execution_count": 18,
     "metadata": {},
     "output_type": "execute_result"
    }
   ],
   "source": [
    "df.shape"
   ]
  },
  {
   "cell_type": "code",
   "execution_count": 19,
   "metadata": {},
   "outputs": [
    {
     "data": {
      "text/html": [
       "<div>\n",
       "<style scoped>\n",
       "    .dataframe tbody tr th:only-of-type {\n",
       "        vertical-align: middle;\n",
       "    }\n",
       "\n",
       "    .dataframe tbody tr th {\n",
       "        vertical-align: top;\n",
       "    }\n",
       "\n",
       "    .dataframe thead th {\n",
       "        text-align: right;\n",
       "    }\n",
       "</style>\n",
       "<table border=\"1\" class=\"dataframe\">\n",
       "  <thead>\n",
       "    <tr style=\"text-align: right;\">\n",
       "      <th></th>\n",
       "      <th>business_id</th>\n",
       "      <th>due_date</th>\n",
       "      <th>count_pd_deposit_1m</th>\n",
       "      <th>count_ach_debit_1m</th>\n",
       "      <th>count_ach_credit_1m</th>\n",
       "      <th>count_card_withdrawal_1m</th>\n",
       "      <th>count_mrdc_credit_1m</th>\n",
       "      <th>count_pd_deposit_2m</th>\n",
       "      <th>count_ach_debit_2m</th>\n",
       "      <th>count_ach_credit_2m</th>\n",
       "      <th>count_card_withdrawal_2m</th>\n",
       "      <th>count_mrdc_credit_2m</th>\n",
       "      <th>amount_pd_deposit_1m</th>\n",
       "      <th>amount_ach_debit_1m</th>\n",
       "      <th>amount_ach_credit_1m</th>\n",
       "      <th>amount_card_withdrawal_1m</th>\n",
       "      <th>amount_mrdc_credit_1m</th>\n",
       "      <th>amount_pd_deposit_2m</th>\n",
       "      <th>amount_ach_debit_2m</th>\n",
       "      <th>amount_ach_credit_2m</th>\n",
       "      <th>amount_card_withdrawal_2m</th>\n",
       "      <th>amount_mrdc_credit_2m</th>\n",
       "      <th>pd_deposit_size_1m</th>\n",
       "      <th>ach_debit_size_1m</th>\n",
       "      <th>ach_credit_size_1m</th>\n",
       "      <th>card_withdrawal_size_1m</th>\n",
       "      <th>mrdc_credit_size_1m</th>\n",
       "      <th>pd_deposit_size_2m</th>\n",
       "      <th>ach_debit_size_2m</th>\n",
       "      <th>ach_credit_size_2m</th>\n",
       "      <th>card_withdrawal_size_2m</th>\n",
       "      <th>mrdc_credit_size_2m</th>\n",
       "      <th>amount_credited_1m</th>\n",
       "      <th>distinct_credit_txns_1m</th>\n",
       "      <th>credit_size_1m</th>\n",
       "      <th>median_amount_credited_1m</th>\n",
       "      <th>stddev_amount_credited_1m</th>\n",
       "      <th>amount_credited_2m</th>\n",
       "      <th>distinct_credit_txns_2m</th>\n",
       "      <th>credit_size_2m</th>\n",
       "      <th>median_amount_credited_2m</th>\n",
       "      <th>stddev_amount_credited_2m</th>\n",
       "      <th>amount_debited_1m</th>\n",
       "      <th>distinct_debit_txns_1m</th>\n",
       "      <th>debit_size_1m</th>\n",
       "      <th>median_amount_debited_1m</th>\n",
       "      <th>stddev_amount_debited_1m</th>\n",
       "      <th>amount_debited_2m</th>\n",
       "      <th>distinct_debit_txns_2m</th>\n",
       "      <th>debit_size_2m</th>\n",
       "      <th>median_amount_debited_2m</th>\n",
       "      <th>stddev_amount_debited_2m</th>\n",
       "      <th>ratio_debit_credit_1m</th>\n",
       "      <th>ratio_debit_credit_frequency_1m</th>\n",
       "      <th>ratio_debit_credit_2m</th>\n",
       "      <th>ratio_debit_credit_frequency_2m</th>\n",
       "      <th>ratio_pd_amt_total_credit_1m</th>\n",
       "      <th>ratio_ach_debit_total_debit_1m</th>\n",
       "      <th>ratio_ach_credit_total_credit_1m</th>\n",
       "      <th>ratio_card_withdrawal_total_debit_1m</th>\n",
       "      <th>ratio_mrdc_credit_total_credit_1m</th>\n",
       "      <th>ratio_pd_amt_total_credit_2m</th>\n",
       "      <th>ratio_ach_debit_total_debit_2m</th>\n",
       "      <th>ratio_ach_credit_total_credit_2m</th>\n",
       "      <th>ratio_card_withdrawal_total_debit_2m</th>\n",
       "      <th>ratio_mrdc_credit_total_credit_2m</th>\n",
       "      <th>ratio_pd_freq_total_credit_1m</th>\n",
       "      <th>ratio_ach_debit_freq_total_debit_1m</th>\n",
       "      <th>ratio_ach_credit_freq_total_credit_1m</th>\n",
       "      <th>ratio_card_withdrawal_freq_total_debit_1m</th>\n",
       "      <th>ratio_mrdc_credit_freq_total_credit_1m</th>\n",
       "      <th>ratio_pd_freq_total_credit_2m</th>\n",
       "      <th>ratio_ach_debit_freq_total_debit_2m</th>\n",
       "      <th>ratio_ach_credit_freq_total_credit_2m</th>\n",
       "      <th>ratio_card_withdrawal_freq_total_debit_2m</th>\n",
       "      <th>ratio_mrdc_credit_freq_total_credit_2m</th>\n",
       "      <th>ratio_ach_debit_credit_1m</th>\n",
       "      <th>ratio_ach_debit_credit_2m</th>\n",
       "      <th>ratio_ach_debit_credit_freq_1m</th>\n",
       "      <th>ratio_ach_debit_credit_freq_2m</th>\n",
       "      <th>ach_d_size_1m</th>\n",
       "      <th>ach_d_size_2m</th>\n",
       "      <th>ach_c_size_1m</th>\n",
       "      <th>ach_c_size_2m</th>\n",
       "      <th>od_count_1m</th>\n",
       "      <th>zero_balance_count_1m</th>\n",
       "      <th>avg_running_balance_1m</th>\n",
       "      <th>median_running_balance_1m</th>\n",
       "      <th>stddev_running_balance_1m</th>\n",
       "      <th>od_count_2m</th>\n",
       "      <th>zero_balance_count_2m</th>\n",
       "      <th>avg_running_balance_2m</th>\n",
       "      <th>median_running_balance_2m</th>\n",
       "      <th>stddev_running_balance_2m</th>\n",
       "      <th>avg_running_balance_2nd_m</th>\n",
       "      <th>median_running_balance_2nd_m</th>\n",
       "      <th>stddev_running_balance_2nd_m</th>\n",
       "      <th>ratio_avg_running_balance_1m_2m</th>\n",
       "      <th>revenue_past_1m</th>\n",
       "      <th>revenue_past_2m</th>\n",
       "      <th>total_revenue_2m</th>\n",
       "      <th>ratio_revenue_1m_2m</th>\n",
       "      <th>credit_limit</th>\n",
       "      <th>amount_drawn_1m_prev</th>\n",
       "      <th>amount_drawn_2m_prev</th>\n",
       "      <th>amount_cashin_1m_prev</th>\n",
       "      <th>amount_cashin_2m_prev</th>\n",
       "      <th>distinct_draws_1m_prev</th>\n",
       "      <th>distinct_draws_2m_prev</th>\n",
       "      <th>distinct_cashins_1m_prev</th>\n",
       "      <th>distinct_cashins_2m_prev</th>\n",
       "      <th>ratio_amt_drawn_mom</th>\n",
       "      <th>ratio_amt_cashin_mom</th>\n",
       "      <th>ratio_count_drawn_mom</th>\n",
       "      <th>ratio_count_cashin_mom</th>\n",
       "    </tr>\n",
       "  </thead>\n",
       "  <tbody>\n",
       "    <tr>\n",
       "      <th>0</th>\n",
       "      <td>114457cb-957e-437f-a7ce-bc8ea43bcf5b</td>\n",
       "      <td>2022-07-22</td>\n",
       "      <td>5.0</td>\n",
       "      <td>2.0</td>\n",
       "      <td>5.0</td>\n",
       "      <td>36.0</td>\n",
       "      <td>0.0</td>\n",
       "      <td>6.0</td>\n",
       "      <td>6.0</td>\n",
       "      <td>6.0</td>\n",
       "      <td>42.0</td>\n",
       "      <td>0.0</td>\n",
       "      <td>381.42</td>\n",
       "      <td>153.16</td>\n",
       "      <td>381.42</td>\n",
       "      <td>933.97</td>\n",
       "      <td>0.00</td>\n",
       "      <td>438.77</td>\n",
       "      <td>529.31</td>\n",
       "      <td>438.77</td>\n",
       "      <td>1599.21</td>\n",
       "      <td>0.00</td>\n",
       "      <td>63.570000</td>\n",
       "      <td>51.053333</td>\n",
       "      <td>63.570000</td>\n",
       "      <td>25.242432</td>\n",
       "      <td>0.00000</td>\n",
       "      <td>62.681429</td>\n",
       "      <td>75.615714</td>\n",
       "      <td>62.681429</td>\n",
       "      <td>37.190930</td>\n",
       "      <td>0.000000</td>\n",
       "      <td>781.42</td>\n",
       "      <td>6.0</td>\n",
       "      <td>111.631429</td>\n",
       "      <td>0.0</td>\n",
       "      <td>56.265891</td>\n",
       "      <td>2438.77</td>\n",
       "      <td>8.0</td>\n",
       "      <td>270.974444</td>\n",
       "      <td>0.0</td>\n",
       "      <td>215.688435</td>\n",
       "      <td>1771.96</td>\n",
       "      <td>40.0</td>\n",
       "      <td>43.218537</td>\n",
       "      <td>9.975</td>\n",
       "      <td>78.855042</td>\n",
       "      <td>2813.35</td>\n",
       "      <td>50.0</td>\n",
       "      <td>55.163725</td>\n",
       "      <td>19.04</td>\n",
       "      <td>85.966454</td>\n",
       "      <td>2.264717</td>\n",
       "      <td>5.714286</td>\n",
       "      <td>1.153121</td>\n",
       "      <td>5.555556</td>\n",
       "      <td>0.488111</td>\n",
       "      <td>0.086435</td>\n",
       "      <td>0.488111</td>\n",
       "      <td>0.527083</td>\n",
       "      <td>0.000000</td>\n",
       "      <td>0.179914</td>\n",
       "      <td>0.188142</td>\n",
       "      <td>0.179914</td>\n",
       "      <td>0.568436</td>\n",
       "      <td>0.000000</td>\n",
       "      <td>0.714286</td>\n",
       "      <td>0.048780</td>\n",
       "      <td>0.714286</td>\n",
       "      <td>0.878049</td>\n",
       "      <td>0.000000</td>\n",
       "      <td>0.666667</td>\n",
       "      <td>0.117647</td>\n",
       "      <td>0.666667</td>\n",
       "      <td>0.823529</td>\n",
       "      <td>0.000000</td>\n",
       "      <td>0.400502</td>\n",
       "      <td>1.203606</td>\n",
       "      <td>0.333333</td>\n",
       "      <td>0.857143</td>\n",
       "      <td>51.053333</td>\n",
       "      <td>75.615714</td>\n",
       "      <td>63.570000</td>\n",
       "      <td>62.681429</td>\n",
       "      <td>65</td>\n",
       "      <td>484</td>\n",
       "      <td>-19.239094</td>\n",
       "      <td>0.000</td>\n",
       "      <td>272.725779</td>\n",
       "      <td>65</td>\n",
       "      <td>484</td>\n",
       "      <td>7.581142</td>\n",
       "      <td>0.00</td>\n",
       "      <td>305.006155</td>\n",
       "      <td>520.741667</td>\n",
       "      <td>449.425</td>\n",
       "      <td>421.984920</td>\n",
       "      <td>-0.036875</td>\n",
       "      <td>245.52</td>\n",
       "      <td>1015.50</td>\n",
       "      <td>1261.02</td>\n",
       "      <td>0.241535</td>\n",
       "      <td>2000.0</td>\n",
       "      <td>0.0</td>\n",
       "      <td>2000.0</td>\n",
       "      <td>726.66</td>\n",
       "      <td>0.00</td>\n",
       "      <td>0.0</td>\n",
       "      <td>2.0</td>\n",
       "      <td>2.0</td>\n",
       "      <td>0.0</td>\n",
       "      <td>0.000000</td>\n",
       "      <td>726.660000</td>\n",
       "      <td>0.000000</td>\n",
       "      <td>2.000000</td>\n",
       "    </tr>\n",
       "    <tr>\n",
       "      <th>1</th>\n",
       "      <td>2a364bf3-30f1-4054-86c2-2d3369f3bb89</td>\n",
       "      <td>2022-08-13</td>\n",
       "      <td>0.0</td>\n",
       "      <td>2.0</td>\n",
       "      <td>22.0</td>\n",
       "      <td>8.0</td>\n",
       "      <td>0.0</td>\n",
       "      <td>0.0</td>\n",
       "      <td>7.0</td>\n",
       "      <td>42.0</td>\n",
       "      <td>24.0</td>\n",
       "      <td>1.0</td>\n",
       "      <td>0.00</td>\n",
       "      <td>1647.84</td>\n",
       "      <td>10916.33</td>\n",
       "      <td>3003.15</td>\n",
       "      <td>0.00</td>\n",
       "      <td>0.00</td>\n",
       "      <td>3493.42</td>\n",
       "      <td>19854.89</td>\n",
       "      <td>22781.80</td>\n",
       "      <td>19000.00</td>\n",
       "      <td>0.000000</td>\n",
       "      <td>549.280000</td>\n",
       "      <td>474.623043</td>\n",
       "      <td>333.683333</td>\n",
       "      <td>0.00000</td>\n",
       "      <td>0.000000</td>\n",
       "      <td>436.677500</td>\n",
       "      <td>461.741628</td>\n",
       "      <td>911.272000</td>\n",
       "      <td>9500.000000</td>\n",
       "      <td>12016.33</td>\n",
       "      <td>23.0</td>\n",
       "      <td>500.680417</td>\n",
       "      <td>0.0</td>\n",
       "      <td>274.331438</td>\n",
       "      <td>41331.53</td>\n",
       "      <td>46.0</td>\n",
       "      <td>879.394255</td>\n",
       "      <td>146.3</td>\n",
       "      <td>2037.006592</td>\n",
       "      <td>5559.32</td>\n",
       "      <td>11.0</td>\n",
       "      <td>463.276667</td>\n",
       "      <td>0.000</td>\n",
       "      <td>235.822204</td>\n",
       "      <td>39091.88</td>\n",
       "      <td>34.0</td>\n",
       "      <td>1116.910857</td>\n",
       "      <td>0.00</td>\n",
       "      <td>1493.834533</td>\n",
       "      <td>0.462609</td>\n",
       "      <td>0.458333</td>\n",
       "      <td>0.945790</td>\n",
       "      <td>0.723404</td>\n",
       "      <td>0.000000</td>\n",
       "      <td>0.296410</td>\n",
       "      <td>0.908458</td>\n",
       "      <td>0.540201</td>\n",
       "      <td>0.000000</td>\n",
       "      <td>0.000000</td>\n",
       "      <td>0.089364</td>\n",
       "      <td>0.480381</td>\n",
       "      <td>0.582776</td>\n",
       "      <td>0.459697</td>\n",
       "      <td>0.000000</td>\n",
       "      <td>0.166667</td>\n",
       "      <td>0.916667</td>\n",
       "      <td>0.666667</td>\n",
       "      <td>0.000000</td>\n",
       "      <td>0.000000</td>\n",
       "      <td>0.200000</td>\n",
       "      <td>0.893617</td>\n",
       "      <td>0.685714</td>\n",
       "      <td>0.021277</td>\n",
       "      <td>0.150938</td>\n",
       "      <td>0.175939</td>\n",
       "      <td>0.086957</td>\n",
       "      <td>0.162791</td>\n",
       "      <td>549.280000</td>\n",
       "      <td>436.677500</td>\n",
       "      <td>474.623043</td>\n",
       "      <td>461.741628</td>\n",
       "      <td>0</td>\n",
       "      <td>0</td>\n",
       "      <td>15588.446159</td>\n",
       "      <td>18129.275</td>\n",
       "      <td>3862.355466</td>\n",
       "      <td>0</td>\n",
       "      <td>0</td>\n",
       "      <td>15528.981031</td>\n",
       "      <td>17979.66</td>\n",
       "      <td>4137.316605</td>\n",
       "      <td>14434.822667</td>\n",
       "      <td>15060.080</td>\n",
       "      <td>7628.515639</td>\n",
       "      <td>1.079845</td>\n",
       "      <td>13371.77</td>\n",
       "      <td>9876.86</td>\n",
       "      <td>23248.63</td>\n",
       "      <td>1.353711</td>\n",
       "      <td>9000.0</td>\n",
       "      <td>0.0</td>\n",
       "      <td>1600.0</td>\n",
       "      <td>1489.65</td>\n",
       "      <td>908.33</td>\n",
       "      <td>0.0</td>\n",
       "      <td>2.0</td>\n",
       "      <td>3.0</td>\n",
       "      <td>1.0</td>\n",
       "      <td>0.000000</td>\n",
       "      <td>1.638184</td>\n",
       "      <td>0.000000</td>\n",
       "      <td>1.500000</td>\n",
       "    </tr>\n",
       "    <tr>\n",
       "      <th>2</th>\n",
       "      <td>3e48b368-a42f-4358-a0c6-ac86074ece0d</td>\n",
       "      <td>2022-09-11</td>\n",
       "      <td>10.0</td>\n",
       "      <td>6.0</td>\n",
       "      <td>16.0</td>\n",
       "      <td>200.0</td>\n",
       "      <td>7.0</td>\n",
       "      <td>26.0</td>\n",
       "      <td>14.0</td>\n",
       "      <td>32.0</td>\n",
       "      <td>325.0</td>\n",
       "      <td>13.0</td>\n",
       "      <td>1289.28</td>\n",
       "      <td>551.07</td>\n",
       "      <td>3834.68</td>\n",
       "      <td>10150.86</td>\n",
       "      <td>2031.99</td>\n",
       "      <td>4425.61</td>\n",
       "      <td>1572.74</td>\n",
       "      <td>6971.01</td>\n",
       "      <td>14081.24</td>\n",
       "      <td>3463.98</td>\n",
       "      <td>117.207273</td>\n",
       "      <td>78.724286</td>\n",
       "      <td>225.569412</td>\n",
       "      <td>50.501791</td>\n",
       "      <td>253.99875</td>\n",
       "      <td>163.911481</td>\n",
       "      <td>104.849333</td>\n",
       "      <td>211.242727</td>\n",
       "      <td>43.193988</td>\n",
       "      <td>247.427143</td>\n",
       "      <td>12151.86</td>\n",
       "      <td>26.0</td>\n",
       "      <td>450.068889</td>\n",
       "      <td>0.0</td>\n",
       "      <td>180.996127</td>\n",
       "      <td>17123.18</td>\n",
       "      <td>50.0</td>\n",
       "      <td>335.748627</td>\n",
       "      <td>0.0</td>\n",
       "      <td>187.426323</td>\n",
       "      <td>11045.27</td>\n",
       "      <td>208.0</td>\n",
       "      <td>52.848182</td>\n",
       "      <td>0.000</td>\n",
       "      <td>121.423027</td>\n",
       "      <td>17089.82</td>\n",
       "      <td>348.0</td>\n",
       "      <td>48.967966</td>\n",
       "      <td>7.01</td>\n",
       "      <td>129.676306</td>\n",
       "      <td>0.908862</td>\n",
       "      <td>7.703704</td>\n",
       "      <td>0.997993</td>\n",
       "      <td>6.823529</td>\n",
       "      <td>0.106097</td>\n",
       "      <td>0.049892</td>\n",
       "      <td>0.315563</td>\n",
       "      <td>0.919023</td>\n",
       "      <td>0.167216</td>\n",
       "      <td>0.258457</td>\n",
       "      <td>0.092028</td>\n",
       "      <td>0.407110</td>\n",
       "      <td>0.823955</td>\n",
       "      <td>0.202298</td>\n",
       "      <td>0.370370</td>\n",
       "      <td>0.028708</td>\n",
       "      <td>0.592593</td>\n",
       "      <td>0.956938</td>\n",
       "      <td>0.259259</td>\n",
       "      <td>0.509804</td>\n",
       "      <td>0.040115</td>\n",
       "      <td>0.627451</td>\n",
       "      <td>0.931232</td>\n",
       "      <td>0.254902</td>\n",
       "      <td>0.143669</td>\n",
       "      <td>0.225579</td>\n",
       "      <td>0.352941</td>\n",
       "      <td>0.424242</td>\n",
       "      <td>78.724286</td>\n",
       "      <td>104.849333</td>\n",
       "      <td>225.569412</td>\n",
       "      <td>211.242727</td>\n",
       "      <td>343</td>\n",
       "      <td>37</td>\n",
       "      <td>193.053384</td>\n",
       "      <td>-125.930</td>\n",
       "      <td>657.381895</td>\n",
       "      <td>343</td>\n",
       "      <td>37</td>\n",
       "      <td>213.142459</td>\n",
       "      <td>-125.93</td>\n",
       "      <td>648.497714</td>\n",
       "      <td>563.362000</td>\n",
       "      <td>539.080</td>\n",
       "      <td>303.413179</td>\n",
       "      <td>0.342074</td>\n",
       "      <td>7341.27</td>\n",
       "      <td>6238.32</td>\n",
       "      <td>13579.59</td>\n",
       "      <td>1.176614</td>\n",
       "      <td>7000.0</td>\n",
       "      <td>2200.0</td>\n",
       "      <td>5100.0</td>\n",
       "      <td>1961.99</td>\n",
       "      <td>109.00</td>\n",
       "      <td>2.0</td>\n",
       "      <td>3.0</td>\n",
       "      <td>4.0</td>\n",
       "      <td>1.0</td>\n",
       "      <td>0.431288</td>\n",
       "      <td>17.836273</td>\n",
       "      <td>0.500000</td>\n",
       "      <td>2.000000</td>\n",
       "    </tr>\n",
       "    <tr>\n",
       "      <th>3</th>\n",
       "      <td>3e2d4987-7c57-46d8-aced-ef32b838b5c9</td>\n",
       "      <td>2022-08-08</td>\n",
       "      <td>6.0</td>\n",
       "      <td>4.0</td>\n",
       "      <td>7.0</td>\n",
       "      <td>40.0</td>\n",
       "      <td>0.0</td>\n",
       "      <td>6.0</td>\n",
       "      <td>4.0</td>\n",
       "      <td>8.0</td>\n",
       "      <td>49.0</td>\n",
       "      <td>0.0</td>\n",
       "      <td>1133.32</td>\n",
       "      <td>1189.79</td>\n",
       "      <td>7630.12</td>\n",
       "      <td>5017.43</td>\n",
       "      <td>0.00</td>\n",
       "      <td>1133.32</td>\n",
       "      <td>1189.79</td>\n",
       "      <td>7650.74</td>\n",
       "      <td>5580.72</td>\n",
       "      <td>0.00</td>\n",
       "      <td>161.902857</td>\n",
       "      <td>237.958000</td>\n",
       "      <td>953.765000</td>\n",
       "      <td>122.376341</td>\n",
       "      <td>0.00000</td>\n",
       "      <td>161.902857</td>\n",
       "      <td>237.958000</td>\n",
       "      <td>850.082222</td>\n",
       "      <td>111.614400</td>\n",
       "      <td>0.000000</td>\n",
       "      <td>9981.44</td>\n",
       "      <td>15.0</td>\n",
       "      <td>623.840000</td>\n",
       "      <td>0.0</td>\n",
       "      <td>767.828531</td>\n",
       "      <td>15002.06</td>\n",
       "      <td>18.0</td>\n",
       "      <td>789.582105</td>\n",
       "      <td>0.0</td>\n",
       "      <td>862.912025</td>\n",
       "      <td>12529.79</td>\n",
       "      <td>55.0</td>\n",
       "      <td>223.746250</td>\n",
       "      <td>31.730</td>\n",
       "      <td>277.300641</td>\n",
       "      <td>15449.08</td>\n",
       "      <td>67.0</td>\n",
       "      <td>227.192353</td>\n",
       "      <td>46.01</td>\n",
       "      <td>296.830854</td>\n",
       "      <td>1.255183</td>\n",
       "      <td>3.437500</td>\n",
       "      <td>1.029729</td>\n",
       "      <td>3.526316</td>\n",
       "      <td>0.113543</td>\n",
       "      <td>0.094957</td>\n",
       "      <td>0.764431</td>\n",
       "      <td>0.400440</td>\n",
       "      <td>0.000000</td>\n",
       "      <td>0.075544</td>\n",
       "      <td>0.077014</td>\n",
       "      <td>0.509979</td>\n",
       "      <td>0.361233</td>\n",
       "      <td>0.000000</td>\n",
       "      <td>0.375000</td>\n",
       "      <td>0.071429</td>\n",
       "      <td>0.437500</td>\n",
       "      <td>0.714286</td>\n",
       "      <td>0.000000</td>\n",
       "      <td>0.315789</td>\n",
       "      <td>0.058824</td>\n",
       "      <td>0.421053</td>\n",
       "      <td>0.720588</td>\n",
       "      <td>0.000000</td>\n",
       "      <td>0.155913</td>\n",
       "      <td>0.155493</td>\n",
       "      <td>0.500000</td>\n",
       "      <td>0.444444</td>\n",
       "      <td>237.958000</td>\n",
       "      <td>237.958000</td>\n",
       "      <td>953.765000</td>\n",
       "      <td>850.082222</td>\n",
       "      <td>303</td>\n",
       "      <td>2</td>\n",
       "      <td>236.243645</td>\n",
       "      <td>-85.890</td>\n",
       "      <td>847.653998</td>\n",
       "      <td>303</td>\n",
       "      <td>2</td>\n",
       "      <td>334.177922</td>\n",
       "      <td>-27.00</td>\n",
       "      <td>1090.843404</td>\n",
       "      <td>2152.491000</td>\n",
       "      <td>1400.830</td>\n",
       "      <td>2581.624064</td>\n",
       "      <td>0.109703</td>\n",
       "      <td>7089.48</td>\n",
       "      <td>7823.66</td>\n",
       "      <td>14913.14</td>\n",
       "      <td>0.906043</td>\n",
       "      <td>5000.0</td>\n",
       "      <td>2900.0</td>\n",
       "      <td>5000.0</td>\n",
       "      <td>3088.32</td>\n",
       "      <td>0.00</td>\n",
       "      <td>2.0</td>\n",
       "      <td>2.0</td>\n",
       "      <td>3.0</td>\n",
       "      <td>0.0</td>\n",
       "      <td>0.579884</td>\n",
       "      <td>3088.320000</td>\n",
       "      <td>0.666667</td>\n",
       "      <td>3.000000</td>\n",
       "    </tr>\n",
       "    <tr>\n",
       "      <th>4</th>\n",
       "      <td>f75b703a-6831-44ad-9ffd-9d6f8fc6090e</td>\n",
       "      <td>2022-09-06</td>\n",
       "      <td>4.0</td>\n",
       "      <td>1.0</td>\n",
       "      <td>2.0</td>\n",
       "      <td>0.0</td>\n",
       "      <td>0.0</td>\n",
       "      <td>10.0</td>\n",
       "      <td>2.0</td>\n",
       "      <td>5.0</td>\n",
       "      <td>0.0</td>\n",
       "      <td>0.0</td>\n",
       "      <td>28084.95</td>\n",
       "      <td>35.00</td>\n",
       "      <td>18084.95</td>\n",
       "      <td>0.00</td>\n",
       "      <td>0.00</td>\n",
       "      <td>51069.30</td>\n",
       "      <td>845.88</td>\n",
       "      <td>31069.30</td>\n",
       "      <td>0.00</td>\n",
       "      <td>0.00</td>\n",
       "      <td>5616.990000</td>\n",
       "      <td>17.500000</td>\n",
       "      <td>6028.316667</td>\n",
       "      <td>0.000000</td>\n",
       "      <td>0.00000</td>\n",
       "      <td>4642.663636</td>\n",
       "      <td>281.960000</td>\n",
       "      <td>5178.216667</td>\n",
       "      <td>0.000000</td>\n",
       "      <td>0.000000</td>\n",
       "      <td>31941.33</td>\n",
       "      <td>7.0</td>\n",
       "      <td>3992.666250</td>\n",
       "      <td>0.0</td>\n",
       "      <td>1705.431746</td>\n",
       "      <td>54929.18</td>\n",
       "      <td>14.0</td>\n",
       "      <td>3661.945333</td>\n",
       "      <td>0.0</td>\n",
       "      <td>2051.741814</td>\n",
       "      <td>22411.88</td>\n",
       "      <td>20.0</td>\n",
       "      <td>1067.232381</td>\n",
       "      <td>0.000</td>\n",
       "      <td>993.095053</td>\n",
       "      <td>53717.47</td>\n",
       "      <td>42.0</td>\n",
       "      <td>1249.243488</td>\n",
       "      <td>20.00</td>\n",
       "      <td>1372.093191</td>\n",
       "      <td>0.701636</td>\n",
       "      <td>2.500000</td>\n",
       "      <td>0.977923</td>\n",
       "      <td>2.800000</td>\n",
       "      <td>0.879267</td>\n",
       "      <td>0.001562</td>\n",
       "      <td>0.566193</td>\n",
       "      <td>0.000000</td>\n",
       "      <td>0.000000</td>\n",
       "      <td>0.929730</td>\n",
       "      <td>0.015747</td>\n",
       "      <td>0.565625</td>\n",
       "      <td>0.000000</td>\n",
       "      <td>0.000000</td>\n",
       "      <td>0.500000</td>\n",
       "      <td>0.047619</td>\n",
       "      <td>0.250000</td>\n",
       "      <td>0.000000</td>\n",
       "      <td>0.000000</td>\n",
       "      <td>0.666667</td>\n",
       "      <td>0.046512</td>\n",
       "      <td>0.333333</td>\n",
       "      <td>0.000000</td>\n",
       "      <td>0.000000</td>\n",
       "      <td>0.001935</td>\n",
       "      <td>0.027225</td>\n",
       "      <td>0.333333</td>\n",
       "      <td>0.333333</td>\n",
       "      <td>17.500000</td>\n",
       "      <td>281.960000</td>\n",
       "      <td>6028.316667</td>\n",
       "      <td>5178.216667</td>\n",
       "      <td>4</td>\n",
       "      <td>0</td>\n",
       "      <td>940.485492</td>\n",
       "      <td>40.360</td>\n",
       "      <td>2022.931126</td>\n",
       "      <td>5</td>\n",
       "      <td>0</td>\n",
       "      <td>1159.285950</td>\n",
       "      <td>40.36</td>\n",
       "      <td>2407.292454</td>\n",
       "      <td>5010.174000</td>\n",
       "      <td>2022.120</td>\n",
       "      <td>4552.654974</td>\n",
       "      <td>0.187678</td>\n",
       "      <td>16458.37</td>\n",
       "      <td>24040.86</td>\n",
       "      <td>40499.23</td>\n",
       "      <td>0.684571</td>\n",
       "      <td>10000.0</td>\n",
       "      <td>0.0</td>\n",
       "      <td>0.0</td>\n",
       "      <td>3633.33</td>\n",
       "      <td>3833.33</td>\n",
       "      <td>0.0</td>\n",
       "      <td>0.0</td>\n",
       "      <td>1.0</td>\n",
       "      <td>2.0</td>\n",
       "      <td>0.000000</td>\n",
       "      <td>0.947579</td>\n",
       "      <td>0.000000</td>\n",
       "      <td>0.333333</td>\n",
       "    </tr>\n",
       "  </tbody>\n",
       "</table>\n",
       "</div>"
      ],
      "text/plain": [
       "                            business_id    due_date  count_pd_deposit_1m  \\\n",
       "0  114457cb-957e-437f-a7ce-bc8ea43bcf5b  2022-07-22                  5.0   \n",
       "1  2a364bf3-30f1-4054-86c2-2d3369f3bb89  2022-08-13                  0.0   \n",
       "2  3e48b368-a42f-4358-a0c6-ac86074ece0d  2022-09-11                 10.0   \n",
       "3  3e2d4987-7c57-46d8-aced-ef32b838b5c9  2022-08-08                  6.0   \n",
       "4  f75b703a-6831-44ad-9ffd-9d6f8fc6090e  2022-09-06                  4.0   \n",
       "\n",
       "   count_ach_debit_1m  count_ach_credit_1m  count_card_withdrawal_1m  \\\n",
       "0                 2.0                  5.0                      36.0   \n",
       "1                 2.0                 22.0                       8.0   \n",
       "2                 6.0                 16.0                     200.0   \n",
       "3                 4.0                  7.0                      40.0   \n",
       "4                 1.0                  2.0                       0.0   \n",
       "\n",
       "   count_mrdc_credit_1m  count_pd_deposit_2m  count_ach_debit_2m  \\\n",
       "0                   0.0                  6.0                 6.0   \n",
       "1                   0.0                  0.0                 7.0   \n",
       "2                   7.0                 26.0                14.0   \n",
       "3                   0.0                  6.0                 4.0   \n",
       "4                   0.0                 10.0                 2.0   \n",
       "\n",
       "   count_ach_credit_2m  count_card_withdrawal_2m  count_mrdc_credit_2m  \\\n",
       "0                  6.0                      42.0                   0.0   \n",
       "1                 42.0                      24.0                   1.0   \n",
       "2                 32.0                     325.0                  13.0   \n",
       "3                  8.0                      49.0                   0.0   \n",
       "4                  5.0                       0.0                   0.0   \n",
       "\n",
       "   amount_pd_deposit_1m  amount_ach_debit_1m  amount_ach_credit_1m  \\\n",
       "0                381.42               153.16                381.42   \n",
       "1                  0.00              1647.84              10916.33   \n",
       "2               1289.28               551.07               3834.68   \n",
       "3               1133.32              1189.79               7630.12   \n",
       "4              28084.95                35.00              18084.95   \n",
       "\n",
       "   amount_card_withdrawal_1m  amount_mrdc_credit_1m  amount_pd_deposit_2m  \\\n",
       "0                     933.97                   0.00                438.77   \n",
       "1                    3003.15                   0.00                  0.00   \n",
       "2                   10150.86                2031.99               4425.61   \n",
       "3                    5017.43                   0.00               1133.32   \n",
       "4                       0.00                   0.00              51069.30   \n",
       "\n",
       "   amount_ach_debit_2m  amount_ach_credit_2m  amount_card_withdrawal_2m  \\\n",
       "0               529.31                438.77                    1599.21   \n",
       "1              3493.42              19854.89                   22781.80   \n",
       "2              1572.74               6971.01                   14081.24   \n",
       "3              1189.79               7650.74                    5580.72   \n",
       "4               845.88              31069.30                       0.00   \n",
       "\n",
       "   amount_mrdc_credit_2m  pd_deposit_size_1m  ach_debit_size_1m  \\\n",
       "0                   0.00           63.570000          51.053333   \n",
       "1               19000.00            0.000000         549.280000   \n",
       "2                3463.98          117.207273          78.724286   \n",
       "3                   0.00          161.902857         237.958000   \n",
       "4                   0.00         5616.990000          17.500000   \n",
       "\n",
       "   ach_credit_size_1m  card_withdrawal_size_1m  mrdc_credit_size_1m  \\\n",
       "0           63.570000                25.242432              0.00000   \n",
       "1          474.623043               333.683333              0.00000   \n",
       "2          225.569412                50.501791            253.99875   \n",
       "3          953.765000               122.376341              0.00000   \n",
       "4         6028.316667                 0.000000              0.00000   \n",
       "\n",
       "   pd_deposit_size_2m  ach_debit_size_2m  ach_credit_size_2m  \\\n",
       "0           62.681429          75.615714           62.681429   \n",
       "1            0.000000         436.677500          461.741628   \n",
       "2          163.911481         104.849333          211.242727   \n",
       "3          161.902857         237.958000          850.082222   \n",
       "4         4642.663636         281.960000         5178.216667   \n",
       "\n",
       "   card_withdrawal_size_2m  mrdc_credit_size_2m  amount_credited_1m  \\\n",
       "0                37.190930             0.000000              781.42   \n",
       "1               911.272000          9500.000000            12016.33   \n",
       "2                43.193988           247.427143            12151.86   \n",
       "3               111.614400             0.000000             9981.44   \n",
       "4                 0.000000             0.000000            31941.33   \n",
       "\n",
       "   distinct_credit_txns_1m  credit_size_1m  median_amount_credited_1m  \\\n",
       "0                      6.0      111.631429                        0.0   \n",
       "1                     23.0      500.680417                        0.0   \n",
       "2                     26.0      450.068889                        0.0   \n",
       "3                     15.0      623.840000                        0.0   \n",
       "4                      7.0     3992.666250                        0.0   \n",
       "\n",
       "   stddev_amount_credited_1m  amount_credited_2m  distinct_credit_txns_2m  \\\n",
       "0                  56.265891             2438.77                      8.0   \n",
       "1                 274.331438            41331.53                     46.0   \n",
       "2                 180.996127            17123.18                     50.0   \n",
       "3                 767.828531            15002.06                     18.0   \n",
       "4                1705.431746            54929.18                     14.0   \n",
       "\n",
       "   credit_size_2m  median_amount_credited_2m  stddev_amount_credited_2m  \\\n",
       "0      270.974444                        0.0                 215.688435   \n",
       "1      879.394255                      146.3                2037.006592   \n",
       "2      335.748627                        0.0                 187.426323   \n",
       "3      789.582105                        0.0                 862.912025   \n",
       "4     3661.945333                        0.0                2051.741814   \n",
       "\n",
       "   amount_debited_1m  distinct_debit_txns_1m  debit_size_1m  \\\n",
       "0            1771.96                    40.0      43.218537   \n",
       "1            5559.32                    11.0     463.276667   \n",
       "2           11045.27                   208.0      52.848182   \n",
       "3           12529.79                    55.0     223.746250   \n",
       "4           22411.88                    20.0    1067.232381   \n",
       "\n",
       "   median_amount_debited_1m  stddev_amount_debited_1m  amount_debited_2m  \\\n",
       "0                     9.975                 78.855042            2813.35   \n",
       "1                     0.000                235.822204           39091.88   \n",
       "2                     0.000                121.423027           17089.82   \n",
       "3                    31.730                277.300641           15449.08   \n",
       "4                     0.000                993.095053           53717.47   \n",
       "\n",
       "   distinct_debit_txns_2m  debit_size_2m  median_amount_debited_2m  \\\n",
       "0                    50.0      55.163725                     19.04   \n",
       "1                    34.0    1116.910857                      0.00   \n",
       "2                   348.0      48.967966                      7.01   \n",
       "3                    67.0     227.192353                     46.01   \n",
       "4                    42.0    1249.243488                     20.00   \n",
       "\n",
       "   stddev_amount_debited_2m  ratio_debit_credit_1m  \\\n",
       "0                 85.966454               2.264717   \n",
       "1               1493.834533               0.462609   \n",
       "2                129.676306               0.908862   \n",
       "3                296.830854               1.255183   \n",
       "4               1372.093191               0.701636   \n",
       "\n",
       "   ratio_debit_credit_frequency_1m  ratio_debit_credit_2m  \\\n",
       "0                         5.714286               1.153121   \n",
       "1                         0.458333               0.945790   \n",
       "2                         7.703704               0.997993   \n",
       "3                         3.437500               1.029729   \n",
       "4                         2.500000               0.977923   \n",
       "\n",
       "   ratio_debit_credit_frequency_2m  ratio_pd_amt_total_credit_1m  \\\n",
       "0                         5.555556                      0.488111   \n",
       "1                         0.723404                      0.000000   \n",
       "2                         6.823529                      0.106097   \n",
       "3                         3.526316                      0.113543   \n",
       "4                         2.800000                      0.879267   \n",
       "\n",
       "   ratio_ach_debit_total_debit_1m  ratio_ach_credit_total_credit_1m  \\\n",
       "0                        0.086435                          0.488111   \n",
       "1                        0.296410                          0.908458   \n",
       "2                        0.049892                          0.315563   \n",
       "3                        0.094957                          0.764431   \n",
       "4                        0.001562                          0.566193   \n",
       "\n",
       "   ratio_card_withdrawal_total_debit_1m  ratio_mrdc_credit_total_credit_1m  \\\n",
       "0                              0.527083                           0.000000   \n",
       "1                              0.540201                           0.000000   \n",
       "2                              0.919023                           0.167216   \n",
       "3                              0.400440                           0.000000   \n",
       "4                              0.000000                           0.000000   \n",
       "\n",
       "   ratio_pd_amt_total_credit_2m  ratio_ach_debit_total_debit_2m  \\\n",
       "0                      0.179914                        0.188142   \n",
       "1                      0.000000                        0.089364   \n",
       "2                      0.258457                        0.092028   \n",
       "3                      0.075544                        0.077014   \n",
       "4                      0.929730                        0.015747   \n",
       "\n",
       "   ratio_ach_credit_total_credit_2m  ratio_card_withdrawal_total_debit_2m  \\\n",
       "0                          0.179914                              0.568436   \n",
       "1                          0.480381                              0.582776   \n",
       "2                          0.407110                              0.823955   \n",
       "3                          0.509979                              0.361233   \n",
       "4                          0.565625                              0.000000   \n",
       "\n",
       "   ratio_mrdc_credit_total_credit_2m  ratio_pd_freq_total_credit_1m  \\\n",
       "0                           0.000000                       0.714286   \n",
       "1                           0.459697                       0.000000   \n",
       "2                           0.202298                       0.370370   \n",
       "3                           0.000000                       0.375000   \n",
       "4                           0.000000                       0.500000   \n",
       "\n",
       "   ratio_ach_debit_freq_total_debit_1m  ratio_ach_credit_freq_total_credit_1m  \\\n",
       "0                             0.048780                               0.714286   \n",
       "1                             0.166667                               0.916667   \n",
       "2                             0.028708                               0.592593   \n",
       "3                             0.071429                               0.437500   \n",
       "4                             0.047619                               0.250000   \n",
       "\n",
       "   ratio_card_withdrawal_freq_total_debit_1m  \\\n",
       "0                                   0.878049   \n",
       "1                                   0.666667   \n",
       "2                                   0.956938   \n",
       "3                                   0.714286   \n",
       "4                                   0.000000   \n",
       "\n",
       "   ratio_mrdc_credit_freq_total_credit_1m  ratio_pd_freq_total_credit_2m  \\\n",
       "0                                0.000000                       0.666667   \n",
       "1                                0.000000                       0.000000   \n",
       "2                                0.259259                       0.509804   \n",
       "3                                0.000000                       0.315789   \n",
       "4                                0.000000                       0.666667   \n",
       "\n",
       "   ratio_ach_debit_freq_total_debit_2m  ratio_ach_credit_freq_total_credit_2m  \\\n",
       "0                             0.117647                               0.666667   \n",
       "1                             0.200000                               0.893617   \n",
       "2                             0.040115                               0.627451   \n",
       "3                             0.058824                               0.421053   \n",
       "4                             0.046512                               0.333333   \n",
       "\n",
       "   ratio_card_withdrawal_freq_total_debit_2m  \\\n",
       "0                                   0.823529   \n",
       "1                                   0.685714   \n",
       "2                                   0.931232   \n",
       "3                                   0.720588   \n",
       "4                                   0.000000   \n",
       "\n",
       "   ratio_mrdc_credit_freq_total_credit_2m  ratio_ach_debit_credit_1m  \\\n",
       "0                                0.000000                   0.400502   \n",
       "1                                0.021277                   0.150938   \n",
       "2                                0.254902                   0.143669   \n",
       "3                                0.000000                   0.155913   \n",
       "4                                0.000000                   0.001935   \n",
       "\n",
       "   ratio_ach_debit_credit_2m  ratio_ach_debit_credit_freq_1m  \\\n",
       "0                   1.203606                        0.333333   \n",
       "1                   0.175939                        0.086957   \n",
       "2                   0.225579                        0.352941   \n",
       "3                   0.155493                        0.500000   \n",
       "4                   0.027225                        0.333333   \n",
       "\n",
       "   ratio_ach_debit_credit_freq_2m  ach_d_size_1m  ach_d_size_2m  \\\n",
       "0                        0.857143      51.053333      75.615714   \n",
       "1                        0.162791     549.280000     436.677500   \n",
       "2                        0.424242      78.724286     104.849333   \n",
       "3                        0.444444     237.958000     237.958000   \n",
       "4                        0.333333      17.500000     281.960000   \n",
       "\n",
       "   ach_c_size_1m  ach_c_size_2m  od_count_1m  zero_balance_count_1m  \\\n",
       "0      63.570000      62.681429           65                    484   \n",
       "1     474.623043     461.741628            0                      0   \n",
       "2     225.569412     211.242727          343                     37   \n",
       "3     953.765000     850.082222          303                      2   \n",
       "4    6028.316667    5178.216667            4                      0   \n",
       "\n",
       "   avg_running_balance_1m  median_running_balance_1m  \\\n",
       "0              -19.239094                      0.000   \n",
       "1            15588.446159                  18129.275   \n",
       "2              193.053384                   -125.930   \n",
       "3              236.243645                    -85.890   \n",
       "4              940.485492                     40.360   \n",
       "\n",
       "   stddev_running_balance_1m  od_count_2m  zero_balance_count_2m  \\\n",
       "0                 272.725779           65                    484   \n",
       "1                3862.355466            0                      0   \n",
       "2                 657.381895          343                     37   \n",
       "3                 847.653998          303                      2   \n",
       "4                2022.931126            5                      0   \n",
       "\n",
       "   avg_running_balance_2m  median_running_balance_2m  \\\n",
       "0                7.581142                       0.00   \n",
       "1            15528.981031                   17979.66   \n",
       "2              213.142459                    -125.93   \n",
       "3              334.177922                     -27.00   \n",
       "4             1159.285950                      40.36   \n",
       "\n",
       "   stddev_running_balance_2m  avg_running_balance_2nd_m  \\\n",
       "0                 305.006155                 520.741667   \n",
       "1                4137.316605               14434.822667   \n",
       "2                 648.497714                 563.362000   \n",
       "3                1090.843404                2152.491000   \n",
       "4                2407.292454                5010.174000   \n",
       "\n",
       "   median_running_balance_2nd_m  stddev_running_balance_2nd_m  \\\n",
       "0                       449.425                    421.984920   \n",
       "1                     15060.080                   7628.515639   \n",
       "2                       539.080                    303.413179   \n",
       "3                      1400.830                   2581.624064   \n",
       "4                      2022.120                   4552.654974   \n",
       "\n",
       "   ratio_avg_running_balance_1m_2m  revenue_past_1m  revenue_past_2m  \\\n",
       "0                        -0.036875           245.52          1015.50   \n",
       "1                         1.079845         13371.77          9876.86   \n",
       "2                         0.342074          7341.27          6238.32   \n",
       "3                         0.109703          7089.48          7823.66   \n",
       "4                         0.187678         16458.37         24040.86   \n",
       "\n",
       "   total_revenue_2m  ratio_revenue_1m_2m  credit_limit  amount_drawn_1m_prev  \\\n",
       "0           1261.02             0.241535        2000.0                   0.0   \n",
       "1          23248.63             1.353711        9000.0                   0.0   \n",
       "2          13579.59             1.176614        7000.0                2200.0   \n",
       "3          14913.14             0.906043        5000.0                2900.0   \n",
       "4          40499.23             0.684571       10000.0                   0.0   \n",
       "\n",
       "   amount_drawn_2m_prev  amount_cashin_1m_prev  amount_cashin_2m_prev  \\\n",
       "0                2000.0                 726.66                   0.00   \n",
       "1                1600.0                1489.65                 908.33   \n",
       "2                5100.0                1961.99                 109.00   \n",
       "3                5000.0                3088.32                   0.00   \n",
       "4                   0.0                3633.33                3833.33   \n",
       "\n",
       "   distinct_draws_1m_prev  distinct_draws_2m_prev  distinct_cashins_1m_prev  \\\n",
       "0                     0.0                     2.0                       2.0   \n",
       "1                     0.0                     2.0                       3.0   \n",
       "2                     2.0                     3.0                       4.0   \n",
       "3                     2.0                     2.0                       3.0   \n",
       "4                     0.0                     0.0                       1.0   \n",
       "\n",
       "   distinct_cashins_2m_prev  ratio_amt_drawn_mom  ratio_amt_cashin_mom  \\\n",
       "0                       0.0             0.000000            726.660000   \n",
       "1                       1.0             0.000000              1.638184   \n",
       "2                       1.0             0.431288             17.836273   \n",
       "3                       0.0             0.579884           3088.320000   \n",
       "4                       2.0             0.000000              0.947579   \n",
       "\n",
       "   ratio_count_drawn_mom  ratio_count_cashin_mom  \n",
       "0               0.000000                2.000000  \n",
       "1               0.000000                1.500000  \n",
       "2               0.500000                2.000000  \n",
       "3               0.666667                3.000000  \n",
       "4               0.000000                0.333333  "
      ]
     },
     "execution_count": 19,
     "metadata": {},
     "output_type": "execute_result"
    }
   ],
   "source": [
    "df.head()"
   ]
  },
  {
   "cell_type": "code",
   "execution_count": 20,
   "metadata": {},
   "outputs": [
    {
     "data": {
      "text/html": [
       "<div>\n",
       "<style scoped>\n",
       "    .dataframe tbody tr th:only-of-type {\n",
       "        vertical-align: middle;\n",
       "    }\n",
       "\n",
       "    .dataframe tbody tr th {\n",
       "        vertical-align: top;\n",
       "    }\n",
       "\n",
       "    .dataframe thead th {\n",
       "        text-align: right;\n",
       "    }\n",
       "</style>\n",
       "<table border=\"1\" class=\"dataframe\">\n",
       "  <thead>\n",
       "    <tr style=\"text-align: right;\">\n",
       "      <th></th>\n",
       "      <th>count_pd_deposit_1m</th>\n",
       "      <th>count_ach_debit_1m</th>\n",
       "      <th>count_ach_credit_1m</th>\n",
       "      <th>count_card_withdrawal_1m</th>\n",
       "      <th>count_mrdc_credit_1m</th>\n",
       "      <th>count_pd_deposit_2m</th>\n",
       "      <th>count_ach_debit_2m</th>\n",
       "      <th>count_ach_credit_2m</th>\n",
       "      <th>count_card_withdrawal_2m</th>\n",
       "      <th>count_mrdc_credit_2m</th>\n",
       "      <th>amount_pd_deposit_1m</th>\n",
       "      <th>amount_ach_debit_1m</th>\n",
       "      <th>amount_ach_credit_1m</th>\n",
       "      <th>amount_card_withdrawal_1m</th>\n",
       "      <th>amount_mrdc_credit_1m</th>\n",
       "      <th>amount_pd_deposit_2m</th>\n",
       "      <th>amount_ach_debit_2m</th>\n",
       "      <th>amount_ach_credit_2m</th>\n",
       "      <th>amount_card_withdrawal_2m</th>\n",
       "      <th>amount_mrdc_credit_2m</th>\n",
       "      <th>pd_deposit_size_1m</th>\n",
       "      <th>ach_debit_size_1m</th>\n",
       "      <th>ach_credit_size_1m</th>\n",
       "      <th>card_withdrawal_size_1m</th>\n",
       "      <th>mrdc_credit_size_1m</th>\n",
       "      <th>pd_deposit_size_2m</th>\n",
       "      <th>ach_debit_size_2m</th>\n",
       "      <th>ach_credit_size_2m</th>\n",
       "      <th>card_withdrawal_size_2m</th>\n",
       "      <th>mrdc_credit_size_2m</th>\n",
       "      <th>amount_credited_1m</th>\n",
       "      <th>distinct_credit_txns_1m</th>\n",
       "      <th>credit_size_1m</th>\n",
       "      <th>median_amount_credited_1m</th>\n",
       "      <th>stddev_amount_credited_1m</th>\n",
       "      <th>amount_credited_2m</th>\n",
       "      <th>distinct_credit_txns_2m</th>\n",
       "      <th>credit_size_2m</th>\n",
       "      <th>median_amount_credited_2m</th>\n",
       "      <th>stddev_amount_credited_2m</th>\n",
       "      <th>amount_debited_1m</th>\n",
       "      <th>distinct_debit_txns_1m</th>\n",
       "      <th>debit_size_1m</th>\n",
       "      <th>median_amount_debited_1m</th>\n",
       "      <th>stddev_amount_debited_1m</th>\n",
       "      <th>amount_debited_2m</th>\n",
       "      <th>distinct_debit_txns_2m</th>\n",
       "      <th>debit_size_2m</th>\n",
       "      <th>median_amount_debited_2m</th>\n",
       "      <th>stddev_amount_debited_2m</th>\n",
       "      <th>ratio_debit_credit_1m</th>\n",
       "      <th>ratio_debit_credit_frequency_1m</th>\n",
       "      <th>ratio_debit_credit_2m</th>\n",
       "      <th>ratio_debit_credit_frequency_2m</th>\n",
       "      <th>ratio_pd_amt_total_credit_1m</th>\n",
       "      <th>ratio_ach_debit_total_debit_1m</th>\n",
       "      <th>ratio_ach_credit_total_credit_1m</th>\n",
       "      <th>ratio_card_withdrawal_total_debit_1m</th>\n",
       "      <th>ratio_mrdc_credit_total_credit_1m</th>\n",
       "      <th>ratio_pd_amt_total_credit_2m</th>\n",
       "      <th>ratio_ach_debit_total_debit_2m</th>\n",
       "      <th>ratio_ach_credit_total_credit_2m</th>\n",
       "      <th>ratio_card_withdrawal_total_debit_2m</th>\n",
       "      <th>ratio_mrdc_credit_total_credit_2m</th>\n",
       "      <th>ratio_pd_freq_total_credit_1m</th>\n",
       "      <th>ratio_ach_debit_freq_total_debit_1m</th>\n",
       "      <th>ratio_ach_credit_freq_total_credit_1m</th>\n",
       "      <th>ratio_card_withdrawal_freq_total_debit_1m</th>\n",
       "      <th>ratio_mrdc_credit_freq_total_credit_1m</th>\n",
       "      <th>ratio_pd_freq_total_credit_2m</th>\n",
       "      <th>ratio_ach_debit_freq_total_debit_2m</th>\n",
       "      <th>ratio_ach_credit_freq_total_credit_2m</th>\n",
       "      <th>ratio_card_withdrawal_freq_total_debit_2m</th>\n",
       "      <th>ratio_mrdc_credit_freq_total_credit_2m</th>\n",
       "      <th>ratio_ach_debit_credit_1m</th>\n",
       "      <th>ratio_ach_debit_credit_2m</th>\n",
       "      <th>ratio_ach_debit_credit_freq_1m</th>\n",
       "      <th>ratio_ach_debit_credit_freq_2m</th>\n",
       "      <th>ach_d_size_1m</th>\n",
       "      <th>ach_d_size_2m</th>\n",
       "      <th>ach_c_size_1m</th>\n",
       "      <th>ach_c_size_2m</th>\n",
       "      <th>od_count_1m</th>\n",
       "      <th>zero_balance_count_1m</th>\n",
       "      <th>avg_running_balance_1m</th>\n",
       "      <th>median_running_balance_1m</th>\n",
       "      <th>stddev_running_balance_1m</th>\n",
       "      <th>od_count_2m</th>\n",
       "      <th>zero_balance_count_2m</th>\n",
       "      <th>avg_running_balance_2m</th>\n",
       "      <th>median_running_balance_2m</th>\n",
       "      <th>stddev_running_balance_2m</th>\n",
       "      <th>avg_running_balance_2nd_m</th>\n",
       "      <th>median_running_balance_2nd_m</th>\n",
       "      <th>stddev_running_balance_2nd_m</th>\n",
       "      <th>ratio_avg_running_balance_1m_2m</th>\n",
       "      <th>revenue_past_1m</th>\n",
       "      <th>revenue_past_2m</th>\n",
       "      <th>total_revenue_2m</th>\n",
       "      <th>ratio_revenue_1m_2m</th>\n",
       "      <th>credit_limit</th>\n",
       "      <th>amount_drawn_1m_prev</th>\n",
       "      <th>amount_drawn_2m_prev</th>\n",
       "      <th>amount_cashin_1m_prev</th>\n",
       "      <th>amount_cashin_2m_prev</th>\n",
       "      <th>distinct_draws_1m_prev</th>\n",
       "      <th>distinct_draws_2m_prev</th>\n",
       "      <th>distinct_cashins_1m_prev</th>\n",
       "      <th>distinct_cashins_2m_prev</th>\n",
       "      <th>ratio_amt_drawn_mom</th>\n",
       "      <th>ratio_amt_cashin_mom</th>\n",
       "      <th>ratio_count_drawn_mom</th>\n",
       "      <th>ratio_count_cashin_mom</th>\n",
       "    </tr>\n",
       "  </thead>\n",
       "  <tbody>\n",
       "    <tr>\n",
       "      <th>count</th>\n",
       "      <td>4925.000000</td>\n",
       "      <td>4925.000000</td>\n",
       "      <td>4925.000000</td>\n",
       "      <td>4925.000000</td>\n",
       "      <td>4925.000000</td>\n",
       "      <td>4925.000000</td>\n",
       "      <td>4925.000000</td>\n",
       "      <td>4925.000000</td>\n",
       "      <td>4925.000000</td>\n",
       "      <td>4925.000000</td>\n",
       "      <td>4925.000000</td>\n",
       "      <td>4925.000000</td>\n",
       "      <td>4925.000000</td>\n",
       "      <td>4925.000000</td>\n",
       "      <td>4925.000000</td>\n",
       "      <td>4925.000000</td>\n",
       "      <td>4925.000000</td>\n",
       "      <td>4925.000000</td>\n",
       "      <td>4925.000000</td>\n",
       "      <td>4925.000000</td>\n",
       "      <td>4925.000000</td>\n",
       "      <td>4925.000000</td>\n",
       "      <td>4925.000000</td>\n",
       "      <td>4925.000000</td>\n",
       "      <td>4925.000000</td>\n",
       "      <td>4925.000000</td>\n",
       "      <td>4925.000000</td>\n",
       "      <td>4925.000000</td>\n",
       "      <td>4925.000000</td>\n",
       "      <td>4925.000000</td>\n",
       "      <td>4925.000000</td>\n",
       "      <td>4925.000000</td>\n",
       "      <td>4925.000000</td>\n",
       "      <td>4925.000000</td>\n",
       "      <td>4925.000000</td>\n",
       "      <td>4925.000000</td>\n",
       "      <td>4925.000000</td>\n",
       "      <td>4925.000000</td>\n",
       "      <td>4925.000000</td>\n",
       "      <td>4925.000000</td>\n",
       "      <td>4925.000000</td>\n",
       "      <td>4925.000000</td>\n",
       "      <td>4925.000000</td>\n",
       "      <td>4925.000000</td>\n",
       "      <td>4925.000000</td>\n",
       "      <td>4925.000000</td>\n",
       "      <td>4925.000000</td>\n",
       "      <td>4925.000000</td>\n",
       "      <td>4925.000000</td>\n",
       "      <td>4925.000000</td>\n",
       "      <td>4925.000000</td>\n",
       "      <td>4925.000000</td>\n",
       "      <td>4925.000000</td>\n",
       "      <td>4925.000000</td>\n",
       "      <td>4925.000000</td>\n",
       "      <td>4925.000000</td>\n",
       "      <td>4925.000000</td>\n",
       "      <td>4925.000000</td>\n",
       "      <td>4925.000000</td>\n",
       "      <td>4925.000000</td>\n",
       "      <td>4925.000000</td>\n",
       "      <td>4925.000000</td>\n",
       "      <td>4925.000000</td>\n",
       "      <td>4925.000000</td>\n",
       "      <td>4925.000000</td>\n",
       "      <td>4925.000000</td>\n",
       "      <td>4925.000000</td>\n",
       "      <td>4925.000000</td>\n",
       "      <td>4925.000000</td>\n",
       "      <td>4925.000000</td>\n",
       "      <td>4925.000000</td>\n",
       "      <td>4925.000000</td>\n",
       "      <td>4925.000000</td>\n",
       "      <td>4925.000000</td>\n",
       "      <td>4925.000000</td>\n",
       "      <td>4925.000000</td>\n",
       "      <td>4925.000000</td>\n",
       "      <td>4925.000000</td>\n",
       "      <td>4925.000000</td>\n",
       "      <td>4925.000000</td>\n",
       "      <td>4925.000000</td>\n",
       "      <td>4925.000000</td>\n",
       "      <td>4925.000000</td>\n",
       "      <td>4925.000000</td>\n",
       "      <td>4925.000000</td>\n",
       "      <td>4925.000000</td>\n",
       "      <td>4925.000000</td>\n",
       "      <td>4925.000000</td>\n",
       "      <td>4925.000000</td>\n",
       "      <td>4925.000000</td>\n",
       "      <td>4925.000000</td>\n",
       "      <td>4925.000000</td>\n",
       "      <td>4925.000000</td>\n",
       "      <td>4925.000000</td>\n",
       "      <td>4925.000000</td>\n",
       "      <td>4925.000000</td>\n",
       "      <td>4925.000000</td>\n",
       "      <td>4925.000000</td>\n",
       "      <td>4925.000000</td>\n",
       "      <td>4925.000000</td>\n",
       "      <td>4925.000000</td>\n",
       "      <td>4925.000000</td>\n",
       "      <td>4925.000000</td>\n",
       "      <td>4925.000000</td>\n",
       "      <td>4925.000000</td>\n",
       "      <td>4925.000000</td>\n",
       "      <td>4925.000000</td>\n",
       "      <td>4925.000000</td>\n",
       "      <td>4925.000000</td>\n",
       "      <td>4925.000000</td>\n",
       "      <td>4925.000000</td>\n",
       "      <td>4925.000000</td>\n",
       "      <td>4925.000000</td>\n",
       "    </tr>\n",
       "    <tr>\n",
       "      <th>mean</th>\n",
       "      <td>4.981117</td>\n",
       "      <td>13.169949</td>\n",
       "      <td>11.796345</td>\n",
       "      <td>54.876142</td>\n",
       "      <td>0.996548</td>\n",
       "      <td>7.860711</td>\n",
       "      <td>20.616650</td>\n",
       "      <td>18.368528</td>\n",
       "      <td>88.834924</td>\n",
       "      <td>1.521218</td>\n",
       "      <td>2872.095831</td>\n",
       "      <td>5944.676566</td>\n",
       "      <td>10901.694272</td>\n",
       "      <td>4880.446560</td>\n",
       "      <td>1231.142875</td>\n",
       "      <td>4661.099769</td>\n",
       "      <td>9059.484816</td>\n",
       "      <td>16199.110197</td>\n",
       "      <td>7992.219819</td>\n",
       "      <td>1881.480837</td>\n",
       "      <td>260.341258</td>\n",
       "      <td>318.094075</td>\n",
       "      <td>869.455117</td>\n",
       "      <td>95.209986</td>\n",
       "      <td>310.967923</td>\n",
       "      <td>292.085833</td>\n",
       "      <td>345.123206</td>\n",
       "      <td>936.126344</td>\n",
       "      <td>103.212494</td>\n",
       "      <td>387.926366</td>\n",
       "      <td>17790.213456</td>\n",
       "      <td>19.532995</td>\n",
       "      <td>988.603095</td>\n",
       "      <td>3.529016</td>\n",
       "      <td>587.345862</td>\n",
       "      <td>28882.961304</td>\n",
       "      <td>30.881827</td>\n",
       "      <td>1109.373648</td>\n",
       "      <td>6.144646</td>\n",
       "      <td>791.621890</td>\n",
       "      <td>17918.411226</td>\n",
       "      <td>77.494619</td>\n",
       "      <td>312.373024</td>\n",
       "      <td>19.638108</td>\n",
       "      <td>406.913941</td>\n",
       "      <td>29076.153371</td>\n",
       "      <td>124.888934</td>\n",
       "      <td>336.625899</td>\n",
       "      <td>36.250044</td>\n",
       "      <td>518.799881</td>\n",
       "      <td>22.238154</td>\n",
       "      <td>4.344199</td>\n",
       "      <td>5.769647</td>\n",
       "      <td>4.402464</td>\n",
       "      <td>0.168098</td>\n",
       "      <td>0.281116</td>\n",
       "      <td>0.565809</td>\n",
       "      <td>0.347462</td>\n",
       "      <td>0.071137</td>\n",
       "      <td>0.150133</td>\n",
       "      <td>0.270995</td>\n",
       "      <td>0.504735</td>\n",
       "      <td>0.341299</td>\n",
       "      <td>0.067999</td>\n",
       "      <td>0.185675</td>\n",
       "      <td>0.216979</td>\n",
       "      <td>0.508316</td>\n",
       "      <td>0.557974</td>\n",
       "      <td>0.049100</td>\n",
       "      <td>0.188695</td>\n",
       "      <td>0.216141</td>\n",
       "      <td>0.515610</td>\n",
       "      <td>0.573364</td>\n",
       "      <td>0.050064</td>\n",
       "      <td>169.533969</td>\n",
       "      <td>167.893708</td>\n",
       "      <td>1.453175</td>\n",
       "      <td>1.617578</td>\n",
       "      <td>318.094075</td>\n",
       "      <td>345.123206</td>\n",
       "      <td>869.455117</td>\n",
       "      <td>936.126344</td>\n",
       "      <td>35.418477</td>\n",
       "      <td>60.413401</td>\n",
       "      <td>2911.517818</td>\n",
       "      <td>2820.327838</td>\n",
       "      <td>1566.959581</td>\n",
       "      <td>36.484670</td>\n",
       "      <td>60.605888</td>\n",
       "      <td>2935.081067</td>\n",
       "      <td>2811.247649</td>\n",
       "      <td>1786.633708</td>\n",
       "      <td>3281.295147</td>\n",
       "      <td>3027.610969</td>\n",
       "      <td>1463.131175</td>\n",
       "      <td>1.215706</td>\n",
       "      <td>9093.433492</td>\n",
       "      <td>8484.657990</td>\n",
       "      <td>17578.091482</td>\n",
       "      <td>70.302836</td>\n",
       "      <td>8111.864162</td>\n",
       "      <td>1321.989848</td>\n",
       "      <td>2918.030457</td>\n",
       "      <td>1415.467271</td>\n",
       "      <td>704.292952</td>\n",
       "      <td>0.988832</td>\n",
       "      <td>1.300508</td>\n",
       "      <td>1.877766</td>\n",
       "      <td>0.883249</td>\n",
       "      <td>261.947316</td>\n",
       "      <td>658.343880</td>\n",
       "      <td>0.430561</td>\n",
       "      <td>1.227398</td>\n",
       "    </tr>\n",
       "    <tr>\n",
       "      <th>std</th>\n",
       "      <td>10.460432</td>\n",
       "      <td>22.253610</td>\n",
       "      <td>20.053476</td>\n",
       "      <td>98.638716</td>\n",
       "      <td>3.114161</td>\n",
       "      <td>17.046172</td>\n",
       "      <td>35.200004</td>\n",
       "      <td>31.631863</td>\n",
       "      <td>160.628674</td>\n",
       "      <td>4.482592</td>\n",
       "      <td>8749.107797</td>\n",
       "      <td>13744.995369</td>\n",
       "      <td>28591.926646</td>\n",
       "      <td>8676.853731</td>\n",
       "      <td>4432.576501</td>\n",
       "      <td>14216.546101</td>\n",
       "      <td>20508.583557</td>\n",
       "      <td>36851.252811</td>\n",
       "      <td>14257.705981</td>\n",
       "      <td>6007.766382</td>\n",
       "      <td>903.693747</td>\n",
       "      <td>489.676358</td>\n",
       "      <td>1587.999942</td>\n",
       "      <td>132.138215</td>\n",
       "      <td>1202.782595</td>\n",
       "      <td>978.109492</td>\n",
       "      <td>501.945138</td>\n",
       "      <td>1606.758884</td>\n",
       "      <td>135.718007</td>\n",
       "      <td>1292.273552</td>\n",
       "      <td>38211.523018</td>\n",
       "      <td>29.835434</td>\n",
       "      <td>1442.734884</td>\n",
       "      <td>53.458296</td>\n",
       "      <td>960.260484</td>\n",
       "      <td>54212.226953</td>\n",
       "      <td>46.782512</td>\n",
       "      <td>1441.747686</td>\n",
       "      <td>67.701726</td>\n",
       "      <td>1082.648445</td>\n",
       "      <td>31204.491289</td>\n",
       "      <td>128.289442</td>\n",
       "      <td>418.584258</td>\n",
       "      <td>73.915146</td>\n",
       "      <td>603.741358</td>\n",
       "      <td>50996.016956</td>\n",
       "      <td>209.251908</td>\n",
       "      <td>437.589809</td>\n",
       "      <td>95.321574</td>\n",
       "      <td>673.933685</td>\n",
       "      <td>407.865849</td>\n",
       "      <td>4.042335</td>\n",
       "      <td>248.230925</td>\n",
       "      <td>3.764744</td>\n",
       "      <td>0.292068</td>\n",
       "      <td>0.275101</td>\n",
       "      <td>0.335149</td>\n",
       "      <td>0.287159</td>\n",
       "      <td>0.191231</td>\n",
       "      <td>0.256901</td>\n",
       "      <td>0.260398</td>\n",
       "      <td>0.292693</td>\n",
       "      <td>0.268326</td>\n",
       "      <td>0.171694</td>\n",
       "      <td>0.271087</td>\n",
       "      <td>0.221904</td>\n",
       "      <td>0.272938</td>\n",
       "      <td>0.301525</td>\n",
       "      <td>0.123114</td>\n",
       "      <td>0.268641</td>\n",
       "      <td>0.218364</td>\n",
       "      <td>0.260655</td>\n",
       "      <td>0.292881</td>\n",
       "      <td>0.119001</td>\n",
       "      <td>1525.450377</td>\n",
       "      <td>1486.177820</td>\n",
       "      <td>2.353316</td>\n",
       "      <td>2.752662</td>\n",
       "      <td>489.676358</td>\n",
       "      <td>501.945138</td>\n",
       "      <td>1587.999942</td>\n",
       "      <td>1606.758884</td>\n",
       "      <td>83.546210</td>\n",
       "      <td>127.670138</td>\n",
       "      <td>6734.046677</td>\n",
       "      <td>7012.517922</td>\n",
       "      <td>3002.117521</td>\n",
       "      <td>84.347833</td>\n",
       "      <td>127.794788</td>\n",
       "      <td>6603.619585</td>\n",
       "      <td>6984.448467</td>\n",
       "      <td>3282.047623</td>\n",
       "      <td>7540.636587</td>\n",
       "      <td>7446.842457</td>\n",
       "      <td>2906.123028</td>\n",
       "      <td>15.889651</td>\n",
       "      <td>16763.887967</td>\n",
       "      <td>15813.888732</td>\n",
       "      <td>29830.756221</td>\n",
       "      <td>756.171762</td>\n",
       "      <td>7793.394695</td>\n",
       "      <td>2888.467943</td>\n",
       "      <td>4860.686279</td>\n",
       "      <td>1999.371794</td>\n",
       "      <td>1571.188783</td>\n",
       "      <td>1.627370</td>\n",
       "      <td>1.455769</td>\n",
       "      <td>1.931420</td>\n",
       "      <td>1.498433</td>\n",
       "      <td>1290.856843</td>\n",
       "      <td>1587.162311</td>\n",
       "      <td>0.661167</td>\n",
       "      <td>1.276422</td>\n",
       "    </tr>\n",
       "    <tr>\n",
       "      <th>min</th>\n",
       "      <td>0.000000</td>\n",
       "      <td>0.000000</td>\n",
       "      <td>0.000000</td>\n",
       "      <td>0.000000</td>\n",
       "      <td>0.000000</td>\n",
       "      <td>0.000000</td>\n",
       "      <td>0.000000</td>\n",
       "      <td>0.000000</td>\n",
       "      <td>0.000000</td>\n",
       "      <td>0.000000</td>\n",
       "      <td>0.000000</td>\n",
       "      <td>0.000000</td>\n",
       "      <td>0.000000</td>\n",
       "      <td>0.000000</td>\n",
       "      <td>0.000000</td>\n",
       "      <td>0.000000</td>\n",
       "      <td>0.000000</td>\n",
       "      <td>0.000000</td>\n",
       "      <td>0.000000</td>\n",
       "      <td>0.000000</td>\n",
       "      <td>0.000000</td>\n",
       "      <td>0.000000</td>\n",
       "      <td>0.000000</td>\n",
       "      <td>0.000000</td>\n",
       "      <td>0.000000</td>\n",
       "      <td>0.000000</td>\n",
       "      <td>0.000000</td>\n",
       "      <td>0.000000</td>\n",
       "      <td>0.000000</td>\n",
       "      <td>0.000000</td>\n",
       "      <td>0.000000</td>\n",
       "      <td>0.000000</td>\n",
       "      <td>0.000000</td>\n",
       "      <td>0.000000</td>\n",
       "      <td>0.000000</td>\n",
       "      <td>0.000000</td>\n",
       "      <td>0.000000</td>\n",
       "      <td>0.000000</td>\n",
       "      <td>0.000000</td>\n",
       "      <td>0.000000</td>\n",
       "      <td>0.000000</td>\n",
       "      <td>0.000000</td>\n",
       "      <td>0.000000</td>\n",
       "      <td>0.000000</td>\n",
       "      <td>0.000000</td>\n",
       "      <td>0.000000</td>\n",
       "      <td>0.000000</td>\n",
       "      <td>0.000000</td>\n",
       "      <td>0.000000</td>\n",
       "      <td>0.000000</td>\n",
       "      <td>0.000000</td>\n",
       "      <td>0.000000</td>\n",
       "      <td>0.000000</td>\n",
       "      <td>0.000000</td>\n",
       "      <td>0.000000</td>\n",
       "      <td>0.000000</td>\n",
       "      <td>0.000000</td>\n",
       "      <td>0.000000</td>\n",
       "      <td>0.000000</td>\n",
       "      <td>0.000000</td>\n",
       "      <td>0.000000</td>\n",
       "      <td>0.000000</td>\n",
       "      <td>0.000000</td>\n",
       "      <td>0.000000</td>\n",
       "      <td>0.000000</td>\n",
       "      <td>0.000000</td>\n",
       "      <td>0.000000</td>\n",
       "      <td>0.000000</td>\n",
       "      <td>0.000000</td>\n",
       "      <td>0.000000</td>\n",
       "      <td>0.000000</td>\n",
       "      <td>0.000000</td>\n",
       "      <td>0.000000</td>\n",
       "      <td>0.000000</td>\n",
       "      <td>0.000000</td>\n",
       "      <td>0.000000</td>\n",
       "      <td>0.000000</td>\n",
       "      <td>0.000000</td>\n",
       "      <td>0.000000</td>\n",
       "      <td>0.000000</td>\n",
       "      <td>0.000000</td>\n",
       "      <td>0.000000</td>\n",
       "      <td>0.000000</td>\n",
       "      <td>0.000000</td>\n",
       "      <td>-3253.731765</td>\n",
       "      <td>-4742.000000</td>\n",
       "      <td>0.000000</td>\n",
       "      <td>0.000000</td>\n",
       "      <td>0.000000</td>\n",
       "      <td>-1528.652720</td>\n",
       "      <td>-4742.000000</td>\n",
       "      <td>6.382340</td>\n",
       "      <td>-5327.384000</td>\n",
       "      <td>-5397.240000</td>\n",
       "      <td>0.000000</td>\n",
       "      <td>-590.636274</td>\n",
       "      <td>0.000000</td>\n",
       "      <td>0.000000</td>\n",
       "      <td>0.000000</td>\n",
       "      <td>0.000000</td>\n",
       "      <td>0.000000</td>\n",
       "      <td>0.000000</td>\n",
       "      <td>0.000000</td>\n",
       "      <td>0.000000</td>\n",
       "      <td>0.000000</td>\n",
       "      <td>0.000000</td>\n",
       "      <td>0.000000</td>\n",
       "      <td>0.000000</td>\n",
       "      <td>0.000000</td>\n",
       "      <td>0.000000</td>\n",
       "      <td>0.000000</td>\n",
       "      <td>0.000000</td>\n",
       "      <td>0.000000</td>\n",
       "    </tr>\n",
       "    <tr>\n",
       "      <th>25%</th>\n",
       "      <td>0.000000</td>\n",
       "      <td>2.000000</td>\n",
       "      <td>2.000000</td>\n",
       "      <td>6.000000</td>\n",
       "      <td>0.000000</td>\n",
       "      <td>0.000000</td>\n",
       "      <td>3.000000</td>\n",
       "      <td>3.000000</td>\n",
       "      <td>10.000000</td>\n",
       "      <td>0.000000</td>\n",
       "      <td>0.000000</td>\n",
       "      <td>153.160000</td>\n",
       "      <td>968.660000</td>\n",
       "      <td>438.410000</td>\n",
       "      <td>0.000000</td>\n",
       "      <td>0.000000</td>\n",
       "      <td>378.180000</td>\n",
       "      <td>1566.150000</td>\n",
       "      <td>847.430000</td>\n",
       "      <td>0.000000</td>\n",
       "      <td>0.000000</td>\n",
       "      <td>37.857143</td>\n",
       "      <td>147.500000</td>\n",
       "      <td>33.371667</td>\n",
       "      <td>0.000000</td>\n",
       "      <td>0.000000</td>\n",
       "      <td>57.182500</td>\n",
       "      <td>180.747143</td>\n",
       "      <td>40.660000</td>\n",
       "      <td>0.000000</td>\n",
       "      <td>2847.370000</td>\n",
       "      <td>5.000000</td>\n",
       "      <td>274.924211</td>\n",
       "      <td>0.000000</td>\n",
       "      <td>139.378545</td>\n",
       "      <td>5328.980000</td>\n",
       "      <td>8.000000</td>\n",
       "      <td>343.871250</td>\n",
       "      <td>0.000000</td>\n",
       "      <td>235.124123</td>\n",
       "      <td>3133.910000</td>\n",
       "      <td>18.000000</td>\n",
       "      <td>93.993939</td>\n",
       "      <td>0.000000</td>\n",
       "      <td>107.373012</td>\n",
       "      <td>5458.670000</td>\n",
       "      <td>27.000000</td>\n",
       "      <td>105.120000</td>\n",
       "      <td>0.000000</td>\n",
       "      <td>164.404663</td>\n",
       "      <td>0.887508</td>\n",
       "      <td>1.785714</td>\n",
       "      <td>0.906049</td>\n",
       "      <td>1.869565</td>\n",
       "      <td>0.000000</td>\n",
       "      <td>0.035554</td>\n",
       "      <td>0.312911</td>\n",
       "      <td>0.084879</td>\n",
       "      <td>0.000000</td>\n",
       "      <td>0.000000</td>\n",
       "      <td>0.049643</td>\n",
       "      <td>0.292925</td>\n",
       "      <td>0.102479</td>\n",
       "      <td>0.000000</td>\n",
       "      <td>0.000000</td>\n",
       "      <td>0.046429</td>\n",
       "      <td>0.333333</td>\n",
       "      <td>0.333333</td>\n",
       "      <td>0.000000</td>\n",
       "      <td>0.000000</td>\n",
       "      <td>0.049645</td>\n",
       "      <td>0.333333</td>\n",
       "      <td>0.370370</td>\n",
       "      <td>0.000000</td>\n",
       "      <td>0.072555</td>\n",
       "      <td>0.107555</td>\n",
       "      <td>0.272727</td>\n",
       "      <td>0.315789</td>\n",
       "      <td>37.857143</td>\n",
       "      <td>57.182500</td>\n",
       "      <td>147.500000</td>\n",
       "      <td>180.747143</td>\n",
       "      <td>0.000000</td>\n",
       "      <td>0.000000</td>\n",
       "      <td>148.312242</td>\n",
       "      <td>0.000000</td>\n",
       "      <td>318.416846</td>\n",
       "      <td>0.000000</td>\n",
       "      <td>0.000000</td>\n",
       "      <td>193.290650</td>\n",
       "      <td>0.420000</td>\n",
       "      <td>396.070211</td>\n",
       "      <td>432.152667</td>\n",
       "      <td>262.140000</td>\n",
       "      <td>339.429057</td>\n",
       "      <td>0.182092</td>\n",
       "      <td>1374.660000</td>\n",
       "      <td>1351.770000</td>\n",
       "      <td>3411.990000</td>\n",
       "      <td>0.632020</td>\n",
       "      <td>3000.000000</td>\n",
       "      <td>0.000000</td>\n",
       "      <td>0.000000</td>\n",
       "      <td>310.490000</td>\n",
       "      <td>0.000000</td>\n",
       "      <td>0.000000</td>\n",
       "      <td>0.000000</td>\n",
       "      <td>1.000000</td>\n",
       "      <td>0.000000</td>\n",
       "      <td>0.000000</td>\n",
       "      <td>0.998984</td>\n",
       "      <td>0.000000</td>\n",
       "      <td>0.500000</td>\n",
       "    </tr>\n",
       "    <tr>\n",
       "      <th>50%</th>\n",
       "      <td>0.000000</td>\n",
       "      <td>6.000000</td>\n",
       "      <td>5.000000</td>\n",
       "      <td>23.000000</td>\n",
       "      <td>0.000000</td>\n",
       "      <td>0.000000</td>\n",
       "      <td>8.000000</td>\n",
       "      <td>8.000000</td>\n",
       "      <td>35.000000</td>\n",
       "      <td>0.000000</td>\n",
       "      <td>0.000000</td>\n",
       "      <td>1333.400000</td>\n",
       "      <td>3503.610000</td>\n",
       "      <td>1838.060000</td>\n",
       "      <td>0.000000</td>\n",
       "      <td>0.000000</td>\n",
       "      <td>2280.180000</td>\n",
       "      <td>5570.740000</td>\n",
       "      <td>3058.900000</td>\n",
       "      <td>0.000000</td>\n",
       "      <td>0.000000</td>\n",
       "      <td>163.377500</td>\n",
       "      <td>397.366667</td>\n",
       "      <td>64.092500</td>\n",
       "      <td>0.000000</td>\n",
       "      <td>0.000000</td>\n",
       "      <td>196.678065</td>\n",
       "      <td>438.662258</td>\n",
       "      <td>69.624615</td>\n",
       "      <td>0.000000</td>\n",
       "      <td>7228.130000</td>\n",
       "      <td>10.000000</td>\n",
       "      <td>553.649057</td>\n",
       "      <td>0.000000</td>\n",
       "      <td>304.320698</td>\n",
       "      <td>12650.720000</td>\n",
       "      <td>16.000000</td>\n",
       "      <td>667.411600</td>\n",
       "      <td>0.000000</td>\n",
       "      <td>469.289563</td>\n",
       "      <td>7714.540000</td>\n",
       "      <td>39.000000</td>\n",
       "      <td>178.636667</td>\n",
       "      <td>0.000000</td>\n",
       "      <td>227.924717</td>\n",
       "      <td>12753.910000</td>\n",
       "      <td>59.000000</td>\n",
       "      <td>191.121268</td>\n",
       "      <td>17.755000</td>\n",
       "      <td>311.959923</td>\n",
       "      <td>1.030257</td>\n",
       "      <td>3.166667</td>\n",
       "      <td>1.003273</td>\n",
       "      <td>3.375000</td>\n",
       "      <td>0.000000</td>\n",
       "      <td>0.209081</td>\n",
       "      <td>0.596389</td>\n",
       "      <td>0.301165</td>\n",
       "      <td>0.000000</td>\n",
       "      <td>0.000000</td>\n",
       "      <td>0.199329</td>\n",
       "      <td>0.516378</td>\n",
       "      <td>0.307519</td>\n",
       "      <td>0.000000</td>\n",
       "      <td>0.000000</td>\n",
       "      <td>0.145299</td>\n",
       "      <td>0.500000</td>\n",
       "      <td>0.652174</td>\n",
       "      <td>0.000000</td>\n",
       "      <td>0.000000</td>\n",
       "      <td>0.145519</td>\n",
       "      <td>0.522222</td>\n",
       "      <td>0.666667</td>\n",
       "      <td>0.000000</td>\n",
       "      <td>0.416563</td>\n",
       "      <td>0.441991</td>\n",
       "      <td>0.800000</td>\n",
       "      <td>0.875000</td>\n",
       "      <td>163.377500</td>\n",
       "      <td>196.678065</td>\n",
       "      <td>397.366667</td>\n",
       "      <td>438.662258</td>\n",
       "      <td>0.000000</td>\n",
       "      <td>0.000000</td>\n",
       "      <td>742.354086</td>\n",
       "      <td>457.840000</td>\n",
       "      <td>714.517437</td>\n",
       "      <td>1.000000</td>\n",
       "      <td>0.000000</td>\n",
       "      <td>801.230352</td>\n",
       "      <td>464.410000</td>\n",
       "      <td>841.541065</td>\n",
       "      <td>1190.970333</td>\n",
       "      <td>957.565000</td>\n",
       "      <td>744.389709</td>\n",
       "      <td>0.594989</td>\n",
       "      <td>4067.610000</td>\n",
       "      <td>3935.250000</td>\n",
       "      <td>8671.070000</td>\n",
       "      <td>1.037099</td>\n",
       "      <td>6000.000000</td>\n",
       "      <td>0.000000</td>\n",
       "      <td>1200.000000</td>\n",
       "      <td>776.660000</td>\n",
       "      <td>91.840000</td>\n",
       "      <td>0.000000</td>\n",
       "      <td>1.000000</td>\n",
       "      <td>1.000000</td>\n",
       "      <td>1.000000</td>\n",
       "      <td>0.000000</td>\n",
       "      <td>3.845629</td>\n",
       "      <td>0.000000</td>\n",
       "      <td>1.000000</td>\n",
       "    </tr>\n",
       "    <tr>\n",
       "      <th>75%</th>\n",
       "      <td>5.000000</td>\n",
       "      <td>15.000000</td>\n",
       "      <td>14.000000</td>\n",
       "      <td>57.000000</td>\n",
       "      <td>1.000000</td>\n",
       "      <td>8.000000</td>\n",
       "      <td>23.000000</td>\n",
       "      <td>22.000000</td>\n",
       "      <td>94.000000</td>\n",
       "      <td>1.000000</td>\n",
       "      <td>1747.200000</td>\n",
       "      <td>5296.180000</td>\n",
       "      <td>9865.900000</td>\n",
       "      <td>5258.140000</td>\n",
       "      <td>135.000000</td>\n",
       "      <td>2691.840000</td>\n",
       "      <td>8381.640000</td>\n",
       "      <td>15243.400000</td>\n",
       "      <td>8628.380000</td>\n",
       "      <td>500.000000</td>\n",
       "      <td>205.786000</td>\n",
       "      <td>395.287143</td>\n",
       "      <td>975.668209</td>\n",
       "      <td>105.165278</td>\n",
       "      <td>44.600000</td>\n",
       "      <td>247.811111</td>\n",
       "      <td>431.320000</td>\n",
       "      <td>1056.968333</td>\n",
       "      <td>113.157080</td>\n",
       "      <td>150.000000</td>\n",
       "      <td>16662.820000</td>\n",
       "      <td>22.000000</td>\n",
       "      <td>1121.589524</td>\n",
       "      <td>0.000000</td>\n",
       "      <td>645.807720</td>\n",
       "      <td>29133.650000</td>\n",
       "      <td>35.000000</td>\n",
       "      <td>1300.000000</td>\n",
       "      <td>0.000000</td>\n",
       "      <td>904.168572</td>\n",
       "      <td>17631.930000</td>\n",
       "      <td>77.000000</td>\n",
       "      <td>346.857143</td>\n",
       "      <td>18.560000</td>\n",
       "      <td>474.393072</td>\n",
       "      <td>30141.830000</td>\n",
       "      <td>124.000000</td>\n",
       "      <td>374.455263</td>\n",
       "      <td>33.000000</td>\n",
       "      <td>612.693360</td>\n",
       "      <td>1.272683</td>\n",
       "      <td>5.592593</td>\n",
       "      <td>1.136711</td>\n",
       "      <td>5.696429</td>\n",
       "      <td>0.212321</td>\n",
       "      <td>0.450050</td>\n",
       "      <td>0.869717</td>\n",
       "      <td>0.549361</td>\n",
       "      <td>0.006342</td>\n",
       "      <td>0.193021</td>\n",
       "      <td>0.424521</td>\n",
       "      <td>0.730357</td>\n",
       "      <td>0.532515</td>\n",
       "      <td>0.024271</td>\n",
       "      <td>0.333333</td>\n",
       "      <td>0.320000</td>\n",
       "      <td>0.727273</td>\n",
       "      <td>0.800000</td>\n",
       "      <td>0.018182</td>\n",
       "      <td>0.333333</td>\n",
       "      <td>0.311111</td>\n",
       "      <td>0.725490</td>\n",
       "      <td>0.802817</td>\n",
       "      <td>0.034483</td>\n",
       "      <td>1.054844</td>\n",
       "      <td>1.007061</td>\n",
       "      <td>1.681818</td>\n",
       "      <td>1.800000</td>\n",
       "      <td>395.287143</td>\n",
       "      <td>431.320000</td>\n",
       "      <td>975.668209</td>\n",
       "      <td>1056.968333</td>\n",
       "      <td>16.000000</td>\n",
       "      <td>10.000000</td>\n",
       "      <td>2537.107438</td>\n",
       "      <td>2320.000000</td>\n",
       "      <td>1614.640959</td>\n",
       "      <td>19.000000</td>\n",
       "      <td>10.000000</td>\n",
       "      <td>2603.694645</td>\n",
       "      <td>2318.700000</td>\n",
       "      <td>1866.803886</td>\n",
       "      <td>3226.619333</td>\n",
       "      <td>2888.430000</td>\n",
       "      <td>1633.494491</td>\n",
       "      <td>1.400089</td>\n",
       "      <td>9828.430000</td>\n",
       "      <td>9337.900000</td>\n",
       "      <td>19462.930000</td>\n",
       "      <td>1.803561</td>\n",
       "      <td>10000.000000</td>\n",
       "      <td>1500.000000</td>\n",
       "      <td>3700.000000</td>\n",
       "      <td>1816.660000</td>\n",
       "      <td>784.000000</td>\n",
       "      <td>1.000000</td>\n",
       "      <td>2.000000</td>\n",
       "      <td>2.000000</td>\n",
       "      <td>1.000000</td>\n",
       "      <td>0.998752</td>\n",
       "      <td>696.660000</td>\n",
       "      <td>0.666667</td>\n",
       "      <td>1.250000</td>\n",
       "    </tr>\n",
       "    <tr>\n",
       "      <th>max</th>\n",
       "      <td>83.000000</td>\n",
       "      <td>206.000000</td>\n",
       "      <td>529.000000</td>\n",
       "      <td>676.000000</td>\n",
       "      <td>58.000000</td>\n",
       "      <td>163.000000</td>\n",
       "      <td>380.000000</td>\n",
       "      <td>936.000000</td>\n",
       "      <td>1157.000000</td>\n",
       "      <td>104.000000</td>\n",
       "      <td>150377.990000</td>\n",
       "      <td>197007.860000</td>\n",
       "      <td>363487.920000</td>\n",
       "      <td>73228.710000</td>\n",
       "      <td>88050.000000</td>\n",
       "      <td>250032.680000</td>\n",
       "      <td>342643.080000</td>\n",
       "      <td>413781.120000</td>\n",
       "      <td>107796.210000</td>\n",
       "      <td>90350.000000</td>\n",
       "      <td>24510.035000</td>\n",
       "      <td>6865.300000</td>\n",
       "      <td>34264.500000</td>\n",
       "      <td>1971.428571</td>\n",
       "      <td>29350.000000</td>\n",
       "      <td>29465.803333</td>\n",
       "      <td>6865.300000</td>\n",
       "      <td>35488.166667</td>\n",
       "      <td>1545.935000</td>\n",
       "      <td>25000.000000</td>\n",
       "      <td>440188.130000</td>\n",
       "      <td>534.000000</td>\n",
       "      <td>25633.725000</td>\n",
       "      <td>2726.350000</td>\n",
       "      <td>15918.887100</td>\n",
       "      <td>517482.900000</td>\n",
       "      <td>941.000000</td>\n",
       "      <td>25633.725000</td>\n",
       "      <td>2726.350000</td>\n",
       "      <td>15931.967613</td>\n",
       "      <td>273435.270000</td>\n",
       "      <td>866.000000</td>\n",
       "      <td>5632.948000</td>\n",
       "      <td>2100.000000</td>\n",
       "      <td>11978.445428</td>\n",
       "      <td>474715.400000</td>\n",
       "      <td>1561.000000</td>\n",
       "      <td>5632.948000</td>\n",
       "      <td>2100.000000</td>\n",
       "      <td>11978.445428</td>\n",
       "      <td>17193.940000</td>\n",
       "      <td>56.666667</td>\n",
       "      <td>17205.535000</td>\n",
       "      <td>33.363636</td>\n",
       "      <td>1.000000</td>\n",
       "      <td>1.000000</td>\n",
       "      <td>1.000000</td>\n",
       "      <td>1.000000</td>\n",
       "      <td>1.000000</td>\n",
       "      <td>1.000000</td>\n",
       "      <td>1.000000</td>\n",
       "      <td>1.000000</td>\n",
       "      <td>1.000000</td>\n",
       "      <td>1.000000</td>\n",
       "      <td>0.973684</td>\n",
       "      <td>0.977273</td>\n",
       "      <td>0.997988</td>\n",
       "      <td>1.054054</td>\n",
       "      <td>0.941176</td>\n",
       "      <td>0.971014</td>\n",
       "      <td>0.977273</td>\n",
       "      <td>0.993631</td>\n",
       "      <td>1.054054</td>\n",
       "      <td>0.950000</td>\n",
       "      <td>56085.730000</td>\n",
       "      <td>43285.684783</td>\n",
       "      <td>36.000000</td>\n",
       "      <td>36.000000</td>\n",
       "      <td>6865.300000</td>\n",
       "      <td>6865.300000</td>\n",
       "      <td>34264.500000</td>\n",
       "      <td>35488.166667</td>\n",
       "      <td>425.000000</td>\n",
       "      <td>501.000000</td>\n",
       "      <td>78393.913071</td>\n",
       "      <td>75842.880000</td>\n",
       "      <td>63692.413280</td>\n",
       "      <td>425.000000</td>\n",
       "      <td>501.000000</td>\n",
       "      <td>80443.558587</td>\n",
       "      <td>75842.880000</td>\n",
       "      <td>65944.653256</td>\n",
       "      <td>231135.105667</td>\n",
       "      <td>229183.110000</td>\n",
       "      <td>109213.738056</td>\n",
       "      <td>387.045046</td>\n",
       "      <td>318244.000000</td>\n",
       "      <td>301535.750000</td>\n",
       "      <td>427867.400000</td>\n",
       "      <td>23610.000000</td>\n",
       "      <td>50000.000000</td>\n",
       "      <td>60700.000000</td>\n",
       "      <td>50000.000000</td>\n",
       "      <td>44759.920000</td>\n",
       "      <td>44759.920000</td>\n",
       "      <td>24.000000</td>\n",
       "      <td>24.000000</td>\n",
       "      <td>36.000000</td>\n",
       "      <td>24.000000</td>\n",
       "      <td>26900.000000</td>\n",
       "      <td>44759.920000</td>\n",
       "      <td>9.000000</td>\n",
       "      <td>16.000000</td>\n",
       "    </tr>\n",
       "  </tbody>\n",
       "</table>\n",
       "</div>"
      ],
      "text/plain": [
       "       count_pd_deposit_1m  count_ach_debit_1m  count_ach_credit_1m  \\\n",
       "count          4925.000000         4925.000000          4925.000000   \n",
       "mean              4.981117           13.169949            11.796345   \n",
       "std              10.460432           22.253610            20.053476   \n",
       "min               0.000000            0.000000             0.000000   \n",
       "25%               0.000000            2.000000             2.000000   \n",
       "50%               0.000000            6.000000             5.000000   \n",
       "75%               5.000000           15.000000            14.000000   \n",
       "max              83.000000          206.000000           529.000000   \n",
       "\n",
       "       count_card_withdrawal_1m  count_mrdc_credit_1m  count_pd_deposit_2m  \\\n",
       "count               4925.000000           4925.000000          4925.000000   \n",
       "mean                  54.876142              0.996548             7.860711   \n",
       "std                   98.638716              3.114161            17.046172   \n",
       "min                    0.000000              0.000000             0.000000   \n",
       "25%                    6.000000              0.000000             0.000000   \n",
       "50%                   23.000000              0.000000             0.000000   \n",
       "75%                   57.000000              1.000000             8.000000   \n",
       "max                  676.000000             58.000000           163.000000   \n",
       "\n",
       "       count_ach_debit_2m  count_ach_credit_2m  count_card_withdrawal_2m  \\\n",
       "count         4925.000000          4925.000000               4925.000000   \n",
       "mean            20.616650            18.368528                 88.834924   \n",
       "std             35.200004            31.631863                160.628674   \n",
       "min              0.000000             0.000000                  0.000000   \n",
       "25%              3.000000             3.000000                 10.000000   \n",
       "50%              8.000000             8.000000                 35.000000   \n",
       "75%             23.000000            22.000000                 94.000000   \n",
       "max            380.000000           936.000000               1157.000000   \n",
       "\n",
       "       count_mrdc_credit_2m  amount_pd_deposit_1m  amount_ach_debit_1m  \\\n",
       "count           4925.000000           4925.000000          4925.000000   \n",
       "mean               1.521218           2872.095831          5944.676566   \n",
       "std                4.482592           8749.107797         13744.995369   \n",
       "min                0.000000              0.000000             0.000000   \n",
       "25%                0.000000              0.000000           153.160000   \n",
       "50%                0.000000              0.000000          1333.400000   \n",
       "75%                1.000000           1747.200000          5296.180000   \n",
       "max              104.000000         150377.990000        197007.860000   \n",
       "\n",
       "       amount_ach_credit_1m  amount_card_withdrawal_1m  amount_mrdc_credit_1m  \\\n",
       "count           4925.000000                4925.000000            4925.000000   \n",
       "mean           10901.694272                4880.446560            1231.142875   \n",
       "std            28591.926646                8676.853731            4432.576501   \n",
       "min                0.000000                   0.000000               0.000000   \n",
       "25%              968.660000                 438.410000               0.000000   \n",
       "50%             3503.610000                1838.060000               0.000000   \n",
       "75%             9865.900000                5258.140000             135.000000   \n",
       "max           363487.920000               73228.710000           88050.000000   \n",
       "\n",
       "       amount_pd_deposit_2m  amount_ach_debit_2m  amount_ach_credit_2m  \\\n",
       "count           4925.000000          4925.000000           4925.000000   \n",
       "mean            4661.099769          9059.484816          16199.110197   \n",
       "std            14216.546101         20508.583557          36851.252811   \n",
       "min                0.000000             0.000000              0.000000   \n",
       "25%                0.000000           378.180000           1566.150000   \n",
       "50%                0.000000          2280.180000           5570.740000   \n",
       "75%             2691.840000          8381.640000          15243.400000   \n",
       "max           250032.680000        342643.080000         413781.120000   \n",
       "\n",
       "       amount_card_withdrawal_2m  amount_mrdc_credit_2m  pd_deposit_size_1m  \\\n",
       "count                4925.000000            4925.000000         4925.000000   \n",
       "mean                 7992.219819            1881.480837          260.341258   \n",
       "std                 14257.705981            6007.766382          903.693747   \n",
       "min                     0.000000               0.000000            0.000000   \n",
       "25%                   847.430000               0.000000            0.000000   \n",
       "50%                  3058.900000               0.000000            0.000000   \n",
       "75%                  8628.380000             500.000000          205.786000   \n",
       "max                107796.210000           90350.000000        24510.035000   \n",
       "\n",
       "       ach_debit_size_1m  ach_credit_size_1m  card_withdrawal_size_1m  \\\n",
       "count        4925.000000         4925.000000              4925.000000   \n",
       "mean          318.094075          869.455117                95.209986   \n",
       "std           489.676358         1587.999942               132.138215   \n",
       "min             0.000000            0.000000                 0.000000   \n",
       "25%            37.857143          147.500000                33.371667   \n",
       "50%           163.377500          397.366667                64.092500   \n",
       "75%           395.287143          975.668209               105.165278   \n",
       "max          6865.300000        34264.500000              1971.428571   \n",
       "\n",
       "       mrdc_credit_size_1m  pd_deposit_size_2m  ach_debit_size_2m  \\\n",
       "count          4925.000000         4925.000000        4925.000000   \n",
       "mean            310.967923          292.085833         345.123206   \n",
       "std            1202.782595          978.109492         501.945138   \n",
       "min               0.000000            0.000000           0.000000   \n",
       "25%               0.000000            0.000000          57.182500   \n",
       "50%               0.000000            0.000000         196.678065   \n",
       "75%              44.600000          247.811111         431.320000   \n",
       "max           29350.000000        29465.803333        6865.300000   \n",
       "\n",
       "       ach_credit_size_2m  card_withdrawal_size_2m  mrdc_credit_size_2m  \\\n",
       "count         4925.000000              4925.000000          4925.000000   \n",
       "mean           936.126344               103.212494           387.926366   \n",
       "std           1606.758884               135.718007          1292.273552   \n",
       "min              0.000000                 0.000000             0.000000   \n",
       "25%            180.747143                40.660000             0.000000   \n",
       "50%            438.662258                69.624615             0.000000   \n",
       "75%           1056.968333               113.157080           150.000000   \n",
       "max          35488.166667              1545.935000         25000.000000   \n",
       "\n",
       "       amount_credited_1m  distinct_credit_txns_1m  credit_size_1m  \\\n",
       "count         4925.000000              4925.000000     4925.000000   \n",
       "mean         17790.213456                19.532995      988.603095   \n",
       "std          38211.523018                29.835434     1442.734884   \n",
       "min              0.000000                 0.000000        0.000000   \n",
       "25%           2847.370000                 5.000000      274.924211   \n",
       "50%           7228.130000                10.000000      553.649057   \n",
       "75%          16662.820000                22.000000     1121.589524   \n",
       "max         440188.130000               534.000000    25633.725000   \n",
       "\n",
       "       median_amount_credited_1m  stddev_amount_credited_1m  \\\n",
       "count                4925.000000                4925.000000   \n",
       "mean                    3.529016                 587.345862   \n",
       "std                    53.458296                 960.260484   \n",
       "min                     0.000000                   0.000000   \n",
       "25%                     0.000000                 139.378545   \n",
       "50%                     0.000000                 304.320698   \n",
       "75%                     0.000000                 645.807720   \n",
       "max                  2726.350000               15918.887100   \n",
       "\n",
       "       amount_credited_2m  distinct_credit_txns_2m  credit_size_2m  \\\n",
       "count         4925.000000              4925.000000     4925.000000   \n",
       "mean         28882.961304                30.881827     1109.373648   \n",
       "std          54212.226953                46.782512     1441.747686   \n",
       "min              0.000000                 0.000000        0.000000   \n",
       "25%           5328.980000                 8.000000      343.871250   \n",
       "50%          12650.720000                16.000000      667.411600   \n",
       "75%          29133.650000                35.000000     1300.000000   \n",
       "max         517482.900000               941.000000    25633.725000   \n",
       "\n",
       "       median_amount_credited_2m  stddev_amount_credited_2m  \\\n",
       "count                4925.000000                4925.000000   \n",
       "mean                    6.144646                 791.621890   \n",
       "std                    67.701726                1082.648445   \n",
       "min                     0.000000                   0.000000   \n",
       "25%                     0.000000                 235.124123   \n",
       "50%                     0.000000                 469.289563   \n",
       "75%                     0.000000                 904.168572   \n",
       "max                  2726.350000               15931.967613   \n",
       "\n",
       "       amount_debited_1m  distinct_debit_txns_1m  debit_size_1m  \\\n",
       "count        4925.000000             4925.000000    4925.000000   \n",
       "mean        17918.411226               77.494619     312.373024   \n",
       "std         31204.491289              128.289442     418.584258   \n",
       "min             0.000000                0.000000       0.000000   \n",
       "25%          3133.910000               18.000000      93.993939   \n",
       "50%          7714.540000               39.000000     178.636667   \n",
       "75%         17631.930000               77.000000     346.857143   \n",
       "max        273435.270000              866.000000    5632.948000   \n",
       "\n",
       "       median_amount_debited_1m  stddev_amount_debited_1m  amount_debited_2m  \\\n",
       "count               4925.000000               4925.000000        4925.000000   \n",
       "mean                  19.638108                406.913941       29076.153371   \n",
       "std                   73.915146                603.741358       50996.016956   \n",
       "min                    0.000000                  0.000000           0.000000   \n",
       "25%                    0.000000                107.373012        5458.670000   \n",
       "50%                    0.000000                227.924717       12753.910000   \n",
       "75%                   18.560000                474.393072       30141.830000   \n",
       "max                 2100.000000              11978.445428      474715.400000   \n",
       "\n",
       "       distinct_debit_txns_2m  debit_size_2m  median_amount_debited_2m  \\\n",
       "count             4925.000000    4925.000000               4925.000000   \n",
       "mean               124.888934     336.625899                 36.250044   \n",
       "std                209.251908     437.589809                 95.321574   \n",
       "min                  0.000000       0.000000                  0.000000   \n",
       "25%                 27.000000     105.120000                  0.000000   \n",
       "50%                 59.000000     191.121268                 17.755000   \n",
       "75%                124.000000     374.455263                 33.000000   \n",
       "max               1561.000000    5632.948000               2100.000000   \n",
       "\n",
       "       stddev_amount_debited_2m  ratio_debit_credit_1m  \\\n",
       "count               4925.000000            4925.000000   \n",
       "mean                 518.799881              22.238154   \n",
       "std                  673.933685             407.865849   \n",
       "min                    0.000000               0.000000   \n",
       "25%                  164.404663               0.887508   \n",
       "50%                  311.959923               1.030257   \n",
       "75%                  612.693360               1.272683   \n",
       "max                11978.445428           17193.940000   \n",
       "\n",
       "       ratio_debit_credit_frequency_1m  ratio_debit_credit_2m  \\\n",
       "count                      4925.000000            4925.000000   \n",
       "mean                          4.344199               5.769647   \n",
       "std                           4.042335             248.230925   \n",
       "min                           0.000000               0.000000   \n",
       "25%                           1.785714               0.906049   \n",
       "50%                           3.166667               1.003273   \n",
       "75%                           5.592593               1.136711   \n",
       "max                          56.666667           17205.535000   \n",
       "\n",
       "       ratio_debit_credit_frequency_2m  ratio_pd_amt_total_credit_1m  \\\n",
       "count                      4925.000000                   4925.000000   \n",
       "mean                          4.402464                      0.168098   \n",
       "std                           3.764744                      0.292068   \n",
       "min                           0.000000                      0.000000   \n",
       "25%                           1.869565                      0.000000   \n",
       "50%                           3.375000                      0.000000   \n",
       "75%                           5.696429                      0.212321   \n",
       "max                          33.363636                      1.000000   \n",
       "\n",
       "       ratio_ach_debit_total_debit_1m  ratio_ach_credit_total_credit_1m  \\\n",
       "count                     4925.000000                       4925.000000   \n",
       "mean                         0.281116                          0.565809   \n",
       "std                          0.275101                          0.335149   \n",
       "min                          0.000000                          0.000000   \n",
       "25%                          0.035554                          0.312911   \n",
       "50%                          0.209081                          0.596389   \n",
       "75%                          0.450050                          0.869717   \n",
       "max                          1.000000                          1.000000   \n",
       "\n",
       "       ratio_card_withdrawal_total_debit_1m  \\\n",
       "count                           4925.000000   \n",
       "mean                               0.347462   \n",
       "std                                0.287159   \n",
       "min                                0.000000   \n",
       "25%                                0.084879   \n",
       "50%                                0.301165   \n",
       "75%                                0.549361   \n",
       "max                                1.000000   \n",
       "\n",
       "       ratio_mrdc_credit_total_credit_1m  ratio_pd_amt_total_credit_2m  \\\n",
       "count                        4925.000000                   4925.000000   \n",
       "mean                            0.071137                      0.150133   \n",
       "std                             0.191231                      0.256901   \n",
       "min                             0.000000                      0.000000   \n",
       "25%                             0.000000                      0.000000   \n",
       "50%                             0.000000                      0.000000   \n",
       "75%                             0.006342                      0.193021   \n",
       "max                             1.000000                      1.000000   \n",
       "\n",
       "       ratio_ach_debit_total_debit_2m  ratio_ach_credit_total_credit_2m  \\\n",
       "count                     4925.000000                       4925.000000   \n",
       "mean                         0.270995                          0.504735   \n",
       "std                          0.260398                          0.292693   \n",
       "min                          0.000000                          0.000000   \n",
       "25%                          0.049643                          0.292925   \n",
       "50%                          0.199329                          0.516378   \n",
       "75%                          0.424521                          0.730357   \n",
       "max                          1.000000                          1.000000   \n",
       "\n",
       "       ratio_card_withdrawal_total_debit_2m  \\\n",
       "count                           4925.000000   \n",
       "mean                               0.341299   \n",
       "std                                0.268326   \n",
       "min                                0.000000   \n",
       "25%                                0.102479   \n",
       "50%                                0.307519   \n",
       "75%                                0.532515   \n",
       "max                                1.000000   \n",
       "\n",
       "       ratio_mrdc_credit_total_credit_2m  ratio_pd_freq_total_credit_1m  \\\n",
       "count                        4925.000000                    4925.000000   \n",
       "mean                            0.067999                       0.185675   \n",
       "std                             0.171694                       0.271087   \n",
       "min                             0.000000                       0.000000   \n",
       "25%                             0.000000                       0.000000   \n",
       "50%                             0.000000                       0.000000   \n",
       "75%                             0.024271                       0.333333   \n",
       "max                             1.000000                       0.973684   \n",
       "\n",
       "       ratio_ach_debit_freq_total_debit_1m  \\\n",
       "count                          4925.000000   \n",
       "mean                              0.216979   \n",
       "std                               0.221904   \n",
       "min                               0.000000   \n",
       "25%                               0.046429   \n",
       "50%                               0.145299   \n",
       "75%                               0.320000   \n",
       "max                               0.977273   \n",
       "\n",
       "       ratio_ach_credit_freq_total_credit_1m  \\\n",
       "count                            4925.000000   \n",
       "mean                                0.508316   \n",
       "std                                 0.272938   \n",
       "min                                 0.000000   \n",
       "25%                                 0.333333   \n",
       "50%                                 0.500000   \n",
       "75%                                 0.727273   \n",
       "max                                 0.997988   \n",
       "\n",
       "       ratio_card_withdrawal_freq_total_debit_1m  \\\n",
       "count                                4925.000000   \n",
       "mean                                    0.557974   \n",
       "std                                     0.301525   \n",
       "min                                     0.000000   \n",
       "25%                                     0.333333   \n",
       "50%                                     0.652174   \n",
       "75%                                     0.800000   \n",
       "max                                     1.054054   \n",
       "\n",
       "       ratio_mrdc_credit_freq_total_credit_1m  ratio_pd_freq_total_credit_2m  \\\n",
       "count                             4925.000000                    4925.000000   \n",
       "mean                                 0.049100                       0.188695   \n",
       "std                                  0.123114                       0.268641   \n",
       "min                                  0.000000                       0.000000   \n",
       "25%                                  0.000000                       0.000000   \n",
       "50%                                  0.000000                       0.000000   \n",
       "75%                                  0.018182                       0.333333   \n",
       "max                                  0.941176                       0.971014   \n",
       "\n",
       "       ratio_ach_debit_freq_total_debit_2m  \\\n",
       "count                          4925.000000   \n",
       "mean                              0.216141   \n",
       "std                               0.218364   \n",
       "min                               0.000000   \n",
       "25%                               0.049645   \n",
       "50%                               0.145519   \n",
       "75%                               0.311111   \n",
       "max                               0.977273   \n",
       "\n",
       "       ratio_ach_credit_freq_total_credit_2m  \\\n",
       "count                            4925.000000   \n",
       "mean                                0.515610   \n",
       "std                                 0.260655   \n",
       "min                                 0.000000   \n",
       "25%                                 0.333333   \n",
       "50%                                 0.522222   \n",
       "75%                                 0.725490   \n",
       "max                                 0.993631   \n",
       "\n",
       "       ratio_card_withdrawal_freq_total_debit_2m  \\\n",
       "count                                4925.000000   \n",
       "mean                                    0.573364   \n",
       "std                                     0.292881   \n",
       "min                                     0.000000   \n",
       "25%                                     0.370370   \n",
       "50%                                     0.666667   \n",
       "75%                                     0.802817   \n",
       "max                                     1.054054   \n",
       "\n",
       "       ratio_mrdc_credit_freq_total_credit_2m  ratio_ach_debit_credit_1m  \\\n",
       "count                             4925.000000                4925.000000   \n",
       "mean                                 0.050064                 169.533969   \n",
       "std                                  0.119001                1525.450377   \n",
       "min                                  0.000000                   0.000000   \n",
       "25%                                  0.000000                   0.072555   \n",
       "50%                                  0.000000                   0.416563   \n",
       "75%                                  0.034483                   1.054844   \n",
       "max                                  0.950000               56085.730000   \n",
       "\n",
       "       ratio_ach_debit_credit_2m  ratio_ach_debit_credit_freq_1m  \\\n",
       "count                4925.000000                     4925.000000   \n",
       "mean                  167.893708                        1.453175   \n",
       "std                  1486.177820                        2.353316   \n",
       "min                     0.000000                        0.000000   \n",
       "25%                     0.107555                        0.272727   \n",
       "50%                     0.441991                        0.800000   \n",
       "75%                     1.007061                        1.681818   \n",
       "max                 43285.684783                       36.000000   \n",
       "\n",
       "       ratio_ach_debit_credit_freq_2m  ach_d_size_1m  ach_d_size_2m  \\\n",
       "count                     4925.000000    4925.000000    4925.000000   \n",
       "mean                         1.617578     318.094075     345.123206   \n",
       "std                          2.752662     489.676358     501.945138   \n",
       "min                          0.000000       0.000000       0.000000   \n",
       "25%                          0.315789      37.857143      57.182500   \n",
       "50%                          0.875000     163.377500     196.678065   \n",
       "75%                          1.800000     395.287143     431.320000   \n",
       "max                         36.000000    6865.300000    6865.300000   \n",
       "\n",
       "       ach_c_size_1m  ach_c_size_2m  od_count_1m  zero_balance_count_1m  \\\n",
       "count    4925.000000    4925.000000  4925.000000            4925.000000   \n",
       "mean      869.455117     936.126344    35.418477              60.413401   \n",
       "std      1587.999942    1606.758884    83.546210             127.670138   \n",
       "min         0.000000       0.000000     0.000000               0.000000   \n",
       "25%       147.500000     180.747143     0.000000               0.000000   \n",
       "50%       397.366667     438.662258     0.000000               0.000000   \n",
       "75%       975.668209    1056.968333    16.000000              10.000000   \n",
       "max     34264.500000   35488.166667   425.000000             501.000000   \n",
       "\n",
       "       avg_running_balance_1m  median_running_balance_1m  \\\n",
       "count             4925.000000                4925.000000   \n",
       "mean              2911.517818                2820.327838   \n",
       "std               6734.046677                7012.517922   \n",
       "min              -3253.731765               -4742.000000   \n",
       "25%                148.312242                   0.000000   \n",
       "50%                742.354086                 457.840000   \n",
       "75%               2537.107438                2320.000000   \n",
       "max              78393.913071               75842.880000   \n",
       "\n",
       "       stddev_running_balance_1m  od_count_2m  zero_balance_count_2m  \\\n",
       "count                4925.000000  4925.000000            4925.000000   \n",
       "mean                 1566.959581    36.484670              60.605888   \n",
       "std                  3002.117521    84.347833             127.794788   \n",
       "min                     0.000000     0.000000               0.000000   \n",
       "25%                   318.416846     0.000000               0.000000   \n",
       "50%                   714.517437     1.000000               0.000000   \n",
       "75%                  1614.640959    19.000000              10.000000   \n",
       "max                 63692.413280   425.000000             501.000000   \n",
       "\n",
       "       avg_running_balance_2m  median_running_balance_2m  \\\n",
       "count             4925.000000                4925.000000   \n",
       "mean              2935.081067                2811.247649   \n",
       "std               6603.619585                6984.448467   \n",
       "min              -1528.652720               -4742.000000   \n",
       "25%                193.290650                   0.420000   \n",
       "50%                801.230352                 464.410000   \n",
       "75%               2603.694645                2318.700000   \n",
       "max              80443.558587               75842.880000   \n",
       "\n",
       "       stddev_running_balance_2m  avg_running_balance_2nd_m  \\\n",
       "count                4925.000000                4925.000000   \n",
       "mean                 1786.633708                3281.295147   \n",
       "std                  3282.047623                7540.636587   \n",
       "min                     6.382340               -5327.384000   \n",
       "25%                   396.070211                 432.152667   \n",
       "50%                   841.541065                1190.970333   \n",
       "75%                  1866.803886                3226.619333   \n",
       "max                 65944.653256              231135.105667   \n",
       "\n",
       "       median_running_balance_2nd_m  stddev_running_balance_2nd_m  \\\n",
       "count                   4925.000000                   4925.000000   \n",
       "mean                    3027.610969                   1463.131175   \n",
       "std                     7446.842457                   2906.123028   \n",
       "min                    -5397.240000                      0.000000   \n",
       "25%                      262.140000                    339.429057   \n",
       "50%                      957.565000                    744.389709   \n",
       "75%                     2888.430000                   1633.494491   \n",
       "max                   229183.110000                 109213.738056   \n",
       "\n",
       "       ratio_avg_running_balance_1m_2m  revenue_past_1m  revenue_past_2m  \\\n",
       "count                      4925.000000      4925.000000      4925.000000   \n",
       "mean                          1.215706      9093.433492      8484.657990   \n",
       "std                          15.889651     16763.887967     15813.888732   \n",
       "min                        -590.636274         0.000000         0.000000   \n",
       "25%                           0.182092      1374.660000      1351.770000   \n",
       "50%                           0.594989      4067.610000      3935.250000   \n",
       "75%                           1.400089      9828.430000      9337.900000   \n",
       "max                         387.045046    318244.000000    301535.750000   \n",
       "\n",
       "       total_revenue_2m  ratio_revenue_1m_2m  credit_limit  \\\n",
       "count       4925.000000          4925.000000   4925.000000   \n",
       "mean       17578.091482            70.302836   8111.864162   \n",
       "std        29830.756221           756.171762   7793.394695   \n",
       "min            0.000000             0.000000      0.000000   \n",
       "25%         3411.990000             0.632020   3000.000000   \n",
       "50%         8671.070000             1.037099   6000.000000   \n",
       "75%        19462.930000             1.803561  10000.000000   \n",
       "max       427867.400000         23610.000000  50000.000000   \n",
       "\n",
       "       amount_drawn_1m_prev  amount_drawn_2m_prev  amount_cashin_1m_prev  \\\n",
       "count           4925.000000           4925.000000            4925.000000   \n",
       "mean            1321.989848           2918.030457            1415.467271   \n",
       "std             2888.467943           4860.686279            1999.371794   \n",
       "min                0.000000              0.000000               0.000000   \n",
       "25%                0.000000              0.000000             310.490000   \n",
       "50%                0.000000           1200.000000             776.660000   \n",
       "75%             1500.000000           3700.000000            1816.660000   \n",
       "max            60700.000000          50000.000000           44759.920000   \n",
       "\n",
       "       amount_cashin_2m_prev  distinct_draws_1m_prev  distinct_draws_2m_prev  \\\n",
       "count            4925.000000             4925.000000             4925.000000   \n",
       "mean              704.292952                0.988832                1.300508   \n",
       "std              1571.188783                1.627370                1.455769   \n",
       "min                 0.000000                0.000000                0.000000   \n",
       "25%                 0.000000                0.000000                0.000000   \n",
       "50%                91.840000                0.000000                1.000000   \n",
       "75%               784.000000                1.000000                2.000000   \n",
       "max             44759.920000               24.000000               24.000000   \n",
       "\n",
       "       distinct_cashins_1m_prev  distinct_cashins_2m_prev  \\\n",
       "count               4925.000000               4925.000000   \n",
       "mean                   1.877766                  0.883249   \n",
       "std                    1.931420                  1.498433   \n",
       "min                    0.000000                  0.000000   \n",
       "25%                    1.000000                  0.000000   \n",
       "50%                    1.000000                  1.000000   \n",
       "75%                    2.000000                  1.000000   \n",
       "max                   36.000000                 24.000000   \n",
       "\n",
       "       ratio_amt_drawn_mom  ratio_amt_cashin_mom  ratio_count_drawn_mom  \\\n",
       "count          4925.000000           4925.000000            4925.000000   \n",
       "mean            261.947316            658.343880               0.430561   \n",
       "std            1290.856843           1587.162311               0.661167   \n",
       "min               0.000000              0.000000               0.000000   \n",
       "25%               0.000000              0.998984               0.000000   \n",
       "50%               0.000000              3.845629               0.000000   \n",
       "75%               0.998752            696.660000               0.666667   \n",
       "max           26900.000000          44759.920000               9.000000   \n",
       "\n",
       "       ratio_count_cashin_mom  \n",
       "count             4925.000000  \n",
       "mean                 1.227398  \n",
       "std                  1.276422  \n",
       "min                  0.000000  \n",
       "25%                  0.500000  \n",
       "50%                  1.000000  \n",
       "75%                  1.250000  \n",
       "max                 16.000000  "
      ]
     },
     "execution_count": 20,
     "metadata": {},
     "output_type": "execute_result"
    }
   ],
   "source": [
    "df.describe()"
   ]
  },
  {
   "cell_type": "code",
   "execution_count": null,
   "metadata": {},
   "outputs": [],
   "source": []
  },
  {
   "cell_type": "code",
   "execution_count": 21,
   "metadata": {},
   "outputs": [],
   "source": [
    "null_df = pd.DataFrame(df.isnull().sum().sort_values(ascending=False),columns = ['null_count'])\n",
    "null_df = null_df[null_df['null_count']>0]"
   ]
  },
  {
   "cell_type": "code",
   "execution_count": 22,
   "metadata": {},
   "outputs": [
    {
     "data": {
      "text/plain": [
       "(0, 1)"
      ]
     },
     "execution_count": 22,
     "metadata": {},
     "output_type": "execute_result"
    }
   ],
   "source": [
    "null_df.shape"
   ]
  },
  {
   "cell_type": "code",
   "execution_count": 23,
   "metadata": {},
   "outputs": [],
   "source": [
    "# df = df.fillna(0)"
   ]
  },
  {
   "cell_type": "code",
   "execution_count": 24,
   "metadata": {},
   "outputs": [],
   "source": [
    "base_df = querySno(r\"\"\"\n",
    "select * from PROD_DB.ADHOC.LENDING_DPD_DATA_PILOT_GA\n",
    "\"\"\")"
   ]
  },
  {
   "cell_type": "code",
   "execution_count": 25,
   "metadata": {},
   "outputs": [
    {
     "data": {
      "text/plain": [
       "(5017, 6)"
      ]
     },
     "execution_count": 25,
     "metadata": {},
     "output_type": "execute_result"
    }
   ],
   "source": [
    "base_df.shape"
   ]
  },
  {
   "cell_type": "code",
   "execution_count": 26,
   "metadata": {},
   "outputs": [
    {
     "data": {
      "text/html": [
       "<div>\n",
       "<style scoped>\n",
       "    .dataframe tbody tr th:only-of-type {\n",
       "        vertical-align: middle;\n",
       "    }\n",
       "\n",
       "    .dataframe tbody tr th {\n",
       "        vertical-align: top;\n",
       "    }\n",
       "\n",
       "    .dataframe thead th {\n",
       "        text-align: right;\n",
       "    }\n",
       "</style>\n",
       "<table border=\"1\" class=\"dataframe\">\n",
       "  <thead>\n",
       "    <tr style=\"text-align: right;\">\n",
       "      <th></th>\n",
       "      <th>business_id</th>\n",
       "      <th>due_date</th>\n",
       "      <th>DPD_plus_3</th>\n",
       "      <th>DPD_plus_15</th>\n",
       "      <th>DPD_plus_30</th>\n",
       "      <th>emi_no</th>\n",
       "    </tr>\n",
       "  </thead>\n",
       "  <tbody>\n",
       "    <tr>\n",
       "      <th>1970</th>\n",
       "      <td>34a3025a-2f69-4cc2-b4c4-f060294fb0a7</td>\n",
       "      <td>2023-03-27</td>\n",
       "      <td>0</td>\n",
       "      <td>0</td>\n",
       "      <td>0</td>\n",
       "      <td>2</td>\n",
       "    </tr>\n",
       "    <tr>\n",
       "      <th>3678</th>\n",
       "      <td>dcb4b3ae-41b7-439e-9155-c55a784b4e23</td>\n",
       "      <td>2022-09-23</td>\n",
       "      <td>0</td>\n",
       "      <td>0</td>\n",
       "      <td>0</td>\n",
       "      <td>1</td>\n",
       "    </tr>\n",
       "    <tr>\n",
       "      <th>1653</th>\n",
       "      <td>79edc428-7fc5-434e-9f2e-5b24240af02b</td>\n",
       "      <td>2022-12-31</td>\n",
       "      <td>0</td>\n",
       "      <td>0</td>\n",
       "      <td>0</td>\n",
       "      <td>4</td>\n",
       "    </tr>\n",
       "    <tr>\n",
       "      <th>873</th>\n",
       "      <td>3f5d860e-7a07-4ac3-a1c8-599dfc969e2a</td>\n",
       "      <td>2023-02-27</td>\n",
       "      <td>0</td>\n",
       "      <td>0</td>\n",
       "      <td>0</td>\n",
       "      <td>1</td>\n",
       "    </tr>\n",
       "    <tr>\n",
       "      <th>3509</th>\n",
       "      <td>018c84d4-87f6-4250-a8fe-d087ea9ce961</td>\n",
       "      <td>2022-10-02</td>\n",
       "      <td>1</td>\n",
       "      <td>1</td>\n",
       "      <td>1</td>\n",
       "      <td>1</td>\n",
       "    </tr>\n",
       "  </tbody>\n",
       "</table>\n",
       "</div>"
      ],
      "text/plain": [
       "                               business_id    due_date DPD_plus_3 DPD_plus_15  \\\n",
       "1970  34a3025a-2f69-4cc2-b4c4-f060294fb0a7  2023-03-27          0           0   \n",
       "3678  dcb4b3ae-41b7-439e-9155-c55a784b4e23  2022-09-23          0           0   \n",
       "1653  79edc428-7fc5-434e-9f2e-5b24240af02b  2022-12-31          0           0   \n",
       "873   3f5d860e-7a07-4ac3-a1c8-599dfc969e2a  2023-02-27          0           0   \n",
       "3509  018c84d4-87f6-4250-a8fe-d087ea9ce961  2022-10-02          1           1   \n",
       "\n",
       "     DPD_plus_30 emi_no  \n",
       "1970           0      2  \n",
       "3678           0      1  \n",
       "1653           0      4  \n",
       "873            0      1  \n",
       "3509           1      1  "
      ]
     },
     "execution_count": 26,
     "metadata": {},
     "output_type": "execute_result"
    }
   ],
   "source": [
    "base_df.sample(5)"
   ]
  },
  {
   "cell_type": "code",
   "execution_count": 27,
   "metadata": {},
   "outputs": [],
   "source": [
    "base_df = base_df.drop_duplicates(subset = ['business_id','due_date'])"
   ]
  },
  {
   "cell_type": "code",
   "execution_count": 28,
   "metadata": {},
   "outputs": [],
   "source": [
    "base_df['DPD_plus_15'] = base_df['DPD_plus_15'].astype(str).astype(int)\n",
    "base_df['DPD_plus_3'] = base_df['DPD_plus_3'].astype(str).astype(int)\n",
    "base_df['emi_no'] = base_df['emi_no'].astype(str).astype(int)"
   ]
  },
  {
   "cell_type": "code",
   "execution_count": 29,
   "metadata": {},
   "outputs": [
    {
     "data": {
      "text/html": [
       "<div>\n",
       "<style scoped>\n",
       "    .dataframe tbody tr th:only-of-type {\n",
       "        vertical-align: middle;\n",
       "    }\n",
       "\n",
       "    .dataframe tbody tr th {\n",
       "        vertical-align: top;\n",
       "    }\n",
       "\n",
       "    .dataframe thead th {\n",
       "        text-align: right;\n",
       "    }\n",
       "</style>\n",
       "<table border=\"1\" class=\"dataframe\">\n",
       "  <thead>\n",
       "    <tr style=\"text-align: right;\">\n",
       "      <th></th>\n",
       "      <th>business_id</th>\n",
       "      <th>due_date</th>\n",
       "      <th>DPD_plus_3</th>\n",
       "      <th>DPD_plus_15</th>\n",
       "      <th>DPD_plus_30</th>\n",
       "      <th>emi_no</th>\n",
       "    </tr>\n",
       "  </thead>\n",
       "  <tbody>\n",
       "    <tr>\n",
       "      <th>0</th>\n",
       "      <td>c616b39b-aef7-4156-973a-08278aa74536</td>\n",
       "      <td>2023-04-03</td>\n",
       "      <td>0</td>\n",
       "      <td>0</td>\n",
       "      <td>0</td>\n",
       "      <td>1</td>\n",
       "    </tr>\n",
       "    <tr>\n",
       "      <th>1</th>\n",
       "      <td>cc861415-fd34-4654-8b97-dab0794938dc</td>\n",
       "      <td>2023-04-03</td>\n",
       "      <td>0</td>\n",
       "      <td>0</td>\n",
       "      <td>0</td>\n",
       "      <td>1</td>\n",
       "    </tr>\n",
       "    <tr>\n",
       "      <th>2</th>\n",
       "      <td>4d7e9b73-dd94-4fdc-9611-51ec641b8e19</td>\n",
       "      <td>2023-04-03</td>\n",
       "      <td>1</td>\n",
       "      <td>0</td>\n",
       "      <td>0</td>\n",
       "      <td>1</td>\n",
       "    </tr>\n",
       "    <tr>\n",
       "      <th>3</th>\n",
       "      <td>2e3c32e2-1f1b-4d0f-a7c2-8dcdb11c6317</td>\n",
       "      <td>2023-04-03</td>\n",
       "      <td>0</td>\n",
       "      <td>0</td>\n",
       "      <td>0</td>\n",
       "      <td>1</td>\n",
       "    </tr>\n",
       "    <tr>\n",
       "      <th>4</th>\n",
       "      <td>57948378-e103-4f19-972e-a911082a16c2</td>\n",
       "      <td>2023-04-03</td>\n",
       "      <td>0</td>\n",
       "      <td>0</td>\n",
       "      <td>0</td>\n",
       "      <td>1</td>\n",
       "    </tr>\n",
       "  </tbody>\n",
       "</table>\n",
       "</div>"
      ],
      "text/plain": [
       "                            business_id    due_date  DPD_plus_3  DPD_plus_15  \\\n",
       "0  c616b39b-aef7-4156-973a-08278aa74536  2023-04-03           0            0   \n",
       "1  cc861415-fd34-4654-8b97-dab0794938dc  2023-04-03           0            0   \n",
       "2  4d7e9b73-dd94-4fdc-9611-51ec641b8e19  2023-04-03           1            0   \n",
       "3  2e3c32e2-1f1b-4d0f-a7c2-8dcdb11c6317  2023-04-03           0            0   \n",
       "4  57948378-e103-4f19-972e-a911082a16c2  2023-04-03           0            0   \n",
       "\n",
       "  DPD_plus_30  emi_no  \n",
       "0           0       1  \n",
       "1           0       1  \n",
       "2           0       1  \n",
       "3           0       1  \n",
       "4           0       1  "
      ]
     },
     "execution_count": 29,
     "metadata": {},
     "output_type": "execute_result"
    }
   ],
   "source": [
    "base_df.head()"
   ]
  },
  {
   "cell_type": "code",
   "execution_count": 30,
   "metadata": {},
   "outputs": [],
   "source": [
    "b = base_df.copy()"
   ]
  },
  {
   "cell_type": "code",
   "execution_count": 31,
   "metadata": {},
   "outputs": [],
   "source": [
    "base_df = base_df.merge(base_df.sort_values(['business_id','emi_no']).groupby(['business_id'])['DPD_plus_3'].shift(-1).rename('DPD_plus_3_next'),left_index=True,right_index=True)\n",
    "base_df = base_df.merge(base_df.sort_values(['business_id','emi_no']).groupby(['business_id'])['DPD_plus_3'].shift(1).rename('DPD_plus_3_prev'),left_index=True,right_index=True)\n",
    "# base_df = base_df.merge(base_df.sort_values(['business_id','emi_no']).groupby(['business_id'])['DPD_plus_3'].shift(2).rename('DPD_plus_3_prev_prev'),left_index=True,right_index=True)\n",
    "base_df = base_df.merge(base_df.sort_values(['business_id','emi_no']).groupby(['business_id'])['DPD_plus_15'].shift(-1).rename('DPD_plus_15_next'),left_index=True,right_index=True)\n",
    "base_df = base_df.merge(base_df.sort_values(['business_id','emi_no']).groupby(['business_id'])['DPD_plus_15'].shift(1).rename('DPD_plus_15_prev'),left_index=True,right_index=True)\n",
    "# base_df = base_df.merge(base_df.sort_values(['business_id','emi_no']).groupby(['business_id'])['DPD_plus_15'].shift(2).rename('DPD_plus_15_prev_prev'),left_index=True,right_index=True)"
   ]
  },
  {
   "cell_type": "code",
   "execution_count": 32,
   "metadata": {},
   "outputs": [],
   "source": [
    "base_df = base_df.fillna(0)"
   ]
  },
  {
   "cell_type": "code",
   "execution_count": 33,
   "metadata": {},
   "outputs": [],
   "source": [
    "base_df['DPD_plus_3_last_2'] = base_df['DPD_plus_3_prev'] + base_df['DPD_plus_3']\n",
    "base_df['DPD_plus_15_last_2'] = base_df['DPD_plus_15_prev'] + base_df['DPD_plus_15']"
   ]
  },
  {
   "cell_type": "code",
   "execution_count": 34,
   "metadata": {},
   "outputs": [],
   "source": [
    "# base_df = base_df.merge(base_df.sort_values(['business_id','emi_no']).groupby('business_id')['DPD_plus_3_prev'].cumsum().rename('DPD_plus_3_prev_cumsum'),left_index=True,right_index=True)\n",
    "# base_df = base_df.merge(base_df.sort_values(['business_id','emi_no']).groupby('business_id')['DPD_plus_15_prev'].cumsum().rename('DPD_plus_15_prev_cumsum'),left_index=True,right_index=True)"
   ]
  },
  {
   "cell_type": "code",
   "execution_count": 35,
   "metadata": {},
   "outputs": [],
   "source": [
    "# base_df['DPD_plus_3_prev_ratio'] = base_df['DPD_plus_3_prev_cumsum']/(base_df['emi_no']-1)\n",
    "# base_df['DPD_plus_15_prev_ratio'] = base_df['DPD_plus_15_prev_cumsum']/(base_df['emi_no']-1)\n",
    "# base_df = base_df.fillna(0)"
   ]
  },
  {
   "cell_type": "code",
   "execution_count": 36,
   "metadata": {},
   "outputs": [
    {
     "data": {
      "text/html": [
       "<div>\n",
       "<style scoped>\n",
       "    .dataframe tbody tr th:only-of-type {\n",
       "        vertical-align: middle;\n",
       "    }\n",
       "\n",
       "    .dataframe tbody tr th {\n",
       "        vertical-align: top;\n",
       "    }\n",
       "\n",
       "    .dataframe thead th {\n",
       "        text-align: right;\n",
       "    }\n",
       "</style>\n",
       "<table border=\"1\" class=\"dataframe\">\n",
       "  <thead>\n",
       "    <tr style=\"text-align: right;\">\n",
       "      <th></th>\n",
       "      <th>business_id</th>\n",
       "      <th>due_date</th>\n",
       "      <th>DPD_plus_3</th>\n",
       "      <th>DPD_plus_15</th>\n",
       "      <th>DPD_plus_30</th>\n",
       "      <th>emi_no</th>\n",
       "      <th>DPD_plus_3_next</th>\n",
       "      <th>DPD_plus_3_prev</th>\n",
       "      <th>DPD_plus_15_next</th>\n",
       "      <th>DPD_plus_15_prev</th>\n",
       "      <th>DPD_plus_3_last_2</th>\n",
       "      <th>DPD_plus_15_last_2</th>\n",
       "    </tr>\n",
       "  </thead>\n",
       "  <tbody>\n",
       "    <tr>\n",
       "      <th>3273</th>\n",
       "      <td>1724f6de-5ba9-45a7-917d-8a0e575b6297</td>\n",
       "      <td>2022-09-10</td>\n",
       "      <td>0</td>\n",
       "      <td>0</td>\n",
       "      <td>0</td>\n",
       "      <td>1</td>\n",
       "      <td>0.0</td>\n",
       "      <td>0.0</td>\n",
       "      <td>0.0</td>\n",
       "      <td>0.0</td>\n",
       "      <td>0.0</td>\n",
       "      <td>0.0</td>\n",
       "    </tr>\n",
       "    <tr>\n",
       "      <th>3916</th>\n",
       "      <td>1724f6de-5ba9-45a7-917d-8a0e575b6297</td>\n",
       "      <td>2022-09-20</td>\n",
       "      <td>0</td>\n",
       "      <td>0</td>\n",
       "      <td>0</td>\n",
       "      <td>2</td>\n",
       "      <td>0.0</td>\n",
       "      <td>0.0</td>\n",
       "      <td>0.0</td>\n",
       "      <td>0.0</td>\n",
       "      <td>0.0</td>\n",
       "      <td>0.0</td>\n",
       "    </tr>\n",
       "    <tr>\n",
       "      <th>4559</th>\n",
       "      <td>1724f6de-5ba9-45a7-917d-8a0e575b6297</td>\n",
       "      <td>2022-10-10</td>\n",
       "      <td>0</td>\n",
       "      <td>0</td>\n",
       "      <td>0</td>\n",
       "      <td>3</td>\n",
       "      <td>0.0</td>\n",
       "      <td>0.0</td>\n",
       "      <td>0.0</td>\n",
       "      <td>0.0</td>\n",
       "      <td>0.0</td>\n",
       "      <td>0.0</td>\n",
       "    </tr>\n",
       "    <tr>\n",
       "      <th>1375</th>\n",
       "      <td>1724f6de-5ba9-45a7-917d-8a0e575b6297</td>\n",
       "      <td>2023-01-21</td>\n",
       "      <td>0</td>\n",
       "      <td>0</td>\n",
       "      <td>0</td>\n",
       "      <td>4</td>\n",
       "      <td>1.0</td>\n",
       "      <td>0.0</td>\n",
       "      <td>0.0</td>\n",
       "      <td>0.0</td>\n",
       "      <td>0.0</td>\n",
       "      <td>0.0</td>\n",
       "    </tr>\n",
       "    <tr>\n",
       "      <th>2450</th>\n",
       "      <td>1724f6de-5ba9-45a7-917d-8a0e575b6297</td>\n",
       "      <td>2023-02-21</td>\n",
       "      <td>1</td>\n",
       "      <td>0</td>\n",
       "      <td>0</td>\n",
       "      <td>5</td>\n",
       "      <td>0.0</td>\n",
       "      <td>0.0</td>\n",
       "      <td>0.0</td>\n",
       "      <td>0.0</td>\n",
       "      <td>1.0</td>\n",
       "      <td>0.0</td>\n",
       "    </tr>\n",
       "    <tr>\n",
       "      <th>2796</th>\n",
       "      <td>1724f6de-5ba9-45a7-917d-8a0e575b6297</td>\n",
       "      <td>2023-03-21</td>\n",
       "      <td>0</td>\n",
       "      <td>0</td>\n",
       "      <td>0</td>\n",
       "      <td>6</td>\n",
       "      <td>0.0</td>\n",
       "      <td>1.0</td>\n",
       "      <td>0.0</td>\n",
       "      <td>0.0</td>\n",
       "      <td>1.0</td>\n",
       "      <td>0.0</td>\n",
       "    </tr>\n",
       "  </tbody>\n",
       "</table>\n",
       "</div>"
      ],
      "text/plain": [
       "                               business_id    due_date  DPD_plus_3  \\\n",
       "3273  1724f6de-5ba9-45a7-917d-8a0e575b6297  2022-09-10           0   \n",
       "3916  1724f6de-5ba9-45a7-917d-8a0e575b6297  2022-09-20           0   \n",
       "4559  1724f6de-5ba9-45a7-917d-8a0e575b6297  2022-10-10           0   \n",
       "1375  1724f6de-5ba9-45a7-917d-8a0e575b6297  2023-01-21           0   \n",
       "2450  1724f6de-5ba9-45a7-917d-8a0e575b6297  2023-02-21           1   \n",
       "2796  1724f6de-5ba9-45a7-917d-8a0e575b6297  2023-03-21           0   \n",
       "\n",
       "      DPD_plus_15 DPD_plus_30  emi_no  DPD_plus_3_next  DPD_plus_3_prev  \\\n",
       "3273            0           0       1              0.0              0.0   \n",
       "3916            0           0       2              0.0              0.0   \n",
       "4559            0           0       3              0.0              0.0   \n",
       "1375            0           0       4              1.0              0.0   \n",
       "2450            0           0       5              0.0              0.0   \n",
       "2796            0           0       6              0.0              1.0   \n",
       "\n",
       "      DPD_plus_15_next  DPD_plus_15_prev  DPD_plus_3_last_2  \\\n",
       "3273               0.0               0.0                0.0   \n",
       "3916               0.0               0.0                0.0   \n",
       "4559               0.0               0.0                0.0   \n",
       "1375               0.0               0.0                0.0   \n",
       "2450               0.0               0.0                1.0   \n",
       "2796               0.0               0.0                1.0   \n",
       "\n",
       "      DPD_plus_15_last_2  \n",
       "3273                 0.0  \n",
       "3916                 0.0  \n",
       "4559                 0.0  \n",
       "1375                 0.0  \n",
       "2450                 0.0  \n",
       "2796                 0.0  "
      ]
     },
     "execution_count": 36,
     "metadata": {},
     "output_type": "execute_result"
    }
   ],
   "source": [
    "base_df[base_df['business_id']=='1724f6de-5ba9-45a7-917d-8a0e575b6297'].sort_values('emi_no')"
   ]
  },
  {
   "cell_type": "code",
   "execution_count": 37,
   "metadata": {},
   "outputs": [],
   "source": [
    "bdf = base_df[['business_id','due_date','DPD_plus_15_next','DPD_plus_3_last_2','DPD_plus_15_prev','emi_no','DPD_plus_3']]"
   ]
  },
  {
   "cell_type": "code",
   "execution_count": 38,
   "metadata": {},
   "outputs": [
    {
     "data": {
      "text/html": [
       "<div>\n",
       "<style scoped>\n",
       "    .dataframe tbody tr th:only-of-type {\n",
       "        vertical-align: middle;\n",
       "    }\n",
       "\n",
       "    .dataframe tbody tr th {\n",
       "        vertical-align: top;\n",
       "    }\n",
       "\n",
       "    .dataframe thead th {\n",
       "        text-align: right;\n",
       "    }\n",
       "</style>\n",
       "<table border=\"1\" class=\"dataframe\">\n",
       "  <thead>\n",
       "    <tr style=\"text-align: right;\">\n",
       "      <th></th>\n",
       "      <th>business_id</th>\n",
       "      <th>due_date</th>\n",
       "      <th>count_pd_deposit_1m</th>\n",
       "      <th>count_ach_debit_1m</th>\n",
       "      <th>count_ach_credit_1m</th>\n",
       "      <th>count_card_withdrawal_1m</th>\n",
       "      <th>count_mrdc_credit_1m</th>\n",
       "      <th>count_pd_deposit_2m</th>\n",
       "      <th>count_ach_debit_2m</th>\n",
       "      <th>count_ach_credit_2m</th>\n",
       "      <th>count_card_withdrawal_2m</th>\n",
       "      <th>count_mrdc_credit_2m</th>\n",
       "      <th>amount_pd_deposit_1m</th>\n",
       "      <th>amount_ach_debit_1m</th>\n",
       "      <th>amount_ach_credit_1m</th>\n",
       "      <th>amount_card_withdrawal_1m</th>\n",
       "      <th>amount_mrdc_credit_1m</th>\n",
       "      <th>amount_pd_deposit_2m</th>\n",
       "      <th>amount_ach_debit_2m</th>\n",
       "      <th>amount_ach_credit_2m</th>\n",
       "      <th>amount_card_withdrawal_2m</th>\n",
       "      <th>amount_mrdc_credit_2m</th>\n",
       "      <th>pd_deposit_size_1m</th>\n",
       "      <th>ach_debit_size_1m</th>\n",
       "      <th>ach_credit_size_1m</th>\n",
       "      <th>card_withdrawal_size_1m</th>\n",
       "      <th>mrdc_credit_size_1m</th>\n",
       "      <th>pd_deposit_size_2m</th>\n",
       "      <th>ach_debit_size_2m</th>\n",
       "      <th>ach_credit_size_2m</th>\n",
       "      <th>card_withdrawal_size_2m</th>\n",
       "      <th>mrdc_credit_size_2m</th>\n",
       "      <th>amount_credited_1m</th>\n",
       "      <th>distinct_credit_txns_1m</th>\n",
       "      <th>credit_size_1m</th>\n",
       "      <th>median_amount_credited_1m</th>\n",
       "      <th>stddev_amount_credited_1m</th>\n",
       "      <th>amount_credited_2m</th>\n",
       "      <th>distinct_credit_txns_2m</th>\n",
       "      <th>credit_size_2m</th>\n",
       "      <th>median_amount_credited_2m</th>\n",
       "      <th>stddev_amount_credited_2m</th>\n",
       "      <th>amount_debited_1m</th>\n",
       "      <th>distinct_debit_txns_1m</th>\n",
       "      <th>debit_size_1m</th>\n",
       "      <th>median_amount_debited_1m</th>\n",
       "      <th>stddev_amount_debited_1m</th>\n",
       "      <th>amount_debited_2m</th>\n",
       "      <th>distinct_debit_txns_2m</th>\n",
       "      <th>debit_size_2m</th>\n",
       "      <th>median_amount_debited_2m</th>\n",
       "      <th>stddev_amount_debited_2m</th>\n",
       "      <th>ratio_debit_credit_1m</th>\n",
       "      <th>ratio_debit_credit_frequency_1m</th>\n",
       "      <th>ratio_debit_credit_2m</th>\n",
       "      <th>ratio_debit_credit_frequency_2m</th>\n",
       "      <th>ratio_pd_amt_total_credit_1m</th>\n",
       "      <th>ratio_ach_debit_total_debit_1m</th>\n",
       "      <th>ratio_ach_credit_total_credit_1m</th>\n",
       "      <th>ratio_card_withdrawal_total_debit_1m</th>\n",
       "      <th>ratio_mrdc_credit_total_credit_1m</th>\n",
       "      <th>ratio_pd_amt_total_credit_2m</th>\n",
       "      <th>ratio_ach_debit_total_debit_2m</th>\n",
       "      <th>ratio_ach_credit_total_credit_2m</th>\n",
       "      <th>ratio_card_withdrawal_total_debit_2m</th>\n",
       "      <th>ratio_mrdc_credit_total_credit_2m</th>\n",
       "      <th>ratio_pd_freq_total_credit_1m</th>\n",
       "      <th>ratio_ach_debit_freq_total_debit_1m</th>\n",
       "      <th>ratio_ach_credit_freq_total_credit_1m</th>\n",
       "      <th>ratio_card_withdrawal_freq_total_debit_1m</th>\n",
       "      <th>ratio_mrdc_credit_freq_total_credit_1m</th>\n",
       "      <th>ratio_pd_freq_total_credit_2m</th>\n",
       "      <th>ratio_ach_debit_freq_total_debit_2m</th>\n",
       "      <th>ratio_ach_credit_freq_total_credit_2m</th>\n",
       "      <th>ratio_card_withdrawal_freq_total_debit_2m</th>\n",
       "      <th>ratio_mrdc_credit_freq_total_credit_2m</th>\n",
       "      <th>ratio_ach_debit_credit_1m</th>\n",
       "      <th>ratio_ach_debit_credit_2m</th>\n",
       "      <th>ratio_ach_debit_credit_freq_1m</th>\n",
       "      <th>ratio_ach_debit_credit_freq_2m</th>\n",
       "      <th>ach_d_size_1m</th>\n",
       "      <th>ach_d_size_2m</th>\n",
       "      <th>ach_c_size_1m</th>\n",
       "      <th>ach_c_size_2m</th>\n",
       "      <th>od_count_1m</th>\n",
       "      <th>zero_balance_count_1m</th>\n",
       "      <th>avg_running_balance_1m</th>\n",
       "      <th>median_running_balance_1m</th>\n",
       "      <th>stddev_running_balance_1m</th>\n",
       "      <th>od_count_2m</th>\n",
       "      <th>zero_balance_count_2m</th>\n",
       "      <th>avg_running_balance_2m</th>\n",
       "      <th>median_running_balance_2m</th>\n",
       "      <th>stddev_running_balance_2m</th>\n",
       "      <th>avg_running_balance_2nd_m</th>\n",
       "      <th>median_running_balance_2nd_m</th>\n",
       "      <th>stddev_running_balance_2nd_m</th>\n",
       "      <th>ratio_avg_running_balance_1m_2m</th>\n",
       "      <th>revenue_past_1m</th>\n",
       "      <th>revenue_past_2m</th>\n",
       "      <th>total_revenue_2m</th>\n",
       "      <th>ratio_revenue_1m_2m</th>\n",
       "      <th>credit_limit</th>\n",
       "      <th>amount_drawn_1m_prev</th>\n",
       "      <th>amount_drawn_2m_prev</th>\n",
       "      <th>amount_cashin_1m_prev</th>\n",
       "      <th>amount_cashin_2m_prev</th>\n",
       "      <th>distinct_draws_1m_prev</th>\n",
       "      <th>distinct_draws_2m_prev</th>\n",
       "      <th>distinct_cashins_1m_prev</th>\n",
       "      <th>distinct_cashins_2m_prev</th>\n",
       "      <th>ratio_amt_drawn_mom</th>\n",
       "      <th>ratio_amt_cashin_mom</th>\n",
       "      <th>ratio_count_drawn_mom</th>\n",
       "      <th>ratio_count_cashin_mom</th>\n",
       "    </tr>\n",
       "  </thead>\n",
       "  <tbody>\n",
       "    <tr>\n",
       "      <th>0</th>\n",
       "      <td>114457cb-957e-437f-a7ce-bc8ea43bcf5b</td>\n",
       "      <td>2022-07-22</td>\n",
       "      <td>5.0</td>\n",
       "      <td>2.0</td>\n",
       "      <td>5.0</td>\n",
       "      <td>36.0</td>\n",
       "      <td>0.0</td>\n",
       "      <td>6.0</td>\n",
       "      <td>6.0</td>\n",
       "      <td>6.0</td>\n",
       "      <td>42.0</td>\n",
       "      <td>0.0</td>\n",
       "      <td>381.42</td>\n",
       "      <td>153.16</td>\n",
       "      <td>381.42</td>\n",
       "      <td>933.97</td>\n",
       "      <td>0.00</td>\n",
       "      <td>438.77</td>\n",
       "      <td>529.31</td>\n",
       "      <td>438.77</td>\n",
       "      <td>1599.21</td>\n",
       "      <td>0.00</td>\n",
       "      <td>63.570000</td>\n",
       "      <td>51.053333</td>\n",
       "      <td>63.570000</td>\n",
       "      <td>25.242432</td>\n",
       "      <td>0.00000</td>\n",
       "      <td>62.681429</td>\n",
       "      <td>75.615714</td>\n",
       "      <td>62.681429</td>\n",
       "      <td>37.190930</td>\n",
       "      <td>0.000000</td>\n",
       "      <td>781.42</td>\n",
       "      <td>6.0</td>\n",
       "      <td>111.631429</td>\n",
       "      <td>0.0</td>\n",
       "      <td>56.265891</td>\n",
       "      <td>2438.77</td>\n",
       "      <td>8.0</td>\n",
       "      <td>270.974444</td>\n",
       "      <td>0.0</td>\n",
       "      <td>215.688435</td>\n",
       "      <td>1771.96</td>\n",
       "      <td>40.0</td>\n",
       "      <td>43.218537</td>\n",
       "      <td>9.975</td>\n",
       "      <td>78.855042</td>\n",
       "      <td>2813.35</td>\n",
       "      <td>50.0</td>\n",
       "      <td>55.163725</td>\n",
       "      <td>19.04</td>\n",
       "      <td>85.966454</td>\n",
       "      <td>2.264717</td>\n",
       "      <td>5.714286</td>\n",
       "      <td>1.153121</td>\n",
       "      <td>5.555556</td>\n",
       "      <td>0.488111</td>\n",
       "      <td>0.086435</td>\n",
       "      <td>0.488111</td>\n",
       "      <td>0.527083</td>\n",
       "      <td>0.000000</td>\n",
       "      <td>0.179914</td>\n",
       "      <td>0.188142</td>\n",
       "      <td>0.179914</td>\n",
       "      <td>0.568436</td>\n",
       "      <td>0.000000</td>\n",
       "      <td>0.714286</td>\n",
       "      <td>0.048780</td>\n",
       "      <td>0.714286</td>\n",
       "      <td>0.878049</td>\n",
       "      <td>0.000000</td>\n",
       "      <td>0.666667</td>\n",
       "      <td>0.117647</td>\n",
       "      <td>0.666667</td>\n",
       "      <td>0.823529</td>\n",
       "      <td>0.000000</td>\n",
       "      <td>0.400502</td>\n",
       "      <td>1.203606</td>\n",
       "      <td>0.333333</td>\n",
       "      <td>0.857143</td>\n",
       "      <td>51.053333</td>\n",
       "      <td>75.615714</td>\n",
       "      <td>63.570000</td>\n",
       "      <td>62.681429</td>\n",
       "      <td>65</td>\n",
       "      <td>484</td>\n",
       "      <td>-19.239094</td>\n",
       "      <td>0.000</td>\n",
       "      <td>272.725779</td>\n",
       "      <td>65</td>\n",
       "      <td>484</td>\n",
       "      <td>7.581142</td>\n",
       "      <td>0.00</td>\n",
       "      <td>305.006155</td>\n",
       "      <td>520.741667</td>\n",
       "      <td>449.425</td>\n",
       "      <td>421.984920</td>\n",
       "      <td>-0.036875</td>\n",
       "      <td>245.52</td>\n",
       "      <td>1015.50</td>\n",
       "      <td>1261.02</td>\n",
       "      <td>0.241535</td>\n",
       "      <td>2000.0</td>\n",
       "      <td>0.0</td>\n",
       "      <td>2000.0</td>\n",
       "      <td>726.66</td>\n",
       "      <td>0.00</td>\n",
       "      <td>0.0</td>\n",
       "      <td>2.0</td>\n",
       "      <td>2.0</td>\n",
       "      <td>0.0</td>\n",
       "      <td>0.000000</td>\n",
       "      <td>726.660000</td>\n",
       "      <td>0.000000</td>\n",
       "      <td>2.000000</td>\n",
       "    </tr>\n",
       "    <tr>\n",
       "      <th>1</th>\n",
       "      <td>2a364bf3-30f1-4054-86c2-2d3369f3bb89</td>\n",
       "      <td>2022-08-13</td>\n",
       "      <td>0.0</td>\n",
       "      <td>2.0</td>\n",
       "      <td>22.0</td>\n",
       "      <td>8.0</td>\n",
       "      <td>0.0</td>\n",
       "      <td>0.0</td>\n",
       "      <td>7.0</td>\n",
       "      <td>42.0</td>\n",
       "      <td>24.0</td>\n",
       "      <td>1.0</td>\n",
       "      <td>0.00</td>\n",
       "      <td>1647.84</td>\n",
       "      <td>10916.33</td>\n",
       "      <td>3003.15</td>\n",
       "      <td>0.00</td>\n",
       "      <td>0.00</td>\n",
       "      <td>3493.42</td>\n",
       "      <td>19854.89</td>\n",
       "      <td>22781.80</td>\n",
       "      <td>19000.00</td>\n",
       "      <td>0.000000</td>\n",
       "      <td>549.280000</td>\n",
       "      <td>474.623043</td>\n",
       "      <td>333.683333</td>\n",
       "      <td>0.00000</td>\n",
       "      <td>0.000000</td>\n",
       "      <td>436.677500</td>\n",
       "      <td>461.741628</td>\n",
       "      <td>911.272000</td>\n",
       "      <td>9500.000000</td>\n",
       "      <td>12016.33</td>\n",
       "      <td>23.0</td>\n",
       "      <td>500.680417</td>\n",
       "      <td>0.0</td>\n",
       "      <td>274.331438</td>\n",
       "      <td>41331.53</td>\n",
       "      <td>46.0</td>\n",
       "      <td>879.394255</td>\n",
       "      <td>146.3</td>\n",
       "      <td>2037.006592</td>\n",
       "      <td>5559.32</td>\n",
       "      <td>11.0</td>\n",
       "      <td>463.276667</td>\n",
       "      <td>0.000</td>\n",
       "      <td>235.822204</td>\n",
       "      <td>39091.88</td>\n",
       "      <td>34.0</td>\n",
       "      <td>1116.910857</td>\n",
       "      <td>0.00</td>\n",
       "      <td>1493.834533</td>\n",
       "      <td>0.462609</td>\n",
       "      <td>0.458333</td>\n",
       "      <td>0.945790</td>\n",
       "      <td>0.723404</td>\n",
       "      <td>0.000000</td>\n",
       "      <td>0.296410</td>\n",
       "      <td>0.908458</td>\n",
       "      <td>0.540201</td>\n",
       "      <td>0.000000</td>\n",
       "      <td>0.000000</td>\n",
       "      <td>0.089364</td>\n",
       "      <td>0.480381</td>\n",
       "      <td>0.582776</td>\n",
       "      <td>0.459697</td>\n",
       "      <td>0.000000</td>\n",
       "      <td>0.166667</td>\n",
       "      <td>0.916667</td>\n",
       "      <td>0.666667</td>\n",
       "      <td>0.000000</td>\n",
       "      <td>0.000000</td>\n",
       "      <td>0.200000</td>\n",
       "      <td>0.893617</td>\n",
       "      <td>0.685714</td>\n",
       "      <td>0.021277</td>\n",
       "      <td>0.150938</td>\n",
       "      <td>0.175939</td>\n",
       "      <td>0.086957</td>\n",
       "      <td>0.162791</td>\n",
       "      <td>549.280000</td>\n",
       "      <td>436.677500</td>\n",
       "      <td>474.623043</td>\n",
       "      <td>461.741628</td>\n",
       "      <td>0</td>\n",
       "      <td>0</td>\n",
       "      <td>15588.446159</td>\n",
       "      <td>18129.275</td>\n",
       "      <td>3862.355466</td>\n",
       "      <td>0</td>\n",
       "      <td>0</td>\n",
       "      <td>15528.981031</td>\n",
       "      <td>17979.66</td>\n",
       "      <td>4137.316605</td>\n",
       "      <td>14434.822667</td>\n",
       "      <td>15060.080</td>\n",
       "      <td>7628.515639</td>\n",
       "      <td>1.079845</td>\n",
       "      <td>13371.77</td>\n",
       "      <td>9876.86</td>\n",
       "      <td>23248.63</td>\n",
       "      <td>1.353711</td>\n",
       "      <td>9000.0</td>\n",
       "      <td>0.0</td>\n",
       "      <td>1600.0</td>\n",
       "      <td>1489.65</td>\n",
       "      <td>908.33</td>\n",
       "      <td>0.0</td>\n",
       "      <td>2.0</td>\n",
       "      <td>3.0</td>\n",
       "      <td>1.0</td>\n",
       "      <td>0.000000</td>\n",
       "      <td>1.638184</td>\n",
       "      <td>0.000000</td>\n",
       "      <td>1.500000</td>\n",
       "    </tr>\n",
       "    <tr>\n",
       "      <th>2</th>\n",
       "      <td>3e48b368-a42f-4358-a0c6-ac86074ece0d</td>\n",
       "      <td>2022-09-11</td>\n",
       "      <td>10.0</td>\n",
       "      <td>6.0</td>\n",
       "      <td>16.0</td>\n",
       "      <td>200.0</td>\n",
       "      <td>7.0</td>\n",
       "      <td>26.0</td>\n",
       "      <td>14.0</td>\n",
       "      <td>32.0</td>\n",
       "      <td>325.0</td>\n",
       "      <td>13.0</td>\n",
       "      <td>1289.28</td>\n",
       "      <td>551.07</td>\n",
       "      <td>3834.68</td>\n",
       "      <td>10150.86</td>\n",
       "      <td>2031.99</td>\n",
       "      <td>4425.61</td>\n",
       "      <td>1572.74</td>\n",
       "      <td>6971.01</td>\n",
       "      <td>14081.24</td>\n",
       "      <td>3463.98</td>\n",
       "      <td>117.207273</td>\n",
       "      <td>78.724286</td>\n",
       "      <td>225.569412</td>\n",
       "      <td>50.501791</td>\n",
       "      <td>253.99875</td>\n",
       "      <td>163.911481</td>\n",
       "      <td>104.849333</td>\n",
       "      <td>211.242727</td>\n",
       "      <td>43.193988</td>\n",
       "      <td>247.427143</td>\n",
       "      <td>12151.86</td>\n",
       "      <td>26.0</td>\n",
       "      <td>450.068889</td>\n",
       "      <td>0.0</td>\n",
       "      <td>180.996127</td>\n",
       "      <td>17123.18</td>\n",
       "      <td>50.0</td>\n",
       "      <td>335.748627</td>\n",
       "      <td>0.0</td>\n",
       "      <td>187.426323</td>\n",
       "      <td>11045.27</td>\n",
       "      <td>208.0</td>\n",
       "      <td>52.848182</td>\n",
       "      <td>0.000</td>\n",
       "      <td>121.423027</td>\n",
       "      <td>17089.82</td>\n",
       "      <td>348.0</td>\n",
       "      <td>48.967966</td>\n",
       "      <td>7.01</td>\n",
       "      <td>129.676306</td>\n",
       "      <td>0.908862</td>\n",
       "      <td>7.703704</td>\n",
       "      <td>0.997993</td>\n",
       "      <td>6.823529</td>\n",
       "      <td>0.106097</td>\n",
       "      <td>0.049892</td>\n",
       "      <td>0.315563</td>\n",
       "      <td>0.919023</td>\n",
       "      <td>0.167216</td>\n",
       "      <td>0.258457</td>\n",
       "      <td>0.092028</td>\n",
       "      <td>0.407110</td>\n",
       "      <td>0.823955</td>\n",
       "      <td>0.202298</td>\n",
       "      <td>0.370370</td>\n",
       "      <td>0.028708</td>\n",
       "      <td>0.592593</td>\n",
       "      <td>0.956938</td>\n",
       "      <td>0.259259</td>\n",
       "      <td>0.509804</td>\n",
       "      <td>0.040115</td>\n",
       "      <td>0.627451</td>\n",
       "      <td>0.931232</td>\n",
       "      <td>0.254902</td>\n",
       "      <td>0.143669</td>\n",
       "      <td>0.225579</td>\n",
       "      <td>0.352941</td>\n",
       "      <td>0.424242</td>\n",
       "      <td>78.724286</td>\n",
       "      <td>104.849333</td>\n",
       "      <td>225.569412</td>\n",
       "      <td>211.242727</td>\n",
       "      <td>343</td>\n",
       "      <td>37</td>\n",
       "      <td>193.053384</td>\n",
       "      <td>-125.930</td>\n",
       "      <td>657.381895</td>\n",
       "      <td>343</td>\n",
       "      <td>37</td>\n",
       "      <td>213.142459</td>\n",
       "      <td>-125.93</td>\n",
       "      <td>648.497714</td>\n",
       "      <td>563.362000</td>\n",
       "      <td>539.080</td>\n",
       "      <td>303.413179</td>\n",
       "      <td>0.342074</td>\n",
       "      <td>7341.27</td>\n",
       "      <td>6238.32</td>\n",
       "      <td>13579.59</td>\n",
       "      <td>1.176614</td>\n",
       "      <td>7000.0</td>\n",
       "      <td>2200.0</td>\n",
       "      <td>5100.0</td>\n",
       "      <td>1961.99</td>\n",
       "      <td>109.00</td>\n",
       "      <td>2.0</td>\n",
       "      <td>3.0</td>\n",
       "      <td>4.0</td>\n",
       "      <td>1.0</td>\n",
       "      <td>0.431288</td>\n",
       "      <td>17.836273</td>\n",
       "      <td>0.500000</td>\n",
       "      <td>2.000000</td>\n",
       "    </tr>\n",
       "    <tr>\n",
       "      <th>3</th>\n",
       "      <td>3e2d4987-7c57-46d8-aced-ef32b838b5c9</td>\n",
       "      <td>2022-08-08</td>\n",
       "      <td>6.0</td>\n",
       "      <td>4.0</td>\n",
       "      <td>7.0</td>\n",
       "      <td>40.0</td>\n",
       "      <td>0.0</td>\n",
       "      <td>6.0</td>\n",
       "      <td>4.0</td>\n",
       "      <td>8.0</td>\n",
       "      <td>49.0</td>\n",
       "      <td>0.0</td>\n",
       "      <td>1133.32</td>\n",
       "      <td>1189.79</td>\n",
       "      <td>7630.12</td>\n",
       "      <td>5017.43</td>\n",
       "      <td>0.00</td>\n",
       "      <td>1133.32</td>\n",
       "      <td>1189.79</td>\n",
       "      <td>7650.74</td>\n",
       "      <td>5580.72</td>\n",
       "      <td>0.00</td>\n",
       "      <td>161.902857</td>\n",
       "      <td>237.958000</td>\n",
       "      <td>953.765000</td>\n",
       "      <td>122.376341</td>\n",
       "      <td>0.00000</td>\n",
       "      <td>161.902857</td>\n",
       "      <td>237.958000</td>\n",
       "      <td>850.082222</td>\n",
       "      <td>111.614400</td>\n",
       "      <td>0.000000</td>\n",
       "      <td>9981.44</td>\n",
       "      <td>15.0</td>\n",
       "      <td>623.840000</td>\n",
       "      <td>0.0</td>\n",
       "      <td>767.828531</td>\n",
       "      <td>15002.06</td>\n",
       "      <td>18.0</td>\n",
       "      <td>789.582105</td>\n",
       "      <td>0.0</td>\n",
       "      <td>862.912025</td>\n",
       "      <td>12529.79</td>\n",
       "      <td>55.0</td>\n",
       "      <td>223.746250</td>\n",
       "      <td>31.730</td>\n",
       "      <td>277.300641</td>\n",
       "      <td>15449.08</td>\n",
       "      <td>67.0</td>\n",
       "      <td>227.192353</td>\n",
       "      <td>46.01</td>\n",
       "      <td>296.830854</td>\n",
       "      <td>1.255183</td>\n",
       "      <td>3.437500</td>\n",
       "      <td>1.029729</td>\n",
       "      <td>3.526316</td>\n",
       "      <td>0.113543</td>\n",
       "      <td>0.094957</td>\n",
       "      <td>0.764431</td>\n",
       "      <td>0.400440</td>\n",
       "      <td>0.000000</td>\n",
       "      <td>0.075544</td>\n",
       "      <td>0.077014</td>\n",
       "      <td>0.509979</td>\n",
       "      <td>0.361233</td>\n",
       "      <td>0.000000</td>\n",
       "      <td>0.375000</td>\n",
       "      <td>0.071429</td>\n",
       "      <td>0.437500</td>\n",
       "      <td>0.714286</td>\n",
       "      <td>0.000000</td>\n",
       "      <td>0.315789</td>\n",
       "      <td>0.058824</td>\n",
       "      <td>0.421053</td>\n",
       "      <td>0.720588</td>\n",
       "      <td>0.000000</td>\n",
       "      <td>0.155913</td>\n",
       "      <td>0.155493</td>\n",
       "      <td>0.500000</td>\n",
       "      <td>0.444444</td>\n",
       "      <td>237.958000</td>\n",
       "      <td>237.958000</td>\n",
       "      <td>953.765000</td>\n",
       "      <td>850.082222</td>\n",
       "      <td>303</td>\n",
       "      <td>2</td>\n",
       "      <td>236.243645</td>\n",
       "      <td>-85.890</td>\n",
       "      <td>847.653998</td>\n",
       "      <td>303</td>\n",
       "      <td>2</td>\n",
       "      <td>334.177922</td>\n",
       "      <td>-27.00</td>\n",
       "      <td>1090.843404</td>\n",
       "      <td>2152.491000</td>\n",
       "      <td>1400.830</td>\n",
       "      <td>2581.624064</td>\n",
       "      <td>0.109703</td>\n",
       "      <td>7089.48</td>\n",
       "      <td>7823.66</td>\n",
       "      <td>14913.14</td>\n",
       "      <td>0.906043</td>\n",
       "      <td>5000.0</td>\n",
       "      <td>2900.0</td>\n",
       "      <td>5000.0</td>\n",
       "      <td>3088.32</td>\n",
       "      <td>0.00</td>\n",
       "      <td>2.0</td>\n",
       "      <td>2.0</td>\n",
       "      <td>3.0</td>\n",
       "      <td>0.0</td>\n",
       "      <td>0.579884</td>\n",
       "      <td>3088.320000</td>\n",
       "      <td>0.666667</td>\n",
       "      <td>3.000000</td>\n",
       "    </tr>\n",
       "    <tr>\n",
       "      <th>4</th>\n",
       "      <td>f75b703a-6831-44ad-9ffd-9d6f8fc6090e</td>\n",
       "      <td>2022-09-06</td>\n",
       "      <td>4.0</td>\n",
       "      <td>1.0</td>\n",
       "      <td>2.0</td>\n",
       "      <td>0.0</td>\n",
       "      <td>0.0</td>\n",
       "      <td>10.0</td>\n",
       "      <td>2.0</td>\n",
       "      <td>5.0</td>\n",
       "      <td>0.0</td>\n",
       "      <td>0.0</td>\n",
       "      <td>28084.95</td>\n",
       "      <td>35.00</td>\n",
       "      <td>18084.95</td>\n",
       "      <td>0.00</td>\n",
       "      <td>0.00</td>\n",
       "      <td>51069.30</td>\n",
       "      <td>845.88</td>\n",
       "      <td>31069.30</td>\n",
       "      <td>0.00</td>\n",
       "      <td>0.00</td>\n",
       "      <td>5616.990000</td>\n",
       "      <td>17.500000</td>\n",
       "      <td>6028.316667</td>\n",
       "      <td>0.000000</td>\n",
       "      <td>0.00000</td>\n",
       "      <td>4642.663636</td>\n",
       "      <td>281.960000</td>\n",
       "      <td>5178.216667</td>\n",
       "      <td>0.000000</td>\n",
       "      <td>0.000000</td>\n",
       "      <td>31941.33</td>\n",
       "      <td>7.0</td>\n",
       "      <td>3992.666250</td>\n",
       "      <td>0.0</td>\n",
       "      <td>1705.431746</td>\n",
       "      <td>54929.18</td>\n",
       "      <td>14.0</td>\n",
       "      <td>3661.945333</td>\n",
       "      <td>0.0</td>\n",
       "      <td>2051.741814</td>\n",
       "      <td>22411.88</td>\n",
       "      <td>20.0</td>\n",
       "      <td>1067.232381</td>\n",
       "      <td>0.000</td>\n",
       "      <td>993.095053</td>\n",
       "      <td>53717.47</td>\n",
       "      <td>42.0</td>\n",
       "      <td>1249.243488</td>\n",
       "      <td>20.00</td>\n",
       "      <td>1372.093191</td>\n",
       "      <td>0.701636</td>\n",
       "      <td>2.500000</td>\n",
       "      <td>0.977923</td>\n",
       "      <td>2.800000</td>\n",
       "      <td>0.879267</td>\n",
       "      <td>0.001562</td>\n",
       "      <td>0.566193</td>\n",
       "      <td>0.000000</td>\n",
       "      <td>0.000000</td>\n",
       "      <td>0.929730</td>\n",
       "      <td>0.015747</td>\n",
       "      <td>0.565625</td>\n",
       "      <td>0.000000</td>\n",
       "      <td>0.000000</td>\n",
       "      <td>0.500000</td>\n",
       "      <td>0.047619</td>\n",
       "      <td>0.250000</td>\n",
       "      <td>0.000000</td>\n",
       "      <td>0.000000</td>\n",
       "      <td>0.666667</td>\n",
       "      <td>0.046512</td>\n",
       "      <td>0.333333</td>\n",
       "      <td>0.000000</td>\n",
       "      <td>0.000000</td>\n",
       "      <td>0.001935</td>\n",
       "      <td>0.027225</td>\n",
       "      <td>0.333333</td>\n",
       "      <td>0.333333</td>\n",
       "      <td>17.500000</td>\n",
       "      <td>281.960000</td>\n",
       "      <td>6028.316667</td>\n",
       "      <td>5178.216667</td>\n",
       "      <td>4</td>\n",
       "      <td>0</td>\n",
       "      <td>940.485492</td>\n",
       "      <td>40.360</td>\n",
       "      <td>2022.931126</td>\n",
       "      <td>5</td>\n",
       "      <td>0</td>\n",
       "      <td>1159.285950</td>\n",
       "      <td>40.36</td>\n",
       "      <td>2407.292454</td>\n",
       "      <td>5010.174000</td>\n",
       "      <td>2022.120</td>\n",
       "      <td>4552.654974</td>\n",
       "      <td>0.187678</td>\n",
       "      <td>16458.37</td>\n",
       "      <td>24040.86</td>\n",
       "      <td>40499.23</td>\n",
       "      <td>0.684571</td>\n",
       "      <td>10000.0</td>\n",
       "      <td>0.0</td>\n",
       "      <td>0.0</td>\n",
       "      <td>3633.33</td>\n",
       "      <td>3833.33</td>\n",
       "      <td>0.0</td>\n",
       "      <td>0.0</td>\n",
       "      <td>1.0</td>\n",
       "      <td>2.0</td>\n",
       "      <td>0.000000</td>\n",
       "      <td>0.947579</td>\n",
       "      <td>0.000000</td>\n",
       "      <td>0.333333</td>\n",
       "    </tr>\n",
       "  </tbody>\n",
       "</table>\n",
       "</div>"
      ],
      "text/plain": [
       "                            business_id    due_date  count_pd_deposit_1m  \\\n",
       "0  114457cb-957e-437f-a7ce-bc8ea43bcf5b  2022-07-22                  5.0   \n",
       "1  2a364bf3-30f1-4054-86c2-2d3369f3bb89  2022-08-13                  0.0   \n",
       "2  3e48b368-a42f-4358-a0c6-ac86074ece0d  2022-09-11                 10.0   \n",
       "3  3e2d4987-7c57-46d8-aced-ef32b838b5c9  2022-08-08                  6.0   \n",
       "4  f75b703a-6831-44ad-9ffd-9d6f8fc6090e  2022-09-06                  4.0   \n",
       "\n",
       "   count_ach_debit_1m  count_ach_credit_1m  count_card_withdrawal_1m  \\\n",
       "0                 2.0                  5.0                      36.0   \n",
       "1                 2.0                 22.0                       8.0   \n",
       "2                 6.0                 16.0                     200.0   \n",
       "3                 4.0                  7.0                      40.0   \n",
       "4                 1.0                  2.0                       0.0   \n",
       "\n",
       "   count_mrdc_credit_1m  count_pd_deposit_2m  count_ach_debit_2m  \\\n",
       "0                   0.0                  6.0                 6.0   \n",
       "1                   0.0                  0.0                 7.0   \n",
       "2                   7.0                 26.0                14.0   \n",
       "3                   0.0                  6.0                 4.0   \n",
       "4                   0.0                 10.0                 2.0   \n",
       "\n",
       "   count_ach_credit_2m  count_card_withdrawal_2m  count_mrdc_credit_2m  \\\n",
       "0                  6.0                      42.0                   0.0   \n",
       "1                 42.0                      24.0                   1.0   \n",
       "2                 32.0                     325.0                  13.0   \n",
       "3                  8.0                      49.0                   0.0   \n",
       "4                  5.0                       0.0                   0.0   \n",
       "\n",
       "   amount_pd_deposit_1m  amount_ach_debit_1m  amount_ach_credit_1m  \\\n",
       "0                381.42               153.16                381.42   \n",
       "1                  0.00              1647.84              10916.33   \n",
       "2               1289.28               551.07               3834.68   \n",
       "3               1133.32              1189.79               7630.12   \n",
       "4              28084.95                35.00              18084.95   \n",
       "\n",
       "   amount_card_withdrawal_1m  amount_mrdc_credit_1m  amount_pd_deposit_2m  \\\n",
       "0                     933.97                   0.00                438.77   \n",
       "1                    3003.15                   0.00                  0.00   \n",
       "2                   10150.86                2031.99               4425.61   \n",
       "3                    5017.43                   0.00               1133.32   \n",
       "4                       0.00                   0.00              51069.30   \n",
       "\n",
       "   amount_ach_debit_2m  amount_ach_credit_2m  amount_card_withdrawal_2m  \\\n",
       "0               529.31                438.77                    1599.21   \n",
       "1              3493.42              19854.89                   22781.80   \n",
       "2              1572.74               6971.01                   14081.24   \n",
       "3              1189.79               7650.74                    5580.72   \n",
       "4               845.88              31069.30                       0.00   \n",
       "\n",
       "   amount_mrdc_credit_2m  pd_deposit_size_1m  ach_debit_size_1m  \\\n",
       "0                   0.00           63.570000          51.053333   \n",
       "1               19000.00            0.000000         549.280000   \n",
       "2                3463.98          117.207273          78.724286   \n",
       "3                   0.00          161.902857         237.958000   \n",
       "4                   0.00         5616.990000          17.500000   \n",
       "\n",
       "   ach_credit_size_1m  card_withdrawal_size_1m  mrdc_credit_size_1m  \\\n",
       "0           63.570000                25.242432              0.00000   \n",
       "1          474.623043               333.683333              0.00000   \n",
       "2          225.569412                50.501791            253.99875   \n",
       "3          953.765000               122.376341              0.00000   \n",
       "4         6028.316667                 0.000000              0.00000   \n",
       "\n",
       "   pd_deposit_size_2m  ach_debit_size_2m  ach_credit_size_2m  \\\n",
       "0           62.681429          75.615714           62.681429   \n",
       "1            0.000000         436.677500          461.741628   \n",
       "2          163.911481         104.849333          211.242727   \n",
       "3          161.902857         237.958000          850.082222   \n",
       "4         4642.663636         281.960000         5178.216667   \n",
       "\n",
       "   card_withdrawal_size_2m  mrdc_credit_size_2m  amount_credited_1m  \\\n",
       "0                37.190930             0.000000              781.42   \n",
       "1               911.272000          9500.000000            12016.33   \n",
       "2                43.193988           247.427143            12151.86   \n",
       "3               111.614400             0.000000             9981.44   \n",
       "4                 0.000000             0.000000            31941.33   \n",
       "\n",
       "   distinct_credit_txns_1m  credit_size_1m  median_amount_credited_1m  \\\n",
       "0                      6.0      111.631429                        0.0   \n",
       "1                     23.0      500.680417                        0.0   \n",
       "2                     26.0      450.068889                        0.0   \n",
       "3                     15.0      623.840000                        0.0   \n",
       "4                      7.0     3992.666250                        0.0   \n",
       "\n",
       "   stddev_amount_credited_1m  amount_credited_2m  distinct_credit_txns_2m  \\\n",
       "0                  56.265891             2438.77                      8.0   \n",
       "1                 274.331438            41331.53                     46.0   \n",
       "2                 180.996127            17123.18                     50.0   \n",
       "3                 767.828531            15002.06                     18.0   \n",
       "4                1705.431746            54929.18                     14.0   \n",
       "\n",
       "   credit_size_2m  median_amount_credited_2m  stddev_amount_credited_2m  \\\n",
       "0      270.974444                        0.0                 215.688435   \n",
       "1      879.394255                      146.3                2037.006592   \n",
       "2      335.748627                        0.0                 187.426323   \n",
       "3      789.582105                        0.0                 862.912025   \n",
       "4     3661.945333                        0.0                2051.741814   \n",
       "\n",
       "   amount_debited_1m  distinct_debit_txns_1m  debit_size_1m  \\\n",
       "0            1771.96                    40.0      43.218537   \n",
       "1            5559.32                    11.0     463.276667   \n",
       "2           11045.27                   208.0      52.848182   \n",
       "3           12529.79                    55.0     223.746250   \n",
       "4           22411.88                    20.0    1067.232381   \n",
       "\n",
       "   median_amount_debited_1m  stddev_amount_debited_1m  amount_debited_2m  \\\n",
       "0                     9.975                 78.855042            2813.35   \n",
       "1                     0.000                235.822204           39091.88   \n",
       "2                     0.000                121.423027           17089.82   \n",
       "3                    31.730                277.300641           15449.08   \n",
       "4                     0.000                993.095053           53717.47   \n",
       "\n",
       "   distinct_debit_txns_2m  debit_size_2m  median_amount_debited_2m  \\\n",
       "0                    50.0      55.163725                     19.04   \n",
       "1                    34.0    1116.910857                      0.00   \n",
       "2                   348.0      48.967966                      7.01   \n",
       "3                    67.0     227.192353                     46.01   \n",
       "4                    42.0    1249.243488                     20.00   \n",
       "\n",
       "   stddev_amount_debited_2m  ratio_debit_credit_1m  \\\n",
       "0                 85.966454               2.264717   \n",
       "1               1493.834533               0.462609   \n",
       "2                129.676306               0.908862   \n",
       "3                296.830854               1.255183   \n",
       "4               1372.093191               0.701636   \n",
       "\n",
       "   ratio_debit_credit_frequency_1m  ratio_debit_credit_2m  \\\n",
       "0                         5.714286               1.153121   \n",
       "1                         0.458333               0.945790   \n",
       "2                         7.703704               0.997993   \n",
       "3                         3.437500               1.029729   \n",
       "4                         2.500000               0.977923   \n",
       "\n",
       "   ratio_debit_credit_frequency_2m  ratio_pd_amt_total_credit_1m  \\\n",
       "0                         5.555556                      0.488111   \n",
       "1                         0.723404                      0.000000   \n",
       "2                         6.823529                      0.106097   \n",
       "3                         3.526316                      0.113543   \n",
       "4                         2.800000                      0.879267   \n",
       "\n",
       "   ratio_ach_debit_total_debit_1m  ratio_ach_credit_total_credit_1m  \\\n",
       "0                        0.086435                          0.488111   \n",
       "1                        0.296410                          0.908458   \n",
       "2                        0.049892                          0.315563   \n",
       "3                        0.094957                          0.764431   \n",
       "4                        0.001562                          0.566193   \n",
       "\n",
       "   ratio_card_withdrawal_total_debit_1m  ratio_mrdc_credit_total_credit_1m  \\\n",
       "0                              0.527083                           0.000000   \n",
       "1                              0.540201                           0.000000   \n",
       "2                              0.919023                           0.167216   \n",
       "3                              0.400440                           0.000000   \n",
       "4                              0.000000                           0.000000   \n",
       "\n",
       "   ratio_pd_amt_total_credit_2m  ratio_ach_debit_total_debit_2m  \\\n",
       "0                      0.179914                        0.188142   \n",
       "1                      0.000000                        0.089364   \n",
       "2                      0.258457                        0.092028   \n",
       "3                      0.075544                        0.077014   \n",
       "4                      0.929730                        0.015747   \n",
       "\n",
       "   ratio_ach_credit_total_credit_2m  ratio_card_withdrawal_total_debit_2m  \\\n",
       "0                          0.179914                              0.568436   \n",
       "1                          0.480381                              0.582776   \n",
       "2                          0.407110                              0.823955   \n",
       "3                          0.509979                              0.361233   \n",
       "4                          0.565625                              0.000000   \n",
       "\n",
       "   ratio_mrdc_credit_total_credit_2m  ratio_pd_freq_total_credit_1m  \\\n",
       "0                           0.000000                       0.714286   \n",
       "1                           0.459697                       0.000000   \n",
       "2                           0.202298                       0.370370   \n",
       "3                           0.000000                       0.375000   \n",
       "4                           0.000000                       0.500000   \n",
       "\n",
       "   ratio_ach_debit_freq_total_debit_1m  ratio_ach_credit_freq_total_credit_1m  \\\n",
       "0                             0.048780                               0.714286   \n",
       "1                             0.166667                               0.916667   \n",
       "2                             0.028708                               0.592593   \n",
       "3                             0.071429                               0.437500   \n",
       "4                             0.047619                               0.250000   \n",
       "\n",
       "   ratio_card_withdrawal_freq_total_debit_1m  \\\n",
       "0                                   0.878049   \n",
       "1                                   0.666667   \n",
       "2                                   0.956938   \n",
       "3                                   0.714286   \n",
       "4                                   0.000000   \n",
       "\n",
       "   ratio_mrdc_credit_freq_total_credit_1m  ratio_pd_freq_total_credit_2m  \\\n",
       "0                                0.000000                       0.666667   \n",
       "1                                0.000000                       0.000000   \n",
       "2                                0.259259                       0.509804   \n",
       "3                                0.000000                       0.315789   \n",
       "4                                0.000000                       0.666667   \n",
       "\n",
       "   ratio_ach_debit_freq_total_debit_2m  ratio_ach_credit_freq_total_credit_2m  \\\n",
       "0                             0.117647                               0.666667   \n",
       "1                             0.200000                               0.893617   \n",
       "2                             0.040115                               0.627451   \n",
       "3                             0.058824                               0.421053   \n",
       "4                             0.046512                               0.333333   \n",
       "\n",
       "   ratio_card_withdrawal_freq_total_debit_2m  \\\n",
       "0                                   0.823529   \n",
       "1                                   0.685714   \n",
       "2                                   0.931232   \n",
       "3                                   0.720588   \n",
       "4                                   0.000000   \n",
       "\n",
       "   ratio_mrdc_credit_freq_total_credit_2m  ratio_ach_debit_credit_1m  \\\n",
       "0                                0.000000                   0.400502   \n",
       "1                                0.021277                   0.150938   \n",
       "2                                0.254902                   0.143669   \n",
       "3                                0.000000                   0.155913   \n",
       "4                                0.000000                   0.001935   \n",
       "\n",
       "   ratio_ach_debit_credit_2m  ratio_ach_debit_credit_freq_1m  \\\n",
       "0                   1.203606                        0.333333   \n",
       "1                   0.175939                        0.086957   \n",
       "2                   0.225579                        0.352941   \n",
       "3                   0.155493                        0.500000   \n",
       "4                   0.027225                        0.333333   \n",
       "\n",
       "   ratio_ach_debit_credit_freq_2m  ach_d_size_1m  ach_d_size_2m  \\\n",
       "0                        0.857143      51.053333      75.615714   \n",
       "1                        0.162791     549.280000     436.677500   \n",
       "2                        0.424242      78.724286     104.849333   \n",
       "3                        0.444444     237.958000     237.958000   \n",
       "4                        0.333333      17.500000     281.960000   \n",
       "\n",
       "   ach_c_size_1m  ach_c_size_2m  od_count_1m  zero_balance_count_1m  \\\n",
       "0      63.570000      62.681429           65                    484   \n",
       "1     474.623043     461.741628            0                      0   \n",
       "2     225.569412     211.242727          343                     37   \n",
       "3     953.765000     850.082222          303                      2   \n",
       "4    6028.316667    5178.216667            4                      0   \n",
       "\n",
       "   avg_running_balance_1m  median_running_balance_1m  \\\n",
       "0              -19.239094                      0.000   \n",
       "1            15588.446159                  18129.275   \n",
       "2              193.053384                   -125.930   \n",
       "3              236.243645                    -85.890   \n",
       "4              940.485492                     40.360   \n",
       "\n",
       "   stddev_running_balance_1m  od_count_2m  zero_balance_count_2m  \\\n",
       "0                 272.725779           65                    484   \n",
       "1                3862.355466            0                      0   \n",
       "2                 657.381895          343                     37   \n",
       "3                 847.653998          303                      2   \n",
       "4                2022.931126            5                      0   \n",
       "\n",
       "   avg_running_balance_2m  median_running_balance_2m  \\\n",
       "0                7.581142                       0.00   \n",
       "1            15528.981031                   17979.66   \n",
       "2              213.142459                    -125.93   \n",
       "3              334.177922                     -27.00   \n",
       "4             1159.285950                      40.36   \n",
       "\n",
       "   stddev_running_balance_2m  avg_running_balance_2nd_m  \\\n",
       "0                 305.006155                 520.741667   \n",
       "1                4137.316605               14434.822667   \n",
       "2                 648.497714                 563.362000   \n",
       "3                1090.843404                2152.491000   \n",
       "4                2407.292454                5010.174000   \n",
       "\n",
       "   median_running_balance_2nd_m  stddev_running_balance_2nd_m  \\\n",
       "0                       449.425                    421.984920   \n",
       "1                     15060.080                   7628.515639   \n",
       "2                       539.080                    303.413179   \n",
       "3                      1400.830                   2581.624064   \n",
       "4                      2022.120                   4552.654974   \n",
       "\n",
       "   ratio_avg_running_balance_1m_2m  revenue_past_1m  revenue_past_2m  \\\n",
       "0                        -0.036875           245.52          1015.50   \n",
       "1                         1.079845         13371.77          9876.86   \n",
       "2                         0.342074          7341.27          6238.32   \n",
       "3                         0.109703          7089.48          7823.66   \n",
       "4                         0.187678         16458.37         24040.86   \n",
       "\n",
       "   total_revenue_2m  ratio_revenue_1m_2m  credit_limit  amount_drawn_1m_prev  \\\n",
       "0           1261.02             0.241535        2000.0                   0.0   \n",
       "1          23248.63             1.353711        9000.0                   0.0   \n",
       "2          13579.59             1.176614        7000.0                2200.0   \n",
       "3          14913.14             0.906043        5000.0                2900.0   \n",
       "4          40499.23             0.684571       10000.0                   0.0   \n",
       "\n",
       "   amount_drawn_2m_prev  amount_cashin_1m_prev  amount_cashin_2m_prev  \\\n",
       "0                2000.0                 726.66                   0.00   \n",
       "1                1600.0                1489.65                 908.33   \n",
       "2                5100.0                1961.99                 109.00   \n",
       "3                5000.0                3088.32                   0.00   \n",
       "4                   0.0                3633.33                3833.33   \n",
       "\n",
       "   distinct_draws_1m_prev  distinct_draws_2m_prev  distinct_cashins_1m_prev  \\\n",
       "0                     0.0                     2.0                       2.0   \n",
       "1                     0.0                     2.0                       3.0   \n",
       "2                     2.0                     3.0                       4.0   \n",
       "3                     2.0                     2.0                       3.0   \n",
       "4                     0.0                     0.0                       1.0   \n",
       "\n",
       "   distinct_cashins_2m_prev  ratio_amt_drawn_mom  ratio_amt_cashin_mom  \\\n",
       "0                       0.0             0.000000            726.660000   \n",
       "1                       1.0             0.000000              1.638184   \n",
       "2                       1.0             0.431288             17.836273   \n",
       "3                       0.0             0.579884           3088.320000   \n",
       "4                       2.0             0.000000              0.947579   \n",
       "\n",
       "   ratio_count_drawn_mom  ratio_count_cashin_mom  \n",
       "0               0.000000                2.000000  \n",
       "1               0.000000                1.500000  \n",
       "2               0.500000                2.000000  \n",
       "3               0.666667                3.000000  \n",
       "4               0.000000                0.333333  "
      ]
     },
     "execution_count": 38,
     "metadata": {},
     "output_type": "execute_result"
    }
   ],
   "source": [
    "df.head()"
   ]
  },
  {
   "cell_type": "code",
   "execution_count": 132,
   "metadata": {},
   "outputs": [],
   "source": [
    "dff = bdf.merge(df,how='inner', left_on = ['business_id','due_date'], right_on = ['business_id','due_date'])"
   ]
  },
  {
   "cell_type": "code",
   "execution_count": 133,
   "metadata": {},
   "outputs": [
    {
     "data": {
      "text/html": [
       "<div>\n",
       "<style scoped>\n",
       "    .dataframe tbody tr th:only-of-type {\n",
       "        vertical-align: middle;\n",
       "    }\n",
       "\n",
       "    .dataframe tbody tr th {\n",
       "        vertical-align: top;\n",
       "    }\n",
       "\n",
       "    .dataframe thead th {\n",
       "        text-align: right;\n",
       "    }\n",
       "</style>\n",
       "<table border=\"1\" class=\"dataframe\">\n",
       "  <thead>\n",
       "    <tr style=\"text-align: right;\">\n",
       "      <th></th>\n",
       "      <th>business_id</th>\n",
       "      <th>due_date</th>\n",
       "      <th>DPD_plus_15_next</th>\n",
       "      <th>DPD_plus_3_last_2</th>\n",
       "      <th>DPD_plus_15_prev</th>\n",
       "      <th>emi_no</th>\n",
       "      <th>DPD_plus_3</th>\n",
       "      <th>count_pd_deposit_1m</th>\n",
       "      <th>count_ach_debit_1m</th>\n",
       "      <th>count_ach_credit_1m</th>\n",
       "      <th>count_card_withdrawal_1m</th>\n",
       "      <th>count_mrdc_credit_1m</th>\n",
       "      <th>count_pd_deposit_2m</th>\n",
       "      <th>count_ach_debit_2m</th>\n",
       "      <th>count_ach_credit_2m</th>\n",
       "      <th>count_card_withdrawal_2m</th>\n",
       "      <th>count_mrdc_credit_2m</th>\n",
       "      <th>amount_pd_deposit_1m</th>\n",
       "      <th>amount_ach_debit_1m</th>\n",
       "      <th>amount_ach_credit_1m</th>\n",
       "      <th>amount_card_withdrawal_1m</th>\n",
       "      <th>amount_mrdc_credit_1m</th>\n",
       "      <th>amount_pd_deposit_2m</th>\n",
       "      <th>amount_ach_debit_2m</th>\n",
       "      <th>amount_ach_credit_2m</th>\n",
       "      <th>amount_card_withdrawal_2m</th>\n",
       "      <th>amount_mrdc_credit_2m</th>\n",
       "      <th>pd_deposit_size_1m</th>\n",
       "      <th>ach_debit_size_1m</th>\n",
       "      <th>ach_credit_size_1m</th>\n",
       "      <th>card_withdrawal_size_1m</th>\n",
       "      <th>mrdc_credit_size_1m</th>\n",
       "      <th>pd_deposit_size_2m</th>\n",
       "      <th>ach_debit_size_2m</th>\n",
       "      <th>ach_credit_size_2m</th>\n",
       "      <th>card_withdrawal_size_2m</th>\n",
       "      <th>mrdc_credit_size_2m</th>\n",
       "      <th>amount_credited_1m</th>\n",
       "      <th>distinct_credit_txns_1m</th>\n",
       "      <th>credit_size_1m</th>\n",
       "      <th>median_amount_credited_1m</th>\n",
       "      <th>stddev_amount_credited_1m</th>\n",
       "      <th>amount_credited_2m</th>\n",
       "      <th>distinct_credit_txns_2m</th>\n",
       "      <th>credit_size_2m</th>\n",
       "      <th>median_amount_credited_2m</th>\n",
       "      <th>stddev_amount_credited_2m</th>\n",
       "      <th>amount_debited_1m</th>\n",
       "      <th>distinct_debit_txns_1m</th>\n",
       "      <th>debit_size_1m</th>\n",
       "      <th>median_amount_debited_1m</th>\n",
       "      <th>stddev_amount_debited_1m</th>\n",
       "      <th>amount_debited_2m</th>\n",
       "      <th>distinct_debit_txns_2m</th>\n",
       "      <th>debit_size_2m</th>\n",
       "      <th>median_amount_debited_2m</th>\n",
       "      <th>stddev_amount_debited_2m</th>\n",
       "      <th>ratio_debit_credit_1m</th>\n",
       "      <th>ratio_debit_credit_frequency_1m</th>\n",
       "      <th>ratio_debit_credit_2m</th>\n",
       "      <th>ratio_debit_credit_frequency_2m</th>\n",
       "      <th>ratio_pd_amt_total_credit_1m</th>\n",
       "      <th>ratio_ach_debit_total_debit_1m</th>\n",
       "      <th>ratio_ach_credit_total_credit_1m</th>\n",
       "      <th>ratio_card_withdrawal_total_debit_1m</th>\n",
       "      <th>ratio_mrdc_credit_total_credit_1m</th>\n",
       "      <th>ratio_pd_amt_total_credit_2m</th>\n",
       "      <th>ratio_ach_debit_total_debit_2m</th>\n",
       "      <th>ratio_ach_credit_total_credit_2m</th>\n",
       "      <th>ratio_card_withdrawal_total_debit_2m</th>\n",
       "      <th>ratio_mrdc_credit_total_credit_2m</th>\n",
       "      <th>ratio_pd_freq_total_credit_1m</th>\n",
       "      <th>ratio_ach_debit_freq_total_debit_1m</th>\n",
       "      <th>ratio_ach_credit_freq_total_credit_1m</th>\n",
       "      <th>ratio_card_withdrawal_freq_total_debit_1m</th>\n",
       "      <th>ratio_mrdc_credit_freq_total_credit_1m</th>\n",
       "      <th>ratio_pd_freq_total_credit_2m</th>\n",
       "      <th>ratio_ach_debit_freq_total_debit_2m</th>\n",
       "      <th>ratio_ach_credit_freq_total_credit_2m</th>\n",
       "      <th>ratio_card_withdrawal_freq_total_debit_2m</th>\n",
       "      <th>ratio_mrdc_credit_freq_total_credit_2m</th>\n",
       "      <th>ratio_ach_debit_credit_1m</th>\n",
       "      <th>ratio_ach_debit_credit_2m</th>\n",
       "      <th>ratio_ach_debit_credit_freq_1m</th>\n",
       "      <th>ratio_ach_debit_credit_freq_2m</th>\n",
       "      <th>ach_d_size_1m</th>\n",
       "      <th>ach_d_size_2m</th>\n",
       "      <th>ach_c_size_1m</th>\n",
       "      <th>ach_c_size_2m</th>\n",
       "      <th>od_count_1m</th>\n",
       "      <th>zero_balance_count_1m</th>\n",
       "      <th>avg_running_balance_1m</th>\n",
       "      <th>median_running_balance_1m</th>\n",
       "      <th>stddev_running_balance_1m</th>\n",
       "      <th>od_count_2m</th>\n",
       "      <th>zero_balance_count_2m</th>\n",
       "      <th>avg_running_balance_2m</th>\n",
       "      <th>median_running_balance_2m</th>\n",
       "      <th>stddev_running_balance_2m</th>\n",
       "      <th>avg_running_balance_2nd_m</th>\n",
       "      <th>median_running_balance_2nd_m</th>\n",
       "      <th>stddev_running_balance_2nd_m</th>\n",
       "      <th>ratio_avg_running_balance_1m_2m</th>\n",
       "      <th>revenue_past_1m</th>\n",
       "      <th>revenue_past_2m</th>\n",
       "      <th>total_revenue_2m</th>\n",
       "      <th>ratio_revenue_1m_2m</th>\n",
       "      <th>credit_limit</th>\n",
       "      <th>amount_drawn_1m_prev</th>\n",
       "      <th>amount_drawn_2m_prev</th>\n",
       "      <th>amount_cashin_1m_prev</th>\n",
       "      <th>amount_cashin_2m_prev</th>\n",
       "      <th>distinct_draws_1m_prev</th>\n",
       "      <th>distinct_draws_2m_prev</th>\n",
       "      <th>distinct_cashins_1m_prev</th>\n",
       "      <th>distinct_cashins_2m_prev</th>\n",
       "      <th>ratio_amt_drawn_mom</th>\n",
       "      <th>ratio_amt_cashin_mom</th>\n",
       "      <th>ratio_count_drawn_mom</th>\n",
       "      <th>ratio_count_cashin_mom</th>\n",
       "    </tr>\n",
       "  </thead>\n",
       "  <tbody>\n",
       "    <tr>\n",
       "      <th>0</th>\n",
       "      <td>c616b39b-aef7-4156-973a-08278aa74536</td>\n",
       "      <td>2023-04-03</td>\n",
       "      <td>0.0</td>\n",
       "      <td>0.0</td>\n",
       "      <td>0.0</td>\n",
       "      <td>1</td>\n",
       "      <td>0</td>\n",
       "      <td>0.0</td>\n",
       "      <td>1.0</td>\n",
       "      <td>0.0</td>\n",
       "      <td>35.0</td>\n",
       "      <td>0.0</td>\n",
       "      <td>0.0</td>\n",
       "      <td>1.0</td>\n",
       "      <td>0.0</td>\n",
       "      <td>38.0</td>\n",
       "      <td>0.0</td>\n",
       "      <td>0.00</td>\n",
       "      <td>295.36</td>\n",
       "      <td>0.00</td>\n",
       "      <td>3962.06</td>\n",
       "      <td>0.0</td>\n",
       "      <td>0.00</td>\n",
       "      <td>295.36</td>\n",
       "      <td>0.00</td>\n",
       "      <td>4102.83</td>\n",
       "      <td>0.0</td>\n",
       "      <td>0.000000</td>\n",
       "      <td>147.680000</td>\n",
       "      <td>0.000000</td>\n",
       "      <td>110.057222</td>\n",
       "      <td>0.0</td>\n",
       "      <td>0.000000</td>\n",
       "      <td>147.680000</td>\n",
       "      <td>0.00000</td>\n",
       "      <td>105.200769</td>\n",
       "      <td>0.0</td>\n",
       "      <td>1800.00</td>\n",
       "      <td>2.0</td>\n",
       "      <td>600.000000</td>\n",
       "      <td>0.00</td>\n",
       "      <td>195.239512</td>\n",
       "      <td>2800.00</td>\n",
       "      <td>3.0</td>\n",
       "      <td>700.000000</td>\n",
       "      <td>0.00</td>\n",
       "      <td>244.616840</td>\n",
       "      <td>4257.42</td>\n",
       "      <td>36.0</td>\n",
       "      <td>115.065405</td>\n",
       "      <td>35.885</td>\n",
       "      <td>192.561543</td>\n",
       "      <td>4398.19</td>\n",
       "      <td>39.0</td>\n",
       "      <td>109.954750</td>\n",
       "      <td>42.995</td>\n",
       "      <td>191.137528</td>\n",
       "      <td>2.363920</td>\n",
       "      <td>12.000000</td>\n",
       "      <td>1.570221</td>\n",
       "      <td>9.750000</td>\n",
       "      <td>0.000000</td>\n",
       "      <td>0.069375</td>\n",
       "      <td>0.000000</td>\n",
       "      <td>0.930625</td>\n",
       "      <td>0.0</td>\n",
       "      <td>0.000000</td>\n",
       "      <td>0.067155</td>\n",
       "      <td>0.000000</td>\n",
       "      <td>0.932845</td>\n",
       "      <td>0.0</td>\n",
       "      <td>0.000000</td>\n",
       "      <td>0.027027</td>\n",
       "      <td>0.000000</td>\n",
       "      <td>0.945946</td>\n",
       "      <td>0.0</td>\n",
       "      <td>0.000000</td>\n",
       "      <td>0.025000</td>\n",
       "      <td>0.000000</td>\n",
       "      <td>0.950000</td>\n",
       "      <td>0.0</td>\n",
       "      <td>295.360000</td>\n",
       "      <td>295.360000</td>\n",
       "      <td>1.000000</td>\n",
       "      <td>1.000000</td>\n",
       "      <td>147.680000</td>\n",
       "      <td>147.680000</td>\n",
       "      <td>0.000000</td>\n",
       "      <td>0.00000</td>\n",
       "      <td>0</td>\n",
       "      <td>0</td>\n",
       "      <td>17737.240094</td>\n",
       "      <td>18065.85</td>\n",
       "      <td>1433.419027</td>\n",
       "      <td>0</td>\n",
       "      <td>0</td>\n",
       "      <td>17883.244097</td>\n",
       "      <td>18065.85</td>\n",
       "      <td>1689.488039</td>\n",
       "      <td>19435.753333</td>\n",
       "      <td>21236.060</td>\n",
       "      <td>2998.968352</td>\n",
       "      <td>0.912562</td>\n",
       "      <td>12494.28</td>\n",
       "      <td>0.00</td>\n",
       "      <td>12494.28</td>\n",
       "      <td>12494.280000</td>\n",
       "      <td>11600.0</td>\n",
       "      <td>1000.0</td>\n",
       "      <td>2800.0</td>\n",
       "      <td>2884.00</td>\n",
       "      <td>0.00</td>\n",
       "      <td>1.0</td>\n",
       "      <td>3.0</td>\n",
       "      <td>2.0</td>\n",
       "      <td>0.0</td>\n",
       "      <td>0.357015</td>\n",
       "      <td>2884.000000</td>\n",
       "      <td>0.25</td>\n",
       "      <td>2.000000</td>\n",
       "    </tr>\n",
       "    <tr>\n",
       "      <th>1</th>\n",
       "      <td>cc861415-fd34-4654-8b97-dab0794938dc</td>\n",
       "      <td>2023-04-03</td>\n",
       "      <td>0.0</td>\n",
       "      <td>0.0</td>\n",
       "      <td>0.0</td>\n",
       "      <td>1</td>\n",
       "      <td>0</td>\n",
       "      <td>0.0</td>\n",
       "      <td>14.0</td>\n",
       "      <td>4.0</td>\n",
       "      <td>31.0</td>\n",
       "      <td>0.0</td>\n",
       "      <td>0.0</td>\n",
       "      <td>15.0</td>\n",
       "      <td>4.0</td>\n",
       "      <td>31.0</td>\n",
       "      <td>0.0</td>\n",
       "      <td>0.00</td>\n",
       "      <td>10562.34</td>\n",
       "      <td>15750.00</td>\n",
       "      <td>1948.69</td>\n",
       "      <td>0.0</td>\n",
       "      <td>0.00</td>\n",
       "      <td>10902.18</td>\n",
       "      <td>15750.00</td>\n",
       "      <td>1948.69</td>\n",
       "      <td>0.0</td>\n",
       "      <td>0.000000</td>\n",
       "      <td>704.156000</td>\n",
       "      <td>3150.000000</td>\n",
       "      <td>60.896563</td>\n",
       "      <td>0.0</td>\n",
       "      <td>0.000000</td>\n",
       "      <td>681.386250</td>\n",
       "      <td>3150.00000</td>\n",
       "      <td>60.896563</td>\n",
       "      <td>0.0</td>\n",
       "      <td>15778.25</td>\n",
       "      <td>5.0</td>\n",
       "      <td>2629.708333</td>\n",
       "      <td>0.00</td>\n",
       "      <td>1028.030619</td>\n",
       "      <td>20778.25</td>\n",
       "      <td>6.0</td>\n",
       "      <td>2968.321429</td>\n",
       "      <td>0.00</td>\n",
       "      <td>1170.168024</td>\n",
       "      <td>17355.78</td>\n",
       "      <td>62.0</td>\n",
       "      <td>275.488571</td>\n",
       "      <td>74.440</td>\n",
       "      <td>482.237717</td>\n",
       "      <td>20519.12</td>\n",
       "      <td>67.0</td>\n",
       "      <td>301.751765</td>\n",
       "      <td>101.750</td>\n",
       "      <td>546.701343</td>\n",
       "      <td>1.099912</td>\n",
       "      <td>10.333333</td>\n",
       "      <td>0.987481</td>\n",
       "      <td>9.571429</td>\n",
       "      <td>0.000000</td>\n",
       "      <td>0.608578</td>\n",
       "      <td>0.998210</td>\n",
       "      <td>0.112279</td>\n",
       "      <td>0.0</td>\n",
       "      <td>0.000000</td>\n",
       "      <td>0.531318</td>\n",
       "      <td>0.758004</td>\n",
       "      <td>0.094969</td>\n",
       "      <td>0.0</td>\n",
       "      <td>0.000000</td>\n",
       "      <td>0.222222</td>\n",
       "      <td>0.666667</td>\n",
       "      <td>0.492063</td>\n",
       "      <td>0.0</td>\n",
       "      <td>0.000000</td>\n",
       "      <td>0.220588</td>\n",
       "      <td>0.571429</td>\n",
       "      <td>0.455882</td>\n",
       "      <td>0.0</td>\n",
       "      <td>0.670582</td>\n",
       "      <td>0.692158</td>\n",
       "      <td>2.800000</td>\n",
       "      <td>3.000000</td>\n",
       "      <td>704.156000</td>\n",
       "      <td>681.386250</td>\n",
       "      <td>3150.000000</td>\n",
       "      <td>3150.00000</td>\n",
       "      <td>0</td>\n",
       "      <td>0</td>\n",
       "      <td>2783.498621</td>\n",
       "      <td>2530.87</td>\n",
       "      <td>1025.432318</td>\n",
       "      <td>0</td>\n",
       "      <td>0</td>\n",
       "      <td>2729.818825</td>\n",
       "      <td>2530.87</td>\n",
       "      <td>1034.645481</td>\n",
       "      <td>2159.023667</td>\n",
       "      <td>2122.430</td>\n",
       "      <td>973.031285</td>\n",
       "      <td>1.288643</td>\n",
       "      <td>12726.61</td>\n",
       "      <td>15778.25</td>\n",
       "      <td>28504.86</td>\n",
       "      <td>0.806541</td>\n",
       "      <td>18500.0</td>\n",
       "      <td>2600.0</td>\n",
       "      <td>5000.0</td>\n",
       "      <td>2433.33</td>\n",
       "      <td>0.00</td>\n",
       "      <td>1.0</td>\n",
       "      <td>1.0</td>\n",
       "      <td>2.0</td>\n",
       "      <td>0.0</td>\n",
       "      <td>0.519896</td>\n",
       "      <td>2433.330000</td>\n",
       "      <td>0.50</td>\n",
       "      <td>2.000000</td>\n",
       "    </tr>\n",
       "    <tr>\n",
       "      <th>2</th>\n",
       "      <td>4d7e9b73-dd94-4fdc-9611-51ec641b8e19</td>\n",
       "      <td>2023-04-03</td>\n",
       "      <td>0.0</td>\n",
       "      <td>1.0</td>\n",
       "      <td>0.0</td>\n",
       "      <td>1</td>\n",
       "      <td>1</td>\n",
       "      <td>0.0</td>\n",
       "      <td>1.0</td>\n",
       "      <td>0.0</td>\n",
       "      <td>0.0</td>\n",
       "      <td>0.0</td>\n",
       "      <td>0.0</td>\n",
       "      <td>2.0</td>\n",
       "      <td>0.0</td>\n",
       "      <td>0.0</td>\n",
       "      <td>0.0</td>\n",
       "      <td>0.00</td>\n",
       "      <td>149.81</td>\n",
       "      <td>0.00</td>\n",
       "      <td>0.00</td>\n",
       "      <td>0.0</td>\n",
       "      <td>0.00</td>\n",
       "      <td>754.56</td>\n",
       "      <td>0.00</td>\n",
       "      <td>0.00</td>\n",
       "      <td>0.0</td>\n",
       "      <td>0.000000</td>\n",
       "      <td>74.905000</td>\n",
       "      <td>0.000000</td>\n",
       "      <td>0.000000</td>\n",
       "      <td>0.0</td>\n",
       "      <td>0.000000</td>\n",
       "      <td>251.520000</td>\n",
       "      <td>0.00000</td>\n",
       "      <td>0.000000</td>\n",
       "      <td>0.0</td>\n",
       "      <td>16500.00</td>\n",
       "      <td>2.0</td>\n",
       "      <td>5500.000000</td>\n",
       "      <td>0.00</td>\n",
       "      <td>2542.495962</td>\n",
       "      <td>21900.00</td>\n",
       "      <td>3.0</td>\n",
       "      <td>5475.000000</td>\n",
       "      <td>0.00</td>\n",
       "      <td>2725.540575</td>\n",
       "      <td>24020.21</td>\n",
       "      <td>17.0</td>\n",
       "      <td>1334.456111</td>\n",
       "      <td>828.440</td>\n",
       "      <td>1278.560558</td>\n",
       "      <td>24624.96</td>\n",
       "      <td>18.0</td>\n",
       "      <td>1296.050526</td>\n",
       "      <td>828.440</td>\n",
       "      <td>1258.157373</td>\n",
       "      <td>1.455682</td>\n",
       "      <td>5.666667</td>\n",
       "      <td>1.124376</td>\n",
       "      <td>4.500000</td>\n",
       "      <td>0.000000</td>\n",
       "      <td>0.006237</td>\n",
       "      <td>0.000000</td>\n",
       "      <td>0.000000</td>\n",
       "      <td>0.0</td>\n",
       "      <td>0.000000</td>\n",
       "      <td>0.030642</td>\n",
       "      <td>0.000000</td>\n",
       "      <td>0.000000</td>\n",
       "      <td>0.0</td>\n",
       "      <td>0.000000</td>\n",
       "      <td>0.055556</td>\n",
       "      <td>0.000000</td>\n",
       "      <td>0.000000</td>\n",
       "      <td>0.0</td>\n",
       "      <td>0.000000</td>\n",
       "      <td>0.105263</td>\n",
       "      <td>0.000000</td>\n",
       "      <td>0.000000</td>\n",
       "      <td>0.0</td>\n",
       "      <td>149.810000</td>\n",
       "      <td>754.560000</td>\n",
       "      <td>1.000000</td>\n",
       "      <td>2.000000</td>\n",
       "      <td>74.905000</td>\n",
       "      <td>251.520000</td>\n",
       "      <td>0.000000</td>\n",
       "      <td>0.00000</td>\n",
       "      <td>0</td>\n",
       "      <td>7</td>\n",
       "      <td>405.512382</td>\n",
       "      <td>17.05</td>\n",
       "      <td>1405.918594</td>\n",
       "      <td>0</td>\n",
       "      <td>7</td>\n",
       "      <td>824.096562</td>\n",
       "      <td>17.05</td>\n",
       "      <td>2006.468341</td>\n",
       "      <td>5275.041667</td>\n",
       "      <td>5080.880</td>\n",
       "      <td>2053.065068</td>\n",
       "      <td>0.076859</td>\n",
       "      <td>1600.00</td>\n",
       "      <td>10000.00</td>\n",
       "      <td>11600.00</td>\n",
       "      <td>0.159984</td>\n",
       "      <td>11900.0</td>\n",
       "      <td>0.0</td>\n",
       "      <td>11900.0</td>\n",
       "      <td>2196.83</td>\n",
       "      <td>0.00</td>\n",
       "      <td>0.0</td>\n",
       "      <td>2.0</td>\n",
       "      <td>2.0</td>\n",
       "      <td>0.0</td>\n",
       "      <td>0.000000</td>\n",
       "      <td>2196.830000</td>\n",
       "      <td>0.00</td>\n",
       "      <td>2.000000</td>\n",
       "    </tr>\n",
       "    <tr>\n",
       "      <th>3</th>\n",
       "      <td>2e3c32e2-1f1b-4d0f-a7c2-8dcdb11c6317</td>\n",
       "      <td>2023-04-03</td>\n",
       "      <td>0.0</td>\n",
       "      <td>0.0</td>\n",
       "      <td>0.0</td>\n",
       "      <td>1</td>\n",
       "      <td>0</td>\n",
       "      <td>3.0</td>\n",
       "      <td>19.0</td>\n",
       "      <td>21.0</td>\n",
       "      <td>42.0</td>\n",
       "      <td>0.0</td>\n",
       "      <td>3.0</td>\n",
       "      <td>20.0</td>\n",
       "      <td>22.0</td>\n",
       "      <td>42.0</td>\n",
       "      <td>0.0</td>\n",
       "      <td>981.80</td>\n",
       "      <td>2645.55</td>\n",
       "      <td>5365.49</td>\n",
       "      <td>4872.08</td>\n",
       "      <td>0.0</td>\n",
       "      <td>981.80</td>\n",
       "      <td>2955.55</td>\n",
       "      <td>5568.55</td>\n",
       "      <td>4872.08</td>\n",
       "      <td>0.0</td>\n",
       "      <td>245.450000</td>\n",
       "      <td>132.277500</td>\n",
       "      <td>243.885909</td>\n",
       "      <td>113.304186</td>\n",
       "      <td>0.0</td>\n",
       "      <td>245.450000</td>\n",
       "      <td>140.740476</td>\n",
       "      <td>242.11087</td>\n",
       "      <td>113.304186</td>\n",
       "      <td>0.0</td>\n",
       "      <td>8812.37</td>\n",
       "      <td>30.0</td>\n",
       "      <td>284.270000</td>\n",
       "      <td>0.00</td>\n",
       "      <td>220.698407</td>\n",
       "      <td>9315.43</td>\n",
       "      <td>32.0</td>\n",
       "      <td>282.285758</td>\n",
       "      <td>0.00</td>\n",
       "      <td>221.679502</td>\n",
       "      <td>9430.95</td>\n",
       "      <td>72.0</td>\n",
       "      <td>129.191096</td>\n",
       "      <td>16.030</td>\n",
       "      <td>227.338129</td>\n",
       "      <td>10640.95</td>\n",
       "      <td>75.0</td>\n",
       "      <td>140.012500</td>\n",
       "      <td>19.000</td>\n",
       "      <td>232.956327</td>\n",
       "      <td>1.070073</td>\n",
       "      <td>2.322581</td>\n",
       "      <td>1.142170</td>\n",
       "      <td>2.272727</td>\n",
       "      <td>0.111412</td>\n",
       "      <td>0.280518</td>\n",
       "      <td>0.608859</td>\n",
       "      <td>0.516605</td>\n",
       "      <td>0.0</td>\n",
       "      <td>0.105395</td>\n",
       "      <td>0.277752</td>\n",
       "      <td>0.597777</td>\n",
       "      <td>0.457861</td>\n",
       "      <td>0.0</td>\n",
       "      <td>0.096774</td>\n",
       "      <td>0.260274</td>\n",
       "      <td>0.677419</td>\n",
       "      <td>0.575342</td>\n",
       "      <td>0.0</td>\n",
       "      <td>0.090909</td>\n",
       "      <td>0.263158</td>\n",
       "      <td>0.666667</td>\n",
       "      <td>0.552632</td>\n",
       "      <td>0.0</td>\n",
       "      <td>0.492976</td>\n",
       "      <td>0.530662</td>\n",
       "      <td>0.863636</td>\n",
       "      <td>0.869565</td>\n",
       "      <td>132.277500</td>\n",
       "      <td>140.740476</td>\n",
       "      <td>243.885909</td>\n",
       "      <td>242.11087</td>\n",
       "      <td>0</td>\n",
       "      <td>0</td>\n",
       "      <td>2844.463856</td>\n",
       "      <td>2941.91</td>\n",
       "      <td>352.347255</td>\n",
       "      <td>0</td>\n",
       "      <td>0</td>\n",
       "      <td>2921.387192</td>\n",
       "      <td>2941.91</td>\n",
       "      <td>486.127788</td>\n",
       "      <td>3739.338667</td>\n",
       "      <td>3749.750</td>\n",
       "      <td>846.926747</td>\n",
       "      <td>0.760483</td>\n",
       "      <td>6934.28</td>\n",
       "      <td>6295.49</td>\n",
       "      <td>13229.77</td>\n",
       "      <td>1.101293</td>\n",
       "      <td>13300.0</td>\n",
       "      <td>0.0</td>\n",
       "      <td>3500.0</td>\n",
       "      <td>861.00</td>\n",
       "      <td>905.82</td>\n",
       "      <td>0.0</td>\n",
       "      <td>5.0</td>\n",
       "      <td>5.0</td>\n",
       "      <td>5.0</td>\n",
       "      <td>0.000000</td>\n",
       "      <td>0.949472</td>\n",
       "      <td>0.00</td>\n",
       "      <td>0.833333</td>\n",
       "    </tr>\n",
       "    <tr>\n",
       "      <th>4</th>\n",
       "      <td>57948378-e103-4f19-972e-a911082a16c2</td>\n",
       "      <td>2023-04-03</td>\n",
       "      <td>0.0</td>\n",
       "      <td>0.0</td>\n",
       "      <td>0.0</td>\n",
       "      <td>1</td>\n",
       "      <td>0</td>\n",
       "      <td>17.0</td>\n",
       "      <td>2.0</td>\n",
       "      <td>19.0</td>\n",
       "      <td>2.0</td>\n",
       "      <td>0.0</td>\n",
       "      <td>18.0</td>\n",
       "      <td>2.0</td>\n",
       "      <td>21.0</td>\n",
       "      <td>2.0</td>\n",
       "      <td>0.0</td>\n",
       "      <td>1641.61</td>\n",
       "      <td>33.07</td>\n",
       "      <td>2101.61</td>\n",
       "      <td>98.95</td>\n",
       "      <td>0.0</td>\n",
       "      <td>1694.08</td>\n",
       "      <td>33.07</td>\n",
       "      <td>2240.48</td>\n",
       "      <td>98.95</td>\n",
       "      <td>0.0</td>\n",
       "      <td>91.200556</td>\n",
       "      <td>11.023333</td>\n",
       "      <td>105.080500</td>\n",
       "      <td>32.983333</td>\n",
       "      <td>0.0</td>\n",
       "      <td>89.162105</td>\n",
       "      <td>11.023333</td>\n",
       "      <td>101.84000</td>\n",
       "      <td>32.983333</td>\n",
       "      <td>0.0</td>\n",
       "      <td>2101.61</td>\n",
       "      <td>19.0</td>\n",
       "      <td>105.080500</td>\n",
       "      <td>38.13</td>\n",
       "      <td>98.148889</td>\n",
       "      <td>4040.48</td>\n",
       "      <td>22.0</td>\n",
       "      <td>175.673043</td>\n",
       "      <td>52.66</td>\n",
       "      <td>316.109676</td>\n",
       "      <td>1924.27</td>\n",
       "      <td>9.0</td>\n",
       "      <td>192.427000</td>\n",
       "      <td>0.000</td>\n",
       "      <td>172.064979</td>\n",
       "      <td>3944.27</td>\n",
       "      <td>11.0</td>\n",
       "      <td>328.689167</td>\n",
       "      <td>0.000</td>\n",
       "      <td>378.672749</td>\n",
       "      <td>0.915182</td>\n",
       "      <td>0.450000</td>\n",
       "      <td>0.975947</td>\n",
       "      <td>0.478261</td>\n",
       "      <td>0.781120</td>\n",
       "      <td>0.017186</td>\n",
       "      <td>1.000000</td>\n",
       "      <td>0.051422</td>\n",
       "      <td>0.0</td>\n",
       "      <td>0.419277</td>\n",
       "      <td>0.008384</td>\n",
       "      <td>0.554508</td>\n",
       "      <td>0.025087</td>\n",
       "      <td>0.0</td>\n",
       "      <td>0.850000</td>\n",
       "      <td>0.200000</td>\n",
       "      <td>0.950000</td>\n",
       "      <td>0.200000</td>\n",
       "      <td>0.0</td>\n",
       "      <td>0.782609</td>\n",
       "      <td>0.166667</td>\n",
       "      <td>0.913043</td>\n",
       "      <td>0.166667</td>\n",
       "      <td>0.0</td>\n",
       "      <td>0.015728</td>\n",
       "      <td>0.014754</td>\n",
       "      <td>0.100000</td>\n",
       "      <td>0.090909</td>\n",
       "      <td>11.023333</td>\n",
       "      <td>11.023333</td>\n",
       "      <td>105.080500</td>\n",
       "      <td>101.84000</td>\n",
       "      <td>0</td>\n",
       "      <td>0</td>\n",
       "      <td>6945.847837</td>\n",
       "      <td>7781.71</td>\n",
       "      <td>2225.532571</td>\n",
       "      <td>0</td>\n",
       "      <td>0</td>\n",
       "      <td>6436.644642</td>\n",
       "      <td>7781.71</td>\n",
       "      <td>2702.671887</td>\n",
       "      <td>1022.117333</td>\n",
       "      <td>1077.775</td>\n",
       "      <td>401.075993</td>\n",
       "      <td>6.788906</td>\n",
       "      <td>11224.73</td>\n",
       "      <td>1785.37</td>\n",
       "      <td>13010.10</td>\n",
       "      <td>6.283541</td>\n",
       "      <td>1800.0</td>\n",
       "      <td>0.0</td>\n",
       "      <td>1800.0</td>\n",
       "      <td>363.00</td>\n",
       "      <td>0.00</td>\n",
       "      <td>0.0</td>\n",
       "      <td>1.0</td>\n",
       "      <td>1.0</td>\n",
       "      <td>0.0</td>\n",
       "      <td>0.000000</td>\n",
       "      <td>363.000000</td>\n",
       "      <td>0.00</td>\n",
       "      <td>1.000000</td>\n",
       "    </tr>\n",
       "  </tbody>\n",
       "</table>\n",
       "</div>"
      ],
      "text/plain": [
       "                            business_id    due_date  DPD_plus_15_next  \\\n",
       "0  c616b39b-aef7-4156-973a-08278aa74536  2023-04-03               0.0   \n",
       "1  cc861415-fd34-4654-8b97-dab0794938dc  2023-04-03               0.0   \n",
       "2  4d7e9b73-dd94-4fdc-9611-51ec641b8e19  2023-04-03               0.0   \n",
       "3  2e3c32e2-1f1b-4d0f-a7c2-8dcdb11c6317  2023-04-03               0.0   \n",
       "4  57948378-e103-4f19-972e-a911082a16c2  2023-04-03               0.0   \n",
       "\n",
       "   DPD_plus_3_last_2  DPD_plus_15_prev  emi_no  DPD_plus_3  \\\n",
       "0                0.0               0.0       1           0   \n",
       "1                0.0               0.0       1           0   \n",
       "2                1.0               0.0       1           1   \n",
       "3                0.0               0.0       1           0   \n",
       "4                0.0               0.0       1           0   \n",
       "\n",
       "   count_pd_deposit_1m  count_ach_debit_1m  count_ach_credit_1m  \\\n",
       "0                  0.0                 1.0                  0.0   \n",
       "1                  0.0                14.0                  4.0   \n",
       "2                  0.0                 1.0                  0.0   \n",
       "3                  3.0                19.0                 21.0   \n",
       "4                 17.0                 2.0                 19.0   \n",
       "\n",
       "   count_card_withdrawal_1m  count_mrdc_credit_1m  count_pd_deposit_2m  \\\n",
       "0                      35.0                   0.0                  0.0   \n",
       "1                      31.0                   0.0                  0.0   \n",
       "2                       0.0                   0.0                  0.0   \n",
       "3                      42.0                   0.0                  3.0   \n",
       "4                       2.0                   0.0                 18.0   \n",
       "\n",
       "   count_ach_debit_2m  count_ach_credit_2m  count_card_withdrawal_2m  \\\n",
       "0                 1.0                  0.0                      38.0   \n",
       "1                15.0                  4.0                      31.0   \n",
       "2                 2.0                  0.0                       0.0   \n",
       "3                20.0                 22.0                      42.0   \n",
       "4                 2.0                 21.0                       2.0   \n",
       "\n",
       "   count_mrdc_credit_2m  amount_pd_deposit_1m  amount_ach_debit_1m  \\\n",
       "0                   0.0                  0.00               295.36   \n",
       "1                   0.0                  0.00             10562.34   \n",
       "2                   0.0                  0.00               149.81   \n",
       "3                   0.0                981.80              2645.55   \n",
       "4                   0.0               1641.61                33.07   \n",
       "\n",
       "   amount_ach_credit_1m  amount_card_withdrawal_1m  amount_mrdc_credit_1m  \\\n",
       "0                  0.00                    3962.06                    0.0   \n",
       "1              15750.00                    1948.69                    0.0   \n",
       "2                  0.00                       0.00                    0.0   \n",
       "3               5365.49                    4872.08                    0.0   \n",
       "4               2101.61                      98.95                    0.0   \n",
       "\n",
       "   amount_pd_deposit_2m  amount_ach_debit_2m  amount_ach_credit_2m  \\\n",
       "0                  0.00               295.36                  0.00   \n",
       "1                  0.00             10902.18              15750.00   \n",
       "2                  0.00               754.56                  0.00   \n",
       "3                981.80              2955.55               5568.55   \n",
       "4               1694.08                33.07               2240.48   \n",
       "\n",
       "   amount_card_withdrawal_2m  amount_mrdc_credit_2m  pd_deposit_size_1m  \\\n",
       "0                    4102.83                    0.0            0.000000   \n",
       "1                    1948.69                    0.0            0.000000   \n",
       "2                       0.00                    0.0            0.000000   \n",
       "3                    4872.08                    0.0          245.450000   \n",
       "4                      98.95                    0.0           91.200556   \n",
       "\n",
       "   ach_debit_size_1m  ach_credit_size_1m  card_withdrawal_size_1m  \\\n",
       "0         147.680000            0.000000               110.057222   \n",
       "1         704.156000         3150.000000                60.896563   \n",
       "2          74.905000            0.000000                 0.000000   \n",
       "3         132.277500          243.885909               113.304186   \n",
       "4          11.023333          105.080500                32.983333   \n",
       "\n",
       "   mrdc_credit_size_1m  pd_deposit_size_2m  ach_debit_size_2m  \\\n",
       "0                  0.0            0.000000         147.680000   \n",
       "1                  0.0            0.000000         681.386250   \n",
       "2                  0.0            0.000000         251.520000   \n",
       "3                  0.0          245.450000         140.740476   \n",
       "4                  0.0           89.162105          11.023333   \n",
       "\n",
       "   ach_credit_size_2m  card_withdrawal_size_2m  mrdc_credit_size_2m  \\\n",
       "0             0.00000               105.200769                  0.0   \n",
       "1          3150.00000                60.896563                  0.0   \n",
       "2             0.00000                 0.000000                  0.0   \n",
       "3           242.11087               113.304186                  0.0   \n",
       "4           101.84000                32.983333                  0.0   \n",
       "\n",
       "   amount_credited_1m  distinct_credit_txns_1m  credit_size_1m  \\\n",
       "0             1800.00                      2.0      600.000000   \n",
       "1            15778.25                      5.0     2629.708333   \n",
       "2            16500.00                      2.0     5500.000000   \n",
       "3             8812.37                     30.0      284.270000   \n",
       "4             2101.61                     19.0      105.080500   \n",
       "\n",
       "   median_amount_credited_1m  stddev_amount_credited_1m  amount_credited_2m  \\\n",
       "0                       0.00                 195.239512             2800.00   \n",
       "1                       0.00                1028.030619            20778.25   \n",
       "2                       0.00                2542.495962            21900.00   \n",
       "3                       0.00                 220.698407             9315.43   \n",
       "4                      38.13                  98.148889             4040.48   \n",
       "\n",
       "   distinct_credit_txns_2m  credit_size_2m  median_amount_credited_2m  \\\n",
       "0                      3.0      700.000000                       0.00   \n",
       "1                      6.0     2968.321429                       0.00   \n",
       "2                      3.0     5475.000000                       0.00   \n",
       "3                     32.0      282.285758                       0.00   \n",
       "4                     22.0      175.673043                      52.66   \n",
       "\n",
       "   stddev_amount_credited_2m  amount_debited_1m  distinct_debit_txns_1m  \\\n",
       "0                 244.616840            4257.42                    36.0   \n",
       "1                1170.168024           17355.78                    62.0   \n",
       "2                2725.540575           24020.21                    17.0   \n",
       "3                 221.679502            9430.95                    72.0   \n",
       "4                 316.109676            1924.27                     9.0   \n",
       "\n",
       "   debit_size_1m  median_amount_debited_1m  stddev_amount_debited_1m  \\\n",
       "0     115.065405                    35.885                192.561543   \n",
       "1     275.488571                    74.440                482.237717   \n",
       "2    1334.456111                   828.440               1278.560558   \n",
       "3     129.191096                    16.030                227.338129   \n",
       "4     192.427000                     0.000                172.064979   \n",
       "\n",
       "   amount_debited_2m  distinct_debit_txns_2m  debit_size_2m  \\\n",
       "0            4398.19                    39.0     109.954750   \n",
       "1           20519.12                    67.0     301.751765   \n",
       "2           24624.96                    18.0    1296.050526   \n",
       "3           10640.95                    75.0     140.012500   \n",
       "4            3944.27                    11.0     328.689167   \n",
       "\n",
       "   median_amount_debited_2m  stddev_amount_debited_2m  ratio_debit_credit_1m  \\\n",
       "0                    42.995                191.137528               2.363920   \n",
       "1                   101.750                546.701343               1.099912   \n",
       "2                   828.440               1258.157373               1.455682   \n",
       "3                    19.000                232.956327               1.070073   \n",
       "4                     0.000                378.672749               0.915182   \n",
       "\n",
       "   ratio_debit_credit_frequency_1m  ratio_debit_credit_2m  \\\n",
       "0                        12.000000               1.570221   \n",
       "1                        10.333333               0.987481   \n",
       "2                         5.666667               1.124376   \n",
       "3                         2.322581               1.142170   \n",
       "4                         0.450000               0.975947   \n",
       "\n",
       "   ratio_debit_credit_frequency_2m  ratio_pd_amt_total_credit_1m  \\\n",
       "0                         9.750000                      0.000000   \n",
       "1                         9.571429                      0.000000   \n",
       "2                         4.500000                      0.000000   \n",
       "3                         2.272727                      0.111412   \n",
       "4                         0.478261                      0.781120   \n",
       "\n",
       "   ratio_ach_debit_total_debit_1m  ratio_ach_credit_total_credit_1m  \\\n",
       "0                        0.069375                          0.000000   \n",
       "1                        0.608578                          0.998210   \n",
       "2                        0.006237                          0.000000   \n",
       "3                        0.280518                          0.608859   \n",
       "4                        0.017186                          1.000000   \n",
       "\n",
       "   ratio_card_withdrawal_total_debit_1m  ratio_mrdc_credit_total_credit_1m  \\\n",
       "0                              0.930625                                0.0   \n",
       "1                              0.112279                                0.0   \n",
       "2                              0.000000                                0.0   \n",
       "3                              0.516605                                0.0   \n",
       "4                              0.051422                                0.0   \n",
       "\n",
       "   ratio_pd_amt_total_credit_2m  ratio_ach_debit_total_debit_2m  \\\n",
       "0                      0.000000                        0.067155   \n",
       "1                      0.000000                        0.531318   \n",
       "2                      0.000000                        0.030642   \n",
       "3                      0.105395                        0.277752   \n",
       "4                      0.419277                        0.008384   \n",
       "\n",
       "   ratio_ach_credit_total_credit_2m  ratio_card_withdrawal_total_debit_2m  \\\n",
       "0                          0.000000                              0.932845   \n",
       "1                          0.758004                              0.094969   \n",
       "2                          0.000000                              0.000000   \n",
       "3                          0.597777                              0.457861   \n",
       "4                          0.554508                              0.025087   \n",
       "\n",
       "   ratio_mrdc_credit_total_credit_2m  ratio_pd_freq_total_credit_1m  \\\n",
       "0                                0.0                       0.000000   \n",
       "1                                0.0                       0.000000   \n",
       "2                                0.0                       0.000000   \n",
       "3                                0.0                       0.096774   \n",
       "4                                0.0                       0.850000   \n",
       "\n",
       "   ratio_ach_debit_freq_total_debit_1m  ratio_ach_credit_freq_total_credit_1m  \\\n",
       "0                             0.027027                               0.000000   \n",
       "1                             0.222222                               0.666667   \n",
       "2                             0.055556                               0.000000   \n",
       "3                             0.260274                               0.677419   \n",
       "4                             0.200000                               0.950000   \n",
       "\n",
       "   ratio_card_withdrawal_freq_total_debit_1m  \\\n",
       "0                                   0.945946   \n",
       "1                                   0.492063   \n",
       "2                                   0.000000   \n",
       "3                                   0.575342   \n",
       "4                                   0.200000   \n",
       "\n",
       "   ratio_mrdc_credit_freq_total_credit_1m  ratio_pd_freq_total_credit_2m  \\\n",
       "0                                     0.0                       0.000000   \n",
       "1                                     0.0                       0.000000   \n",
       "2                                     0.0                       0.000000   \n",
       "3                                     0.0                       0.090909   \n",
       "4                                     0.0                       0.782609   \n",
       "\n",
       "   ratio_ach_debit_freq_total_debit_2m  ratio_ach_credit_freq_total_credit_2m  \\\n",
       "0                             0.025000                               0.000000   \n",
       "1                             0.220588                               0.571429   \n",
       "2                             0.105263                               0.000000   \n",
       "3                             0.263158                               0.666667   \n",
       "4                             0.166667                               0.913043   \n",
       "\n",
       "   ratio_card_withdrawal_freq_total_debit_2m  \\\n",
       "0                                   0.950000   \n",
       "1                                   0.455882   \n",
       "2                                   0.000000   \n",
       "3                                   0.552632   \n",
       "4                                   0.166667   \n",
       "\n",
       "   ratio_mrdc_credit_freq_total_credit_2m  ratio_ach_debit_credit_1m  \\\n",
       "0                                     0.0                 295.360000   \n",
       "1                                     0.0                   0.670582   \n",
       "2                                     0.0                 149.810000   \n",
       "3                                     0.0                   0.492976   \n",
       "4                                     0.0                   0.015728   \n",
       "\n",
       "   ratio_ach_debit_credit_2m  ratio_ach_debit_credit_freq_1m  \\\n",
       "0                 295.360000                        1.000000   \n",
       "1                   0.692158                        2.800000   \n",
       "2                 754.560000                        1.000000   \n",
       "3                   0.530662                        0.863636   \n",
       "4                   0.014754                        0.100000   \n",
       "\n",
       "   ratio_ach_debit_credit_freq_2m  ach_d_size_1m  ach_d_size_2m  \\\n",
       "0                        1.000000     147.680000     147.680000   \n",
       "1                        3.000000     704.156000     681.386250   \n",
       "2                        2.000000      74.905000     251.520000   \n",
       "3                        0.869565     132.277500     140.740476   \n",
       "4                        0.090909      11.023333      11.023333   \n",
       "\n",
       "   ach_c_size_1m  ach_c_size_2m  od_count_1m  zero_balance_count_1m  \\\n",
       "0       0.000000        0.00000            0                      0   \n",
       "1    3150.000000     3150.00000            0                      0   \n",
       "2       0.000000        0.00000            0                      7   \n",
       "3     243.885909      242.11087            0                      0   \n",
       "4     105.080500      101.84000            0                      0   \n",
       "\n",
       "   avg_running_balance_1m  median_running_balance_1m  \\\n",
       "0            17737.240094                   18065.85   \n",
       "1             2783.498621                    2530.87   \n",
       "2              405.512382                      17.05   \n",
       "3             2844.463856                    2941.91   \n",
       "4             6945.847837                    7781.71   \n",
       "\n",
       "   stddev_running_balance_1m  od_count_2m  zero_balance_count_2m  \\\n",
       "0                1433.419027            0                      0   \n",
       "1                1025.432318            0                      0   \n",
       "2                1405.918594            0                      7   \n",
       "3                 352.347255            0                      0   \n",
       "4                2225.532571            0                      0   \n",
       "\n",
       "   avg_running_balance_2m  median_running_balance_2m  \\\n",
       "0            17883.244097                   18065.85   \n",
       "1             2729.818825                    2530.87   \n",
       "2              824.096562                      17.05   \n",
       "3             2921.387192                    2941.91   \n",
       "4             6436.644642                    7781.71   \n",
       "\n",
       "   stddev_running_balance_2m  avg_running_balance_2nd_m  \\\n",
       "0                1689.488039               19435.753333   \n",
       "1                1034.645481                2159.023667   \n",
       "2                2006.468341                5275.041667   \n",
       "3                 486.127788                3739.338667   \n",
       "4                2702.671887                1022.117333   \n",
       "\n",
       "   median_running_balance_2nd_m  stddev_running_balance_2nd_m  \\\n",
       "0                     21236.060                   2998.968352   \n",
       "1                      2122.430                    973.031285   \n",
       "2                      5080.880                   2053.065068   \n",
       "3                      3749.750                    846.926747   \n",
       "4                      1077.775                    401.075993   \n",
       "\n",
       "   ratio_avg_running_balance_1m_2m  revenue_past_1m  revenue_past_2m  \\\n",
       "0                         0.912562         12494.28             0.00   \n",
       "1                         1.288643         12726.61         15778.25   \n",
       "2                         0.076859          1600.00         10000.00   \n",
       "3                         0.760483          6934.28          6295.49   \n",
       "4                         6.788906         11224.73          1785.37   \n",
       "\n",
       "   total_revenue_2m  ratio_revenue_1m_2m  credit_limit  amount_drawn_1m_prev  \\\n",
       "0          12494.28         12494.280000       11600.0                1000.0   \n",
       "1          28504.86             0.806541       18500.0                2600.0   \n",
       "2          11600.00             0.159984       11900.0                   0.0   \n",
       "3          13229.77             1.101293       13300.0                   0.0   \n",
       "4          13010.10             6.283541        1800.0                   0.0   \n",
       "\n",
       "   amount_drawn_2m_prev  amount_cashin_1m_prev  amount_cashin_2m_prev  \\\n",
       "0                2800.0                2884.00                   0.00   \n",
       "1                5000.0                2433.33                   0.00   \n",
       "2               11900.0                2196.83                   0.00   \n",
       "3                3500.0                 861.00                 905.82   \n",
       "4                1800.0                 363.00                   0.00   \n",
       "\n",
       "   distinct_draws_1m_prev  distinct_draws_2m_prev  distinct_cashins_1m_prev  \\\n",
       "0                     1.0                     3.0                       2.0   \n",
       "1                     1.0                     1.0                       2.0   \n",
       "2                     0.0                     2.0                       2.0   \n",
       "3                     0.0                     5.0                       5.0   \n",
       "4                     0.0                     1.0                       1.0   \n",
       "\n",
       "   distinct_cashins_2m_prev  ratio_amt_drawn_mom  ratio_amt_cashin_mom  \\\n",
       "0                       0.0             0.357015           2884.000000   \n",
       "1                       0.0             0.519896           2433.330000   \n",
       "2                       0.0             0.000000           2196.830000   \n",
       "3                       5.0             0.000000              0.949472   \n",
       "4                       0.0             0.000000            363.000000   \n",
       "\n",
       "   ratio_count_drawn_mom  ratio_count_cashin_mom  \n",
       "0                   0.25                2.000000  \n",
       "1                   0.50                2.000000  \n",
       "2                   0.00                2.000000  \n",
       "3                   0.00                0.833333  \n",
       "4                   0.00                1.000000  "
      ]
     },
     "execution_count": 133,
     "metadata": {},
     "output_type": "execute_result"
    }
   ],
   "source": [
    "dff.head()"
   ]
  },
  {
   "cell_type": "code",
   "execution_count": 41,
   "metadata": {},
   "outputs": [
    {
     "data": {
      "text/plain": [
       "(4925, 120)"
      ]
     },
     "execution_count": 41,
     "metadata": {},
     "output_type": "execute_result"
    }
   ],
   "source": [
    "dff.shape"
   ]
  },
  {
   "cell_type": "code",
   "execution_count": 134,
   "metadata": {},
   "outputs": [
    {
     "data": {
      "text/plain": [
       "1    1971\n",
       "2    1376\n",
       "3     662\n",
       "4     331\n",
       "5     315\n",
       "6     270\n",
       "Name: emi_no, dtype: int64"
      ]
     },
     "execution_count": 134,
     "metadata": {},
     "output_type": "execute_result"
    }
   ],
   "source": [
    "dff['emi_no'].value_counts()"
   ]
  },
  {
   "cell_type": "code",
   "execution_count": 43,
   "metadata": {},
   "outputs": [
    {
     "data": {
      "text/html": [
       "<div>\n",
       "<style scoped>\n",
       "    .dataframe tbody tr th:only-of-type {\n",
       "        vertical-align: middle;\n",
       "    }\n",
       "\n",
       "    .dataframe tbody tr th {\n",
       "        vertical-align: top;\n",
       "    }\n",
       "\n",
       "    .dataframe thead th {\n",
       "        text-align: right;\n",
       "    }\n",
       "</style>\n",
       "<table border=\"1\" class=\"dataframe\">\n",
       "  <thead>\n",
       "    <tr style=\"text-align: right;\">\n",
       "      <th></th>\n",
       "      <th>business_id</th>\n",
       "      <th>due_date</th>\n",
       "      <th>DPD_plus_15_next</th>\n",
       "      <th>DPD_plus_3_last_2</th>\n",
       "      <th>DPD_plus_15_prev</th>\n",
       "      <th>emi_no</th>\n",
       "      <th>DPD_plus_3</th>\n",
       "      <th>count_pd_deposit_1m</th>\n",
       "      <th>count_ach_debit_1m</th>\n",
       "      <th>count_ach_credit_1m</th>\n",
       "      <th>count_card_withdrawal_1m</th>\n",
       "      <th>count_mrdc_credit_1m</th>\n",
       "      <th>count_pd_deposit_2m</th>\n",
       "      <th>count_ach_debit_2m</th>\n",
       "      <th>count_ach_credit_2m</th>\n",
       "      <th>count_card_withdrawal_2m</th>\n",
       "      <th>count_mrdc_credit_2m</th>\n",
       "      <th>amount_pd_deposit_1m</th>\n",
       "      <th>amount_ach_debit_1m</th>\n",
       "      <th>amount_ach_credit_1m</th>\n",
       "      <th>amount_card_withdrawal_1m</th>\n",
       "      <th>amount_mrdc_credit_1m</th>\n",
       "      <th>amount_pd_deposit_2m</th>\n",
       "      <th>amount_ach_debit_2m</th>\n",
       "      <th>amount_ach_credit_2m</th>\n",
       "      <th>amount_card_withdrawal_2m</th>\n",
       "      <th>amount_mrdc_credit_2m</th>\n",
       "      <th>pd_deposit_size_1m</th>\n",
       "      <th>ach_debit_size_1m</th>\n",
       "      <th>ach_credit_size_1m</th>\n",
       "      <th>card_withdrawal_size_1m</th>\n",
       "      <th>mrdc_credit_size_1m</th>\n",
       "      <th>pd_deposit_size_2m</th>\n",
       "      <th>ach_debit_size_2m</th>\n",
       "      <th>ach_credit_size_2m</th>\n",
       "      <th>card_withdrawal_size_2m</th>\n",
       "      <th>mrdc_credit_size_2m</th>\n",
       "      <th>amount_credited_1m</th>\n",
       "      <th>distinct_credit_txns_1m</th>\n",
       "      <th>credit_size_1m</th>\n",
       "      <th>median_amount_credited_1m</th>\n",
       "      <th>stddev_amount_credited_1m</th>\n",
       "      <th>amount_credited_2m</th>\n",
       "      <th>distinct_credit_txns_2m</th>\n",
       "      <th>credit_size_2m</th>\n",
       "      <th>median_amount_credited_2m</th>\n",
       "      <th>stddev_amount_credited_2m</th>\n",
       "      <th>amount_debited_1m</th>\n",
       "      <th>distinct_debit_txns_1m</th>\n",
       "      <th>debit_size_1m</th>\n",
       "      <th>median_amount_debited_1m</th>\n",
       "      <th>stddev_amount_debited_1m</th>\n",
       "      <th>amount_debited_2m</th>\n",
       "      <th>distinct_debit_txns_2m</th>\n",
       "      <th>debit_size_2m</th>\n",
       "      <th>median_amount_debited_2m</th>\n",
       "      <th>stddev_amount_debited_2m</th>\n",
       "      <th>ratio_debit_credit_1m</th>\n",
       "      <th>ratio_debit_credit_frequency_1m</th>\n",
       "      <th>ratio_debit_credit_2m</th>\n",
       "      <th>ratio_debit_credit_frequency_2m</th>\n",
       "      <th>ratio_pd_amt_total_credit_1m</th>\n",
       "      <th>ratio_ach_debit_total_debit_1m</th>\n",
       "      <th>ratio_ach_credit_total_credit_1m</th>\n",
       "      <th>ratio_card_withdrawal_total_debit_1m</th>\n",
       "      <th>ratio_mrdc_credit_total_credit_1m</th>\n",
       "      <th>ratio_pd_amt_total_credit_2m</th>\n",
       "      <th>ratio_ach_debit_total_debit_2m</th>\n",
       "      <th>ratio_ach_credit_total_credit_2m</th>\n",
       "      <th>ratio_card_withdrawal_total_debit_2m</th>\n",
       "      <th>ratio_mrdc_credit_total_credit_2m</th>\n",
       "      <th>ratio_pd_freq_total_credit_1m</th>\n",
       "      <th>ratio_ach_debit_freq_total_debit_1m</th>\n",
       "      <th>ratio_ach_credit_freq_total_credit_1m</th>\n",
       "      <th>ratio_card_withdrawal_freq_total_debit_1m</th>\n",
       "      <th>ratio_mrdc_credit_freq_total_credit_1m</th>\n",
       "      <th>ratio_pd_freq_total_credit_2m</th>\n",
       "      <th>ratio_ach_debit_freq_total_debit_2m</th>\n",
       "      <th>ratio_ach_credit_freq_total_credit_2m</th>\n",
       "      <th>ratio_card_withdrawal_freq_total_debit_2m</th>\n",
       "      <th>ratio_mrdc_credit_freq_total_credit_2m</th>\n",
       "      <th>ratio_ach_debit_credit_1m</th>\n",
       "      <th>ratio_ach_debit_credit_2m</th>\n",
       "      <th>ratio_ach_debit_credit_freq_1m</th>\n",
       "      <th>ratio_ach_debit_credit_freq_2m</th>\n",
       "      <th>ach_d_size_1m</th>\n",
       "      <th>ach_d_size_2m</th>\n",
       "      <th>ach_c_size_1m</th>\n",
       "      <th>ach_c_size_2m</th>\n",
       "      <th>od_count_1m</th>\n",
       "      <th>zero_balance_count_1m</th>\n",
       "      <th>avg_running_balance_1m</th>\n",
       "      <th>median_running_balance_1m</th>\n",
       "      <th>stddev_running_balance_1m</th>\n",
       "      <th>od_count_2m</th>\n",
       "      <th>zero_balance_count_2m</th>\n",
       "      <th>avg_running_balance_2m</th>\n",
       "      <th>median_running_balance_2m</th>\n",
       "      <th>stddev_running_balance_2m</th>\n",
       "      <th>avg_running_balance_2nd_m</th>\n",
       "      <th>median_running_balance_2nd_m</th>\n",
       "      <th>stddev_running_balance_2nd_m</th>\n",
       "      <th>ratio_avg_running_balance_1m_2m</th>\n",
       "      <th>revenue_past_1m</th>\n",
       "      <th>revenue_past_2m</th>\n",
       "      <th>total_revenue_2m</th>\n",
       "      <th>ratio_revenue_1m_2m</th>\n",
       "      <th>credit_limit</th>\n",
       "      <th>amount_drawn_1m_prev</th>\n",
       "      <th>amount_drawn_2m_prev</th>\n",
       "      <th>amount_cashin_1m_prev</th>\n",
       "      <th>amount_cashin_2m_prev</th>\n",
       "      <th>distinct_draws_1m_prev</th>\n",
       "      <th>distinct_draws_2m_prev</th>\n",
       "      <th>distinct_cashins_1m_prev</th>\n",
       "      <th>distinct_cashins_2m_prev</th>\n",
       "      <th>ratio_amt_drawn_mom</th>\n",
       "      <th>ratio_amt_cashin_mom</th>\n",
       "      <th>ratio_count_drawn_mom</th>\n",
       "      <th>ratio_count_cashin_mom</th>\n",
       "    </tr>\n",
       "  </thead>\n",
       "  <tbody>\n",
       "    <tr>\n",
       "      <th>0</th>\n",
       "      <td>c616b39b-aef7-4156-973a-08278aa74536</td>\n",
       "      <td>2023-04-03</td>\n",
       "      <td>0.0</td>\n",
       "      <td>0.0</td>\n",
       "      <td>0.0</td>\n",
       "      <td>1</td>\n",
       "      <td>0</td>\n",
       "      <td>0.0</td>\n",
       "      <td>1.0</td>\n",
       "      <td>0.0</td>\n",
       "      <td>35.0</td>\n",
       "      <td>0.0</td>\n",
       "      <td>0.0</td>\n",
       "      <td>1.0</td>\n",
       "      <td>0.0</td>\n",
       "      <td>38.0</td>\n",
       "      <td>0.0</td>\n",
       "      <td>0.00</td>\n",
       "      <td>295.36</td>\n",
       "      <td>0.00</td>\n",
       "      <td>3962.06</td>\n",
       "      <td>0.0</td>\n",
       "      <td>0.00</td>\n",
       "      <td>295.36</td>\n",
       "      <td>0.00</td>\n",
       "      <td>4102.83</td>\n",
       "      <td>0.0</td>\n",
       "      <td>0.000000</td>\n",
       "      <td>147.680000</td>\n",
       "      <td>0.000000</td>\n",
       "      <td>110.057222</td>\n",
       "      <td>0.0</td>\n",
       "      <td>0.000000</td>\n",
       "      <td>147.680000</td>\n",
       "      <td>0.00000</td>\n",
       "      <td>105.200769</td>\n",
       "      <td>0.0</td>\n",
       "      <td>1800.00</td>\n",
       "      <td>2.0</td>\n",
       "      <td>600.000000</td>\n",
       "      <td>0.00</td>\n",
       "      <td>195.239512</td>\n",
       "      <td>2800.00</td>\n",
       "      <td>3.0</td>\n",
       "      <td>700.000000</td>\n",
       "      <td>0.00</td>\n",
       "      <td>244.616840</td>\n",
       "      <td>4257.42</td>\n",
       "      <td>36.0</td>\n",
       "      <td>115.065405</td>\n",
       "      <td>35.885</td>\n",
       "      <td>192.561543</td>\n",
       "      <td>4398.19</td>\n",
       "      <td>39.0</td>\n",
       "      <td>109.954750</td>\n",
       "      <td>42.995</td>\n",
       "      <td>191.137528</td>\n",
       "      <td>2.363920</td>\n",
       "      <td>12.000000</td>\n",
       "      <td>1.570221</td>\n",
       "      <td>9.750000</td>\n",
       "      <td>0.000000</td>\n",
       "      <td>0.069375</td>\n",
       "      <td>0.000000</td>\n",
       "      <td>0.930625</td>\n",
       "      <td>0.0</td>\n",
       "      <td>0.000000</td>\n",
       "      <td>0.067155</td>\n",
       "      <td>0.000000</td>\n",
       "      <td>0.932845</td>\n",
       "      <td>0.0</td>\n",
       "      <td>0.000000</td>\n",
       "      <td>0.027027</td>\n",
       "      <td>0.000000</td>\n",
       "      <td>0.945946</td>\n",
       "      <td>0.0</td>\n",
       "      <td>0.000000</td>\n",
       "      <td>0.025000</td>\n",
       "      <td>0.000000</td>\n",
       "      <td>0.950000</td>\n",
       "      <td>0.0</td>\n",
       "      <td>295.360000</td>\n",
       "      <td>295.360000</td>\n",
       "      <td>1.000000</td>\n",
       "      <td>1.000000</td>\n",
       "      <td>147.680000</td>\n",
       "      <td>147.680000</td>\n",
       "      <td>0.000000</td>\n",
       "      <td>0.00000</td>\n",
       "      <td>0</td>\n",
       "      <td>0</td>\n",
       "      <td>17737.240094</td>\n",
       "      <td>18065.85</td>\n",
       "      <td>1433.419027</td>\n",
       "      <td>0</td>\n",
       "      <td>0</td>\n",
       "      <td>17883.244097</td>\n",
       "      <td>18065.85</td>\n",
       "      <td>1689.488039</td>\n",
       "      <td>19435.753333</td>\n",
       "      <td>21236.060</td>\n",
       "      <td>2998.968352</td>\n",
       "      <td>0.912562</td>\n",
       "      <td>12494.28</td>\n",
       "      <td>0.00</td>\n",
       "      <td>12494.28</td>\n",
       "      <td>12494.280000</td>\n",
       "      <td>11600.0</td>\n",
       "      <td>1000.0</td>\n",
       "      <td>2800.0</td>\n",
       "      <td>2884.00</td>\n",
       "      <td>0.00</td>\n",
       "      <td>1.0</td>\n",
       "      <td>3.0</td>\n",
       "      <td>2.0</td>\n",
       "      <td>0.0</td>\n",
       "      <td>0.357015</td>\n",
       "      <td>2884.000000</td>\n",
       "      <td>0.25</td>\n",
       "      <td>2.000000</td>\n",
       "    </tr>\n",
       "    <tr>\n",
       "      <th>1</th>\n",
       "      <td>cc861415-fd34-4654-8b97-dab0794938dc</td>\n",
       "      <td>2023-04-03</td>\n",
       "      <td>0.0</td>\n",
       "      <td>0.0</td>\n",
       "      <td>0.0</td>\n",
       "      <td>1</td>\n",
       "      <td>0</td>\n",
       "      <td>0.0</td>\n",
       "      <td>14.0</td>\n",
       "      <td>4.0</td>\n",
       "      <td>31.0</td>\n",
       "      <td>0.0</td>\n",
       "      <td>0.0</td>\n",
       "      <td>15.0</td>\n",
       "      <td>4.0</td>\n",
       "      <td>31.0</td>\n",
       "      <td>0.0</td>\n",
       "      <td>0.00</td>\n",
       "      <td>10562.34</td>\n",
       "      <td>15750.00</td>\n",
       "      <td>1948.69</td>\n",
       "      <td>0.0</td>\n",
       "      <td>0.00</td>\n",
       "      <td>10902.18</td>\n",
       "      <td>15750.00</td>\n",
       "      <td>1948.69</td>\n",
       "      <td>0.0</td>\n",
       "      <td>0.000000</td>\n",
       "      <td>704.156000</td>\n",
       "      <td>3150.000000</td>\n",
       "      <td>60.896563</td>\n",
       "      <td>0.0</td>\n",
       "      <td>0.000000</td>\n",
       "      <td>681.386250</td>\n",
       "      <td>3150.00000</td>\n",
       "      <td>60.896563</td>\n",
       "      <td>0.0</td>\n",
       "      <td>15778.25</td>\n",
       "      <td>5.0</td>\n",
       "      <td>2629.708333</td>\n",
       "      <td>0.00</td>\n",
       "      <td>1028.030619</td>\n",
       "      <td>20778.25</td>\n",
       "      <td>6.0</td>\n",
       "      <td>2968.321429</td>\n",
       "      <td>0.00</td>\n",
       "      <td>1170.168024</td>\n",
       "      <td>17355.78</td>\n",
       "      <td>62.0</td>\n",
       "      <td>275.488571</td>\n",
       "      <td>74.440</td>\n",
       "      <td>482.237717</td>\n",
       "      <td>20519.12</td>\n",
       "      <td>67.0</td>\n",
       "      <td>301.751765</td>\n",
       "      <td>101.750</td>\n",
       "      <td>546.701343</td>\n",
       "      <td>1.099912</td>\n",
       "      <td>10.333333</td>\n",
       "      <td>0.987481</td>\n",
       "      <td>9.571429</td>\n",
       "      <td>0.000000</td>\n",
       "      <td>0.608578</td>\n",
       "      <td>0.998210</td>\n",
       "      <td>0.112279</td>\n",
       "      <td>0.0</td>\n",
       "      <td>0.000000</td>\n",
       "      <td>0.531318</td>\n",
       "      <td>0.758004</td>\n",
       "      <td>0.094969</td>\n",
       "      <td>0.0</td>\n",
       "      <td>0.000000</td>\n",
       "      <td>0.222222</td>\n",
       "      <td>0.666667</td>\n",
       "      <td>0.492063</td>\n",
       "      <td>0.0</td>\n",
       "      <td>0.000000</td>\n",
       "      <td>0.220588</td>\n",
       "      <td>0.571429</td>\n",
       "      <td>0.455882</td>\n",
       "      <td>0.0</td>\n",
       "      <td>0.670582</td>\n",
       "      <td>0.692158</td>\n",
       "      <td>2.800000</td>\n",
       "      <td>3.000000</td>\n",
       "      <td>704.156000</td>\n",
       "      <td>681.386250</td>\n",
       "      <td>3150.000000</td>\n",
       "      <td>3150.00000</td>\n",
       "      <td>0</td>\n",
       "      <td>0</td>\n",
       "      <td>2783.498621</td>\n",
       "      <td>2530.87</td>\n",
       "      <td>1025.432318</td>\n",
       "      <td>0</td>\n",
       "      <td>0</td>\n",
       "      <td>2729.818825</td>\n",
       "      <td>2530.87</td>\n",
       "      <td>1034.645481</td>\n",
       "      <td>2159.023667</td>\n",
       "      <td>2122.430</td>\n",
       "      <td>973.031285</td>\n",
       "      <td>1.288643</td>\n",
       "      <td>12726.61</td>\n",
       "      <td>15778.25</td>\n",
       "      <td>28504.86</td>\n",
       "      <td>0.806541</td>\n",
       "      <td>18500.0</td>\n",
       "      <td>2600.0</td>\n",
       "      <td>5000.0</td>\n",
       "      <td>2433.33</td>\n",
       "      <td>0.00</td>\n",
       "      <td>1.0</td>\n",
       "      <td>1.0</td>\n",
       "      <td>2.0</td>\n",
       "      <td>0.0</td>\n",
       "      <td>0.519896</td>\n",
       "      <td>2433.330000</td>\n",
       "      <td>0.50</td>\n",
       "      <td>2.000000</td>\n",
       "    </tr>\n",
       "    <tr>\n",
       "      <th>2</th>\n",
       "      <td>4d7e9b73-dd94-4fdc-9611-51ec641b8e19</td>\n",
       "      <td>2023-04-03</td>\n",
       "      <td>0.0</td>\n",
       "      <td>1.0</td>\n",
       "      <td>0.0</td>\n",
       "      <td>1</td>\n",
       "      <td>1</td>\n",
       "      <td>0.0</td>\n",
       "      <td>1.0</td>\n",
       "      <td>0.0</td>\n",
       "      <td>0.0</td>\n",
       "      <td>0.0</td>\n",
       "      <td>0.0</td>\n",
       "      <td>2.0</td>\n",
       "      <td>0.0</td>\n",
       "      <td>0.0</td>\n",
       "      <td>0.0</td>\n",
       "      <td>0.00</td>\n",
       "      <td>149.81</td>\n",
       "      <td>0.00</td>\n",
       "      <td>0.00</td>\n",
       "      <td>0.0</td>\n",
       "      <td>0.00</td>\n",
       "      <td>754.56</td>\n",
       "      <td>0.00</td>\n",
       "      <td>0.00</td>\n",
       "      <td>0.0</td>\n",
       "      <td>0.000000</td>\n",
       "      <td>74.905000</td>\n",
       "      <td>0.000000</td>\n",
       "      <td>0.000000</td>\n",
       "      <td>0.0</td>\n",
       "      <td>0.000000</td>\n",
       "      <td>251.520000</td>\n",
       "      <td>0.00000</td>\n",
       "      <td>0.000000</td>\n",
       "      <td>0.0</td>\n",
       "      <td>16500.00</td>\n",
       "      <td>2.0</td>\n",
       "      <td>5500.000000</td>\n",
       "      <td>0.00</td>\n",
       "      <td>2542.495962</td>\n",
       "      <td>21900.00</td>\n",
       "      <td>3.0</td>\n",
       "      <td>5475.000000</td>\n",
       "      <td>0.00</td>\n",
       "      <td>2725.540575</td>\n",
       "      <td>24020.21</td>\n",
       "      <td>17.0</td>\n",
       "      <td>1334.456111</td>\n",
       "      <td>828.440</td>\n",
       "      <td>1278.560558</td>\n",
       "      <td>24624.96</td>\n",
       "      <td>18.0</td>\n",
       "      <td>1296.050526</td>\n",
       "      <td>828.440</td>\n",
       "      <td>1258.157373</td>\n",
       "      <td>1.455682</td>\n",
       "      <td>5.666667</td>\n",
       "      <td>1.124376</td>\n",
       "      <td>4.500000</td>\n",
       "      <td>0.000000</td>\n",
       "      <td>0.006237</td>\n",
       "      <td>0.000000</td>\n",
       "      <td>0.000000</td>\n",
       "      <td>0.0</td>\n",
       "      <td>0.000000</td>\n",
       "      <td>0.030642</td>\n",
       "      <td>0.000000</td>\n",
       "      <td>0.000000</td>\n",
       "      <td>0.0</td>\n",
       "      <td>0.000000</td>\n",
       "      <td>0.055556</td>\n",
       "      <td>0.000000</td>\n",
       "      <td>0.000000</td>\n",
       "      <td>0.0</td>\n",
       "      <td>0.000000</td>\n",
       "      <td>0.105263</td>\n",
       "      <td>0.000000</td>\n",
       "      <td>0.000000</td>\n",
       "      <td>0.0</td>\n",
       "      <td>149.810000</td>\n",
       "      <td>754.560000</td>\n",
       "      <td>1.000000</td>\n",
       "      <td>2.000000</td>\n",
       "      <td>74.905000</td>\n",
       "      <td>251.520000</td>\n",
       "      <td>0.000000</td>\n",
       "      <td>0.00000</td>\n",
       "      <td>0</td>\n",
       "      <td>7</td>\n",
       "      <td>405.512382</td>\n",
       "      <td>17.05</td>\n",
       "      <td>1405.918594</td>\n",
       "      <td>0</td>\n",
       "      <td>7</td>\n",
       "      <td>824.096562</td>\n",
       "      <td>17.05</td>\n",
       "      <td>2006.468341</td>\n",
       "      <td>5275.041667</td>\n",
       "      <td>5080.880</td>\n",
       "      <td>2053.065068</td>\n",
       "      <td>0.076859</td>\n",
       "      <td>1600.00</td>\n",
       "      <td>10000.00</td>\n",
       "      <td>11600.00</td>\n",
       "      <td>0.159984</td>\n",
       "      <td>11900.0</td>\n",
       "      <td>0.0</td>\n",
       "      <td>11900.0</td>\n",
       "      <td>2196.83</td>\n",
       "      <td>0.00</td>\n",
       "      <td>0.0</td>\n",
       "      <td>2.0</td>\n",
       "      <td>2.0</td>\n",
       "      <td>0.0</td>\n",
       "      <td>0.000000</td>\n",
       "      <td>2196.830000</td>\n",
       "      <td>0.00</td>\n",
       "      <td>2.000000</td>\n",
       "    </tr>\n",
       "    <tr>\n",
       "      <th>3</th>\n",
       "      <td>2e3c32e2-1f1b-4d0f-a7c2-8dcdb11c6317</td>\n",
       "      <td>2023-04-03</td>\n",
       "      <td>0.0</td>\n",
       "      <td>0.0</td>\n",
       "      <td>0.0</td>\n",
       "      <td>1</td>\n",
       "      <td>0</td>\n",
       "      <td>3.0</td>\n",
       "      <td>19.0</td>\n",
       "      <td>21.0</td>\n",
       "      <td>42.0</td>\n",
       "      <td>0.0</td>\n",
       "      <td>3.0</td>\n",
       "      <td>20.0</td>\n",
       "      <td>22.0</td>\n",
       "      <td>42.0</td>\n",
       "      <td>0.0</td>\n",
       "      <td>981.80</td>\n",
       "      <td>2645.55</td>\n",
       "      <td>5365.49</td>\n",
       "      <td>4872.08</td>\n",
       "      <td>0.0</td>\n",
       "      <td>981.80</td>\n",
       "      <td>2955.55</td>\n",
       "      <td>5568.55</td>\n",
       "      <td>4872.08</td>\n",
       "      <td>0.0</td>\n",
       "      <td>245.450000</td>\n",
       "      <td>132.277500</td>\n",
       "      <td>243.885909</td>\n",
       "      <td>113.304186</td>\n",
       "      <td>0.0</td>\n",
       "      <td>245.450000</td>\n",
       "      <td>140.740476</td>\n",
       "      <td>242.11087</td>\n",
       "      <td>113.304186</td>\n",
       "      <td>0.0</td>\n",
       "      <td>8812.37</td>\n",
       "      <td>30.0</td>\n",
       "      <td>284.270000</td>\n",
       "      <td>0.00</td>\n",
       "      <td>220.698407</td>\n",
       "      <td>9315.43</td>\n",
       "      <td>32.0</td>\n",
       "      <td>282.285758</td>\n",
       "      <td>0.00</td>\n",
       "      <td>221.679502</td>\n",
       "      <td>9430.95</td>\n",
       "      <td>72.0</td>\n",
       "      <td>129.191096</td>\n",
       "      <td>16.030</td>\n",
       "      <td>227.338129</td>\n",
       "      <td>10640.95</td>\n",
       "      <td>75.0</td>\n",
       "      <td>140.012500</td>\n",
       "      <td>19.000</td>\n",
       "      <td>232.956327</td>\n",
       "      <td>1.070073</td>\n",
       "      <td>2.322581</td>\n",
       "      <td>1.142170</td>\n",
       "      <td>2.272727</td>\n",
       "      <td>0.111412</td>\n",
       "      <td>0.280518</td>\n",
       "      <td>0.608859</td>\n",
       "      <td>0.516605</td>\n",
       "      <td>0.0</td>\n",
       "      <td>0.105395</td>\n",
       "      <td>0.277752</td>\n",
       "      <td>0.597777</td>\n",
       "      <td>0.457861</td>\n",
       "      <td>0.0</td>\n",
       "      <td>0.096774</td>\n",
       "      <td>0.260274</td>\n",
       "      <td>0.677419</td>\n",
       "      <td>0.575342</td>\n",
       "      <td>0.0</td>\n",
       "      <td>0.090909</td>\n",
       "      <td>0.263158</td>\n",
       "      <td>0.666667</td>\n",
       "      <td>0.552632</td>\n",
       "      <td>0.0</td>\n",
       "      <td>0.492976</td>\n",
       "      <td>0.530662</td>\n",
       "      <td>0.863636</td>\n",
       "      <td>0.869565</td>\n",
       "      <td>132.277500</td>\n",
       "      <td>140.740476</td>\n",
       "      <td>243.885909</td>\n",
       "      <td>242.11087</td>\n",
       "      <td>0</td>\n",
       "      <td>0</td>\n",
       "      <td>2844.463856</td>\n",
       "      <td>2941.91</td>\n",
       "      <td>352.347255</td>\n",
       "      <td>0</td>\n",
       "      <td>0</td>\n",
       "      <td>2921.387192</td>\n",
       "      <td>2941.91</td>\n",
       "      <td>486.127788</td>\n",
       "      <td>3739.338667</td>\n",
       "      <td>3749.750</td>\n",
       "      <td>846.926747</td>\n",
       "      <td>0.760483</td>\n",
       "      <td>6934.28</td>\n",
       "      <td>6295.49</td>\n",
       "      <td>13229.77</td>\n",
       "      <td>1.101293</td>\n",
       "      <td>13300.0</td>\n",
       "      <td>0.0</td>\n",
       "      <td>3500.0</td>\n",
       "      <td>861.00</td>\n",
       "      <td>905.82</td>\n",
       "      <td>0.0</td>\n",
       "      <td>5.0</td>\n",
       "      <td>5.0</td>\n",
       "      <td>5.0</td>\n",
       "      <td>0.000000</td>\n",
       "      <td>0.949472</td>\n",
       "      <td>0.00</td>\n",
       "      <td>0.833333</td>\n",
       "    </tr>\n",
       "    <tr>\n",
       "      <th>4</th>\n",
       "      <td>57948378-e103-4f19-972e-a911082a16c2</td>\n",
       "      <td>2023-04-03</td>\n",
       "      <td>0.0</td>\n",
       "      <td>0.0</td>\n",
       "      <td>0.0</td>\n",
       "      <td>1</td>\n",
       "      <td>0</td>\n",
       "      <td>17.0</td>\n",
       "      <td>2.0</td>\n",
       "      <td>19.0</td>\n",
       "      <td>2.0</td>\n",
       "      <td>0.0</td>\n",
       "      <td>18.0</td>\n",
       "      <td>2.0</td>\n",
       "      <td>21.0</td>\n",
       "      <td>2.0</td>\n",
       "      <td>0.0</td>\n",
       "      <td>1641.61</td>\n",
       "      <td>33.07</td>\n",
       "      <td>2101.61</td>\n",
       "      <td>98.95</td>\n",
       "      <td>0.0</td>\n",
       "      <td>1694.08</td>\n",
       "      <td>33.07</td>\n",
       "      <td>2240.48</td>\n",
       "      <td>98.95</td>\n",
       "      <td>0.0</td>\n",
       "      <td>91.200556</td>\n",
       "      <td>11.023333</td>\n",
       "      <td>105.080500</td>\n",
       "      <td>32.983333</td>\n",
       "      <td>0.0</td>\n",
       "      <td>89.162105</td>\n",
       "      <td>11.023333</td>\n",
       "      <td>101.84000</td>\n",
       "      <td>32.983333</td>\n",
       "      <td>0.0</td>\n",
       "      <td>2101.61</td>\n",
       "      <td>19.0</td>\n",
       "      <td>105.080500</td>\n",
       "      <td>38.13</td>\n",
       "      <td>98.148889</td>\n",
       "      <td>4040.48</td>\n",
       "      <td>22.0</td>\n",
       "      <td>175.673043</td>\n",
       "      <td>52.66</td>\n",
       "      <td>316.109676</td>\n",
       "      <td>1924.27</td>\n",
       "      <td>9.0</td>\n",
       "      <td>192.427000</td>\n",
       "      <td>0.000</td>\n",
       "      <td>172.064979</td>\n",
       "      <td>3944.27</td>\n",
       "      <td>11.0</td>\n",
       "      <td>328.689167</td>\n",
       "      <td>0.000</td>\n",
       "      <td>378.672749</td>\n",
       "      <td>0.915182</td>\n",
       "      <td>0.450000</td>\n",
       "      <td>0.975947</td>\n",
       "      <td>0.478261</td>\n",
       "      <td>0.781120</td>\n",
       "      <td>0.017186</td>\n",
       "      <td>1.000000</td>\n",
       "      <td>0.051422</td>\n",
       "      <td>0.0</td>\n",
       "      <td>0.419277</td>\n",
       "      <td>0.008384</td>\n",
       "      <td>0.554508</td>\n",
       "      <td>0.025087</td>\n",
       "      <td>0.0</td>\n",
       "      <td>0.850000</td>\n",
       "      <td>0.200000</td>\n",
       "      <td>0.950000</td>\n",
       "      <td>0.200000</td>\n",
       "      <td>0.0</td>\n",
       "      <td>0.782609</td>\n",
       "      <td>0.166667</td>\n",
       "      <td>0.913043</td>\n",
       "      <td>0.166667</td>\n",
       "      <td>0.0</td>\n",
       "      <td>0.015728</td>\n",
       "      <td>0.014754</td>\n",
       "      <td>0.100000</td>\n",
       "      <td>0.090909</td>\n",
       "      <td>11.023333</td>\n",
       "      <td>11.023333</td>\n",
       "      <td>105.080500</td>\n",
       "      <td>101.84000</td>\n",
       "      <td>0</td>\n",
       "      <td>0</td>\n",
       "      <td>6945.847837</td>\n",
       "      <td>7781.71</td>\n",
       "      <td>2225.532571</td>\n",
       "      <td>0</td>\n",
       "      <td>0</td>\n",
       "      <td>6436.644642</td>\n",
       "      <td>7781.71</td>\n",
       "      <td>2702.671887</td>\n",
       "      <td>1022.117333</td>\n",
       "      <td>1077.775</td>\n",
       "      <td>401.075993</td>\n",
       "      <td>6.788906</td>\n",
       "      <td>11224.73</td>\n",
       "      <td>1785.37</td>\n",
       "      <td>13010.10</td>\n",
       "      <td>6.283541</td>\n",
       "      <td>1800.0</td>\n",
       "      <td>0.0</td>\n",
       "      <td>1800.0</td>\n",
       "      <td>363.00</td>\n",
       "      <td>0.00</td>\n",
       "      <td>0.0</td>\n",
       "      <td>1.0</td>\n",
       "      <td>1.0</td>\n",
       "      <td>0.0</td>\n",
       "      <td>0.000000</td>\n",
       "      <td>363.000000</td>\n",
       "      <td>0.00</td>\n",
       "      <td>1.000000</td>\n",
       "    </tr>\n",
       "  </tbody>\n",
       "</table>\n",
       "</div>"
      ],
      "text/plain": [
       "                            business_id    due_date  DPD_plus_15_next  \\\n",
       "0  c616b39b-aef7-4156-973a-08278aa74536  2023-04-03               0.0   \n",
       "1  cc861415-fd34-4654-8b97-dab0794938dc  2023-04-03               0.0   \n",
       "2  4d7e9b73-dd94-4fdc-9611-51ec641b8e19  2023-04-03               0.0   \n",
       "3  2e3c32e2-1f1b-4d0f-a7c2-8dcdb11c6317  2023-04-03               0.0   \n",
       "4  57948378-e103-4f19-972e-a911082a16c2  2023-04-03               0.0   \n",
       "\n",
       "   DPD_plus_3_last_2  DPD_plus_15_prev  emi_no  DPD_plus_3  \\\n",
       "0                0.0               0.0       1           0   \n",
       "1                0.0               0.0       1           0   \n",
       "2                1.0               0.0       1           1   \n",
       "3                0.0               0.0       1           0   \n",
       "4                0.0               0.0       1           0   \n",
       "\n",
       "   count_pd_deposit_1m  count_ach_debit_1m  count_ach_credit_1m  \\\n",
       "0                  0.0                 1.0                  0.0   \n",
       "1                  0.0                14.0                  4.0   \n",
       "2                  0.0                 1.0                  0.0   \n",
       "3                  3.0                19.0                 21.0   \n",
       "4                 17.0                 2.0                 19.0   \n",
       "\n",
       "   count_card_withdrawal_1m  count_mrdc_credit_1m  count_pd_deposit_2m  \\\n",
       "0                      35.0                   0.0                  0.0   \n",
       "1                      31.0                   0.0                  0.0   \n",
       "2                       0.0                   0.0                  0.0   \n",
       "3                      42.0                   0.0                  3.0   \n",
       "4                       2.0                   0.0                 18.0   \n",
       "\n",
       "   count_ach_debit_2m  count_ach_credit_2m  count_card_withdrawal_2m  \\\n",
       "0                 1.0                  0.0                      38.0   \n",
       "1                15.0                  4.0                      31.0   \n",
       "2                 2.0                  0.0                       0.0   \n",
       "3                20.0                 22.0                      42.0   \n",
       "4                 2.0                 21.0                       2.0   \n",
       "\n",
       "   count_mrdc_credit_2m  amount_pd_deposit_1m  amount_ach_debit_1m  \\\n",
       "0                   0.0                  0.00               295.36   \n",
       "1                   0.0                  0.00             10562.34   \n",
       "2                   0.0                  0.00               149.81   \n",
       "3                   0.0                981.80              2645.55   \n",
       "4                   0.0               1641.61                33.07   \n",
       "\n",
       "   amount_ach_credit_1m  amount_card_withdrawal_1m  amount_mrdc_credit_1m  \\\n",
       "0                  0.00                    3962.06                    0.0   \n",
       "1              15750.00                    1948.69                    0.0   \n",
       "2                  0.00                       0.00                    0.0   \n",
       "3               5365.49                    4872.08                    0.0   \n",
       "4               2101.61                      98.95                    0.0   \n",
       "\n",
       "   amount_pd_deposit_2m  amount_ach_debit_2m  amount_ach_credit_2m  \\\n",
       "0                  0.00               295.36                  0.00   \n",
       "1                  0.00             10902.18              15750.00   \n",
       "2                  0.00               754.56                  0.00   \n",
       "3                981.80              2955.55               5568.55   \n",
       "4               1694.08                33.07               2240.48   \n",
       "\n",
       "   amount_card_withdrawal_2m  amount_mrdc_credit_2m  pd_deposit_size_1m  \\\n",
       "0                    4102.83                    0.0            0.000000   \n",
       "1                    1948.69                    0.0            0.000000   \n",
       "2                       0.00                    0.0            0.000000   \n",
       "3                    4872.08                    0.0          245.450000   \n",
       "4                      98.95                    0.0           91.200556   \n",
       "\n",
       "   ach_debit_size_1m  ach_credit_size_1m  card_withdrawal_size_1m  \\\n",
       "0         147.680000            0.000000               110.057222   \n",
       "1         704.156000         3150.000000                60.896563   \n",
       "2          74.905000            0.000000                 0.000000   \n",
       "3         132.277500          243.885909               113.304186   \n",
       "4          11.023333          105.080500                32.983333   \n",
       "\n",
       "   mrdc_credit_size_1m  pd_deposit_size_2m  ach_debit_size_2m  \\\n",
       "0                  0.0            0.000000         147.680000   \n",
       "1                  0.0            0.000000         681.386250   \n",
       "2                  0.0            0.000000         251.520000   \n",
       "3                  0.0          245.450000         140.740476   \n",
       "4                  0.0           89.162105          11.023333   \n",
       "\n",
       "   ach_credit_size_2m  card_withdrawal_size_2m  mrdc_credit_size_2m  \\\n",
       "0             0.00000               105.200769                  0.0   \n",
       "1          3150.00000                60.896563                  0.0   \n",
       "2             0.00000                 0.000000                  0.0   \n",
       "3           242.11087               113.304186                  0.0   \n",
       "4           101.84000                32.983333                  0.0   \n",
       "\n",
       "   amount_credited_1m  distinct_credit_txns_1m  credit_size_1m  \\\n",
       "0             1800.00                      2.0      600.000000   \n",
       "1            15778.25                      5.0     2629.708333   \n",
       "2            16500.00                      2.0     5500.000000   \n",
       "3             8812.37                     30.0      284.270000   \n",
       "4             2101.61                     19.0      105.080500   \n",
       "\n",
       "   median_amount_credited_1m  stddev_amount_credited_1m  amount_credited_2m  \\\n",
       "0                       0.00                 195.239512             2800.00   \n",
       "1                       0.00                1028.030619            20778.25   \n",
       "2                       0.00                2542.495962            21900.00   \n",
       "3                       0.00                 220.698407             9315.43   \n",
       "4                      38.13                  98.148889             4040.48   \n",
       "\n",
       "   distinct_credit_txns_2m  credit_size_2m  median_amount_credited_2m  \\\n",
       "0                      3.0      700.000000                       0.00   \n",
       "1                      6.0     2968.321429                       0.00   \n",
       "2                      3.0     5475.000000                       0.00   \n",
       "3                     32.0      282.285758                       0.00   \n",
       "4                     22.0      175.673043                      52.66   \n",
       "\n",
       "   stddev_amount_credited_2m  amount_debited_1m  distinct_debit_txns_1m  \\\n",
       "0                 244.616840            4257.42                    36.0   \n",
       "1                1170.168024           17355.78                    62.0   \n",
       "2                2725.540575           24020.21                    17.0   \n",
       "3                 221.679502            9430.95                    72.0   \n",
       "4                 316.109676            1924.27                     9.0   \n",
       "\n",
       "   debit_size_1m  median_amount_debited_1m  stddev_amount_debited_1m  \\\n",
       "0     115.065405                    35.885                192.561543   \n",
       "1     275.488571                    74.440                482.237717   \n",
       "2    1334.456111                   828.440               1278.560558   \n",
       "3     129.191096                    16.030                227.338129   \n",
       "4     192.427000                     0.000                172.064979   \n",
       "\n",
       "   amount_debited_2m  distinct_debit_txns_2m  debit_size_2m  \\\n",
       "0            4398.19                    39.0     109.954750   \n",
       "1           20519.12                    67.0     301.751765   \n",
       "2           24624.96                    18.0    1296.050526   \n",
       "3           10640.95                    75.0     140.012500   \n",
       "4            3944.27                    11.0     328.689167   \n",
       "\n",
       "   median_amount_debited_2m  stddev_amount_debited_2m  ratio_debit_credit_1m  \\\n",
       "0                    42.995                191.137528               2.363920   \n",
       "1                   101.750                546.701343               1.099912   \n",
       "2                   828.440               1258.157373               1.455682   \n",
       "3                    19.000                232.956327               1.070073   \n",
       "4                     0.000                378.672749               0.915182   \n",
       "\n",
       "   ratio_debit_credit_frequency_1m  ratio_debit_credit_2m  \\\n",
       "0                        12.000000               1.570221   \n",
       "1                        10.333333               0.987481   \n",
       "2                         5.666667               1.124376   \n",
       "3                         2.322581               1.142170   \n",
       "4                         0.450000               0.975947   \n",
       "\n",
       "   ratio_debit_credit_frequency_2m  ratio_pd_amt_total_credit_1m  \\\n",
       "0                         9.750000                      0.000000   \n",
       "1                         9.571429                      0.000000   \n",
       "2                         4.500000                      0.000000   \n",
       "3                         2.272727                      0.111412   \n",
       "4                         0.478261                      0.781120   \n",
       "\n",
       "   ratio_ach_debit_total_debit_1m  ratio_ach_credit_total_credit_1m  \\\n",
       "0                        0.069375                          0.000000   \n",
       "1                        0.608578                          0.998210   \n",
       "2                        0.006237                          0.000000   \n",
       "3                        0.280518                          0.608859   \n",
       "4                        0.017186                          1.000000   \n",
       "\n",
       "   ratio_card_withdrawal_total_debit_1m  ratio_mrdc_credit_total_credit_1m  \\\n",
       "0                              0.930625                                0.0   \n",
       "1                              0.112279                                0.0   \n",
       "2                              0.000000                                0.0   \n",
       "3                              0.516605                                0.0   \n",
       "4                              0.051422                                0.0   \n",
       "\n",
       "   ratio_pd_amt_total_credit_2m  ratio_ach_debit_total_debit_2m  \\\n",
       "0                      0.000000                        0.067155   \n",
       "1                      0.000000                        0.531318   \n",
       "2                      0.000000                        0.030642   \n",
       "3                      0.105395                        0.277752   \n",
       "4                      0.419277                        0.008384   \n",
       "\n",
       "   ratio_ach_credit_total_credit_2m  ratio_card_withdrawal_total_debit_2m  \\\n",
       "0                          0.000000                              0.932845   \n",
       "1                          0.758004                              0.094969   \n",
       "2                          0.000000                              0.000000   \n",
       "3                          0.597777                              0.457861   \n",
       "4                          0.554508                              0.025087   \n",
       "\n",
       "   ratio_mrdc_credit_total_credit_2m  ratio_pd_freq_total_credit_1m  \\\n",
       "0                                0.0                       0.000000   \n",
       "1                                0.0                       0.000000   \n",
       "2                                0.0                       0.000000   \n",
       "3                                0.0                       0.096774   \n",
       "4                                0.0                       0.850000   \n",
       "\n",
       "   ratio_ach_debit_freq_total_debit_1m  ratio_ach_credit_freq_total_credit_1m  \\\n",
       "0                             0.027027                               0.000000   \n",
       "1                             0.222222                               0.666667   \n",
       "2                             0.055556                               0.000000   \n",
       "3                             0.260274                               0.677419   \n",
       "4                             0.200000                               0.950000   \n",
       "\n",
       "   ratio_card_withdrawal_freq_total_debit_1m  \\\n",
       "0                                   0.945946   \n",
       "1                                   0.492063   \n",
       "2                                   0.000000   \n",
       "3                                   0.575342   \n",
       "4                                   0.200000   \n",
       "\n",
       "   ratio_mrdc_credit_freq_total_credit_1m  ratio_pd_freq_total_credit_2m  \\\n",
       "0                                     0.0                       0.000000   \n",
       "1                                     0.0                       0.000000   \n",
       "2                                     0.0                       0.000000   \n",
       "3                                     0.0                       0.090909   \n",
       "4                                     0.0                       0.782609   \n",
       "\n",
       "   ratio_ach_debit_freq_total_debit_2m  ratio_ach_credit_freq_total_credit_2m  \\\n",
       "0                             0.025000                               0.000000   \n",
       "1                             0.220588                               0.571429   \n",
       "2                             0.105263                               0.000000   \n",
       "3                             0.263158                               0.666667   \n",
       "4                             0.166667                               0.913043   \n",
       "\n",
       "   ratio_card_withdrawal_freq_total_debit_2m  \\\n",
       "0                                   0.950000   \n",
       "1                                   0.455882   \n",
       "2                                   0.000000   \n",
       "3                                   0.552632   \n",
       "4                                   0.166667   \n",
       "\n",
       "   ratio_mrdc_credit_freq_total_credit_2m  ratio_ach_debit_credit_1m  \\\n",
       "0                                     0.0                 295.360000   \n",
       "1                                     0.0                   0.670582   \n",
       "2                                     0.0                 149.810000   \n",
       "3                                     0.0                   0.492976   \n",
       "4                                     0.0                   0.015728   \n",
       "\n",
       "   ratio_ach_debit_credit_2m  ratio_ach_debit_credit_freq_1m  \\\n",
       "0                 295.360000                        1.000000   \n",
       "1                   0.692158                        2.800000   \n",
       "2                 754.560000                        1.000000   \n",
       "3                   0.530662                        0.863636   \n",
       "4                   0.014754                        0.100000   \n",
       "\n",
       "   ratio_ach_debit_credit_freq_2m  ach_d_size_1m  ach_d_size_2m  \\\n",
       "0                        1.000000     147.680000     147.680000   \n",
       "1                        3.000000     704.156000     681.386250   \n",
       "2                        2.000000      74.905000     251.520000   \n",
       "3                        0.869565     132.277500     140.740476   \n",
       "4                        0.090909      11.023333      11.023333   \n",
       "\n",
       "   ach_c_size_1m  ach_c_size_2m  od_count_1m  zero_balance_count_1m  \\\n",
       "0       0.000000        0.00000            0                      0   \n",
       "1    3150.000000     3150.00000            0                      0   \n",
       "2       0.000000        0.00000            0                      7   \n",
       "3     243.885909      242.11087            0                      0   \n",
       "4     105.080500      101.84000            0                      0   \n",
       "\n",
       "   avg_running_balance_1m  median_running_balance_1m  \\\n",
       "0            17737.240094                   18065.85   \n",
       "1             2783.498621                    2530.87   \n",
       "2              405.512382                      17.05   \n",
       "3             2844.463856                    2941.91   \n",
       "4             6945.847837                    7781.71   \n",
       "\n",
       "   stddev_running_balance_1m  od_count_2m  zero_balance_count_2m  \\\n",
       "0                1433.419027            0                      0   \n",
       "1                1025.432318            0                      0   \n",
       "2                1405.918594            0                      7   \n",
       "3                 352.347255            0                      0   \n",
       "4                2225.532571            0                      0   \n",
       "\n",
       "   avg_running_balance_2m  median_running_balance_2m  \\\n",
       "0            17883.244097                   18065.85   \n",
       "1             2729.818825                    2530.87   \n",
       "2              824.096562                      17.05   \n",
       "3             2921.387192                    2941.91   \n",
       "4             6436.644642                    7781.71   \n",
       "\n",
       "   stddev_running_balance_2m  avg_running_balance_2nd_m  \\\n",
       "0                1689.488039               19435.753333   \n",
       "1                1034.645481                2159.023667   \n",
       "2                2006.468341                5275.041667   \n",
       "3                 486.127788                3739.338667   \n",
       "4                2702.671887                1022.117333   \n",
       "\n",
       "   median_running_balance_2nd_m  stddev_running_balance_2nd_m  \\\n",
       "0                     21236.060                   2998.968352   \n",
       "1                      2122.430                    973.031285   \n",
       "2                      5080.880                   2053.065068   \n",
       "3                      3749.750                    846.926747   \n",
       "4                      1077.775                    401.075993   \n",
       "\n",
       "   ratio_avg_running_balance_1m_2m  revenue_past_1m  revenue_past_2m  \\\n",
       "0                         0.912562         12494.28             0.00   \n",
       "1                         1.288643         12726.61         15778.25   \n",
       "2                         0.076859          1600.00         10000.00   \n",
       "3                         0.760483          6934.28          6295.49   \n",
       "4                         6.788906         11224.73          1785.37   \n",
       "\n",
       "   total_revenue_2m  ratio_revenue_1m_2m  credit_limit  amount_drawn_1m_prev  \\\n",
       "0          12494.28         12494.280000       11600.0                1000.0   \n",
       "1          28504.86             0.806541       18500.0                2600.0   \n",
       "2          11600.00             0.159984       11900.0                   0.0   \n",
       "3          13229.77             1.101293       13300.0                   0.0   \n",
       "4          13010.10             6.283541        1800.0                   0.0   \n",
       "\n",
       "   amount_drawn_2m_prev  amount_cashin_1m_prev  amount_cashin_2m_prev  \\\n",
       "0                2800.0                2884.00                   0.00   \n",
       "1                5000.0                2433.33                   0.00   \n",
       "2               11900.0                2196.83                   0.00   \n",
       "3                3500.0                 861.00                 905.82   \n",
       "4                1800.0                 363.00                   0.00   \n",
       "\n",
       "   distinct_draws_1m_prev  distinct_draws_2m_prev  distinct_cashins_1m_prev  \\\n",
       "0                     1.0                     3.0                       2.0   \n",
       "1                     1.0                     1.0                       2.0   \n",
       "2                     0.0                     2.0                       2.0   \n",
       "3                     0.0                     5.0                       5.0   \n",
       "4                     0.0                     1.0                       1.0   \n",
       "\n",
       "   distinct_cashins_2m_prev  ratio_amt_drawn_mom  ratio_amt_cashin_mom  \\\n",
       "0                       0.0             0.357015           2884.000000   \n",
       "1                       0.0             0.519896           2433.330000   \n",
       "2                       0.0             0.000000           2196.830000   \n",
       "3                       5.0             0.000000              0.949472   \n",
       "4                       0.0             0.000000            363.000000   \n",
       "\n",
       "   ratio_count_drawn_mom  ratio_count_cashin_mom  \n",
       "0                   0.25                2.000000  \n",
       "1                   0.50                2.000000  \n",
       "2                   0.00                2.000000  \n",
       "3                   0.00                0.833333  \n",
       "4                   0.00                1.000000  "
      ]
     },
     "execution_count": 43,
     "metadata": {},
     "output_type": "execute_result"
    }
   ],
   "source": [
    "dff.head()"
   ]
  },
  {
   "cell_type": "code",
   "execution_count": 135,
   "metadata": {},
   "outputs": [],
   "source": [
    "temp = dff.groupby('business_id',as_index=False)['due_date'].min()\n",
    "temp['pilot_flag'] = temp['due_date'].apply(lambda x: 0 if x > '2023-01-03' else 1)"
   ]
  },
  {
   "cell_type": "code",
   "execution_count": 136,
   "metadata": {},
   "outputs": [
    {
     "data": {
      "text/html": [
       "<div>\n",
       "<style scoped>\n",
       "    .dataframe tbody tr th:only-of-type {\n",
       "        vertical-align: middle;\n",
       "    }\n",
       "\n",
       "    .dataframe tbody tr th {\n",
       "        vertical-align: top;\n",
       "    }\n",
       "\n",
       "    .dataframe thead th {\n",
       "        text-align: right;\n",
       "    }\n",
       "</style>\n",
       "<table border=\"1\" class=\"dataframe\">\n",
       "  <thead>\n",
       "    <tr style=\"text-align: right;\">\n",
       "      <th></th>\n",
       "      <th>business_id</th>\n",
       "      <th>due_date</th>\n",
       "      <th>pilot_flag</th>\n",
       "    </tr>\n",
       "  </thead>\n",
       "  <tbody>\n",
       "    <tr>\n",
       "      <th>1788</th>\n",
       "      <td>e6d11222-f9c7-470e-ae06-3f2de676e892</td>\n",
       "      <td>2022-09-10</td>\n",
       "      <td>1</td>\n",
       "    </tr>\n",
       "    <tr>\n",
       "      <th>986</th>\n",
       "      <td>818395b0-61da-4256-8d0a-fd6546ef70a8</td>\n",
       "      <td>2022-09-02</td>\n",
       "      <td>1</td>\n",
       "    </tr>\n",
       "    <tr>\n",
       "      <th>1881</th>\n",
       "      <td>f4d7772a-7edd-457f-8bef-98d9791f9fd8</td>\n",
       "      <td>2023-02-13</td>\n",
       "      <td>0</td>\n",
       "    </tr>\n",
       "    <tr>\n",
       "      <th>443</th>\n",
       "      <td>3754cacc-128b-4bda-8b3d-d27a76560bbf</td>\n",
       "      <td>2023-02-25</td>\n",
       "      <td>0</td>\n",
       "    </tr>\n",
       "    <tr>\n",
       "      <th>1449</th>\n",
       "      <td>bccfa5c0-6c15-498d-94ab-f516d43c90bc</td>\n",
       "      <td>2022-08-05</td>\n",
       "      <td>1</td>\n",
       "    </tr>\n",
       "  </tbody>\n",
       "</table>\n",
       "</div>"
      ],
      "text/plain": [
       "                               business_id    due_date  pilot_flag\n",
       "1788  e6d11222-f9c7-470e-ae06-3f2de676e892  2022-09-10           1\n",
       "986   818395b0-61da-4256-8d0a-fd6546ef70a8  2022-09-02           1\n",
       "1881  f4d7772a-7edd-457f-8bef-98d9791f9fd8  2023-02-13           0\n",
       "443   3754cacc-128b-4bda-8b3d-d27a76560bbf  2023-02-25           0\n",
       "1449  bccfa5c0-6c15-498d-94ab-f516d43c90bc  2022-08-05           1"
      ]
     },
     "execution_count": 136,
     "metadata": {},
     "output_type": "execute_result"
    }
   ],
   "source": [
    "temp.sample(5)"
   ]
  },
  {
   "cell_type": "code",
   "execution_count": 137,
   "metadata": {},
   "outputs": [
    {
     "data": {
      "text/plain": [
       "0    1312\n",
       "1     661\n",
       "Name: pilot_flag, dtype: int64"
      ]
     },
     "execution_count": 137,
     "metadata": {},
     "output_type": "execute_result"
    }
   ],
   "source": [
    "temp['pilot_flag'].value_counts()"
   ]
  },
  {
   "cell_type": "code",
   "execution_count": 138,
   "metadata": {},
   "outputs": [],
   "source": [
    "dff = dff.merge(temp[['business_id','pilot_flag']],how='left', left_on = 'business_id', right_on = 'business_id')"
   ]
  },
  {
   "cell_type": "code",
   "execution_count": 139,
   "metadata": {},
   "outputs": [
    {
     "data": {
      "text/plain": [
       "Index(['business_id', 'due_date', 'DPD_plus_15_next', 'DPD_plus_3_last_2',\n",
       "       'DPD_plus_15_prev', 'emi_no', 'DPD_plus_3', 'count_pd_deposit_1m',\n",
       "       'count_ach_debit_1m', 'count_ach_credit_1m',\n",
       "       ...\n",
       "       'amount_cashin_2m_prev', 'distinct_draws_1m_prev',\n",
       "       'distinct_draws_2m_prev', 'distinct_cashins_1m_prev',\n",
       "       'distinct_cashins_2m_prev', 'ratio_amt_drawn_mom',\n",
       "       'ratio_amt_cashin_mom', 'ratio_count_drawn_mom',\n",
       "       'ratio_count_cashin_mom', 'pilot_flag'],\n",
       "      dtype='object', length=121)"
      ]
     },
     "execution_count": 139,
     "metadata": {},
     "output_type": "execute_result"
    }
   ],
   "source": [
    "dff.columns"
   ]
  },
  {
   "cell_type": "code",
   "execution_count": 49,
   "metadata": {},
   "outputs": [
    {
     "data": {
      "text/plain": [
       "(4925, 121)"
      ]
     },
     "execution_count": 49,
     "metadata": {},
     "output_type": "execute_result"
    }
   ],
   "source": [
    "dff.shape"
   ]
  },
  {
   "cell_type": "code",
   "execution_count": 140,
   "metadata": {},
   "outputs": [
    {
     "data": {
      "text/plain": [
       "pilot_flag\n",
       "0     25.0\n",
       "1    280.0\n",
       "Name: DPD_plus_15_next, dtype: float64"
      ]
     },
     "execution_count": 140,
     "metadata": {},
     "output_type": "execute_result"
    }
   ],
   "source": [
    "dff.groupby('pilot_flag')['DPD_plus_15_next'].sum()"
   ]
  },
  {
   "cell_type": "code",
   "execution_count": 141,
   "metadata": {},
   "outputs": [],
   "source": [
    "dff['pilot_period_flag'] = dff['due_date'].apply(lambda x: 1 if x < '2022-12-20' else 0)"
   ]
  },
  {
   "cell_type": "code",
   "execution_count": 142,
   "metadata": {},
   "outputs": [
    {
     "data": {
      "text/plain": [
       "pilot_period_flag\n",
       "0     99.0\n",
       "1    206.0\n",
       "Name: DPD_plus_15_next, dtype: float64"
      ]
     },
     "execution_count": 142,
     "metadata": {},
     "output_type": "execute_result"
    }
   ],
   "source": [
    "dff.groupby('pilot_period_flag')['DPD_plus_15_next'].sum()"
   ]
  },
  {
   "cell_type": "code",
   "execution_count": 66,
   "metadata": {},
   "outputs": [
    {
     "data": {
      "text/plain": [
       "29076.153370558375"
      ]
     },
     "execution_count": 66,
     "metadata": {},
     "output_type": "execute_result"
    }
   ],
   "source": [
    "dff['amount_debited_2m'].mean()"
   ]
  },
  {
   "cell_type": "code",
   "execution_count": 67,
   "metadata": {},
   "outputs": [
    {
     "data": {
      "text/plain": [
       "count      4925.000000\n",
       "mean      29076.153371\n",
       "std       50996.016956\n",
       "min           0.000000\n",
       "25%        5458.670000\n",
       "50%       12753.910000\n",
       "75%       30141.830000\n",
       "max      474715.400000\n",
       "Name: amount_debited_2m, dtype: float64"
      ]
     },
     "execution_count": 67,
     "metadata": {},
     "output_type": "execute_result"
    }
   ],
   "source": [
    "dff['amount_debited_2m'].describe()"
   ]
  },
  {
   "cell_type": "code",
   "execution_count": 68,
   "metadata": {},
   "outputs": [
    {
     "data": {
      "text/plain": [
       "count      4925.000000\n",
       "mean      28882.961304\n",
       "std       54212.226953\n",
       "min           0.000000\n",
       "25%        5328.980000\n",
       "50%       12650.720000\n",
       "75%       29133.650000\n",
       "max      517482.900000\n",
       "Name: amount_credited_2m, dtype: float64"
      ]
     },
     "execution_count": 68,
     "metadata": {},
     "output_type": "execute_result"
    }
   ],
   "source": [
    "dff['amount_credited_2m'].describe()"
   ]
  },
  {
   "cell_type": "code",
   "execution_count": 143,
   "metadata": {},
   "outputs": [
    {
     "data": {
      "text/plain": [
       "emi_no\n",
       "1     95.0\n",
       "2    104.0\n",
       "3     34.0\n",
       "4     54.0\n",
       "5     18.0\n",
       "6      0.0\n",
       "Name: DPD_plus_15_next, dtype: float64"
      ]
     },
     "execution_count": 143,
     "metadata": {},
     "output_type": "execute_result"
    }
   ],
   "source": [
    "dff.groupby('emi_no')['DPD_plus_15_next'].sum()"
   ]
  },
  {
   "cell_type": "code",
   "execution_count": 144,
   "metadata": {},
   "outputs": [
    {
     "name": "stderr",
     "output_type": "stream",
     "text": [
      "/var/folders/v3/dy2p0xqd3mz5bvjtls49l7t80000gn/T/ipykernel_28973/2697453092.py:2: FutureWarning:\n",
      "\n",
      "Indexing with multiple keys (implicitly converted to a tuple of keys) will be deprecated, use a list instead.\n",
      "\n"
     ]
    },
    {
     "data": {
      "application/vnd.plotly.v1+json": {
       "config": {
        "plotlyServerURL": "https://plot.ly"
       },
       "data": [
        {
         "alignmentgroup": "True",
         "hovertemplate": "variable=DPD_plus_3<br>emi_no=%{x}<br>value=%{y}<extra></extra>",
         "legendgroup": "DPD_plus_3",
         "marker": {
          "color": "#636efa",
          "pattern": {
           "shape": ""
          }
         },
         "name": "DPD_plus_3",
         "offsetgroup": "DPD_plus_3",
         "orientation": "v",
         "showlegend": true,
         "textposition": "auto",
         "texttemplate": "%{y}",
         "type": "bar",
         "width": 0.5,
         "x": [
          1,
          2,
          3,
          4,
          5,
          6
         ],
         "xaxis": "x",
         "y": [
          182,
          176,
          151,
          62,
          64,
          25
         ],
         "yaxis": "y"
        },
        {
         "alignmentgroup": "True",
         "hovertemplate": "variable=DPD_plus_15_next<br>emi_no=%{x}<br>value=%{y}<extra></extra>",
         "legendgroup": "DPD_plus_15_next",
         "marker": {
          "color": "#EF553B",
          "pattern": {
           "shape": ""
          }
         },
         "name": "DPD_plus_15_next",
         "offsetgroup": "DPD_plus_15_next",
         "orientation": "v",
         "showlegend": true,
         "textposition": "auto",
         "texttemplate": "%{y}",
         "type": "bar",
         "width": 0.5,
         "x": [
          1,
          2,
          3,
          4,
          5,
          6
         ],
         "xaxis": "x",
         "y": [
          95,
          104,
          34,
          54,
          18,
          0
         ],
         "yaxis": "y"
        }
       ],
       "layout": {
        "barmode": "group",
        "height": 400,
        "legend": {
         "title": {
          "text": "variable"
         },
         "tracegroupgap": 0
        },
        "margin": {
         "t": 60
        },
        "template": {
         "data": {
          "bar": [
           {
            "error_x": {
             "color": "#f2f5fa"
            },
            "error_y": {
             "color": "#f2f5fa"
            },
            "marker": {
             "line": {
              "color": "rgb(17,17,17)",
              "width": 0.5
             },
             "pattern": {
              "fillmode": "overlay",
              "size": 10,
              "solidity": 0.2
             }
            },
            "type": "bar"
           }
          ],
          "barpolar": [
           {
            "marker": {
             "line": {
              "color": "rgb(17,17,17)",
              "width": 0.5
             },
             "pattern": {
              "fillmode": "overlay",
              "size": 10,
              "solidity": 0.2
             }
            },
            "type": "barpolar"
           }
          ],
          "carpet": [
           {
            "aaxis": {
             "endlinecolor": "#A2B1C6",
             "gridcolor": "#506784",
             "linecolor": "#506784",
             "minorgridcolor": "#506784",
             "startlinecolor": "#A2B1C6"
            },
            "baxis": {
             "endlinecolor": "#A2B1C6",
             "gridcolor": "#506784",
             "linecolor": "#506784",
             "minorgridcolor": "#506784",
             "startlinecolor": "#A2B1C6"
            },
            "type": "carpet"
           }
          ],
          "choropleth": [
           {
            "colorbar": {
             "outlinewidth": 0,
             "ticks": ""
            },
            "type": "choropleth"
           }
          ],
          "contour": [
           {
            "colorbar": {
             "outlinewidth": 0,
             "ticks": ""
            },
            "colorscale": [
             [
              0,
              "#0d0887"
             ],
             [
              0.1111111111111111,
              "#46039f"
             ],
             [
              0.2222222222222222,
              "#7201a8"
             ],
             [
              0.3333333333333333,
              "#9c179e"
             ],
             [
              0.4444444444444444,
              "#bd3786"
             ],
             [
              0.5555555555555556,
              "#d8576b"
             ],
             [
              0.6666666666666666,
              "#ed7953"
             ],
             [
              0.7777777777777778,
              "#fb9f3a"
             ],
             [
              0.8888888888888888,
              "#fdca26"
             ],
             [
              1,
              "#f0f921"
             ]
            ],
            "type": "contour"
           }
          ],
          "contourcarpet": [
           {
            "colorbar": {
             "outlinewidth": 0,
             "ticks": ""
            },
            "type": "contourcarpet"
           }
          ],
          "heatmap": [
           {
            "colorbar": {
             "outlinewidth": 0,
             "ticks": ""
            },
            "colorscale": [
             [
              0,
              "#0d0887"
             ],
             [
              0.1111111111111111,
              "#46039f"
             ],
             [
              0.2222222222222222,
              "#7201a8"
             ],
             [
              0.3333333333333333,
              "#9c179e"
             ],
             [
              0.4444444444444444,
              "#bd3786"
             ],
             [
              0.5555555555555556,
              "#d8576b"
             ],
             [
              0.6666666666666666,
              "#ed7953"
             ],
             [
              0.7777777777777778,
              "#fb9f3a"
             ],
             [
              0.8888888888888888,
              "#fdca26"
             ],
             [
              1,
              "#f0f921"
             ]
            ],
            "type": "heatmap"
           }
          ],
          "heatmapgl": [
           {
            "colorbar": {
             "outlinewidth": 0,
             "ticks": ""
            },
            "colorscale": [
             [
              0,
              "#0d0887"
             ],
             [
              0.1111111111111111,
              "#46039f"
             ],
             [
              0.2222222222222222,
              "#7201a8"
             ],
             [
              0.3333333333333333,
              "#9c179e"
             ],
             [
              0.4444444444444444,
              "#bd3786"
             ],
             [
              0.5555555555555556,
              "#d8576b"
             ],
             [
              0.6666666666666666,
              "#ed7953"
             ],
             [
              0.7777777777777778,
              "#fb9f3a"
             ],
             [
              0.8888888888888888,
              "#fdca26"
             ],
             [
              1,
              "#f0f921"
             ]
            ],
            "type": "heatmapgl"
           }
          ],
          "histogram": [
           {
            "marker": {
             "pattern": {
              "fillmode": "overlay",
              "size": 10,
              "solidity": 0.2
             }
            },
            "type": "histogram"
           }
          ],
          "histogram2d": [
           {
            "colorbar": {
             "outlinewidth": 0,
             "ticks": ""
            },
            "colorscale": [
             [
              0,
              "#0d0887"
             ],
             [
              0.1111111111111111,
              "#46039f"
             ],
             [
              0.2222222222222222,
              "#7201a8"
             ],
             [
              0.3333333333333333,
              "#9c179e"
             ],
             [
              0.4444444444444444,
              "#bd3786"
             ],
             [
              0.5555555555555556,
              "#d8576b"
             ],
             [
              0.6666666666666666,
              "#ed7953"
             ],
             [
              0.7777777777777778,
              "#fb9f3a"
             ],
             [
              0.8888888888888888,
              "#fdca26"
             ],
             [
              1,
              "#f0f921"
             ]
            ],
            "type": "histogram2d"
           }
          ],
          "histogram2dcontour": [
           {
            "colorbar": {
             "outlinewidth": 0,
             "ticks": ""
            },
            "colorscale": [
             [
              0,
              "#0d0887"
             ],
             [
              0.1111111111111111,
              "#46039f"
             ],
             [
              0.2222222222222222,
              "#7201a8"
             ],
             [
              0.3333333333333333,
              "#9c179e"
             ],
             [
              0.4444444444444444,
              "#bd3786"
             ],
             [
              0.5555555555555556,
              "#d8576b"
             ],
             [
              0.6666666666666666,
              "#ed7953"
             ],
             [
              0.7777777777777778,
              "#fb9f3a"
             ],
             [
              0.8888888888888888,
              "#fdca26"
             ],
             [
              1,
              "#f0f921"
             ]
            ],
            "type": "histogram2dcontour"
           }
          ],
          "mesh3d": [
           {
            "colorbar": {
             "outlinewidth": 0,
             "ticks": ""
            },
            "type": "mesh3d"
           }
          ],
          "parcoords": [
           {
            "line": {
             "colorbar": {
              "outlinewidth": 0,
              "ticks": ""
             }
            },
            "type": "parcoords"
           }
          ],
          "pie": [
           {
            "automargin": true,
            "type": "pie"
           }
          ],
          "scatter": [
           {
            "marker": {
             "line": {
              "color": "#283442"
             }
            },
            "type": "scatter"
           }
          ],
          "scatter3d": [
           {
            "line": {
             "colorbar": {
              "outlinewidth": 0,
              "ticks": ""
             }
            },
            "marker": {
             "colorbar": {
              "outlinewidth": 0,
              "ticks": ""
             }
            },
            "type": "scatter3d"
           }
          ],
          "scattercarpet": [
           {
            "marker": {
             "colorbar": {
              "outlinewidth": 0,
              "ticks": ""
             }
            },
            "type": "scattercarpet"
           }
          ],
          "scattergeo": [
           {
            "marker": {
             "colorbar": {
              "outlinewidth": 0,
              "ticks": ""
             }
            },
            "type": "scattergeo"
           }
          ],
          "scattergl": [
           {
            "marker": {
             "line": {
              "color": "#283442"
             }
            },
            "type": "scattergl"
           }
          ],
          "scattermapbox": [
           {
            "marker": {
             "colorbar": {
              "outlinewidth": 0,
              "ticks": ""
             }
            },
            "type": "scattermapbox"
           }
          ],
          "scatterpolar": [
           {
            "marker": {
             "colorbar": {
              "outlinewidth": 0,
              "ticks": ""
             }
            },
            "type": "scatterpolar"
           }
          ],
          "scatterpolargl": [
           {
            "marker": {
             "colorbar": {
              "outlinewidth": 0,
              "ticks": ""
             }
            },
            "type": "scatterpolargl"
           }
          ],
          "scatterternary": [
           {
            "marker": {
             "colorbar": {
              "outlinewidth": 0,
              "ticks": ""
             }
            },
            "type": "scatterternary"
           }
          ],
          "surface": [
           {
            "colorbar": {
             "outlinewidth": 0,
             "ticks": ""
            },
            "colorscale": [
             [
              0,
              "#0d0887"
             ],
             [
              0.1111111111111111,
              "#46039f"
             ],
             [
              0.2222222222222222,
              "#7201a8"
             ],
             [
              0.3333333333333333,
              "#9c179e"
             ],
             [
              0.4444444444444444,
              "#bd3786"
             ],
             [
              0.5555555555555556,
              "#d8576b"
             ],
             [
              0.6666666666666666,
              "#ed7953"
             ],
             [
              0.7777777777777778,
              "#fb9f3a"
             ],
             [
              0.8888888888888888,
              "#fdca26"
             ],
             [
              1,
              "#f0f921"
             ]
            ],
            "type": "surface"
           }
          ],
          "table": [
           {
            "cells": {
             "fill": {
              "color": "#506784"
             },
             "line": {
              "color": "rgb(17,17,17)"
             }
            },
            "header": {
             "fill": {
              "color": "#2a3f5f"
             },
             "line": {
              "color": "rgb(17,17,17)"
             }
            },
            "type": "table"
           }
          ]
         },
         "layout": {
          "annotationdefaults": {
           "arrowcolor": "#f2f5fa",
           "arrowhead": 0,
           "arrowwidth": 1
          },
          "autotypenumbers": "strict",
          "coloraxis": {
           "colorbar": {
            "outlinewidth": 0,
            "ticks": ""
           }
          },
          "colorscale": {
           "diverging": [
            [
             0,
             "#8e0152"
            ],
            [
             0.1,
             "#c51b7d"
            ],
            [
             0.2,
             "#de77ae"
            ],
            [
             0.3,
             "#f1b6da"
            ],
            [
             0.4,
             "#fde0ef"
            ],
            [
             0.5,
             "#f7f7f7"
            ],
            [
             0.6,
             "#e6f5d0"
            ],
            [
             0.7,
             "#b8e186"
            ],
            [
             0.8,
             "#7fbc41"
            ],
            [
             0.9,
             "#4d9221"
            ],
            [
             1,
             "#276419"
            ]
           ],
           "sequential": [
            [
             0,
             "#0d0887"
            ],
            [
             0.1111111111111111,
             "#46039f"
            ],
            [
             0.2222222222222222,
             "#7201a8"
            ],
            [
             0.3333333333333333,
             "#9c179e"
            ],
            [
             0.4444444444444444,
             "#bd3786"
            ],
            [
             0.5555555555555556,
             "#d8576b"
            ],
            [
             0.6666666666666666,
             "#ed7953"
            ],
            [
             0.7777777777777778,
             "#fb9f3a"
            ],
            [
             0.8888888888888888,
             "#fdca26"
            ],
            [
             1,
             "#f0f921"
            ]
           ],
           "sequentialminus": [
            [
             0,
             "#0d0887"
            ],
            [
             0.1111111111111111,
             "#46039f"
            ],
            [
             0.2222222222222222,
             "#7201a8"
            ],
            [
             0.3333333333333333,
             "#9c179e"
            ],
            [
             0.4444444444444444,
             "#bd3786"
            ],
            [
             0.5555555555555556,
             "#d8576b"
            ],
            [
             0.6666666666666666,
             "#ed7953"
            ],
            [
             0.7777777777777778,
             "#fb9f3a"
            ],
            [
             0.8888888888888888,
             "#fdca26"
            ],
            [
             1,
             "#f0f921"
            ]
           ]
          },
          "colorway": [
           "#636efa",
           "#EF553B",
           "#00cc96",
           "#ab63fa",
           "#FFA15A",
           "#19d3f3",
           "#FF6692",
           "#B6E880",
           "#FF97FF",
           "#FECB52"
          ],
          "font": {
           "color": "#f2f5fa"
          },
          "geo": {
           "bgcolor": "rgb(17,17,17)",
           "lakecolor": "rgb(17,17,17)",
           "landcolor": "rgb(17,17,17)",
           "showlakes": true,
           "showland": true,
           "subunitcolor": "#506784"
          },
          "hoverlabel": {
           "align": "left"
          },
          "hovermode": "closest",
          "mapbox": {
           "style": "dark"
          },
          "paper_bgcolor": "rgb(17,17,17)",
          "plot_bgcolor": "rgb(17,17,17)",
          "polar": {
           "angularaxis": {
            "gridcolor": "#506784",
            "linecolor": "#506784",
            "ticks": ""
           },
           "bgcolor": "rgb(17,17,17)",
           "radialaxis": {
            "gridcolor": "#506784",
            "linecolor": "#506784",
            "ticks": ""
           }
          },
          "scene": {
           "xaxis": {
            "backgroundcolor": "rgb(17,17,17)",
            "gridcolor": "#506784",
            "gridwidth": 2,
            "linecolor": "#506784",
            "showbackground": true,
            "ticks": "",
            "zerolinecolor": "#C8D4E3"
           },
           "yaxis": {
            "backgroundcolor": "rgb(17,17,17)",
            "gridcolor": "#506784",
            "gridwidth": 2,
            "linecolor": "#506784",
            "showbackground": true,
            "ticks": "",
            "zerolinecolor": "#C8D4E3"
           },
           "zaxis": {
            "backgroundcolor": "rgb(17,17,17)",
            "gridcolor": "#506784",
            "gridwidth": 2,
            "linecolor": "#506784",
            "showbackground": true,
            "ticks": "",
            "zerolinecolor": "#C8D4E3"
           }
          },
          "shapedefaults": {
           "line": {
            "color": "#f2f5fa"
           }
          },
          "sliderdefaults": {
           "bgcolor": "#C8D4E3",
           "bordercolor": "rgb(17,17,17)",
           "borderwidth": 1,
           "tickwidth": 0
          },
          "ternary": {
           "aaxis": {
            "gridcolor": "#506784",
            "linecolor": "#506784",
            "ticks": ""
           },
           "baxis": {
            "gridcolor": "#506784",
            "linecolor": "#506784",
            "ticks": ""
           },
           "bgcolor": "rgb(17,17,17)",
           "caxis": {
            "gridcolor": "#506784",
            "linecolor": "#506784",
            "ticks": ""
           }
          },
          "title": {
           "x": 0.05
          },
          "updatemenudefaults": {
           "bgcolor": "#506784",
           "borderwidth": 0
          },
          "xaxis": {
           "automargin": true,
           "gridcolor": "#283442",
           "linecolor": "#506784",
           "ticks": "",
           "title": {
            "standoff": 15
           },
           "zerolinecolor": "#283442",
           "zerolinewidth": 2
          },
          "yaxis": {
           "automargin": true,
           "gridcolor": "#283442",
           "linecolor": "#506784",
           "ticks": "",
           "title": {
            "standoff": 15
           },
           "zerolinecolor": "#283442",
           "zerolinewidth": 2
          }
         }
        },
        "width": 800,
        "xaxis": {
         "anchor": "y",
         "domain": [
          0,
          1
         ],
         "title": {
          "text": "emi_no"
         }
        },
        "yaxis": {
         "anchor": "x",
         "domain": [
          0,
          1
         ],
         "title": {
          "text": "value"
         }
        }
       }
      }
     },
     "metadata": {},
     "output_type": "display_data"
    }
   ],
   "source": [
    "import plotly.express as px\n",
    "fig = px.bar(dff.groupby('emi_no')['DPD_plus_3','DPD_plus_15_next'].sum(),text_auto=True,width=800, height=400,barmode = 'group')\n",
    "fig.update_traces(width=0.5)\n",
    "fig.show()"
   ]
  },
  {
   "cell_type": "code",
   "execution_count": 145,
   "metadata": {},
   "outputs": [
    {
     "data": {
      "application/vnd.plotly.v1+json": {
       "config": {
        "plotlyServerURL": "https://plot.ly"
       },
       "data": [
        {
         "alignmentgroup": "True",
         "hovertemplate": "variable=DPD_plus_15_next<br>pilot_flag=%{x}<br>value=%{y}<extra></extra>",
         "legendgroup": "DPD_plus_15_next",
         "marker": {
          "color": "#636efa",
          "pattern": {
           "shape": ""
          }
         },
         "name": "DPD_plus_15_next",
         "offsetgroup": "DPD_plus_15_next",
         "orientation": "v",
         "showlegend": true,
         "textposition": "auto",
         "texttemplate": "%{y}",
         "type": "bar",
         "width": 0.5,
         "x": [
          0,
          1
         ],
         "xaxis": "x",
         "y": [
          25,
          280
         ],
         "yaxis": "y"
        }
       ],
       "layout": {
        "barmode": "relative",
        "height": 400,
        "legend": {
         "title": {
          "text": "variable"
         },
         "tracegroupgap": 0
        },
        "margin": {
         "t": 60
        },
        "template": {
         "data": {
          "bar": [
           {
            "error_x": {
             "color": "#f2f5fa"
            },
            "error_y": {
             "color": "#f2f5fa"
            },
            "marker": {
             "line": {
              "color": "rgb(17,17,17)",
              "width": 0.5
             },
             "pattern": {
              "fillmode": "overlay",
              "size": 10,
              "solidity": 0.2
             }
            },
            "type": "bar"
           }
          ],
          "barpolar": [
           {
            "marker": {
             "line": {
              "color": "rgb(17,17,17)",
              "width": 0.5
             },
             "pattern": {
              "fillmode": "overlay",
              "size": 10,
              "solidity": 0.2
             }
            },
            "type": "barpolar"
           }
          ],
          "carpet": [
           {
            "aaxis": {
             "endlinecolor": "#A2B1C6",
             "gridcolor": "#506784",
             "linecolor": "#506784",
             "minorgridcolor": "#506784",
             "startlinecolor": "#A2B1C6"
            },
            "baxis": {
             "endlinecolor": "#A2B1C6",
             "gridcolor": "#506784",
             "linecolor": "#506784",
             "minorgridcolor": "#506784",
             "startlinecolor": "#A2B1C6"
            },
            "type": "carpet"
           }
          ],
          "choropleth": [
           {
            "colorbar": {
             "outlinewidth": 0,
             "ticks": ""
            },
            "type": "choropleth"
           }
          ],
          "contour": [
           {
            "colorbar": {
             "outlinewidth": 0,
             "ticks": ""
            },
            "colorscale": [
             [
              0,
              "#0d0887"
             ],
             [
              0.1111111111111111,
              "#46039f"
             ],
             [
              0.2222222222222222,
              "#7201a8"
             ],
             [
              0.3333333333333333,
              "#9c179e"
             ],
             [
              0.4444444444444444,
              "#bd3786"
             ],
             [
              0.5555555555555556,
              "#d8576b"
             ],
             [
              0.6666666666666666,
              "#ed7953"
             ],
             [
              0.7777777777777778,
              "#fb9f3a"
             ],
             [
              0.8888888888888888,
              "#fdca26"
             ],
             [
              1,
              "#f0f921"
             ]
            ],
            "type": "contour"
           }
          ],
          "contourcarpet": [
           {
            "colorbar": {
             "outlinewidth": 0,
             "ticks": ""
            },
            "type": "contourcarpet"
           }
          ],
          "heatmap": [
           {
            "colorbar": {
             "outlinewidth": 0,
             "ticks": ""
            },
            "colorscale": [
             [
              0,
              "#0d0887"
             ],
             [
              0.1111111111111111,
              "#46039f"
             ],
             [
              0.2222222222222222,
              "#7201a8"
             ],
             [
              0.3333333333333333,
              "#9c179e"
             ],
             [
              0.4444444444444444,
              "#bd3786"
             ],
             [
              0.5555555555555556,
              "#d8576b"
             ],
             [
              0.6666666666666666,
              "#ed7953"
             ],
             [
              0.7777777777777778,
              "#fb9f3a"
             ],
             [
              0.8888888888888888,
              "#fdca26"
             ],
             [
              1,
              "#f0f921"
             ]
            ],
            "type": "heatmap"
           }
          ],
          "heatmapgl": [
           {
            "colorbar": {
             "outlinewidth": 0,
             "ticks": ""
            },
            "colorscale": [
             [
              0,
              "#0d0887"
             ],
             [
              0.1111111111111111,
              "#46039f"
             ],
             [
              0.2222222222222222,
              "#7201a8"
             ],
             [
              0.3333333333333333,
              "#9c179e"
             ],
             [
              0.4444444444444444,
              "#bd3786"
             ],
             [
              0.5555555555555556,
              "#d8576b"
             ],
             [
              0.6666666666666666,
              "#ed7953"
             ],
             [
              0.7777777777777778,
              "#fb9f3a"
             ],
             [
              0.8888888888888888,
              "#fdca26"
             ],
             [
              1,
              "#f0f921"
             ]
            ],
            "type": "heatmapgl"
           }
          ],
          "histogram": [
           {
            "marker": {
             "pattern": {
              "fillmode": "overlay",
              "size": 10,
              "solidity": 0.2
             }
            },
            "type": "histogram"
           }
          ],
          "histogram2d": [
           {
            "colorbar": {
             "outlinewidth": 0,
             "ticks": ""
            },
            "colorscale": [
             [
              0,
              "#0d0887"
             ],
             [
              0.1111111111111111,
              "#46039f"
             ],
             [
              0.2222222222222222,
              "#7201a8"
             ],
             [
              0.3333333333333333,
              "#9c179e"
             ],
             [
              0.4444444444444444,
              "#bd3786"
             ],
             [
              0.5555555555555556,
              "#d8576b"
             ],
             [
              0.6666666666666666,
              "#ed7953"
             ],
             [
              0.7777777777777778,
              "#fb9f3a"
             ],
             [
              0.8888888888888888,
              "#fdca26"
             ],
             [
              1,
              "#f0f921"
             ]
            ],
            "type": "histogram2d"
           }
          ],
          "histogram2dcontour": [
           {
            "colorbar": {
             "outlinewidth": 0,
             "ticks": ""
            },
            "colorscale": [
             [
              0,
              "#0d0887"
             ],
             [
              0.1111111111111111,
              "#46039f"
             ],
             [
              0.2222222222222222,
              "#7201a8"
             ],
             [
              0.3333333333333333,
              "#9c179e"
             ],
             [
              0.4444444444444444,
              "#bd3786"
             ],
             [
              0.5555555555555556,
              "#d8576b"
             ],
             [
              0.6666666666666666,
              "#ed7953"
             ],
             [
              0.7777777777777778,
              "#fb9f3a"
             ],
             [
              0.8888888888888888,
              "#fdca26"
             ],
             [
              1,
              "#f0f921"
             ]
            ],
            "type": "histogram2dcontour"
           }
          ],
          "mesh3d": [
           {
            "colorbar": {
             "outlinewidth": 0,
             "ticks": ""
            },
            "type": "mesh3d"
           }
          ],
          "parcoords": [
           {
            "line": {
             "colorbar": {
              "outlinewidth": 0,
              "ticks": ""
             }
            },
            "type": "parcoords"
           }
          ],
          "pie": [
           {
            "automargin": true,
            "type": "pie"
           }
          ],
          "scatter": [
           {
            "marker": {
             "line": {
              "color": "#283442"
             }
            },
            "type": "scatter"
           }
          ],
          "scatter3d": [
           {
            "line": {
             "colorbar": {
              "outlinewidth": 0,
              "ticks": ""
             }
            },
            "marker": {
             "colorbar": {
              "outlinewidth": 0,
              "ticks": ""
             }
            },
            "type": "scatter3d"
           }
          ],
          "scattercarpet": [
           {
            "marker": {
             "colorbar": {
              "outlinewidth": 0,
              "ticks": ""
             }
            },
            "type": "scattercarpet"
           }
          ],
          "scattergeo": [
           {
            "marker": {
             "colorbar": {
              "outlinewidth": 0,
              "ticks": ""
             }
            },
            "type": "scattergeo"
           }
          ],
          "scattergl": [
           {
            "marker": {
             "line": {
              "color": "#283442"
             }
            },
            "type": "scattergl"
           }
          ],
          "scattermapbox": [
           {
            "marker": {
             "colorbar": {
              "outlinewidth": 0,
              "ticks": ""
             }
            },
            "type": "scattermapbox"
           }
          ],
          "scatterpolar": [
           {
            "marker": {
             "colorbar": {
              "outlinewidth": 0,
              "ticks": ""
             }
            },
            "type": "scatterpolar"
           }
          ],
          "scatterpolargl": [
           {
            "marker": {
             "colorbar": {
              "outlinewidth": 0,
              "ticks": ""
             }
            },
            "type": "scatterpolargl"
           }
          ],
          "scatterternary": [
           {
            "marker": {
             "colorbar": {
              "outlinewidth": 0,
              "ticks": ""
             }
            },
            "type": "scatterternary"
           }
          ],
          "surface": [
           {
            "colorbar": {
             "outlinewidth": 0,
             "ticks": ""
            },
            "colorscale": [
             [
              0,
              "#0d0887"
             ],
             [
              0.1111111111111111,
              "#46039f"
             ],
             [
              0.2222222222222222,
              "#7201a8"
             ],
             [
              0.3333333333333333,
              "#9c179e"
             ],
             [
              0.4444444444444444,
              "#bd3786"
             ],
             [
              0.5555555555555556,
              "#d8576b"
             ],
             [
              0.6666666666666666,
              "#ed7953"
             ],
             [
              0.7777777777777778,
              "#fb9f3a"
             ],
             [
              0.8888888888888888,
              "#fdca26"
             ],
             [
              1,
              "#f0f921"
             ]
            ],
            "type": "surface"
           }
          ],
          "table": [
           {
            "cells": {
             "fill": {
              "color": "#506784"
             },
             "line": {
              "color": "rgb(17,17,17)"
             }
            },
            "header": {
             "fill": {
              "color": "#2a3f5f"
             },
             "line": {
              "color": "rgb(17,17,17)"
             }
            },
            "type": "table"
           }
          ]
         },
         "layout": {
          "annotationdefaults": {
           "arrowcolor": "#f2f5fa",
           "arrowhead": 0,
           "arrowwidth": 1
          },
          "autotypenumbers": "strict",
          "coloraxis": {
           "colorbar": {
            "outlinewidth": 0,
            "ticks": ""
           }
          },
          "colorscale": {
           "diverging": [
            [
             0,
             "#8e0152"
            ],
            [
             0.1,
             "#c51b7d"
            ],
            [
             0.2,
             "#de77ae"
            ],
            [
             0.3,
             "#f1b6da"
            ],
            [
             0.4,
             "#fde0ef"
            ],
            [
             0.5,
             "#f7f7f7"
            ],
            [
             0.6,
             "#e6f5d0"
            ],
            [
             0.7,
             "#b8e186"
            ],
            [
             0.8,
             "#7fbc41"
            ],
            [
             0.9,
             "#4d9221"
            ],
            [
             1,
             "#276419"
            ]
           ],
           "sequential": [
            [
             0,
             "#0d0887"
            ],
            [
             0.1111111111111111,
             "#46039f"
            ],
            [
             0.2222222222222222,
             "#7201a8"
            ],
            [
             0.3333333333333333,
             "#9c179e"
            ],
            [
             0.4444444444444444,
             "#bd3786"
            ],
            [
             0.5555555555555556,
             "#d8576b"
            ],
            [
             0.6666666666666666,
             "#ed7953"
            ],
            [
             0.7777777777777778,
             "#fb9f3a"
            ],
            [
             0.8888888888888888,
             "#fdca26"
            ],
            [
             1,
             "#f0f921"
            ]
           ],
           "sequentialminus": [
            [
             0,
             "#0d0887"
            ],
            [
             0.1111111111111111,
             "#46039f"
            ],
            [
             0.2222222222222222,
             "#7201a8"
            ],
            [
             0.3333333333333333,
             "#9c179e"
            ],
            [
             0.4444444444444444,
             "#bd3786"
            ],
            [
             0.5555555555555556,
             "#d8576b"
            ],
            [
             0.6666666666666666,
             "#ed7953"
            ],
            [
             0.7777777777777778,
             "#fb9f3a"
            ],
            [
             0.8888888888888888,
             "#fdca26"
            ],
            [
             1,
             "#f0f921"
            ]
           ]
          },
          "colorway": [
           "#636efa",
           "#EF553B",
           "#00cc96",
           "#ab63fa",
           "#FFA15A",
           "#19d3f3",
           "#FF6692",
           "#B6E880",
           "#FF97FF",
           "#FECB52"
          ],
          "font": {
           "color": "#f2f5fa"
          },
          "geo": {
           "bgcolor": "rgb(17,17,17)",
           "lakecolor": "rgb(17,17,17)",
           "landcolor": "rgb(17,17,17)",
           "showlakes": true,
           "showland": true,
           "subunitcolor": "#506784"
          },
          "hoverlabel": {
           "align": "left"
          },
          "hovermode": "closest",
          "mapbox": {
           "style": "dark"
          },
          "paper_bgcolor": "rgb(17,17,17)",
          "plot_bgcolor": "rgb(17,17,17)",
          "polar": {
           "angularaxis": {
            "gridcolor": "#506784",
            "linecolor": "#506784",
            "ticks": ""
           },
           "bgcolor": "rgb(17,17,17)",
           "radialaxis": {
            "gridcolor": "#506784",
            "linecolor": "#506784",
            "ticks": ""
           }
          },
          "scene": {
           "xaxis": {
            "backgroundcolor": "rgb(17,17,17)",
            "gridcolor": "#506784",
            "gridwidth": 2,
            "linecolor": "#506784",
            "showbackground": true,
            "ticks": "",
            "zerolinecolor": "#C8D4E3"
           },
           "yaxis": {
            "backgroundcolor": "rgb(17,17,17)",
            "gridcolor": "#506784",
            "gridwidth": 2,
            "linecolor": "#506784",
            "showbackground": true,
            "ticks": "",
            "zerolinecolor": "#C8D4E3"
           },
           "zaxis": {
            "backgroundcolor": "rgb(17,17,17)",
            "gridcolor": "#506784",
            "gridwidth": 2,
            "linecolor": "#506784",
            "showbackground": true,
            "ticks": "",
            "zerolinecolor": "#C8D4E3"
           }
          },
          "shapedefaults": {
           "line": {
            "color": "#f2f5fa"
           }
          },
          "sliderdefaults": {
           "bgcolor": "#C8D4E3",
           "bordercolor": "rgb(17,17,17)",
           "borderwidth": 1,
           "tickwidth": 0
          },
          "ternary": {
           "aaxis": {
            "gridcolor": "#506784",
            "linecolor": "#506784",
            "ticks": ""
           },
           "baxis": {
            "gridcolor": "#506784",
            "linecolor": "#506784",
            "ticks": ""
           },
           "bgcolor": "rgb(17,17,17)",
           "caxis": {
            "gridcolor": "#506784",
            "linecolor": "#506784",
            "ticks": ""
           }
          },
          "title": {
           "x": 0.05
          },
          "updatemenudefaults": {
           "bgcolor": "#506784",
           "borderwidth": 0
          },
          "xaxis": {
           "automargin": true,
           "gridcolor": "#283442",
           "linecolor": "#506784",
           "ticks": "",
           "title": {
            "standoff": 15
           },
           "zerolinecolor": "#283442",
           "zerolinewidth": 2
          },
          "yaxis": {
           "automargin": true,
           "gridcolor": "#283442",
           "linecolor": "#506784",
           "ticks": "",
           "title": {
            "standoff": 15
           },
           "zerolinecolor": "#283442",
           "zerolinewidth": 2
          }
         }
        },
        "width": 800,
        "xaxis": {
         "anchor": "y",
         "domain": [
          0,
          1
         ],
         "title": {
          "text": "pilot_flag"
         }
        },
        "yaxis": {
         "anchor": "x",
         "domain": [
          0,
          1
         ],
         "title": {
          "text": "value"
         }
        }
       }
      }
     },
     "metadata": {},
     "output_type": "display_data"
    }
   ],
   "source": [
    "import plotly.express as px\n",
    "fig = px.bar(dff.groupby(['pilot_flag'])['DPD_plus_15_next'].sum(),text_auto=True,width=800, height=400)\n",
    "fig.update_traces(width=0.5)\n",
    "fig.show()"
   ]
  },
  {
   "cell_type": "code",
   "execution_count": 146,
   "metadata": {},
   "outputs": [
    {
     "data": {
      "application/vnd.plotly.v1+json": {
       "config": {
        "plotlyServerURL": "https://plot.ly"
       },
       "data": [
        {
         "alignmentgroup": "True",
         "hovertemplate": "variable=DPD_plus_15_next<br>DPD_plus_3=%{x}<br>value=%{y}<extra></extra>",
         "legendgroup": "DPD_plus_15_next",
         "marker": {
          "color": "#636efa",
          "pattern": {
           "shape": ""
          }
         },
         "name": "DPD_plus_15_next",
         "offsetgroup": "DPD_plus_15_next",
         "orientation": "v",
         "showlegend": true,
         "textposition": "auto",
         "texttemplate": "%{y}",
         "type": "bar",
         "width": 0.4,
         "x": [
          0,
          1
         ],
         "xaxis": "x",
         "y": [
          145,
          160
         ],
         "yaxis": "y"
        }
       ],
       "layout": {
        "barmode": "relative",
        "height": 400,
        "legend": {
         "title": {
          "text": "variable"
         },
         "tracegroupgap": 0
        },
        "margin": {
         "t": 60
        },
        "template": {
         "data": {
          "bar": [
           {
            "error_x": {
             "color": "#f2f5fa"
            },
            "error_y": {
             "color": "#f2f5fa"
            },
            "marker": {
             "line": {
              "color": "rgb(17,17,17)",
              "width": 0.5
             },
             "pattern": {
              "fillmode": "overlay",
              "size": 10,
              "solidity": 0.2
             }
            },
            "type": "bar"
           }
          ],
          "barpolar": [
           {
            "marker": {
             "line": {
              "color": "rgb(17,17,17)",
              "width": 0.5
             },
             "pattern": {
              "fillmode": "overlay",
              "size": 10,
              "solidity": 0.2
             }
            },
            "type": "barpolar"
           }
          ],
          "carpet": [
           {
            "aaxis": {
             "endlinecolor": "#A2B1C6",
             "gridcolor": "#506784",
             "linecolor": "#506784",
             "minorgridcolor": "#506784",
             "startlinecolor": "#A2B1C6"
            },
            "baxis": {
             "endlinecolor": "#A2B1C6",
             "gridcolor": "#506784",
             "linecolor": "#506784",
             "minorgridcolor": "#506784",
             "startlinecolor": "#A2B1C6"
            },
            "type": "carpet"
           }
          ],
          "choropleth": [
           {
            "colorbar": {
             "outlinewidth": 0,
             "ticks": ""
            },
            "type": "choropleth"
           }
          ],
          "contour": [
           {
            "colorbar": {
             "outlinewidth": 0,
             "ticks": ""
            },
            "colorscale": [
             [
              0,
              "#0d0887"
             ],
             [
              0.1111111111111111,
              "#46039f"
             ],
             [
              0.2222222222222222,
              "#7201a8"
             ],
             [
              0.3333333333333333,
              "#9c179e"
             ],
             [
              0.4444444444444444,
              "#bd3786"
             ],
             [
              0.5555555555555556,
              "#d8576b"
             ],
             [
              0.6666666666666666,
              "#ed7953"
             ],
             [
              0.7777777777777778,
              "#fb9f3a"
             ],
             [
              0.8888888888888888,
              "#fdca26"
             ],
             [
              1,
              "#f0f921"
             ]
            ],
            "type": "contour"
           }
          ],
          "contourcarpet": [
           {
            "colorbar": {
             "outlinewidth": 0,
             "ticks": ""
            },
            "type": "contourcarpet"
           }
          ],
          "heatmap": [
           {
            "colorbar": {
             "outlinewidth": 0,
             "ticks": ""
            },
            "colorscale": [
             [
              0,
              "#0d0887"
             ],
             [
              0.1111111111111111,
              "#46039f"
             ],
             [
              0.2222222222222222,
              "#7201a8"
             ],
             [
              0.3333333333333333,
              "#9c179e"
             ],
             [
              0.4444444444444444,
              "#bd3786"
             ],
             [
              0.5555555555555556,
              "#d8576b"
             ],
             [
              0.6666666666666666,
              "#ed7953"
             ],
             [
              0.7777777777777778,
              "#fb9f3a"
             ],
             [
              0.8888888888888888,
              "#fdca26"
             ],
             [
              1,
              "#f0f921"
             ]
            ],
            "type": "heatmap"
           }
          ],
          "heatmapgl": [
           {
            "colorbar": {
             "outlinewidth": 0,
             "ticks": ""
            },
            "colorscale": [
             [
              0,
              "#0d0887"
             ],
             [
              0.1111111111111111,
              "#46039f"
             ],
             [
              0.2222222222222222,
              "#7201a8"
             ],
             [
              0.3333333333333333,
              "#9c179e"
             ],
             [
              0.4444444444444444,
              "#bd3786"
             ],
             [
              0.5555555555555556,
              "#d8576b"
             ],
             [
              0.6666666666666666,
              "#ed7953"
             ],
             [
              0.7777777777777778,
              "#fb9f3a"
             ],
             [
              0.8888888888888888,
              "#fdca26"
             ],
             [
              1,
              "#f0f921"
             ]
            ],
            "type": "heatmapgl"
           }
          ],
          "histogram": [
           {
            "marker": {
             "pattern": {
              "fillmode": "overlay",
              "size": 10,
              "solidity": 0.2
             }
            },
            "type": "histogram"
           }
          ],
          "histogram2d": [
           {
            "colorbar": {
             "outlinewidth": 0,
             "ticks": ""
            },
            "colorscale": [
             [
              0,
              "#0d0887"
             ],
             [
              0.1111111111111111,
              "#46039f"
             ],
             [
              0.2222222222222222,
              "#7201a8"
             ],
             [
              0.3333333333333333,
              "#9c179e"
             ],
             [
              0.4444444444444444,
              "#bd3786"
             ],
             [
              0.5555555555555556,
              "#d8576b"
             ],
             [
              0.6666666666666666,
              "#ed7953"
             ],
             [
              0.7777777777777778,
              "#fb9f3a"
             ],
             [
              0.8888888888888888,
              "#fdca26"
             ],
             [
              1,
              "#f0f921"
             ]
            ],
            "type": "histogram2d"
           }
          ],
          "histogram2dcontour": [
           {
            "colorbar": {
             "outlinewidth": 0,
             "ticks": ""
            },
            "colorscale": [
             [
              0,
              "#0d0887"
             ],
             [
              0.1111111111111111,
              "#46039f"
             ],
             [
              0.2222222222222222,
              "#7201a8"
             ],
             [
              0.3333333333333333,
              "#9c179e"
             ],
             [
              0.4444444444444444,
              "#bd3786"
             ],
             [
              0.5555555555555556,
              "#d8576b"
             ],
             [
              0.6666666666666666,
              "#ed7953"
             ],
             [
              0.7777777777777778,
              "#fb9f3a"
             ],
             [
              0.8888888888888888,
              "#fdca26"
             ],
             [
              1,
              "#f0f921"
             ]
            ],
            "type": "histogram2dcontour"
           }
          ],
          "mesh3d": [
           {
            "colorbar": {
             "outlinewidth": 0,
             "ticks": ""
            },
            "type": "mesh3d"
           }
          ],
          "parcoords": [
           {
            "line": {
             "colorbar": {
              "outlinewidth": 0,
              "ticks": ""
             }
            },
            "type": "parcoords"
           }
          ],
          "pie": [
           {
            "automargin": true,
            "type": "pie"
           }
          ],
          "scatter": [
           {
            "marker": {
             "line": {
              "color": "#283442"
             }
            },
            "type": "scatter"
           }
          ],
          "scatter3d": [
           {
            "line": {
             "colorbar": {
              "outlinewidth": 0,
              "ticks": ""
             }
            },
            "marker": {
             "colorbar": {
              "outlinewidth": 0,
              "ticks": ""
             }
            },
            "type": "scatter3d"
           }
          ],
          "scattercarpet": [
           {
            "marker": {
             "colorbar": {
              "outlinewidth": 0,
              "ticks": ""
             }
            },
            "type": "scattercarpet"
           }
          ],
          "scattergeo": [
           {
            "marker": {
             "colorbar": {
              "outlinewidth": 0,
              "ticks": ""
             }
            },
            "type": "scattergeo"
           }
          ],
          "scattergl": [
           {
            "marker": {
             "line": {
              "color": "#283442"
             }
            },
            "type": "scattergl"
           }
          ],
          "scattermapbox": [
           {
            "marker": {
             "colorbar": {
              "outlinewidth": 0,
              "ticks": ""
             }
            },
            "type": "scattermapbox"
           }
          ],
          "scatterpolar": [
           {
            "marker": {
             "colorbar": {
              "outlinewidth": 0,
              "ticks": ""
             }
            },
            "type": "scatterpolar"
           }
          ],
          "scatterpolargl": [
           {
            "marker": {
             "colorbar": {
              "outlinewidth": 0,
              "ticks": ""
             }
            },
            "type": "scatterpolargl"
           }
          ],
          "scatterternary": [
           {
            "marker": {
             "colorbar": {
              "outlinewidth": 0,
              "ticks": ""
             }
            },
            "type": "scatterternary"
           }
          ],
          "surface": [
           {
            "colorbar": {
             "outlinewidth": 0,
             "ticks": ""
            },
            "colorscale": [
             [
              0,
              "#0d0887"
             ],
             [
              0.1111111111111111,
              "#46039f"
             ],
             [
              0.2222222222222222,
              "#7201a8"
             ],
             [
              0.3333333333333333,
              "#9c179e"
             ],
             [
              0.4444444444444444,
              "#bd3786"
             ],
             [
              0.5555555555555556,
              "#d8576b"
             ],
             [
              0.6666666666666666,
              "#ed7953"
             ],
             [
              0.7777777777777778,
              "#fb9f3a"
             ],
             [
              0.8888888888888888,
              "#fdca26"
             ],
             [
              1,
              "#f0f921"
             ]
            ],
            "type": "surface"
           }
          ],
          "table": [
           {
            "cells": {
             "fill": {
              "color": "#506784"
             },
             "line": {
              "color": "rgb(17,17,17)"
             }
            },
            "header": {
             "fill": {
              "color": "#2a3f5f"
             },
             "line": {
              "color": "rgb(17,17,17)"
             }
            },
            "type": "table"
           }
          ]
         },
         "layout": {
          "annotationdefaults": {
           "arrowcolor": "#f2f5fa",
           "arrowhead": 0,
           "arrowwidth": 1
          },
          "autotypenumbers": "strict",
          "coloraxis": {
           "colorbar": {
            "outlinewidth": 0,
            "ticks": ""
           }
          },
          "colorscale": {
           "diverging": [
            [
             0,
             "#8e0152"
            ],
            [
             0.1,
             "#c51b7d"
            ],
            [
             0.2,
             "#de77ae"
            ],
            [
             0.3,
             "#f1b6da"
            ],
            [
             0.4,
             "#fde0ef"
            ],
            [
             0.5,
             "#f7f7f7"
            ],
            [
             0.6,
             "#e6f5d0"
            ],
            [
             0.7,
             "#b8e186"
            ],
            [
             0.8,
             "#7fbc41"
            ],
            [
             0.9,
             "#4d9221"
            ],
            [
             1,
             "#276419"
            ]
           ],
           "sequential": [
            [
             0,
             "#0d0887"
            ],
            [
             0.1111111111111111,
             "#46039f"
            ],
            [
             0.2222222222222222,
             "#7201a8"
            ],
            [
             0.3333333333333333,
             "#9c179e"
            ],
            [
             0.4444444444444444,
             "#bd3786"
            ],
            [
             0.5555555555555556,
             "#d8576b"
            ],
            [
             0.6666666666666666,
             "#ed7953"
            ],
            [
             0.7777777777777778,
             "#fb9f3a"
            ],
            [
             0.8888888888888888,
             "#fdca26"
            ],
            [
             1,
             "#f0f921"
            ]
           ],
           "sequentialminus": [
            [
             0,
             "#0d0887"
            ],
            [
             0.1111111111111111,
             "#46039f"
            ],
            [
             0.2222222222222222,
             "#7201a8"
            ],
            [
             0.3333333333333333,
             "#9c179e"
            ],
            [
             0.4444444444444444,
             "#bd3786"
            ],
            [
             0.5555555555555556,
             "#d8576b"
            ],
            [
             0.6666666666666666,
             "#ed7953"
            ],
            [
             0.7777777777777778,
             "#fb9f3a"
            ],
            [
             0.8888888888888888,
             "#fdca26"
            ],
            [
             1,
             "#f0f921"
            ]
           ]
          },
          "colorway": [
           "#636efa",
           "#EF553B",
           "#00cc96",
           "#ab63fa",
           "#FFA15A",
           "#19d3f3",
           "#FF6692",
           "#B6E880",
           "#FF97FF",
           "#FECB52"
          ],
          "font": {
           "color": "#f2f5fa"
          },
          "geo": {
           "bgcolor": "rgb(17,17,17)",
           "lakecolor": "rgb(17,17,17)",
           "landcolor": "rgb(17,17,17)",
           "showlakes": true,
           "showland": true,
           "subunitcolor": "#506784"
          },
          "hoverlabel": {
           "align": "left"
          },
          "hovermode": "closest",
          "mapbox": {
           "style": "dark"
          },
          "paper_bgcolor": "rgb(17,17,17)",
          "plot_bgcolor": "rgb(17,17,17)",
          "polar": {
           "angularaxis": {
            "gridcolor": "#506784",
            "linecolor": "#506784",
            "ticks": ""
           },
           "bgcolor": "rgb(17,17,17)",
           "radialaxis": {
            "gridcolor": "#506784",
            "linecolor": "#506784",
            "ticks": ""
           }
          },
          "scene": {
           "xaxis": {
            "backgroundcolor": "rgb(17,17,17)",
            "gridcolor": "#506784",
            "gridwidth": 2,
            "linecolor": "#506784",
            "showbackground": true,
            "ticks": "",
            "zerolinecolor": "#C8D4E3"
           },
           "yaxis": {
            "backgroundcolor": "rgb(17,17,17)",
            "gridcolor": "#506784",
            "gridwidth": 2,
            "linecolor": "#506784",
            "showbackground": true,
            "ticks": "",
            "zerolinecolor": "#C8D4E3"
           },
           "zaxis": {
            "backgroundcolor": "rgb(17,17,17)",
            "gridcolor": "#506784",
            "gridwidth": 2,
            "linecolor": "#506784",
            "showbackground": true,
            "ticks": "",
            "zerolinecolor": "#C8D4E3"
           }
          },
          "shapedefaults": {
           "line": {
            "color": "#f2f5fa"
           }
          },
          "sliderdefaults": {
           "bgcolor": "#C8D4E3",
           "bordercolor": "rgb(17,17,17)",
           "borderwidth": 1,
           "tickwidth": 0
          },
          "ternary": {
           "aaxis": {
            "gridcolor": "#506784",
            "linecolor": "#506784",
            "ticks": ""
           },
           "baxis": {
            "gridcolor": "#506784",
            "linecolor": "#506784",
            "ticks": ""
           },
           "bgcolor": "rgb(17,17,17)",
           "caxis": {
            "gridcolor": "#506784",
            "linecolor": "#506784",
            "ticks": ""
           }
          },
          "title": {
           "x": 0.05
          },
          "updatemenudefaults": {
           "bgcolor": "#506784",
           "borderwidth": 0
          },
          "xaxis": {
           "automargin": true,
           "gridcolor": "#283442",
           "linecolor": "#506784",
           "ticks": "",
           "title": {
            "standoff": 15
           },
           "zerolinecolor": "#283442",
           "zerolinewidth": 2
          },
          "yaxis": {
           "automargin": true,
           "gridcolor": "#283442",
           "linecolor": "#506784",
           "ticks": "",
           "title": {
            "standoff": 15
           },
           "zerolinecolor": "#283442",
           "zerolinewidth": 2
          }
         }
        },
        "width": 800,
        "xaxis": {
         "anchor": "y",
         "domain": [
          0,
          1
         ],
         "title": {
          "text": "DPD_plus_3"
         }
        },
        "yaxis": {
         "anchor": "x",
         "domain": [
          0,
          1
         ],
         "title": {
          "text": "value"
         }
        }
       }
      }
     },
     "metadata": {},
     "output_type": "display_data"
    }
   ],
   "source": [
    "import plotly.express as px\n",
    "fig = px.bar(dff.groupby(['DPD_plus_3'])['DPD_plus_15_next'].sum(),text_auto=True,width=800, height=400)\n",
    "fig.update_traces(width=0.4)\n",
    "fig.show()"
   ]
  },
  {
   "cell_type": "code",
   "execution_count": 160,
   "metadata": {},
   "outputs": [],
   "source": [
    "ddf = querySno(r\"\"\"\n",
    "select json_extract_path_text(predict_meta, 'business_id') as business_id, json_extract_path_text(predict_meta, 'default_bin') as rs2_bin , novo_risk_score , fico_score\n",
    "from FIVETRAN_DB.PROD_NOVO_API_PUBLIC.LENDING_DECISION_RESULTS a \n",
    "left join  \"FIVETRAN_DB\".\"PROD_NOVO_API_PUBLIC\".\"CUSTOMER_CREDIT_PROFILES\" b \n",
    "on a.lending_business_id = b.lending_business_id\n",
    "\"\"\")\n",
    "\n"
   ]
  },
  {
   "cell_type": "code",
   "execution_count": 162,
   "metadata": {},
   "outputs": [],
   "source": [
    "ldf = querySno(r\"\"\" \n",
    "select business_id, rs2_bin, rs2_score from PROD_DB.ADHOC.LENDING_PRESCREEN_2_DEC_26TH\n",
    "where business_id in {}\n",
    "\"\"\".format(tuple(dff.loc[dff['rs2_bin'].isnull(),'business_id']))\n",
    ")"
   ]
  },
  {
   "cell_type": "code",
   "execution_count": 148,
   "metadata": {},
   "outputs": [
    {
     "data": {
      "text/html": [
       "<div>\n",
       "<style scoped>\n",
       "    .dataframe tbody tr th:only-of-type {\n",
       "        vertical-align: middle;\n",
       "    }\n",
       "\n",
       "    .dataframe tbody tr th {\n",
       "        vertical-align: top;\n",
       "    }\n",
       "\n",
       "    .dataframe thead th {\n",
       "        text-align: right;\n",
       "    }\n",
       "</style>\n",
       "<table border=\"1\" class=\"dataframe\">\n",
       "  <thead>\n",
       "    <tr style=\"text-align: right;\">\n",
       "      <th></th>\n",
       "      <th>business_id</th>\n",
       "      <th>rs2_bin</th>\n",
       "      <th>novo_risk_score</th>\n",
       "      <th>fico_score</th>\n",
       "    </tr>\n",
       "  </thead>\n",
       "  <tbody>\n",
       "    <tr>\n",
       "      <th>0</th>\n",
       "      <td>0a057d72-be21-4693-a225-9a9e8a683f23</td>\n",
       "      <td>4</td>\n",
       "      <td>880.0</td>\n",
       "      <td>695</td>\n",
       "    </tr>\n",
       "    <tr>\n",
       "      <th>1</th>\n",
       "      <td>bf8ec046-4e61-4acc-bdf1-992c752d50d3</td>\n",
       "      <td>4</td>\n",
       "      <td>663.0</td>\n",
       "      <td>681</td>\n",
       "    </tr>\n",
       "    <tr>\n",
       "      <th>2</th>\n",
       "      <td>a859e36b-2352-46f3-b7d3-ccb3bcfba2e1</td>\n",
       "      <td>3</td>\n",
       "      <td>477.0</td>\n",
       "      <td>630</td>\n",
       "    </tr>\n",
       "    <tr>\n",
       "      <th>3</th>\n",
       "      <td>b14635e3-50b9-489f-8971-70f0968369b0</td>\n",
       "      <td>1</td>\n",
       "      <td>249.0</td>\n",
       "      <td>563</td>\n",
       "    </tr>\n",
       "    <tr>\n",
       "      <th>4</th>\n",
       "      <td>f934cd75-6f22-459a-91b5-01d1bf0f133d</td>\n",
       "      <td>3</td>\n",
       "      <td>565.0</td>\n",
       "      <td>710</td>\n",
       "    </tr>\n",
       "  </tbody>\n",
       "</table>\n",
       "</div>"
      ],
      "text/plain": [
       "                            business_id rs2_bin  novo_risk_score fico_score\n",
       "0  0a057d72-be21-4693-a225-9a9e8a683f23       4            880.0        695\n",
       "1  bf8ec046-4e61-4acc-bdf1-992c752d50d3       4            663.0        681\n",
       "2  a859e36b-2352-46f3-b7d3-ccb3bcfba2e1       3            477.0        630\n",
       "3  b14635e3-50b9-489f-8971-70f0968369b0       1            249.0        563\n",
       "4  f934cd75-6f22-459a-91b5-01d1bf0f133d       3            565.0        710"
      ]
     },
     "execution_count": 148,
     "metadata": {},
     "output_type": "execute_result"
    }
   ],
   "source": [
    "ddf.head()"
   ]
  },
  {
   "cell_type": "code",
   "execution_count": 164,
   "metadata": {},
   "outputs": [
    {
     "data": {
      "text/html": [
       "<div>\n",
       "<style scoped>\n",
       "    .dataframe tbody tr th:only-of-type {\n",
       "        vertical-align: middle;\n",
       "    }\n",
       "\n",
       "    .dataframe tbody tr th {\n",
       "        vertical-align: top;\n",
       "    }\n",
       "\n",
       "    .dataframe thead th {\n",
       "        text-align: right;\n",
       "    }\n",
       "</style>\n",
       "<table border=\"1\" class=\"dataframe\">\n",
       "  <thead>\n",
       "    <tr style=\"text-align: right;\">\n",
       "      <th></th>\n",
       "      <th>business_id</th>\n",
       "      <th>rs2_bin</th>\n",
       "      <th>rs2_score</th>\n",
       "    </tr>\n",
       "  </thead>\n",
       "  <tbody>\n",
       "    <tr>\n",
       "      <th>0</th>\n",
       "      <td>679b7377-3974-4f0e-ac0f-4e0689417869</td>\n",
       "      <td>1</td>\n",
       "      <td>172.861789</td>\n",
       "    </tr>\n",
       "    <tr>\n",
       "      <th>1</th>\n",
       "      <td>acaaf2ad-b1d6-4164-90d1-5a968b89d2c8</td>\n",
       "      <td>1</td>\n",
       "      <td>21.642299</td>\n",
       "    </tr>\n",
       "    <tr>\n",
       "      <th>2</th>\n",
       "      <td>aaca717a-bb9d-4525-b5b5-dde64d021e91</td>\n",
       "      <td>5</td>\n",
       "      <td>748.948392</td>\n",
       "    </tr>\n",
       "    <tr>\n",
       "      <th>3</th>\n",
       "      <td>cae8cd40-3dc7-4754-bf58-331c0883c233</td>\n",
       "      <td>5</td>\n",
       "      <td>743.454921</td>\n",
       "    </tr>\n",
       "    <tr>\n",
       "      <th>4</th>\n",
       "      <td>28a85bc0-c5b7-461a-ae97-6336d9d2b814</td>\n",
       "      <td>1</td>\n",
       "      <td>17.929687</td>\n",
       "    </tr>\n",
       "  </tbody>\n",
       "</table>\n",
       "</div>"
      ],
      "text/plain": [
       "                            business_id  rs2_bin   rs2_score\n",
       "0  679b7377-3974-4f0e-ac0f-4e0689417869        1  172.861789\n",
       "1  acaaf2ad-b1d6-4164-90d1-5a968b89d2c8        1   21.642299\n",
       "2  aaca717a-bb9d-4525-b5b5-dde64d021e91        5  748.948392\n",
       "3  cae8cd40-3dc7-4754-bf58-331c0883c233        5  743.454921\n",
       "4  28a85bc0-c5b7-461a-ae97-6336d9d2b814        1   17.929687"
      ]
     },
     "execution_count": 164,
     "metadata": {},
     "output_type": "execute_result"
    }
   ],
   "source": [
    "ldf.head()"
   ]
  },
  {
   "cell_type": "code",
   "execution_count": 166,
   "metadata": {},
   "outputs": [
    {
     "name": "stdout",
     "output_type": "stream",
     "text": [
      "(7307, 4)\n",
      "(245, 3)\n"
     ]
    }
   ],
   "source": [
    "print(ddf.shape)\n",
    "print(ldf.shape)"
   ]
  },
  {
   "cell_type": "code",
   "execution_count": 165,
   "metadata": {},
   "outputs": [],
   "source": [
    "ddf = ddf.drop_duplicates(subset=['business_id'])\n",
    "ldf = ldf.drop_duplicates(subset=['business_id'])"
   ]
  },
  {
   "cell_type": "code",
   "execution_count": 151,
   "metadata": {},
   "outputs": [],
   "source": [
    "dff = dff.merge(ddf, how='left', left_on='business_id', right_on = 'business_id')\n",
    "temp = dff.merge(ldf, how='left', left_on='business_id', right_on = 'business_id')"
   ]
  },
  {
   "cell_type": "code",
   "execution_count": 186,
   "metadata": {},
   "outputs": [],
   "source": [
    "temp[['rs2_bin_x','rs2_bin_y','novo_risk_score','rs2_score']] = temp[['rs2_bin_x','rs2_bin_y','novo_risk_score','rs2_score']].astype(float).fillna(0)"
   ]
  },
  {
   "cell_type": "code",
   "execution_count": 187,
   "metadata": {},
   "outputs": [],
   "source": [
    "temp['rs2_bin'] = temp['rs2_bin_x'] + temp['rs2_bin_y']\n",
    "temp['rs2_score_c'] = temp['novo_risk_score'] + temp['rs2_score']\n",
    "temp.drop(['rs2_bin_x','novo_risk_score','rs2_bin_y','rs2_score'],axis=1,inplace=True)\n",
    "dff = temp.rename({'rs2_score_c': 'rs2_score'}, axis=1) "
   ]
  },
  {
   "cell_type": "code",
   "execution_count": 193,
   "metadata": {},
   "outputs": [
    {
     "data": {
      "text/html": [
       "<div>\n",
       "<style scoped>\n",
       "    .dataframe tbody tr th:only-of-type {\n",
       "        vertical-align: middle;\n",
       "    }\n",
       "\n",
       "    .dataframe tbody tr th {\n",
       "        vertical-align: top;\n",
       "    }\n",
       "\n",
       "    .dataframe thead th {\n",
       "        text-align: right;\n",
       "    }\n",
       "</style>\n",
       "<table border=\"1\" class=\"dataframe\">\n",
       "  <thead>\n",
       "    <tr style=\"text-align: right;\">\n",
       "      <th></th>\n",
       "      <th>business_id</th>\n",
       "      <th>due_date</th>\n",
       "      <th>DPD_plus_15_next</th>\n",
       "      <th>DPD_plus_3_last_2</th>\n",
       "      <th>DPD_plus_15_prev</th>\n",
       "      <th>emi_no</th>\n",
       "      <th>DPD_plus_3</th>\n",
       "      <th>count_pd_deposit_1m</th>\n",
       "      <th>count_ach_debit_1m</th>\n",
       "      <th>count_ach_credit_1m</th>\n",
       "      <th>count_card_withdrawal_1m</th>\n",
       "      <th>count_mrdc_credit_1m</th>\n",
       "      <th>count_pd_deposit_2m</th>\n",
       "      <th>count_ach_debit_2m</th>\n",
       "      <th>count_ach_credit_2m</th>\n",
       "      <th>count_card_withdrawal_2m</th>\n",
       "      <th>count_mrdc_credit_2m</th>\n",
       "      <th>amount_pd_deposit_1m</th>\n",
       "      <th>amount_ach_debit_1m</th>\n",
       "      <th>amount_ach_credit_1m</th>\n",
       "      <th>amount_card_withdrawal_1m</th>\n",
       "      <th>amount_mrdc_credit_1m</th>\n",
       "      <th>amount_pd_deposit_2m</th>\n",
       "      <th>amount_ach_debit_2m</th>\n",
       "      <th>amount_ach_credit_2m</th>\n",
       "      <th>amount_card_withdrawal_2m</th>\n",
       "      <th>amount_mrdc_credit_2m</th>\n",
       "      <th>pd_deposit_size_1m</th>\n",
       "      <th>ach_debit_size_1m</th>\n",
       "      <th>ach_credit_size_1m</th>\n",
       "      <th>card_withdrawal_size_1m</th>\n",
       "      <th>mrdc_credit_size_1m</th>\n",
       "      <th>pd_deposit_size_2m</th>\n",
       "      <th>ach_debit_size_2m</th>\n",
       "      <th>ach_credit_size_2m</th>\n",
       "      <th>card_withdrawal_size_2m</th>\n",
       "      <th>mrdc_credit_size_2m</th>\n",
       "      <th>amount_credited_1m</th>\n",
       "      <th>distinct_credit_txns_1m</th>\n",
       "      <th>credit_size_1m</th>\n",
       "      <th>median_amount_credited_1m</th>\n",
       "      <th>stddev_amount_credited_1m</th>\n",
       "      <th>amount_credited_2m</th>\n",
       "      <th>distinct_credit_txns_2m</th>\n",
       "      <th>credit_size_2m</th>\n",
       "      <th>median_amount_credited_2m</th>\n",
       "      <th>stddev_amount_credited_2m</th>\n",
       "      <th>amount_debited_1m</th>\n",
       "      <th>distinct_debit_txns_1m</th>\n",
       "      <th>debit_size_1m</th>\n",
       "      <th>median_amount_debited_1m</th>\n",
       "      <th>stddev_amount_debited_1m</th>\n",
       "      <th>amount_debited_2m</th>\n",
       "      <th>distinct_debit_txns_2m</th>\n",
       "      <th>debit_size_2m</th>\n",
       "      <th>median_amount_debited_2m</th>\n",
       "      <th>stddev_amount_debited_2m</th>\n",
       "      <th>ratio_debit_credit_1m</th>\n",
       "      <th>ratio_debit_credit_frequency_1m</th>\n",
       "      <th>ratio_debit_credit_2m</th>\n",
       "      <th>ratio_debit_credit_frequency_2m</th>\n",
       "      <th>ratio_pd_amt_total_credit_1m</th>\n",
       "      <th>ratio_ach_debit_total_debit_1m</th>\n",
       "      <th>ratio_ach_credit_total_credit_1m</th>\n",
       "      <th>ratio_card_withdrawal_total_debit_1m</th>\n",
       "      <th>ratio_mrdc_credit_total_credit_1m</th>\n",
       "      <th>ratio_pd_amt_total_credit_2m</th>\n",
       "      <th>ratio_ach_debit_total_debit_2m</th>\n",
       "      <th>ratio_ach_credit_total_credit_2m</th>\n",
       "      <th>ratio_card_withdrawal_total_debit_2m</th>\n",
       "      <th>ratio_mrdc_credit_total_credit_2m</th>\n",
       "      <th>ratio_pd_freq_total_credit_1m</th>\n",
       "      <th>ratio_ach_debit_freq_total_debit_1m</th>\n",
       "      <th>ratio_ach_credit_freq_total_credit_1m</th>\n",
       "      <th>ratio_card_withdrawal_freq_total_debit_1m</th>\n",
       "      <th>ratio_mrdc_credit_freq_total_credit_1m</th>\n",
       "      <th>ratio_pd_freq_total_credit_2m</th>\n",
       "      <th>ratio_ach_debit_freq_total_debit_2m</th>\n",
       "      <th>ratio_ach_credit_freq_total_credit_2m</th>\n",
       "      <th>ratio_card_withdrawal_freq_total_debit_2m</th>\n",
       "      <th>ratio_mrdc_credit_freq_total_credit_2m</th>\n",
       "      <th>ratio_ach_debit_credit_1m</th>\n",
       "      <th>ratio_ach_debit_credit_2m</th>\n",
       "      <th>ratio_ach_debit_credit_freq_1m</th>\n",
       "      <th>ratio_ach_debit_credit_freq_2m</th>\n",
       "      <th>ach_d_size_1m</th>\n",
       "      <th>ach_d_size_2m</th>\n",
       "      <th>ach_c_size_1m</th>\n",
       "      <th>ach_c_size_2m</th>\n",
       "      <th>od_count_1m</th>\n",
       "      <th>zero_balance_count_1m</th>\n",
       "      <th>avg_running_balance_1m</th>\n",
       "      <th>median_running_balance_1m</th>\n",
       "      <th>stddev_running_balance_1m</th>\n",
       "      <th>od_count_2m</th>\n",
       "      <th>zero_balance_count_2m</th>\n",
       "      <th>avg_running_balance_2m</th>\n",
       "      <th>median_running_balance_2m</th>\n",
       "      <th>stddev_running_balance_2m</th>\n",
       "      <th>avg_running_balance_2nd_m</th>\n",
       "      <th>median_running_balance_2nd_m</th>\n",
       "      <th>stddev_running_balance_2nd_m</th>\n",
       "      <th>ratio_avg_running_balance_1m_2m</th>\n",
       "      <th>revenue_past_1m</th>\n",
       "      <th>revenue_past_2m</th>\n",
       "      <th>total_revenue_2m</th>\n",
       "      <th>ratio_revenue_1m_2m</th>\n",
       "      <th>credit_limit</th>\n",
       "      <th>amount_drawn_1m_prev</th>\n",
       "      <th>amount_drawn_2m_prev</th>\n",
       "      <th>amount_cashin_1m_prev</th>\n",
       "      <th>amount_cashin_2m_prev</th>\n",
       "      <th>distinct_draws_1m_prev</th>\n",
       "      <th>distinct_draws_2m_prev</th>\n",
       "      <th>distinct_cashins_1m_prev</th>\n",
       "      <th>distinct_cashins_2m_prev</th>\n",
       "      <th>ratio_amt_drawn_mom</th>\n",
       "      <th>ratio_amt_cashin_mom</th>\n",
       "      <th>ratio_count_drawn_mom</th>\n",
       "      <th>ratio_count_cashin_mom</th>\n",
       "      <th>pilot_flag</th>\n",
       "      <th>pilot_period_flag</th>\n",
       "      <th>fico_score</th>\n",
       "      <th>rs2_bin</th>\n",
       "      <th>rs2_score</th>\n",
       "    </tr>\n",
       "  </thead>\n",
       "  <tbody>\n",
       "    <tr>\n",
       "      <th>0</th>\n",
       "      <td>c616b39b-aef7-4156-973a-08278aa74536</td>\n",
       "      <td>2023-04-03</td>\n",
       "      <td>0.0</td>\n",
       "      <td>0.0</td>\n",
       "      <td>0.0</td>\n",
       "      <td>1</td>\n",
       "      <td>0</td>\n",
       "      <td>0.0</td>\n",
       "      <td>1.0</td>\n",
       "      <td>0.0</td>\n",
       "      <td>35.0</td>\n",
       "      <td>0.0</td>\n",
       "      <td>0.0</td>\n",
       "      <td>1.0</td>\n",
       "      <td>0.0</td>\n",
       "      <td>38.0</td>\n",
       "      <td>0.0</td>\n",
       "      <td>0.00</td>\n",
       "      <td>295.36</td>\n",
       "      <td>0.00</td>\n",
       "      <td>3962.06</td>\n",
       "      <td>0.0</td>\n",
       "      <td>0.00</td>\n",
       "      <td>295.36</td>\n",
       "      <td>0.00</td>\n",
       "      <td>4102.83</td>\n",
       "      <td>0.0</td>\n",
       "      <td>0.000000</td>\n",
       "      <td>147.680000</td>\n",
       "      <td>0.000000</td>\n",
       "      <td>110.057222</td>\n",
       "      <td>0.0</td>\n",
       "      <td>0.000000</td>\n",
       "      <td>147.680000</td>\n",
       "      <td>0.00000</td>\n",
       "      <td>105.200769</td>\n",
       "      <td>0.0</td>\n",
       "      <td>1800.00</td>\n",
       "      <td>2.0</td>\n",
       "      <td>600.000000</td>\n",
       "      <td>0.00</td>\n",
       "      <td>195.239512</td>\n",
       "      <td>2800.00</td>\n",
       "      <td>3.0</td>\n",
       "      <td>700.000000</td>\n",
       "      <td>0.00</td>\n",
       "      <td>244.616840</td>\n",
       "      <td>4257.42</td>\n",
       "      <td>36.0</td>\n",
       "      <td>115.065405</td>\n",
       "      <td>35.885</td>\n",
       "      <td>192.561543</td>\n",
       "      <td>4398.19</td>\n",
       "      <td>39.0</td>\n",
       "      <td>109.954750</td>\n",
       "      <td>42.995</td>\n",
       "      <td>191.137528</td>\n",
       "      <td>2.363920</td>\n",
       "      <td>12.000000</td>\n",
       "      <td>1.570221</td>\n",
       "      <td>9.750000</td>\n",
       "      <td>0.000000</td>\n",
       "      <td>0.069375</td>\n",
       "      <td>0.000000</td>\n",
       "      <td>0.930625</td>\n",
       "      <td>0.0</td>\n",
       "      <td>0.000000</td>\n",
       "      <td>0.067155</td>\n",
       "      <td>0.000000</td>\n",
       "      <td>0.932845</td>\n",
       "      <td>0.0</td>\n",
       "      <td>0.000000</td>\n",
       "      <td>0.027027</td>\n",
       "      <td>0.000000</td>\n",
       "      <td>0.945946</td>\n",
       "      <td>0.0</td>\n",
       "      <td>0.000000</td>\n",
       "      <td>0.025000</td>\n",
       "      <td>0.000000</td>\n",
       "      <td>0.950000</td>\n",
       "      <td>0.0</td>\n",
       "      <td>295.360000</td>\n",
       "      <td>295.360000</td>\n",
       "      <td>1.000000</td>\n",
       "      <td>1.000000</td>\n",
       "      <td>147.680000</td>\n",
       "      <td>147.680000</td>\n",
       "      <td>0.000000</td>\n",
       "      <td>0.00000</td>\n",
       "      <td>0</td>\n",
       "      <td>0</td>\n",
       "      <td>17737.240094</td>\n",
       "      <td>18065.85</td>\n",
       "      <td>1433.419027</td>\n",
       "      <td>0</td>\n",
       "      <td>0</td>\n",
       "      <td>17883.244097</td>\n",
       "      <td>18065.85</td>\n",
       "      <td>1689.488039</td>\n",
       "      <td>19435.753333</td>\n",
       "      <td>21236.060</td>\n",
       "      <td>2998.968352</td>\n",
       "      <td>0.912562</td>\n",
       "      <td>12494.28</td>\n",
       "      <td>0.00</td>\n",
       "      <td>12494.28</td>\n",
       "      <td>12494.280000</td>\n",
       "      <td>11600.0</td>\n",
       "      <td>1000.0</td>\n",
       "      <td>2800.0</td>\n",
       "      <td>2884.00</td>\n",
       "      <td>0.00</td>\n",
       "      <td>1.0</td>\n",
       "      <td>3.0</td>\n",
       "      <td>2.0</td>\n",
       "      <td>0.0</td>\n",
       "      <td>0.357015</td>\n",
       "      <td>2884.000000</td>\n",
       "      <td>0.25</td>\n",
       "      <td>2.000000</td>\n",
       "      <td>0</td>\n",
       "      <td>0</td>\n",
       "      <td>749</td>\n",
       "      <td>5.0</td>\n",
       "      <td>971.0</td>\n",
       "    </tr>\n",
       "    <tr>\n",
       "      <th>1</th>\n",
       "      <td>cc861415-fd34-4654-8b97-dab0794938dc</td>\n",
       "      <td>2023-04-03</td>\n",
       "      <td>0.0</td>\n",
       "      <td>0.0</td>\n",
       "      <td>0.0</td>\n",
       "      <td>1</td>\n",
       "      <td>0</td>\n",
       "      <td>0.0</td>\n",
       "      <td>14.0</td>\n",
       "      <td>4.0</td>\n",
       "      <td>31.0</td>\n",
       "      <td>0.0</td>\n",
       "      <td>0.0</td>\n",
       "      <td>15.0</td>\n",
       "      <td>4.0</td>\n",
       "      <td>31.0</td>\n",
       "      <td>0.0</td>\n",
       "      <td>0.00</td>\n",
       "      <td>10562.34</td>\n",
       "      <td>15750.00</td>\n",
       "      <td>1948.69</td>\n",
       "      <td>0.0</td>\n",
       "      <td>0.00</td>\n",
       "      <td>10902.18</td>\n",
       "      <td>15750.00</td>\n",
       "      <td>1948.69</td>\n",
       "      <td>0.0</td>\n",
       "      <td>0.000000</td>\n",
       "      <td>704.156000</td>\n",
       "      <td>3150.000000</td>\n",
       "      <td>60.896563</td>\n",
       "      <td>0.0</td>\n",
       "      <td>0.000000</td>\n",
       "      <td>681.386250</td>\n",
       "      <td>3150.00000</td>\n",
       "      <td>60.896563</td>\n",
       "      <td>0.0</td>\n",
       "      <td>15778.25</td>\n",
       "      <td>5.0</td>\n",
       "      <td>2629.708333</td>\n",
       "      <td>0.00</td>\n",
       "      <td>1028.030619</td>\n",
       "      <td>20778.25</td>\n",
       "      <td>6.0</td>\n",
       "      <td>2968.321429</td>\n",
       "      <td>0.00</td>\n",
       "      <td>1170.168024</td>\n",
       "      <td>17355.78</td>\n",
       "      <td>62.0</td>\n",
       "      <td>275.488571</td>\n",
       "      <td>74.440</td>\n",
       "      <td>482.237717</td>\n",
       "      <td>20519.12</td>\n",
       "      <td>67.0</td>\n",
       "      <td>301.751765</td>\n",
       "      <td>101.750</td>\n",
       "      <td>546.701343</td>\n",
       "      <td>1.099912</td>\n",
       "      <td>10.333333</td>\n",
       "      <td>0.987481</td>\n",
       "      <td>9.571429</td>\n",
       "      <td>0.000000</td>\n",
       "      <td>0.608578</td>\n",
       "      <td>0.998210</td>\n",
       "      <td>0.112279</td>\n",
       "      <td>0.0</td>\n",
       "      <td>0.000000</td>\n",
       "      <td>0.531318</td>\n",
       "      <td>0.758004</td>\n",
       "      <td>0.094969</td>\n",
       "      <td>0.0</td>\n",
       "      <td>0.000000</td>\n",
       "      <td>0.222222</td>\n",
       "      <td>0.666667</td>\n",
       "      <td>0.492063</td>\n",
       "      <td>0.0</td>\n",
       "      <td>0.000000</td>\n",
       "      <td>0.220588</td>\n",
       "      <td>0.571429</td>\n",
       "      <td>0.455882</td>\n",
       "      <td>0.0</td>\n",
       "      <td>0.670582</td>\n",
       "      <td>0.692158</td>\n",
       "      <td>2.800000</td>\n",
       "      <td>3.000000</td>\n",
       "      <td>704.156000</td>\n",
       "      <td>681.386250</td>\n",
       "      <td>3150.000000</td>\n",
       "      <td>3150.00000</td>\n",
       "      <td>0</td>\n",
       "      <td>0</td>\n",
       "      <td>2783.498621</td>\n",
       "      <td>2530.87</td>\n",
       "      <td>1025.432318</td>\n",
       "      <td>0</td>\n",
       "      <td>0</td>\n",
       "      <td>2729.818825</td>\n",
       "      <td>2530.87</td>\n",
       "      <td>1034.645481</td>\n",
       "      <td>2159.023667</td>\n",
       "      <td>2122.430</td>\n",
       "      <td>973.031285</td>\n",
       "      <td>1.288643</td>\n",
       "      <td>12726.61</td>\n",
       "      <td>15778.25</td>\n",
       "      <td>28504.86</td>\n",
       "      <td>0.806541</td>\n",
       "      <td>18500.0</td>\n",
       "      <td>2600.0</td>\n",
       "      <td>5000.0</td>\n",
       "      <td>2433.33</td>\n",
       "      <td>0.00</td>\n",
       "      <td>1.0</td>\n",
       "      <td>1.0</td>\n",
       "      <td>2.0</td>\n",
       "      <td>0.0</td>\n",
       "      <td>0.519896</td>\n",
       "      <td>2433.330000</td>\n",
       "      <td>0.50</td>\n",
       "      <td>2.000000</td>\n",
       "      <td>0</td>\n",
       "      <td>0</td>\n",
       "      <td>670</td>\n",
       "      <td>5.0</td>\n",
       "      <td>822.0</td>\n",
       "    </tr>\n",
       "    <tr>\n",
       "      <th>2</th>\n",
       "      <td>4d7e9b73-dd94-4fdc-9611-51ec641b8e19</td>\n",
       "      <td>2023-04-03</td>\n",
       "      <td>0.0</td>\n",
       "      <td>1.0</td>\n",
       "      <td>0.0</td>\n",
       "      <td>1</td>\n",
       "      <td>1</td>\n",
       "      <td>0.0</td>\n",
       "      <td>1.0</td>\n",
       "      <td>0.0</td>\n",
       "      <td>0.0</td>\n",
       "      <td>0.0</td>\n",
       "      <td>0.0</td>\n",
       "      <td>2.0</td>\n",
       "      <td>0.0</td>\n",
       "      <td>0.0</td>\n",
       "      <td>0.0</td>\n",
       "      <td>0.00</td>\n",
       "      <td>149.81</td>\n",
       "      <td>0.00</td>\n",
       "      <td>0.00</td>\n",
       "      <td>0.0</td>\n",
       "      <td>0.00</td>\n",
       "      <td>754.56</td>\n",
       "      <td>0.00</td>\n",
       "      <td>0.00</td>\n",
       "      <td>0.0</td>\n",
       "      <td>0.000000</td>\n",
       "      <td>74.905000</td>\n",
       "      <td>0.000000</td>\n",
       "      <td>0.000000</td>\n",
       "      <td>0.0</td>\n",
       "      <td>0.000000</td>\n",
       "      <td>251.520000</td>\n",
       "      <td>0.00000</td>\n",
       "      <td>0.000000</td>\n",
       "      <td>0.0</td>\n",
       "      <td>16500.00</td>\n",
       "      <td>2.0</td>\n",
       "      <td>5500.000000</td>\n",
       "      <td>0.00</td>\n",
       "      <td>2542.495962</td>\n",
       "      <td>21900.00</td>\n",
       "      <td>3.0</td>\n",
       "      <td>5475.000000</td>\n",
       "      <td>0.00</td>\n",
       "      <td>2725.540575</td>\n",
       "      <td>24020.21</td>\n",
       "      <td>17.0</td>\n",
       "      <td>1334.456111</td>\n",
       "      <td>828.440</td>\n",
       "      <td>1278.560558</td>\n",
       "      <td>24624.96</td>\n",
       "      <td>18.0</td>\n",
       "      <td>1296.050526</td>\n",
       "      <td>828.440</td>\n",
       "      <td>1258.157373</td>\n",
       "      <td>1.455682</td>\n",
       "      <td>5.666667</td>\n",
       "      <td>1.124376</td>\n",
       "      <td>4.500000</td>\n",
       "      <td>0.000000</td>\n",
       "      <td>0.006237</td>\n",
       "      <td>0.000000</td>\n",
       "      <td>0.000000</td>\n",
       "      <td>0.0</td>\n",
       "      <td>0.000000</td>\n",
       "      <td>0.030642</td>\n",
       "      <td>0.000000</td>\n",
       "      <td>0.000000</td>\n",
       "      <td>0.0</td>\n",
       "      <td>0.000000</td>\n",
       "      <td>0.055556</td>\n",
       "      <td>0.000000</td>\n",
       "      <td>0.000000</td>\n",
       "      <td>0.0</td>\n",
       "      <td>0.000000</td>\n",
       "      <td>0.105263</td>\n",
       "      <td>0.000000</td>\n",
       "      <td>0.000000</td>\n",
       "      <td>0.0</td>\n",
       "      <td>149.810000</td>\n",
       "      <td>754.560000</td>\n",
       "      <td>1.000000</td>\n",
       "      <td>2.000000</td>\n",
       "      <td>74.905000</td>\n",
       "      <td>251.520000</td>\n",
       "      <td>0.000000</td>\n",
       "      <td>0.00000</td>\n",
       "      <td>0</td>\n",
       "      <td>7</td>\n",
       "      <td>405.512382</td>\n",
       "      <td>17.05</td>\n",
       "      <td>1405.918594</td>\n",
       "      <td>0</td>\n",
       "      <td>7</td>\n",
       "      <td>824.096562</td>\n",
       "      <td>17.05</td>\n",
       "      <td>2006.468341</td>\n",
       "      <td>5275.041667</td>\n",
       "      <td>5080.880</td>\n",
       "      <td>2053.065068</td>\n",
       "      <td>0.076859</td>\n",
       "      <td>1600.00</td>\n",
       "      <td>10000.00</td>\n",
       "      <td>11600.00</td>\n",
       "      <td>0.159984</td>\n",
       "      <td>11900.0</td>\n",
       "      <td>0.0</td>\n",
       "      <td>11900.0</td>\n",
       "      <td>2196.83</td>\n",
       "      <td>0.00</td>\n",
       "      <td>0.0</td>\n",
       "      <td>2.0</td>\n",
       "      <td>2.0</td>\n",
       "      <td>0.0</td>\n",
       "      <td>0.000000</td>\n",
       "      <td>2196.830000</td>\n",
       "      <td>0.00</td>\n",
       "      <td>2.000000</td>\n",
       "      <td>0</td>\n",
       "      <td>0</td>\n",
       "      <td>722</td>\n",
       "      <td>5.0</td>\n",
       "      <td>850.0</td>\n",
       "    </tr>\n",
       "    <tr>\n",
       "      <th>3</th>\n",
       "      <td>2e3c32e2-1f1b-4d0f-a7c2-8dcdb11c6317</td>\n",
       "      <td>2023-04-03</td>\n",
       "      <td>0.0</td>\n",
       "      <td>0.0</td>\n",
       "      <td>0.0</td>\n",
       "      <td>1</td>\n",
       "      <td>0</td>\n",
       "      <td>3.0</td>\n",
       "      <td>19.0</td>\n",
       "      <td>21.0</td>\n",
       "      <td>42.0</td>\n",
       "      <td>0.0</td>\n",
       "      <td>3.0</td>\n",
       "      <td>20.0</td>\n",
       "      <td>22.0</td>\n",
       "      <td>42.0</td>\n",
       "      <td>0.0</td>\n",
       "      <td>981.80</td>\n",
       "      <td>2645.55</td>\n",
       "      <td>5365.49</td>\n",
       "      <td>4872.08</td>\n",
       "      <td>0.0</td>\n",
       "      <td>981.80</td>\n",
       "      <td>2955.55</td>\n",
       "      <td>5568.55</td>\n",
       "      <td>4872.08</td>\n",
       "      <td>0.0</td>\n",
       "      <td>245.450000</td>\n",
       "      <td>132.277500</td>\n",
       "      <td>243.885909</td>\n",
       "      <td>113.304186</td>\n",
       "      <td>0.0</td>\n",
       "      <td>245.450000</td>\n",
       "      <td>140.740476</td>\n",
       "      <td>242.11087</td>\n",
       "      <td>113.304186</td>\n",
       "      <td>0.0</td>\n",
       "      <td>8812.37</td>\n",
       "      <td>30.0</td>\n",
       "      <td>284.270000</td>\n",
       "      <td>0.00</td>\n",
       "      <td>220.698407</td>\n",
       "      <td>9315.43</td>\n",
       "      <td>32.0</td>\n",
       "      <td>282.285758</td>\n",
       "      <td>0.00</td>\n",
       "      <td>221.679502</td>\n",
       "      <td>9430.95</td>\n",
       "      <td>72.0</td>\n",
       "      <td>129.191096</td>\n",
       "      <td>16.030</td>\n",
       "      <td>227.338129</td>\n",
       "      <td>10640.95</td>\n",
       "      <td>75.0</td>\n",
       "      <td>140.012500</td>\n",
       "      <td>19.000</td>\n",
       "      <td>232.956327</td>\n",
       "      <td>1.070073</td>\n",
       "      <td>2.322581</td>\n",
       "      <td>1.142170</td>\n",
       "      <td>2.272727</td>\n",
       "      <td>0.111412</td>\n",
       "      <td>0.280518</td>\n",
       "      <td>0.608859</td>\n",
       "      <td>0.516605</td>\n",
       "      <td>0.0</td>\n",
       "      <td>0.105395</td>\n",
       "      <td>0.277752</td>\n",
       "      <td>0.597777</td>\n",
       "      <td>0.457861</td>\n",
       "      <td>0.0</td>\n",
       "      <td>0.096774</td>\n",
       "      <td>0.260274</td>\n",
       "      <td>0.677419</td>\n",
       "      <td>0.575342</td>\n",
       "      <td>0.0</td>\n",
       "      <td>0.090909</td>\n",
       "      <td>0.263158</td>\n",
       "      <td>0.666667</td>\n",
       "      <td>0.552632</td>\n",
       "      <td>0.0</td>\n",
       "      <td>0.492976</td>\n",
       "      <td>0.530662</td>\n",
       "      <td>0.863636</td>\n",
       "      <td>0.869565</td>\n",
       "      <td>132.277500</td>\n",
       "      <td>140.740476</td>\n",
       "      <td>243.885909</td>\n",
       "      <td>242.11087</td>\n",
       "      <td>0</td>\n",
       "      <td>0</td>\n",
       "      <td>2844.463856</td>\n",
       "      <td>2941.91</td>\n",
       "      <td>352.347255</td>\n",
       "      <td>0</td>\n",
       "      <td>0</td>\n",
       "      <td>2921.387192</td>\n",
       "      <td>2941.91</td>\n",
       "      <td>486.127788</td>\n",
       "      <td>3739.338667</td>\n",
       "      <td>3749.750</td>\n",
       "      <td>846.926747</td>\n",
       "      <td>0.760483</td>\n",
       "      <td>6934.28</td>\n",
       "      <td>6295.49</td>\n",
       "      <td>13229.77</td>\n",
       "      <td>1.101293</td>\n",
       "      <td>13300.0</td>\n",
       "      <td>0.0</td>\n",
       "      <td>3500.0</td>\n",
       "      <td>861.00</td>\n",
       "      <td>905.82</td>\n",
       "      <td>0.0</td>\n",
       "      <td>5.0</td>\n",
       "      <td>5.0</td>\n",
       "      <td>5.0</td>\n",
       "      <td>0.000000</td>\n",
       "      <td>0.949472</td>\n",
       "      <td>0.00</td>\n",
       "      <td>0.833333</td>\n",
       "      <td>0</td>\n",
       "      <td>0</td>\n",
       "      <td>721</td>\n",
       "      <td>5.0</td>\n",
       "      <td>795.0</td>\n",
       "    </tr>\n",
       "    <tr>\n",
       "      <th>4</th>\n",
       "      <td>57948378-e103-4f19-972e-a911082a16c2</td>\n",
       "      <td>2023-04-03</td>\n",
       "      <td>0.0</td>\n",
       "      <td>0.0</td>\n",
       "      <td>0.0</td>\n",
       "      <td>1</td>\n",
       "      <td>0</td>\n",
       "      <td>17.0</td>\n",
       "      <td>2.0</td>\n",
       "      <td>19.0</td>\n",
       "      <td>2.0</td>\n",
       "      <td>0.0</td>\n",
       "      <td>18.0</td>\n",
       "      <td>2.0</td>\n",
       "      <td>21.0</td>\n",
       "      <td>2.0</td>\n",
       "      <td>0.0</td>\n",
       "      <td>1641.61</td>\n",
       "      <td>33.07</td>\n",
       "      <td>2101.61</td>\n",
       "      <td>98.95</td>\n",
       "      <td>0.0</td>\n",
       "      <td>1694.08</td>\n",
       "      <td>33.07</td>\n",
       "      <td>2240.48</td>\n",
       "      <td>98.95</td>\n",
       "      <td>0.0</td>\n",
       "      <td>91.200556</td>\n",
       "      <td>11.023333</td>\n",
       "      <td>105.080500</td>\n",
       "      <td>32.983333</td>\n",
       "      <td>0.0</td>\n",
       "      <td>89.162105</td>\n",
       "      <td>11.023333</td>\n",
       "      <td>101.84000</td>\n",
       "      <td>32.983333</td>\n",
       "      <td>0.0</td>\n",
       "      <td>2101.61</td>\n",
       "      <td>19.0</td>\n",
       "      <td>105.080500</td>\n",
       "      <td>38.13</td>\n",
       "      <td>98.148889</td>\n",
       "      <td>4040.48</td>\n",
       "      <td>22.0</td>\n",
       "      <td>175.673043</td>\n",
       "      <td>52.66</td>\n",
       "      <td>316.109676</td>\n",
       "      <td>1924.27</td>\n",
       "      <td>9.0</td>\n",
       "      <td>192.427000</td>\n",
       "      <td>0.000</td>\n",
       "      <td>172.064979</td>\n",
       "      <td>3944.27</td>\n",
       "      <td>11.0</td>\n",
       "      <td>328.689167</td>\n",
       "      <td>0.000</td>\n",
       "      <td>378.672749</td>\n",
       "      <td>0.915182</td>\n",
       "      <td>0.450000</td>\n",
       "      <td>0.975947</td>\n",
       "      <td>0.478261</td>\n",
       "      <td>0.781120</td>\n",
       "      <td>0.017186</td>\n",
       "      <td>1.000000</td>\n",
       "      <td>0.051422</td>\n",
       "      <td>0.0</td>\n",
       "      <td>0.419277</td>\n",
       "      <td>0.008384</td>\n",
       "      <td>0.554508</td>\n",
       "      <td>0.025087</td>\n",
       "      <td>0.0</td>\n",
       "      <td>0.850000</td>\n",
       "      <td>0.200000</td>\n",
       "      <td>0.950000</td>\n",
       "      <td>0.200000</td>\n",
       "      <td>0.0</td>\n",
       "      <td>0.782609</td>\n",
       "      <td>0.166667</td>\n",
       "      <td>0.913043</td>\n",
       "      <td>0.166667</td>\n",
       "      <td>0.0</td>\n",
       "      <td>0.015728</td>\n",
       "      <td>0.014754</td>\n",
       "      <td>0.100000</td>\n",
       "      <td>0.090909</td>\n",
       "      <td>11.023333</td>\n",
       "      <td>11.023333</td>\n",
       "      <td>105.080500</td>\n",
       "      <td>101.84000</td>\n",
       "      <td>0</td>\n",
       "      <td>0</td>\n",
       "      <td>6945.847837</td>\n",
       "      <td>7781.71</td>\n",
       "      <td>2225.532571</td>\n",
       "      <td>0</td>\n",
       "      <td>0</td>\n",
       "      <td>6436.644642</td>\n",
       "      <td>7781.71</td>\n",
       "      <td>2702.671887</td>\n",
       "      <td>1022.117333</td>\n",
       "      <td>1077.775</td>\n",
       "      <td>401.075993</td>\n",
       "      <td>6.788906</td>\n",
       "      <td>11224.73</td>\n",
       "      <td>1785.37</td>\n",
       "      <td>13010.10</td>\n",
       "      <td>6.283541</td>\n",
       "      <td>1800.0</td>\n",
       "      <td>0.0</td>\n",
       "      <td>1800.0</td>\n",
       "      <td>363.00</td>\n",
       "      <td>0.00</td>\n",
       "      <td>0.0</td>\n",
       "      <td>1.0</td>\n",
       "      <td>1.0</td>\n",
       "      <td>0.0</td>\n",
       "      <td>0.000000</td>\n",
       "      <td>363.000000</td>\n",
       "      <td>0.00</td>\n",
       "      <td>1.000000</td>\n",
       "      <td>0</td>\n",
       "      <td>0</td>\n",
       "      <td>652</td>\n",
       "      <td>3.0</td>\n",
       "      <td>551.0</td>\n",
       "    </tr>\n",
       "  </tbody>\n",
       "</table>\n",
       "</div>"
      ],
      "text/plain": [
       "                            business_id    due_date  DPD_plus_15_next  \\\n",
       "0  c616b39b-aef7-4156-973a-08278aa74536  2023-04-03               0.0   \n",
       "1  cc861415-fd34-4654-8b97-dab0794938dc  2023-04-03               0.0   \n",
       "2  4d7e9b73-dd94-4fdc-9611-51ec641b8e19  2023-04-03               0.0   \n",
       "3  2e3c32e2-1f1b-4d0f-a7c2-8dcdb11c6317  2023-04-03               0.0   \n",
       "4  57948378-e103-4f19-972e-a911082a16c2  2023-04-03               0.0   \n",
       "\n",
       "   DPD_plus_3_last_2  DPD_plus_15_prev  emi_no  DPD_plus_3  \\\n",
       "0                0.0               0.0       1           0   \n",
       "1                0.0               0.0       1           0   \n",
       "2                1.0               0.0       1           1   \n",
       "3                0.0               0.0       1           0   \n",
       "4                0.0               0.0       1           0   \n",
       "\n",
       "   count_pd_deposit_1m  count_ach_debit_1m  count_ach_credit_1m  \\\n",
       "0                  0.0                 1.0                  0.0   \n",
       "1                  0.0                14.0                  4.0   \n",
       "2                  0.0                 1.0                  0.0   \n",
       "3                  3.0                19.0                 21.0   \n",
       "4                 17.0                 2.0                 19.0   \n",
       "\n",
       "   count_card_withdrawal_1m  count_mrdc_credit_1m  count_pd_deposit_2m  \\\n",
       "0                      35.0                   0.0                  0.0   \n",
       "1                      31.0                   0.0                  0.0   \n",
       "2                       0.0                   0.0                  0.0   \n",
       "3                      42.0                   0.0                  3.0   \n",
       "4                       2.0                   0.0                 18.0   \n",
       "\n",
       "   count_ach_debit_2m  count_ach_credit_2m  count_card_withdrawal_2m  \\\n",
       "0                 1.0                  0.0                      38.0   \n",
       "1                15.0                  4.0                      31.0   \n",
       "2                 2.0                  0.0                       0.0   \n",
       "3                20.0                 22.0                      42.0   \n",
       "4                 2.0                 21.0                       2.0   \n",
       "\n",
       "   count_mrdc_credit_2m  amount_pd_deposit_1m  amount_ach_debit_1m  \\\n",
       "0                   0.0                  0.00               295.36   \n",
       "1                   0.0                  0.00             10562.34   \n",
       "2                   0.0                  0.00               149.81   \n",
       "3                   0.0                981.80              2645.55   \n",
       "4                   0.0               1641.61                33.07   \n",
       "\n",
       "   amount_ach_credit_1m  amount_card_withdrawal_1m  amount_mrdc_credit_1m  \\\n",
       "0                  0.00                    3962.06                    0.0   \n",
       "1              15750.00                    1948.69                    0.0   \n",
       "2                  0.00                       0.00                    0.0   \n",
       "3               5365.49                    4872.08                    0.0   \n",
       "4               2101.61                      98.95                    0.0   \n",
       "\n",
       "   amount_pd_deposit_2m  amount_ach_debit_2m  amount_ach_credit_2m  \\\n",
       "0                  0.00               295.36                  0.00   \n",
       "1                  0.00             10902.18              15750.00   \n",
       "2                  0.00               754.56                  0.00   \n",
       "3                981.80              2955.55               5568.55   \n",
       "4               1694.08                33.07               2240.48   \n",
       "\n",
       "   amount_card_withdrawal_2m  amount_mrdc_credit_2m  pd_deposit_size_1m  \\\n",
       "0                    4102.83                    0.0            0.000000   \n",
       "1                    1948.69                    0.0            0.000000   \n",
       "2                       0.00                    0.0            0.000000   \n",
       "3                    4872.08                    0.0          245.450000   \n",
       "4                      98.95                    0.0           91.200556   \n",
       "\n",
       "   ach_debit_size_1m  ach_credit_size_1m  card_withdrawal_size_1m  \\\n",
       "0         147.680000            0.000000               110.057222   \n",
       "1         704.156000         3150.000000                60.896563   \n",
       "2          74.905000            0.000000                 0.000000   \n",
       "3         132.277500          243.885909               113.304186   \n",
       "4          11.023333          105.080500                32.983333   \n",
       "\n",
       "   mrdc_credit_size_1m  pd_deposit_size_2m  ach_debit_size_2m  \\\n",
       "0                  0.0            0.000000         147.680000   \n",
       "1                  0.0            0.000000         681.386250   \n",
       "2                  0.0            0.000000         251.520000   \n",
       "3                  0.0          245.450000         140.740476   \n",
       "4                  0.0           89.162105          11.023333   \n",
       "\n",
       "   ach_credit_size_2m  card_withdrawal_size_2m  mrdc_credit_size_2m  \\\n",
       "0             0.00000               105.200769                  0.0   \n",
       "1          3150.00000                60.896563                  0.0   \n",
       "2             0.00000                 0.000000                  0.0   \n",
       "3           242.11087               113.304186                  0.0   \n",
       "4           101.84000                32.983333                  0.0   \n",
       "\n",
       "   amount_credited_1m  distinct_credit_txns_1m  credit_size_1m  \\\n",
       "0             1800.00                      2.0      600.000000   \n",
       "1            15778.25                      5.0     2629.708333   \n",
       "2            16500.00                      2.0     5500.000000   \n",
       "3             8812.37                     30.0      284.270000   \n",
       "4             2101.61                     19.0      105.080500   \n",
       "\n",
       "   median_amount_credited_1m  stddev_amount_credited_1m  amount_credited_2m  \\\n",
       "0                       0.00                 195.239512             2800.00   \n",
       "1                       0.00                1028.030619            20778.25   \n",
       "2                       0.00                2542.495962            21900.00   \n",
       "3                       0.00                 220.698407             9315.43   \n",
       "4                      38.13                  98.148889             4040.48   \n",
       "\n",
       "   distinct_credit_txns_2m  credit_size_2m  median_amount_credited_2m  \\\n",
       "0                      3.0      700.000000                       0.00   \n",
       "1                      6.0     2968.321429                       0.00   \n",
       "2                      3.0     5475.000000                       0.00   \n",
       "3                     32.0      282.285758                       0.00   \n",
       "4                     22.0      175.673043                      52.66   \n",
       "\n",
       "   stddev_amount_credited_2m  amount_debited_1m  distinct_debit_txns_1m  \\\n",
       "0                 244.616840            4257.42                    36.0   \n",
       "1                1170.168024           17355.78                    62.0   \n",
       "2                2725.540575           24020.21                    17.0   \n",
       "3                 221.679502            9430.95                    72.0   \n",
       "4                 316.109676            1924.27                     9.0   \n",
       "\n",
       "   debit_size_1m  median_amount_debited_1m  stddev_amount_debited_1m  \\\n",
       "0     115.065405                    35.885                192.561543   \n",
       "1     275.488571                    74.440                482.237717   \n",
       "2    1334.456111                   828.440               1278.560558   \n",
       "3     129.191096                    16.030                227.338129   \n",
       "4     192.427000                     0.000                172.064979   \n",
       "\n",
       "   amount_debited_2m  distinct_debit_txns_2m  debit_size_2m  \\\n",
       "0            4398.19                    39.0     109.954750   \n",
       "1           20519.12                    67.0     301.751765   \n",
       "2           24624.96                    18.0    1296.050526   \n",
       "3           10640.95                    75.0     140.012500   \n",
       "4            3944.27                    11.0     328.689167   \n",
       "\n",
       "   median_amount_debited_2m  stddev_amount_debited_2m  ratio_debit_credit_1m  \\\n",
       "0                    42.995                191.137528               2.363920   \n",
       "1                   101.750                546.701343               1.099912   \n",
       "2                   828.440               1258.157373               1.455682   \n",
       "3                    19.000                232.956327               1.070073   \n",
       "4                     0.000                378.672749               0.915182   \n",
       "\n",
       "   ratio_debit_credit_frequency_1m  ratio_debit_credit_2m  \\\n",
       "0                        12.000000               1.570221   \n",
       "1                        10.333333               0.987481   \n",
       "2                         5.666667               1.124376   \n",
       "3                         2.322581               1.142170   \n",
       "4                         0.450000               0.975947   \n",
       "\n",
       "   ratio_debit_credit_frequency_2m  ratio_pd_amt_total_credit_1m  \\\n",
       "0                         9.750000                      0.000000   \n",
       "1                         9.571429                      0.000000   \n",
       "2                         4.500000                      0.000000   \n",
       "3                         2.272727                      0.111412   \n",
       "4                         0.478261                      0.781120   \n",
       "\n",
       "   ratio_ach_debit_total_debit_1m  ratio_ach_credit_total_credit_1m  \\\n",
       "0                        0.069375                          0.000000   \n",
       "1                        0.608578                          0.998210   \n",
       "2                        0.006237                          0.000000   \n",
       "3                        0.280518                          0.608859   \n",
       "4                        0.017186                          1.000000   \n",
       "\n",
       "   ratio_card_withdrawal_total_debit_1m  ratio_mrdc_credit_total_credit_1m  \\\n",
       "0                              0.930625                                0.0   \n",
       "1                              0.112279                                0.0   \n",
       "2                              0.000000                                0.0   \n",
       "3                              0.516605                                0.0   \n",
       "4                              0.051422                                0.0   \n",
       "\n",
       "   ratio_pd_amt_total_credit_2m  ratio_ach_debit_total_debit_2m  \\\n",
       "0                      0.000000                        0.067155   \n",
       "1                      0.000000                        0.531318   \n",
       "2                      0.000000                        0.030642   \n",
       "3                      0.105395                        0.277752   \n",
       "4                      0.419277                        0.008384   \n",
       "\n",
       "   ratio_ach_credit_total_credit_2m  ratio_card_withdrawal_total_debit_2m  \\\n",
       "0                          0.000000                              0.932845   \n",
       "1                          0.758004                              0.094969   \n",
       "2                          0.000000                              0.000000   \n",
       "3                          0.597777                              0.457861   \n",
       "4                          0.554508                              0.025087   \n",
       "\n",
       "   ratio_mrdc_credit_total_credit_2m  ratio_pd_freq_total_credit_1m  \\\n",
       "0                                0.0                       0.000000   \n",
       "1                                0.0                       0.000000   \n",
       "2                                0.0                       0.000000   \n",
       "3                                0.0                       0.096774   \n",
       "4                                0.0                       0.850000   \n",
       "\n",
       "   ratio_ach_debit_freq_total_debit_1m  ratio_ach_credit_freq_total_credit_1m  \\\n",
       "0                             0.027027                               0.000000   \n",
       "1                             0.222222                               0.666667   \n",
       "2                             0.055556                               0.000000   \n",
       "3                             0.260274                               0.677419   \n",
       "4                             0.200000                               0.950000   \n",
       "\n",
       "   ratio_card_withdrawal_freq_total_debit_1m  \\\n",
       "0                                   0.945946   \n",
       "1                                   0.492063   \n",
       "2                                   0.000000   \n",
       "3                                   0.575342   \n",
       "4                                   0.200000   \n",
       "\n",
       "   ratio_mrdc_credit_freq_total_credit_1m  ratio_pd_freq_total_credit_2m  \\\n",
       "0                                     0.0                       0.000000   \n",
       "1                                     0.0                       0.000000   \n",
       "2                                     0.0                       0.000000   \n",
       "3                                     0.0                       0.090909   \n",
       "4                                     0.0                       0.782609   \n",
       "\n",
       "   ratio_ach_debit_freq_total_debit_2m  ratio_ach_credit_freq_total_credit_2m  \\\n",
       "0                             0.025000                               0.000000   \n",
       "1                             0.220588                               0.571429   \n",
       "2                             0.105263                               0.000000   \n",
       "3                             0.263158                               0.666667   \n",
       "4                             0.166667                               0.913043   \n",
       "\n",
       "   ratio_card_withdrawal_freq_total_debit_2m  \\\n",
       "0                                   0.950000   \n",
       "1                                   0.455882   \n",
       "2                                   0.000000   \n",
       "3                                   0.552632   \n",
       "4                                   0.166667   \n",
       "\n",
       "   ratio_mrdc_credit_freq_total_credit_2m  ratio_ach_debit_credit_1m  \\\n",
       "0                                     0.0                 295.360000   \n",
       "1                                     0.0                   0.670582   \n",
       "2                                     0.0                 149.810000   \n",
       "3                                     0.0                   0.492976   \n",
       "4                                     0.0                   0.015728   \n",
       "\n",
       "   ratio_ach_debit_credit_2m  ratio_ach_debit_credit_freq_1m  \\\n",
       "0                 295.360000                        1.000000   \n",
       "1                   0.692158                        2.800000   \n",
       "2                 754.560000                        1.000000   \n",
       "3                   0.530662                        0.863636   \n",
       "4                   0.014754                        0.100000   \n",
       "\n",
       "   ratio_ach_debit_credit_freq_2m  ach_d_size_1m  ach_d_size_2m  \\\n",
       "0                        1.000000     147.680000     147.680000   \n",
       "1                        3.000000     704.156000     681.386250   \n",
       "2                        2.000000      74.905000     251.520000   \n",
       "3                        0.869565     132.277500     140.740476   \n",
       "4                        0.090909      11.023333      11.023333   \n",
       "\n",
       "   ach_c_size_1m  ach_c_size_2m  od_count_1m  zero_balance_count_1m  \\\n",
       "0       0.000000        0.00000            0                      0   \n",
       "1    3150.000000     3150.00000            0                      0   \n",
       "2       0.000000        0.00000            0                      7   \n",
       "3     243.885909      242.11087            0                      0   \n",
       "4     105.080500      101.84000            0                      0   \n",
       "\n",
       "   avg_running_balance_1m  median_running_balance_1m  \\\n",
       "0            17737.240094                   18065.85   \n",
       "1             2783.498621                    2530.87   \n",
       "2              405.512382                      17.05   \n",
       "3             2844.463856                    2941.91   \n",
       "4             6945.847837                    7781.71   \n",
       "\n",
       "   stddev_running_balance_1m  od_count_2m  zero_balance_count_2m  \\\n",
       "0                1433.419027            0                      0   \n",
       "1                1025.432318            0                      0   \n",
       "2                1405.918594            0                      7   \n",
       "3                 352.347255            0                      0   \n",
       "4                2225.532571            0                      0   \n",
       "\n",
       "   avg_running_balance_2m  median_running_balance_2m  \\\n",
       "0            17883.244097                   18065.85   \n",
       "1             2729.818825                    2530.87   \n",
       "2              824.096562                      17.05   \n",
       "3             2921.387192                    2941.91   \n",
       "4             6436.644642                    7781.71   \n",
       "\n",
       "   stddev_running_balance_2m  avg_running_balance_2nd_m  \\\n",
       "0                1689.488039               19435.753333   \n",
       "1                1034.645481                2159.023667   \n",
       "2                2006.468341                5275.041667   \n",
       "3                 486.127788                3739.338667   \n",
       "4                2702.671887                1022.117333   \n",
       "\n",
       "   median_running_balance_2nd_m  stddev_running_balance_2nd_m  \\\n",
       "0                     21236.060                   2998.968352   \n",
       "1                      2122.430                    973.031285   \n",
       "2                      5080.880                   2053.065068   \n",
       "3                      3749.750                    846.926747   \n",
       "4                      1077.775                    401.075993   \n",
       "\n",
       "   ratio_avg_running_balance_1m_2m  revenue_past_1m  revenue_past_2m  \\\n",
       "0                         0.912562         12494.28             0.00   \n",
       "1                         1.288643         12726.61         15778.25   \n",
       "2                         0.076859          1600.00         10000.00   \n",
       "3                         0.760483          6934.28          6295.49   \n",
       "4                         6.788906         11224.73          1785.37   \n",
       "\n",
       "   total_revenue_2m  ratio_revenue_1m_2m  credit_limit  amount_drawn_1m_prev  \\\n",
       "0          12494.28         12494.280000       11600.0                1000.0   \n",
       "1          28504.86             0.806541       18500.0                2600.0   \n",
       "2          11600.00             0.159984       11900.0                   0.0   \n",
       "3          13229.77             1.101293       13300.0                   0.0   \n",
       "4          13010.10             6.283541        1800.0                   0.0   \n",
       "\n",
       "   amount_drawn_2m_prev  amount_cashin_1m_prev  amount_cashin_2m_prev  \\\n",
       "0                2800.0                2884.00                   0.00   \n",
       "1                5000.0                2433.33                   0.00   \n",
       "2               11900.0                2196.83                   0.00   \n",
       "3                3500.0                 861.00                 905.82   \n",
       "4                1800.0                 363.00                   0.00   \n",
       "\n",
       "   distinct_draws_1m_prev  distinct_draws_2m_prev  distinct_cashins_1m_prev  \\\n",
       "0                     1.0                     3.0                       2.0   \n",
       "1                     1.0                     1.0                       2.0   \n",
       "2                     0.0                     2.0                       2.0   \n",
       "3                     0.0                     5.0                       5.0   \n",
       "4                     0.0                     1.0                       1.0   \n",
       "\n",
       "   distinct_cashins_2m_prev  ratio_amt_drawn_mom  ratio_amt_cashin_mom  \\\n",
       "0                       0.0             0.357015           2884.000000   \n",
       "1                       0.0             0.519896           2433.330000   \n",
       "2                       0.0             0.000000           2196.830000   \n",
       "3                       5.0             0.000000              0.949472   \n",
       "4                       0.0             0.000000            363.000000   \n",
       "\n",
       "   ratio_count_drawn_mom  ratio_count_cashin_mom  pilot_flag  \\\n",
       "0                   0.25                2.000000           0   \n",
       "1                   0.50                2.000000           0   \n",
       "2                   0.00                2.000000           0   \n",
       "3                   0.00                0.833333           0   \n",
       "4                   0.00                1.000000           0   \n",
       "\n",
       "   pilot_period_flag fico_score  rs2_bin  rs2_score  \n",
       "0                  0        749      5.0      971.0  \n",
       "1                  0        670      5.0      822.0  \n",
       "2                  0        722      5.0      850.0  \n",
       "3                  0        721      5.0      795.0  \n",
       "4                  0        652      3.0      551.0  "
      ]
     },
     "execution_count": 193,
     "metadata": {},
     "output_type": "execute_result"
    }
   ],
   "source": [
    "dff.head()"
   ]
  },
  {
   "cell_type": "code",
   "execution_count": 194,
   "metadata": {},
   "outputs": [
    {
     "data": {
      "application/vnd.plotly.v1+json": {
       "config": {
        "plotlyServerURL": "https://plot.ly"
       },
       "data": [
        {
         "alignmentgroup": "True",
         "hovertemplate": "variable=DPD_plus_15_next<br>rs2_bin=%{x}<br>value=%{y}<extra></extra>",
         "legendgroup": "DPD_plus_15_next",
         "marker": {
          "color": "#636efa",
          "pattern": {
           "shape": ""
          }
         },
         "name": "DPD_plus_15_next",
         "offsetgroup": "DPD_plus_15_next",
         "orientation": "v",
         "showlegend": true,
         "textposition": "auto",
         "texttemplate": "%{y}",
         "type": "bar",
         "width": 0.4,
         "x": [
          1,
          2,
          3,
          4,
          5
         ],
         "xaxis": "x",
         "y": [
          209,
          37,
          35,
          13,
          11
         ],
         "yaxis": "y"
        }
       ],
       "layout": {
        "barmode": "relative",
        "height": 400,
        "legend": {
         "title": {
          "text": "variable"
         },
         "tracegroupgap": 0
        },
        "margin": {
         "t": 60
        },
        "template": {
         "data": {
          "bar": [
           {
            "error_x": {
             "color": "#f2f5fa"
            },
            "error_y": {
             "color": "#f2f5fa"
            },
            "marker": {
             "line": {
              "color": "rgb(17,17,17)",
              "width": 0.5
             },
             "pattern": {
              "fillmode": "overlay",
              "size": 10,
              "solidity": 0.2
             }
            },
            "type": "bar"
           }
          ],
          "barpolar": [
           {
            "marker": {
             "line": {
              "color": "rgb(17,17,17)",
              "width": 0.5
             },
             "pattern": {
              "fillmode": "overlay",
              "size": 10,
              "solidity": 0.2
             }
            },
            "type": "barpolar"
           }
          ],
          "carpet": [
           {
            "aaxis": {
             "endlinecolor": "#A2B1C6",
             "gridcolor": "#506784",
             "linecolor": "#506784",
             "minorgridcolor": "#506784",
             "startlinecolor": "#A2B1C6"
            },
            "baxis": {
             "endlinecolor": "#A2B1C6",
             "gridcolor": "#506784",
             "linecolor": "#506784",
             "minorgridcolor": "#506784",
             "startlinecolor": "#A2B1C6"
            },
            "type": "carpet"
           }
          ],
          "choropleth": [
           {
            "colorbar": {
             "outlinewidth": 0,
             "ticks": ""
            },
            "type": "choropleth"
           }
          ],
          "contour": [
           {
            "colorbar": {
             "outlinewidth": 0,
             "ticks": ""
            },
            "colorscale": [
             [
              0,
              "#0d0887"
             ],
             [
              0.1111111111111111,
              "#46039f"
             ],
             [
              0.2222222222222222,
              "#7201a8"
             ],
             [
              0.3333333333333333,
              "#9c179e"
             ],
             [
              0.4444444444444444,
              "#bd3786"
             ],
             [
              0.5555555555555556,
              "#d8576b"
             ],
             [
              0.6666666666666666,
              "#ed7953"
             ],
             [
              0.7777777777777778,
              "#fb9f3a"
             ],
             [
              0.8888888888888888,
              "#fdca26"
             ],
             [
              1,
              "#f0f921"
             ]
            ],
            "type": "contour"
           }
          ],
          "contourcarpet": [
           {
            "colorbar": {
             "outlinewidth": 0,
             "ticks": ""
            },
            "type": "contourcarpet"
           }
          ],
          "heatmap": [
           {
            "colorbar": {
             "outlinewidth": 0,
             "ticks": ""
            },
            "colorscale": [
             [
              0,
              "#0d0887"
             ],
             [
              0.1111111111111111,
              "#46039f"
             ],
             [
              0.2222222222222222,
              "#7201a8"
             ],
             [
              0.3333333333333333,
              "#9c179e"
             ],
             [
              0.4444444444444444,
              "#bd3786"
             ],
             [
              0.5555555555555556,
              "#d8576b"
             ],
             [
              0.6666666666666666,
              "#ed7953"
             ],
             [
              0.7777777777777778,
              "#fb9f3a"
             ],
             [
              0.8888888888888888,
              "#fdca26"
             ],
             [
              1,
              "#f0f921"
             ]
            ],
            "type": "heatmap"
           }
          ],
          "heatmapgl": [
           {
            "colorbar": {
             "outlinewidth": 0,
             "ticks": ""
            },
            "colorscale": [
             [
              0,
              "#0d0887"
             ],
             [
              0.1111111111111111,
              "#46039f"
             ],
             [
              0.2222222222222222,
              "#7201a8"
             ],
             [
              0.3333333333333333,
              "#9c179e"
             ],
             [
              0.4444444444444444,
              "#bd3786"
             ],
             [
              0.5555555555555556,
              "#d8576b"
             ],
             [
              0.6666666666666666,
              "#ed7953"
             ],
             [
              0.7777777777777778,
              "#fb9f3a"
             ],
             [
              0.8888888888888888,
              "#fdca26"
             ],
             [
              1,
              "#f0f921"
             ]
            ],
            "type": "heatmapgl"
           }
          ],
          "histogram": [
           {
            "marker": {
             "pattern": {
              "fillmode": "overlay",
              "size": 10,
              "solidity": 0.2
             }
            },
            "type": "histogram"
           }
          ],
          "histogram2d": [
           {
            "colorbar": {
             "outlinewidth": 0,
             "ticks": ""
            },
            "colorscale": [
             [
              0,
              "#0d0887"
             ],
             [
              0.1111111111111111,
              "#46039f"
             ],
             [
              0.2222222222222222,
              "#7201a8"
             ],
             [
              0.3333333333333333,
              "#9c179e"
             ],
             [
              0.4444444444444444,
              "#bd3786"
             ],
             [
              0.5555555555555556,
              "#d8576b"
             ],
             [
              0.6666666666666666,
              "#ed7953"
             ],
             [
              0.7777777777777778,
              "#fb9f3a"
             ],
             [
              0.8888888888888888,
              "#fdca26"
             ],
             [
              1,
              "#f0f921"
             ]
            ],
            "type": "histogram2d"
           }
          ],
          "histogram2dcontour": [
           {
            "colorbar": {
             "outlinewidth": 0,
             "ticks": ""
            },
            "colorscale": [
             [
              0,
              "#0d0887"
             ],
             [
              0.1111111111111111,
              "#46039f"
             ],
             [
              0.2222222222222222,
              "#7201a8"
             ],
             [
              0.3333333333333333,
              "#9c179e"
             ],
             [
              0.4444444444444444,
              "#bd3786"
             ],
             [
              0.5555555555555556,
              "#d8576b"
             ],
             [
              0.6666666666666666,
              "#ed7953"
             ],
             [
              0.7777777777777778,
              "#fb9f3a"
             ],
             [
              0.8888888888888888,
              "#fdca26"
             ],
             [
              1,
              "#f0f921"
             ]
            ],
            "type": "histogram2dcontour"
           }
          ],
          "mesh3d": [
           {
            "colorbar": {
             "outlinewidth": 0,
             "ticks": ""
            },
            "type": "mesh3d"
           }
          ],
          "parcoords": [
           {
            "line": {
             "colorbar": {
              "outlinewidth": 0,
              "ticks": ""
             }
            },
            "type": "parcoords"
           }
          ],
          "pie": [
           {
            "automargin": true,
            "type": "pie"
           }
          ],
          "scatter": [
           {
            "marker": {
             "line": {
              "color": "#283442"
             }
            },
            "type": "scatter"
           }
          ],
          "scatter3d": [
           {
            "line": {
             "colorbar": {
              "outlinewidth": 0,
              "ticks": ""
             }
            },
            "marker": {
             "colorbar": {
              "outlinewidth": 0,
              "ticks": ""
             }
            },
            "type": "scatter3d"
           }
          ],
          "scattercarpet": [
           {
            "marker": {
             "colorbar": {
              "outlinewidth": 0,
              "ticks": ""
             }
            },
            "type": "scattercarpet"
           }
          ],
          "scattergeo": [
           {
            "marker": {
             "colorbar": {
              "outlinewidth": 0,
              "ticks": ""
             }
            },
            "type": "scattergeo"
           }
          ],
          "scattergl": [
           {
            "marker": {
             "line": {
              "color": "#283442"
             }
            },
            "type": "scattergl"
           }
          ],
          "scattermapbox": [
           {
            "marker": {
             "colorbar": {
              "outlinewidth": 0,
              "ticks": ""
             }
            },
            "type": "scattermapbox"
           }
          ],
          "scatterpolar": [
           {
            "marker": {
             "colorbar": {
              "outlinewidth": 0,
              "ticks": ""
             }
            },
            "type": "scatterpolar"
           }
          ],
          "scatterpolargl": [
           {
            "marker": {
             "colorbar": {
              "outlinewidth": 0,
              "ticks": ""
             }
            },
            "type": "scatterpolargl"
           }
          ],
          "scatterternary": [
           {
            "marker": {
             "colorbar": {
              "outlinewidth": 0,
              "ticks": ""
             }
            },
            "type": "scatterternary"
           }
          ],
          "surface": [
           {
            "colorbar": {
             "outlinewidth": 0,
             "ticks": ""
            },
            "colorscale": [
             [
              0,
              "#0d0887"
             ],
             [
              0.1111111111111111,
              "#46039f"
             ],
             [
              0.2222222222222222,
              "#7201a8"
             ],
             [
              0.3333333333333333,
              "#9c179e"
             ],
             [
              0.4444444444444444,
              "#bd3786"
             ],
             [
              0.5555555555555556,
              "#d8576b"
             ],
             [
              0.6666666666666666,
              "#ed7953"
             ],
             [
              0.7777777777777778,
              "#fb9f3a"
             ],
             [
              0.8888888888888888,
              "#fdca26"
             ],
             [
              1,
              "#f0f921"
             ]
            ],
            "type": "surface"
           }
          ],
          "table": [
           {
            "cells": {
             "fill": {
              "color": "#506784"
             },
             "line": {
              "color": "rgb(17,17,17)"
             }
            },
            "header": {
             "fill": {
              "color": "#2a3f5f"
             },
             "line": {
              "color": "rgb(17,17,17)"
             }
            },
            "type": "table"
           }
          ]
         },
         "layout": {
          "annotationdefaults": {
           "arrowcolor": "#f2f5fa",
           "arrowhead": 0,
           "arrowwidth": 1
          },
          "autotypenumbers": "strict",
          "coloraxis": {
           "colorbar": {
            "outlinewidth": 0,
            "ticks": ""
           }
          },
          "colorscale": {
           "diverging": [
            [
             0,
             "#8e0152"
            ],
            [
             0.1,
             "#c51b7d"
            ],
            [
             0.2,
             "#de77ae"
            ],
            [
             0.3,
             "#f1b6da"
            ],
            [
             0.4,
             "#fde0ef"
            ],
            [
             0.5,
             "#f7f7f7"
            ],
            [
             0.6,
             "#e6f5d0"
            ],
            [
             0.7,
             "#b8e186"
            ],
            [
             0.8,
             "#7fbc41"
            ],
            [
             0.9,
             "#4d9221"
            ],
            [
             1,
             "#276419"
            ]
           ],
           "sequential": [
            [
             0,
             "#0d0887"
            ],
            [
             0.1111111111111111,
             "#46039f"
            ],
            [
             0.2222222222222222,
             "#7201a8"
            ],
            [
             0.3333333333333333,
             "#9c179e"
            ],
            [
             0.4444444444444444,
             "#bd3786"
            ],
            [
             0.5555555555555556,
             "#d8576b"
            ],
            [
             0.6666666666666666,
             "#ed7953"
            ],
            [
             0.7777777777777778,
             "#fb9f3a"
            ],
            [
             0.8888888888888888,
             "#fdca26"
            ],
            [
             1,
             "#f0f921"
            ]
           ],
           "sequentialminus": [
            [
             0,
             "#0d0887"
            ],
            [
             0.1111111111111111,
             "#46039f"
            ],
            [
             0.2222222222222222,
             "#7201a8"
            ],
            [
             0.3333333333333333,
             "#9c179e"
            ],
            [
             0.4444444444444444,
             "#bd3786"
            ],
            [
             0.5555555555555556,
             "#d8576b"
            ],
            [
             0.6666666666666666,
             "#ed7953"
            ],
            [
             0.7777777777777778,
             "#fb9f3a"
            ],
            [
             0.8888888888888888,
             "#fdca26"
            ],
            [
             1,
             "#f0f921"
            ]
           ]
          },
          "colorway": [
           "#636efa",
           "#EF553B",
           "#00cc96",
           "#ab63fa",
           "#FFA15A",
           "#19d3f3",
           "#FF6692",
           "#B6E880",
           "#FF97FF",
           "#FECB52"
          ],
          "font": {
           "color": "#f2f5fa"
          },
          "geo": {
           "bgcolor": "rgb(17,17,17)",
           "lakecolor": "rgb(17,17,17)",
           "landcolor": "rgb(17,17,17)",
           "showlakes": true,
           "showland": true,
           "subunitcolor": "#506784"
          },
          "hoverlabel": {
           "align": "left"
          },
          "hovermode": "closest",
          "mapbox": {
           "style": "dark"
          },
          "paper_bgcolor": "rgb(17,17,17)",
          "plot_bgcolor": "rgb(17,17,17)",
          "polar": {
           "angularaxis": {
            "gridcolor": "#506784",
            "linecolor": "#506784",
            "ticks": ""
           },
           "bgcolor": "rgb(17,17,17)",
           "radialaxis": {
            "gridcolor": "#506784",
            "linecolor": "#506784",
            "ticks": ""
           }
          },
          "scene": {
           "xaxis": {
            "backgroundcolor": "rgb(17,17,17)",
            "gridcolor": "#506784",
            "gridwidth": 2,
            "linecolor": "#506784",
            "showbackground": true,
            "ticks": "",
            "zerolinecolor": "#C8D4E3"
           },
           "yaxis": {
            "backgroundcolor": "rgb(17,17,17)",
            "gridcolor": "#506784",
            "gridwidth": 2,
            "linecolor": "#506784",
            "showbackground": true,
            "ticks": "",
            "zerolinecolor": "#C8D4E3"
           },
           "zaxis": {
            "backgroundcolor": "rgb(17,17,17)",
            "gridcolor": "#506784",
            "gridwidth": 2,
            "linecolor": "#506784",
            "showbackground": true,
            "ticks": "",
            "zerolinecolor": "#C8D4E3"
           }
          },
          "shapedefaults": {
           "line": {
            "color": "#f2f5fa"
           }
          },
          "sliderdefaults": {
           "bgcolor": "#C8D4E3",
           "bordercolor": "rgb(17,17,17)",
           "borderwidth": 1,
           "tickwidth": 0
          },
          "ternary": {
           "aaxis": {
            "gridcolor": "#506784",
            "linecolor": "#506784",
            "ticks": ""
           },
           "baxis": {
            "gridcolor": "#506784",
            "linecolor": "#506784",
            "ticks": ""
           },
           "bgcolor": "rgb(17,17,17)",
           "caxis": {
            "gridcolor": "#506784",
            "linecolor": "#506784",
            "ticks": ""
           }
          },
          "title": {
           "x": 0.05
          },
          "updatemenudefaults": {
           "bgcolor": "#506784",
           "borderwidth": 0
          },
          "xaxis": {
           "automargin": true,
           "gridcolor": "#283442",
           "linecolor": "#506784",
           "ticks": "",
           "title": {
            "standoff": 15
           },
           "zerolinecolor": "#283442",
           "zerolinewidth": 2
          },
          "yaxis": {
           "automargin": true,
           "gridcolor": "#283442",
           "linecolor": "#506784",
           "ticks": "",
           "title": {
            "standoff": 15
           },
           "zerolinecolor": "#283442",
           "zerolinewidth": 2
          }
         }
        },
        "width": 800,
        "xaxis": {
         "anchor": "y",
         "domain": [
          0,
          1
         ],
         "title": {
          "text": "rs2_bin"
         }
        },
        "yaxis": {
         "anchor": "x",
         "domain": [
          0,
          1
         ],
         "title": {
          "text": "value"
         }
        }
       }
      }
     },
     "metadata": {},
     "output_type": "display_data"
    }
   ],
   "source": [
    "import plotly.express as px\n",
    "fig = px.bar(dff.groupby(['rs2_bin'])['DPD_plus_15_next'].sum(),text_auto=True,width=800, height=400)\n",
    "fig.update_traces(width=0.4)\n",
    "fig.show()"
   ]
  },
  {
   "cell_type": "code",
   "execution_count": 153,
   "metadata": {},
   "outputs": [
    {
     "data": {
      "text/html": [
       "<div>\n",
       "<style scoped>\n",
       "    .dataframe tbody tr th:only-of-type {\n",
       "        vertical-align: middle;\n",
       "    }\n",
       "\n",
       "    .dataframe tbody tr th {\n",
       "        vertical-align: top;\n",
       "    }\n",
       "\n",
       "    .dataframe thead th {\n",
       "        text-align: right;\n",
       "    }\n",
       "</style>\n",
       "<table border=\"1\" class=\"dataframe\">\n",
       "  <thead>\n",
       "    <tr style=\"text-align: right;\">\n",
       "      <th>emi_no</th>\n",
       "      <th>1</th>\n",
       "      <th>2</th>\n",
       "      <th>3</th>\n",
       "      <th>4</th>\n",
       "      <th>5</th>\n",
       "      <th>6</th>\n",
       "    </tr>\n",
       "    <tr>\n",
       "      <th>rs2_bin</th>\n",
       "      <th></th>\n",
       "      <th></th>\n",
       "      <th></th>\n",
       "      <th></th>\n",
       "      <th></th>\n",
       "      <th></th>\n",
       "    </tr>\n",
       "  </thead>\n",
       "  <tbody>\n",
       "    <tr>\n",
       "      <th>1</th>\n",
       "      <td>73</td>\n",
       "      <td>71</td>\n",
       "      <td>71</td>\n",
       "      <td>50</td>\n",
       "      <td>49</td>\n",
       "      <td>42</td>\n",
       "    </tr>\n",
       "    <tr>\n",
       "      <th>2</th>\n",
       "      <td>113</td>\n",
       "      <td>111</td>\n",
       "      <td>106</td>\n",
       "      <td>95</td>\n",
       "      <td>91</td>\n",
       "      <td>79</td>\n",
       "    </tr>\n",
       "    <tr>\n",
       "      <th>3</th>\n",
       "      <td>433</td>\n",
       "      <td>315</td>\n",
       "      <td>158</td>\n",
       "      <td>116</td>\n",
       "      <td>110</td>\n",
       "      <td>99</td>\n",
       "    </tr>\n",
       "    <tr>\n",
       "      <th>4</th>\n",
       "      <td>414</td>\n",
       "      <td>243</td>\n",
       "      <td>68</td>\n",
       "      <td>47</td>\n",
       "      <td>43</td>\n",
       "      <td>37</td>\n",
       "    </tr>\n",
       "    <tr>\n",
       "      <th>5</th>\n",
       "      <td>696</td>\n",
       "      <td>397</td>\n",
       "      <td>36</td>\n",
       "      <td>23</td>\n",
       "      <td>22</td>\n",
       "      <td>13</td>\n",
       "    </tr>\n",
       "  </tbody>\n",
       "</table>\n",
       "</div>"
      ],
      "text/plain": [
       "emi_no     1    2    3    4    5   6\n",
       "rs2_bin                             \n",
       "1         73   71   71   50   49  42\n",
       "2        113  111  106   95   91  79\n",
       "3        433  315  158  116  110  99\n",
       "4        414  243   68   47   43  37\n",
       "5        696  397   36   23   22  13"
      ]
     },
     "execution_count": 153,
     "metadata": {},
     "output_type": "execute_result"
    }
   ],
   "source": [
    "pd.crosstab(dff['rs2_bin'],dff['emi_no'])"
   ]
  },
  {
   "cell_type": "code",
   "execution_count": 195,
   "metadata": {},
   "outputs": [],
   "source": [
    "pd.pivot_table(dff[['rs2_bin','emi_no','DPD_plus_15_next']],index = 'rs2_bin',\n",
    "               columns = 'emi_no',aggfunc ='sum').to_clipboard()"
   ]
  },
  {
   "cell_type": "code",
   "execution_count": 159,
   "metadata": {},
   "outputs": [],
   "source": [
    "# tuple(dff.loc[dff['rs2_bin'].isnull(),'business_id'])"
   ]
  },
  {
   "cell_type": "code",
   "execution_count": 196,
   "metadata": {},
   "outputs": [
    {
     "data": {
      "application/vnd.plotly.v1+json": {
       "config": {
        "plotlyServerURL": "https://plot.ly"
       },
       "data": [
        {
         "coloraxis": "coloraxis",
         "hovertemplate": "x: %{x}<br>rs2_bin: %{y}<br>color: %{z}<extra></extra>",
         "name": "0",
         "texttemplate": "%{z}",
         "type": "heatmap",
         "x": [
          [
           "DPD_plus_15_next",
           1
          ],
          [
           "DPD_plus_15_next",
           2
          ],
          [
           "DPD_plus_15_next",
           3
          ],
          [
           "DPD_plus_15_next",
           4
          ],
          [
           "DPD_plus_15_next",
           5
          ],
          [
           "DPD_plus_15_next",
           6
          ]
         ],
         "xaxis": "x",
         "y": [
          1,
          2,
          3,
          4,
          5
         ],
         "yaxis": "y",
         "z": [
          [
           72,
           98,
           15,
           21,
           3,
           0
          ],
          [
           3,
           4,
           9,
           15,
           6,
           0
          ],
          [
           5,
           1,
           7,
           14,
           8,
           0
          ],
          [
           6,
           1,
           2,
           3,
           1,
           0
          ],
          [
           9,
           0,
           1,
           1,
           0,
           0
          ]
         ]
        }
       ],
       "layout": {
        "coloraxis": {
         "colorscale": [
          [
           0,
           "#0d0887"
          ],
          [
           0.1111111111111111,
           "#46039f"
          ],
          [
           0.2222222222222222,
           "#7201a8"
          ],
          [
           0.3333333333333333,
           "#9c179e"
          ],
          [
           0.4444444444444444,
           "#bd3786"
          ],
          [
           0.5555555555555556,
           "#d8576b"
          ],
          [
           0.6666666666666666,
           "#ed7953"
          ],
          [
           0.7777777777777778,
           "#fb9f3a"
          ],
          [
           0.8888888888888888,
           "#fdca26"
          ],
          [
           1,
           "#f0f921"
          ]
         ]
        },
        "height": 400,
        "margin": {
         "t": 60
        },
        "template": {
         "data": {
          "bar": [
           {
            "error_x": {
             "color": "#f2f5fa"
            },
            "error_y": {
             "color": "#f2f5fa"
            },
            "marker": {
             "line": {
              "color": "rgb(17,17,17)",
              "width": 0.5
             },
             "pattern": {
              "fillmode": "overlay",
              "size": 10,
              "solidity": 0.2
             }
            },
            "type": "bar"
           }
          ],
          "barpolar": [
           {
            "marker": {
             "line": {
              "color": "rgb(17,17,17)",
              "width": 0.5
             },
             "pattern": {
              "fillmode": "overlay",
              "size": 10,
              "solidity": 0.2
             }
            },
            "type": "barpolar"
           }
          ],
          "carpet": [
           {
            "aaxis": {
             "endlinecolor": "#A2B1C6",
             "gridcolor": "#506784",
             "linecolor": "#506784",
             "minorgridcolor": "#506784",
             "startlinecolor": "#A2B1C6"
            },
            "baxis": {
             "endlinecolor": "#A2B1C6",
             "gridcolor": "#506784",
             "linecolor": "#506784",
             "minorgridcolor": "#506784",
             "startlinecolor": "#A2B1C6"
            },
            "type": "carpet"
           }
          ],
          "choropleth": [
           {
            "colorbar": {
             "outlinewidth": 0,
             "ticks": ""
            },
            "type": "choropleth"
           }
          ],
          "contour": [
           {
            "colorbar": {
             "outlinewidth": 0,
             "ticks": ""
            },
            "colorscale": [
             [
              0,
              "#0d0887"
             ],
             [
              0.1111111111111111,
              "#46039f"
             ],
             [
              0.2222222222222222,
              "#7201a8"
             ],
             [
              0.3333333333333333,
              "#9c179e"
             ],
             [
              0.4444444444444444,
              "#bd3786"
             ],
             [
              0.5555555555555556,
              "#d8576b"
             ],
             [
              0.6666666666666666,
              "#ed7953"
             ],
             [
              0.7777777777777778,
              "#fb9f3a"
             ],
             [
              0.8888888888888888,
              "#fdca26"
             ],
             [
              1,
              "#f0f921"
             ]
            ],
            "type": "contour"
           }
          ],
          "contourcarpet": [
           {
            "colorbar": {
             "outlinewidth": 0,
             "ticks": ""
            },
            "type": "contourcarpet"
           }
          ],
          "heatmap": [
           {
            "colorbar": {
             "outlinewidth": 0,
             "ticks": ""
            },
            "colorscale": [
             [
              0,
              "#0d0887"
             ],
             [
              0.1111111111111111,
              "#46039f"
             ],
             [
              0.2222222222222222,
              "#7201a8"
             ],
             [
              0.3333333333333333,
              "#9c179e"
             ],
             [
              0.4444444444444444,
              "#bd3786"
             ],
             [
              0.5555555555555556,
              "#d8576b"
             ],
             [
              0.6666666666666666,
              "#ed7953"
             ],
             [
              0.7777777777777778,
              "#fb9f3a"
             ],
             [
              0.8888888888888888,
              "#fdca26"
             ],
             [
              1,
              "#f0f921"
             ]
            ],
            "type": "heatmap"
           }
          ],
          "heatmapgl": [
           {
            "colorbar": {
             "outlinewidth": 0,
             "ticks": ""
            },
            "colorscale": [
             [
              0,
              "#0d0887"
             ],
             [
              0.1111111111111111,
              "#46039f"
             ],
             [
              0.2222222222222222,
              "#7201a8"
             ],
             [
              0.3333333333333333,
              "#9c179e"
             ],
             [
              0.4444444444444444,
              "#bd3786"
             ],
             [
              0.5555555555555556,
              "#d8576b"
             ],
             [
              0.6666666666666666,
              "#ed7953"
             ],
             [
              0.7777777777777778,
              "#fb9f3a"
             ],
             [
              0.8888888888888888,
              "#fdca26"
             ],
             [
              1,
              "#f0f921"
             ]
            ],
            "type": "heatmapgl"
           }
          ],
          "histogram": [
           {
            "marker": {
             "pattern": {
              "fillmode": "overlay",
              "size": 10,
              "solidity": 0.2
             }
            },
            "type": "histogram"
           }
          ],
          "histogram2d": [
           {
            "colorbar": {
             "outlinewidth": 0,
             "ticks": ""
            },
            "colorscale": [
             [
              0,
              "#0d0887"
             ],
             [
              0.1111111111111111,
              "#46039f"
             ],
             [
              0.2222222222222222,
              "#7201a8"
             ],
             [
              0.3333333333333333,
              "#9c179e"
             ],
             [
              0.4444444444444444,
              "#bd3786"
             ],
             [
              0.5555555555555556,
              "#d8576b"
             ],
             [
              0.6666666666666666,
              "#ed7953"
             ],
             [
              0.7777777777777778,
              "#fb9f3a"
             ],
             [
              0.8888888888888888,
              "#fdca26"
             ],
             [
              1,
              "#f0f921"
             ]
            ],
            "type": "histogram2d"
           }
          ],
          "histogram2dcontour": [
           {
            "colorbar": {
             "outlinewidth": 0,
             "ticks": ""
            },
            "colorscale": [
             [
              0,
              "#0d0887"
             ],
             [
              0.1111111111111111,
              "#46039f"
             ],
             [
              0.2222222222222222,
              "#7201a8"
             ],
             [
              0.3333333333333333,
              "#9c179e"
             ],
             [
              0.4444444444444444,
              "#bd3786"
             ],
             [
              0.5555555555555556,
              "#d8576b"
             ],
             [
              0.6666666666666666,
              "#ed7953"
             ],
             [
              0.7777777777777778,
              "#fb9f3a"
             ],
             [
              0.8888888888888888,
              "#fdca26"
             ],
             [
              1,
              "#f0f921"
             ]
            ],
            "type": "histogram2dcontour"
           }
          ],
          "mesh3d": [
           {
            "colorbar": {
             "outlinewidth": 0,
             "ticks": ""
            },
            "type": "mesh3d"
           }
          ],
          "parcoords": [
           {
            "line": {
             "colorbar": {
              "outlinewidth": 0,
              "ticks": ""
             }
            },
            "type": "parcoords"
           }
          ],
          "pie": [
           {
            "automargin": true,
            "type": "pie"
           }
          ],
          "scatter": [
           {
            "marker": {
             "line": {
              "color": "#283442"
             }
            },
            "type": "scatter"
           }
          ],
          "scatter3d": [
           {
            "line": {
             "colorbar": {
              "outlinewidth": 0,
              "ticks": ""
             }
            },
            "marker": {
             "colorbar": {
              "outlinewidth": 0,
              "ticks": ""
             }
            },
            "type": "scatter3d"
           }
          ],
          "scattercarpet": [
           {
            "marker": {
             "colorbar": {
              "outlinewidth": 0,
              "ticks": ""
             }
            },
            "type": "scattercarpet"
           }
          ],
          "scattergeo": [
           {
            "marker": {
             "colorbar": {
              "outlinewidth": 0,
              "ticks": ""
             }
            },
            "type": "scattergeo"
           }
          ],
          "scattergl": [
           {
            "marker": {
             "line": {
              "color": "#283442"
             }
            },
            "type": "scattergl"
           }
          ],
          "scattermapbox": [
           {
            "marker": {
             "colorbar": {
              "outlinewidth": 0,
              "ticks": ""
             }
            },
            "type": "scattermapbox"
           }
          ],
          "scatterpolar": [
           {
            "marker": {
             "colorbar": {
              "outlinewidth": 0,
              "ticks": ""
             }
            },
            "type": "scatterpolar"
           }
          ],
          "scatterpolargl": [
           {
            "marker": {
             "colorbar": {
              "outlinewidth": 0,
              "ticks": ""
             }
            },
            "type": "scatterpolargl"
           }
          ],
          "scatterternary": [
           {
            "marker": {
             "colorbar": {
              "outlinewidth": 0,
              "ticks": ""
             }
            },
            "type": "scatterternary"
           }
          ],
          "surface": [
           {
            "colorbar": {
             "outlinewidth": 0,
             "ticks": ""
            },
            "colorscale": [
             [
              0,
              "#0d0887"
             ],
             [
              0.1111111111111111,
              "#46039f"
             ],
             [
              0.2222222222222222,
              "#7201a8"
             ],
             [
              0.3333333333333333,
              "#9c179e"
             ],
             [
              0.4444444444444444,
              "#bd3786"
             ],
             [
              0.5555555555555556,
              "#d8576b"
             ],
             [
              0.6666666666666666,
              "#ed7953"
             ],
             [
              0.7777777777777778,
              "#fb9f3a"
             ],
             [
              0.8888888888888888,
              "#fdca26"
             ],
             [
              1,
              "#f0f921"
             ]
            ],
            "type": "surface"
           }
          ],
          "table": [
           {
            "cells": {
             "fill": {
              "color": "#506784"
             },
             "line": {
              "color": "rgb(17,17,17)"
             }
            },
            "header": {
             "fill": {
              "color": "#2a3f5f"
             },
             "line": {
              "color": "rgb(17,17,17)"
             }
            },
            "type": "table"
           }
          ]
         },
         "layout": {
          "annotationdefaults": {
           "arrowcolor": "#f2f5fa",
           "arrowhead": 0,
           "arrowwidth": 1
          },
          "autotypenumbers": "strict",
          "coloraxis": {
           "colorbar": {
            "outlinewidth": 0,
            "ticks": ""
           }
          },
          "colorscale": {
           "diverging": [
            [
             0,
             "#8e0152"
            ],
            [
             0.1,
             "#c51b7d"
            ],
            [
             0.2,
             "#de77ae"
            ],
            [
             0.3,
             "#f1b6da"
            ],
            [
             0.4,
             "#fde0ef"
            ],
            [
             0.5,
             "#f7f7f7"
            ],
            [
             0.6,
             "#e6f5d0"
            ],
            [
             0.7,
             "#b8e186"
            ],
            [
             0.8,
             "#7fbc41"
            ],
            [
             0.9,
             "#4d9221"
            ],
            [
             1,
             "#276419"
            ]
           ],
           "sequential": [
            [
             0,
             "#0d0887"
            ],
            [
             0.1111111111111111,
             "#46039f"
            ],
            [
             0.2222222222222222,
             "#7201a8"
            ],
            [
             0.3333333333333333,
             "#9c179e"
            ],
            [
             0.4444444444444444,
             "#bd3786"
            ],
            [
             0.5555555555555556,
             "#d8576b"
            ],
            [
             0.6666666666666666,
             "#ed7953"
            ],
            [
             0.7777777777777778,
             "#fb9f3a"
            ],
            [
             0.8888888888888888,
             "#fdca26"
            ],
            [
             1,
             "#f0f921"
            ]
           ],
           "sequentialminus": [
            [
             0,
             "#0d0887"
            ],
            [
             0.1111111111111111,
             "#46039f"
            ],
            [
             0.2222222222222222,
             "#7201a8"
            ],
            [
             0.3333333333333333,
             "#9c179e"
            ],
            [
             0.4444444444444444,
             "#bd3786"
            ],
            [
             0.5555555555555556,
             "#d8576b"
            ],
            [
             0.6666666666666666,
             "#ed7953"
            ],
            [
             0.7777777777777778,
             "#fb9f3a"
            ],
            [
             0.8888888888888888,
             "#fdca26"
            ],
            [
             1,
             "#f0f921"
            ]
           ]
          },
          "colorway": [
           "#636efa",
           "#EF553B",
           "#00cc96",
           "#ab63fa",
           "#FFA15A",
           "#19d3f3",
           "#FF6692",
           "#B6E880",
           "#FF97FF",
           "#FECB52"
          ],
          "font": {
           "color": "#f2f5fa"
          },
          "geo": {
           "bgcolor": "rgb(17,17,17)",
           "lakecolor": "rgb(17,17,17)",
           "landcolor": "rgb(17,17,17)",
           "showlakes": true,
           "showland": true,
           "subunitcolor": "#506784"
          },
          "hoverlabel": {
           "align": "left"
          },
          "hovermode": "closest",
          "mapbox": {
           "style": "dark"
          },
          "paper_bgcolor": "rgb(17,17,17)",
          "plot_bgcolor": "rgb(17,17,17)",
          "polar": {
           "angularaxis": {
            "gridcolor": "#506784",
            "linecolor": "#506784",
            "ticks": ""
           },
           "bgcolor": "rgb(17,17,17)",
           "radialaxis": {
            "gridcolor": "#506784",
            "linecolor": "#506784",
            "ticks": ""
           }
          },
          "scene": {
           "xaxis": {
            "backgroundcolor": "rgb(17,17,17)",
            "gridcolor": "#506784",
            "gridwidth": 2,
            "linecolor": "#506784",
            "showbackground": true,
            "ticks": "",
            "zerolinecolor": "#C8D4E3"
           },
           "yaxis": {
            "backgroundcolor": "rgb(17,17,17)",
            "gridcolor": "#506784",
            "gridwidth": 2,
            "linecolor": "#506784",
            "showbackground": true,
            "ticks": "",
            "zerolinecolor": "#C8D4E3"
           },
           "zaxis": {
            "backgroundcolor": "rgb(17,17,17)",
            "gridcolor": "#506784",
            "gridwidth": 2,
            "linecolor": "#506784",
            "showbackground": true,
            "ticks": "",
            "zerolinecolor": "#C8D4E3"
           }
          },
          "shapedefaults": {
           "line": {
            "color": "#f2f5fa"
           }
          },
          "sliderdefaults": {
           "bgcolor": "#C8D4E3",
           "bordercolor": "rgb(17,17,17)",
           "borderwidth": 1,
           "tickwidth": 0
          },
          "ternary": {
           "aaxis": {
            "gridcolor": "#506784",
            "linecolor": "#506784",
            "ticks": ""
           },
           "baxis": {
            "gridcolor": "#506784",
            "linecolor": "#506784",
            "ticks": ""
           },
           "bgcolor": "rgb(17,17,17)",
           "caxis": {
            "gridcolor": "#506784",
            "linecolor": "#506784",
            "ticks": ""
           }
          },
          "title": {
           "x": 0.05
          },
          "updatemenudefaults": {
           "bgcolor": "#506784",
           "borderwidth": 0
          },
          "xaxis": {
           "automargin": true,
           "gridcolor": "#283442",
           "linecolor": "#506784",
           "ticks": "",
           "title": {
            "standoff": 15
           },
           "zerolinecolor": "#283442",
           "zerolinewidth": 2
          },
          "yaxis": {
           "automargin": true,
           "gridcolor": "#283442",
           "linecolor": "#506784",
           "ticks": "",
           "title": {
            "standoff": 15
           },
           "zerolinecolor": "#283442",
           "zerolinewidth": 2
          }
         }
        },
        "width": 800,
        "xaxis": {
         "anchor": "y",
         "constrain": "domain",
         "domain": [
          0,
          1
         ],
         "scaleanchor": "y"
        },
        "yaxis": {
         "anchor": "x",
         "autorange": "reversed",
         "constrain": "domain",
         "domain": [
          0,
          1
         ],
         "title": {
          "text": "rs2_bin"
         }
        }
       }
      }
     },
     "metadata": {},
     "output_type": "display_data"
    }
   ],
   "source": [
    "fig = px.imshow(pd.pivot_table(dff[['rs2_bin','emi_no','DPD_plus_15_next']],index = 'rs2_bin',\n",
    "               columns = 'emi_no',aggfunc ='sum'), text_auto=True, width=800, height=400)\n",
    "fig.show()"
   ]
  },
  {
   "cell_type": "code",
   "execution_count": null,
   "metadata": {},
   "outputs": [],
   "source": [
    "dff.groupby(['rs2_bin','emi_no'])['DPD_plus_15_next'].sum()"
   ]
  },
  {
   "cell_type": "code",
   "execution_count": null,
   "metadata": {},
   "outputs": [],
   "source": []
  },
  {
   "cell_type": "code",
   "execution_count": 50,
   "metadata": {},
   "outputs": [],
   "source": [
    "# # All cycles\n",
    "# print('count of DPD_plus_15 - ',dff['DPD_plus_15'].sum())\n",
    "# print('count of all cycles - ',len(dff))\n",
    "# print('DPD_plus_15 % -',dff['DPD_plus_15'].sum()/len(dff))"
   ]
  },
  {
   "cell_type": "code",
   "execution_count": 51,
   "metadata": {},
   "outputs": [],
   "source": [
    "# # At Business_id level\n",
    "# biz_df = dff.groupby(['business_id'], as_index=False).agg(DPD_plus_3_count = ('DPD_plus_3','sum'), DPD_plus_15_count = ('DPD_plus_15', 'sum'), count_of_cycles = ('DPD_plus_15','count')).reset_index()\n",
    "# biz_df['DPD_plus_3_%'] = (biz_df['DPD_plus_3_count']/biz_df['count_of_cycles'])*100\n",
    "# biz_df['DPD_plus_15_%'] = (biz_df['DPD_plus_15_count']/biz_df['count_of_cycles'])*100\n",
    "# biz_df.sort_values(by='DPD_plus_15_%',ascending=False).reset_index()"
   ]
  },
  {
   "cell_type": "code",
   "execution_count": 52,
   "metadata": {},
   "outputs": [],
   "source": [
    "# print(biz_df[biz_df['DPD_plus_3_count']>0].shape)\n",
    "# print(biz_df[biz_df['DPD_plus_15_count']>0].shape)\n",
    "# print(biz_df.shape)\n",
    "# # print(biz_df[biz_df['DPD_plus_15_count']>0])"
   ]
  },
  {
   "cell_type": "code",
   "execution_count": 53,
   "metadata": {},
   "outputs": [],
   "source": [
    "# # Excluding 1st & 2nd cycle\n",
    "# exc = dff[~(dff['emi_no'].isin([1,2]))]\n",
    "# print('count of DPD_plus_15 - ',exc['DPD_plus_15'].sum())\n",
    "# print('count of all cycles - ',len(exc))\n",
    "# print('DPD_plus_15 % -',exc['DPD_plus_15'].sum()/len(exc))"
   ]
  },
  {
   "cell_type": "code",
   "execution_count": null,
   "metadata": {},
   "outputs": [],
   "source": []
  },
  {
   "cell_type": "code",
   "execution_count": 54,
   "metadata": {},
   "outputs": [],
   "source": [
    "# temp = dff[~(dff['emi_no'].isin([1,6]))]\n",
    "# print(temp.shape)\n",
    "# print(temp['DPD_plus_15_next'].sum())"
   ]
  },
  {
   "cell_type": "code",
   "execution_count": null,
   "metadata": {},
   "outputs": [],
   "source": []
  },
  {
   "cell_type": "code",
   "execution_count": 55,
   "metadata": {},
   "outputs": [],
   "source": [
    "# At Business_id level\n"
   ]
  },
  {
   "cell_type": "code",
   "execution_count": 197,
   "metadata": {},
   "outputs": [],
   "source": [
    "# dff.to_pickle(\"/Users/shashankgupta/Documents/code/git_project/re_decisioning/Data/dataset_2.pkl\")  "
   ]
  }
 ],
 "metadata": {
  "kernelspec": {
   "display_name": "Python 3.10.5 64-bit",
   "language": "python",
   "name": "python3"
  },
  "language_info": {
   "codemirror_mode": {
    "name": "ipython",
    "version": 3
   },
   "file_extension": ".py",
   "mimetype": "text/x-python",
   "name": "python",
   "nbconvert_exporter": "python",
   "pygments_lexer": "ipython3",
   "version": "3.10.5"
  },
  "orig_nbformat": 4,
  "vscode": {
   "interpreter": {
    "hash": "aee8b7b246df8f9039afb4144a1f6fd8d2ca17a180786b69acc140d282b71a49"
   }
  }
 },
 "nbformat": 4,
 "nbformat_minor": 2
}
