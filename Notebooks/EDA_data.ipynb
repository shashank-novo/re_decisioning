{
 "cells": [
  {
   "cell_type": "code",
   "execution_count": 1,
   "metadata": {},
   "outputs": [
    {
     "name": "stdout",
     "output_type": "stream",
     "text": [
      "/Users/shashankgupta/Documents/code/git_project/redec/re_decisioning\n",
      "/Users/shashankgupta/Documents/code/git_project/redec/re_decisioning/Code\n"
     ]
    }
   ],
   "source": [
    "import os \n",
    "cwd = os.getcwd()\n",
    "\n",
    "os.chdir('../')\n",
    "cwd = os.getcwd()\n",
    "print(cwd)\n",
    " \n",
    "os.chdir('./code/')\n",
    "cwd = os.getcwd()\n",
    "print(cwd)\n",
    "\n",
    "import pandas as pd \n",
    "import numpy as np \n",
    "import seaborn as sns\n",
    "\n",
    "import pickle \n",
    "import logging\n",
    "\n",
    "\n",
    "from config.config import SQLQuery\n",
    "querySno = SQLQuery('snowflake')"
   ]
  },
  {
   "cell_type": "code",
   "execution_count": 2,
   "metadata": {},
   "outputs": [],
   "source": [
    "import sys\n",
    "# sys.path.insert(0, '/Users/sarfrazahmed/Documents/projects/deposit-model/conf')\n",
    "import pandas as pd\n",
    "import numpy as np\n",
    "import chart_studio.plotly as py \n",
    "from datetime import timedelta\n",
    "import cufflinks as cf\n",
    "import plotly.express as px\n",
    "import plotly.graph_objects as go\n",
    "import plotly.figure_factory as ff\n",
    "import plotly.io as pio\n",
    "from pandas_profiling import ProfileReport\n",
    "pio.templates.default = 'plotly_dark'\n",
    "pd.set_option('display.max_rows', 500)\n",
    "pd.set_option('display.max_columns', 500)\n",
    "color_map = {'high': '#ef553b', 'low': '#636efa'}\n",
    "import datetime\n",
    "import pytz"
   ]
  },
  {
   "cell_type": "code",
   "execution_count": 3,
   "metadata": {},
   "outputs": [],
   "source": [
    "df = pd.read_pickle('/Users/shashankgupta/Documents/code/git_project/redec/re_decisioning/Data/dataset_21.pkl')"
   ]
  },
  {
   "cell_type": "code",
   "execution_count": 4,
   "metadata": {},
   "outputs": [
    {
     "data": {
      "text/plain": [
       "(4925, 127)"
      ]
     },
     "execution_count": 4,
     "metadata": {},
     "output_type": "execute_result"
    }
   ],
   "source": [
    "df.shape"
   ]
  },
  {
   "cell_type": "code",
   "execution_count": 5,
   "metadata": {},
   "outputs": [
    {
     "data": {
      "text/html": [
       "<div>\n",
       "<style scoped>\n",
       "    .dataframe tbody tr th:only-of-type {\n",
       "        vertical-align: middle;\n",
       "    }\n",
       "\n",
       "    .dataframe tbody tr th {\n",
       "        vertical-align: top;\n",
       "    }\n",
       "\n",
       "    .dataframe thead th {\n",
       "        text-align: right;\n",
       "    }\n",
       "</style>\n",
       "<table border=\"1\" class=\"dataframe\">\n",
       "  <thead>\n",
       "    <tr style=\"text-align: right;\">\n",
       "      <th></th>\n",
       "      <th>business_id</th>\n",
       "      <th>due_date</th>\n",
       "      <th>DPD_plus_15_next</th>\n",
       "      <th>DPD_plus_3_last_2</th>\n",
       "      <th>DPD_plus_15_prev</th>\n",
       "      <th>emi_no</th>\n",
       "      <th>DPD_plus_3</th>\n",
       "      <th>count_pd_deposit_1m</th>\n",
       "      <th>count_ach_debit_1m</th>\n",
       "      <th>count_ach_credit_1m</th>\n",
       "      <th>count_card_withdrawal_1m</th>\n",
       "      <th>count_mrdc_credit_1m</th>\n",
       "      <th>count_pd_deposit_2m</th>\n",
       "      <th>count_ach_debit_2m</th>\n",
       "      <th>count_ach_credit_2m</th>\n",
       "      <th>count_card_withdrawal_2m</th>\n",
       "      <th>count_mrdc_credit_2m</th>\n",
       "      <th>amount_pd_deposit_1m</th>\n",
       "      <th>amount_ach_debit_1m</th>\n",
       "      <th>amount_ach_credit_1m</th>\n",
       "      <th>amount_card_withdrawal_1m</th>\n",
       "      <th>amount_mrdc_credit_1m</th>\n",
       "      <th>amount_pd_deposit_2m</th>\n",
       "      <th>amount_ach_debit_2m</th>\n",
       "      <th>amount_ach_credit_2m</th>\n",
       "      <th>amount_card_withdrawal_2m</th>\n",
       "      <th>amount_mrdc_credit_2m</th>\n",
       "      <th>pd_deposit_size_1m</th>\n",
       "      <th>ach_debit_size_1m</th>\n",
       "      <th>ach_credit_size_1m</th>\n",
       "      <th>card_withdrawal_size_1m</th>\n",
       "      <th>mrdc_credit_size_1m</th>\n",
       "      <th>pd_deposit_size_2m</th>\n",
       "      <th>ach_debit_size_2m</th>\n",
       "      <th>ach_credit_size_2m</th>\n",
       "      <th>card_withdrawal_size_2m</th>\n",
       "      <th>mrdc_credit_size_2m</th>\n",
       "      <th>amount_credited_1m</th>\n",
       "      <th>distinct_credit_txns_1m</th>\n",
       "      <th>credit_size_1m</th>\n",
       "      <th>median_amount_credited_1m</th>\n",
       "      <th>stddev_amount_credited_1m</th>\n",
       "      <th>amount_credited_2m</th>\n",
       "      <th>distinct_credit_txns_2m</th>\n",
       "      <th>credit_size_2m</th>\n",
       "      <th>median_amount_credited_2m</th>\n",
       "      <th>stddev_amount_credited_2m</th>\n",
       "      <th>amount_debited_1m</th>\n",
       "      <th>distinct_debit_txns_1m</th>\n",
       "      <th>debit_size_1m</th>\n",
       "      <th>median_amount_debited_1m</th>\n",
       "      <th>stddev_amount_debited_1m</th>\n",
       "      <th>amount_debited_2m</th>\n",
       "      <th>distinct_debit_txns_2m</th>\n",
       "      <th>debit_size_2m</th>\n",
       "      <th>median_amount_debited_2m</th>\n",
       "      <th>stddev_amount_debited_2m</th>\n",
       "      <th>ratio_debit_credit_1m</th>\n",
       "      <th>ratio_debit_credit_frequency_1m</th>\n",
       "      <th>ratio_debit_credit_2m</th>\n",
       "      <th>ratio_debit_credit_frequency_2m</th>\n",
       "      <th>ratio_pd_amt_total_credit_1m</th>\n",
       "      <th>ratio_ach_debit_total_debit_1m</th>\n",
       "      <th>ratio_ach_credit_total_credit_1m</th>\n",
       "      <th>ratio_card_withdrawal_total_debit_1m</th>\n",
       "      <th>ratio_mrdc_credit_total_credit_1m</th>\n",
       "      <th>ratio_pd_amt_total_credit_2m</th>\n",
       "      <th>ratio_ach_debit_total_debit_2m</th>\n",
       "      <th>ratio_ach_credit_total_credit_2m</th>\n",
       "      <th>ratio_card_withdrawal_total_debit_2m</th>\n",
       "      <th>ratio_mrdc_credit_total_credit_2m</th>\n",
       "      <th>ratio_pd_freq_total_credit_1m</th>\n",
       "      <th>ratio_ach_debit_freq_total_debit_1m</th>\n",
       "      <th>ratio_ach_credit_freq_total_credit_1m</th>\n",
       "      <th>ratio_card_withdrawal_freq_total_debit_1m</th>\n",
       "      <th>ratio_mrdc_credit_freq_total_credit_1m</th>\n",
       "      <th>ratio_pd_freq_total_credit_2m</th>\n",
       "      <th>ratio_ach_debit_freq_total_debit_2m</th>\n",
       "      <th>ratio_ach_credit_freq_total_credit_2m</th>\n",
       "      <th>ratio_card_withdrawal_freq_total_debit_2m</th>\n",
       "      <th>ratio_mrdc_credit_freq_total_credit_2m</th>\n",
       "      <th>ratio_ach_debit_credit_1m</th>\n",
       "      <th>ratio_ach_debit_credit_2m</th>\n",
       "      <th>ratio_ach_debit_credit_freq_1m</th>\n",
       "      <th>ratio_ach_debit_credit_freq_2m</th>\n",
       "      <th>ach_d_size_1m</th>\n",
       "      <th>ach_d_size_2m</th>\n",
       "      <th>ach_c_size_1m</th>\n",
       "      <th>ach_c_size_2m</th>\n",
       "      <th>od_count_1m</th>\n",
       "      <th>zero_balance_count_1m</th>\n",
       "      <th>avg_running_balance_1m</th>\n",
       "      <th>median_running_balance_1m</th>\n",
       "      <th>stddev_running_balance_1m</th>\n",
       "      <th>od_count_2m</th>\n",
       "      <th>zero_balance_count_2m</th>\n",
       "      <th>avg_running_balance_2m</th>\n",
       "      <th>median_running_balance_2m</th>\n",
       "      <th>stddev_running_balance_2m</th>\n",
       "      <th>avg_running_balance_2nd_m</th>\n",
       "      <th>median_running_balance_2nd_m</th>\n",
       "      <th>stddev_running_balance_2nd_m</th>\n",
       "      <th>ratio_avg_running_balance_1m_2m</th>\n",
       "      <th>revenue_past_1m</th>\n",
       "      <th>revenue_past_2m</th>\n",
       "      <th>total_revenue_2m</th>\n",
       "      <th>ratio_revenue_1m_2m</th>\n",
       "      <th>credit_limit</th>\n",
       "      <th>amount_drawn_1m_prev</th>\n",
       "      <th>amount_drawn_2m_prev</th>\n",
       "      <th>amount_cashin_1m_prev</th>\n",
       "      <th>amount_cashin_2m_prev</th>\n",
       "      <th>distinct_draws_1m_prev</th>\n",
       "      <th>distinct_draws_2m_prev</th>\n",
       "      <th>distinct_cashins_1m_prev</th>\n",
       "      <th>distinct_cashins_2m_prev</th>\n",
       "      <th>ratio_amt_drawn_mom</th>\n",
       "      <th>ratio_amt_cashin_mom</th>\n",
       "      <th>ratio_count_drawn_mom</th>\n",
       "      <th>ratio_count_cashin_mom</th>\n",
       "      <th>pilot_flag</th>\n",
       "      <th>pilot_period_flag</th>\n",
       "      <th>rs2_bin</th>\n",
       "      <th>rs2_score</th>\n",
       "      <th>fico_score</th>\n",
       "      <th>rs1_score</th>\n",
       "      <th>rs1_bin</th>\n",
       "    </tr>\n",
       "  </thead>\n",
       "  <tbody>\n",
       "    <tr>\n",
       "      <th>0</th>\n",
       "      <td>c616b39b-aef7-4156-973a-08278aa74536</td>\n",
       "      <td>2023-04-03</td>\n",
       "      <td>0.0</td>\n",
       "      <td>0.0</td>\n",
       "      <td>0.0</td>\n",
       "      <td>1</td>\n",
       "      <td>0</td>\n",
       "      <td>0.0</td>\n",
       "      <td>1.0</td>\n",
       "      <td>0.0</td>\n",
       "      <td>35.0</td>\n",
       "      <td>0.0</td>\n",
       "      <td>0.0</td>\n",
       "      <td>1.0</td>\n",
       "      <td>0.0</td>\n",
       "      <td>38.0</td>\n",
       "      <td>0.0</td>\n",
       "      <td>0.00</td>\n",
       "      <td>295.36</td>\n",
       "      <td>0.00</td>\n",
       "      <td>3962.06</td>\n",
       "      <td>0.0</td>\n",
       "      <td>0.00</td>\n",
       "      <td>295.36</td>\n",
       "      <td>0.00</td>\n",
       "      <td>4102.83</td>\n",
       "      <td>0.0</td>\n",
       "      <td>0.000000</td>\n",
       "      <td>147.680000</td>\n",
       "      <td>0.000000</td>\n",
       "      <td>110.057222</td>\n",
       "      <td>0.0</td>\n",
       "      <td>0.000000</td>\n",
       "      <td>147.680000</td>\n",
       "      <td>0.00000</td>\n",
       "      <td>105.200769</td>\n",
       "      <td>0.0</td>\n",
       "      <td>1800.00</td>\n",
       "      <td>2.0</td>\n",
       "      <td>600.000000</td>\n",
       "      <td>0.00</td>\n",
       "      <td>195.239512</td>\n",
       "      <td>2800.00</td>\n",
       "      <td>3.0</td>\n",
       "      <td>700.000000</td>\n",
       "      <td>0.00</td>\n",
       "      <td>244.616840</td>\n",
       "      <td>4257.42</td>\n",
       "      <td>36.0</td>\n",
       "      <td>115.065405</td>\n",
       "      <td>35.885</td>\n",
       "      <td>192.561543</td>\n",
       "      <td>4398.19</td>\n",
       "      <td>39.0</td>\n",
       "      <td>109.954750</td>\n",
       "      <td>42.995</td>\n",
       "      <td>191.137528</td>\n",
       "      <td>2.363920</td>\n",
       "      <td>12.000000</td>\n",
       "      <td>1.570221</td>\n",
       "      <td>9.750000</td>\n",
       "      <td>0.000000</td>\n",
       "      <td>0.069375</td>\n",
       "      <td>0.000000</td>\n",
       "      <td>0.930625</td>\n",
       "      <td>0.0</td>\n",
       "      <td>0.000000</td>\n",
       "      <td>0.067155</td>\n",
       "      <td>0.000000</td>\n",
       "      <td>0.932845</td>\n",
       "      <td>0.0</td>\n",
       "      <td>0.000000</td>\n",
       "      <td>0.027027</td>\n",
       "      <td>0.000000</td>\n",
       "      <td>0.945946</td>\n",
       "      <td>0.0</td>\n",
       "      <td>0.000000</td>\n",
       "      <td>0.025000</td>\n",
       "      <td>0.000000</td>\n",
       "      <td>0.950000</td>\n",
       "      <td>0.0</td>\n",
       "      <td>295.360000</td>\n",
       "      <td>295.360000</td>\n",
       "      <td>1.000000</td>\n",
       "      <td>1.000000</td>\n",
       "      <td>147.680000</td>\n",
       "      <td>147.680000</td>\n",
       "      <td>0.000000</td>\n",
       "      <td>0.00000</td>\n",
       "      <td>0</td>\n",
       "      <td>0</td>\n",
       "      <td>17343.575172</td>\n",
       "      <td>17568.71</td>\n",
       "      <td>1354.838310</td>\n",
       "      <td>0</td>\n",
       "      <td>0</td>\n",
       "      <td>17523.418567</td>\n",
       "      <td>17568.71</td>\n",
       "      <td>1664.854324</td>\n",
       "      <td>19435.753333</td>\n",
       "      <td>21236.060</td>\n",
       "      <td>2998.968352</td>\n",
       "      <td>0.892308</td>\n",
       "      <td>12494.28</td>\n",
       "      <td>0.00</td>\n",
       "      <td>12494.28</td>\n",
       "      <td>12494.280000</td>\n",
       "      <td>11600.0</td>\n",
       "      <td>1000.0</td>\n",
       "      <td>2800.0</td>\n",
       "      <td>2884.00</td>\n",
       "      <td>0.00</td>\n",
       "      <td>1.0</td>\n",
       "      <td>3.0</td>\n",
       "      <td>2.0</td>\n",
       "      <td>0.0</td>\n",
       "      <td>0.357015</td>\n",
       "      <td>2884.000000</td>\n",
       "      <td>0.25</td>\n",
       "      <td>2.000000</td>\n",
       "      <td>0</td>\n",
       "      <td>0</td>\n",
       "      <td>5</td>\n",
       "      <td>971.0</td>\n",
       "      <td>749.0</td>\n",
       "      <td>966.614760</td>\n",
       "      <td>5</td>\n",
       "    </tr>\n",
       "    <tr>\n",
       "      <th>1</th>\n",
       "      <td>cc861415-fd34-4654-8b97-dab0794938dc</td>\n",
       "      <td>2023-04-03</td>\n",
       "      <td>0.0</td>\n",
       "      <td>0.0</td>\n",
       "      <td>0.0</td>\n",
       "      <td>1</td>\n",
       "      <td>0</td>\n",
       "      <td>0.0</td>\n",
       "      <td>14.0</td>\n",
       "      <td>4.0</td>\n",
       "      <td>31.0</td>\n",
       "      <td>0.0</td>\n",
       "      <td>0.0</td>\n",
       "      <td>15.0</td>\n",
       "      <td>4.0</td>\n",
       "      <td>31.0</td>\n",
       "      <td>0.0</td>\n",
       "      <td>0.00</td>\n",
       "      <td>10562.34</td>\n",
       "      <td>15750.00</td>\n",
       "      <td>1948.69</td>\n",
       "      <td>0.0</td>\n",
       "      <td>0.00</td>\n",
       "      <td>10902.18</td>\n",
       "      <td>15750.00</td>\n",
       "      <td>1948.69</td>\n",
       "      <td>0.0</td>\n",
       "      <td>0.000000</td>\n",
       "      <td>704.156000</td>\n",
       "      <td>3150.000000</td>\n",
       "      <td>60.896563</td>\n",
       "      <td>0.0</td>\n",
       "      <td>0.000000</td>\n",
       "      <td>681.386250</td>\n",
       "      <td>3150.00000</td>\n",
       "      <td>60.896563</td>\n",
       "      <td>0.0</td>\n",
       "      <td>15778.25</td>\n",
       "      <td>5.0</td>\n",
       "      <td>2629.708333</td>\n",
       "      <td>0.00</td>\n",
       "      <td>1028.030619</td>\n",
       "      <td>20778.25</td>\n",
       "      <td>6.0</td>\n",
       "      <td>2968.321429</td>\n",
       "      <td>0.00</td>\n",
       "      <td>1170.168024</td>\n",
       "      <td>17355.78</td>\n",
       "      <td>62.0</td>\n",
       "      <td>275.488571</td>\n",
       "      <td>74.440</td>\n",
       "      <td>482.237717</td>\n",
       "      <td>20519.12</td>\n",
       "      <td>67.0</td>\n",
       "      <td>301.751765</td>\n",
       "      <td>101.750</td>\n",
       "      <td>546.701343</td>\n",
       "      <td>1.099912</td>\n",
       "      <td>10.333333</td>\n",
       "      <td>0.987481</td>\n",
       "      <td>9.571429</td>\n",
       "      <td>0.000000</td>\n",
       "      <td>0.608578</td>\n",
       "      <td>0.998210</td>\n",
       "      <td>0.112279</td>\n",
       "      <td>0.0</td>\n",
       "      <td>0.000000</td>\n",
       "      <td>0.531318</td>\n",
       "      <td>0.758004</td>\n",
       "      <td>0.094969</td>\n",
       "      <td>0.0</td>\n",
       "      <td>0.000000</td>\n",
       "      <td>0.222222</td>\n",
       "      <td>0.666667</td>\n",
       "      <td>0.492063</td>\n",
       "      <td>0.0</td>\n",
       "      <td>0.000000</td>\n",
       "      <td>0.220588</td>\n",
       "      <td>0.571429</td>\n",
       "      <td>0.455882</td>\n",
       "      <td>0.0</td>\n",
       "      <td>0.670582</td>\n",
       "      <td>0.692158</td>\n",
       "      <td>2.800000</td>\n",
       "      <td>3.000000</td>\n",
       "      <td>704.156000</td>\n",
       "      <td>681.386250</td>\n",
       "      <td>3150.000000</td>\n",
       "      <td>3150.00000</td>\n",
       "      <td>0</td>\n",
       "      <td>0</td>\n",
       "      <td>3901.500094</td>\n",
       "      <td>3885.32</td>\n",
       "      <td>920.496885</td>\n",
       "      <td>0</td>\n",
       "      <td>0</td>\n",
       "      <td>3751.717020</td>\n",
       "      <td>3885.32</td>\n",
       "      <td>1045.185790</td>\n",
       "      <td>2159.023667</td>\n",
       "      <td>2122.430</td>\n",
       "      <td>973.031285</td>\n",
       "      <td>1.806230</td>\n",
       "      <td>12726.61</td>\n",
       "      <td>15778.25</td>\n",
       "      <td>28504.86</td>\n",
       "      <td>0.806541</td>\n",
       "      <td>18500.0</td>\n",
       "      <td>2600.0</td>\n",
       "      <td>5000.0</td>\n",
       "      <td>2433.33</td>\n",
       "      <td>0.00</td>\n",
       "      <td>1.0</td>\n",
       "      <td>1.0</td>\n",
       "      <td>2.0</td>\n",
       "      <td>0.0</td>\n",
       "      <td>0.519896</td>\n",
       "      <td>2433.330000</td>\n",
       "      <td>0.50</td>\n",
       "      <td>2.000000</td>\n",
       "      <td>0</td>\n",
       "      <td>0</td>\n",
       "      <td>5</td>\n",
       "      <td>822.0</td>\n",
       "      <td>670.0</td>\n",
       "      <td>886.233904</td>\n",
       "      <td>5</td>\n",
       "    </tr>\n",
       "    <tr>\n",
       "      <th>2</th>\n",
       "      <td>4d7e9b73-dd94-4fdc-9611-51ec641b8e19</td>\n",
       "      <td>2023-04-03</td>\n",
       "      <td>0.0</td>\n",
       "      <td>1.0</td>\n",
       "      <td>0.0</td>\n",
       "      <td>1</td>\n",
       "      <td>1</td>\n",
       "      <td>0.0</td>\n",
       "      <td>1.0</td>\n",
       "      <td>0.0</td>\n",
       "      <td>0.0</td>\n",
       "      <td>0.0</td>\n",
       "      <td>0.0</td>\n",
       "      <td>2.0</td>\n",
       "      <td>0.0</td>\n",
       "      <td>0.0</td>\n",
       "      <td>0.0</td>\n",
       "      <td>0.00</td>\n",
       "      <td>149.81</td>\n",
       "      <td>0.00</td>\n",
       "      <td>0.00</td>\n",
       "      <td>0.0</td>\n",
       "      <td>0.00</td>\n",
       "      <td>754.56</td>\n",
       "      <td>0.00</td>\n",
       "      <td>0.00</td>\n",
       "      <td>0.0</td>\n",
       "      <td>0.000000</td>\n",
       "      <td>74.905000</td>\n",
       "      <td>0.000000</td>\n",
       "      <td>0.000000</td>\n",
       "      <td>0.0</td>\n",
       "      <td>0.000000</td>\n",
       "      <td>251.520000</td>\n",
       "      <td>0.00000</td>\n",
       "      <td>0.000000</td>\n",
       "      <td>0.0</td>\n",
       "      <td>16500.00</td>\n",
       "      <td>2.0</td>\n",
       "      <td>5500.000000</td>\n",
       "      <td>0.00</td>\n",
       "      <td>2542.495962</td>\n",
       "      <td>21900.00</td>\n",
       "      <td>3.0</td>\n",
       "      <td>5475.000000</td>\n",
       "      <td>0.00</td>\n",
       "      <td>2725.540575</td>\n",
       "      <td>24020.21</td>\n",
       "      <td>17.0</td>\n",
       "      <td>1334.456111</td>\n",
       "      <td>828.440</td>\n",
       "      <td>1278.560558</td>\n",
       "      <td>24624.96</td>\n",
       "      <td>18.0</td>\n",
       "      <td>1296.050526</td>\n",
       "      <td>828.440</td>\n",
       "      <td>1258.157373</td>\n",
       "      <td>1.455682</td>\n",
       "      <td>5.666667</td>\n",
       "      <td>1.124376</td>\n",
       "      <td>4.500000</td>\n",
       "      <td>0.000000</td>\n",
       "      <td>0.006237</td>\n",
       "      <td>0.000000</td>\n",
       "      <td>0.000000</td>\n",
       "      <td>0.0</td>\n",
       "      <td>0.000000</td>\n",
       "      <td>0.030642</td>\n",
       "      <td>0.000000</td>\n",
       "      <td>0.000000</td>\n",
       "      <td>0.0</td>\n",
       "      <td>0.000000</td>\n",
       "      <td>0.055556</td>\n",
       "      <td>0.000000</td>\n",
       "      <td>0.000000</td>\n",
       "      <td>0.0</td>\n",
       "      <td>0.000000</td>\n",
       "      <td>0.105263</td>\n",
       "      <td>0.000000</td>\n",
       "      <td>0.000000</td>\n",
       "      <td>0.0</td>\n",
       "      <td>149.810000</td>\n",
       "      <td>754.560000</td>\n",
       "      <td>1.000000</td>\n",
       "      <td>2.000000</td>\n",
       "      <td>74.905000</td>\n",
       "      <td>251.520000</td>\n",
       "      <td>0.000000</td>\n",
       "      <td>0.00000</td>\n",
       "      <td>0</td>\n",
       "      <td>265</td>\n",
       "      <td>391.722727</td>\n",
       "      <td>0.00</td>\n",
       "      <td>1409.751541</td>\n",
       "      <td>0</td>\n",
       "      <td>265</td>\n",
       "      <td>811.492264</td>\n",
       "      <td>0.00</td>\n",
       "      <td>2011.560183</td>\n",
       "      <td>5275.041667</td>\n",
       "      <td>5080.880</td>\n",
       "      <td>2053.065068</td>\n",
       "      <td>0.074246</td>\n",
       "      <td>1600.00</td>\n",
       "      <td>10000.00</td>\n",
       "      <td>11600.00</td>\n",
       "      <td>0.159984</td>\n",
       "      <td>11900.0</td>\n",
       "      <td>0.0</td>\n",
       "      <td>11900.0</td>\n",
       "      <td>2196.83</td>\n",
       "      <td>0.00</td>\n",
       "      <td>0.0</td>\n",
       "      <td>2.0</td>\n",
       "      <td>2.0</td>\n",
       "      <td>0.0</td>\n",
       "      <td>0.000000</td>\n",
       "      <td>2196.830000</td>\n",
       "      <td>0.00</td>\n",
       "      <td>2.000000</td>\n",
       "      <td>0</td>\n",
       "      <td>0</td>\n",
       "      <td>5</td>\n",
       "      <td>850.0</td>\n",
       "      <td>722.0</td>\n",
       "      <td>810.794650</td>\n",
       "      <td>5</td>\n",
       "    </tr>\n",
       "    <tr>\n",
       "      <th>3</th>\n",
       "      <td>2e3c32e2-1f1b-4d0f-a7c2-8dcdb11c6317</td>\n",
       "      <td>2023-04-03</td>\n",
       "      <td>0.0</td>\n",
       "      <td>0.0</td>\n",
       "      <td>0.0</td>\n",
       "      <td>1</td>\n",
       "      <td>0</td>\n",
       "      <td>3.0</td>\n",
       "      <td>19.0</td>\n",
       "      <td>21.0</td>\n",
       "      <td>42.0</td>\n",
       "      <td>0.0</td>\n",
       "      <td>3.0</td>\n",
       "      <td>20.0</td>\n",
       "      <td>22.0</td>\n",
       "      <td>42.0</td>\n",
       "      <td>0.0</td>\n",
       "      <td>981.80</td>\n",
       "      <td>2645.55</td>\n",
       "      <td>5365.49</td>\n",
       "      <td>4872.08</td>\n",
       "      <td>0.0</td>\n",
       "      <td>981.80</td>\n",
       "      <td>2955.55</td>\n",
       "      <td>5568.55</td>\n",
       "      <td>4872.08</td>\n",
       "      <td>0.0</td>\n",
       "      <td>245.450000</td>\n",
       "      <td>132.277500</td>\n",
       "      <td>243.885909</td>\n",
       "      <td>113.304186</td>\n",
       "      <td>0.0</td>\n",
       "      <td>245.450000</td>\n",
       "      <td>140.740476</td>\n",
       "      <td>242.11087</td>\n",
       "      <td>113.304186</td>\n",
       "      <td>0.0</td>\n",
       "      <td>8812.37</td>\n",
       "      <td>30.0</td>\n",
       "      <td>284.270000</td>\n",
       "      <td>0.00</td>\n",
       "      <td>220.698407</td>\n",
       "      <td>9315.43</td>\n",
       "      <td>32.0</td>\n",
       "      <td>282.285758</td>\n",
       "      <td>0.00</td>\n",
       "      <td>221.679502</td>\n",
       "      <td>9430.95</td>\n",
       "      <td>72.0</td>\n",
       "      <td>129.191096</td>\n",
       "      <td>16.030</td>\n",
       "      <td>227.338129</td>\n",
       "      <td>10640.95</td>\n",
       "      <td>75.0</td>\n",
       "      <td>140.012500</td>\n",
       "      <td>19.000</td>\n",
       "      <td>232.956327</td>\n",
       "      <td>1.070073</td>\n",
       "      <td>2.322581</td>\n",
       "      <td>1.142170</td>\n",
       "      <td>2.272727</td>\n",
       "      <td>0.111412</td>\n",
       "      <td>0.280518</td>\n",
       "      <td>0.608859</td>\n",
       "      <td>0.516605</td>\n",
       "      <td>0.0</td>\n",
       "      <td>0.105395</td>\n",
       "      <td>0.277752</td>\n",
       "      <td>0.597777</td>\n",
       "      <td>0.457861</td>\n",
       "      <td>0.0</td>\n",
       "      <td>0.096774</td>\n",
       "      <td>0.260274</td>\n",
       "      <td>0.677419</td>\n",
       "      <td>0.575342</td>\n",
       "      <td>0.0</td>\n",
       "      <td>0.090909</td>\n",
       "      <td>0.263158</td>\n",
       "      <td>0.666667</td>\n",
       "      <td>0.552632</td>\n",
       "      <td>0.0</td>\n",
       "      <td>0.492976</td>\n",
       "      <td>0.530662</td>\n",
       "      <td>0.863636</td>\n",
       "      <td>0.869565</td>\n",
       "      <td>132.277500</td>\n",
       "      <td>140.740476</td>\n",
       "      <td>243.885909</td>\n",
       "      <td>242.11087</td>\n",
       "      <td>0</td>\n",
       "      <td>0</td>\n",
       "      <td>1723.974420</td>\n",
       "      <td>1566.19</td>\n",
       "      <td>447.289686</td>\n",
       "      <td>0</td>\n",
       "      <td>0</td>\n",
       "      <td>1897.214900</td>\n",
       "      <td>1566.19</td>\n",
       "      <td>750.094665</td>\n",
       "      <td>3739.338667</td>\n",
       "      <td>3749.750</td>\n",
       "      <td>846.926747</td>\n",
       "      <td>0.460914</td>\n",
       "      <td>6934.28</td>\n",
       "      <td>6295.49</td>\n",
       "      <td>13229.77</td>\n",
       "      <td>1.101293</td>\n",
       "      <td>13300.0</td>\n",
       "      <td>0.0</td>\n",
       "      <td>3500.0</td>\n",
       "      <td>861.00</td>\n",
       "      <td>905.82</td>\n",
       "      <td>0.0</td>\n",
       "      <td>5.0</td>\n",
       "      <td>5.0</td>\n",
       "      <td>5.0</td>\n",
       "      <td>0.000000</td>\n",
       "      <td>0.949472</td>\n",
       "      <td>0.00</td>\n",
       "      <td>0.833333</td>\n",
       "      <td>0</td>\n",
       "      <td>0</td>\n",
       "      <td>5</td>\n",
       "      <td>795.0</td>\n",
       "      <td>721.0</td>\n",
       "      <td>908.033142</td>\n",
       "      <td>5</td>\n",
       "    </tr>\n",
       "    <tr>\n",
       "      <th>4</th>\n",
       "      <td>57948378-e103-4f19-972e-a911082a16c2</td>\n",
       "      <td>2023-04-03</td>\n",
       "      <td>0.0</td>\n",
       "      <td>0.0</td>\n",
       "      <td>0.0</td>\n",
       "      <td>1</td>\n",
       "      <td>0</td>\n",
       "      <td>17.0</td>\n",
       "      <td>2.0</td>\n",
       "      <td>19.0</td>\n",
       "      <td>2.0</td>\n",
       "      <td>0.0</td>\n",
       "      <td>18.0</td>\n",
       "      <td>2.0</td>\n",
       "      <td>21.0</td>\n",
       "      <td>2.0</td>\n",
       "      <td>0.0</td>\n",
       "      <td>1641.61</td>\n",
       "      <td>33.07</td>\n",
       "      <td>2101.61</td>\n",
       "      <td>98.95</td>\n",
       "      <td>0.0</td>\n",
       "      <td>1694.08</td>\n",
       "      <td>33.07</td>\n",
       "      <td>2240.48</td>\n",
       "      <td>98.95</td>\n",
       "      <td>0.0</td>\n",
       "      <td>91.200556</td>\n",
       "      <td>11.023333</td>\n",
       "      <td>105.080500</td>\n",
       "      <td>32.983333</td>\n",
       "      <td>0.0</td>\n",
       "      <td>89.162105</td>\n",
       "      <td>11.023333</td>\n",
       "      <td>101.84000</td>\n",
       "      <td>32.983333</td>\n",
       "      <td>0.0</td>\n",
       "      <td>2101.61</td>\n",
       "      <td>19.0</td>\n",
       "      <td>105.080500</td>\n",
       "      <td>38.13</td>\n",
       "      <td>98.148889</td>\n",
       "      <td>4040.48</td>\n",
       "      <td>22.0</td>\n",
       "      <td>175.673043</td>\n",
       "      <td>52.66</td>\n",
       "      <td>316.109676</td>\n",
       "      <td>1924.27</td>\n",
       "      <td>9.0</td>\n",
       "      <td>192.427000</td>\n",
       "      <td>0.000</td>\n",
       "      <td>172.064979</td>\n",
       "      <td>3944.27</td>\n",
       "      <td>11.0</td>\n",
       "      <td>328.689167</td>\n",
       "      <td>0.000</td>\n",
       "      <td>378.672749</td>\n",
       "      <td>0.915182</td>\n",
       "      <td>0.450000</td>\n",
       "      <td>0.975947</td>\n",
       "      <td>0.478261</td>\n",
       "      <td>0.781120</td>\n",
       "      <td>0.017186</td>\n",
       "      <td>1.000000</td>\n",
       "      <td>0.051422</td>\n",
       "      <td>0.0</td>\n",
       "      <td>0.419277</td>\n",
       "      <td>0.008384</td>\n",
       "      <td>0.554508</td>\n",
       "      <td>0.025087</td>\n",
       "      <td>0.0</td>\n",
       "      <td>0.850000</td>\n",
       "      <td>0.200000</td>\n",
       "      <td>0.950000</td>\n",
       "      <td>0.200000</td>\n",
       "      <td>0.0</td>\n",
       "      <td>0.782609</td>\n",
       "      <td>0.166667</td>\n",
       "      <td>0.913043</td>\n",
       "      <td>0.166667</td>\n",
       "      <td>0.0</td>\n",
       "      <td>0.015728</td>\n",
       "      <td>0.014754</td>\n",
       "      <td>0.100000</td>\n",
       "      <td>0.090909</td>\n",
       "      <td>11.023333</td>\n",
       "      <td>11.023333</td>\n",
       "      <td>105.080500</td>\n",
       "      <td>101.84000</td>\n",
       "      <td>0</td>\n",
       "      <td>0</td>\n",
       "      <td>8374.258025</td>\n",
       "      <td>9553.33</td>\n",
       "      <td>2807.368662</td>\n",
       "      <td>0</td>\n",
       "      <td>0</td>\n",
       "      <td>7742.268854</td>\n",
       "      <td>9553.33</td>\n",
       "      <td>3387.413043</td>\n",
       "      <td>1022.117333</td>\n",
       "      <td>1077.775</td>\n",
       "      <td>401.075993</td>\n",
       "      <td>8.185042</td>\n",
       "      <td>11224.73</td>\n",
       "      <td>1785.37</td>\n",
       "      <td>13010.10</td>\n",
       "      <td>6.283541</td>\n",
       "      <td>1800.0</td>\n",
       "      <td>0.0</td>\n",
       "      <td>1800.0</td>\n",
       "      <td>363.00</td>\n",
       "      <td>0.00</td>\n",
       "      <td>0.0</td>\n",
       "      <td>1.0</td>\n",
       "      <td>1.0</td>\n",
       "      <td>0.0</td>\n",
       "      <td>0.000000</td>\n",
       "      <td>363.000000</td>\n",
       "      <td>0.00</td>\n",
       "      <td>1.000000</td>\n",
       "      <td>0</td>\n",
       "      <td>0</td>\n",
       "      <td>3</td>\n",
       "      <td>551.0</td>\n",
       "      <td>652.0</td>\n",
       "      <td>712.696282</td>\n",
       "      <td>5</td>\n",
       "    </tr>\n",
       "  </tbody>\n",
       "</table>\n",
       "</div>"
      ],
      "text/plain": [
       "                            business_id    due_date  DPD_plus_15_next  \\\n",
       "0  c616b39b-aef7-4156-973a-08278aa74536  2023-04-03               0.0   \n",
       "1  cc861415-fd34-4654-8b97-dab0794938dc  2023-04-03               0.0   \n",
       "2  4d7e9b73-dd94-4fdc-9611-51ec641b8e19  2023-04-03               0.0   \n",
       "3  2e3c32e2-1f1b-4d0f-a7c2-8dcdb11c6317  2023-04-03               0.0   \n",
       "4  57948378-e103-4f19-972e-a911082a16c2  2023-04-03               0.0   \n",
       "\n",
       "   DPD_plus_3_last_2  DPD_plus_15_prev  emi_no  DPD_plus_3  \\\n",
       "0                0.0               0.0       1           0   \n",
       "1                0.0               0.0       1           0   \n",
       "2                1.0               0.0       1           1   \n",
       "3                0.0               0.0       1           0   \n",
       "4                0.0               0.0       1           0   \n",
       "\n",
       "   count_pd_deposit_1m  count_ach_debit_1m  count_ach_credit_1m  \\\n",
       "0                  0.0                 1.0                  0.0   \n",
       "1                  0.0                14.0                  4.0   \n",
       "2                  0.0                 1.0                  0.0   \n",
       "3                  3.0                19.0                 21.0   \n",
       "4                 17.0                 2.0                 19.0   \n",
       "\n",
       "   count_card_withdrawal_1m  count_mrdc_credit_1m  count_pd_deposit_2m  \\\n",
       "0                      35.0                   0.0                  0.0   \n",
       "1                      31.0                   0.0                  0.0   \n",
       "2                       0.0                   0.0                  0.0   \n",
       "3                      42.0                   0.0                  3.0   \n",
       "4                       2.0                   0.0                 18.0   \n",
       "\n",
       "   count_ach_debit_2m  count_ach_credit_2m  count_card_withdrawal_2m  \\\n",
       "0                 1.0                  0.0                      38.0   \n",
       "1                15.0                  4.0                      31.0   \n",
       "2                 2.0                  0.0                       0.0   \n",
       "3                20.0                 22.0                      42.0   \n",
       "4                 2.0                 21.0                       2.0   \n",
       "\n",
       "   count_mrdc_credit_2m  amount_pd_deposit_1m  amount_ach_debit_1m  \\\n",
       "0                   0.0                  0.00               295.36   \n",
       "1                   0.0                  0.00             10562.34   \n",
       "2                   0.0                  0.00               149.81   \n",
       "3                   0.0                981.80              2645.55   \n",
       "4                   0.0               1641.61                33.07   \n",
       "\n",
       "   amount_ach_credit_1m  amount_card_withdrawal_1m  amount_mrdc_credit_1m  \\\n",
       "0                  0.00                    3962.06                    0.0   \n",
       "1              15750.00                    1948.69                    0.0   \n",
       "2                  0.00                       0.00                    0.0   \n",
       "3               5365.49                    4872.08                    0.0   \n",
       "4               2101.61                      98.95                    0.0   \n",
       "\n",
       "   amount_pd_deposit_2m  amount_ach_debit_2m  amount_ach_credit_2m  \\\n",
       "0                  0.00               295.36                  0.00   \n",
       "1                  0.00             10902.18              15750.00   \n",
       "2                  0.00               754.56                  0.00   \n",
       "3                981.80              2955.55               5568.55   \n",
       "4               1694.08                33.07               2240.48   \n",
       "\n",
       "   amount_card_withdrawal_2m  amount_mrdc_credit_2m  pd_deposit_size_1m  \\\n",
       "0                    4102.83                    0.0            0.000000   \n",
       "1                    1948.69                    0.0            0.000000   \n",
       "2                       0.00                    0.0            0.000000   \n",
       "3                    4872.08                    0.0          245.450000   \n",
       "4                      98.95                    0.0           91.200556   \n",
       "\n",
       "   ach_debit_size_1m  ach_credit_size_1m  card_withdrawal_size_1m  \\\n",
       "0         147.680000            0.000000               110.057222   \n",
       "1         704.156000         3150.000000                60.896563   \n",
       "2          74.905000            0.000000                 0.000000   \n",
       "3         132.277500          243.885909               113.304186   \n",
       "4          11.023333          105.080500                32.983333   \n",
       "\n",
       "   mrdc_credit_size_1m  pd_deposit_size_2m  ach_debit_size_2m  \\\n",
       "0                  0.0            0.000000         147.680000   \n",
       "1                  0.0            0.000000         681.386250   \n",
       "2                  0.0            0.000000         251.520000   \n",
       "3                  0.0          245.450000         140.740476   \n",
       "4                  0.0           89.162105          11.023333   \n",
       "\n",
       "   ach_credit_size_2m  card_withdrawal_size_2m  mrdc_credit_size_2m  \\\n",
       "0             0.00000               105.200769                  0.0   \n",
       "1          3150.00000                60.896563                  0.0   \n",
       "2             0.00000                 0.000000                  0.0   \n",
       "3           242.11087               113.304186                  0.0   \n",
       "4           101.84000                32.983333                  0.0   \n",
       "\n",
       "   amount_credited_1m  distinct_credit_txns_1m  credit_size_1m  \\\n",
       "0             1800.00                      2.0      600.000000   \n",
       "1            15778.25                      5.0     2629.708333   \n",
       "2            16500.00                      2.0     5500.000000   \n",
       "3             8812.37                     30.0      284.270000   \n",
       "4             2101.61                     19.0      105.080500   \n",
       "\n",
       "   median_amount_credited_1m  stddev_amount_credited_1m  amount_credited_2m  \\\n",
       "0                       0.00                 195.239512             2800.00   \n",
       "1                       0.00                1028.030619            20778.25   \n",
       "2                       0.00                2542.495962            21900.00   \n",
       "3                       0.00                 220.698407             9315.43   \n",
       "4                      38.13                  98.148889             4040.48   \n",
       "\n",
       "   distinct_credit_txns_2m  credit_size_2m  median_amount_credited_2m  \\\n",
       "0                      3.0      700.000000                       0.00   \n",
       "1                      6.0     2968.321429                       0.00   \n",
       "2                      3.0     5475.000000                       0.00   \n",
       "3                     32.0      282.285758                       0.00   \n",
       "4                     22.0      175.673043                      52.66   \n",
       "\n",
       "   stddev_amount_credited_2m  amount_debited_1m  distinct_debit_txns_1m  \\\n",
       "0                 244.616840            4257.42                    36.0   \n",
       "1                1170.168024           17355.78                    62.0   \n",
       "2                2725.540575           24020.21                    17.0   \n",
       "3                 221.679502            9430.95                    72.0   \n",
       "4                 316.109676            1924.27                     9.0   \n",
       "\n",
       "   debit_size_1m  median_amount_debited_1m  stddev_amount_debited_1m  \\\n",
       "0     115.065405                    35.885                192.561543   \n",
       "1     275.488571                    74.440                482.237717   \n",
       "2    1334.456111                   828.440               1278.560558   \n",
       "3     129.191096                    16.030                227.338129   \n",
       "4     192.427000                     0.000                172.064979   \n",
       "\n",
       "   amount_debited_2m  distinct_debit_txns_2m  debit_size_2m  \\\n",
       "0            4398.19                    39.0     109.954750   \n",
       "1           20519.12                    67.0     301.751765   \n",
       "2           24624.96                    18.0    1296.050526   \n",
       "3           10640.95                    75.0     140.012500   \n",
       "4            3944.27                    11.0     328.689167   \n",
       "\n",
       "   median_amount_debited_2m  stddev_amount_debited_2m  ratio_debit_credit_1m  \\\n",
       "0                    42.995                191.137528               2.363920   \n",
       "1                   101.750                546.701343               1.099912   \n",
       "2                   828.440               1258.157373               1.455682   \n",
       "3                    19.000                232.956327               1.070073   \n",
       "4                     0.000                378.672749               0.915182   \n",
       "\n",
       "   ratio_debit_credit_frequency_1m  ratio_debit_credit_2m  \\\n",
       "0                        12.000000               1.570221   \n",
       "1                        10.333333               0.987481   \n",
       "2                         5.666667               1.124376   \n",
       "3                         2.322581               1.142170   \n",
       "4                         0.450000               0.975947   \n",
       "\n",
       "   ratio_debit_credit_frequency_2m  ratio_pd_amt_total_credit_1m  \\\n",
       "0                         9.750000                      0.000000   \n",
       "1                         9.571429                      0.000000   \n",
       "2                         4.500000                      0.000000   \n",
       "3                         2.272727                      0.111412   \n",
       "4                         0.478261                      0.781120   \n",
       "\n",
       "   ratio_ach_debit_total_debit_1m  ratio_ach_credit_total_credit_1m  \\\n",
       "0                        0.069375                          0.000000   \n",
       "1                        0.608578                          0.998210   \n",
       "2                        0.006237                          0.000000   \n",
       "3                        0.280518                          0.608859   \n",
       "4                        0.017186                          1.000000   \n",
       "\n",
       "   ratio_card_withdrawal_total_debit_1m  ratio_mrdc_credit_total_credit_1m  \\\n",
       "0                              0.930625                                0.0   \n",
       "1                              0.112279                                0.0   \n",
       "2                              0.000000                                0.0   \n",
       "3                              0.516605                                0.0   \n",
       "4                              0.051422                                0.0   \n",
       "\n",
       "   ratio_pd_amt_total_credit_2m  ratio_ach_debit_total_debit_2m  \\\n",
       "0                      0.000000                        0.067155   \n",
       "1                      0.000000                        0.531318   \n",
       "2                      0.000000                        0.030642   \n",
       "3                      0.105395                        0.277752   \n",
       "4                      0.419277                        0.008384   \n",
       "\n",
       "   ratio_ach_credit_total_credit_2m  ratio_card_withdrawal_total_debit_2m  \\\n",
       "0                          0.000000                              0.932845   \n",
       "1                          0.758004                              0.094969   \n",
       "2                          0.000000                              0.000000   \n",
       "3                          0.597777                              0.457861   \n",
       "4                          0.554508                              0.025087   \n",
       "\n",
       "   ratio_mrdc_credit_total_credit_2m  ratio_pd_freq_total_credit_1m  \\\n",
       "0                                0.0                       0.000000   \n",
       "1                                0.0                       0.000000   \n",
       "2                                0.0                       0.000000   \n",
       "3                                0.0                       0.096774   \n",
       "4                                0.0                       0.850000   \n",
       "\n",
       "   ratio_ach_debit_freq_total_debit_1m  ratio_ach_credit_freq_total_credit_1m  \\\n",
       "0                             0.027027                               0.000000   \n",
       "1                             0.222222                               0.666667   \n",
       "2                             0.055556                               0.000000   \n",
       "3                             0.260274                               0.677419   \n",
       "4                             0.200000                               0.950000   \n",
       "\n",
       "   ratio_card_withdrawal_freq_total_debit_1m  \\\n",
       "0                                   0.945946   \n",
       "1                                   0.492063   \n",
       "2                                   0.000000   \n",
       "3                                   0.575342   \n",
       "4                                   0.200000   \n",
       "\n",
       "   ratio_mrdc_credit_freq_total_credit_1m  ratio_pd_freq_total_credit_2m  \\\n",
       "0                                     0.0                       0.000000   \n",
       "1                                     0.0                       0.000000   \n",
       "2                                     0.0                       0.000000   \n",
       "3                                     0.0                       0.090909   \n",
       "4                                     0.0                       0.782609   \n",
       "\n",
       "   ratio_ach_debit_freq_total_debit_2m  ratio_ach_credit_freq_total_credit_2m  \\\n",
       "0                             0.025000                               0.000000   \n",
       "1                             0.220588                               0.571429   \n",
       "2                             0.105263                               0.000000   \n",
       "3                             0.263158                               0.666667   \n",
       "4                             0.166667                               0.913043   \n",
       "\n",
       "   ratio_card_withdrawal_freq_total_debit_2m  \\\n",
       "0                                   0.950000   \n",
       "1                                   0.455882   \n",
       "2                                   0.000000   \n",
       "3                                   0.552632   \n",
       "4                                   0.166667   \n",
       "\n",
       "   ratio_mrdc_credit_freq_total_credit_2m  ratio_ach_debit_credit_1m  \\\n",
       "0                                     0.0                 295.360000   \n",
       "1                                     0.0                   0.670582   \n",
       "2                                     0.0                 149.810000   \n",
       "3                                     0.0                   0.492976   \n",
       "4                                     0.0                   0.015728   \n",
       "\n",
       "   ratio_ach_debit_credit_2m  ratio_ach_debit_credit_freq_1m  \\\n",
       "0                 295.360000                        1.000000   \n",
       "1                   0.692158                        2.800000   \n",
       "2                 754.560000                        1.000000   \n",
       "3                   0.530662                        0.863636   \n",
       "4                   0.014754                        0.100000   \n",
       "\n",
       "   ratio_ach_debit_credit_freq_2m  ach_d_size_1m  ach_d_size_2m  \\\n",
       "0                        1.000000     147.680000     147.680000   \n",
       "1                        3.000000     704.156000     681.386250   \n",
       "2                        2.000000      74.905000     251.520000   \n",
       "3                        0.869565     132.277500     140.740476   \n",
       "4                        0.090909      11.023333      11.023333   \n",
       "\n",
       "   ach_c_size_1m  ach_c_size_2m  od_count_1m  zero_balance_count_1m  \\\n",
       "0       0.000000        0.00000            0                      0   \n",
       "1    3150.000000     3150.00000            0                      0   \n",
       "2       0.000000        0.00000            0                    265   \n",
       "3     243.885909      242.11087            0                      0   \n",
       "4     105.080500      101.84000            0                      0   \n",
       "\n",
       "   avg_running_balance_1m  median_running_balance_1m  \\\n",
       "0            17343.575172                   17568.71   \n",
       "1             3901.500094                    3885.32   \n",
       "2              391.722727                       0.00   \n",
       "3             1723.974420                    1566.19   \n",
       "4             8374.258025                    9553.33   \n",
       "\n",
       "   stddev_running_balance_1m  od_count_2m  zero_balance_count_2m  \\\n",
       "0                1354.838310            0                      0   \n",
       "1                 920.496885            0                      0   \n",
       "2                1409.751541            0                    265   \n",
       "3                 447.289686            0                      0   \n",
       "4                2807.368662            0                      0   \n",
       "\n",
       "   avg_running_balance_2m  median_running_balance_2m  \\\n",
       "0            17523.418567                   17568.71   \n",
       "1             3751.717020                    3885.32   \n",
       "2              811.492264                       0.00   \n",
       "3             1897.214900                    1566.19   \n",
       "4             7742.268854                    9553.33   \n",
       "\n",
       "   stddev_running_balance_2m  avg_running_balance_2nd_m  \\\n",
       "0                1664.854324               19435.753333   \n",
       "1                1045.185790                2159.023667   \n",
       "2                2011.560183                5275.041667   \n",
       "3                 750.094665                3739.338667   \n",
       "4                3387.413043                1022.117333   \n",
       "\n",
       "   median_running_balance_2nd_m  stddev_running_balance_2nd_m  \\\n",
       "0                     21236.060                   2998.968352   \n",
       "1                      2122.430                    973.031285   \n",
       "2                      5080.880                   2053.065068   \n",
       "3                      3749.750                    846.926747   \n",
       "4                      1077.775                    401.075993   \n",
       "\n",
       "   ratio_avg_running_balance_1m_2m  revenue_past_1m  revenue_past_2m  \\\n",
       "0                         0.892308         12494.28             0.00   \n",
       "1                         1.806230         12726.61         15778.25   \n",
       "2                         0.074246          1600.00         10000.00   \n",
       "3                         0.460914          6934.28          6295.49   \n",
       "4                         8.185042         11224.73          1785.37   \n",
       "\n",
       "   total_revenue_2m  ratio_revenue_1m_2m  credit_limit  amount_drawn_1m_prev  \\\n",
       "0          12494.28         12494.280000       11600.0                1000.0   \n",
       "1          28504.86             0.806541       18500.0                2600.0   \n",
       "2          11600.00             0.159984       11900.0                   0.0   \n",
       "3          13229.77             1.101293       13300.0                   0.0   \n",
       "4          13010.10             6.283541        1800.0                   0.0   \n",
       "\n",
       "   amount_drawn_2m_prev  amount_cashin_1m_prev  amount_cashin_2m_prev  \\\n",
       "0                2800.0                2884.00                   0.00   \n",
       "1                5000.0                2433.33                   0.00   \n",
       "2               11900.0                2196.83                   0.00   \n",
       "3                3500.0                 861.00                 905.82   \n",
       "4                1800.0                 363.00                   0.00   \n",
       "\n",
       "   distinct_draws_1m_prev  distinct_draws_2m_prev  distinct_cashins_1m_prev  \\\n",
       "0                     1.0                     3.0                       2.0   \n",
       "1                     1.0                     1.0                       2.0   \n",
       "2                     0.0                     2.0                       2.0   \n",
       "3                     0.0                     5.0                       5.0   \n",
       "4                     0.0                     1.0                       1.0   \n",
       "\n",
       "   distinct_cashins_2m_prev  ratio_amt_drawn_mom  ratio_amt_cashin_mom  \\\n",
       "0                       0.0             0.357015           2884.000000   \n",
       "1                       0.0             0.519896           2433.330000   \n",
       "2                       0.0             0.000000           2196.830000   \n",
       "3                       5.0             0.000000              0.949472   \n",
       "4                       0.0             0.000000            363.000000   \n",
       "\n",
       "   ratio_count_drawn_mom  ratio_count_cashin_mom  pilot_flag  \\\n",
       "0                   0.25                2.000000           0   \n",
       "1                   0.50                2.000000           0   \n",
       "2                   0.00                2.000000           0   \n",
       "3                   0.00                0.833333           0   \n",
       "4                   0.00                1.000000           0   \n",
       "\n",
       "   pilot_period_flag  rs2_bin  rs2_score  fico_score   rs1_score  rs1_bin  \n",
       "0                  0        5      971.0       749.0  966.614760        5  \n",
       "1                  0        5      822.0       670.0  886.233904        5  \n",
       "2                  0        5      850.0       722.0  810.794650        5  \n",
       "3                  0        5      795.0       721.0  908.033142        5  \n",
       "4                  0        3      551.0       652.0  712.696282        5  "
      ]
     },
     "execution_count": 5,
     "metadata": {},
     "output_type": "execute_result"
    }
   ],
   "source": [
    "df.head()"
   ]
  },
  {
   "cell_type": "code",
   "execution_count": 6,
   "metadata": {},
   "outputs": [
    {
     "name": "stderr",
     "output_type": "stream",
     "text": [
      "/var/folders/v3/dy2p0xqd3mz5bvjtls49l7t80000gn/T/ipykernel_47784/2078968504.py:1: FutureWarning:\n",
      "\n",
      "Indexing with multiple keys (implicitly converted to a tuple of keys) will be deprecated, use a list instead.\n",
      "\n"
     ]
    }
   ],
   "source": [
    "tdf = df.groupby('emi_no', as_index=False)['DPD_plus_3','DPD_plus_15_next'].agg(['count','sum'])\n",
    "tdf.columns = [''.join(col).strip() for col in tdf.columns.values]"
   ]
  },
  {
   "cell_type": "code",
   "execution_count": 7,
   "metadata": {},
   "outputs": [],
   "source": [
    "tdf['DPD_plus_3_rate'] = np.round(tdf['DPD_plus_3sum']/tdf['DPD_plus_3count'],2)\n",
    "tdf['DPD_plus_15_next_rate'] = np.round(tdf['DPD_plus_15_nextsum']/tdf['DPD_plus_15_nextcount'],2)"
   ]
  },
  {
   "cell_type": "code",
   "execution_count": 8,
   "metadata": {},
   "outputs": [
    {
     "data": {
      "text/html": [
       "<div>\n",
       "<style scoped>\n",
       "    .dataframe tbody tr th:only-of-type {\n",
       "        vertical-align: middle;\n",
       "    }\n",
       "\n",
       "    .dataframe tbody tr th {\n",
       "        vertical-align: top;\n",
       "    }\n",
       "\n",
       "    .dataframe thead th {\n",
       "        text-align: right;\n",
       "    }\n",
       "</style>\n",
       "<table border=\"1\" class=\"dataframe\">\n",
       "  <thead>\n",
       "    <tr style=\"text-align: right;\">\n",
       "      <th></th>\n",
       "      <th>DPD_plus_3count</th>\n",
       "      <th>DPD_plus_3sum</th>\n",
       "      <th>DPD_plus_15_nextcount</th>\n",
       "      <th>DPD_plus_15_nextsum</th>\n",
       "      <th>DPD_plus_3_rate</th>\n",
       "      <th>DPD_plus_15_next_rate</th>\n",
       "    </tr>\n",
       "    <tr>\n",
       "      <th>emi_no</th>\n",
       "      <th></th>\n",
       "      <th></th>\n",
       "      <th></th>\n",
       "      <th></th>\n",
       "      <th></th>\n",
       "      <th></th>\n",
       "    </tr>\n",
       "  </thead>\n",
       "  <tbody>\n",
       "    <tr>\n",
       "      <th>1</th>\n",
       "      <td>1971</td>\n",
       "      <td>182</td>\n",
       "      <td>1971</td>\n",
       "      <td>95.0</td>\n",
       "      <td>0.09</td>\n",
       "      <td>0.05</td>\n",
       "    </tr>\n",
       "    <tr>\n",
       "      <th>2</th>\n",
       "      <td>1376</td>\n",
       "      <td>176</td>\n",
       "      <td>1376</td>\n",
       "      <td>104.0</td>\n",
       "      <td>0.13</td>\n",
       "      <td>0.08</td>\n",
       "    </tr>\n",
       "    <tr>\n",
       "      <th>3</th>\n",
       "      <td>662</td>\n",
       "      <td>151</td>\n",
       "      <td>662</td>\n",
       "      <td>34.0</td>\n",
       "      <td>0.23</td>\n",
       "      <td>0.05</td>\n",
       "    </tr>\n",
       "    <tr>\n",
       "      <th>4</th>\n",
       "      <td>331</td>\n",
       "      <td>62</td>\n",
       "      <td>331</td>\n",
       "      <td>54.0</td>\n",
       "      <td>0.19</td>\n",
       "      <td>0.16</td>\n",
       "    </tr>\n",
       "    <tr>\n",
       "      <th>5</th>\n",
       "      <td>315</td>\n",
       "      <td>64</td>\n",
       "      <td>315</td>\n",
       "      <td>18.0</td>\n",
       "      <td>0.20</td>\n",
       "      <td>0.06</td>\n",
       "    </tr>\n",
       "    <tr>\n",
       "      <th>6</th>\n",
       "      <td>270</td>\n",
       "      <td>25</td>\n",
       "      <td>270</td>\n",
       "      <td>0.0</td>\n",
       "      <td>0.09</td>\n",
       "      <td>0.00</td>\n",
       "    </tr>\n",
       "  </tbody>\n",
       "</table>\n",
       "</div>"
      ],
      "text/plain": [
       "        DPD_plus_3count  DPD_plus_3sum  DPD_plus_15_nextcount  \\\n",
       "emi_no                                                          \n",
       "1                  1971            182                   1971   \n",
       "2                  1376            176                   1376   \n",
       "3                   662            151                    662   \n",
       "4                   331             62                    331   \n",
       "5                   315             64                    315   \n",
       "6                   270             25                    270   \n",
       "\n",
       "        DPD_plus_15_nextsum  DPD_plus_3_rate  DPD_plus_15_next_rate  \n",
       "emi_no                                                               \n",
       "1                      95.0             0.09                   0.05  \n",
       "2                     104.0             0.13                   0.08  \n",
       "3                      34.0             0.23                   0.05  \n",
       "4                      54.0             0.19                   0.16  \n",
       "5                      18.0             0.20                   0.06  \n",
       "6                       0.0             0.09                   0.00  "
      ]
     },
     "execution_count": 8,
     "metadata": {},
     "output_type": "execute_result"
    }
   ],
   "source": [
    "tdf"
   ]
  },
  {
   "cell_type": "code",
   "execution_count": 9,
   "metadata": {},
   "outputs": [],
   "source": [
    "tdf = tdf[tdf.index.isin([2,3,4,5])]"
   ]
  },
  {
   "cell_type": "code",
   "execution_count": 10,
   "metadata": {},
   "outputs": [
    {
     "data": {
      "text/plain": [
       "0.07824143070044709"
      ]
     },
     "execution_count": 10,
     "metadata": {},
     "output_type": "execute_result"
    }
   ],
   "source": [
    "tdf['DPD_plus_15_nextsum'].sum()/tdf['DPD_plus_15_nextcount'].sum()"
   ]
  },
  {
   "cell_type": "code",
   "execution_count": 11,
   "metadata": {},
   "outputs": [
    {
     "data": {
      "application/vnd.plotly.v1+json": {
       "config": {
        "plotlyServerURL": "https://plot.ly"
       },
       "data": [
        {
         "alignmentgroup": "True",
         "hovertemplate": "variable=DPD_plus_3_rate<br>emi_no=%{x}<br>value=%{y}<extra></extra>",
         "legendgroup": "DPD_plus_3_rate",
         "marker": {
          "color": "#636efa",
          "pattern": {
           "shape": ""
          }
         },
         "name": "DPD_plus_3_rate",
         "offsetgroup": "DPD_plus_3_rate",
         "orientation": "v",
         "showlegend": true,
         "textposition": "auto",
         "texttemplate": "%{y}",
         "type": "bar",
         "width": 0.5,
         "x": [
          2,
          3,
          4,
          5
         ],
         "xaxis": "x",
         "y": [
          0.13,
          0.23,
          0.19,
          0.2
         ],
         "yaxis": "y"
        },
        {
         "alignmentgroup": "True",
         "hovertemplate": "variable=DPD_plus_15_next_rate<br>emi_no=%{x}<br>value=%{y}<extra></extra>",
         "legendgroup": "DPD_plus_15_next_rate",
         "marker": {
          "color": "#EF553B",
          "pattern": {
           "shape": ""
          }
         },
         "name": "DPD_plus_15_next_rate",
         "offsetgroup": "DPD_plus_15_next_rate",
         "orientation": "v",
         "showlegend": true,
         "textposition": "auto",
         "texttemplate": "%{y}",
         "type": "bar",
         "width": 0.5,
         "x": [
          2,
          3,
          4,
          5
         ],
         "xaxis": "x",
         "y": [
          0.08,
          0.05,
          0.16,
          0.06
         ],
         "yaxis": "y"
        }
       ],
       "layout": {
        "barmode": "group",
        "height": 400,
        "legend": {
         "title": {
          "text": "variable"
         },
         "tracegroupgap": 0
        },
        "margin": {
         "t": 60
        },
        "template": {
         "data": {
          "bar": [
           {
            "error_x": {
             "color": "#f2f5fa"
            },
            "error_y": {
             "color": "#f2f5fa"
            },
            "marker": {
             "line": {
              "color": "rgb(17,17,17)",
              "width": 0.5
             },
             "pattern": {
              "fillmode": "overlay",
              "size": 10,
              "solidity": 0.2
             }
            },
            "type": "bar"
           }
          ],
          "barpolar": [
           {
            "marker": {
             "line": {
              "color": "rgb(17,17,17)",
              "width": 0.5
             },
             "pattern": {
              "fillmode": "overlay",
              "size": 10,
              "solidity": 0.2
             }
            },
            "type": "barpolar"
           }
          ],
          "carpet": [
           {
            "aaxis": {
             "endlinecolor": "#A2B1C6",
             "gridcolor": "#506784",
             "linecolor": "#506784",
             "minorgridcolor": "#506784",
             "startlinecolor": "#A2B1C6"
            },
            "baxis": {
             "endlinecolor": "#A2B1C6",
             "gridcolor": "#506784",
             "linecolor": "#506784",
             "minorgridcolor": "#506784",
             "startlinecolor": "#A2B1C6"
            },
            "type": "carpet"
           }
          ],
          "choropleth": [
           {
            "colorbar": {
             "outlinewidth": 0,
             "ticks": ""
            },
            "type": "choropleth"
           }
          ],
          "contour": [
           {
            "colorbar": {
             "outlinewidth": 0,
             "ticks": ""
            },
            "colorscale": [
             [
              0,
              "#0d0887"
             ],
             [
              0.1111111111111111,
              "#46039f"
             ],
             [
              0.2222222222222222,
              "#7201a8"
             ],
             [
              0.3333333333333333,
              "#9c179e"
             ],
             [
              0.4444444444444444,
              "#bd3786"
             ],
             [
              0.5555555555555556,
              "#d8576b"
             ],
             [
              0.6666666666666666,
              "#ed7953"
             ],
             [
              0.7777777777777778,
              "#fb9f3a"
             ],
             [
              0.8888888888888888,
              "#fdca26"
             ],
             [
              1,
              "#f0f921"
             ]
            ],
            "type": "contour"
           }
          ],
          "contourcarpet": [
           {
            "colorbar": {
             "outlinewidth": 0,
             "ticks": ""
            },
            "type": "contourcarpet"
           }
          ],
          "heatmap": [
           {
            "colorbar": {
             "outlinewidth": 0,
             "ticks": ""
            },
            "colorscale": [
             [
              0,
              "#0d0887"
             ],
             [
              0.1111111111111111,
              "#46039f"
             ],
             [
              0.2222222222222222,
              "#7201a8"
             ],
             [
              0.3333333333333333,
              "#9c179e"
             ],
             [
              0.4444444444444444,
              "#bd3786"
             ],
             [
              0.5555555555555556,
              "#d8576b"
             ],
             [
              0.6666666666666666,
              "#ed7953"
             ],
             [
              0.7777777777777778,
              "#fb9f3a"
             ],
             [
              0.8888888888888888,
              "#fdca26"
             ],
             [
              1,
              "#f0f921"
             ]
            ],
            "type": "heatmap"
           }
          ],
          "heatmapgl": [
           {
            "colorbar": {
             "outlinewidth": 0,
             "ticks": ""
            },
            "colorscale": [
             [
              0,
              "#0d0887"
             ],
             [
              0.1111111111111111,
              "#46039f"
             ],
             [
              0.2222222222222222,
              "#7201a8"
             ],
             [
              0.3333333333333333,
              "#9c179e"
             ],
             [
              0.4444444444444444,
              "#bd3786"
             ],
             [
              0.5555555555555556,
              "#d8576b"
             ],
             [
              0.6666666666666666,
              "#ed7953"
             ],
             [
              0.7777777777777778,
              "#fb9f3a"
             ],
             [
              0.8888888888888888,
              "#fdca26"
             ],
             [
              1,
              "#f0f921"
             ]
            ],
            "type": "heatmapgl"
           }
          ],
          "histogram": [
           {
            "marker": {
             "pattern": {
              "fillmode": "overlay",
              "size": 10,
              "solidity": 0.2
             }
            },
            "type": "histogram"
           }
          ],
          "histogram2d": [
           {
            "colorbar": {
             "outlinewidth": 0,
             "ticks": ""
            },
            "colorscale": [
             [
              0,
              "#0d0887"
             ],
             [
              0.1111111111111111,
              "#46039f"
             ],
             [
              0.2222222222222222,
              "#7201a8"
             ],
             [
              0.3333333333333333,
              "#9c179e"
             ],
             [
              0.4444444444444444,
              "#bd3786"
             ],
             [
              0.5555555555555556,
              "#d8576b"
             ],
             [
              0.6666666666666666,
              "#ed7953"
             ],
             [
              0.7777777777777778,
              "#fb9f3a"
             ],
             [
              0.8888888888888888,
              "#fdca26"
             ],
             [
              1,
              "#f0f921"
             ]
            ],
            "type": "histogram2d"
           }
          ],
          "histogram2dcontour": [
           {
            "colorbar": {
             "outlinewidth": 0,
             "ticks": ""
            },
            "colorscale": [
             [
              0,
              "#0d0887"
             ],
             [
              0.1111111111111111,
              "#46039f"
             ],
             [
              0.2222222222222222,
              "#7201a8"
             ],
             [
              0.3333333333333333,
              "#9c179e"
             ],
             [
              0.4444444444444444,
              "#bd3786"
             ],
             [
              0.5555555555555556,
              "#d8576b"
             ],
             [
              0.6666666666666666,
              "#ed7953"
             ],
             [
              0.7777777777777778,
              "#fb9f3a"
             ],
             [
              0.8888888888888888,
              "#fdca26"
             ],
             [
              1,
              "#f0f921"
             ]
            ],
            "type": "histogram2dcontour"
           }
          ],
          "mesh3d": [
           {
            "colorbar": {
             "outlinewidth": 0,
             "ticks": ""
            },
            "type": "mesh3d"
           }
          ],
          "parcoords": [
           {
            "line": {
             "colorbar": {
              "outlinewidth": 0,
              "ticks": ""
             }
            },
            "type": "parcoords"
           }
          ],
          "pie": [
           {
            "automargin": true,
            "type": "pie"
           }
          ],
          "scatter": [
           {
            "marker": {
             "line": {
              "color": "#283442"
             }
            },
            "type": "scatter"
           }
          ],
          "scatter3d": [
           {
            "line": {
             "colorbar": {
              "outlinewidth": 0,
              "ticks": ""
             }
            },
            "marker": {
             "colorbar": {
              "outlinewidth": 0,
              "ticks": ""
             }
            },
            "type": "scatter3d"
           }
          ],
          "scattercarpet": [
           {
            "marker": {
             "colorbar": {
              "outlinewidth": 0,
              "ticks": ""
             }
            },
            "type": "scattercarpet"
           }
          ],
          "scattergeo": [
           {
            "marker": {
             "colorbar": {
              "outlinewidth": 0,
              "ticks": ""
             }
            },
            "type": "scattergeo"
           }
          ],
          "scattergl": [
           {
            "marker": {
             "line": {
              "color": "#283442"
             }
            },
            "type": "scattergl"
           }
          ],
          "scattermapbox": [
           {
            "marker": {
             "colorbar": {
              "outlinewidth": 0,
              "ticks": ""
             }
            },
            "type": "scattermapbox"
           }
          ],
          "scatterpolar": [
           {
            "marker": {
             "colorbar": {
              "outlinewidth": 0,
              "ticks": ""
             }
            },
            "type": "scatterpolar"
           }
          ],
          "scatterpolargl": [
           {
            "marker": {
             "colorbar": {
              "outlinewidth": 0,
              "ticks": ""
             }
            },
            "type": "scatterpolargl"
           }
          ],
          "scatterternary": [
           {
            "marker": {
             "colorbar": {
              "outlinewidth": 0,
              "ticks": ""
             }
            },
            "type": "scatterternary"
           }
          ],
          "surface": [
           {
            "colorbar": {
             "outlinewidth": 0,
             "ticks": ""
            },
            "colorscale": [
             [
              0,
              "#0d0887"
             ],
             [
              0.1111111111111111,
              "#46039f"
             ],
             [
              0.2222222222222222,
              "#7201a8"
             ],
             [
              0.3333333333333333,
              "#9c179e"
             ],
             [
              0.4444444444444444,
              "#bd3786"
             ],
             [
              0.5555555555555556,
              "#d8576b"
             ],
             [
              0.6666666666666666,
              "#ed7953"
             ],
             [
              0.7777777777777778,
              "#fb9f3a"
             ],
             [
              0.8888888888888888,
              "#fdca26"
             ],
             [
              1,
              "#f0f921"
             ]
            ],
            "type": "surface"
           }
          ],
          "table": [
           {
            "cells": {
             "fill": {
              "color": "#506784"
             },
             "line": {
              "color": "rgb(17,17,17)"
             }
            },
            "header": {
             "fill": {
              "color": "#2a3f5f"
             },
             "line": {
              "color": "rgb(17,17,17)"
             }
            },
            "type": "table"
           }
          ]
         },
         "layout": {
          "annotationdefaults": {
           "arrowcolor": "#f2f5fa",
           "arrowhead": 0,
           "arrowwidth": 1
          },
          "autotypenumbers": "strict",
          "coloraxis": {
           "colorbar": {
            "outlinewidth": 0,
            "ticks": ""
           }
          },
          "colorscale": {
           "diverging": [
            [
             0,
             "#8e0152"
            ],
            [
             0.1,
             "#c51b7d"
            ],
            [
             0.2,
             "#de77ae"
            ],
            [
             0.3,
             "#f1b6da"
            ],
            [
             0.4,
             "#fde0ef"
            ],
            [
             0.5,
             "#f7f7f7"
            ],
            [
             0.6,
             "#e6f5d0"
            ],
            [
             0.7,
             "#b8e186"
            ],
            [
             0.8,
             "#7fbc41"
            ],
            [
             0.9,
             "#4d9221"
            ],
            [
             1,
             "#276419"
            ]
           ],
           "sequential": [
            [
             0,
             "#0d0887"
            ],
            [
             0.1111111111111111,
             "#46039f"
            ],
            [
             0.2222222222222222,
             "#7201a8"
            ],
            [
             0.3333333333333333,
             "#9c179e"
            ],
            [
             0.4444444444444444,
             "#bd3786"
            ],
            [
             0.5555555555555556,
             "#d8576b"
            ],
            [
             0.6666666666666666,
             "#ed7953"
            ],
            [
             0.7777777777777778,
             "#fb9f3a"
            ],
            [
             0.8888888888888888,
             "#fdca26"
            ],
            [
             1,
             "#f0f921"
            ]
           ],
           "sequentialminus": [
            [
             0,
             "#0d0887"
            ],
            [
             0.1111111111111111,
             "#46039f"
            ],
            [
             0.2222222222222222,
             "#7201a8"
            ],
            [
             0.3333333333333333,
             "#9c179e"
            ],
            [
             0.4444444444444444,
             "#bd3786"
            ],
            [
             0.5555555555555556,
             "#d8576b"
            ],
            [
             0.6666666666666666,
             "#ed7953"
            ],
            [
             0.7777777777777778,
             "#fb9f3a"
            ],
            [
             0.8888888888888888,
             "#fdca26"
            ],
            [
             1,
             "#f0f921"
            ]
           ]
          },
          "colorway": [
           "#636efa",
           "#EF553B",
           "#00cc96",
           "#ab63fa",
           "#FFA15A",
           "#19d3f3",
           "#FF6692",
           "#B6E880",
           "#FF97FF",
           "#FECB52"
          ],
          "font": {
           "color": "#f2f5fa"
          },
          "geo": {
           "bgcolor": "rgb(17,17,17)",
           "lakecolor": "rgb(17,17,17)",
           "landcolor": "rgb(17,17,17)",
           "showlakes": true,
           "showland": true,
           "subunitcolor": "#506784"
          },
          "hoverlabel": {
           "align": "left"
          },
          "hovermode": "closest",
          "mapbox": {
           "style": "dark"
          },
          "paper_bgcolor": "rgb(17,17,17)",
          "plot_bgcolor": "rgb(17,17,17)",
          "polar": {
           "angularaxis": {
            "gridcolor": "#506784",
            "linecolor": "#506784",
            "ticks": ""
           },
           "bgcolor": "rgb(17,17,17)",
           "radialaxis": {
            "gridcolor": "#506784",
            "linecolor": "#506784",
            "ticks": ""
           }
          },
          "scene": {
           "xaxis": {
            "backgroundcolor": "rgb(17,17,17)",
            "gridcolor": "#506784",
            "gridwidth": 2,
            "linecolor": "#506784",
            "showbackground": true,
            "ticks": "",
            "zerolinecolor": "#C8D4E3"
           },
           "yaxis": {
            "backgroundcolor": "rgb(17,17,17)",
            "gridcolor": "#506784",
            "gridwidth": 2,
            "linecolor": "#506784",
            "showbackground": true,
            "ticks": "",
            "zerolinecolor": "#C8D4E3"
           },
           "zaxis": {
            "backgroundcolor": "rgb(17,17,17)",
            "gridcolor": "#506784",
            "gridwidth": 2,
            "linecolor": "#506784",
            "showbackground": true,
            "ticks": "",
            "zerolinecolor": "#C8D4E3"
           }
          },
          "shapedefaults": {
           "line": {
            "color": "#f2f5fa"
           }
          },
          "sliderdefaults": {
           "bgcolor": "#C8D4E3",
           "bordercolor": "rgb(17,17,17)",
           "borderwidth": 1,
           "tickwidth": 0
          },
          "ternary": {
           "aaxis": {
            "gridcolor": "#506784",
            "linecolor": "#506784",
            "ticks": ""
           },
           "baxis": {
            "gridcolor": "#506784",
            "linecolor": "#506784",
            "ticks": ""
           },
           "bgcolor": "rgb(17,17,17)",
           "caxis": {
            "gridcolor": "#506784",
            "linecolor": "#506784",
            "ticks": ""
           }
          },
          "title": {
           "x": 0.05
          },
          "updatemenudefaults": {
           "bgcolor": "#506784",
           "borderwidth": 0
          },
          "xaxis": {
           "automargin": true,
           "gridcolor": "#283442",
           "linecolor": "#506784",
           "ticks": "",
           "title": {
            "standoff": 15
           },
           "zerolinecolor": "#283442",
           "zerolinewidth": 2
          },
          "yaxis": {
           "automargin": true,
           "gridcolor": "#283442",
           "linecolor": "#506784",
           "ticks": "",
           "title": {
            "standoff": 15
           },
           "zerolinecolor": "#283442",
           "zerolinewidth": 2
          }
         }
        },
        "width": 800,
        "xaxis": {
         "anchor": "y",
         "domain": [
          0,
          1
         ],
         "title": {
          "text": "emi_no"
         }
        },
        "yaxis": {
         "anchor": "x",
         "domain": [
          0,
          1
         ],
         "title": {
          "text": "value"
         }
        }
       }
      }
     },
     "metadata": {},
     "output_type": "display_data"
    }
   ],
   "source": [
    "import plotly.express as px\n",
    "fig = px.bar(tdf[['DPD_plus_3_rate','DPD_plus_15_next_rate']],text_auto=True,width=800, height=400,barmode = 'group')\n",
    "fig.update_traces(width=0.5)\n",
    "fig.show()"
   ]
  },
  {
   "cell_type": "code",
   "execution_count": 13,
   "metadata": {},
   "outputs": [
    {
     "data": {
      "text/html": [
       "<div>\n",
       "<style scoped>\n",
       "    .dataframe tbody tr th:only-of-type {\n",
       "        vertical-align: middle;\n",
       "    }\n",
       "\n",
       "    .dataframe tbody tr th {\n",
       "        vertical-align: top;\n",
       "    }\n",
       "\n",
       "    .dataframe thead th {\n",
       "        text-align: right;\n",
       "    }\n",
       "</style>\n",
       "<table border=\"1\" class=\"dataframe\">\n",
       "  <thead>\n",
       "    <tr style=\"text-align: right;\">\n",
       "      <th></th>\n",
       "      <th>sum</th>\n",
       "      <th>count</th>\n",
       "      <th>DPD_plus_15_next_rate</th>\n",
       "    </tr>\n",
       "    <tr>\n",
       "      <th>rs2_bin</th>\n",
       "      <th></th>\n",
       "      <th></th>\n",
       "      <th></th>\n",
       "    </tr>\n",
       "  </thead>\n",
       "  <tbody>\n",
       "    <tr>\n",
       "      <th>1</th>\n",
       "      <td>209.0</td>\n",
       "      <td>828</td>\n",
       "      <td>0.25</td>\n",
       "    </tr>\n",
       "    <tr>\n",
       "      <th>2</th>\n",
       "      <td>37.0</td>\n",
       "      <td>639</td>\n",
       "      <td>0.06</td>\n",
       "    </tr>\n",
       "    <tr>\n",
       "      <th>3</th>\n",
       "      <td>35.0</td>\n",
       "      <td>1314</td>\n",
       "      <td>0.03</td>\n",
       "    </tr>\n",
       "    <tr>\n",
       "      <th>4</th>\n",
       "      <td>13.0</td>\n",
       "      <td>910</td>\n",
       "      <td>0.01</td>\n",
       "    </tr>\n",
       "    <tr>\n",
       "      <th>5</th>\n",
       "      <td>11.0</td>\n",
       "      <td>1234</td>\n",
       "      <td>0.01</td>\n",
       "    </tr>\n",
       "  </tbody>\n",
       "</table>\n",
       "</div>"
      ],
      "text/plain": [
       "           sum  count  DPD_plus_15_next_rate\n",
       "rs2_bin                                     \n",
       "1        209.0    828                   0.25\n",
       "2         37.0    639                   0.06\n",
       "3         35.0   1314                   0.03\n",
       "4         13.0    910                   0.01\n",
       "5         11.0   1234                   0.01"
      ]
     },
     "execution_count": 13,
     "metadata": {},
     "output_type": "execute_result"
    }
   ],
   "source": [
    "tdf = df.groupby('rs2_bin',as_index=False)['DPD_plus_15_next'].agg(['sum','count'])\n",
    "tdf['DPD_plus_15_next_rate'] = np.round(tdf['sum']/tdf['count'],2)\n",
    "tdf"
   ]
  },
  {
   "cell_type": "code",
   "execution_count": 14,
   "metadata": {},
   "outputs": [
    {
     "data": {
      "application/vnd.plotly.v1+json": {
       "config": {
        "plotlyServerURL": "https://plot.ly"
       },
       "data": [
        {
         "alignmentgroup": "True",
         "hovertemplate": "variable=DPD_plus_15_next_rate<br>rs2_bin=%{x}<br>value=%{y}<extra></extra>",
         "legendgroup": "DPD_plus_15_next_rate",
         "marker": {
          "color": "#636efa",
          "pattern": {
           "shape": ""
          }
         },
         "name": "DPD_plus_15_next_rate",
         "offsetgroup": "DPD_plus_15_next_rate",
         "orientation": "v",
         "showlegend": true,
         "textposition": "auto",
         "texttemplate": "%{y}",
         "type": "bar",
         "width": 0.5,
         "x": [
          1,
          2,
          3,
          4,
          5
         ],
         "xaxis": "x",
         "y": [
          0.25,
          0.06,
          0.03,
          0.01,
          0.01
         ],
         "yaxis": "y"
        }
       ],
       "layout": {
        "barmode": "group",
        "height": 400,
        "legend": {
         "title": {
          "text": "variable"
         },
         "tracegroupgap": 0
        },
        "margin": {
         "t": 60
        },
        "template": {
         "data": {
          "bar": [
           {
            "error_x": {
             "color": "#f2f5fa"
            },
            "error_y": {
             "color": "#f2f5fa"
            },
            "marker": {
             "line": {
              "color": "rgb(17,17,17)",
              "width": 0.5
             },
             "pattern": {
              "fillmode": "overlay",
              "size": 10,
              "solidity": 0.2
             }
            },
            "type": "bar"
           }
          ],
          "barpolar": [
           {
            "marker": {
             "line": {
              "color": "rgb(17,17,17)",
              "width": 0.5
             },
             "pattern": {
              "fillmode": "overlay",
              "size": 10,
              "solidity": 0.2
             }
            },
            "type": "barpolar"
           }
          ],
          "carpet": [
           {
            "aaxis": {
             "endlinecolor": "#A2B1C6",
             "gridcolor": "#506784",
             "linecolor": "#506784",
             "minorgridcolor": "#506784",
             "startlinecolor": "#A2B1C6"
            },
            "baxis": {
             "endlinecolor": "#A2B1C6",
             "gridcolor": "#506784",
             "linecolor": "#506784",
             "minorgridcolor": "#506784",
             "startlinecolor": "#A2B1C6"
            },
            "type": "carpet"
           }
          ],
          "choropleth": [
           {
            "colorbar": {
             "outlinewidth": 0,
             "ticks": ""
            },
            "type": "choropleth"
           }
          ],
          "contour": [
           {
            "colorbar": {
             "outlinewidth": 0,
             "ticks": ""
            },
            "colorscale": [
             [
              0,
              "#0d0887"
             ],
             [
              0.1111111111111111,
              "#46039f"
             ],
             [
              0.2222222222222222,
              "#7201a8"
             ],
             [
              0.3333333333333333,
              "#9c179e"
             ],
             [
              0.4444444444444444,
              "#bd3786"
             ],
             [
              0.5555555555555556,
              "#d8576b"
             ],
             [
              0.6666666666666666,
              "#ed7953"
             ],
             [
              0.7777777777777778,
              "#fb9f3a"
             ],
             [
              0.8888888888888888,
              "#fdca26"
             ],
             [
              1,
              "#f0f921"
             ]
            ],
            "type": "contour"
           }
          ],
          "contourcarpet": [
           {
            "colorbar": {
             "outlinewidth": 0,
             "ticks": ""
            },
            "type": "contourcarpet"
           }
          ],
          "heatmap": [
           {
            "colorbar": {
             "outlinewidth": 0,
             "ticks": ""
            },
            "colorscale": [
             [
              0,
              "#0d0887"
             ],
             [
              0.1111111111111111,
              "#46039f"
             ],
             [
              0.2222222222222222,
              "#7201a8"
             ],
             [
              0.3333333333333333,
              "#9c179e"
             ],
             [
              0.4444444444444444,
              "#bd3786"
             ],
             [
              0.5555555555555556,
              "#d8576b"
             ],
             [
              0.6666666666666666,
              "#ed7953"
             ],
             [
              0.7777777777777778,
              "#fb9f3a"
             ],
             [
              0.8888888888888888,
              "#fdca26"
             ],
             [
              1,
              "#f0f921"
             ]
            ],
            "type": "heatmap"
           }
          ],
          "heatmapgl": [
           {
            "colorbar": {
             "outlinewidth": 0,
             "ticks": ""
            },
            "colorscale": [
             [
              0,
              "#0d0887"
             ],
             [
              0.1111111111111111,
              "#46039f"
             ],
             [
              0.2222222222222222,
              "#7201a8"
             ],
             [
              0.3333333333333333,
              "#9c179e"
             ],
             [
              0.4444444444444444,
              "#bd3786"
             ],
             [
              0.5555555555555556,
              "#d8576b"
             ],
             [
              0.6666666666666666,
              "#ed7953"
             ],
             [
              0.7777777777777778,
              "#fb9f3a"
             ],
             [
              0.8888888888888888,
              "#fdca26"
             ],
             [
              1,
              "#f0f921"
             ]
            ],
            "type": "heatmapgl"
           }
          ],
          "histogram": [
           {
            "marker": {
             "pattern": {
              "fillmode": "overlay",
              "size": 10,
              "solidity": 0.2
             }
            },
            "type": "histogram"
           }
          ],
          "histogram2d": [
           {
            "colorbar": {
             "outlinewidth": 0,
             "ticks": ""
            },
            "colorscale": [
             [
              0,
              "#0d0887"
             ],
             [
              0.1111111111111111,
              "#46039f"
             ],
             [
              0.2222222222222222,
              "#7201a8"
             ],
             [
              0.3333333333333333,
              "#9c179e"
             ],
             [
              0.4444444444444444,
              "#bd3786"
             ],
             [
              0.5555555555555556,
              "#d8576b"
             ],
             [
              0.6666666666666666,
              "#ed7953"
             ],
             [
              0.7777777777777778,
              "#fb9f3a"
             ],
             [
              0.8888888888888888,
              "#fdca26"
             ],
             [
              1,
              "#f0f921"
             ]
            ],
            "type": "histogram2d"
           }
          ],
          "histogram2dcontour": [
           {
            "colorbar": {
             "outlinewidth": 0,
             "ticks": ""
            },
            "colorscale": [
             [
              0,
              "#0d0887"
             ],
             [
              0.1111111111111111,
              "#46039f"
             ],
             [
              0.2222222222222222,
              "#7201a8"
             ],
             [
              0.3333333333333333,
              "#9c179e"
             ],
             [
              0.4444444444444444,
              "#bd3786"
             ],
             [
              0.5555555555555556,
              "#d8576b"
             ],
             [
              0.6666666666666666,
              "#ed7953"
             ],
             [
              0.7777777777777778,
              "#fb9f3a"
             ],
             [
              0.8888888888888888,
              "#fdca26"
             ],
             [
              1,
              "#f0f921"
             ]
            ],
            "type": "histogram2dcontour"
           }
          ],
          "mesh3d": [
           {
            "colorbar": {
             "outlinewidth": 0,
             "ticks": ""
            },
            "type": "mesh3d"
           }
          ],
          "parcoords": [
           {
            "line": {
             "colorbar": {
              "outlinewidth": 0,
              "ticks": ""
             }
            },
            "type": "parcoords"
           }
          ],
          "pie": [
           {
            "automargin": true,
            "type": "pie"
           }
          ],
          "scatter": [
           {
            "marker": {
             "line": {
              "color": "#283442"
             }
            },
            "type": "scatter"
           }
          ],
          "scatter3d": [
           {
            "line": {
             "colorbar": {
              "outlinewidth": 0,
              "ticks": ""
             }
            },
            "marker": {
             "colorbar": {
              "outlinewidth": 0,
              "ticks": ""
             }
            },
            "type": "scatter3d"
           }
          ],
          "scattercarpet": [
           {
            "marker": {
             "colorbar": {
              "outlinewidth": 0,
              "ticks": ""
             }
            },
            "type": "scattercarpet"
           }
          ],
          "scattergeo": [
           {
            "marker": {
             "colorbar": {
              "outlinewidth": 0,
              "ticks": ""
             }
            },
            "type": "scattergeo"
           }
          ],
          "scattergl": [
           {
            "marker": {
             "line": {
              "color": "#283442"
             }
            },
            "type": "scattergl"
           }
          ],
          "scattermapbox": [
           {
            "marker": {
             "colorbar": {
              "outlinewidth": 0,
              "ticks": ""
             }
            },
            "type": "scattermapbox"
           }
          ],
          "scatterpolar": [
           {
            "marker": {
             "colorbar": {
              "outlinewidth": 0,
              "ticks": ""
             }
            },
            "type": "scatterpolar"
           }
          ],
          "scatterpolargl": [
           {
            "marker": {
             "colorbar": {
              "outlinewidth": 0,
              "ticks": ""
             }
            },
            "type": "scatterpolargl"
           }
          ],
          "scatterternary": [
           {
            "marker": {
             "colorbar": {
              "outlinewidth": 0,
              "ticks": ""
             }
            },
            "type": "scatterternary"
           }
          ],
          "surface": [
           {
            "colorbar": {
             "outlinewidth": 0,
             "ticks": ""
            },
            "colorscale": [
             [
              0,
              "#0d0887"
             ],
             [
              0.1111111111111111,
              "#46039f"
             ],
             [
              0.2222222222222222,
              "#7201a8"
             ],
             [
              0.3333333333333333,
              "#9c179e"
             ],
             [
              0.4444444444444444,
              "#bd3786"
             ],
             [
              0.5555555555555556,
              "#d8576b"
             ],
             [
              0.6666666666666666,
              "#ed7953"
             ],
             [
              0.7777777777777778,
              "#fb9f3a"
             ],
             [
              0.8888888888888888,
              "#fdca26"
             ],
             [
              1,
              "#f0f921"
             ]
            ],
            "type": "surface"
           }
          ],
          "table": [
           {
            "cells": {
             "fill": {
              "color": "#506784"
             },
             "line": {
              "color": "rgb(17,17,17)"
             }
            },
            "header": {
             "fill": {
              "color": "#2a3f5f"
             },
             "line": {
              "color": "rgb(17,17,17)"
             }
            },
            "type": "table"
           }
          ]
         },
         "layout": {
          "annotationdefaults": {
           "arrowcolor": "#f2f5fa",
           "arrowhead": 0,
           "arrowwidth": 1
          },
          "autotypenumbers": "strict",
          "coloraxis": {
           "colorbar": {
            "outlinewidth": 0,
            "ticks": ""
           }
          },
          "colorscale": {
           "diverging": [
            [
             0,
             "#8e0152"
            ],
            [
             0.1,
             "#c51b7d"
            ],
            [
             0.2,
             "#de77ae"
            ],
            [
             0.3,
             "#f1b6da"
            ],
            [
             0.4,
             "#fde0ef"
            ],
            [
             0.5,
             "#f7f7f7"
            ],
            [
             0.6,
             "#e6f5d0"
            ],
            [
             0.7,
             "#b8e186"
            ],
            [
             0.8,
             "#7fbc41"
            ],
            [
             0.9,
             "#4d9221"
            ],
            [
             1,
             "#276419"
            ]
           ],
           "sequential": [
            [
             0,
             "#0d0887"
            ],
            [
             0.1111111111111111,
             "#46039f"
            ],
            [
             0.2222222222222222,
             "#7201a8"
            ],
            [
             0.3333333333333333,
             "#9c179e"
            ],
            [
             0.4444444444444444,
             "#bd3786"
            ],
            [
             0.5555555555555556,
             "#d8576b"
            ],
            [
             0.6666666666666666,
             "#ed7953"
            ],
            [
             0.7777777777777778,
             "#fb9f3a"
            ],
            [
             0.8888888888888888,
             "#fdca26"
            ],
            [
             1,
             "#f0f921"
            ]
           ],
           "sequentialminus": [
            [
             0,
             "#0d0887"
            ],
            [
             0.1111111111111111,
             "#46039f"
            ],
            [
             0.2222222222222222,
             "#7201a8"
            ],
            [
             0.3333333333333333,
             "#9c179e"
            ],
            [
             0.4444444444444444,
             "#bd3786"
            ],
            [
             0.5555555555555556,
             "#d8576b"
            ],
            [
             0.6666666666666666,
             "#ed7953"
            ],
            [
             0.7777777777777778,
             "#fb9f3a"
            ],
            [
             0.8888888888888888,
             "#fdca26"
            ],
            [
             1,
             "#f0f921"
            ]
           ]
          },
          "colorway": [
           "#636efa",
           "#EF553B",
           "#00cc96",
           "#ab63fa",
           "#FFA15A",
           "#19d3f3",
           "#FF6692",
           "#B6E880",
           "#FF97FF",
           "#FECB52"
          ],
          "font": {
           "color": "#f2f5fa"
          },
          "geo": {
           "bgcolor": "rgb(17,17,17)",
           "lakecolor": "rgb(17,17,17)",
           "landcolor": "rgb(17,17,17)",
           "showlakes": true,
           "showland": true,
           "subunitcolor": "#506784"
          },
          "hoverlabel": {
           "align": "left"
          },
          "hovermode": "closest",
          "mapbox": {
           "style": "dark"
          },
          "paper_bgcolor": "rgb(17,17,17)",
          "plot_bgcolor": "rgb(17,17,17)",
          "polar": {
           "angularaxis": {
            "gridcolor": "#506784",
            "linecolor": "#506784",
            "ticks": ""
           },
           "bgcolor": "rgb(17,17,17)",
           "radialaxis": {
            "gridcolor": "#506784",
            "linecolor": "#506784",
            "ticks": ""
           }
          },
          "scene": {
           "xaxis": {
            "backgroundcolor": "rgb(17,17,17)",
            "gridcolor": "#506784",
            "gridwidth": 2,
            "linecolor": "#506784",
            "showbackground": true,
            "ticks": "",
            "zerolinecolor": "#C8D4E3"
           },
           "yaxis": {
            "backgroundcolor": "rgb(17,17,17)",
            "gridcolor": "#506784",
            "gridwidth": 2,
            "linecolor": "#506784",
            "showbackground": true,
            "ticks": "",
            "zerolinecolor": "#C8D4E3"
           },
           "zaxis": {
            "backgroundcolor": "rgb(17,17,17)",
            "gridcolor": "#506784",
            "gridwidth": 2,
            "linecolor": "#506784",
            "showbackground": true,
            "ticks": "",
            "zerolinecolor": "#C8D4E3"
           }
          },
          "shapedefaults": {
           "line": {
            "color": "#f2f5fa"
           }
          },
          "sliderdefaults": {
           "bgcolor": "#C8D4E3",
           "bordercolor": "rgb(17,17,17)",
           "borderwidth": 1,
           "tickwidth": 0
          },
          "ternary": {
           "aaxis": {
            "gridcolor": "#506784",
            "linecolor": "#506784",
            "ticks": ""
           },
           "baxis": {
            "gridcolor": "#506784",
            "linecolor": "#506784",
            "ticks": ""
           },
           "bgcolor": "rgb(17,17,17)",
           "caxis": {
            "gridcolor": "#506784",
            "linecolor": "#506784",
            "ticks": ""
           }
          },
          "title": {
           "x": 0.05
          },
          "updatemenudefaults": {
           "bgcolor": "#506784",
           "borderwidth": 0
          },
          "xaxis": {
           "automargin": true,
           "gridcolor": "#283442",
           "linecolor": "#506784",
           "ticks": "",
           "title": {
            "standoff": 15
           },
           "zerolinecolor": "#283442",
           "zerolinewidth": 2
          },
          "yaxis": {
           "automargin": true,
           "gridcolor": "#283442",
           "linecolor": "#506784",
           "ticks": "",
           "title": {
            "standoff": 15
           },
           "zerolinecolor": "#283442",
           "zerolinewidth": 2
          }
         }
        },
        "width": 800,
        "xaxis": {
         "anchor": "y",
         "domain": [
          0,
          1
         ],
         "title": {
          "text": "rs2_bin"
         }
        },
        "yaxis": {
         "anchor": "x",
         "domain": [
          0,
          1
         ],
         "title": {
          "text": "value"
         }
        }
       }
      }
     },
     "metadata": {},
     "output_type": "display_data"
    }
   ],
   "source": [
    "import plotly.express as px\n",
    "fig = px.bar(tdf[['DPD_plus_15_next_rate']],text_auto=True,width=800, height=400,barmode = 'group')\n",
    "fig.update_traces(width=0.5)\n",
    "fig.show()"
   ]
  },
  {
   "cell_type": "code",
   "execution_count": 15,
   "metadata": {},
   "outputs": [
    {
     "data": {
      "text/html": [
       "<div>\n",
       "<style scoped>\n",
       "    .dataframe tbody tr th:only-of-type {\n",
       "        vertical-align: middle;\n",
       "    }\n",
       "\n",
       "    .dataframe tbody tr th {\n",
       "        vertical-align: top;\n",
       "    }\n",
       "\n",
       "    .dataframe thead th {\n",
       "        text-align: right;\n",
       "    }\n",
       "</style>\n",
       "<table border=\"1\" class=\"dataframe\">\n",
       "  <thead>\n",
       "    <tr style=\"text-align: right;\">\n",
       "      <th></th>\n",
       "      <th>business_id</th>\n",
       "      <th>due_date</th>\n",
       "      <th>DPD_plus_15_next</th>\n",
       "      <th>DPD_plus_3_last_2</th>\n",
       "      <th>DPD_plus_15_prev</th>\n",
       "      <th>emi_no</th>\n",
       "      <th>DPD_plus_3</th>\n",
       "      <th>count_pd_deposit_1m</th>\n",
       "      <th>count_ach_debit_1m</th>\n",
       "      <th>count_ach_credit_1m</th>\n",
       "      <th>count_card_withdrawal_1m</th>\n",
       "      <th>count_mrdc_credit_1m</th>\n",
       "      <th>count_pd_deposit_2m</th>\n",
       "      <th>count_ach_debit_2m</th>\n",
       "      <th>count_ach_credit_2m</th>\n",
       "      <th>count_card_withdrawal_2m</th>\n",
       "      <th>count_mrdc_credit_2m</th>\n",
       "      <th>amount_pd_deposit_1m</th>\n",
       "      <th>amount_ach_debit_1m</th>\n",
       "      <th>amount_ach_credit_1m</th>\n",
       "      <th>amount_card_withdrawal_1m</th>\n",
       "      <th>amount_mrdc_credit_1m</th>\n",
       "      <th>amount_pd_deposit_2m</th>\n",
       "      <th>amount_ach_debit_2m</th>\n",
       "      <th>amount_ach_credit_2m</th>\n",
       "      <th>amount_card_withdrawal_2m</th>\n",
       "      <th>amount_mrdc_credit_2m</th>\n",
       "      <th>pd_deposit_size_1m</th>\n",
       "      <th>ach_debit_size_1m</th>\n",
       "      <th>ach_credit_size_1m</th>\n",
       "      <th>card_withdrawal_size_1m</th>\n",
       "      <th>mrdc_credit_size_1m</th>\n",
       "      <th>pd_deposit_size_2m</th>\n",
       "      <th>ach_debit_size_2m</th>\n",
       "      <th>ach_credit_size_2m</th>\n",
       "      <th>card_withdrawal_size_2m</th>\n",
       "      <th>mrdc_credit_size_2m</th>\n",
       "      <th>amount_credited_1m</th>\n",
       "      <th>distinct_credit_txns_1m</th>\n",
       "      <th>credit_size_1m</th>\n",
       "      <th>median_amount_credited_1m</th>\n",
       "      <th>stddev_amount_credited_1m</th>\n",
       "      <th>amount_credited_2m</th>\n",
       "      <th>distinct_credit_txns_2m</th>\n",
       "      <th>credit_size_2m</th>\n",
       "      <th>median_amount_credited_2m</th>\n",
       "      <th>stddev_amount_credited_2m</th>\n",
       "      <th>amount_debited_1m</th>\n",
       "      <th>distinct_debit_txns_1m</th>\n",
       "      <th>debit_size_1m</th>\n",
       "      <th>median_amount_debited_1m</th>\n",
       "      <th>stddev_amount_debited_1m</th>\n",
       "      <th>amount_debited_2m</th>\n",
       "      <th>distinct_debit_txns_2m</th>\n",
       "      <th>debit_size_2m</th>\n",
       "      <th>median_amount_debited_2m</th>\n",
       "      <th>stddev_amount_debited_2m</th>\n",
       "      <th>ratio_debit_credit_1m</th>\n",
       "      <th>ratio_debit_credit_frequency_1m</th>\n",
       "      <th>ratio_debit_credit_2m</th>\n",
       "      <th>ratio_debit_credit_frequency_2m</th>\n",
       "      <th>ratio_pd_amt_total_credit_1m</th>\n",
       "      <th>ratio_ach_debit_total_debit_1m</th>\n",
       "      <th>ratio_ach_credit_total_credit_1m</th>\n",
       "      <th>ratio_card_withdrawal_total_debit_1m</th>\n",
       "      <th>ratio_mrdc_credit_total_credit_1m</th>\n",
       "      <th>ratio_pd_amt_total_credit_2m</th>\n",
       "      <th>ratio_ach_debit_total_debit_2m</th>\n",
       "      <th>ratio_ach_credit_total_credit_2m</th>\n",
       "      <th>ratio_card_withdrawal_total_debit_2m</th>\n",
       "      <th>ratio_mrdc_credit_total_credit_2m</th>\n",
       "      <th>ratio_pd_freq_total_credit_1m</th>\n",
       "      <th>ratio_ach_debit_freq_total_debit_1m</th>\n",
       "      <th>ratio_ach_credit_freq_total_credit_1m</th>\n",
       "      <th>ratio_card_withdrawal_freq_total_debit_1m</th>\n",
       "      <th>ratio_mrdc_credit_freq_total_credit_1m</th>\n",
       "      <th>ratio_pd_freq_total_credit_2m</th>\n",
       "      <th>ratio_ach_debit_freq_total_debit_2m</th>\n",
       "      <th>ratio_ach_credit_freq_total_credit_2m</th>\n",
       "      <th>ratio_card_withdrawal_freq_total_debit_2m</th>\n",
       "      <th>ratio_mrdc_credit_freq_total_credit_2m</th>\n",
       "      <th>ratio_ach_debit_credit_1m</th>\n",
       "      <th>ratio_ach_debit_credit_2m</th>\n",
       "      <th>ratio_ach_debit_credit_freq_1m</th>\n",
       "      <th>ratio_ach_debit_credit_freq_2m</th>\n",
       "      <th>ach_d_size_1m</th>\n",
       "      <th>ach_d_size_2m</th>\n",
       "      <th>ach_c_size_1m</th>\n",
       "      <th>ach_c_size_2m</th>\n",
       "      <th>od_count_1m</th>\n",
       "      <th>zero_balance_count_1m</th>\n",
       "      <th>avg_running_balance_1m</th>\n",
       "      <th>median_running_balance_1m</th>\n",
       "      <th>stddev_running_balance_1m</th>\n",
       "      <th>od_count_2m</th>\n",
       "      <th>zero_balance_count_2m</th>\n",
       "      <th>avg_running_balance_2m</th>\n",
       "      <th>median_running_balance_2m</th>\n",
       "      <th>stddev_running_balance_2m</th>\n",
       "      <th>avg_running_balance_2nd_m</th>\n",
       "      <th>median_running_balance_2nd_m</th>\n",
       "      <th>stddev_running_balance_2nd_m</th>\n",
       "      <th>ratio_avg_running_balance_1m_2m</th>\n",
       "      <th>revenue_past_1m</th>\n",
       "      <th>revenue_past_2m</th>\n",
       "      <th>total_revenue_2m</th>\n",
       "      <th>ratio_revenue_1m_2m</th>\n",
       "      <th>credit_limit</th>\n",
       "      <th>amount_drawn_1m_prev</th>\n",
       "      <th>amount_drawn_2m_prev</th>\n",
       "      <th>amount_cashin_1m_prev</th>\n",
       "      <th>amount_cashin_2m_prev</th>\n",
       "      <th>distinct_draws_1m_prev</th>\n",
       "      <th>distinct_draws_2m_prev</th>\n",
       "      <th>distinct_cashins_1m_prev</th>\n",
       "      <th>distinct_cashins_2m_prev</th>\n",
       "      <th>ratio_amt_drawn_mom</th>\n",
       "      <th>ratio_amt_cashin_mom</th>\n",
       "      <th>ratio_count_drawn_mom</th>\n",
       "      <th>ratio_count_cashin_mom</th>\n",
       "      <th>pilot_flag</th>\n",
       "      <th>pilot_period_flag</th>\n",
       "      <th>rs2_bin</th>\n",
       "      <th>rs2_score</th>\n",
       "      <th>fico_score</th>\n",
       "      <th>rs1_score</th>\n",
       "      <th>rs1_bin</th>\n",
       "    </tr>\n",
       "  </thead>\n",
       "  <tbody>\n",
       "    <tr>\n",
       "      <th>0</th>\n",
       "      <td>c616b39b-aef7-4156-973a-08278aa74536</td>\n",
       "      <td>2023-04-03</td>\n",
       "      <td>0.0</td>\n",
       "      <td>0.0</td>\n",
       "      <td>0.0</td>\n",
       "      <td>1</td>\n",
       "      <td>0</td>\n",
       "      <td>0.0</td>\n",
       "      <td>1.0</td>\n",
       "      <td>0.0</td>\n",
       "      <td>35.0</td>\n",
       "      <td>0.0</td>\n",
       "      <td>0.0</td>\n",
       "      <td>1.0</td>\n",
       "      <td>0.0</td>\n",
       "      <td>38.0</td>\n",
       "      <td>0.0</td>\n",
       "      <td>0.00</td>\n",
       "      <td>295.36</td>\n",
       "      <td>0.00</td>\n",
       "      <td>3962.06</td>\n",
       "      <td>0.0</td>\n",
       "      <td>0.00</td>\n",
       "      <td>295.36</td>\n",
       "      <td>0.00</td>\n",
       "      <td>4102.83</td>\n",
       "      <td>0.0</td>\n",
       "      <td>0.000000</td>\n",
       "      <td>147.680000</td>\n",
       "      <td>0.000000</td>\n",
       "      <td>110.057222</td>\n",
       "      <td>0.0</td>\n",
       "      <td>0.000000</td>\n",
       "      <td>147.680000</td>\n",
       "      <td>0.00000</td>\n",
       "      <td>105.200769</td>\n",
       "      <td>0.0</td>\n",
       "      <td>1800.00</td>\n",
       "      <td>2.0</td>\n",
       "      <td>600.000000</td>\n",
       "      <td>0.00</td>\n",
       "      <td>195.239512</td>\n",
       "      <td>2800.00</td>\n",
       "      <td>3.0</td>\n",
       "      <td>700.000000</td>\n",
       "      <td>0.00</td>\n",
       "      <td>244.616840</td>\n",
       "      <td>4257.42</td>\n",
       "      <td>36.0</td>\n",
       "      <td>115.065405</td>\n",
       "      <td>35.885</td>\n",
       "      <td>192.561543</td>\n",
       "      <td>4398.19</td>\n",
       "      <td>39.0</td>\n",
       "      <td>109.954750</td>\n",
       "      <td>42.995</td>\n",
       "      <td>191.137528</td>\n",
       "      <td>2.363920</td>\n",
       "      <td>12.000000</td>\n",
       "      <td>1.570221</td>\n",
       "      <td>9.750000</td>\n",
       "      <td>0.000000</td>\n",
       "      <td>0.069375</td>\n",
       "      <td>0.000000</td>\n",
       "      <td>0.930625</td>\n",
       "      <td>0.0</td>\n",
       "      <td>0.000000</td>\n",
       "      <td>0.067155</td>\n",
       "      <td>0.000000</td>\n",
       "      <td>0.932845</td>\n",
       "      <td>0.0</td>\n",
       "      <td>0.000000</td>\n",
       "      <td>0.027027</td>\n",
       "      <td>0.000000</td>\n",
       "      <td>0.945946</td>\n",
       "      <td>0.0</td>\n",
       "      <td>0.000000</td>\n",
       "      <td>0.025000</td>\n",
       "      <td>0.000000</td>\n",
       "      <td>0.950000</td>\n",
       "      <td>0.0</td>\n",
       "      <td>295.360000</td>\n",
       "      <td>295.360000</td>\n",
       "      <td>1.000000</td>\n",
       "      <td>1.000000</td>\n",
       "      <td>147.680000</td>\n",
       "      <td>147.680000</td>\n",
       "      <td>0.000000</td>\n",
       "      <td>0.00000</td>\n",
       "      <td>0</td>\n",
       "      <td>0</td>\n",
       "      <td>17343.575172</td>\n",
       "      <td>17568.71</td>\n",
       "      <td>1354.838310</td>\n",
       "      <td>0</td>\n",
       "      <td>0</td>\n",
       "      <td>17523.418567</td>\n",
       "      <td>17568.71</td>\n",
       "      <td>1664.854324</td>\n",
       "      <td>19435.753333</td>\n",
       "      <td>21236.060</td>\n",
       "      <td>2998.968352</td>\n",
       "      <td>0.892308</td>\n",
       "      <td>12494.28</td>\n",
       "      <td>0.00</td>\n",
       "      <td>12494.28</td>\n",
       "      <td>12494.280000</td>\n",
       "      <td>11600.0</td>\n",
       "      <td>1000.0</td>\n",
       "      <td>2800.0</td>\n",
       "      <td>2884.00</td>\n",
       "      <td>0.00</td>\n",
       "      <td>1.0</td>\n",
       "      <td>3.0</td>\n",
       "      <td>2.0</td>\n",
       "      <td>0.0</td>\n",
       "      <td>0.357015</td>\n",
       "      <td>2884.000000</td>\n",
       "      <td>0.25</td>\n",
       "      <td>2.000000</td>\n",
       "      <td>0</td>\n",
       "      <td>0</td>\n",
       "      <td>5</td>\n",
       "      <td>971.0</td>\n",
       "      <td>749.0</td>\n",
       "      <td>966.614760</td>\n",
       "      <td>5</td>\n",
       "    </tr>\n",
       "    <tr>\n",
       "      <th>1</th>\n",
       "      <td>cc861415-fd34-4654-8b97-dab0794938dc</td>\n",
       "      <td>2023-04-03</td>\n",
       "      <td>0.0</td>\n",
       "      <td>0.0</td>\n",
       "      <td>0.0</td>\n",
       "      <td>1</td>\n",
       "      <td>0</td>\n",
       "      <td>0.0</td>\n",
       "      <td>14.0</td>\n",
       "      <td>4.0</td>\n",
       "      <td>31.0</td>\n",
       "      <td>0.0</td>\n",
       "      <td>0.0</td>\n",
       "      <td>15.0</td>\n",
       "      <td>4.0</td>\n",
       "      <td>31.0</td>\n",
       "      <td>0.0</td>\n",
       "      <td>0.00</td>\n",
       "      <td>10562.34</td>\n",
       "      <td>15750.00</td>\n",
       "      <td>1948.69</td>\n",
       "      <td>0.0</td>\n",
       "      <td>0.00</td>\n",
       "      <td>10902.18</td>\n",
       "      <td>15750.00</td>\n",
       "      <td>1948.69</td>\n",
       "      <td>0.0</td>\n",
       "      <td>0.000000</td>\n",
       "      <td>704.156000</td>\n",
       "      <td>3150.000000</td>\n",
       "      <td>60.896563</td>\n",
       "      <td>0.0</td>\n",
       "      <td>0.000000</td>\n",
       "      <td>681.386250</td>\n",
       "      <td>3150.00000</td>\n",
       "      <td>60.896563</td>\n",
       "      <td>0.0</td>\n",
       "      <td>15778.25</td>\n",
       "      <td>5.0</td>\n",
       "      <td>2629.708333</td>\n",
       "      <td>0.00</td>\n",
       "      <td>1028.030619</td>\n",
       "      <td>20778.25</td>\n",
       "      <td>6.0</td>\n",
       "      <td>2968.321429</td>\n",
       "      <td>0.00</td>\n",
       "      <td>1170.168024</td>\n",
       "      <td>17355.78</td>\n",
       "      <td>62.0</td>\n",
       "      <td>275.488571</td>\n",
       "      <td>74.440</td>\n",
       "      <td>482.237717</td>\n",
       "      <td>20519.12</td>\n",
       "      <td>67.0</td>\n",
       "      <td>301.751765</td>\n",
       "      <td>101.750</td>\n",
       "      <td>546.701343</td>\n",
       "      <td>1.099912</td>\n",
       "      <td>10.333333</td>\n",
       "      <td>0.987481</td>\n",
       "      <td>9.571429</td>\n",
       "      <td>0.000000</td>\n",
       "      <td>0.608578</td>\n",
       "      <td>0.998210</td>\n",
       "      <td>0.112279</td>\n",
       "      <td>0.0</td>\n",
       "      <td>0.000000</td>\n",
       "      <td>0.531318</td>\n",
       "      <td>0.758004</td>\n",
       "      <td>0.094969</td>\n",
       "      <td>0.0</td>\n",
       "      <td>0.000000</td>\n",
       "      <td>0.222222</td>\n",
       "      <td>0.666667</td>\n",
       "      <td>0.492063</td>\n",
       "      <td>0.0</td>\n",
       "      <td>0.000000</td>\n",
       "      <td>0.220588</td>\n",
       "      <td>0.571429</td>\n",
       "      <td>0.455882</td>\n",
       "      <td>0.0</td>\n",
       "      <td>0.670582</td>\n",
       "      <td>0.692158</td>\n",
       "      <td>2.800000</td>\n",
       "      <td>3.000000</td>\n",
       "      <td>704.156000</td>\n",
       "      <td>681.386250</td>\n",
       "      <td>3150.000000</td>\n",
       "      <td>3150.00000</td>\n",
       "      <td>0</td>\n",
       "      <td>0</td>\n",
       "      <td>3901.500094</td>\n",
       "      <td>3885.32</td>\n",
       "      <td>920.496885</td>\n",
       "      <td>0</td>\n",
       "      <td>0</td>\n",
       "      <td>3751.717020</td>\n",
       "      <td>3885.32</td>\n",
       "      <td>1045.185790</td>\n",
       "      <td>2159.023667</td>\n",
       "      <td>2122.430</td>\n",
       "      <td>973.031285</td>\n",
       "      <td>1.806230</td>\n",
       "      <td>12726.61</td>\n",
       "      <td>15778.25</td>\n",
       "      <td>28504.86</td>\n",
       "      <td>0.806541</td>\n",
       "      <td>18500.0</td>\n",
       "      <td>2600.0</td>\n",
       "      <td>5000.0</td>\n",
       "      <td>2433.33</td>\n",
       "      <td>0.00</td>\n",
       "      <td>1.0</td>\n",
       "      <td>1.0</td>\n",
       "      <td>2.0</td>\n",
       "      <td>0.0</td>\n",
       "      <td>0.519896</td>\n",
       "      <td>2433.330000</td>\n",
       "      <td>0.50</td>\n",
       "      <td>2.000000</td>\n",
       "      <td>0</td>\n",
       "      <td>0</td>\n",
       "      <td>5</td>\n",
       "      <td>822.0</td>\n",
       "      <td>670.0</td>\n",
       "      <td>886.233904</td>\n",
       "      <td>5</td>\n",
       "    </tr>\n",
       "    <tr>\n",
       "      <th>2</th>\n",
       "      <td>4d7e9b73-dd94-4fdc-9611-51ec641b8e19</td>\n",
       "      <td>2023-04-03</td>\n",
       "      <td>0.0</td>\n",
       "      <td>1.0</td>\n",
       "      <td>0.0</td>\n",
       "      <td>1</td>\n",
       "      <td>1</td>\n",
       "      <td>0.0</td>\n",
       "      <td>1.0</td>\n",
       "      <td>0.0</td>\n",
       "      <td>0.0</td>\n",
       "      <td>0.0</td>\n",
       "      <td>0.0</td>\n",
       "      <td>2.0</td>\n",
       "      <td>0.0</td>\n",
       "      <td>0.0</td>\n",
       "      <td>0.0</td>\n",
       "      <td>0.00</td>\n",
       "      <td>149.81</td>\n",
       "      <td>0.00</td>\n",
       "      <td>0.00</td>\n",
       "      <td>0.0</td>\n",
       "      <td>0.00</td>\n",
       "      <td>754.56</td>\n",
       "      <td>0.00</td>\n",
       "      <td>0.00</td>\n",
       "      <td>0.0</td>\n",
       "      <td>0.000000</td>\n",
       "      <td>74.905000</td>\n",
       "      <td>0.000000</td>\n",
       "      <td>0.000000</td>\n",
       "      <td>0.0</td>\n",
       "      <td>0.000000</td>\n",
       "      <td>251.520000</td>\n",
       "      <td>0.00000</td>\n",
       "      <td>0.000000</td>\n",
       "      <td>0.0</td>\n",
       "      <td>16500.00</td>\n",
       "      <td>2.0</td>\n",
       "      <td>5500.000000</td>\n",
       "      <td>0.00</td>\n",
       "      <td>2542.495962</td>\n",
       "      <td>21900.00</td>\n",
       "      <td>3.0</td>\n",
       "      <td>5475.000000</td>\n",
       "      <td>0.00</td>\n",
       "      <td>2725.540575</td>\n",
       "      <td>24020.21</td>\n",
       "      <td>17.0</td>\n",
       "      <td>1334.456111</td>\n",
       "      <td>828.440</td>\n",
       "      <td>1278.560558</td>\n",
       "      <td>24624.96</td>\n",
       "      <td>18.0</td>\n",
       "      <td>1296.050526</td>\n",
       "      <td>828.440</td>\n",
       "      <td>1258.157373</td>\n",
       "      <td>1.455682</td>\n",
       "      <td>5.666667</td>\n",
       "      <td>1.124376</td>\n",
       "      <td>4.500000</td>\n",
       "      <td>0.000000</td>\n",
       "      <td>0.006237</td>\n",
       "      <td>0.000000</td>\n",
       "      <td>0.000000</td>\n",
       "      <td>0.0</td>\n",
       "      <td>0.000000</td>\n",
       "      <td>0.030642</td>\n",
       "      <td>0.000000</td>\n",
       "      <td>0.000000</td>\n",
       "      <td>0.0</td>\n",
       "      <td>0.000000</td>\n",
       "      <td>0.055556</td>\n",
       "      <td>0.000000</td>\n",
       "      <td>0.000000</td>\n",
       "      <td>0.0</td>\n",
       "      <td>0.000000</td>\n",
       "      <td>0.105263</td>\n",
       "      <td>0.000000</td>\n",
       "      <td>0.000000</td>\n",
       "      <td>0.0</td>\n",
       "      <td>149.810000</td>\n",
       "      <td>754.560000</td>\n",
       "      <td>1.000000</td>\n",
       "      <td>2.000000</td>\n",
       "      <td>74.905000</td>\n",
       "      <td>251.520000</td>\n",
       "      <td>0.000000</td>\n",
       "      <td>0.00000</td>\n",
       "      <td>0</td>\n",
       "      <td>265</td>\n",
       "      <td>391.722727</td>\n",
       "      <td>0.00</td>\n",
       "      <td>1409.751541</td>\n",
       "      <td>0</td>\n",
       "      <td>265</td>\n",
       "      <td>811.492264</td>\n",
       "      <td>0.00</td>\n",
       "      <td>2011.560183</td>\n",
       "      <td>5275.041667</td>\n",
       "      <td>5080.880</td>\n",
       "      <td>2053.065068</td>\n",
       "      <td>0.074246</td>\n",
       "      <td>1600.00</td>\n",
       "      <td>10000.00</td>\n",
       "      <td>11600.00</td>\n",
       "      <td>0.159984</td>\n",
       "      <td>11900.0</td>\n",
       "      <td>0.0</td>\n",
       "      <td>11900.0</td>\n",
       "      <td>2196.83</td>\n",
       "      <td>0.00</td>\n",
       "      <td>0.0</td>\n",
       "      <td>2.0</td>\n",
       "      <td>2.0</td>\n",
       "      <td>0.0</td>\n",
       "      <td>0.000000</td>\n",
       "      <td>2196.830000</td>\n",
       "      <td>0.00</td>\n",
       "      <td>2.000000</td>\n",
       "      <td>0</td>\n",
       "      <td>0</td>\n",
       "      <td>5</td>\n",
       "      <td>850.0</td>\n",
       "      <td>722.0</td>\n",
       "      <td>810.794650</td>\n",
       "      <td>5</td>\n",
       "    </tr>\n",
       "    <tr>\n",
       "      <th>3</th>\n",
       "      <td>2e3c32e2-1f1b-4d0f-a7c2-8dcdb11c6317</td>\n",
       "      <td>2023-04-03</td>\n",
       "      <td>0.0</td>\n",
       "      <td>0.0</td>\n",
       "      <td>0.0</td>\n",
       "      <td>1</td>\n",
       "      <td>0</td>\n",
       "      <td>3.0</td>\n",
       "      <td>19.0</td>\n",
       "      <td>21.0</td>\n",
       "      <td>42.0</td>\n",
       "      <td>0.0</td>\n",
       "      <td>3.0</td>\n",
       "      <td>20.0</td>\n",
       "      <td>22.0</td>\n",
       "      <td>42.0</td>\n",
       "      <td>0.0</td>\n",
       "      <td>981.80</td>\n",
       "      <td>2645.55</td>\n",
       "      <td>5365.49</td>\n",
       "      <td>4872.08</td>\n",
       "      <td>0.0</td>\n",
       "      <td>981.80</td>\n",
       "      <td>2955.55</td>\n",
       "      <td>5568.55</td>\n",
       "      <td>4872.08</td>\n",
       "      <td>0.0</td>\n",
       "      <td>245.450000</td>\n",
       "      <td>132.277500</td>\n",
       "      <td>243.885909</td>\n",
       "      <td>113.304186</td>\n",
       "      <td>0.0</td>\n",
       "      <td>245.450000</td>\n",
       "      <td>140.740476</td>\n",
       "      <td>242.11087</td>\n",
       "      <td>113.304186</td>\n",
       "      <td>0.0</td>\n",
       "      <td>8812.37</td>\n",
       "      <td>30.0</td>\n",
       "      <td>284.270000</td>\n",
       "      <td>0.00</td>\n",
       "      <td>220.698407</td>\n",
       "      <td>9315.43</td>\n",
       "      <td>32.0</td>\n",
       "      <td>282.285758</td>\n",
       "      <td>0.00</td>\n",
       "      <td>221.679502</td>\n",
       "      <td>9430.95</td>\n",
       "      <td>72.0</td>\n",
       "      <td>129.191096</td>\n",
       "      <td>16.030</td>\n",
       "      <td>227.338129</td>\n",
       "      <td>10640.95</td>\n",
       "      <td>75.0</td>\n",
       "      <td>140.012500</td>\n",
       "      <td>19.000</td>\n",
       "      <td>232.956327</td>\n",
       "      <td>1.070073</td>\n",
       "      <td>2.322581</td>\n",
       "      <td>1.142170</td>\n",
       "      <td>2.272727</td>\n",
       "      <td>0.111412</td>\n",
       "      <td>0.280518</td>\n",
       "      <td>0.608859</td>\n",
       "      <td>0.516605</td>\n",
       "      <td>0.0</td>\n",
       "      <td>0.105395</td>\n",
       "      <td>0.277752</td>\n",
       "      <td>0.597777</td>\n",
       "      <td>0.457861</td>\n",
       "      <td>0.0</td>\n",
       "      <td>0.096774</td>\n",
       "      <td>0.260274</td>\n",
       "      <td>0.677419</td>\n",
       "      <td>0.575342</td>\n",
       "      <td>0.0</td>\n",
       "      <td>0.090909</td>\n",
       "      <td>0.263158</td>\n",
       "      <td>0.666667</td>\n",
       "      <td>0.552632</td>\n",
       "      <td>0.0</td>\n",
       "      <td>0.492976</td>\n",
       "      <td>0.530662</td>\n",
       "      <td>0.863636</td>\n",
       "      <td>0.869565</td>\n",
       "      <td>132.277500</td>\n",
       "      <td>140.740476</td>\n",
       "      <td>243.885909</td>\n",
       "      <td>242.11087</td>\n",
       "      <td>0</td>\n",
       "      <td>0</td>\n",
       "      <td>1723.974420</td>\n",
       "      <td>1566.19</td>\n",
       "      <td>447.289686</td>\n",
       "      <td>0</td>\n",
       "      <td>0</td>\n",
       "      <td>1897.214900</td>\n",
       "      <td>1566.19</td>\n",
       "      <td>750.094665</td>\n",
       "      <td>3739.338667</td>\n",
       "      <td>3749.750</td>\n",
       "      <td>846.926747</td>\n",
       "      <td>0.460914</td>\n",
       "      <td>6934.28</td>\n",
       "      <td>6295.49</td>\n",
       "      <td>13229.77</td>\n",
       "      <td>1.101293</td>\n",
       "      <td>13300.0</td>\n",
       "      <td>0.0</td>\n",
       "      <td>3500.0</td>\n",
       "      <td>861.00</td>\n",
       "      <td>905.82</td>\n",
       "      <td>0.0</td>\n",
       "      <td>5.0</td>\n",
       "      <td>5.0</td>\n",
       "      <td>5.0</td>\n",
       "      <td>0.000000</td>\n",
       "      <td>0.949472</td>\n",
       "      <td>0.00</td>\n",
       "      <td>0.833333</td>\n",
       "      <td>0</td>\n",
       "      <td>0</td>\n",
       "      <td>5</td>\n",
       "      <td>795.0</td>\n",
       "      <td>721.0</td>\n",
       "      <td>908.033142</td>\n",
       "      <td>5</td>\n",
       "    </tr>\n",
       "    <tr>\n",
       "      <th>4</th>\n",
       "      <td>57948378-e103-4f19-972e-a911082a16c2</td>\n",
       "      <td>2023-04-03</td>\n",
       "      <td>0.0</td>\n",
       "      <td>0.0</td>\n",
       "      <td>0.0</td>\n",
       "      <td>1</td>\n",
       "      <td>0</td>\n",
       "      <td>17.0</td>\n",
       "      <td>2.0</td>\n",
       "      <td>19.0</td>\n",
       "      <td>2.0</td>\n",
       "      <td>0.0</td>\n",
       "      <td>18.0</td>\n",
       "      <td>2.0</td>\n",
       "      <td>21.0</td>\n",
       "      <td>2.0</td>\n",
       "      <td>0.0</td>\n",
       "      <td>1641.61</td>\n",
       "      <td>33.07</td>\n",
       "      <td>2101.61</td>\n",
       "      <td>98.95</td>\n",
       "      <td>0.0</td>\n",
       "      <td>1694.08</td>\n",
       "      <td>33.07</td>\n",
       "      <td>2240.48</td>\n",
       "      <td>98.95</td>\n",
       "      <td>0.0</td>\n",
       "      <td>91.200556</td>\n",
       "      <td>11.023333</td>\n",
       "      <td>105.080500</td>\n",
       "      <td>32.983333</td>\n",
       "      <td>0.0</td>\n",
       "      <td>89.162105</td>\n",
       "      <td>11.023333</td>\n",
       "      <td>101.84000</td>\n",
       "      <td>32.983333</td>\n",
       "      <td>0.0</td>\n",
       "      <td>2101.61</td>\n",
       "      <td>19.0</td>\n",
       "      <td>105.080500</td>\n",
       "      <td>38.13</td>\n",
       "      <td>98.148889</td>\n",
       "      <td>4040.48</td>\n",
       "      <td>22.0</td>\n",
       "      <td>175.673043</td>\n",
       "      <td>52.66</td>\n",
       "      <td>316.109676</td>\n",
       "      <td>1924.27</td>\n",
       "      <td>9.0</td>\n",
       "      <td>192.427000</td>\n",
       "      <td>0.000</td>\n",
       "      <td>172.064979</td>\n",
       "      <td>3944.27</td>\n",
       "      <td>11.0</td>\n",
       "      <td>328.689167</td>\n",
       "      <td>0.000</td>\n",
       "      <td>378.672749</td>\n",
       "      <td>0.915182</td>\n",
       "      <td>0.450000</td>\n",
       "      <td>0.975947</td>\n",
       "      <td>0.478261</td>\n",
       "      <td>0.781120</td>\n",
       "      <td>0.017186</td>\n",
       "      <td>1.000000</td>\n",
       "      <td>0.051422</td>\n",
       "      <td>0.0</td>\n",
       "      <td>0.419277</td>\n",
       "      <td>0.008384</td>\n",
       "      <td>0.554508</td>\n",
       "      <td>0.025087</td>\n",
       "      <td>0.0</td>\n",
       "      <td>0.850000</td>\n",
       "      <td>0.200000</td>\n",
       "      <td>0.950000</td>\n",
       "      <td>0.200000</td>\n",
       "      <td>0.0</td>\n",
       "      <td>0.782609</td>\n",
       "      <td>0.166667</td>\n",
       "      <td>0.913043</td>\n",
       "      <td>0.166667</td>\n",
       "      <td>0.0</td>\n",
       "      <td>0.015728</td>\n",
       "      <td>0.014754</td>\n",
       "      <td>0.100000</td>\n",
       "      <td>0.090909</td>\n",
       "      <td>11.023333</td>\n",
       "      <td>11.023333</td>\n",
       "      <td>105.080500</td>\n",
       "      <td>101.84000</td>\n",
       "      <td>0</td>\n",
       "      <td>0</td>\n",
       "      <td>8374.258025</td>\n",
       "      <td>9553.33</td>\n",
       "      <td>2807.368662</td>\n",
       "      <td>0</td>\n",
       "      <td>0</td>\n",
       "      <td>7742.268854</td>\n",
       "      <td>9553.33</td>\n",
       "      <td>3387.413043</td>\n",
       "      <td>1022.117333</td>\n",
       "      <td>1077.775</td>\n",
       "      <td>401.075993</td>\n",
       "      <td>8.185042</td>\n",
       "      <td>11224.73</td>\n",
       "      <td>1785.37</td>\n",
       "      <td>13010.10</td>\n",
       "      <td>6.283541</td>\n",
       "      <td>1800.0</td>\n",
       "      <td>0.0</td>\n",
       "      <td>1800.0</td>\n",
       "      <td>363.00</td>\n",
       "      <td>0.00</td>\n",
       "      <td>0.0</td>\n",
       "      <td>1.0</td>\n",
       "      <td>1.0</td>\n",
       "      <td>0.0</td>\n",
       "      <td>0.000000</td>\n",
       "      <td>363.000000</td>\n",
       "      <td>0.00</td>\n",
       "      <td>1.000000</td>\n",
       "      <td>0</td>\n",
       "      <td>0</td>\n",
       "      <td>3</td>\n",
       "      <td>551.0</td>\n",
       "      <td>652.0</td>\n",
       "      <td>712.696282</td>\n",
       "      <td>5</td>\n",
       "    </tr>\n",
       "  </tbody>\n",
       "</table>\n",
       "</div>"
      ],
      "text/plain": [
       "                            business_id    due_date  DPD_plus_15_next  \\\n",
       "0  c616b39b-aef7-4156-973a-08278aa74536  2023-04-03               0.0   \n",
       "1  cc861415-fd34-4654-8b97-dab0794938dc  2023-04-03               0.0   \n",
       "2  4d7e9b73-dd94-4fdc-9611-51ec641b8e19  2023-04-03               0.0   \n",
       "3  2e3c32e2-1f1b-4d0f-a7c2-8dcdb11c6317  2023-04-03               0.0   \n",
       "4  57948378-e103-4f19-972e-a911082a16c2  2023-04-03               0.0   \n",
       "\n",
       "   DPD_plus_3_last_2  DPD_plus_15_prev  emi_no  DPD_plus_3  \\\n",
       "0                0.0               0.0       1           0   \n",
       "1                0.0               0.0       1           0   \n",
       "2                1.0               0.0       1           1   \n",
       "3                0.0               0.0       1           0   \n",
       "4                0.0               0.0       1           0   \n",
       "\n",
       "   count_pd_deposit_1m  count_ach_debit_1m  count_ach_credit_1m  \\\n",
       "0                  0.0                 1.0                  0.0   \n",
       "1                  0.0                14.0                  4.0   \n",
       "2                  0.0                 1.0                  0.0   \n",
       "3                  3.0                19.0                 21.0   \n",
       "4                 17.0                 2.0                 19.0   \n",
       "\n",
       "   count_card_withdrawal_1m  count_mrdc_credit_1m  count_pd_deposit_2m  \\\n",
       "0                      35.0                   0.0                  0.0   \n",
       "1                      31.0                   0.0                  0.0   \n",
       "2                       0.0                   0.0                  0.0   \n",
       "3                      42.0                   0.0                  3.0   \n",
       "4                       2.0                   0.0                 18.0   \n",
       "\n",
       "   count_ach_debit_2m  count_ach_credit_2m  count_card_withdrawal_2m  \\\n",
       "0                 1.0                  0.0                      38.0   \n",
       "1                15.0                  4.0                      31.0   \n",
       "2                 2.0                  0.0                       0.0   \n",
       "3                20.0                 22.0                      42.0   \n",
       "4                 2.0                 21.0                       2.0   \n",
       "\n",
       "   count_mrdc_credit_2m  amount_pd_deposit_1m  amount_ach_debit_1m  \\\n",
       "0                   0.0                  0.00               295.36   \n",
       "1                   0.0                  0.00             10562.34   \n",
       "2                   0.0                  0.00               149.81   \n",
       "3                   0.0                981.80              2645.55   \n",
       "4                   0.0               1641.61                33.07   \n",
       "\n",
       "   amount_ach_credit_1m  amount_card_withdrawal_1m  amount_mrdc_credit_1m  \\\n",
       "0                  0.00                    3962.06                    0.0   \n",
       "1              15750.00                    1948.69                    0.0   \n",
       "2                  0.00                       0.00                    0.0   \n",
       "3               5365.49                    4872.08                    0.0   \n",
       "4               2101.61                      98.95                    0.0   \n",
       "\n",
       "   amount_pd_deposit_2m  amount_ach_debit_2m  amount_ach_credit_2m  \\\n",
       "0                  0.00               295.36                  0.00   \n",
       "1                  0.00             10902.18              15750.00   \n",
       "2                  0.00               754.56                  0.00   \n",
       "3                981.80              2955.55               5568.55   \n",
       "4               1694.08                33.07               2240.48   \n",
       "\n",
       "   amount_card_withdrawal_2m  amount_mrdc_credit_2m  pd_deposit_size_1m  \\\n",
       "0                    4102.83                    0.0            0.000000   \n",
       "1                    1948.69                    0.0            0.000000   \n",
       "2                       0.00                    0.0            0.000000   \n",
       "3                    4872.08                    0.0          245.450000   \n",
       "4                      98.95                    0.0           91.200556   \n",
       "\n",
       "   ach_debit_size_1m  ach_credit_size_1m  card_withdrawal_size_1m  \\\n",
       "0         147.680000            0.000000               110.057222   \n",
       "1         704.156000         3150.000000                60.896563   \n",
       "2          74.905000            0.000000                 0.000000   \n",
       "3         132.277500          243.885909               113.304186   \n",
       "4          11.023333          105.080500                32.983333   \n",
       "\n",
       "   mrdc_credit_size_1m  pd_deposit_size_2m  ach_debit_size_2m  \\\n",
       "0                  0.0            0.000000         147.680000   \n",
       "1                  0.0            0.000000         681.386250   \n",
       "2                  0.0            0.000000         251.520000   \n",
       "3                  0.0          245.450000         140.740476   \n",
       "4                  0.0           89.162105          11.023333   \n",
       "\n",
       "   ach_credit_size_2m  card_withdrawal_size_2m  mrdc_credit_size_2m  \\\n",
       "0             0.00000               105.200769                  0.0   \n",
       "1          3150.00000                60.896563                  0.0   \n",
       "2             0.00000                 0.000000                  0.0   \n",
       "3           242.11087               113.304186                  0.0   \n",
       "4           101.84000                32.983333                  0.0   \n",
       "\n",
       "   amount_credited_1m  distinct_credit_txns_1m  credit_size_1m  \\\n",
       "0             1800.00                      2.0      600.000000   \n",
       "1            15778.25                      5.0     2629.708333   \n",
       "2            16500.00                      2.0     5500.000000   \n",
       "3             8812.37                     30.0      284.270000   \n",
       "4             2101.61                     19.0      105.080500   \n",
       "\n",
       "   median_amount_credited_1m  stddev_amount_credited_1m  amount_credited_2m  \\\n",
       "0                       0.00                 195.239512             2800.00   \n",
       "1                       0.00                1028.030619            20778.25   \n",
       "2                       0.00                2542.495962            21900.00   \n",
       "3                       0.00                 220.698407             9315.43   \n",
       "4                      38.13                  98.148889             4040.48   \n",
       "\n",
       "   distinct_credit_txns_2m  credit_size_2m  median_amount_credited_2m  \\\n",
       "0                      3.0      700.000000                       0.00   \n",
       "1                      6.0     2968.321429                       0.00   \n",
       "2                      3.0     5475.000000                       0.00   \n",
       "3                     32.0      282.285758                       0.00   \n",
       "4                     22.0      175.673043                      52.66   \n",
       "\n",
       "   stddev_amount_credited_2m  amount_debited_1m  distinct_debit_txns_1m  \\\n",
       "0                 244.616840            4257.42                    36.0   \n",
       "1                1170.168024           17355.78                    62.0   \n",
       "2                2725.540575           24020.21                    17.0   \n",
       "3                 221.679502            9430.95                    72.0   \n",
       "4                 316.109676            1924.27                     9.0   \n",
       "\n",
       "   debit_size_1m  median_amount_debited_1m  stddev_amount_debited_1m  \\\n",
       "0     115.065405                    35.885                192.561543   \n",
       "1     275.488571                    74.440                482.237717   \n",
       "2    1334.456111                   828.440               1278.560558   \n",
       "3     129.191096                    16.030                227.338129   \n",
       "4     192.427000                     0.000                172.064979   \n",
       "\n",
       "   amount_debited_2m  distinct_debit_txns_2m  debit_size_2m  \\\n",
       "0            4398.19                    39.0     109.954750   \n",
       "1           20519.12                    67.0     301.751765   \n",
       "2           24624.96                    18.0    1296.050526   \n",
       "3           10640.95                    75.0     140.012500   \n",
       "4            3944.27                    11.0     328.689167   \n",
       "\n",
       "   median_amount_debited_2m  stddev_amount_debited_2m  ratio_debit_credit_1m  \\\n",
       "0                    42.995                191.137528               2.363920   \n",
       "1                   101.750                546.701343               1.099912   \n",
       "2                   828.440               1258.157373               1.455682   \n",
       "3                    19.000                232.956327               1.070073   \n",
       "4                     0.000                378.672749               0.915182   \n",
       "\n",
       "   ratio_debit_credit_frequency_1m  ratio_debit_credit_2m  \\\n",
       "0                        12.000000               1.570221   \n",
       "1                        10.333333               0.987481   \n",
       "2                         5.666667               1.124376   \n",
       "3                         2.322581               1.142170   \n",
       "4                         0.450000               0.975947   \n",
       "\n",
       "   ratio_debit_credit_frequency_2m  ratio_pd_amt_total_credit_1m  \\\n",
       "0                         9.750000                      0.000000   \n",
       "1                         9.571429                      0.000000   \n",
       "2                         4.500000                      0.000000   \n",
       "3                         2.272727                      0.111412   \n",
       "4                         0.478261                      0.781120   \n",
       "\n",
       "   ratio_ach_debit_total_debit_1m  ratio_ach_credit_total_credit_1m  \\\n",
       "0                        0.069375                          0.000000   \n",
       "1                        0.608578                          0.998210   \n",
       "2                        0.006237                          0.000000   \n",
       "3                        0.280518                          0.608859   \n",
       "4                        0.017186                          1.000000   \n",
       "\n",
       "   ratio_card_withdrawal_total_debit_1m  ratio_mrdc_credit_total_credit_1m  \\\n",
       "0                              0.930625                                0.0   \n",
       "1                              0.112279                                0.0   \n",
       "2                              0.000000                                0.0   \n",
       "3                              0.516605                                0.0   \n",
       "4                              0.051422                                0.0   \n",
       "\n",
       "   ratio_pd_amt_total_credit_2m  ratio_ach_debit_total_debit_2m  \\\n",
       "0                      0.000000                        0.067155   \n",
       "1                      0.000000                        0.531318   \n",
       "2                      0.000000                        0.030642   \n",
       "3                      0.105395                        0.277752   \n",
       "4                      0.419277                        0.008384   \n",
       "\n",
       "   ratio_ach_credit_total_credit_2m  ratio_card_withdrawal_total_debit_2m  \\\n",
       "0                          0.000000                              0.932845   \n",
       "1                          0.758004                              0.094969   \n",
       "2                          0.000000                              0.000000   \n",
       "3                          0.597777                              0.457861   \n",
       "4                          0.554508                              0.025087   \n",
       "\n",
       "   ratio_mrdc_credit_total_credit_2m  ratio_pd_freq_total_credit_1m  \\\n",
       "0                                0.0                       0.000000   \n",
       "1                                0.0                       0.000000   \n",
       "2                                0.0                       0.000000   \n",
       "3                                0.0                       0.096774   \n",
       "4                                0.0                       0.850000   \n",
       "\n",
       "   ratio_ach_debit_freq_total_debit_1m  ratio_ach_credit_freq_total_credit_1m  \\\n",
       "0                             0.027027                               0.000000   \n",
       "1                             0.222222                               0.666667   \n",
       "2                             0.055556                               0.000000   \n",
       "3                             0.260274                               0.677419   \n",
       "4                             0.200000                               0.950000   \n",
       "\n",
       "   ratio_card_withdrawal_freq_total_debit_1m  \\\n",
       "0                                   0.945946   \n",
       "1                                   0.492063   \n",
       "2                                   0.000000   \n",
       "3                                   0.575342   \n",
       "4                                   0.200000   \n",
       "\n",
       "   ratio_mrdc_credit_freq_total_credit_1m  ratio_pd_freq_total_credit_2m  \\\n",
       "0                                     0.0                       0.000000   \n",
       "1                                     0.0                       0.000000   \n",
       "2                                     0.0                       0.000000   \n",
       "3                                     0.0                       0.090909   \n",
       "4                                     0.0                       0.782609   \n",
       "\n",
       "   ratio_ach_debit_freq_total_debit_2m  ratio_ach_credit_freq_total_credit_2m  \\\n",
       "0                             0.025000                               0.000000   \n",
       "1                             0.220588                               0.571429   \n",
       "2                             0.105263                               0.000000   \n",
       "3                             0.263158                               0.666667   \n",
       "4                             0.166667                               0.913043   \n",
       "\n",
       "   ratio_card_withdrawal_freq_total_debit_2m  \\\n",
       "0                                   0.950000   \n",
       "1                                   0.455882   \n",
       "2                                   0.000000   \n",
       "3                                   0.552632   \n",
       "4                                   0.166667   \n",
       "\n",
       "   ratio_mrdc_credit_freq_total_credit_2m  ratio_ach_debit_credit_1m  \\\n",
       "0                                     0.0                 295.360000   \n",
       "1                                     0.0                   0.670582   \n",
       "2                                     0.0                 149.810000   \n",
       "3                                     0.0                   0.492976   \n",
       "4                                     0.0                   0.015728   \n",
       "\n",
       "   ratio_ach_debit_credit_2m  ratio_ach_debit_credit_freq_1m  \\\n",
       "0                 295.360000                        1.000000   \n",
       "1                   0.692158                        2.800000   \n",
       "2                 754.560000                        1.000000   \n",
       "3                   0.530662                        0.863636   \n",
       "4                   0.014754                        0.100000   \n",
       "\n",
       "   ratio_ach_debit_credit_freq_2m  ach_d_size_1m  ach_d_size_2m  \\\n",
       "0                        1.000000     147.680000     147.680000   \n",
       "1                        3.000000     704.156000     681.386250   \n",
       "2                        2.000000      74.905000     251.520000   \n",
       "3                        0.869565     132.277500     140.740476   \n",
       "4                        0.090909      11.023333      11.023333   \n",
       "\n",
       "   ach_c_size_1m  ach_c_size_2m  od_count_1m  zero_balance_count_1m  \\\n",
       "0       0.000000        0.00000            0                      0   \n",
       "1    3150.000000     3150.00000            0                      0   \n",
       "2       0.000000        0.00000            0                    265   \n",
       "3     243.885909      242.11087            0                      0   \n",
       "4     105.080500      101.84000            0                      0   \n",
       "\n",
       "   avg_running_balance_1m  median_running_balance_1m  \\\n",
       "0            17343.575172                   17568.71   \n",
       "1             3901.500094                    3885.32   \n",
       "2              391.722727                       0.00   \n",
       "3             1723.974420                    1566.19   \n",
       "4             8374.258025                    9553.33   \n",
       "\n",
       "   stddev_running_balance_1m  od_count_2m  zero_balance_count_2m  \\\n",
       "0                1354.838310            0                      0   \n",
       "1                 920.496885            0                      0   \n",
       "2                1409.751541            0                    265   \n",
       "3                 447.289686            0                      0   \n",
       "4                2807.368662            0                      0   \n",
       "\n",
       "   avg_running_balance_2m  median_running_balance_2m  \\\n",
       "0            17523.418567                   17568.71   \n",
       "1             3751.717020                    3885.32   \n",
       "2              811.492264                       0.00   \n",
       "3             1897.214900                    1566.19   \n",
       "4             7742.268854                    9553.33   \n",
       "\n",
       "   stddev_running_balance_2m  avg_running_balance_2nd_m  \\\n",
       "0                1664.854324               19435.753333   \n",
       "1                1045.185790                2159.023667   \n",
       "2                2011.560183                5275.041667   \n",
       "3                 750.094665                3739.338667   \n",
       "4                3387.413043                1022.117333   \n",
       "\n",
       "   median_running_balance_2nd_m  stddev_running_balance_2nd_m  \\\n",
       "0                     21236.060                   2998.968352   \n",
       "1                      2122.430                    973.031285   \n",
       "2                      5080.880                   2053.065068   \n",
       "3                      3749.750                    846.926747   \n",
       "4                      1077.775                    401.075993   \n",
       "\n",
       "   ratio_avg_running_balance_1m_2m  revenue_past_1m  revenue_past_2m  \\\n",
       "0                         0.892308         12494.28             0.00   \n",
       "1                         1.806230         12726.61         15778.25   \n",
       "2                         0.074246          1600.00         10000.00   \n",
       "3                         0.460914          6934.28          6295.49   \n",
       "4                         8.185042         11224.73          1785.37   \n",
       "\n",
       "   total_revenue_2m  ratio_revenue_1m_2m  credit_limit  amount_drawn_1m_prev  \\\n",
       "0          12494.28         12494.280000       11600.0                1000.0   \n",
       "1          28504.86             0.806541       18500.0                2600.0   \n",
       "2          11600.00             0.159984       11900.0                   0.0   \n",
       "3          13229.77             1.101293       13300.0                   0.0   \n",
       "4          13010.10             6.283541        1800.0                   0.0   \n",
       "\n",
       "   amount_drawn_2m_prev  amount_cashin_1m_prev  amount_cashin_2m_prev  \\\n",
       "0                2800.0                2884.00                   0.00   \n",
       "1                5000.0                2433.33                   0.00   \n",
       "2               11900.0                2196.83                   0.00   \n",
       "3                3500.0                 861.00                 905.82   \n",
       "4                1800.0                 363.00                   0.00   \n",
       "\n",
       "   distinct_draws_1m_prev  distinct_draws_2m_prev  distinct_cashins_1m_prev  \\\n",
       "0                     1.0                     3.0                       2.0   \n",
       "1                     1.0                     1.0                       2.0   \n",
       "2                     0.0                     2.0                       2.0   \n",
       "3                     0.0                     5.0                       5.0   \n",
       "4                     0.0                     1.0                       1.0   \n",
       "\n",
       "   distinct_cashins_2m_prev  ratio_amt_drawn_mom  ratio_amt_cashin_mom  \\\n",
       "0                       0.0             0.357015           2884.000000   \n",
       "1                       0.0             0.519896           2433.330000   \n",
       "2                       0.0             0.000000           2196.830000   \n",
       "3                       5.0             0.000000              0.949472   \n",
       "4                       0.0             0.000000            363.000000   \n",
       "\n",
       "   ratio_count_drawn_mom  ratio_count_cashin_mom  pilot_flag  \\\n",
       "0                   0.25                2.000000           0   \n",
       "1                   0.50                2.000000           0   \n",
       "2                   0.00                2.000000           0   \n",
       "3                   0.00                0.833333           0   \n",
       "4                   0.00                1.000000           0   \n",
       "\n",
       "   pilot_period_flag  rs2_bin  rs2_score  fico_score   rs1_score  rs1_bin  \n",
       "0                  0        5      971.0       749.0  966.614760        5  \n",
       "1                  0        5      822.0       670.0  886.233904        5  \n",
       "2                  0        5      850.0       722.0  810.794650        5  \n",
       "3                  0        5      795.0       721.0  908.033142        5  \n",
       "4                  0        3      551.0       652.0  712.696282        5  "
      ]
     },
     "execution_count": 15,
     "metadata": {},
     "output_type": "execute_result"
    }
   ],
   "source": [
    "df.head()"
   ]
  },
  {
   "cell_type": "code",
   "execution_count": 19,
   "metadata": {},
   "outputs": [
    {
     "data": {
      "text/plain": [
       "0.11708058793715155"
      ]
     },
     "execution_count": 19,
     "metadata": {},
     "output_type": "execute_result"
    }
   ],
   "source": [
    "# accounts who have defaulted at least once\n",
    "df.groupby('business_id')['DPD_plus_15_next'].max().sum()/df.groupby('business_id')['DPD_plus_15_next'].max().count()"
   ]
  },
  {
   "cell_type": "code",
   "execution_count": null,
   "metadata": {},
   "outputs": [],
   "source": []
  },
  {
   "cell_type": "code",
   "execution_count": null,
   "metadata": {},
   "outputs": [],
   "source": []
  },
  {
   "cell_type": "code",
   "execution_count": null,
   "metadata": {},
   "outputs": [],
   "source": []
  },
  {
   "cell_type": "code",
   "execution_count": null,
   "metadata": {},
   "outputs": [],
   "source": []
  },
  {
   "cell_type": "code",
   "execution_count": null,
   "metadata": {},
   "outputs": [],
   "source": []
  }
 ],
 "metadata": {
  "kernelspec": {
   "display_name": "Python 3.10.5 64-bit",
   "language": "python",
   "name": "python3"
  },
  "language_info": {
   "codemirror_mode": {
    "name": "ipython",
    "version": 3
   },
   "file_extension": ".py",
   "mimetype": "text/x-python",
   "name": "python",
   "nbconvert_exporter": "python",
   "pygments_lexer": "ipython3",
   "version": "3.10.5"
  },
  "orig_nbformat": 4,
  "vscode": {
   "interpreter": {
    "hash": "aee8b7b246df8f9039afb4144a1f6fd8d2ca17a180786b69acc140d282b71a49"
   }
  }
 },
 "nbformat": 4,
 "nbformat_minor": 2
}
