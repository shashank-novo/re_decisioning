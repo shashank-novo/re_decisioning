{
 "cells": [
  {
   "cell_type": "code",
   "execution_count": 1,
   "metadata": {},
   "outputs": [
    {
     "name": "stdout",
     "output_type": "stream",
     "text": [
      "/Users/shashankgupta/Documents/code/git_project/redec/re_decisioning\n",
      "/Users/shashankgupta/Documents/code/git_project/redec/re_decisioning/Code\n"
     ]
    }
   ],
   "source": [
    "import os \n",
    "cwd = os.getcwd()\n",
    "\n",
    "os.chdir('../')\n",
    "cwd = os.getcwd()\n",
    "print(cwd)\n",
    " \n",
    "os.chdir('./code/')\n",
    "cwd = os.getcwd()\n",
    "print(cwd)\n",
    "\n",
    "import pandas as pd \n",
    "import numpy as np \n",
    "import seaborn as sns\n",
    "\n",
    "import pickle \n",
    "import logging\n",
    "\n",
    "\n",
    "from config.config import SQLQuery\n",
    "querySno = SQLQuery('snowflake')"
   ]
  },
  {
   "cell_type": "code",
   "execution_count": 3,
   "metadata": {},
   "outputs": [],
   "source": [
    "querySno = SQLQuery('snowflake')\n",
    "ga_df = querySno(r\"\"\"\n",
    "with default_flags as (\n",
    "select distinct lending_business_id, business_id,loan_month,\n",
    "max(case when emi_no = 1 then due_date end) over(partition by lending_business_id) as first_duedate, \n",
    "max(case when emi_no = 2 then due_date end) over(partition by lending_business_id) as second_duedate, \n",
    "max(case when emi_no = 3 then due_date end) over(partition by lending_business_id) as third_duedate,\n",
    "max(case when emi_no = 4 then due_date end) over(partition by lending_business_id) as fourth_duedate,\n",
    "max(case when emi_no = 1 then defalt end) over(partition by lending_business_id) as fpd, \n",
    "max(case when emi_no = 2 then defalt end) over(partition by lending_business_id) as spd, \n",
    "max(case when emi_no = 3 then defalt end) over(partition by lending_business_id) as tpd,\n",
    "max(case when emi_no = 4 then defalt end) over(partition by lending_business_id) as frpd,\n",
    "max(case when emi_no = 1 then total_emi end) over(partition by lending_business_id) as first_emi_amount,\n",
    "max(case when emi_no = 2 then total_emi end) over(partition by lending_business_id) as second_emi_amount,\n",
    "max(case when emi_no = 3 then total_emi end) over(partition by lending_business_id) as third_emi_amount,\n",
    "max(case when emi_no = 4 then total_emi end) over(partition by lending_business_id) as fourth_emi_amount\n",
    "from (\n",
    "select a.*,json_extract_path_text(c.predict_meta, 'business_id') as business_id, month(a.created_at) as month_no,\n",
    "case when paid_on_time = 'true' then 0\n",
    "when paid_on_time = 'false' then 1 else null end as default_flag,\n",
    "dense_rank() over(partition by a.lending_business_id order by due_date) as emi_no,\n",
    "min(a.created_at) over (partition by a.lending_business_id) as min_created_at,\n",
    "month(min_created_at) as loan_month,\n",
    "max(default_flag) over(partition by a.lending_business_id, due_date) as defalt,\n",
    "sum(due_amount) over(partition by a.lending_business_id, due_date) as amount_due,\n",
    "sum(payment) over(partition by a.lending_business_id, due_date) as payment_done,\n",
    "amount_due/100 + payment_done/100 as total_emi\n",
    "from \"FIVETRAN_DB\".\"PROD_NOVO_API_PUBLIC\".\"LENDING_PAYMENT_SCHEDULES\" a\n",
    "join FIVETRAN_DB.PROD_NOVO_API_PUBLIC.LENDING_DECISION_RESULTS c on a.lending_business_id = c.lending_business_id\n",
    "where date(due_date) < date('2023-05-05')\n",
    "-- and a.lending_business_id = '909564ef-6b22-4303-9df5-fc4e892fef01'\n",
    ")\n",
    ")\n",
    ", first_cure as (\n",
    "select *,transaction_date as first_cure_date from (\n",
    "select *, row_number() over(partition by business_id order by transaction_date) rnk\n",
    "from (\n",
    "select b.lending_business_id, t.business_id, t.transaction_date, b.first_emi_amount,b.second_emi_amount,b.third_emi_amount, t.description, \n",
    "running_balance,b.first_duedate,b.second_duedate,b.third_duedate,\n",
    "sum(-amount) over(partition by t.business_id order by transaction_date) as first_amount_cured\n",
    "from default_flags b left join prod_db.data.transactions t on t.business_id = b.business_id\n",
    "where date(transaction_date) >= date(b.first_duedate)\n",
    "-- and date(transaction_date) < date(b.second_duedate)\n",
    "and description ILIKE any('Novo Funding%%')\n",
    "and amount < 0\n",
    ")\n",
    "where first_amount_cured >= first_emi_amount\n",
    ")\n",
    "where rnk = 1\n",
    ")\n",
    ", second_cure as (\n",
    "select *, transaction_date as second_cure_date from (\n",
    "select *, row_number() over(partition by business_id order by transaction_date) as rnk\n",
    "from(\n",
    "select b.lending_business_id, t.business_id, t.transaction_date, b.first_emi_amount,b.second_emi_amount,b.third_emi_amount, t.description, \n",
    "t.running_balance,b.first_duedate,b.second_duedate,b.third_duedate,\n",
    "sum(-amount) over(partition by t.business_id order by transaction_date) as second_amount_cured\n",
    "from default_flags b left join prod_db.data.transactions t on t.business_id = b.business_id\n",
    "-- join first_cure c on b.lending_business_id = c.lending_business_id\n",
    "where date(transaction_date) >= date(b.first_duedate)\n",
    "-- and date(transaction_date) < date(b.second_duedate)\n",
    "and description ILIKE any('Novo Funding%%')\n",
    "and amount < 0\n",
    ")\n",
    "where second_amount_cured >= first_emi_amount + second_emi_amount\n",
    ")\n",
    "where rnk = 1\n",
    ")\n",
    "\n",
    ",third_cure as (\n",
    "select *, transaction_date as third_cure_date from (\n",
    "select *, row_number() over(partition by business_id order by transaction_date) as rnk\n",
    "from(\n",
    "select b.lending_business_id, t.business_id, t.transaction_date, b.first_emi_amount,b.second_emi_amount,b.third_emi_amount, t.description, \n",
    "running_balance,b.first_duedate,b.second_duedate,b.third_duedate,\n",
    "sum(-amount) over(partition by t.business_id order by transaction_date) as third_amount_cured\n",
    "from default_flags b left join prod_db.data.transactions t on t.business_id = b.business_id\n",
    "-- join first_cure c on b.lending_business_id = c.lending_business_id\n",
    "where date(transaction_date) >= date(b.first_duedate)\n",
    "-- and date(transaction_date) < date(b.third_duedate)\n",
    "and description ILIKE any('Novo Funding%%')\n",
    "and amount < 0\n",
    ")\n",
    "where third_amount_cured >= first_emi_amount + second_emi_amount + third_emi_amount\n",
    ")\n",
    "where rnk = 1\n",
    ")\n",
    "\n",
    ",fourth_cure as (\n",
    "select *, transaction_date as fourth_cure_date from (\n",
    "select *, row_number() over(partition by business_id order by transaction_date) as rnk\n",
    "from(\n",
    "select b.lending_business_id, t.business_id, t.transaction_date, b.first_emi_amount,b.second_emi_amount,b.third_emi_amount,b.fourth_emi_amount ,t.description, \n",
    "running_balance,b.first_duedate,b.second_duedate,b.third_duedate,b.fourth_duedate,\n",
    "sum(-amount) over(partition by t.business_id order by transaction_date) as fourth_amount_cured\n",
    "from default_flags b left join prod_db.data.transactions t on t.business_id = b.business_id\n",
    "-- join first_cure c on b.lending_business_id = c.lending_business_id\n",
    "where date(transaction_date) >= date(b.first_duedate)\n",
    "-- and date(transaction_date) < date(b.third_duedate)\n",
    "and description ILIKE any('Novo Funding%%')\n",
    "and amount < 0\n",
    ")\n",
    "where fourth_amount_cured >= first_emi_amount + second_emi_amount + third_emi_amount + fourth_emi_amount\n",
    ")\n",
    "where rnk = 1\n",
    ")\n",
    "\n",
    "select a.lending_business_id, a.business_id, a.first_duedate,date(f.first_cure_date)as first_cure_date, a.second_duedate,date(s.second_cure_date)as second_cure_date, \n",
    "a.third_duedate,date(t.third_cure_date) as third_cure_date, a.fourth_duedate,date(fr.fourth_cure_date) as fourth_cure_date,fpd, spd, tpd, frpd,\n",
    "case when fpd = 1 and first_amount_cured >= a.first_emi_amount then 1 else 0 end as first_cure_flag,\n",
    "case when spd = 1 and second_amount_cured >= a.first_emi_amount + a.second_emi_amount then 1 else 0 end as second_cure_flag,\n",
    "case when tpd = 1 and third_amount_cured >= a.first_emi_amount + a.second_emi_amount + a.third_emi_amount then 1 else 0 end as third_cure_flag,\n",
    "case when frpd = 1 and fourth_amount_cured >= a.first_emi_amount + a.second_emi_amount + a.third_emi_amount + a.fourth_emi_amount then 1 else 0 end as fourth_cure_flag,\n",
    "case when first_cure_flag = 1 then datediff(day,a.first_duedate,f.first_cure_date) else null end as first_cure_days,\n",
    "case when second_cure_flag = 1 then datediff(day,a.second_duedate,s.second_cure_date) else null end as second_cure_days,\n",
    "case when third_cure_flag = 1 then datediff(day,a.third_duedate,t.third_cure_date) else null end as third_cure_days,\n",
    "case when fourth_cure_flag = 1 then datediff(day,a.fourth_duedate,fr.fourth_cure_date) else null end as fourth_cure_days,\n",
    "a.first_emi_amount, f.first_amount_cured, a.second_emi_amount,(s.second_amount_cured - f.first_amount_cured) as second_amt_cured, a.third_emi_amount, \n",
    "(t.third_amount_cured - second_amt_cured) as third_amt_cured, a.fourth_emi_amount, (fr.fourth_amount_cured - third_amt_cured) as fourth_amt_cured\n",
    "from default_flags a \n",
    "left join first_cure f on a.lending_business_id = f.lending_business_id\n",
    "left join second_cure s on a.lending_business_id = s.lending_business_id\n",
    "left join third_cure t on a.lending_business_id = t.lending_business_id\n",
    "left join fourth_cure fr on a.lending_business_id = fr.lending_business_id\n",
    "where a.first_duedate < date('2023-05-19')\n",
    "-- and a.business_id = '111eb19b-cd06-4943-b9f5-c111ae38189e'\n",
    "order by first_duedate desc\n",
    "\"\"\")"
   ]
  },
  {
   "cell_type": "code",
   "execution_count": 4,
   "metadata": {},
   "outputs": [
    {
     "data": {
      "text/plain": [
       "(2229, 30)"
      ]
     },
     "execution_count": 4,
     "metadata": {},
     "output_type": "execute_result"
    }
   ],
   "source": [
    "ga_df.shape"
   ]
  },
  {
   "cell_type": "code",
   "execution_count": 5,
   "metadata": {},
   "outputs": [
    {
     "data": {
      "text/html": [
       "<div>\n",
       "<style scoped>\n",
       "    .dataframe tbody tr th:only-of-type {\n",
       "        vertical-align: middle;\n",
       "    }\n",
       "\n",
       "    .dataframe tbody tr th {\n",
       "        vertical-align: top;\n",
       "    }\n",
       "\n",
       "    .dataframe thead th {\n",
       "        text-align: right;\n",
       "    }\n",
       "</style>\n",
       "<table border=\"1\" class=\"dataframe\">\n",
       "  <thead>\n",
       "    <tr style=\"text-align: right;\">\n",
       "      <th></th>\n",
       "      <th>lending_business_id</th>\n",
       "      <th>business_id</th>\n",
       "      <th>first_duedate</th>\n",
       "      <th>first_cure_date</th>\n",
       "      <th>second_duedate</th>\n",
       "      <th>second_cure_date</th>\n",
       "      <th>third_duedate</th>\n",
       "      <th>third_cure_date</th>\n",
       "      <th>fourth_duedate</th>\n",
       "      <th>fourth_cure_date</th>\n",
       "      <th>...</th>\n",
       "      <th>third_cure_days</th>\n",
       "      <th>fourth_cure_days</th>\n",
       "      <th>first_emi_amount</th>\n",
       "      <th>first_amount_cured</th>\n",
       "      <th>second_emi_amount</th>\n",
       "      <th>second_amt_cured</th>\n",
       "      <th>third_emi_amount</th>\n",
       "      <th>third_amt_cured</th>\n",
       "      <th>fourth_emi_amount</th>\n",
       "      <th>fourth_amt_cured</th>\n",
       "    </tr>\n",
       "  </thead>\n",
       "  <tbody>\n",
       "    <tr>\n",
       "      <th>0</th>\n",
       "      <td>36938cc2-0100-435f-8f03-4a3a741108c6</td>\n",
       "      <td>1e1e434d-3b59-4ca1-b753-cb4f127cce97</td>\n",
       "      <td>2023-05-04</td>\n",
       "      <td>None</td>\n",
       "      <td>None</td>\n",
       "      <td>None</td>\n",
       "      <td>None</td>\n",
       "      <td>None</td>\n",
       "      <td>None</td>\n",
       "      <td>None</td>\n",
       "      <td>...</td>\n",
       "      <td>NaN</td>\n",
       "      <td>NaN</td>\n",
       "      <td>189.16</td>\n",
       "      <td>NaN</td>\n",
       "      <td>NaN</td>\n",
       "      <td>NaN</td>\n",
       "      <td>NaN</td>\n",
       "      <td>NaN</td>\n",
       "      <td>NaN</td>\n",
       "      <td>NaN</td>\n",
       "    </tr>\n",
       "    <tr>\n",
       "      <th>1</th>\n",
       "      <td>76696dc2-3a2e-44c6-9660-45f3f57e3929</td>\n",
       "      <td>ff0aa54b-e339-445e-8e7d-571b43909509</td>\n",
       "      <td>2023-05-04</td>\n",
       "      <td>None</td>\n",
       "      <td>None</td>\n",
       "      <td>None</td>\n",
       "      <td>None</td>\n",
       "      <td>None</td>\n",
       "      <td>None</td>\n",
       "      <td>None</td>\n",
       "      <td>...</td>\n",
       "      <td>NaN</td>\n",
       "      <td>NaN</td>\n",
       "      <td>76.66</td>\n",
       "      <td>NaN</td>\n",
       "      <td>NaN</td>\n",
       "      <td>NaN</td>\n",
       "      <td>NaN</td>\n",
       "      <td>NaN</td>\n",
       "      <td>NaN</td>\n",
       "      <td>NaN</td>\n",
       "    </tr>\n",
       "    <tr>\n",
       "      <th>2</th>\n",
       "      <td>89df7cea-d8cf-4060-8eed-057c3717e8c6</td>\n",
       "      <td>bcb6904e-8688-4f2c-89b5-4b480ef6484e</td>\n",
       "      <td>2023-05-04</td>\n",
       "      <td>2023-05-04</td>\n",
       "      <td>None</td>\n",
       "      <td>None</td>\n",
       "      <td>None</td>\n",
       "      <td>None</td>\n",
       "      <td>None</td>\n",
       "      <td>None</td>\n",
       "      <td>...</td>\n",
       "      <td>NaN</td>\n",
       "      <td>NaN</td>\n",
       "      <td>283.75</td>\n",
       "      <td>283.75</td>\n",
       "      <td>NaN</td>\n",
       "      <td>NaN</td>\n",
       "      <td>NaN</td>\n",
       "      <td>NaN</td>\n",
       "      <td>NaN</td>\n",
       "      <td>NaN</td>\n",
       "    </tr>\n",
       "    <tr>\n",
       "      <th>3</th>\n",
       "      <td>ab86eb05-b55a-4f5c-9e97-6ea37f369c01</td>\n",
       "      <td>a4c275ca-dfd1-4e09-bfe7-9016e7206514</td>\n",
       "      <td>2023-05-04</td>\n",
       "      <td>None</td>\n",
       "      <td>None</td>\n",
       "      <td>None</td>\n",
       "      <td>None</td>\n",
       "      <td>None</td>\n",
       "      <td>None</td>\n",
       "      <td>None</td>\n",
       "      <td>...</td>\n",
       "      <td>NaN</td>\n",
       "      <td>NaN</td>\n",
       "      <td>1053.66</td>\n",
       "      <td>NaN</td>\n",
       "      <td>NaN</td>\n",
       "      <td>NaN</td>\n",
       "      <td>NaN</td>\n",
       "      <td>NaN</td>\n",
       "      <td>NaN</td>\n",
       "      <td>NaN</td>\n",
       "    </tr>\n",
       "    <tr>\n",
       "      <th>4</th>\n",
       "      <td>09e0ed1b-d1f5-4eea-a1aa-547d9a697c67</td>\n",
       "      <td>0e04e84c-edcc-4809-92b3-4e8ba5a8c7e5</td>\n",
       "      <td>2023-05-04</td>\n",
       "      <td>2023-05-04</td>\n",
       "      <td>None</td>\n",
       "      <td>None</td>\n",
       "      <td>None</td>\n",
       "      <td>None</td>\n",
       "      <td>None</td>\n",
       "      <td>None</td>\n",
       "      <td>...</td>\n",
       "      <td>NaN</td>\n",
       "      <td>NaN</td>\n",
       "      <td>2307.16</td>\n",
       "      <td>2307.16</td>\n",
       "      <td>NaN</td>\n",
       "      <td>NaN</td>\n",
       "      <td>NaN</td>\n",
       "      <td>NaN</td>\n",
       "      <td>NaN</td>\n",
       "      <td>NaN</td>\n",
       "    </tr>\n",
       "  </tbody>\n",
       "</table>\n",
       "<p>5 rows × 30 columns</p>\n",
       "</div>"
      ],
      "text/plain": [
       "                    lending_business_id                           business_id  \\\n",
       "0  36938cc2-0100-435f-8f03-4a3a741108c6  1e1e434d-3b59-4ca1-b753-cb4f127cce97   \n",
       "1  76696dc2-3a2e-44c6-9660-45f3f57e3929  ff0aa54b-e339-445e-8e7d-571b43909509   \n",
       "2  89df7cea-d8cf-4060-8eed-057c3717e8c6  bcb6904e-8688-4f2c-89b5-4b480ef6484e   \n",
       "3  ab86eb05-b55a-4f5c-9e97-6ea37f369c01  a4c275ca-dfd1-4e09-bfe7-9016e7206514   \n",
       "4  09e0ed1b-d1f5-4eea-a1aa-547d9a697c67  0e04e84c-edcc-4809-92b3-4e8ba5a8c7e5   \n",
       "\n",
       "  first_duedate first_cure_date second_duedate second_cure_date third_duedate  \\\n",
       "0    2023-05-04            None           None             None          None   \n",
       "1    2023-05-04            None           None             None          None   \n",
       "2    2023-05-04      2023-05-04           None             None          None   \n",
       "3    2023-05-04            None           None             None          None   \n",
       "4    2023-05-04      2023-05-04           None             None          None   \n",
       "\n",
       "  third_cure_date fourth_duedate fourth_cure_date  ...  third_cure_days  \\\n",
       "0            None           None             None  ...              NaN   \n",
       "1            None           None             None  ...              NaN   \n",
       "2            None           None             None  ...              NaN   \n",
       "3            None           None             None  ...              NaN   \n",
       "4            None           None             None  ...              NaN   \n",
       "\n",
       "   fourth_cure_days  first_emi_amount  first_amount_cured  second_emi_amount  \\\n",
       "0               NaN            189.16                 NaN                NaN   \n",
       "1               NaN             76.66                 NaN                NaN   \n",
       "2               NaN            283.75              283.75                NaN   \n",
       "3               NaN           1053.66                 NaN                NaN   \n",
       "4               NaN           2307.16             2307.16                NaN   \n",
       "\n",
       "   second_amt_cured  third_emi_amount  third_amt_cured  fourth_emi_amount  \\\n",
       "0               NaN               NaN              NaN                NaN   \n",
       "1               NaN               NaN              NaN                NaN   \n",
       "2               NaN               NaN              NaN                NaN   \n",
       "3               NaN               NaN              NaN                NaN   \n",
       "4               NaN               NaN              NaN                NaN   \n",
       "\n",
       "   fourth_amt_cured  \n",
       "0               NaN  \n",
       "1               NaN  \n",
       "2               NaN  \n",
       "3               NaN  \n",
       "4               NaN  \n",
       "\n",
       "[5 rows x 30 columns]"
      ]
     },
     "execution_count": 5,
     "metadata": {},
     "output_type": "execute_result"
    }
   ],
   "source": [
    "ga_df.head()"
   ]
  },
  {
   "cell_type": "code",
   "execution_count": 6,
   "metadata": {},
   "outputs": [],
   "source": [
    "ga_df['DPD_plus_15'] = 0\n",
    "ga_df.loc[((ga_df['fpd']==1) & (ga_df['first_cure_days']>=15))| ((ga_df['spd']==1) & (ga_df['second_cure_days']>=15)) | ((ga_df['tpd']==1) & (ga_df['third_cure_days']>=15)) | ((ga_df['frpd']==1) & (ga_df['fourth_cure_days']>=15)),'DPD_plus_15'] = 1"
   ]
  },
  {
   "cell_type": "code",
   "execution_count": 7,
   "metadata": {},
   "outputs": [
    {
     "data": {
      "text/plain": [
       "0    1990\n",
       "1     239\n",
       "Name: DPD_plus_15, dtype: int64"
      ]
     },
     "execution_count": 7,
     "metadata": {},
     "output_type": "execute_result"
    }
   ],
   "source": [
    "ga_df['DPD_plus_15'].value_counts()"
   ]
  },
  {
   "cell_type": "code",
   "execution_count": 8,
   "metadata": {},
   "outputs": [],
   "source": [
    "ga_df['DPD_plus_30'] = 0\n",
    "ga_df.loc[((ga_df['fpd']==1) & (ga_df['first_cure_days']>=30))| ((ga_df['spd']==1) & (ga_df['second_cure_days']>=30)) | ((ga_df['tpd']==1) & (ga_df['third_cure_days']>=30)) | ((ga_df['frpd']==1) & (ga_df['fourth_cure_days']>=30)),'DPD_plus_30'] = 1"
   ]
  },
  {
   "cell_type": "code",
   "execution_count": 9,
   "metadata": {},
   "outputs": [
    {
     "data": {
      "text/plain": [
       "0    2062\n",
       "1     167\n",
       "Name: DPD_plus_30, dtype: int64"
      ]
     },
     "execution_count": 9,
     "metadata": {},
     "output_type": "execute_result"
    }
   ],
   "source": [
    "ga_df['DPD_plus_30'].value_counts()"
   ]
  },
  {
   "cell_type": "code",
   "execution_count": 10,
   "metadata": {},
   "outputs": [],
   "source": [
    "ga_df['FPD_plus_3'] = 0\n",
    "ga_df['SPD_plus_3'] = 0\n",
    "ga_df['TPD_plus_3'] = 0\n",
    "ga_df['FRPD_plus_3'] = 0\n",
    "ga_df.loc[(ga_df['fpd']==1) & (ga_df['first_cure_days']>=3),'FPD_plus_3'] = 1\n",
    "ga_df.loc[(ga_df['spd']==1) & (ga_df['second_cure_days']>=3),'SPD_plus_3'] = 1\n",
    "ga_df.loc[(ga_df['tpd']==1) & (ga_df['third_cure_days']>=3),'TPD_plus_3'] = 1\n",
    "ga_df.loc[(ga_df['frpd']==1) & (ga_df['fourth_cure_days']>=3),'FRPD_plus_3'] = 1"
   ]
  },
  {
   "cell_type": "code",
   "execution_count": 11,
   "metadata": {},
   "outputs": [],
   "source": [
    "ga_df['FPD_plus_15'] = 0\n",
    "ga_df['SPD_plus_15'] = 0\n",
    "ga_df['TPD_plus_15'] = 0\n",
    "ga_df['FRPD_plus_15'] = 0\n",
    "ga_df.loc[(ga_df['fpd']==1) & (ga_df['first_cure_days']>=15),'FPD_plus_15'] = 1\n",
    "ga_df.loc[(ga_df['spd']==1) & (ga_df['second_cure_days']>=15),'SPD_plus_15'] = 1\n",
    "ga_df.loc[(ga_df['tpd']==1) & (ga_df['third_cure_days']>=15),'TPD_plus_15'] = 1\n",
    "ga_df.loc[(ga_df['frpd']==1) & (ga_df['fourth_cure_days']>=15),'FRPD_plus_15'] = 1"
   ]
  },
  {
   "cell_type": "code",
   "execution_count": 12,
   "metadata": {},
   "outputs": [],
   "source": [
    "ga_df['FPD_plus_30'] = 0\n",
    "ga_df['SPD_plus_30'] = 0\n",
    "ga_df['TPD_plus_30'] = 0\n",
    "ga_df['FRPD_plus_30'] = 0\n",
    "ga_df.loc[(ga_df['fpd']==1) & (ga_df['first_cure_days']>=30),'FPD_plus_30'] = 1\n",
    "ga_df.loc[(ga_df['spd']==1) & (ga_df['second_cure_days']>=30),'SPD_plus_30'] = 1\n",
    "ga_df.loc[(ga_df['tpd']==1) & (ga_df['third_cure_days']>=30),'TPD_plus_30'] = 1\n",
    "ga_df.loc[(ga_df['frpd']==1) & (ga_df['fourth_cure_days']>=30),'FRPD_plus_30'] = 1"
   ]
  },
  {
   "cell_type": "code",
   "execution_count": 13,
   "metadata": {},
   "outputs": [],
   "source": [
    "ga_first = ga_df[['business_id','first_duedate','FPD_plus_3','FPD_plus_15','FPD_plus_30']].rename(columns={'first_duedate': 'due_date', 'FPD_plus_3': 'DPD_plus_3','FPD_plus_15': 'DPD_plus_15','FPD_plus_30': 'DPD_plus_30'})\n",
    "ga_second = ga_df[['business_id','second_duedate','SPD_plus_3','SPD_plus_15','SPD_plus_30']].rename(columns={'second_duedate': 'due_date', 'SPD_plus_3': 'DPD_plus_3','SPD_plus_15': 'DPD_plus_15','SPD_plus_30': 'DPD_plus_30'})\n",
    "ga_third = ga_df[['business_id','third_duedate','TPD_plus_3','TPD_plus_15','TPD_plus_30']].rename(columns={'third_duedate': 'due_date', 'TPD_plus_3': 'DPD_plus_3','TPD_plus_15': 'DPD_plus_15','TPD_plus_30': 'DPD_plus_30'})\n",
    "ga_fourth = ga_df[['business_id','fourth_duedate','FRPD_plus_3','FRPD_plus_15','FRPD_plus_30']].rename(columns={'fourth_duedate': 'due_date', 'FRPD_plus_3': 'DPD_plus_3','FRPD_plus_15': 'DPD_plus_15','FRPD_plus_30': 'DPD_plus_30'})"
   ]
  },
  {
   "cell_type": "code",
   "execution_count": 14,
   "metadata": {},
   "outputs": [],
   "source": [
    "ga_first['emi_no'] = 1\n",
    "ga_second['emi_no'] = 2\n",
    "ga_third['emi_no'] = 3\n",
    "ga_fourth['emi_no'] = 4"
   ]
  },
  {
   "cell_type": "code",
   "execution_count": 15,
   "metadata": {},
   "outputs": [],
   "source": [
    "ga_stack = pd.concat([ga_first, ga_second, ga_third, ga_fourth], axis = 0, ignore_index = True)"
   ]
  },
  {
   "cell_type": "code",
   "execution_count": 16,
   "metadata": {},
   "outputs": [
    {
     "data": {
      "text/plain": [
       "(8916, 6)"
      ]
     },
     "execution_count": 16,
     "metadata": {},
     "output_type": "execute_result"
    }
   ],
   "source": [
    "ga_stack.shape"
   ]
  },
  {
   "cell_type": "code",
   "execution_count": 17,
   "metadata": {},
   "outputs": [
    {
     "data": {
      "text/plain": [
       "(2229, 6)"
      ]
     },
     "execution_count": 17,
     "metadata": {},
     "output_type": "execute_result"
    }
   ],
   "source": [
    "ga_first.shape"
   ]
  },
  {
   "cell_type": "code",
   "execution_count": 18,
   "metadata": {},
   "outputs": [
    {
     "data": {
      "text/html": [
       "<div>\n",
       "<style scoped>\n",
       "    .dataframe tbody tr th:only-of-type {\n",
       "        vertical-align: middle;\n",
       "    }\n",
       "\n",
       "    .dataframe tbody tr th {\n",
       "        vertical-align: top;\n",
       "    }\n",
       "\n",
       "    .dataframe thead th {\n",
       "        text-align: right;\n",
       "    }\n",
       "</style>\n",
       "<table border=\"1\" class=\"dataframe\">\n",
       "  <thead>\n",
       "    <tr style=\"text-align: right;\">\n",
       "      <th></th>\n",
       "      <th>business_id</th>\n",
       "      <th>due_date</th>\n",
       "      <th>DPD_plus_3</th>\n",
       "      <th>DPD_plus_15</th>\n",
       "      <th>DPD_plus_30</th>\n",
       "      <th>emi_no</th>\n",
       "    </tr>\n",
       "  </thead>\n",
       "  <tbody>\n",
       "    <tr>\n",
       "      <th>127</th>\n",
       "      <td>d26efcc9-2a8b-4886-80b8-6b86f683d40b</td>\n",
       "      <td>None</td>\n",
       "      <td>0</td>\n",
       "      <td>0</td>\n",
       "      <td>0</td>\n",
       "      <td>4</td>\n",
       "    </tr>\n",
       "    <tr>\n",
       "      <th>1589</th>\n",
       "      <td>3be4a387-b7b3-43c8-b25f-d64f7a8b0ffa</td>\n",
       "      <td>None</td>\n",
       "      <td>0</td>\n",
       "      <td>0</td>\n",
       "      <td>0</td>\n",
       "      <td>4</td>\n",
       "    </tr>\n",
       "    <tr>\n",
       "      <th>721</th>\n",
       "      <td>d4804714-fd24-481a-bd5d-68ebc06ac6a7</td>\n",
       "      <td>None</td>\n",
       "      <td>0</td>\n",
       "      <td>0</td>\n",
       "      <td>0</td>\n",
       "      <td>4</td>\n",
       "    </tr>\n",
       "    <tr>\n",
       "      <th>104</th>\n",
       "      <td>2a49fdec-5fdc-445a-a7b7-a845ba91f10c</td>\n",
       "      <td>None</td>\n",
       "      <td>0</td>\n",
       "      <td>0</td>\n",
       "      <td>0</td>\n",
       "      <td>4</td>\n",
       "    </tr>\n",
       "    <tr>\n",
       "      <th>1911</th>\n",
       "      <td>0202e995-8239-4235-8099-bb0bee709bd6</td>\n",
       "      <td>2023-04-29</td>\n",
       "      <td>0</td>\n",
       "      <td>0</td>\n",
       "      <td>0</td>\n",
       "      <td>4</td>\n",
       "    </tr>\n",
       "  </tbody>\n",
       "</table>\n",
       "</div>"
      ],
      "text/plain": [
       "                               business_id    due_date  DPD_plus_3  \\\n",
       "127   d26efcc9-2a8b-4886-80b8-6b86f683d40b        None           0   \n",
       "1589  3be4a387-b7b3-43c8-b25f-d64f7a8b0ffa        None           0   \n",
       "721   d4804714-fd24-481a-bd5d-68ebc06ac6a7        None           0   \n",
       "104   2a49fdec-5fdc-445a-a7b7-a845ba91f10c        None           0   \n",
       "1911  0202e995-8239-4235-8099-bb0bee709bd6  2023-04-29           0   \n",
       "\n",
       "      DPD_plus_15  DPD_plus_30  emi_no  \n",
       "127             0            0       4  \n",
       "1589            0            0       4  \n",
       "721             0            0       4  \n",
       "104             0            0       4  \n",
       "1911            0            0       4  "
      ]
     },
     "execution_count": 18,
     "metadata": {},
     "output_type": "execute_result"
    }
   ],
   "source": [
    "ga_fourth.sample(5)"
   ]
  },
  {
   "cell_type": "code",
   "execution_count": 19,
   "metadata": {},
   "outputs": [
    {
     "data": {
      "text/plain": [
       "(3599, 6)"
      ]
     },
     "execution_count": 19,
     "metadata": {},
     "output_type": "execute_result"
    }
   ],
   "source": [
    "ga_stack[ga_stack['due_date'].isnull()].shape"
   ]
  },
  {
   "cell_type": "code",
   "execution_count": 20,
   "metadata": {},
   "outputs": [],
   "source": [
    "ga_stack = ga_stack[~ga_stack['due_date'].isnull()]"
   ]
  },
  {
   "cell_type": "code",
   "execution_count": 21,
   "metadata": {},
   "outputs": [
    {
     "data": {
      "text/plain": [
       "(5317, 6)"
      ]
     },
     "execution_count": 21,
     "metadata": {},
     "output_type": "execute_result"
    }
   ],
   "source": [
    "ga_stack.shape"
   ]
  },
  {
   "cell_type": "code",
   "execution_count": 22,
   "metadata": {},
   "outputs": [
    {
     "data": {
      "text/plain": [
       "1    2229\n",
       "2    1667\n",
       "3    1075\n",
       "4     346\n",
       "Name: emi_no, dtype: int64"
      ]
     },
     "execution_count": 22,
     "metadata": {},
     "output_type": "execute_result"
    }
   ],
   "source": [
    "ga_stack['emi_no'].value_counts()"
   ]
  },
  {
   "cell_type": "code",
   "execution_count": 23,
   "metadata": {},
   "outputs": [],
   "source": [
    "df = ga_stack.copy()"
   ]
  },
  {
   "cell_type": "code",
   "execution_count": 24,
   "metadata": {},
   "outputs": [
    {
     "data": {
      "text/plain": [
       "0    5034\n",
       "1     283\n",
       "Name: DPD_plus_15, dtype: int64"
      ]
     },
     "execution_count": 24,
     "metadata": {},
     "output_type": "execute_result"
    }
   ],
   "source": [
    "df['DPD_plus_15'].value_counts()"
   ]
  },
  {
   "cell_type": "code",
   "execution_count": 25,
   "metadata": {},
   "outputs": [
    {
     "data": {
      "text/html": [
       "<div>\n",
       "<style scoped>\n",
       "    .dataframe tbody tr th:only-of-type {\n",
       "        vertical-align: middle;\n",
       "    }\n",
       "\n",
       "    .dataframe tbody tr th {\n",
       "        vertical-align: top;\n",
       "    }\n",
       "\n",
       "    .dataframe thead th {\n",
       "        text-align: right;\n",
       "    }\n",
       "</style>\n",
       "<table border=\"1\" class=\"dataframe\">\n",
       "  <thead>\n",
       "    <tr style=\"text-align: right;\">\n",
       "      <th></th>\n",
       "      <th>business_id</th>\n",
       "      <th>due_date</th>\n",
       "      <th>DPD_plus_3</th>\n",
       "      <th>DPD_plus_15</th>\n",
       "      <th>DPD_plus_30</th>\n",
       "      <th>emi_no</th>\n",
       "    </tr>\n",
       "  </thead>\n",
       "  <tbody>\n",
       "    <tr>\n",
       "      <th>0</th>\n",
       "      <td>1e1e434d-3b59-4ca1-b753-cb4f127cce97</td>\n",
       "      <td>2023-05-04</td>\n",
       "      <td>0</td>\n",
       "      <td>0</td>\n",
       "      <td>0</td>\n",
       "      <td>1</td>\n",
       "    </tr>\n",
       "    <tr>\n",
       "      <th>1</th>\n",
       "      <td>ff0aa54b-e339-445e-8e7d-571b43909509</td>\n",
       "      <td>2023-05-04</td>\n",
       "      <td>0</td>\n",
       "      <td>0</td>\n",
       "      <td>0</td>\n",
       "      <td>1</td>\n",
       "    </tr>\n",
       "    <tr>\n",
       "      <th>2</th>\n",
       "      <td>bcb6904e-8688-4f2c-89b5-4b480ef6484e</td>\n",
       "      <td>2023-05-04</td>\n",
       "      <td>0</td>\n",
       "      <td>0</td>\n",
       "      <td>0</td>\n",
       "      <td>1</td>\n",
       "    </tr>\n",
       "    <tr>\n",
       "      <th>3</th>\n",
       "      <td>a4c275ca-dfd1-4e09-bfe7-9016e7206514</td>\n",
       "      <td>2023-05-04</td>\n",
       "      <td>0</td>\n",
       "      <td>0</td>\n",
       "      <td>0</td>\n",
       "      <td>1</td>\n",
       "    </tr>\n",
       "    <tr>\n",
       "      <th>4</th>\n",
       "      <td>0e04e84c-edcc-4809-92b3-4e8ba5a8c7e5</td>\n",
       "      <td>2023-05-04</td>\n",
       "      <td>0</td>\n",
       "      <td>0</td>\n",
       "      <td>0</td>\n",
       "      <td>1</td>\n",
       "    </tr>\n",
       "  </tbody>\n",
       "</table>\n",
       "</div>"
      ],
      "text/plain": [
       "                            business_id    due_date  DPD_plus_3  DPD_plus_15  \\\n",
       "0  1e1e434d-3b59-4ca1-b753-cb4f127cce97  2023-05-04           0            0   \n",
       "1  ff0aa54b-e339-445e-8e7d-571b43909509  2023-05-04           0            0   \n",
       "2  bcb6904e-8688-4f2c-89b5-4b480ef6484e  2023-05-04           0            0   \n",
       "3  a4c275ca-dfd1-4e09-bfe7-9016e7206514  2023-05-04           0            0   \n",
       "4  0e04e84c-edcc-4809-92b3-4e8ba5a8c7e5  2023-05-04           0            0   \n",
       "\n",
       "   DPD_plus_30  emi_no  \n",
       "0            0       1  \n",
       "1            0       1  \n",
       "2            0       1  \n",
       "3            0       1  \n",
       "4            0       1  "
      ]
     },
     "execution_count": 25,
     "metadata": {},
     "output_type": "execute_result"
    }
   ],
   "source": [
    "df.head()"
   ]
  },
  {
   "cell_type": "code",
   "execution_count": 26,
   "metadata": {},
   "outputs": [
    {
     "data": {
      "text/plain": [
       "(5317, 6)"
      ]
     },
     "execution_count": 26,
     "metadata": {},
     "output_type": "execute_result"
    }
   ],
   "source": [
    "df.shape"
   ]
  },
  {
   "cell_type": "code",
   "execution_count": 27,
   "metadata": {},
   "outputs": [],
   "source": [
    "df = df.drop_duplicates(subset=['business_id','due_date'])"
   ]
  },
  {
   "cell_type": "code",
   "execution_count": 28,
   "metadata": {},
   "outputs": [
    {
     "name": "stdout",
     "output_type": "stream",
     "text": [
      "<class 'pandas.core.frame.DataFrame'>\n",
      "Int64Index: 5314 entries, 0 to 8915\n",
      "Data columns (total 6 columns):\n",
      " #   Column       Non-Null Count  Dtype \n",
      "---  ------       --------------  ----- \n",
      " 0   business_id  5314 non-null   object\n",
      " 1   due_date     5314 non-null   object\n",
      " 2   DPD_plus_3   5314 non-null   int64 \n",
      " 3   DPD_plus_15  5314 non-null   int64 \n",
      " 4   DPD_plus_30  5314 non-null   int64 \n",
      " 5   emi_no       5314 non-null   int64 \n",
      "dtypes: int64(4), object(2)\n",
      "memory usage: 290.6+ KB\n"
     ]
    }
   ],
   "source": [
    "df.info()"
   ]
  },
  {
   "cell_type": "code",
   "execution_count": 29,
   "metadata": {},
   "outputs": [],
   "source": [
    "df[\"due_date\"] = df[\"due_date\"].astype('datetime64[ns]')"
   ]
  },
  {
   "cell_type": "code",
   "execution_count": 30,
   "metadata": {},
   "outputs": [
    {
     "data": {
      "text/plain": [
       "1    2228\n",
       "2    1666\n",
       "3    1074\n",
       "4     346\n",
       "Name: emi_no, dtype: int64"
      ]
     },
     "execution_count": 30,
     "metadata": {},
     "output_type": "execute_result"
    }
   ],
   "source": [
    "df['emi_no'].value_counts()"
   ]
  },
  {
   "cell_type": "code",
   "execution_count": 31,
   "metadata": {},
   "outputs": [],
   "source": [
    "# sdf= querySno(r\"\"\" \n",
    "# select * from PROD_DB.ADHOC.REDEC_SCORED_DATASET\n",
    "# \"\"\")"
   ]
  },
  {
   "cell_type": "code",
   "execution_count": 32,
   "metadata": {},
   "outputs": [],
   "source": [
    "# sdf = pd.read_pickle(f'/Users/shashankgupta/Documents/code/git_project/redec/re_decisioning/data/new_dataset_scored.pkl')"
   ]
  },
  {
   "cell_type": "code",
   "execution_count": 33,
   "metadata": {},
   "outputs": [],
   "source": [
    "# sdf.shape"
   ]
  },
  {
   "cell_type": "code",
   "execution_count": 34,
   "metadata": {},
   "outputs": [],
   "source": [
    "# sdf.info()"
   ]
  },
  {
   "cell_type": "code",
   "execution_count": 35,
   "metadata": {},
   "outputs": [],
   "source": [
    "# sdf[\"due_date\"] = sdf[\"due_date\"].astype('datetime64[ns]')"
   ]
  },
  {
   "cell_type": "code",
   "execution_count": 36,
   "metadata": {},
   "outputs": [],
   "source": [
    "# sdf.head()"
   ]
  },
  {
   "cell_type": "code",
   "execution_count": 37,
   "metadata": {},
   "outputs": [],
   "source": [
    "# sdf = sdf[['business_id','due_date', 'emi_no', 'redec_proba','redec_score','redec_bin']]"
   ]
  },
  {
   "cell_type": "code",
   "execution_count": 38,
   "metadata": {},
   "outputs": [],
   "source": [
    "# df = df.merge(sdf,left_on = ['business_id','due_date'],right_on = ['business_id','due_date'])"
   ]
  },
  {
   "cell_type": "code",
   "execution_count": 39,
   "metadata": {},
   "outputs": [
    {
     "data": {
      "text/plain": [
       "(5314, 6)"
      ]
     },
     "execution_count": 39,
     "metadata": {},
     "output_type": "execute_result"
    }
   ],
   "source": [
    "df.shape"
   ]
  },
  {
   "cell_type": "code",
   "execution_count": 40,
   "metadata": {},
   "outputs": [
    {
     "data": {
      "text/html": [
       "<div>\n",
       "<style scoped>\n",
       "    .dataframe tbody tr th:only-of-type {\n",
       "        vertical-align: middle;\n",
       "    }\n",
       "\n",
       "    .dataframe tbody tr th {\n",
       "        vertical-align: top;\n",
       "    }\n",
       "\n",
       "    .dataframe thead th {\n",
       "        text-align: right;\n",
       "    }\n",
       "</style>\n",
       "<table border=\"1\" class=\"dataframe\">\n",
       "  <thead>\n",
       "    <tr style=\"text-align: right;\">\n",
       "      <th></th>\n",
       "      <th>business_id</th>\n",
       "      <th>due_date</th>\n",
       "      <th>DPD_plus_3</th>\n",
       "      <th>DPD_plus_15</th>\n",
       "      <th>DPD_plus_30</th>\n",
       "      <th>emi_no</th>\n",
       "    </tr>\n",
       "  </thead>\n",
       "  <tbody>\n",
       "    <tr>\n",
       "      <th>0</th>\n",
       "      <td>1e1e434d-3b59-4ca1-b753-cb4f127cce97</td>\n",
       "      <td>2023-05-04</td>\n",
       "      <td>0</td>\n",
       "      <td>0</td>\n",
       "      <td>0</td>\n",
       "      <td>1</td>\n",
       "    </tr>\n",
       "    <tr>\n",
       "      <th>1</th>\n",
       "      <td>ff0aa54b-e339-445e-8e7d-571b43909509</td>\n",
       "      <td>2023-05-04</td>\n",
       "      <td>0</td>\n",
       "      <td>0</td>\n",
       "      <td>0</td>\n",
       "      <td>1</td>\n",
       "    </tr>\n",
       "    <tr>\n",
       "      <th>2</th>\n",
       "      <td>bcb6904e-8688-4f2c-89b5-4b480ef6484e</td>\n",
       "      <td>2023-05-04</td>\n",
       "      <td>0</td>\n",
       "      <td>0</td>\n",
       "      <td>0</td>\n",
       "      <td>1</td>\n",
       "    </tr>\n",
       "    <tr>\n",
       "      <th>3</th>\n",
       "      <td>a4c275ca-dfd1-4e09-bfe7-9016e7206514</td>\n",
       "      <td>2023-05-04</td>\n",
       "      <td>0</td>\n",
       "      <td>0</td>\n",
       "      <td>0</td>\n",
       "      <td>1</td>\n",
       "    </tr>\n",
       "    <tr>\n",
       "      <th>4</th>\n",
       "      <td>0e04e84c-edcc-4809-92b3-4e8ba5a8c7e5</td>\n",
       "      <td>2023-05-04</td>\n",
       "      <td>0</td>\n",
       "      <td>0</td>\n",
       "      <td>0</td>\n",
       "      <td>1</td>\n",
       "    </tr>\n",
       "  </tbody>\n",
       "</table>\n",
       "</div>"
      ],
      "text/plain": [
       "                            business_id   due_date  DPD_plus_3  DPD_plus_15  \\\n",
       "0  1e1e434d-3b59-4ca1-b753-cb4f127cce97 2023-05-04           0            0   \n",
       "1  ff0aa54b-e339-445e-8e7d-571b43909509 2023-05-04           0            0   \n",
       "2  bcb6904e-8688-4f2c-89b5-4b480ef6484e 2023-05-04           0            0   \n",
       "3  a4c275ca-dfd1-4e09-bfe7-9016e7206514 2023-05-04           0            0   \n",
       "4  0e04e84c-edcc-4809-92b3-4e8ba5a8c7e5 2023-05-04           0            0   \n",
       "\n",
       "   DPD_plus_30  emi_no  \n",
       "0            0       1  \n",
       "1            0       1  \n",
       "2            0       1  \n",
       "3            0       1  \n",
       "4            0       1  "
      ]
     },
     "execution_count": 40,
     "metadata": {},
     "output_type": "execute_result"
    }
   ],
   "source": [
    "df.head()"
   ]
  },
  {
   "cell_type": "code",
   "execution_count": 41,
   "metadata": {},
   "outputs": [],
   "source": [
    "df = df.merge(df.sort_values(['business_id','emi_no']).groupby(['business_id'])['DPD_plus_15'].shift(-1).rename('DPD_plus_15_next'),left_index=True,right_index=True)"
   ]
  },
  {
   "cell_type": "code",
   "execution_count": 42,
   "metadata": {},
   "outputs": [
    {
     "data": {
      "text/html": [
       "<div>\n",
       "<style scoped>\n",
       "    .dataframe tbody tr th:only-of-type {\n",
       "        vertical-align: middle;\n",
       "    }\n",
       "\n",
       "    .dataframe tbody tr th {\n",
       "        vertical-align: top;\n",
       "    }\n",
       "\n",
       "    .dataframe thead th {\n",
       "        text-align: right;\n",
       "    }\n",
       "</style>\n",
       "<table border=\"1\" class=\"dataframe\">\n",
       "  <thead>\n",
       "    <tr style=\"text-align: right;\">\n",
       "      <th></th>\n",
       "      <th>business_id</th>\n",
       "      <th>due_date</th>\n",
       "      <th>DPD_plus_3</th>\n",
       "      <th>DPD_plus_15</th>\n",
       "      <th>DPD_plus_30</th>\n",
       "      <th>emi_no</th>\n",
       "      <th>DPD_plus_15_next</th>\n",
       "    </tr>\n",
       "  </thead>\n",
       "  <tbody>\n",
       "    <tr>\n",
       "      <th>0</th>\n",
       "      <td>1e1e434d-3b59-4ca1-b753-cb4f127cce97</td>\n",
       "      <td>2023-05-04</td>\n",
       "      <td>0</td>\n",
       "      <td>0</td>\n",
       "      <td>0</td>\n",
       "      <td>1</td>\n",
       "      <td>NaN</td>\n",
       "    </tr>\n",
       "    <tr>\n",
       "      <th>1</th>\n",
       "      <td>ff0aa54b-e339-445e-8e7d-571b43909509</td>\n",
       "      <td>2023-05-04</td>\n",
       "      <td>0</td>\n",
       "      <td>0</td>\n",
       "      <td>0</td>\n",
       "      <td>1</td>\n",
       "      <td>NaN</td>\n",
       "    </tr>\n",
       "    <tr>\n",
       "      <th>2</th>\n",
       "      <td>bcb6904e-8688-4f2c-89b5-4b480ef6484e</td>\n",
       "      <td>2023-05-04</td>\n",
       "      <td>0</td>\n",
       "      <td>0</td>\n",
       "      <td>0</td>\n",
       "      <td>1</td>\n",
       "      <td>NaN</td>\n",
       "    </tr>\n",
       "    <tr>\n",
       "      <th>3</th>\n",
       "      <td>a4c275ca-dfd1-4e09-bfe7-9016e7206514</td>\n",
       "      <td>2023-05-04</td>\n",
       "      <td>0</td>\n",
       "      <td>0</td>\n",
       "      <td>0</td>\n",
       "      <td>1</td>\n",
       "      <td>NaN</td>\n",
       "    </tr>\n",
       "    <tr>\n",
       "      <th>4</th>\n",
       "      <td>0e04e84c-edcc-4809-92b3-4e8ba5a8c7e5</td>\n",
       "      <td>2023-05-04</td>\n",
       "      <td>0</td>\n",
       "      <td>0</td>\n",
       "      <td>0</td>\n",
       "      <td>1</td>\n",
       "      <td>NaN</td>\n",
       "    </tr>\n",
       "  </tbody>\n",
       "</table>\n",
       "</div>"
      ],
      "text/plain": [
       "                            business_id   due_date  DPD_plus_3  DPD_plus_15  \\\n",
       "0  1e1e434d-3b59-4ca1-b753-cb4f127cce97 2023-05-04           0            0   \n",
       "1  ff0aa54b-e339-445e-8e7d-571b43909509 2023-05-04           0            0   \n",
       "2  bcb6904e-8688-4f2c-89b5-4b480ef6484e 2023-05-04           0            0   \n",
       "3  a4c275ca-dfd1-4e09-bfe7-9016e7206514 2023-05-04           0            0   \n",
       "4  0e04e84c-edcc-4809-92b3-4e8ba5a8c7e5 2023-05-04           0            0   \n",
       "\n",
       "   DPD_plus_30  emi_no  DPD_plus_15_next  \n",
       "0            0       1               NaN  \n",
       "1            0       1               NaN  \n",
       "2            0       1               NaN  \n",
       "3            0       1               NaN  \n",
       "4            0       1               NaN  "
      ]
     },
     "execution_count": 42,
     "metadata": {},
     "output_type": "execute_result"
    }
   ],
   "source": [
    "df.head()"
   ]
  },
  {
   "cell_type": "code",
   "execution_count": 43,
   "metadata": {},
   "outputs": [
    {
     "data": {
      "text/html": [
       "<div>\n",
       "<style scoped>\n",
       "    .dataframe tbody tr th:only-of-type {\n",
       "        vertical-align: middle;\n",
       "    }\n",
       "\n",
       "    .dataframe tbody tr th {\n",
       "        vertical-align: top;\n",
       "    }\n",
       "\n",
       "    .dataframe thead th {\n",
       "        text-align: right;\n",
       "    }\n",
       "</style>\n",
       "<table border=\"1\" class=\"dataframe\">\n",
       "  <thead>\n",
       "    <tr style=\"text-align: right;\">\n",
       "      <th></th>\n",
       "      <th>business_id</th>\n",
       "      <th>due_date</th>\n",
       "      <th>DPD_plus_3</th>\n",
       "      <th>DPD_plus_15</th>\n",
       "      <th>DPD_plus_30</th>\n",
       "      <th>emi_no</th>\n",
       "      <th>DPD_plus_15_next</th>\n",
       "    </tr>\n",
       "  </thead>\n",
       "  <tbody>\n",
       "    <tr>\n",
       "      <th>8700</th>\n",
       "      <td>eebd7d61-1061-4ae6-a77e-1cd49e865415</td>\n",
       "      <td>2023-04-08</td>\n",
       "      <td>0</td>\n",
       "      <td>0</td>\n",
       "      <td>0</td>\n",
       "      <td>4</td>\n",
       "      <td>NaN</td>\n",
       "    </tr>\n",
       "    <tr>\n",
       "      <th>8596</th>\n",
       "      <td>2607470d-42e2-4c42-be9d-56f9b8869399</td>\n",
       "      <td>2023-04-30</td>\n",
       "      <td>0</td>\n",
       "      <td>0</td>\n",
       "      <td>0</td>\n",
       "      <td>4</td>\n",
       "      <td>NaN</td>\n",
       "    </tr>\n",
       "    <tr>\n",
       "      <th>8592</th>\n",
       "      <td>867f4b74-1783-4b2b-ba75-7197e3089ad9</td>\n",
       "      <td>2023-04-30</td>\n",
       "      <td>0</td>\n",
       "      <td>0</td>\n",
       "      <td>0</td>\n",
       "      <td>4</td>\n",
       "      <td>NaN</td>\n",
       "    </tr>\n",
       "    <tr>\n",
       "      <th>8822</th>\n",
       "      <td>19b10407-d2ea-4aee-8256-565b2a060d35</td>\n",
       "      <td>2023-04-01</td>\n",
       "      <td>0</td>\n",
       "      <td>0</td>\n",
       "      <td>0</td>\n",
       "      <td>4</td>\n",
       "      <td>NaN</td>\n",
       "    </tr>\n",
       "    <tr>\n",
       "      <th>8790</th>\n",
       "      <td>dd02cea4-a9a8-4ee0-9682-86b8f86a5a7d</td>\n",
       "      <td>2023-04-02</td>\n",
       "      <td>0</td>\n",
       "      <td>0</td>\n",
       "      <td>0</td>\n",
       "      <td>4</td>\n",
       "      <td>NaN</td>\n",
       "    </tr>\n",
       "  </tbody>\n",
       "</table>\n",
       "</div>"
      ],
      "text/plain": [
       "                               business_id   due_date  DPD_plus_3  \\\n",
       "8700  eebd7d61-1061-4ae6-a77e-1cd49e865415 2023-04-08           0   \n",
       "8596  2607470d-42e2-4c42-be9d-56f9b8869399 2023-04-30           0   \n",
       "8592  867f4b74-1783-4b2b-ba75-7197e3089ad9 2023-04-30           0   \n",
       "8822  19b10407-d2ea-4aee-8256-565b2a060d35 2023-04-01           0   \n",
       "8790  dd02cea4-a9a8-4ee0-9682-86b8f86a5a7d 2023-04-02           0   \n",
       "\n",
       "      DPD_plus_15  DPD_plus_30  emi_no  DPD_plus_15_next  \n",
       "8700            0            0       4               NaN  \n",
       "8596            0            0       4               NaN  \n",
       "8592            0            0       4               NaN  \n",
       "8822            0            0       4               NaN  \n",
       "8790            0            0       4               NaN  "
      ]
     },
     "execution_count": 43,
     "metadata": {},
     "output_type": "execute_result"
    }
   ],
   "source": [
    "df[df['emi_no']==4].sample(5)"
   ]
  },
  {
   "cell_type": "code",
   "execution_count": 44,
   "metadata": {},
   "outputs": [],
   "source": [
    "df = df.fillna(0)"
   ]
  },
  {
   "cell_type": "code",
   "execution_count": 45,
   "metadata": {},
   "outputs": [],
   "source": [
    "ddf = querySno(r\"\"\"\n",
    "select json_extract_path_text(predict_meta, 'business_id') as business_id, json_extract_path_text(predict_meta, 'default_bin') as rs2_bin , novo_risk_score as rs2_score , fico_score\n",
    "from FIVETRAN_DB.PROD_NOVO_API_PUBLIC.LENDING_DECISION_RESULTS a \n",
    "left join  \"FIVETRAN_DB\".\"PROD_NOVO_API_PUBLIC\".\"CUSTOMER_CREDIT_PROFILES\" b \n",
    "on a.lending_business_id = b.lending_business_id\n",
    "\"\"\")"
   ]
  },
  {
   "cell_type": "code",
   "execution_count": 46,
   "metadata": {},
   "outputs": [
    {
     "data": {
      "text/html": [
       "<div>\n",
       "<style scoped>\n",
       "    .dataframe tbody tr th:only-of-type {\n",
       "        vertical-align: middle;\n",
       "    }\n",
       "\n",
       "    .dataframe tbody tr th {\n",
       "        vertical-align: top;\n",
       "    }\n",
       "\n",
       "    .dataframe thead th {\n",
       "        text-align: right;\n",
       "    }\n",
       "</style>\n",
       "<table border=\"1\" class=\"dataframe\">\n",
       "  <thead>\n",
       "    <tr style=\"text-align: right;\">\n",
       "      <th></th>\n",
       "      <th>business_id</th>\n",
       "      <th>rs2_bin</th>\n",
       "      <th>rs2_score</th>\n",
       "      <th>fico_score</th>\n",
       "    </tr>\n",
       "  </thead>\n",
       "  <tbody>\n",
       "    <tr>\n",
       "      <th>0</th>\n",
       "      <td>25539d6a-d201-4564-a6a6-b30be4ab5632</td>\n",
       "      <td>5</td>\n",
       "      <td>883.0</td>\n",
       "      <td>794</td>\n",
       "    </tr>\n",
       "    <tr>\n",
       "      <th>1</th>\n",
       "      <td>919f8399-5794-45c0-8ecc-cc693469d487</td>\n",
       "      <td>3</td>\n",
       "      <td>544.0</td>\n",
       "      <td>625</td>\n",
       "    </tr>\n",
       "    <tr>\n",
       "      <th>2</th>\n",
       "      <td>90524c16-28c7-4fd7-8aa8-48eb47d4ea78</td>\n",
       "      <td>4</td>\n",
       "      <td>673.0</td>\n",
       "      <td>475</td>\n",
       "    </tr>\n",
       "    <tr>\n",
       "      <th>3</th>\n",
       "      <td>6d3acc5f-effb-4685-9f43-529a308b14e5</td>\n",
       "      <td>5</td>\n",
       "      <td>820.0</td>\n",
       "      <td>721</td>\n",
       "    </tr>\n",
       "    <tr>\n",
       "      <th>4</th>\n",
       "      <td>f35df4ad-9121-4d2d-8075-bdf967c2bd58</td>\n",
       "      <td>3</td>\n",
       "      <td>551.0</td>\n",
       "      <td>740</td>\n",
       "    </tr>\n",
       "  </tbody>\n",
       "</table>\n",
       "</div>"
      ],
      "text/plain": [
       "                            business_id rs2_bin  rs2_score fico_score\n",
       "0  25539d6a-d201-4564-a6a6-b30be4ab5632       5      883.0        794\n",
       "1  919f8399-5794-45c0-8ecc-cc693469d487       3      544.0        625\n",
       "2  90524c16-28c7-4fd7-8aa8-48eb47d4ea78       4      673.0        475\n",
       "3  6d3acc5f-effb-4685-9f43-529a308b14e5       5      820.0        721\n",
       "4  f35df4ad-9121-4d2d-8075-bdf967c2bd58       3      551.0        740"
      ]
     },
     "execution_count": 46,
     "metadata": {},
     "output_type": "execute_result"
    }
   ],
   "source": [
    "ddf.head()"
   ]
  },
  {
   "cell_type": "code",
   "execution_count": 47,
   "metadata": {},
   "outputs": [
    {
     "data": {
      "text/plain": [
       "(9635, 4)"
      ]
     },
     "execution_count": 47,
     "metadata": {},
     "output_type": "execute_result"
    }
   ],
   "source": [
    "ddf.shape"
   ]
  },
  {
   "cell_type": "code",
   "execution_count": 48,
   "metadata": {},
   "outputs": [],
   "source": [
    "ddf = ddf.drop_duplicates(subset=['business_id'])"
   ]
  },
  {
   "cell_type": "code",
   "execution_count": 49,
   "metadata": {},
   "outputs": [],
   "source": [
    "ddf2 = querySno(r\"\"\" \n",
    "select *, novo_risk_score as rs1_score\n",
    "from (\n",
    "select *, row_number() over(partition by business_id order by offer_start_at desc) rnk from \"FIVETRAN_DB\".\"PROD_NOVO_API_PUBLIC\".\"LENDING_INVITATIONS\"\n",
    ")\n",
    "where rnk = 1\n",
    "\n",
    "\"\"\")"
   ]
  },
  {
   "cell_type": "code",
   "execution_count": 50,
   "metadata": {},
   "outputs": [
    {
     "data": {
      "text/html": [
       "<div>\n",
       "<style scoped>\n",
       "    .dataframe tbody tr th:only-of-type {\n",
       "        vertical-align: middle;\n",
       "    }\n",
       "\n",
       "    .dataframe tbody tr th {\n",
       "        vertical-align: top;\n",
       "    }\n",
       "\n",
       "    .dataframe thead th {\n",
       "        text-align: right;\n",
       "    }\n",
       "</style>\n",
       "<table border=\"1\" class=\"dataframe\">\n",
       "  <thead>\n",
       "    <tr style=\"text-align: right;\">\n",
       "      <th></th>\n",
       "      <th>reason</th>\n",
       "      <th>apr</th>\n",
       "      <th>novo_response_score</th>\n",
       "      <th>offer_amount</th>\n",
       "      <th>offer_start_at</th>\n",
       "      <th>novo_risk_score</th>\n",
       "      <th>created_at</th>\n",
       "      <th>is_amount_drawn</th>\n",
       "      <th>lending_invitation_file_id</th>\n",
       "      <th>offer_end_at</th>\n",
       "      <th>...</th>\n",
       "      <th>test_key</th>\n",
       "      <th>id</th>\n",
       "      <th>business_id</th>\n",
       "      <th>campaign_id</th>\n",
       "      <th>offer_rejected_at</th>\n",
       "      <th>status</th>\n",
       "      <th>_fivetran_deleted</th>\n",
       "      <th>_fivetran_synced</th>\n",
       "      <th>rnk</th>\n",
       "      <th>rs1_score</th>\n",
       "    </tr>\n",
       "  </thead>\n",
       "  <tbody>\n",
       "    <tr>\n",
       "      <th>0</th>\n",
       "      <td>Application denied - Final Decision (DENIED)</td>\n",
       "      <td>36</td>\n",
       "      <td>779.3468979</td>\n",
       "      <td>920000</td>\n",
       "      <td>2023-01-10</td>\n",
       "      <td>869.1205911</td>\n",
       "      <td>2023-01-10 16:52:04.073000+00:00</td>\n",
       "      <td>False</td>\n",
       "      <td>68fbcaa4-8fab-42dc-88f0-5949a5ebc248</td>\n",
       "      <td>2023-02-10</td>\n",
       "      <td>...</td>\n",
       "      <td>NA</td>\n",
       "      <td>14e86529-d1f0-4603-96c8-78cfa71dc751</td>\n",
       "      <td>7a5b422d-0ee6-4fec-9a34-e49124ab04a9</td>\n",
       "      <td>2</td>\n",
       "      <td>2023-01-10</td>\n",
       "      <td>rejected</td>\n",
       "      <td>None</td>\n",
       "      <td>2023-05-06 03:32:15.501000+00:00</td>\n",
       "      <td>1</td>\n",
       "      <td>869.1205911</td>\n",
       "    </tr>\n",
       "    <tr>\n",
       "      <th>1</th>\n",
       "      <td>N/A</td>\n",
       "      <td>36</td>\n",
       "      <td>373.286189</td>\n",
       "      <td>180000</td>\n",
       "      <td>2023-04-25</td>\n",
       "      <td>582.8024286</td>\n",
       "      <td>2023-04-25 08:44:51.613000+00:00</td>\n",
       "      <td>False</td>\n",
       "      <td>941d9b97-3f27-4bfa-8d63-079bae9511ca</td>\n",
       "      <td>2023-05-25</td>\n",
       "      <td>...</td>\n",
       "      <td>NA</td>\n",
       "      <td>4f26dc61-6f7f-44c8-a305-094dcd4fa9d1</td>\n",
       "      <td>b55322f3-03e7-43c2-9178-a06e8b331133</td>\n",
       "      <td>46</td>\n",
       "      <td>None</td>\n",
       "      <td>active</td>\n",
       "      <td>None</td>\n",
       "      <td>2023-05-06 03:32:18.005000+00:00</td>\n",
       "      <td>1</td>\n",
       "      <td>582.8024286</td>\n",
       "    </tr>\n",
       "    <tr>\n",
       "      <th>2</th>\n",
       "      <td>Invitation Expired by the system</td>\n",
       "      <td>36</td>\n",
       "      <td>365.7594767</td>\n",
       "      <td>560000</td>\n",
       "      <td>2023-04-12</td>\n",
       "      <td>978.0460709</td>\n",
       "      <td>2023-04-12 11:28:41.368000+00:00</td>\n",
       "      <td>False</td>\n",
       "      <td>761ac08a-c4da-4fcd-b3f3-16226a37bb5f</td>\n",
       "      <td>2023-05-12</td>\n",
       "      <td>...</td>\n",
       "      <td>NA</td>\n",
       "      <td>649364a9-5e02-42e7-82e3-fb387c41e7ae</td>\n",
       "      <td>919bc116-3ae1-44e5-b7dd-a2ffe0315241</td>\n",
       "      <td>40</td>\n",
       "      <td>None</td>\n",
       "      <td>expired</td>\n",
       "      <td>None</td>\n",
       "      <td>2023-05-13 07:12:40.220000+00:00</td>\n",
       "      <td>1</td>\n",
       "      <td>978.0460709</td>\n",
       "    </tr>\n",
       "    <tr>\n",
       "      <th>3</th>\n",
       "      <td>Application denied - Final Decision (DENIED)</td>\n",
       "      <td>36</td>\n",
       "      <td>668.4422225</td>\n",
       "      <td>590000</td>\n",
       "      <td>2023-02-03</td>\n",
       "      <td>844.4072022</td>\n",
       "      <td>2023-02-03 14:26:50.833000+00:00</td>\n",
       "      <td>False</td>\n",
       "      <td>3bcca038-7077-4642-a6e7-9bc9b87bb848</td>\n",
       "      <td>2023-03-05</td>\n",
       "      <td>...</td>\n",
       "      <td>NA</td>\n",
       "      <td>cda26e01-ff51-4229-9a4c-3a6a0c3848b6</td>\n",
       "      <td>a68d9411-c07f-47a8-a347-b6fd80d815b2</td>\n",
       "      <td>12</td>\n",
       "      <td>2023-02-10</td>\n",
       "      <td>rejected</td>\n",
       "      <td>None</td>\n",
       "      <td>2023-05-06 03:32:16.110000+00:00</td>\n",
       "      <td>1</td>\n",
       "      <td>844.4072022</td>\n",
       "    </tr>\n",
       "    <tr>\n",
       "      <th>4</th>\n",
       "      <td>Invalid Data: START_DATE, END_DATE,</td>\n",
       "      <td>36</td>\n",
       "      <td>507.7478426</td>\n",
       "      <td>1000000</td>\n",
       "      <td>None</td>\n",
       "      <td>718.2779645</td>\n",
       "      <td>2023-03-13 14:13:11.215000+00:00</td>\n",
       "      <td>False</td>\n",
       "      <td>1043ecfd-dda8-446f-b528-2613d365acb8</td>\n",
       "      <td>None</td>\n",
       "      <td>...</td>\n",
       "      <td>Etsy</td>\n",
       "      <td>648822f9-c776-4891-a244-e8b9c0ff5dea</td>\n",
       "      <td>2c1d6518-1f35-4de0-8269-941388381acc</td>\n",
       "      <td>27</td>\n",
       "      <td>None</td>\n",
       "      <td>error</td>\n",
       "      <td>None</td>\n",
       "      <td>2023-05-06 03:32:16.340000+00:00</td>\n",
       "      <td>1</td>\n",
       "      <td>718.2779645</td>\n",
       "    </tr>\n",
       "  </tbody>\n",
       "</table>\n",
       "<p>5 rows × 24 columns</p>\n",
       "</div>"
      ],
      "text/plain": [
       "                                         reason apr novo_response_score  \\\n",
       "0  Application denied - Final Decision (DENIED)  36         779.3468979   \n",
       "1                                           N/A  36          373.286189   \n",
       "2              Invitation Expired by the system  36         365.7594767   \n",
       "3  Application denied - Final Decision (DENIED)  36         668.4422225   \n",
       "4          Invalid Data: START_DATE, END_DATE,   36         507.7478426   \n",
       "\n",
       "   offer_amount offer_start_at novo_risk_score  \\\n",
       "0        920000     2023-01-10     869.1205911   \n",
       "1        180000     2023-04-25     582.8024286   \n",
       "2        560000     2023-04-12     978.0460709   \n",
       "3        590000     2023-02-03     844.4072022   \n",
       "4       1000000           None     718.2779645   \n",
       "\n",
       "                        created_at  is_amount_drawn  \\\n",
       "0 2023-01-10 16:52:04.073000+00:00            False   \n",
       "1 2023-04-25 08:44:51.613000+00:00            False   \n",
       "2 2023-04-12 11:28:41.368000+00:00            False   \n",
       "3 2023-02-03 14:26:50.833000+00:00            False   \n",
       "4 2023-03-13 14:13:11.215000+00:00            False   \n",
       "\n",
       "             lending_invitation_file_id offer_end_at  ... test_key  \\\n",
       "0  68fbcaa4-8fab-42dc-88f0-5949a5ebc248   2023-02-10  ...       NA   \n",
       "1  941d9b97-3f27-4bfa-8d63-079bae9511ca   2023-05-25  ...       NA   \n",
       "2  761ac08a-c4da-4fcd-b3f3-16226a37bb5f   2023-05-12  ...       NA   \n",
       "3  3bcca038-7077-4642-a6e7-9bc9b87bb848   2023-03-05  ...       NA   \n",
       "4  1043ecfd-dda8-446f-b528-2613d365acb8         None  ...     Etsy   \n",
       "\n",
       "                                     id                           business_id  \\\n",
       "0  14e86529-d1f0-4603-96c8-78cfa71dc751  7a5b422d-0ee6-4fec-9a34-e49124ab04a9   \n",
       "1  4f26dc61-6f7f-44c8-a305-094dcd4fa9d1  b55322f3-03e7-43c2-9178-a06e8b331133   \n",
       "2  649364a9-5e02-42e7-82e3-fb387c41e7ae  919bc116-3ae1-44e5-b7dd-a2ffe0315241   \n",
       "3  cda26e01-ff51-4229-9a4c-3a6a0c3848b6  a68d9411-c07f-47a8-a347-b6fd80d815b2   \n",
       "4  648822f9-c776-4891-a244-e8b9c0ff5dea  2c1d6518-1f35-4de0-8269-941388381acc   \n",
       "\n",
       "  campaign_id offer_rejected_at    status _fivetran_deleted  \\\n",
       "0           2        2023-01-10  rejected              None   \n",
       "1          46              None    active              None   \n",
       "2          40              None   expired              None   \n",
       "3          12        2023-02-10  rejected              None   \n",
       "4          27              None     error              None   \n",
       "\n",
       "                  _fivetran_synced rnk    rs1_score  \n",
       "0 2023-05-06 03:32:15.501000+00:00   1  869.1205911  \n",
       "1 2023-05-06 03:32:18.005000+00:00   1  582.8024286  \n",
       "2 2023-05-13 07:12:40.220000+00:00   1  978.0460709  \n",
       "3 2023-05-06 03:32:16.110000+00:00   1  844.4072022  \n",
       "4 2023-05-06 03:32:16.340000+00:00   1  718.2779645  \n",
       "\n",
       "[5 rows x 24 columns]"
      ]
     },
     "execution_count": 50,
     "metadata": {},
     "output_type": "execute_result"
    }
   ],
   "source": [
    "ddf2.head()"
   ]
  },
  {
   "cell_type": "code",
   "execution_count": 51,
   "metadata": {},
   "outputs": [],
   "source": [
    "ddf2 = ddf2[['business_id','rs1_score']]"
   ]
  },
  {
   "cell_type": "code",
   "execution_count": 52,
   "metadata": {},
   "outputs": [],
   "source": [
    "def rs1_bin(x):\n",
    "    try: x = float(x)\n",
    "    except: x = np.nan\n",
    "    if x >= 656:\n",
    "        return 5\n",
    "    if x >= 545:\n",
    "        return 4\n",
    "    if x >= 489:\n",
    "        return 3\n",
    "    if x >= 443:\n",
    "        return 2\n",
    "    return 1"
   ]
  },
  {
   "cell_type": "code",
   "execution_count": 53,
   "metadata": {},
   "outputs": [],
   "source": [
    "ddf2['rs1_bin'] = ddf2['rs1_score'].apply(lambda x: rs1_bin(x))"
   ]
  },
  {
   "cell_type": "code",
   "execution_count": 54,
   "metadata": {},
   "outputs": [
    {
     "data": {
      "text/plain": [
       "5    36674\n",
       "4     8050\n",
       "3      451\n",
       "1      272\n",
       "2      263\n",
       "Name: rs1_bin, dtype: int64"
      ]
     },
     "execution_count": 54,
     "metadata": {},
     "output_type": "execute_result"
    }
   ],
   "source": [
    "ddf2['rs1_bin'].value_counts()"
   ]
  },
  {
   "cell_type": "code",
   "execution_count": 55,
   "metadata": {},
   "outputs": [],
   "source": [
    "df0 = df.merge(ddf,how='left',left_on = 'business_id',right_on='business_id')\n",
    "rdf = df0.merge(ddf2,how='left',left_on = 'business_id',right_on='business_id')"
   ]
  },
  {
   "cell_type": "code",
   "execution_count": 56,
   "metadata": {},
   "outputs": [
    {
     "data": {
      "text/html": [
       "<div>\n",
       "<style scoped>\n",
       "    .dataframe tbody tr th:only-of-type {\n",
       "        vertical-align: middle;\n",
       "    }\n",
       "\n",
       "    .dataframe tbody tr th {\n",
       "        vertical-align: top;\n",
       "    }\n",
       "\n",
       "    .dataframe thead th {\n",
       "        text-align: right;\n",
       "    }\n",
       "</style>\n",
       "<table border=\"1\" class=\"dataframe\">\n",
       "  <thead>\n",
       "    <tr style=\"text-align: right;\">\n",
       "      <th></th>\n",
       "      <th>business_id</th>\n",
       "      <th>due_date</th>\n",
       "      <th>DPD_plus_3</th>\n",
       "      <th>DPD_plus_15</th>\n",
       "      <th>DPD_plus_30</th>\n",
       "      <th>emi_no</th>\n",
       "      <th>DPD_plus_15_next</th>\n",
       "      <th>rs2_bin</th>\n",
       "      <th>rs2_score</th>\n",
       "      <th>fico_score</th>\n",
       "      <th>rs1_score</th>\n",
       "      <th>rs1_bin</th>\n",
       "    </tr>\n",
       "  </thead>\n",
       "  <tbody>\n",
       "    <tr>\n",
       "      <th>0</th>\n",
       "      <td>1e1e434d-3b59-4ca1-b753-cb4f127cce97</td>\n",
       "      <td>2023-05-04</td>\n",
       "      <td>0</td>\n",
       "      <td>0</td>\n",
       "      <td>0</td>\n",
       "      <td>1</td>\n",
       "      <td>0.0</td>\n",
       "      <td>4</td>\n",
       "      <td>613.0</td>\n",
       "      <td>740</td>\n",
       "      <td>633.219822</td>\n",
       "      <td>4</td>\n",
       "    </tr>\n",
       "    <tr>\n",
       "      <th>1</th>\n",
       "      <td>ff0aa54b-e339-445e-8e7d-571b43909509</td>\n",
       "      <td>2023-05-04</td>\n",
       "      <td>0</td>\n",
       "      <td>0</td>\n",
       "      <td>0</td>\n",
       "      <td>1</td>\n",
       "      <td>0.0</td>\n",
       "      <td>3</td>\n",
       "      <td>599.0</td>\n",
       "      <td>772</td>\n",
       "      <td>726.8394453</td>\n",
       "      <td>5</td>\n",
       "    </tr>\n",
       "    <tr>\n",
       "      <th>2</th>\n",
       "      <td>bcb6904e-8688-4f2c-89b5-4b480ef6484e</td>\n",
       "      <td>2023-05-04</td>\n",
       "      <td>0</td>\n",
       "      <td>0</td>\n",
       "      <td>0</td>\n",
       "      <td>1</td>\n",
       "      <td>0.0</td>\n",
       "      <td>4</td>\n",
       "      <td>655.0</td>\n",
       "      <td>780</td>\n",
       "      <td>698.4256213</td>\n",
       "      <td>5</td>\n",
       "    </tr>\n",
       "    <tr>\n",
       "      <th>3</th>\n",
       "      <td>a4c275ca-dfd1-4e09-bfe7-9016e7206514</td>\n",
       "      <td>2023-05-04</td>\n",
       "      <td>0</td>\n",
       "      <td>0</td>\n",
       "      <td>0</td>\n",
       "      <td>1</td>\n",
       "      <td>0.0</td>\n",
       "      <td>5</td>\n",
       "      <td>818.0</td>\n",
       "      <td>801</td>\n",
       "      <td>885.4446325</td>\n",
       "      <td>5</td>\n",
       "    </tr>\n",
       "    <tr>\n",
       "      <th>4</th>\n",
       "      <td>0e04e84c-edcc-4809-92b3-4e8ba5a8c7e5</td>\n",
       "      <td>2023-05-04</td>\n",
       "      <td>0</td>\n",
       "      <td>0</td>\n",
       "      <td>0</td>\n",
       "      <td>1</td>\n",
       "      <td>0.0</td>\n",
       "      <td>5</td>\n",
       "      <td>998.0</td>\n",
       "      <td>737</td>\n",
       "      <td>925.3730837</td>\n",
       "      <td>5</td>\n",
       "    </tr>\n",
       "  </tbody>\n",
       "</table>\n",
       "</div>"
      ],
      "text/plain": [
       "                            business_id   due_date  DPD_plus_3  DPD_plus_15  \\\n",
       "0  1e1e434d-3b59-4ca1-b753-cb4f127cce97 2023-05-04           0            0   \n",
       "1  ff0aa54b-e339-445e-8e7d-571b43909509 2023-05-04           0            0   \n",
       "2  bcb6904e-8688-4f2c-89b5-4b480ef6484e 2023-05-04           0            0   \n",
       "3  a4c275ca-dfd1-4e09-bfe7-9016e7206514 2023-05-04           0            0   \n",
       "4  0e04e84c-edcc-4809-92b3-4e8ba5a8c7e5 2023-05-04           0            0   \n",
       "\n",
       "   DPD_plus_30  emi_no  DPD_plus_15_next rs2_bin  rs2_score fico_score  \\\n",
       "0            0       1               0.0       4      613.0        740   \n",
       "1            0       1               0.0       3      599.0        772   \n",
       "2            0       1               0.0       4      655.0        780   \n",
       "3            0       1               0.0       5      818.0        801   \n",
       "4            0       1               0.0       5      998.0        737   \n",
       "\n",
       "     rs1_score  rs1_bin  \n",
       "0   633.219822        4  \n",
       "1  726.8394453        5  \n",
       "2  698.4256213        5  \n",
       "3  885.4446325        5  \n",
       "4  925.3730837        5  "
      ]
     },
     "execution_count": 56,
     "metadata": {},
     "output_type": "execute_result"
    }
   ],
   "source": [
    "rdf.head()"
   ]
  },
  {
   "cell_type": "code",
   "execution_count": 57,
   "metadata": {},
   "outputs": [
    {
     "data": {
      "text/plain": [
       "(5314, 12)"
      ]
     },
     "execution_count": 57,
     "metadata": {},
     "output_type": "execute_result"
    }
   ],
   "source": [
    "rdf.shape"
   ]
  },
  {
   "cell_type": "code",
   "execution_count": 58,
   "metadata": {},
   "outputs": [
    {
     "data": {
      "text/plain": [
       "5    4636\n",
       "4     368\n",
       "1     181\n",
       "3      92\n",
       "2      37\n",
       "Name: rs1_bin, dtype: int64"
      ]
     },
     "execution_count": 58,
     "metadata": {},
     "output_type": "execute_result"
    }
   ],
   "source": [
    "rdf['rs1_bin'].value_counts()"
   ]
  },
  {
   "cell_type": "code",
   "execution_count": 59,
   "metadata": {},
   "outputs": [
    {
     "data": {
      "text/plain": [
       "5    2119\n",
       "3    1354\n",
       "4    1215\n",
       "2     395\n",
       "1     231\n",
       "Name: rs2_bin, dtype: int64"
      ]
     },
     "execution_count": 59,
     "metadata": {},
     "output_type": "execute_result"
    }
   ],
   "source": [
    "rdf['rs2_bin'].value_counts()"
   ]
  },
  {
   "cell_type": "code",
   "execution_count": 60,
   "metadata": {},
   "outputs": [
    {
     "data": {
      "text/plain": [
       "1    2228\n",
       "2    1666\n",
       "3    1074\n",
       "4     346\n",
       "Name: emi_no, dtype: int64"
      ]
     },
     "execution_count": 60,
     "metadata": {},
     "output_type": "execute_result"
    }
   ],
   "source": [
    "rdf['emi_no'].value_counts()"
   ]
  },
  {
   "cell_type": "code",
   "execution_count": 61,
   "metadata": {},
   "outputs": [],
   "source": [
    "# rdf.to_pickle('/Users/shashankgupta/Documents/code/git_project/redec/re_decisioning/data/new_DPD_dataset.pkl')"
   ]
  },
  {
   "cell_type": "code",
   "execution_count": null,
   "metadata": {},
   "outputs": [],
   "source": []
  },
  {
   "cell_type": "code",
   "execution_count": null,
   "metadata": {},
   "outputs": [],
   "source": []
  },
  {
   "cell_type": "code",
   "execution_count": null,
   "metadata": {},
   "outputs": [],
   "source": []
  },
  {
   "cell_type": "code",
   "execution_count": 62,
   "metadata": {},
   "outputs": [],
   "source": [
    "pd.crosstab(rdf['rs1_bin'],rdf['DPD_plus_15_next']).to_clipboard()"
   ]
  },
  {
   "cell_type": "code",
   "execution_count": 63,
   "metadata": {},
   "outputs": [
    {
     "data": {
      "text/html": [
       "<div>\n",
       "<style scoped>\n",
       "    .dataframe tbody tr th:only-of-type {\n",
       "        vertical-align: middle;\n",
       "    }\n",
       "\n",
       "    .dataframe tbody tr th {\n",
       "        vertical-align: top;\n",
       "    }\n",
       "\n",
       "    .dataframe thead th {\n",
       "        text-align: right;\n",
       "    }\n",
       "</style>\n",
       "<table border=\"1\" class=\"dataframe\">\n",
       "  <thead>\n",
       "    <tr style=\"text-align: right;\">\n",
       "      <th>DPD_plus_15_next</th>\n",
       "      <th>0.0</th>\n",
       "      <th>1.0</th>\n",
       "    </tr>\n",
       "    <tr>\n",
       "      <th>rs2_bin</th>\n",
       "      <th></th>\n",
       "      <th></th>\n",
       "    </tr>\n",
       "  </thead>\n",
       "  <tbody>\n",
       "    <tr>\n",
       "      <th>1</th>\n",
       "      <td>195</td>\n",
       "      <td>36</td>\n",
       "    </tr>\n",
       "    <tr>\n",
       "      <th>2</th>\n",
       "      <td>363</td>\n",
       "      <td>32</td>\n",
       "    </tr>\n",
       "    <tr>\n",
       "      <th>3</th>\n",
       "      <td>1297</td>\n",
       "      <td>57</td>\n",
       "    </tr>\n",
       "    <tr>\n",
       "      <th>4</th>\n",
       "      <td>1184</td>\n",
       "      <td>31</td>\n",
       "    </tr>\n",
       "    <tr>\n",
       "      <th>5</th>\n",
       "      <td>2088</td>\n",
       "      <td>31</td>\n",
       "    </tr>\n",
       "  </tbody>\n",
       "</table>\n",
       "</div>"
      ],
      "text/plain": [
       "DPD_plus_15_next   0.0  1.0\n",
       "rs2_bin                    \n",
       "1                  195   36\n",
       "2                  363   32\n",
       "3                 1297   57\n",
       "4                 1184   31\n",
       "5                 2088   31"
      ]
     },
     "execution_count": 63,
     "metadata": {},
     "output_type": "execute_result"
    }
   ],
   "source": [
    "pd.crosstab(rdf['rs2_bin'],rdf['DPD_plus_15_next'])"
   ]
  },
  {
   "cell_type": "code",
   "execution_count": null,
   "metadata": {},
   "outputs": [],
   "source": []
  },
  {
   "cell_type": "code",
   "execution_count": null,
   "metadata": {},
   "outputs": [],
   "source": []
  }
 ],
 "metadata": {
  "kernelspec": {
   "display_name": "Python 3.10.5 64-bit",
   "language": "python",
   "name": "python3"
  },
  "language_info": {
   "codemirror_mode": {
    "name": "ipython",
    "version": 3
   },
   "file_extension": ".py",
   "mimetype": "text/x-python",
   "name": "python",
   "nbconvert_exporter": "python",
   "pygments_lexer": "ipython3",
   "version": "3.10.5"
  },
  "orig_nbformat": 4,
  "vscode": {
   "interpreter": {
    "hash": "aee8b7b246df8f9039afb4144a1f6fd8d2ca17a180786b69acc140d282b71a49"
   }
  }
 },
 "nbformat": 4,
 "nbformat_minor": 2
}
